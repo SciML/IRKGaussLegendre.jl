{
 "cells": [
  {
   "cell_type": "markdown",
   "metadata": {},
   "source": [
    "# Pleiades Work-Precision Diagrams\n",
    "### Chris Rackauckas"
   ]
  },
  {
   "cell_type": "code",
   "execution_count": null,
   "metadata": {},
   "outputs": [],
   "source": [
    "using OrdinaryDiffEq\n",
    "#, ODE, ODEInterfaceDiffEq, LSODA, Sundials, DiffEqDevTools"
   ]
  },
  {
   "cell_type": "code",
   "execution_count": null,
   "metadata": {},
   "outputs": [],
   "source": [
    "f = (du,u,p,t) -> begin\n",
    "  @inbounds begin\n",
    "  x = view(u,1:7)   # x\n",
    "  y = view(u,8:14)  # y\n",
    "  v = view(u,15:21) # x′\n",
    "  w = view(u,22:28) # y′\n",
    "  du[1:7] .= v\n",
    "  du[8:14].= w\n",
    "  for i in 14:28\n",
    "    du[i] = zero(u[1])\n",
    "  end\n",
    "  for i=1:7,j=1:7\n",
    "    if i != j\n",
    "      r = ((x[i]-x[j])^2 + (y[i] - y[j])^2)^(3/2)\n",
    "      du[14+i] += j*(x[j] - x[i])/r\n",
    "      du[21+i] += j*(y[j] - y[i])/r\n",
    "    end\n",
    "  end\n",
    "  end\n",
    "end\n",
    "\n",
    "prob = ODEProblem(f,[3.0,3.0,-1.0,-3.0,2.0,-2.0,2.0,3.0,-3.0,2.0,0,0,-4.0,4.0,0,0,0,0,0,1.75,-1.5,0,0,0,-1.25,1,0,0],(0.0,3.0))\n",
    "\n",
    "abstols = 1.0 ./ 10.0 .^ (6:9)\n",
    "reltols = 1.0 ./ 10.0 .^ (3:6);\n",
    "\n",
    "using Plots; gr()"
   ]
  },
  {
   "cell_type": "code",
   "execution_count": null,
   "metadata": {},
   "outputs": [],
   "source": [
    "sol = solve(prob,Vern8(),abstol=1/10^12,reltol=1/10^10,maxiters=1000000)\n",
    "test_sol = TestSolution(sol);\n",
    "plot(sol)"
   ]
  },
  {
   "cell_type": "markdown",
   "metadata": {},
   "source": [
    "## Low Order\n",
    "\n",
    "ODE.jl had to be discarded. The error estimate is off since it throws errors and aborts and so that artificially lowers the error the the time is serverly diminished."
   ]
  },
  {
   "cell_type": "code",
   "execution_count": null,
   "metadata": {},
   "outputs": [],
   "source": [
    "#setups = [Dict(:alg=>ode45())]\n",
    "#wp = WorkPrecisionSet(prob,abstols,reltols,setups;appxsol=test_sol,save_everystep=false,numruns=100,maxiters=10000)\n",
    "#plot(wp)"
   ]
  },
  {
   "cell_type": "code",
   "execution_count": null,
   "metadata": {},
   "outputs": [],
   "source": [
    "setups = [Dict(:alg=>DP5())\n",
    "          Dict(:alg=>dopri5())\n",
    "          Dict(:alg=>Tsit5())\n",
    "          Dict(:alg=>Vern6())\n",
    "]\n",
    "wp = WorkPrecisionSet(prob,abstols,reltols,setups;appxsol=test_sol,save_everystep=false,numruns=100,maxiters=10000)\n",
    "plot(wp)"
   ]
  },
  {
   "cell_type": "markdown",
   "metadata": {},
   "source": [
    "### Interpolation"
   ]
  },
  {
   "cell_type": "code",
   "execution_count": null,
   "metadata": {},
   "outputs": [],
   "source": [
    "setups = [Dict(:alg=>DP5())\n",
    "          Dict(:alg=>Tsit5())\n",
    "          Dict(:alg=>Vern6())\n",
    "]\n",
    "wp = WorkPrecisionSet(prob,abstols,reltols,setups;appxsol=test_sol,numruns=100,maxiters=10000,error_estimate=:L2,dense_errors=true)\n",
    "plot(wp)"
   ]
  },
  {
   "cell_type": "markdown",
   "metadata": {},
   "source": [
    "## Higher Order\n",
    "\n",
    "Once again ODE.jl had to be discarded since it errors."
   ]
  },
  {
   "cell_type": "code",
   "execution_count": null,
   "metadata": {},
   "outputs": [],
   "source": [
    "#setups = [Dict(:alg=>ode78())]\n",
    "#wp = WorkPrecisionSet(prob,abstols,reltols,setups;appxsol=test_sol,save_everystep=false,numruns=100,maxiters=1000)\n",
    "#plot(wp)"
   ]
  },
  {
   "cell_type": "code",
   "execution_count": null,
   "metadata": {},
   "outputs": [],
   "source": [
    "setups = [Dict(:alg=>DP8())\n",
    "          Dict(:alg=>Vern7())\n",
    "          Dict(:alg=>Vern8())\n",
    "          Dict(:alg=>dop853())\n",
    "          Dict(:alg=>Vern6())\n",
    "]\n",
    "wp = WorkPrecisionSet(prob,abstols,reltols,setups;appxsol=test_sol,save_everystep=false,numruns=100,maxiters=1000)\n",
    "plot(wp)"
   ]
  },
  {
   "cell_type": "code",
   "execution_count": null,
   "metadata": {},
   "outputs": [],
   "source": [
    "setups = [Dict(:alg=>odex())\n",
    "          Dict(:alg=>Vern7())\n",
    "          Dict(:alg=>CVODE_Adams())\n",
    "          Dict(:alg=>lsoda())\n",
    "          Dict(:alg=>Vern6())\n",
    "          Dict(:alg=>Tsit5())\n",
    "          Dict(:alg=>ddeabm())\n",
    "          Dict(:alg=>ARKODE(Sundials.Explicit(),order=6))\n",
    "]\n",
    "wp = WorkPrecisionSet(prob,abstols,reltols,setups;appxsol=test_sol,save_everystep=false,numruns=20)\n",
    "plot(wp)"
   ]
  },
  {
   "cell_type": "markdown",
   "metadata": {},
   "source": [
    "### Interpolations"
   ]
  },
  {
   "cell_type": "code",
   "execution_count": null,
   "metadata": {},
   "outputs": [],
   "source": [
    "setups = [Dict(:alg=>DP8())\n",
    "          Dict(:alg=>Vern7())\n",
    "          Dict(:alg=>Vern8())\n",
    "          Dict(:alg=>Vern6())\n",
    "]\n",
    "wp = WorkPrecisionSet(prob,abstols,reltols,setups;appxsol=test_sol,numruns=100,maxiters=1000,error_estimate=:L2,dense_errors=true)\n",
    "plot(wp)"
   ]
  },
  {
   "cell_type": "markdown",
   "metadata": {},
   "source": [
    "## Comparison with Non-RK methods\n",
    "\n",
    "Now let's test Tsit5 and Vern9 against parallel extrapolation methods and an\n",
    "Adams-Bashforth-Moulton:"
   ]
  },
  {
   "cell_type": "code",
   "execution_count": null,
   "metadata": {},
   "outputs": [],
   "source": [
    "setups = [Dict(:alg=>Tsit5())\n",
    "          Dict(:alg=>Vern9())\n",
    "          Dict(:alg=>VCABM())\n",
    "          Dict(:alg=>AitkenNeville(min_order=1, max_order=9, init_order=4, threading=true))\n",
    "          Dict(:alg=>ExtrapolationMidpointDeuflhard(min_order=1, max_order=9, init_order=4, threading=true))\n",
    "          Dict(:alg=>ExtrapolationMidpointHairerWanner(min_order=2, max_order=11, init_order=4, threading=true))]\n",
    "solnames = [\"Tsit5\",\"Vern9\",\"VCABM\",\"AitkenNeville\",\"Midpoint Deuflhard\",\"Midpoint Hairer Wanner\"]\n",
    "wp = WorkPrecisionSet(prob,abstols,reltols,setups;appxsol=test_sol,names=solnames,\n",
    "                      save_everystep=false,verbose=false,numruns=100)\n",
    "plot(wp)"
   ]
  },
  {
   "cell_type": "code",
   "execution_count": null,
   "metadata": {},
   "outputs": [],
   "source": [
    "setups = [Dict(:alg=>ExtrapolationMidpointDeuflhard(min_order=1, max_order=9, init_order=9, threading=false))\n",
    "          Dict(:alg=>ExtrapolationMidpointHairerWanner(min_order=2, max_order=11, init_order=4, threading=false))\n",
    "          Dict(:alg=>ExtrapolationMidpointHairerWanner(min_order=2, max_order=11, init_order=4, threading=true))\n",
    "          Dict(:alg=>ExtrapolationMidpointHairerWanner(min_order=2, max_order=11, init_order=4, sequence = :romberg, threading=true))\n",
    "          Dict(:alg=>ExtrapolationMidpointHairerWanner(min_order=2, max_order=11, init_order=4, sequence = :bulirsch, threading=true))]\n",
    "solnames = [\"Deuflhard\",\"No threads\",\"standard\",\"Romberg\",\"Bulirsch\"]\n",
    "wp = WorkPrecisionSet(prob,abstols,reltols,setups;appxsol=test_sol,names=solnames,\n",
    "                      save_everystep=false,verbose=false,numruns=100)\n",
    "plot(wp)"
   ]
  },
  {
   "cell_type": "code",
   "execution_count": null,
   "metadata": {},
   "outputs": [],
   "source": [
    "setups = [Dict(:alg=>ExtrapolationMidpointHairerWanner(min_order=2, max_order=11, init_order=10, threading=true))\n",
    "          Dict(:alg=>ExtrapolationMidpointHairerWanner(min_order=2, max_order=11, init_order=4, threading=true))\n",
    "          Dict(:alg=>ExtrapolationMidpointHairerWanner(min_order=5, max_order=11, init_order=10, threading=true))\n",
    "          Dict(:alg=>ExtrapolationMidpointHairerWanner(min_order=2, max_order=15, init_order=10, threading=true))\n",
    "          Dict(:alg=>ExtrapolationMidpointHairerWanner(min_order=5, max_order=7, init_order=6, threading=true))]\n",
    "solnames = [\"1\",\"2\",\"3\",\"4\",\"5\"]\n",
    "wp = WorkPrecisionSet(prob,abstols,reltols,setups;appxsol=test_sol,names=solnames,\n",
    "                      save_everystep=false,verbose=false,numruns=100)\n",
    "plot(wp)"
   ]
  },
  {
   "cell_type": "markdown",
   "metadata": {},
   "source": [
    "## Conclusion\n",
    "\n",
    "One big conclusion is that, once again, the ODE.jl algorithms fail to run on difficult problems. Its minimum timestep is essentially machine epsilon, and so this shows some fatal flaws in its timestepping algorithm. The OrdinaryDiffEq.jl algorithms come out as faster in each case than the ODEInterface algorithms. Overall, the Verner methods have a really good showing once again. The `CVODE_Adams` method does really well here when the tolerances are higher."
   ]
  },
  {
   "cell_type": "code",
   "execution_count": null,
   "metadata": {},
   "outputs": [],
   "source": [
    "using DiffEqBenchmarks\n",
    "DiffEqBenchmarks.bench_footer(WEAVE_ARGS[:folder],WEAVE_ARGS[:file])"
   ]
  }
 ],
 "metadata": {
  "kernelspec": {
   "display_name": "Julia 1.3.1",
   "language": "julia",
   "name": "julia-1.3"
  },
  "language_info": {
   "file_extension": ".jl",
   "mimetype": "application/julia",
   "name": "julia",
   "version": "1.3.1"
  }
 },
 "nbformat": 4,
 "nbformat_minor": 2
}
