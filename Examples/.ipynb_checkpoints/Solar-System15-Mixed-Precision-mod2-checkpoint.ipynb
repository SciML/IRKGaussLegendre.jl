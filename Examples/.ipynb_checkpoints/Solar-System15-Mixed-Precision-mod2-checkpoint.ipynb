{
 "cells": [
  {
   "cell_type": "markdown",
   "metadata": {},
   "source": [
    "# Solar-System15-Mixed-Precision"
   ]
  },
  {
   "cell_type": "markdown",
   "metadata": {},
   "source": [
    "<ul id=\"top\">\n",
    "<li><a href=\"#Load-packages\"> \n",
    "             Load Packages</a></li>\n",
    "    \n",
    "<li><a href=\"#Computer-properties\"> \n",
    "             Computer properties</a></li> \n",
    "\n",
    "<li><a href=\"#Initial-value-problem:-Solar-System15\">\n",
    "              Initial value problem: Solar-System15</a></li>\n",
    "\n",
    "<li><a href=\"#Ode-problem\">\n",
    "             Ode problem</a></li>\n",
    " \n",
    "<li><a href=\"#Error-in-energy\">\n",
    "             Error in energy</a></li> \n",
    "\n",
    "<li><a href=\"#Work-Precision-diagrams\">\n",
    "             Work-Precision diagrams</a></li> \n",
    "\n",
    "</ul>  "
   ]
  },
  {
   "cell_type": "markdown",
   "metadata": {},
   "source": [
    "## Load packages"
   ]
  },
  {
   "cell_type": "code",
   "execution_count": 1,
   "metadata": {},
   "outputs": [
    {
     "name": "stderr",
     "output_type": "stream",
     "text": [
      "┌ Info: Precompiling IRKGaussLegendre [58bc7355-f626-4c51-96f2-1f8a038f95a2]\n",
      "└ @ Base loading.jl:1273\n"
     ]
    }
   ],
   "source": [
    "using OrdinaryDiffEq,DiffEqDevTools,BenchmarkTools\n",
    "using IRKGaussLegendre\n",
    "using Plots,LinearAlgebra\n",
    "using Dates\n",
    "using RecursiveArrayTools\n",
    "using JLD2, FileIO"
   ]
  },
  {
   "cell_type": "code",
   "execution_count": 2,
   "metadata": {},
   "outputs": [],
   "source": [
    "setprecision(BigFloat, 108);"
   ]
  },
  {
   "cell_type": "code",
   "execution_count": 3,
   "metadata": {},
   "outputs": [],
   "source": [
    "#plotly()"
   ]
  },
  {
   "cell_type": "markdown",
   "metadata": {},
   "source": [
    "<a href=\"#top\">Back to the top</a>\n",
    "\n",
    "## Computer properties"
   ]
  },
  {
   "cell_type": "code",
   "execution_count": 4,
   "metadata": {},
   "outputs": [
    {
     "data": {
      "text/plain": [
       "1"
      ]
     },
     "execution_count": 4,
     "metadata": {},
     "output_type": "execute_result"
    }
   ],
   "source": [
    "#export JULIA_NUM_THREADS=2\n",
    "Threads.nthreads()"
   ]
  },
  {
   "cell_type": "code",
   "execution_count": 5,
   "metadata": {},
   "outputs": [],
   "source": [
    "#;cat /proc/cpuinfo # on Linux machines"
   ]
  },
  {
   "cell_type": "code",
   "execution_count": 6,
   "metadata": {},
   "outputs": [
    {
     "data": {
      "text/plain": [
       "2"
      ]
     },
     "execution_count": 6,
     "metadata": {},
     "output_type": "execute_result"
    }
   ],
   "source": [
    "using Hwloc\n",
    "Hwloc.num_physical_cores()"
   ]
  },
  {
   "cell_type": "markdown",
   "metadata": {},
   "source": [
    "<a href=\"#top\">Back to the top</a>\n",
    "\n",
    "## Initial value problem: Solar-System15"
   ]
  },
  {
   "cell_type": "code",
   "execution_count": 7,
   "metadata": {},
   "outputs": [],
   "source": [
    "include(\"../examples/Nbody.jl\")\n",
    "include(\"../examples/InitialNBody15.jl\")\n",
    "u0128, Gm128 =InitialNBody15(BigFloat)\n",
    "\n",
    "q0128=u0128[2,:,:]\n",
    "v0128=u0128[1,:,:]\n",
    "\n",
    "dt=5\n",
    "t0=0.0\n",
    "t1=20*dt    #1000.\n",
    "mysaveat=1  #10\n",
    "\n",
    "tspan128=(BigFloat(t0),BigFloat(t1))\n",
    "prob128=ODEProblem(NbodyODE!,u0128,tspan128,Gm128);"
   ]
  },
  {
   "cell_type": "code",
   "execution_count": 8,
   "metadata": {},
   "outputs": [],
   "source": [
    "u064, Gm64 =InitialNBody15(Float64)\n",
    "lpp=Gm64;"
   ]
  },
  {
   "cell_type": "code",
   "execution_count": 9,
   "metadata": {},
   "outputs": [
    {
     "data": {
      "text/plain": [
       "(0.0, 100.0)"
      ]
     },
     "execution_count": 9,
     "metadata": {},
     "output_type": "execute_result"
    }
   ],
   "source": [
    "tspan128"
   ]
  },
  {
   "cell_type": "markdown",
   "metadata": {},
   "source": [
    "<a href=\"#top\">Back to the top</a>\n",
    "\n",
    "## Ode problem"
   ]
  },
  {
   "cell_type": "markdown",
   "metadata": {},
   "source": [
    "### Test solution"
   ]
  },
  {
   "cell_type": "code",
   "execution_count": 10,
   "metadata": {},
   "outputs": [],
   "source": [
    "prob128 = ODEProblem(NbodyODE!,u0128,tspan128,Gm128,;lpp=lpp);\n",
    "#sol =solve(prob128,Vern9(),saveat=mysaveat,abstol=1e-24,reltol=1e-24,maxiters=100000);\n",
    "#@save \"./Data/solarsystem15small_test_solF128.jld2\" sol\n",
    "@load \"./Data/solarsystem15small_test_solF128.jld2\" sol\n",
    "test_sol = TestSolution(sol);"
   ]
  },
  {
   "cell_type": "markdown",
   "metadata": {},
   "source": [
    "### IRKGL16 (Fixed-Step)"
   ]
  },
  {
   "cell_type": "code",
   "execution_count": 11,
   "metadata": {},
   "outputs": [
    {
     "data": {
      "text/plain": [
       "DiffEqBase.DEStats\n",
       "Number of function 1 evaluations:                  3411\n",
       "Number of function 2 evaluations:                  0\n",
       "Number of W matrix evaluations:                    0\n",
       "Number of linear solves:                           0\n",
       "Number of Jacobians created:                       0\n",
       "Number of nonlinear solver iterations:             0\n",
       "Number of nonlinear solver convergence failures:   0\n",
       "Number of rootfind condition calls:                0\n",
       "Number of accepted steps:                          20\n",
       "Number of rejected steps:                          0"
      ]
     },
     "execution_count": 11,
     "metadata": {},
     "output_type": "execute_result"
    }
   ],
   "source": [
    "sol1 =solve(prob128,IRKGL16(),dt=dt,saveat=mysaveat,adaptive=false,mixed_precision=false);\n",
    "sol1.destats"
   ]
  },
  {
   "cell_type": "code",
   "execution_count": 12,
   "metadata": {},
   "outputs": [
    {
     "data": {
      "text/plain": [
       "DiffEqBase.DEStats\n",
       "Number of function 1 evaluations:                  2480\n",
       "Number of function 2 evaluations:                  1497\n",
       "Number of W matrix evaluations:                    0\n",
       "Number of linear solves:                           0\n",
       "Number of Jacobians created:                       0\n",
       "Number of nonlinear solver iterations:             0\n",
       "Number of nonlinear solver convergence failures:   0\n",
       "Number of rootfind condition calls:                0\n",
       "Number of accepted steps:                          20\n",
       "Number of rejected steps:                          0"
      ]
     },
     "execution_count": 12,
     "metadata": {},
     "output_type": "execute_result"
    }
   ],
   "source": [
    "sol2 = solve(prob128,IRKGL16(),dt=dt,saveat=mysaveat,adaptive=false,\n",
    "                             mixed_precision=true, low_prec_type=Float64);\n",
    "sol2.destats"
   ]
  },
  {
   "cell_type": "markdown",
   "metadata": {},
   "source": [
    "<a href=\"#top\">Back to the top</a>\n",
    "\n",
    "## Error in energy"
   ]
  },
  {
   "cell_type": "code",
   "execution_count": 13,
   "metadata": {},
   "outputs": [
    {
     "data": {
      "text/plain": [
       "(1.2841041f-27, 2.5345949f-21, 2.5345949f-21)"
      ]
     },
     "execution_count": 13,
     "metadata": {},
     "output_type": "execute_result"
    }
   ],
   "source": [
    "setprecision(BigFloat, 256)\n",
    "u0128, Gm128 =InitialNBody15(BigFloat)\n",
    "E0=NbodyEnergy(u0128,Gm128)\n",
    "\n",
    "ΔE = map(x->NbodyEnergy(BigFloat.(x),Gm128), sol.u)./E0.-1\n",
    "ΔE1 = map(x->NbodyEnergy(BigFloat.(x),Gm128), sol1.u)./E0.-1\n",
    "ΔE2 = map(x->NbodyEnergy(BigFloat.(x),Gm128), sol2.u)./E0.-1\n",
    "\n",
    "(Float32(maximum(abs.(ΔE))),Float32(maximum(abs.(ΔE1))),Float32(maximum(abs.(ΔE2))))"
   ]
  },
  {
   "cell_type": "code",
   "execution_count": 14,
   "metadata": {},
   "outputs": [
    {
     "data": {
      "image/svg+xml": [
       "<?xml version=\"1.0\" encoding=\"utf-8\"?>\n",
       "<svg xmlns=\"http://www.w3.org/2000/svg\" xmlns:xlink=\"http://www.w3.org/1999/xlink\" width=\"600\" height=\"400\" viewBox=\"0 0 2400 1600\">\n",
       "<defs>\n",
       "  <clipPath id=\"clip9200\">\n",
       "    <rect x=\"0\" y=\"0\" width=\"2400\" height=\"1600\"/>\n",
       "  </clipPath>\n",
       "</defs>\n",
       "<path clip-path=\"url(#clip9200)\" d=\"\n",
       "M0 1600 L2400 1600 L2400 0 L0 0  Z\n",
       "  \" fill=\"#ffffff\" fill-rule=\"evenodd\" fill-opacity=\"1\"/>\n",
       "<defs>\n",
       "  <clipPath id=\"clip9201\">\n",
       "    <rect x=\"480\" y=\"0\" width=\"1681\" height=\"1600\"/>\n",
       "  </clipPath>\n",
       "</defs>\n",
       "<path clip-path=\"url(#clip9200)\" d=\"\n",
       "M168.627 1487.47 L2352.76 1487.47 L2352.76 47.2441 L168.627 47.2441  Z\n",
       "  \" fill=\"#ffffff\" fill-rule=\"evenodd\" fill-opacity=\"1\"/>\n",
       "<defs>\n",
       "  <clipPath id=\"clip9202\">\n",
       "    <rect x=\"168\" y=\"47\" width=\"2185\" height=\"1441\"/>\n",
       "  </clipPath>\n",
       "</defs>\n",
       "<polyline clip-path=\"url(#clip9202)\" style=\"stroke:#000000; stroke-width:2; stroke-opacity:0.1; fill:none\" points=\"\n",
       "  230.442,1487.47 230.442,47.2441 \n",
       "  \"/>\n",
       "<polyline clip-path=\"url(#clip9202)\" style=\"stroke:#000000; stroke-width:2; stroke-opacity:0.1; fill:none\" points=\"\n",
       "  745.567,1487.47 745.567,47.2441 \n",
       "  \"/>\n",
       "<polyline clip-path=\"url(#clip9202)\" style=\"stroke:#000000; stroke-width:2; stroke-opacity:0.1; fill:none\" points=\"\n",
       "  1260.69,1487.47 1260.69,47.2441 \n",
       "  \"/>\n",
       "<polyline clip-path=\"url(#clip9202)\" style=\"stroke:#000000; stroke-width:2; stroke-opacity:0.1; fill:none\" points=\"\n",
       "  1775.82,1487.47 1775.82,47.2441 \n",
       "  \"/>\n",
       "<polyline clip-path=\"url(#clip9202)\" style=\"stroke:#000000; stroke-width:2; stroke-opacity:0.1; fill:none\" points=\"\n",
       "  2290.94,1487.47 2290.94,47.2441 \n",
       "  \"/>\n",
       "<polyline clip-path=\"url(#clip9202)\" style=\"stroke:#000000; stroke-width:2; stroke-opacity:0.1; fill:none\" points=\"\n",
       "  168.627,1487.47 2352.76,1487.47 \n",
       "  \"/>\n",
       "<polyline clip-path=\"url(#clip9202)\" style=\"stroke:#000000; stroke-width:2; stroke-opacity:0.1; fill:none\" points=\"\n",
       "  168.627,1247.44 2352.76,1247.44 \n",
       "  \"/>\n",
       "<polyline clip-path=\"url(#clip9202)\" style=\"stroke:#000000; stroke-width:2; stroke-opacity:0.1; fill:none\" points=\"\n",
       "  168.627,1007.4 2352.76,1007.4 \n",
       "  \"/>\n",
       "<polyline clip-path=\"url(#clip9202)\" style=\"stroke:#000000; stroke-width:2; stroke-opacity:0.1; fill:none\" points=\"\n",
       "  168.627,767.359 2352.76,767.359 \n",
       "  \"/>\n",
       "<polyline clip-path=\"url(#clip9202)\" style=\"stroke:#000000; stroke-width:2; stroke-opacity:0.1; fill:none\" points=\"\n",
       "  168.627,527.321 2352.76,527.321 \n",
       "  \"/>\n",
       "<polyline clip-path=\"url(#clip9202)\" style=\"stroke:#000000; stroke-width:2; stroke-opacity:0.1; fill:none\" points=\"\n",
       "  168.627,287.283 2352.76,287.283 \n",
       "  \"/>\n",
       "<polyline clip-path=\"url(#clip9202)\" style=\"stroke:#000000; stroke-width:2; stroke-opacity:0.1; fill:none\" points=\"\n",
       "  168.627,47.2441 2352.76,47.2441 \n",
       "  \"/>\n",
       "<polyline clip-path=\"url(#clip9200)\" style=\"stroke:#000000; stroke-width:4; stroke-opacity:1; fill:none\" points=\"\n",
       "  168.627,1487.47 2352.76,1487.47 \n",
       "  \"/>\n",
       "<polyline clip-path=\"url(#clip9200)\" style=\"stroke:#000000; stroke-width:4; stroke-opacity:1; fill:none\" points=\"\n",
       "  168.627,1487.47 168.627,47.2441 \n",
       "  \"/>\n",
       "<polyline clip-path=\"url(#clip9200)\" style=\"stroke:#000000; stroke-width:4; stroke-opacity:1; fill:none\" points=\"\n",
       "  230.442,1487.47 230.442,1470.19 \n",
       "  \"/>\n",
       "<polyline clip-path=\"url(#clip9200)\" style=\"stroke:#000000; stroke-width:4; stroke-opacity:1; fill:none\" points=\"\n",
       "  745.567,1487.47 745.567,1470.19 \n",
       "  \"/>\n",
       "<polyline clip-path=\"url(#clip9200)\" style=\"stroke:#000000; stroke-width:4; stroke-opacity:1; fill:none\" points=\"\n",
       "  1260.69,1487.47 1260.69,1470.19 \n",
       "  \"/>\n",
       "<polyline clip-path=\"url(#clip9200)\" style=\"stroke:#000000; stroke-width:4; stroke-opacity:1; fill:none\" points=\"\n",
       "  1775.82,1487.47 1775.82,1470.19 \n",
       "  \"/>\n",
       "<polyline clip-path=\"url(#clip9200)\" style=\"stroke:#000000; stroke-width:4; stroke-opacity:1; fill:none\" points=\"\n",
       "  2290.94,1487.47 2290.94,1470.19 \n",
       "  \"/>\n",
       "<polyline clip-path=\"url(#clip9200)\" style=\"stroke:#000000; stroke-width:4; stroke-opacity:1; fill:none\" points=\"\n",
       "  168.627,1487.47 194.836,1487.47 \n",
       "  \"/>\n",
       "<polyline clip-path=\"url(#clip9200)\" style=\"stroke:#000000; stroke-width:4; stroke-opacity:1; fill:none\" points=\"\n",
       "  168.627,1247.44 194.836,1247.44 \n",
       "  \"/>\n",
       "<polyline clip-path=\"url(#clip9200)\" style=\"stroke:#000000; stroke-width:4; stroke-opacity:1; fill:none\" points=\"\n",
       "  168.627,1007.4 194.836,1007.4 \n",
       "  \"/>\n",
       "<polyline clip-path=\"url(#clip9200)\" style=\"stroke:#000000; stroke-width:4; stroke-opacity:1; fill:none\" points=\"\n",
       "  168.627,767.359 194.836,767.359 \n",
       "  \"/>\n",
       "<polyline clip-path=\"url(#clip9200)\" style=\"stroke:#000000; stroke-width:4; stroke-opacity:1; fill:none\" points=\"\n",
       "  168.627,527.321 194.836,527.321 \n",
       "  \"/>\n",
       "<polyline clip-path=\"url(#clip9200)\" style=\"stroke:#000000; stroke-width:4; stroke-opacity:1; fill:none\" points=\"\n",
       "  168.627,287.283 194.836,287.283 \n",
       "  \"/>\n",
       "<polyline clip-path=\"url(#clip9200)\" style=\"stroke:#000000; stroke-width:4; stroke-opacity:1; fill:none\" points=\"\n",
       "  168.627,47.2441 194.836,47.2441 \n",
       "  \"/>\n",
       "<g clip-path=\"url(#clip9200)\">\n",
       "<text style=\"fill:#000000; fill-opacity:1; font-family:Arial,Helvetica Neue,Helvetica,sans-serif; font-size:48px; text-anchor:middle;\" transform=\"rotate(0, 230.442, 1541.47)\" x=\"230.442\" y=\"1541.47\">0</text>\n",
       "</g>\n",
       "<g clip-path=\"url(#clip9200)\">\n",
       "<text style=\"fill:#000000; fill-opacity:1; font-family:Arial,Helvetica Neue,Helvetica,sans-serif; font-size:48px; text-anchor:middle;\" transform=\"rotate(0, 745.567, 1541.47)\" x=\"745.567\" y=\"1541.47\">25</text>\n",
       "</g>\n",
       "<g clip-path=\"url(#clip9200)\">\n",
       "<text style=\"fill:#000000; fill-opacity:1; font-family:Arial,Helvetica Neue,Helvetica,sans-serif; font-size:48px; text-anchor:middle;\" transform=\"rotate(0, 1260.69, 1541.47)\" x=\"1260.69\" y=\"1541.47\">50</text>\n",
       "</g>\n",
       "<g clip-path=\"url(#clip9200)\">\n",
       "<text style=\"fill:#000000; fill-opacity:1; font-family:Arial,Helvetica Neue,Helvetica,sans-serif; font-size:48px; text-anchor:middle;\" transform=\"rotate(0, 1775.82, 1541.47)\" x=\"1775.82\" y=\"1541.47\">75</text>\n",
       "</g>\n",
       "<g clip-path=\"url(#clip9200)\">\n",
       "<text style=\"fill:#000000; fill-opacity:1; font-family:Arial,Helvetica Neue,Helvetica,sans-serif; font-size:48px; text-anchor:middle;\" transform=\"rotate(0, 2290.94, 1541.47)\" x=\"2290.94\" y=\"1541.47\">100</text>\n",
       "</g>\n",
       "<g clip-path=\"url(#clip9200)\">\n",
       "<text style=\"fill:#000000; fill-opacity:1; font-family:Arial,Helvetica Neue,Helvetica,sans-serif; font-size:48px; text-anchor:end;\" transform=\"rotate(0, 144.627, 1504.97)\" x=\"144.627\" y=\"1504.97\">-30</text>\n",
       "</g>\n",
       "<g clip-path=\"url(#clip9200)\">\n",
       "<text style=\"fill:#000000; fill-opacity:1; font-family:Arial,Helvetica Neue,Helvetica,sans-serif; font-size:48px; text-anchor:end;\" transform=\"rotate(0, 144.627, 1264.94)\" x=\"144.627\" y=\"1264.94\">-28</text>\n",
       "</g>\n",
       "<g clip-path=\"url(#clip9200)\">\n",
       "<text style=\"fill:#000000; fill-opacity:1; font-family:Arial,Helvetica Neue,Helvetica,sans-serif; font-size:48px; text-anchor:end;\" transform=\"rotate(0, 144.627, 1024.9)\" x=\"144.627\" y=\"1024.9\">-26</text>\n",
       "</g>\n",
       "<g clip-path=\"url(#clip9200)\">\n",
       "<text style=\"fill:#000000; fill-opacity:1; font-family:Arial,Helvetica Neue,Helvetica,sans-serif; font-size:48px; text-anchor:end;\" transform=\"rotate(0, 144.627, 784.859)\" x=\"144.627\" y=\"784.859\">-24</text>\n",
       "</g>\n",
       "<g clip-path=\"url(#clip9200)\">\n",
       "<text style=\"fill:#000000; fill-opacity:1; font-family:Arial,Helvetica Neue,Helvetica,sans-serif; font-size:48px; text-anchor:end;\" transform=\"rotate(0, 144.627, 544.821)\" x=\"144.627\" y=\"544.821\">-22</text>\n",
       "</g>\n",
       "<g clip-path=\"url(#clip9200)\">\n",
       "<text style=\"fill:#000000; fill-opacity:1; font-family:Arial,Helvetica Neue,Helvetica,sans-serif; font-size:48px; text-anchor:end;\" transform=\"rotate(0, 144.627, 304.783)\" x=\"144.627\" y=\"304.783\">-20</text>\n",
       "</g>\n",
       "<g clip-path=\"url(#clip9200)\">\n",
       "<text style=\"fill:#000000; fill-opacity:1; font-family:Arial,Helvetica Neue,Helvetica,sans-serif; font-size:48px; text-anchor:end;\" transform=\"rotate(0, 144.627, 64.7441)\" x=\"144.627\" y=\"64.7441\">-18</text>\n",
       "</g>\n",
       "<polyline clip-path=\"url(#clip9202)\" style=\"stroke:#009af9; stroke-width:4; stroke-opacity:1; fill:none\" points=\"\n",
       "  230.442,1847.29 251.047,1394.84 271.652,1325.15 292.257,1277.71 312.862,1255.05 333.467,1232.65 354.072,1215.07 374.677,1208.29 395.282,1201.1 415.887,1195.92 \n",
       "  436.492,1191.62 457.097,1189.16 477.702,1184.81 498.307,1183.01 518.912,1180.68 539.517,1177.82 560.122,1174.64 580.727,1172.36 601.332,1170.76 621.937,1168.86 \n",
       "  642.542,1166.64 663.147,1165.85 683.752,1165.36 704.357,1164.51 724.962,1163.25 745.567,1163.23 766.172,1162.16 786.777,1161.36 807.382,1159.88 827.987,1157.63 \n",
       "  848.592,1154.33 869.197,1151.5 889.802,1146.03 910.407,1143.97 931.012,1143.19 951.617,1142.73 972.222,1142.51 992.827,1141.98 1013.43,1141.65 1034.04,1141.73 \n",
       "  1054.64,1141.26 1075.25,1141.24 1095.85,1141.11 1116.46,1140.99 1137.06,1140.79 1157.67,1140.84 1178.27,1140.68 1198.88,1140.77 1219.48,1140.5 1240.09,1140.26 \n",
       "  1260.69,1140.19 1281.3,1140.36 1301.9,1140.51 1322.51,1140.06 1343.11,1140.19 1363.72,1139.9 1384.32,1140.34 1404.93,1139.8 1425.53,1139.5 1446.14,1139.66 \n",
       "  1466.74,1139.91 1487.35,1139.93 1507.95,1139.51 1528.56,1139.11 1549.16,1138.7 1569.77,1138.84 1590.37,1139.08 1610.98,1138.67 1631.58,1138.15 1652.19,1138.47 \n",
       "  1672.79,1137.59 1693.4,1137.92 1714,1137.18 1734.61,1137.14 1755.21,1137.03 1775.82,1136.69 1796.42,1136.36 1817.03,1136.01 1837.63,1135.43 1858.24,1135.11 \n",
       "  1878.84,1134.83 1899.45,1134.48 1920.05,1133.98 1940.66,1133.56 1961.26,1133.11 1981.87,1132.81 2002.47,1131.98 2023.08,1131.66 2043.68,1130.68 2064.29,1129.6 \n",
       "  2084.89,1128.74 2105.5,1127.38 2126.1,1124.95 2146.71,1122.58 2167.31,1120.88 2187.92,1119.13 2208.52,1118.13 2229.13,1116.58 2249.73,1115.65 2270.34,1114.97 \n",
       "  2290.94,1114.38 \n",
       "  \"/>\n",
       "<polyline clip-path=\"url(#clip9202)\" style=\"stroke:#e26f46; stroke-width:4; stroke-opacity:1; fill:none\" points=\"\n",
       "  230.442,1848.53 333.467,551.142 436.492,453.08 539.517,358.825 642.542,361.7 745.567,490.224 848.592,504.239 951.617,483.77 1054.64,482.655 1157.67,482.491 \n",
       "  1260.69,482.472 1363.72,482.471 1466.74,482.47 1569.77,482.47 1672.79,482.471 1775.82,482.475 1878.84,482.516 1981.87,482.837 2084.89,485.404 2187.92,566.168 \n",
       "  2290.94,446.18 \n",
       "  \"/>\n",
       "<polyline clip-path=\"url(#clip9202)\" style=\"stroke:#3da44d; stroke-width:4; stroke-opacity:1; fill:none\" points=\"\n",
       "  230.442,1848.53 333.467,551.142 436.492,453.08 539.517,358.825 642.542,361.7 745.567,490.224 848.592,504.239 951.617,483.77 1054.64,482.655 1157.67,482.491 \n",
       "  1260.69,482.472 1363.72,482.471 1466.74,482.47 1569.77,482.47 1672.79,482.471 1775.82,482.475 1878.84,482.516 1981.87,482.837 2084.89,485.404 2187.92,566.168 \n",
       "  2290.94,446.18 \n",
       "  \"/>\n",
       "<path clip-path=\"url(#clip9200)\" d=\"\n",
       "M1087.03 372.684 L2280.76 372.684 L2280.76 130.764 L1087.03 130.764  Z\n",
       "  \" fill=\"#ffffff\" fill-rule=\"evenodd\" fill-opacity=\"1\"/>\n",
       "<polyline clip-path=\"url(#clip9200)\" style=\"stroke:#000000; stroke-width:4; stroke-opacity:1; fill:none\" points=\"\n",
       "  1087.03,372.684 2280.76,372.684 2280.76,130.764 1087.03,130.764 1087.03,372.684 \n",
       "  \"/>\n",
       "<polyline clip-path=\"url(#clip9200)\" style=\"stroke:#009af9; stroke-width:4; stroke-opacity:1; fill:none\" points=\"\n",
       "  1111.03,191.244 1255.03,191.244 \n",
       "  \"/>\n",
       "<g clip-path=\"url(#clip9200)\">\n",
       "<text style=\"fill:#000000; fill-opacity:1; font-family:Arial,Helvetica Neue,Helvetica,sans-serif; font-size:48px; text-anchor:start;\" transform=\"rotate(0, 1279.03, 208.744)\" x=\"1279.03\" y=\"208.744\">Test solution</text>\n",
       "</g>\n",
       "<polyline clip-path=\"url(#clip9200)\" style=\"stroke:#e26f46; stroke-width:4; stroke-opacity:1; fill:none\" points=\"\n",
       "  1111.03,251.724 1255.03,251.724 \n",
       "  \"/>\n",
       "<g clip-path=\"url(#clip9200)\">\n",
       "<text style=\"fill:#000000; fill-opacity:1; font-family:Arial,Helvetica Neue,Helvetica,sans-serif; font-size:48px; text-anchor:start;\" transform=\"rotate(0, 1279.03, 269.224)\" x=\"1279.03\" y=\"269.224\">IRKGL16-Float128</text>\n",
       "</g>\n",
       "<polyline clip-path=\"url(#clip9200)\" style=\"stroke:#3da44d; stroke-width:4; stroke-opacity:1; fill:none\" points=\"\n",
       "  1111.03,312.204 1255.03,312.204 \n",
       "  \"/>\n",
       "<g clip-path=\"url(#clip9200)\">\n",
       "<text style=\"fill:#000000; fill-opacity:1; font-family:Arial,Helvetica Neue,Helvetica,sans-serif; font-size:48px; text-anchor:start;\" transform=\"rotate(0, 1279.03, 329.704)\" x=\"1279.03\" y=\"329.704\">IRKGL16-Mixed Precision: Float128/Float64</text>\n",
       "</g>\n",
       "</svg>\n"
      ]
     },
     "execution_count": 14,
     "metadata": {},
     "output_type": "execute_result"
    }
   ],
   "source": [
    "ylimit1=-30\n",
    "ylimit2=-18\n",
    "plot(sol.t,log10.(abs.(ΔE)), label=\"Test solution\",\n",
    "    ylims=(ylimit1,ylimit2),)\n",
    "plot!(sol1.t,log10.(abs.(ΔE1)), label=\"IRKGL16-Float128\",\n",
    "     ylims=(ylimit1,ylimit2),)\n",
    "plot!(sol2.t,log10.(abs.(ΔE2)), label=\"IRKGL16-Mixed Precision: Float128/Float64\",\n",
    "     ylims=(ylimit1,ylimit2),)"
   ]
  },
  {
   "cell_type": "markdown",
   "metadata": {},
   "source": [
    "<a href=\"#top\">Back to the top</a>\n",
    "\n",
    "## Work-Precision diagrams"
   ]
  },
  {
   "cell_type": "code",
   "execution_count": 15,
   "metadata": {},
   "outputs": [
    {
     "data": {
      "text/plain": [
       "1"
      ]
     },
     "execution_count": 15,
     "metadata": {},
     "output_type": "execute_result"
    }
   ],
   "source": [
    "Threads.nthreads()"
   ]
  },
  {
   "cell_type": "code",
   "execution_count": 16,
   "metadata": {},
   "outputs": [],
   "source": [
    "abstols = 1.0 ./ 10.0 .^ (8:18)\n",
    "reltols = 1.0 ./ 10.0 .^ (8:18)\n",
    "dts=16*0.866.^(0:length(reltols)-1);"
   ]
  },
  {
   "cell_type": "code",
   "execution_count": 17,
   "metadata": {},
   "outputs": [
    {
     "data": {
      "image/svg+xml": [
       "<?xml version=\"1.0\" encoding=\"utf-8\"?>\n",
       "<svg xmlns=\"http://www.w3.org/2000/svg\" xmlns:xlink=\"http://www.w3.org/1999/xlink\" width=\"600\" height=\"400\" viewBox=\"0 0 2400 1600\">\n",
       "<defs>\n",
       "  <clipPath id=\"clip9600\">\n",
       "    <rect x=\"0\" y=\"0\" width=\"2400\" height=\"1600\"/>\n",
       "  </clipPath>\n",
       "</defs>\n",
       "<path clip-path=\"url(#clip9600)\" d=\"\n",
       "M0 1600 L2400 1600 L2400 0 L0 0  Z\n",
       "  \" fill=\"#ffffff\" fill-rule=\"evenodd\" fill-opacity=\"1\"/>\n",
       "<defs>\n",
       "  <clipPath id=\"clip9601\">\n",
       "    <rect x=\"480\" y=\"0\" width=\"1681\" height=\"1600\"/>\n",
       "  </clipPath>\n",
       "</defs>\n",
       "<path clip-path=\"url(#clip9600)\" d=\"\n",
       "M318.616 1425.62 L2352.76 1425.62 L2352.76 47.2441 L318.616 47.2441  Z\n",
       "  \" fill=\"#ffffff\" fill-rule=\"evenodd\" fill-opacity=\"1\"/>\n",
       "<defs>\n",
       "  <clipPath id=\"clip9602\">\n",
       "    <rect x=\"318\" y=\"47\" width=\"2035\" height=\"1379\"/>\n",
       "  </clipPath>\n",
       "</defs>\n",
       "<polyline clip-path=\"url(#clip9602)\" style=\"stroke:#000000; stroke-width:2; stroke-opacity:0.1; fill:none\" points=\"\n",
       "  558.052,1425.62 558.052,47.2441 \n",
       "  \"/>\n",
       "<polyline clip-path=\"url(#clip9602)\" style=\"stroke:#000000; stroke-width:2; stroke-opacity:0.1; fill:none\" points=\"\n",
       "  943.54,1425.62 943.54,47.2441 \n",
       "  \"/>\n",
       "<polyline clip-path=\"url(#clip9602)\" style=\"stroke:#000000; stroke-width:2; stroke-opacity:0.1; fill:none\" points=\"\n",
       "  1329.03,1425.62 1329.03,47.2441 \n",
       "  \"/>\n",
       "<polyline clip-path=\"url(#clip9602)\" style=\"stroke:#000000; stroke-width:2; stroke-opacity:0.1; fill:none\" points=\"\n",
       "  1714.51,1425.62 1714.51,47.2441 \n",
       "  \"/>\n",
       "<polyline clip-path=\"url(#clip9602)\" style=\"stroke:#000000; stroke-width:2; stroke-opacity:0.1; fill:none\" points=\"\n",
       "  2100,1425.62 2100,47.2441 \n",
       "  \"/>\n",
       "<polyline clip-path=\"url(#clip9602)\" style=\"stroke:#000000; stroke-width:2; stroke-opacity:0.1; fill:none\" points=\"\n",
       "  318.616,1282.47 2352.76,1282.47 \n",
       "  \"/>\n",
       "<polyline clip-path=\"url(#clip9602)\" style=\"stroke:#000000; stroke-width:2; stroke-opacity:0.1; fill:none\" points=\"\n",
       "  318.616,962.28 2352.76,962.28 \n",
       "  \"/>\n",
       "<polyline clip-path=\"url(#clip9602)\" style=\"stroke:#000000; stroke-width:2; stroke-opacity:0.1; fill:none\" points=\"\n",
       "  318.616,642.094 2352.76,642.094 \n",
       "  \"/>\n",
       "<polyline clip-path=\"url(#clip9602)\" style=\"stroke:#000000; stroke-width:2; stroke-opacity:0.1; fill:none\" points=\"\n",
       "  318.616,321.909 2352.76,321.909 \n",
       "  \"/>\n",
       "<polyline clip-path=\"url(#clip9600)\" style=\"stroke:#000000; stroke-width:4; stroke-opacity:1; fill:none\" points=\"\n",
       "  318.616,1425.62 2352.76,1425.62 \n",
       "  \"/>\n",
       "<polyline clip-path=\"url(#clip9600)\" style=\"stroke:#000000; stroke-width:4; stroke-opacity:1; fill:none\" points=\"\n",
       "  318.616,1425.62 318.616,47.2441 \n",
       "  \"/>\n",
       "<polyline clip-path=\"url(#clip9600)\" style=\"stroke:#000000; stroke-width:4; stroke-opacity:1; fill:none\" points=\"\n",
       "  558.052,1425.62 558.052,1409.08 \n",
       "  \"/>\n",
       "<polyline clip-path=\"url(#clip9600)\" style=\"stroke:#000000; stroke-width:4; stroke-opacity:1; fill:none\" points=\"\n",
       "  943.54,1425.62 943.54,1409.08 \n",
       "  \"/>\n",
       "<polyline clip-path=\"url(#clip9600)\" style=\"stroke:#000000; stroke-width:4; stroke-opacity:1; fill:none\" points=\"\n",
       "  1329.03,1425.62 1329.03,1409.08 \n",
       "  \"/>\n",
       "<polyline clip-path=\"url(#clip9600)\" style=\"stroke:#000000; stroke-width:4; stroke-opacity:1; fill:none\" points=\"\n",
       "  1714.51,1425.62 1714.51,1409.08 \n",
       "  \"/>\n",
       "<polyline clip-path=\"url(#clip9600)\" style=\"stroke:#000000; stroke-width:4; stroke-opacity:1; fill:none\" points=\"\n",
       "  2100,1425.62 2100,1409.08 \n",
       "  \"/>\n",
       "<polyline clip-path=\"url(#clip9600)\" style=\"stroke:#000000; stroke-width:4; stroke-opacity:1; fill:none\" points=\"\n",
       "  318.616,1282.47 343.025,1282.47 \n",
       "  \"/>\n",
       "<polyline clip-path=\"url(#clip9600)\" style=\"stroke:#000000; stroke-width:4; stroke-opacity:1; fill:none\" points=\"\n",
       "  318.616,962.28 343.025,962.28 \n",
       "  \"/>\n",
       "<polyline clip-path=\"url(#clip9600)\" style=\"stroke:#000000; stroke-width:4; stroke-opacity:1; fill:none\" points=\"\n",
       "  318.616,642.094 343.025,642.094 \n",
       "  \"/>\n",
       "<polyline clip-path=\"url(#clip9600)\" style=\"stroke:#000000; stroke-width:4; stroke-opacity:1; fill:none\" points=\"\n",
       "  318.616,321.909 343.025,321.909 \n",
       "  \"/>\n",
       "<g clip-path=\"url(#clip9600)\">\n",
       "<text style=\"fill:#000000; fill-opacity:1; font-family:Arial,Helvetica Neue,Helvetica,sans-serif; font-size:48px; text-anchor:start;\" transform=\"rotate(0, 492.69, 1500.63)\" x=\"492.69\" y=\"1500.63\">10</text>\n",
       "</g>\n",
       "<g clip-path=\"url(#clip9600)\">\n",
       "<text style=\"fill:#000000; fill-opacity:1; font-family:Arial,Helvetica Neue,Helvetica,sans-serif; font-size:38px; text-anchor:start;\" transform=\"rotate(0, 546.214, 1473.22)\" x=\"546.214\" y=\"1473.22\">-</text>\n",
       "</g>\n",
       "<g clip-path=\"url(#clip9600)\">\n",
       "<text style=\"fill:#000000; fill-opacity:1; font-family:Arial,Helvetica Neue,Helvetica,sans-serif; font-size:38px; text-anchor:start;\" transform=\"rotate(0, 569.054, 1473.22)\" x=\"569.054\" y=\"1473.22\">20 </text>\n",
       "</g>\n",
       "<g clip-path=\"url(#clip9600)\">\n",
       "<text style=\"fill:#000000; fill-opacity:1; font-family:Arial,Helvetica Neue,Helvetica,sans-serif; font-size:48px; text-anchor:start;\" transform=\"rotate(0, 878.177, 1500.63)\" x=\"878.177\" y=\"1500.63\">10</text>\n",
       "</g>\n",
       "<g clip-path=\"url(#clip9600)\">\n",
       "<text style=\"fill:#000000; fill-opacity:1; font-family:Arial,Helvetica Neue,Helvetica,sans-serif; font-size:38px; text-anchor:start;\" transform=\"rotate(0, 931.702, 1473.22)\" x=\"931.702\" y=\"1473.22\">-</text>\n",
       "</g>\n",
       "<g clip-path=\"url(#clip9600)\">\n",
       "<text style=\"fill:#000000; fill-opacity:1; font-family:Arial,Helvetica Neue,Helvetica,sans-serif; font-size:38px; text-anchor:start;\" transform=\"rotate(0, 954.541, 1473.22)\" x=\"954.541\" y=\"1473.22\">18 </text>\n",
       "</g>\n",
       "<g clip-path=\"url(#clip9600)\">\n",
       "<text style=\"fill:#000000; fill-opacity:1; font-family:Arial,Helvetica Neue,Helvetica,sans-serif; font-size:48px; text-anchor:start;\" transform=\"rotate(0, 1263.66, 1500.63)\" x=\"1263.66\" y=\"1500.63\">10</text>\n",
       "</g>\n",
       "<g clip-path=\"url(#clip9600)\">\n",
       "<text style=\"fill:#000000; fill-opacity:1; font-family:Arial,Helvetica Neue,Helvetica,sans-serif; font-size:38px; text-anchor:start;\" transform=\"rotate(0, 1317.19, 1473.22)\" x=\"1317.19\" y=\"1473.22\">-</text>\n",
       "</g>\n",
       "<g clip-path=\"url(#clip9600)\">\n",
       "<text style=\"fill:#000000; fill-opacity:1; font-family:Arial,Helvetica Neue,Helvetica,sans-serif; font-size:38px; text-anchor:start;\" transform=\"rotate(0, 1340.03, 1473.22)\" x=\"1340.03\" y=\"1473.22\">16 </text>\n",
       "</g>\n",
       "<g clip-path=\"url(#clip9600)\">\n",
       "<text style=\"fill:#000000; fill-opacity:1; font-family:Arial,Helvetica Neue,Helvetica,sans-serif; font-size:48px; text-anchor:start;\" transform=\"rotate(0, 1649.15, 1500.63)\" x=\"1649.15\" y=\"1500.63\">10</text>\n",
       "</g>\n",
       "<g clip-path=\"url(#clip9600)\">\n",
       "<text style=\"fill:#000000; fill-opacity:1; font-family:Arial,Helvetica Neue,Helvetica,sans-serif; font-size:38px; text-anchor:start;\" transform=\"rotate(0, 1702.68, 1473.22)\" x=\"1702.68\" y=\"1473.22\">-</text>\n",
       "</g>\n",
       "<g clip-path=\"url(#clip9600)\">\n",
       "<text style=\"fill:#000000; fill-opacity:1; font-family:Arial,Helvetica Neue,Helvetica,sans-serif; font-size:38px; text-anchor:start;\" transform=\"rotate(0, 1725.52, 1473.22)\" x=\"1725.52\" y=\"1473.22\">14 </text>\n",
       "</g>\n",
       "<g clip-path=\"url(#clip9600)\">\n",
       "<text style=\"fill:#000000; fill-opacity:1; font-family:Arial,Helvetica Neue,Helvetica,sans-serif; font-size:48px; text-anchor:start;\" transform=\"rotate(0, 2034.64, 1500.63)\" x=\"2034.64\" y=\"1500.63\">10</text>\n",
       "</g>\n",
       "<g clip-path=\"url(#clip9600)\">\n",
       "<text style=\"fill:#000000; fill-opacity:1; font-family:Arial,Helvetica Neue,Helvetica,sans-serif; font-size:38px; text-anchor:start;\" transform=\"rotate(0, 2088.16, 1473.22)\" x=\"2088.16\" y=\"1473.22\">-</text>\n",
       "</g>\n",
       "<g clip-path=\"url(#clip9600)\">\n",
       "<text style=\"fill:#000000; fill-opacity:1; font-family:Arial,Helvetica Neue,Helvetica,sans-serif; font-size:38px; text-anchor:start;\" transform=\"rotate(0, 2111, 1473.22)\" x=\"2111\" y=\"1473.22\">12 </text>\n",
       "</g>\n",
       "<g clip-path=\"url(#clip9600)\">\n",
       "<text style=\"fill:#000000; fill-opacity:1; font-family:Arial,Helvetica Neue,Helvetica,sans-serif; font-size:48px; text-anchor:start;\" transform=\"rotate(0, 154.114, 1306.19)\" x=\"154.114\" y=\"1306.19\">10</text>\n",
       "</g>\n",
       "<g clip-path=\"url(#clip9600)\">\n",
       "<text style=\"fill:#000000; fill-opacity:1; font-family:Arial,Helvetica Neue,Helvetica,sans-serif; font-size:38px; text-anchor:start;\" transform=\"rotate(0, 207.638, 1278.78)\" x=\"207.638\" y=\"1278.78\">0.50 </text>\n",
       "</g>\n",
       "<g clip-path=\"url(#clip9600)\">\n",
       "<text style=\"fill:#000000; fill-opacity:1; font-family:Arial,Helvetica Neue,Helvetica,sans-serif; font-size:48px; text-anchor:start;\" transform=\"rotate(0, 154.114, 986.007)\" x=\"154.114\" y=\"986.007\">10</text>\n",
       "</g>\n",
       "<g clip-path=\"url(#clip9600)\">\n",
       "<text style=\"fill:#000000; fill-opacity:1; font-family:Arial,Helvetica Neue,Helvetica,sans-serif; font-size:38px; text-anchor:start;\" transform=\"rotate(0, 207.638, 958.597)\" x=\"207.638\" y=\"958.597\">0.75 </text>\n",
       "</g>\n",
       "<g clip-path=\"url(#clip9600)\">\n",
       "<text style=\"fill:#000000; fill-opacity:1; font-family:Arial,Helvetica Neue,Helvetica,sans-serif; font-size:48px; text-anchor:start;\" transform=\"rotate(0, 154.114, 665.822)\" x=\"154.114\" y=\"665.822\">10</text>\n",
       "</g>\n",
       "<g clip-path=\"url(#clip9600)\">\n",
       "<text style=\"fill:#000000; fill-opacity:1; font-family:Arial,Helvetica Neue,Helvetica,sans-serif; font-size:38px; text-anchor:start;\" transform=\"rotate(0, 207.638, 638.412)\" x=\"207.638\" y=\"638.412\">1.00 </text>\n",
       "</g>\n",
       "<g clip-path=\"url(#clip9600)\">\n",
       "<text style=\"fill:#000000; fill-opacity:1; font-family:Arial,Helvetica Neue,Helvetica,sans-serif; font-size:48px; text-anchor:start;\" transform=\"rotate(0, 154.114, 345.637)\" x=\"154.114\" y=\"345.637\">10</text>\n",
       "</g>\n",
       "<g clip-path=\"url(#clip9600)\">\n",
       "<text style=\"fill:#000000; fill-opacity:1; font-family:Arial,Helvetica Neue,Helvetica,sans-serif; font-size:38px; text-anchor:start;\" transform=\"rotate(0, 207.638, 318.226)\" x=\"207.638\" y=\"318.226\">1.25 </text>\n",
       "</g>\n",
       "<g clip-path=\"url(#clip9600)\">\n",
       "<text style=\"fill:#000000; fill-opacity:1; font-family:Arial,Helvetica Neue,Helvetica,sans-serif; font-size:66px; text-anchor:middle;\" transform=\"rotate(0, 1335.69, 1559.48)\" x=\"1335.69\" y=\"1559.48\">Error</text>\n",
       "</g>\n",
       "<g clip-path=\"url(#clip9600)\">\n",
       "<text style=\"fill:#000000; fill-opacity:1; font-family:Arial,Helvetica Neue,Helvetica,sans-serif; font-size:66px; text-anchor:middle;\" transform=\"rotate(-90, 89.2861, 736.431)\" x=\"89.2861\" y=\"736.431\">Time (s)</text>\n",
       "</g>\n",
       "<polyline clip-path=\"url(#clip9602)\" style=\"stroke:#009af9; stroke-width:12; stroke-opacity:1; fill:none\" points=\"\n",
       "  2295.19,519.103 2058.18,518.23 1908.49,437.176 1688.04,423.65 1514.65,374.096 1409.6,344.559 1128.83,291.99 977.462,233.954 755.136,180.053 573.264,162.823 \n",
       "  376.186,86.2547 \n",
       "  \"/>\n",
       "<circle clip-path=\"url(#clip9602)\" style=\"fill:#000000; stroke:none; fill-opacity:1\" cx=\"2295.19\" cy=\"519.103\" r=\"18\"/>\n",
       "<circle clip-path=\"url(#clip9602)\" style=\"fill:#009af9; stroke:none; fill-opacity:1\" cx=\"2295.19\" cy=\"519.103\" r=\"14\"/>\n",
       "<circle clip-path=\"url(#clip9602)\" style=\"fill:#000000; stroke:none; fill-opacity:1\" cx=\"2058.18\" cy=\"518.23\" r=\"18\"/>\n",
       "<circle clip-path=\"url(#clip9602)\" style=\"fill:#009af9; stroke:none; fill-opacity:1\" cx=\"2058.18\" cy=\"518.23\" r=\"14\"/>\n",
       "<circle clip-path=\"url(#clip9602)\" style=\"fill:#000000; stroke:none; fill-opacity:1\" cx=\"1908.49\" cy=\"437.176\" r=\"18\"/>\n",
       "<circle clip-path=\"url(#clip9602)\" style=\"fill:#009af9; stroke:none; fill-opacity:1\" cx=\"1908.49\" cy=\"437.176\" r=\"14\"/>\n",
       "<circle clip-path=\"url(#clip9602)\" style=\"fill:#000000; stroke:none; fill-opacity:1\" cx=\"1688.04\" cy=\"423.65\" r=\"18\"/>\n",
       "<circle clip-path=\"url(#clip9602)\" style=\"fill:#009af9; stroke:none; fill-opacity:1\" cx=\"1688.04\" cy=\"423.65\" r=\"14\"/>\n",
       "<circle clip-path=\"url(#clip9602)\" style=\"fill:#000000; stroke:none; fill-opacity:1\" cx=\"1514.65\" cy=\"374.096\" r=\"18\"/>\n",
       "<circle clip-path=\"url(#clip9602)\" style=\"fill:#009af9; stroke:none; fill-opacity:1\" cx=\"1514.65\" cy=\"374.096\" r=\"14\"/>\n",
       "<circle clip-path=\"url(#clip9602)\" style=\"fill:#000000; stroke:none; fill-opacity:1\" cx=\"1409.6\" cy=\"344.559\" r=\"18\"/>\n",
       "<circle clip-path=\"url(#clip9602)\" style=\"fill:#009af9; stroke:none; fill-opacity:1\" cx=\"1409.6\" cy=\"344.559\" r=\"14\"/>\n",
       "<circle clip-path=\"url(#clip9602)\" style=\"fill:#000000; stroke:none; fill-opacity:1\" cx=\"1128.83\" cy=\"291.99\" r=\"18\"/>\n",
       "<circle clip-path=\"url(#clip9602)\" style=\"fill:#009af9; stroke:none; fill-opacity:1\" cx=\"1128.83\" cy=\"291.99\" r=\"14\"/>\n",
       "<circle clip-path=\"url(#clip9602)\" style=\"fill:#000000; stroke:none; fill-opacity:1\" cx=\"977.462\" cy=\"233.954\" r=\"18\"/>\n",
       "<circle clip-path=\"url(#clip9602)\" style=\"fill:#009af9; stroke:none; fill-opacity:1\" cx=\"977.462\" cy=\"233.954\" r=\"14\"/>\n",
       "<circle clip-path=\"url(#clip9602)\" style=\"fill:#000000; stroke:none; fill-opacity:1\" cx=\"755.136\" cy=\"180.053\" r=\"18\"/>\n",
       "<circle clip-path=\"url(#clip9602)\" style=\"fill:#009af9; stroke:none; fill-opacity:1\" cx=\"755.136\" cy=\"180.053\" r=\"14\"/>\n",
       "<circle clip-path=\"url(#clip9602)\" style=\"fill:#000000; stroke:none; fill-opacity:1\" cx=\"573.264\" cy=\"162.823\" r=\"18\"/>\n",
       "<circle clip-path=\"url(#clip9602)\" style=\"fill:#009af9; stroke:none; fill-opacity:1\" cx=\"573.264\" cy=\"162.823\" r=\"14\"/>\n",
       "<circle clip-path=\"url(#clip9602)\" style=\"fill:#000000; stroke:none; fill-opacity:1\" cx=\"376.186\" cy=\"86.2547\" r=\"18\"/>\n",
       "<circle clip-path=\"url(#clip9602)\" style=\"fill:#009af9; stroke:none; fill-opacity:1\" cx=\"376.186\" cy=\"86.2547\" r=\"14\"/>\n",
       "<polyline clip-path=\"url(#clip9602)\" style=\"stroke:#e26f46; stroke-width:12; stroke-opacity:1; fill:none\" points=\"\n",
       "  2295.19,1386.61 2058.18,1375.92 1908.49,1337.26 1688.04,1291.96 1514.65,1238.77 1409.6,1199.18 1128.83,1148.99 977.462,1086.59 755.136,1021.33 573.264,965.196 \n",
       "  376.186,925.897 \n",
       "  \"/>\n",
       "<polygon clip-path=\"url(#clip9602)\" style=\"fill:#000000; fill-opacity:1\" points=\"\n",
       "  2275.19,1366.61 2275.19,1406.61 2315.19,1406.61 2315.19,1366.61 2275.19,1366.61 \n",
       "  \"/>\n",
       "<polygon clip-path=\"url(#clip9602)\" style=\"fill:#e26f46; fill-opacity:1\" points=\"\n",
       "  2279.19,1370.61 2279.19,1402.61 2311.19,1402.61 2311.19,1370.61 2279.19,1370.61 \n",
       "  \"/>\n",
       "<polygon clip-path=\"url(#clip9602)\" style=\"fill:#000000; fill-opacity:1\" points=\"\n",
       "  2038.18,1355.92 2038.18,1395.92 2078.18,1395.92 2078.18,1355.92 2038.18,1355.92 \n",
       "  \"/>\n",
       "<polygon clip-path=\"url(#clip9602)\" style=\"fill:#e26f46; fill-opacity:1\" points=\"\n",
       "  2042.18,1359.92 2042.18,1391.92 2074.18,1391.92 2074.18,1359.92 2042.18,1359.92 \n",
       "  \"/>\n",
       "<polygon clip-path=\"url(#clip9602)\" style=\"fill:#000000; fill-opacity:1\" points=\"\n",
       "  1888.49,1317.26 1888.49,1357.26 1928.49,1357.26 1928.49,1317.26 1888.49,1317.26 \n",
       "  \"/>\n",
       "<polygon clip-path=\"url(#clip9602)\" style=\"fill:#e26f46; fill-opacity:1\" points=\"\n",
       "  1892.49,1321.26 1892.49,1353.26 1924.49,1353.26 1924.49,1321.26 1892.49,1321.26 \n",
       "  \"/>\n",
       "<polygon clip-path=\"url(#clip9602)\" style=\"fill:#000000; fill-opacity:1\" points=\"\n",
       "  1668.04,1271.96 1668.04,1311.96 1708.04,1311.96 1708.04,1271.96 1668.04,1271.96 \n",
       "  \"/>\n",
       "<polygon clip-path=\"url(#clip9602)\" style=\"fill:#e26f46; fill-opacity:1\" points=\"\n",
       "  1672.04,1275.96 1672.04,1307.96 1704.04,1307.96 1704.04,1275.96 1672.04,1275.96 \n",
       "  \"/>\n",
       "<polygon clip-path=\"url(#clip9602)\" style=\"fill:#000000; fill-opacity:1\" points=\"\n",
       "  1494.65,1218.77 1494.65,1258.77 1534.65,1258.77 1534.65,1218.77 1494.65,1218.77 \n",
       "  \"/>\n",
       "<polygon clip-path=\"url(#clip9602)\" style=\"fill:#e26f46; fill-opacity:1\" points=\"\n",
       "  1498.65,1222.77 1498.65,1254.77 1530.65,1254.77 1530.65,1222.77 1498.65,1222.77 \n",
       "  \"/>\n",
       "<polygon clip-path=\"url(#clip9602)\" style=\"fill:#000000; fill-opacity:1\" points=\"\n",
       "  1389.6,1179.18 1389.6,1219.18 1429.6,1219.18 1429.6,1179.18 1389.6,1179.18 \n",
       "  \"/>\n",
       "<polygon clip-path=\"url(#clip9602)\" style=\"fill:#e26f46; fill-opacity:1\" points=\"\n",
       "  1393.6,1183.18 1393.6,1215.18 1425.6,1215.18 1425.6,1183.18 1393.6,1183.18 \n",
       "  \"/>\n",
       "<polygon clip-path=\"url(#clip9602)\" style=\"fill:#000000; fill-opacity:1\" points=\"\n",
       "  1108.83,1128.99 1108.83,1168.99 1148.83,1168.99 1148.83,1128.99 1108.83,1128.99 \n",
       "  \"/>\n",
       "<polygon clip-path=\"url(#clip9602)\" style=\"fill:#e26f46; fill-opacity:1\" points=\"\n",
       "  1112.83,1132.99 1112.83,1164.99 1144.83,1164.99 1144.83,1132.99 1112.83,1132.99 \n",
       "  \"/>\n",
       "<polygon clip-path=\"url(#clip9602)\" style=\"fill:#000000; fill-opacity:1\" points=\"\n",
       "  957.462,1066.59 957.462,1106.59 997.462,1106.59 997.462,1066.59 957.462,1066.59 \n",
       "  \"/>\n",
       "<polygon clip-path=\"url(#clip9602)\" style=\"fill:#e26f46; fill-opacity:1\" points=\"\n",
       "  961.462,1070.59 961.462,1102.59 993.462,1102.59 993.462,1070.59 961.462,1070.59 \n",
       "  \"/>\n",
       "<polygon clip-path=\"url(#clip9602)\" style=\"fill:#000000; fill-opacity:1\" points=\"\n",
       "  735.136,1001.33 735.136,1041.33 775.136,1041.33 775.136,1001.33 735.136,1001.33 \n",
       "  \"/>\n",
       "<polygon clip-path=\"url(#clip9602)\" style=\"fill:#e26f46; fill-opacity:1\" points=\"\n",
       "  739.136,1005.33 739.136,1037.33 771.136,1037.33 771.136,1005.33 739.136,1005.33 \n",
       "  \"/>\n",
       "<polygon clip-path=\"url(#clip9602)\" style=\"fill:#000000; fill-opacity:1\" points=\"\n",
       "  553.264,945.196 553.264,985.196 593.264,985.196 593.264,945.196 553.264,945.196 \n",
       "  \"/>\n",
       "<polygon clip-path=\"url(#clip9602)\" style=\"fill:#e26f46; fill-opacity:1\" points=\"\n",
       "  557.264,949.196 557.264,981.196 589.264,981.196 589.264,949.196 557.264,949.196 \n",
       "  \"/>\n",
       "<polygon clip-path=\"url(#clip9602)\" style=\"fill:#000000; fill-opacity:1\" points=\"\n",
       "  356.186,905.897 356.186,945.897 396.186,945.897 396.186,905.897 356.186,905.897 \n",
       "  \"/>\n",
       "<polygon clip-path=\"url(#clip9602)\" style=\"fill:#e26f46; fill-opacity:1\" points=\"\n",
       "  360.186,909.897 360.186,941.897 392.186,941.897 392.186,909.897 360.186,909.897 \n",
       "  \"/>\n",
       "<path clip-path=\"url(#clip9600)\" d=\"\n",
       "M1842.78 312.204 L2280.76 312.204 L2280.76 130.764 L1842.78 130.764  Z\n",
       "  \" fill=\"#ffffff\" fill-rule=\"evenodd\" fill-opacity=\"1\"/>\n",
       "<polyline clip-path=\"url(#clip9600)\" style=\"stroke:#000000; stroke-width:4; stroke-opacity:1; fill:none\" points=\"\n",
       "  1842.78,312.204 2280.76,312.204 2280.76,130.764 1842.78,130.764 1842.78,312.204 \n",
       "  \"/>\n",
       "<polyline clip-path=\"url(#clip9600)\" style=\"stroke:#009af9; stroke-width:12; stroke-opacity:1; fill:none\" points=\"\n",
       "  1866.78,191.244 2010.78,191.244 \n",
       "  \"/>\n",
       "<circle clip-path=\"url(#clip9600)\" style=\"fill:#000000; stroke:none; fill-opacity:1\" cx=\"1950.78\" cy=\"191.244\" r=\"25\"/>\n",
       "<circle clip-path=\"url(#clip9600)\" style=\"fill:#009af9; stroke:none; fill-opacity:1\" cx=\"1950.78\" cy=\"191.244\" r=\"21\"/>\n",
       "<g clip-path=\"url(#clip9600)\">\n",
       "<text style=\"fill:#000000; fill-opacity:1; font-family:Arial,Helvetica Neue,Helvetica,sans-serif; font-size:48px; text-anchor:start;\" transform=\"rotate(0, 2034.78, 208.744)\" x=\"2034.78\" y=\"208.744\">IRKGL16</text>\n",
       "</g>\n",
       "<polyline clip-path=\"url(#clip9600)\" style=\"stroke:#e26f46; stroke-width:12; stroke-opacity:1; fill:none\" points=\"\n",
       "  1866.78,251.724 2010.78,251.724 \n",
       "  \"/>\n",
       "<polygon clip-path=\"url(#clip9600)\" style=\"fill:#000000; fill-opacity:1\" points=\"\n",
       "  1922.78,223.724 1922.78,279.724 1978.78,279.724 1978.78,223.724 1922.78,223.724 \n",
       "  \"/>\n",
       "<polygon clip-path=\"url(#clip9600)\" style=\"fill:#e26f46; fill-opacity:1\" points=\"\n",
       "  1926.78,227.724 1926.78,275.724 1974.78,275.724 1974.78,227.724 1926.78,227.724 \n",
       "  \"/>\n",
       "<g clip-path=\"url(#clip9600)\">\n",
       "<text style=\"fill:#000000; fill-opacity:1; font-family:Arial,Helvetica Neue,Helvetica,sans-serif; font-size:48px; text-anchor:start;\" transform=\"rotate(0, 2034.78, 269.224)\" x=\"2034.78\" y=\"269.224\">IRKGL16</text>\n",
       "</g>\n",
       "</svg>\n"
      ]
     },
     "execution_count": 17,
     "metadata": {},
     "output_type": "execute_result"
    }
   ],
   "source": [
    "setups = [ Dict(:alg=>IRKGL16(),:adaptive=>false,:dts=>dts,:mixed_precision=>false) \n",
    "           Dict(:alg=>IRKGL16(),:adaptive=>false,:dts=>dts,:mixed_precision=>true,:low_prec_type=>Float64)\n",
    "]\n",
    "wp1 = WorkPrecisionSet(prob128,abstols,reltols,setups;appxsol=test_sol,save_everystep=false,numruns=1,maxiters=1000000)\n",
    "plot(wp1)"
   ]
  },
  {
   "cell_type": "markdown",
   "metadata": {},
   "source": [
    "<a href=\"#top\">Back to the top</a>"
   ]
  }
 ],
 "metadata": {
  "kernelspec": {
   "display_name": "Julia 1.3.1",
   "language": "julia",
   "name": "julia-1.3"
  },
  "language_info": {
   "file_extension": ".jl",
   "mimetype": "application/julia",
   "name": "julia",
   "version": "1.3.1"
  }
 },
 "nbformat": 4,
 "nbformat_minor": 2
}
