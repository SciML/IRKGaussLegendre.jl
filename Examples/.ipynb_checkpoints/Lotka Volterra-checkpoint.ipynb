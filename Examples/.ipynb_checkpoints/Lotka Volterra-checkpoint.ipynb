{
 "cells": [
  {
   "cell_type": "markdown",
   "metadata": {},
   "source": [
    "# Lotka Volterra"
   ]
  },
  {
   "cell_type": "markdown",
   "metadata": {},
   "source": [
    "https://github.com/JuliaDiffEq/DiffEqBenchmarks.jl/blob/master/script/NonStiffODE/LotkaVolterra_wpd.jl"
   ]
  },
  {
   "cell_type": "code",
   "execution_count": null,
   "metadata": {},
   "outputs": [
    {
     "name": "stdout",
     "output_type": "stream",
     "text": [
      "\u001b[32m\u001b[1m  Updating\u001b[22m\u001b[39m registry at `~/.julia/registries/General`\n",
      "\u001b[32m\u001b[1m  Updating\u001b[22m\u001b[39m git-repo `https://github.com/JuliaRegistries/General.git`\n",
      "\u001b[2K\u001b[?25h[1mFetching:\u001b[22m\u001b[39m [========================================>]  100.0 %.0 %\u001b[36m\u001b[1mFetching:\u001b[22m\u001b[39m [=========>                               ]  22.0 %>                       ]  40.2 %========================>                ]  58.7 %]  77.0 %\u001b[36m\u001b[1mFetching:\u001b[22m\u001b[39m [=================================>       ]  81.6 %\u001b[36m\u001b[1mFetching:\u001b[22m\u001b[39m [======================================>  ]  95.0 %\u001b[36m\u001b[1mFetching:\u001b[22m\u001b[39m [=======================================> ]  95.4 %\u001b[36m\u001b[1mFetching:\u001b[22m\u001b[39m [=======================================> ]  96.3 %\u001b[32m\u001b[1m Resolving\u001b[22m\u001b[39m package versions...\n"
     ]
    }
   ],
   "source": [
    "using Pkg\n",
    "#Pkg.add(\"ParameterizedFunctions\")\n",
    "Pkg.add(\"LSODA\")\n",
    "Pkg.add(\"Sundials\")"
   ]
  },
  {
   "cell_type": "code",
   "execution_count": 1,
   "metadata": {},
   "outputs": [
    {
     "ename": "ArgumentError",
     "evalue": "ArgumentError: Package ParameterizedFunctions not found in current path:\n- Run `import Pkg; Pkg.add(\"ParameterizedFunctions\")` to install the ParameterizedFunctions package.\n",
     "output_type": "error",
     "traceback": [
      "ArgumentError: Package ParameterizedFunctions not found in current path:\n- Run `import Pkg; Pkg.add(\"ParameterizedFunctions\")` to install the ParameterizedFunctions package.\n",
      "",
      "Stacktrace:",
      " [1] require(::Module, ::Symbol) at ./loading.jl:887",
      " [2] top-level scope at In[1]:1"
     ]
    }
   ],
   "source": [
    "using OrdinaryDiffEq, ParameterizedFunctions, ODE, ODEInterfaceDiffEq, LSODA,\n",
    "      Sundials, DiffEqDevTools"
   ]
  },
  {
   "cell_type": "code",
   "execution_count": null,
   "metadata": {},
   "outputs": [],
   "source": [
    "f = @ode_def LotkaVolterra begin\n",
    "  dx = a*x - b*x*y\n",
    "  dy = -c*y + d*x*y\n",
    "end a b c d\n",
    "\n",
    "p = [1.5,1.0,3.0,1.0]\n",
    "prob = ODEProblem(f,[1.0;1.0],(0.0,10.0),p)\n",
    "\n",
    "abstols = 1.0 ./ 10.0 .^ (6:13)\n",
    "reltols = 1.0 ./ 10.0 .^ (3:10);\n",
    "sol = solve(prob,Vern7(),abstol=1/10^14,reltol=1/10^14)\n",
    "test_sol = TestSolution(sol)\n",
    "using Plots; gr()\n",
    "\n",
    "\n",
    "plot(sol)\n",
    "\n",
    "\n",
    "setups = [Dict(:alg=>DP5())\n",
    "          #Dict(:alg=>ode45()) # fail\n",
    "          Dict(:alg=>dopri5())\n",
    "          Dict(:alg=>Tsit5())\n",
    "          Dict(:alg=>Vern6())\n",
    "]\n",
    "wp = WorkPrecisionSet(prob,abstols,reltols,setups;appxsol=test_sol,save_everystep=false,maxiters=10000,numruns=100)\n",
    "plot(wp)\n",
    "\n",
    "\n",
    "setups = [Dict(:alg=>DP5())\n",
    "          #Dict(:alg=>ode45())\n",
    "          Dict(:alg=>Tsit5())\n",
    "          Dict(:alg=>Vern6())\n",
    "]\n",
    "wp = WorkPrecisionSet(prob,abstols,reltols,setups;appxsol=test_sol,maxiters=10000,error_estimate=:L2,dense_errors=true,numruns=100)\n",
    "plot(wp)\n",
    "\n",
    "\n",
    "setups = [Dict(:alg=>DP8())\n",
    "          #Dict(:alg=>ode78()) # fails\n",
    "          Dict(:alg=>Vern7())\n",
    "          Dict(:alg=>Vern8())\n",
    "          Dict(:alg=>dop853())\n",
    "          Dict(:alg=>Vern6())\n",
    "]\n",
    "wp = WorkPrecisionSet(prob,abstols,reltols,setups;appxsol=test_sol,save_everystep=false,maxiters=1000,numruns=100)\n",
    "plot(wp)\n",
    "\n",
    "\n",
    "setups = [Dict(:alg=>odex())\n",
    "          Dict(:alg=>ddeabm())\n",
    "          Dict(:alg=>Vern7())\n",
    "          Dict(:alg=>Vern8())\n",
    "          Dict(:alg=>CVODE_Adams())\n",
    "          Dict(:alg=>lsoda())\n",
    "          Dict(:alg=>Vern6())\n",
    "          Dict(:alg=>ARKODE(Sundials.Explicit(),order=6))\n",
    "          ]\n",
    "wp = WorkPrecisionSet(prob,abstols,reltols,setups;appxsol=test_sol,save_everystep=false,maxiters=1000,numruns=100)\n",
    "plot(wp)\n",
    "\n",
    "\n",
    "setups = [Dict(:alg=>DP8())\n",
    "          #Dict(:alg=>ode78())\n",
    "          Dict(:alg=>Vern7())\n",
    "          Dict(:alg=>Vern8())\n",
    "          Dict(:alg=>Vern6())\n",
    "]\n",
    "wp = WorkPrecisionSet(prob,abstols,reltols,setups;appxsol=test_sol,dense=true,maxiters=1000,error_estimate=:L2,numruns=100)\n",
    "plot(wp)\n",
    "\n",
    "\n",
    "setups = [Dict(:alg=>Tsit5())\n",
    "          Dict(:alg=>Vern9())\n",
    "          Dict(:alg=>VCABM())\n",
    "          Dict(:alg=>AitkenNeville(min_order=1, max_order=9, init_order=4, threading=true))\n",
    "          Dict(:alg=>ExtrapolationMidpointDeuflhard(min_order=1, max_order=9, init_order=4, threading=true))\n",
    "          Dict(:alg=>ExtrapolationMidpointHairerWanner(min_order=2, max_order=11, init_order=4, threading=true))]\n",
    "solnames = [\"Tsit5\",\"Vern9\",\"VCABM\",\"AitkenNeville\",\"Midpoint Deuflhard\",\"Midpoint Hairer Wanner\"]\n",
    "wp = WorkPrecisionSet(prob,abstols,reltols,setups;appxsol=test_sol,names=solnames,\n",
    "                      save_everystep=false,verbose=false,numruns=100)\n",
    "plot(wp)\n",
    "\n",
    "\n",
    "setups = [Dict(:alg=>ExtrapolationMidpointDeuflhard(min_order=1, max_order=9, init_order=9, threading=false))\n",
    "          Dict(:alg=>ExtrapolationMidpointHairerWanner(min_order=2, max_order=11, init_order=4, threading=false))\n",
    "          Dict(:alg=>ExtrapolationMidpointHairerWanner(min_order=2, max_order=11, init_order=4, threading=true))\n",
    "          Dict(:alg=>ExtrapolationMidpointHairerWanner(min_order=2, max_order=11, init_order=4, sequence = :romberg, threading=true))\n",
    "          Dict(:alg=>ExtrapolationMidpointHairerWanner(min_order=2, max_order=11, init_order=4, sequence = :bulirsch, threading=true))]\n",
    "solnames = [\"Deuflhard\",\"No threads\",\"standard\",\"Romberg\",\"Bulirsch\"]\n",
    "wp = WorkPrecisionSet(prob,abstols,reltols,setups;appxsol=test_sol,names=solnames,\n",
    "                      save_everystep=false,verbose=false,numruns=100)\n",
    "plot(wp)\n",
    "\n",
    "\n",
    "setups = [Dict(:alg=>ExtrapolationMidpointHairerWanner(min_order=2, max_order=11, init_order=10, threading=true))\n",
    "          Dict(:alg=>ExtrapolationMidpointHairerWanner(min_order=2, max_order=11, init_order=4, threading=true))\n",
    "          Dict(:alg=>ExtrapolationMidpointHairerWanner(min_order=5, max_order=11, init_order=10, threading=true))\n",
    "          Dict(:alg=>ExtrapolationMidpointHairerWanner(min_order=2, max_order=15, init_order=10, threading=true))\n",
    "          Dict(:alg=>ExtrapolationMidpointHairerWanner(min_order=5, max_order=7, init_order=6, threading=true))]\n",
    "solnames = [\"1\",\"2\",\"3\",\"4\",\"5\"]\n",
    "wp = WorkPrecisionSet(prob,abstols,reltols,setups;appxsol=test_sol,names=solnames,\n",
    "                      save_everystep=false,verbose=false,numruns=100)\n",
    "plot(wp)\n",
    "\n",
    "\n",
    "using DiffEqBenchmarks\n",
    "DiffEqBenchmarks.bench_footer(WEAVE_ARGS[:folder],WEAVE_ARGS[:file])"
   ]
  }
 ],
 "metadata": {
  "kernelspec": {
   "display_name": "Julia 1.3.1",
   "language": "julia",
   "name": "julia-1.3"
  },
  "language_info": {
   "file_extension": ".jl",
   "mimetype": "application/julia",
   "name": "julia",
   "version": "1.3.1"
  }
 },
 "nbformat": 4,
 "nbformat_minor": 2
}
