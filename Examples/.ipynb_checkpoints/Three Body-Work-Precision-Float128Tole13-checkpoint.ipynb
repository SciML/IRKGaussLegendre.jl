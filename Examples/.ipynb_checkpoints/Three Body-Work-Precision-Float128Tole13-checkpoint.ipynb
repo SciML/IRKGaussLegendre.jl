{
 "cells": [
  {
   "cell_type": "markdown",
   "metadata": {},
   "source": [
    "# Bechmark: Vern9 vs IRKGL16 (Float128) \n",
    "\n",
    "<ul id=\"top\">\n",
    "    <li><a href=\"#Loading-packages\"> \n",
    "             Loading Packages</a></li>\n",
    "\n",
    "<li><a href=\"#Initial-value-problem:-Burrau-problem\">\n",
    "             Initial value problem: Burrau problem</a></li>\n",
    "\n",
    "<li><a href=\"#Integration-with-Vern9\">\n",
    "             Integration with Vern9</a></li>\n",
    "             \n",
    "<li><a href=\"#Integration-with-IRKGL16-(Adaptive-step)\">\n",
    "             Integration with IRKGL16 (Adaptive-step)</a></li>\n",
    "\n",
    "<li><a href=\"#Error-in-energy\">\n",
    "             Error in energy</a></li> \n",
    "\n",
    "</ul>  \n"
   ]
  },
  {
   "cell_type": "markdown",
   "metadata": {},
   "source": [
    "2020-04-18 Exekuzio berezia\n",
    "\n",
    "- Maixter=12\n",
    "- tol=1e-13"
   ]
  },
  {
   "cell_type": "markdown",
   "metadata": {},
   "source": [
    "## Loading packages"
   ]
  },
  {
   "cell_type": "code",
   "execution_count": 1,
   "metadata": {},
   "outputs": [
    {
     "name": "stderr",
     "output_type": "stream",
     "text": [
      "┌ Info: Precompiling IRKGaussLegendre [58bc7355-f626-4c51-96f2-1f8a038f95a2]\n",
      "└ @ Base loading.jl:1273\n"
     ]
    }
   ],
   "source": [
    "using Pkg\n",
    "using IRKGaussLegendre,LinearAlgebra,Plots,Statistics\n",
    "using OrdinaryDiffEq\n",
    "using DiffEqDevTools,BenchmarkTools\n",
    "using Dates"
   ]
  },
  {
   "cell_type": "code",
   "execution_count": 2,
   "metadata": {},
   "outputs": [
    {
     "data": {
      "text/plain": [
       "10"
      ]
     },
     "execution_count": 2,
     "metadata": {},
     "output_type": "execute_result"
    }
   ],
   "source": [
    "BenchmarkTools.DEFAULT_PARAMETERS.samples=10"
   ]
  },
  {
   "cell_type": "markdown",
   "metadata": {},
   "source": [
    "<a href=\"#top\">Back to the top</a>\n",
    "\n",
    "## Initial value problem: ThreeBody problem"
   ]
  },
  {
   "cell_type": "code",
   "execution_count": 3,
   "metadata": {},
   "outputs": [
    {
     "data": {
      "text/plain": [
       "\u001b[36mODEProblem\u001b[0m with uType \u001b[36mArray{Float64,1}\u001b[0m and tType \u001b[36mFloat64\u001b[0m. In-place: \u001b[36mtrue\u001b[0m\n",
       "timespan: (0.0, 34.13043312031593)\n",
       "u0: [0.994, 0.0, 0.0, -1.0075851063790826]"
      ]
     },
     "execution_count": 3,
     "metadata": {},
     "output_type": "execute_result"
    }
   ],
   "source": [
    "const μ = parse(Float64,\"0.012277471\")\n",
    "#const uμ = 1 - μ\n",
    "\n",
    "f = (du,u,p,t) -> begin\n",
    "  \n",
    "  μ=p[1]\n",
    "  uμ=1-μ\n",
    "  @inbounds begin\n",
    "  # 1 = y₁\n",
    "  # 2 = y₂\n",
    "  # 3 = y₁'\n",
    "  # 4 = y₂'\n",
    "  D₁ = ((u[1]+μ)^2 + u[2]^2)^(3/2)\n",
    "  D₂ = ((u[1]-uμ)^2 + u[2]^2)^(3/2)\n",
    "  du[1] = u[3]+u[2]\n",
    "  du[2] = u[4]-u[1]\n",
    "  du[3] = u[4] - uμ*(u[1]+μ)/D₁ - μ*(u[1]-uμ)/D₂\n",
    "  du[4] = -u[3] - uμ*u[2]/D₁ - μ*u[2]/D₂\n",
    "  end\n",
    "end\n",
    "\n",
    "\n",
    "t₀ = 0.0;\n",
    "T = parse(Float64,\"17.0652165601579625588917206249\")\n",
    "tspan = (t₀,2T)\n",
    "\n",
    "py0=parse(BigFloat,\"-2.00158510637908252240537862224\")+0.994\n",
    "u0=[0.994,0.0,0.0, Float64(py0)]\n",
    "prob = ODEProblem(f,u0,tspan,[μ])\n"
   ]
  },
  {
   "cell_type": "code",
   "execution_count": 4,
   "metadata": {},
   "outputs": [],
   "source": [
    "setprecision(BigFloat, 106)\n",
    "u0128=BigFloat.([0.994,0.0,0.0, py0])\n",
    "μ128 = parse(BigFloat,\"0.012277471\")\n",
    "tspan128=(BigFloat(t₀),BigFloat(2T))\n",
    "prob128=ODEProblem(f,u0128,tspan128,[μ128]);"
   ]
  },
  {
   "cell_type": "markdown",
   "metadata": {},
   "source": [
    "<a href=\"#top\">Back to the top</a>\n",
    "\n",
    "\n",
    "## Integration with Vern9"
   ]
  },
  {
   "cell_type": "markdown",
   "metadata": {},
   "source": [
    "Recommend methods: Non-Stiff Problems\n",
    "\n",
    "- For high accuracy non-stiff solving ( BigFloat and tolerances like <1e-12 ), JuliaDiffeq recommend\n",
    "the Vern9 method\n"
   ]
  },
  {
   "cell_type": "code",
   "execution_count": 5,
   "metadata": {},
   "outputs": [
    {
     "name": "stdout",
     "output_type": "stream",
     "text": [
      " 34.456919 seconds (68.23 M allocations: 3.078 GiB, 6.12% gc time)\n"
     ]
    }
   ],
   "source": [
    "sol0 = @time(solve(prob128,Vern9(),saveat=0.5, abstol=1e-13,reltol=1e-13));"
   ]
  },
  {
   "cell_type": "code",
   "execution_count": 6,
   "metadata": {},
   "outputs": [
    {
     "data": {
      "text/plain": [
       "DiffEqBase.DEStats\n",
       "Number of function 1 evaluations:                  11330\n",
       "Number of function 2 evaluations:                  0\n",
       "Number of W matrix evaluations:                    0\n",
       "Number of linear solves:                           0\n",
       "Number of Jacobians created:                       0\n",
       "Number of nonlinear solver iterations:             0\n",
       "Number of nonlinear solver convergence failures:   0\n",
       "Number of rootfind condition calls:                0\n",
       "Number of accepted steps:                          682\n",
       "Number of rejected steps:                          26"
      ]
     },
     "execution_count": 6,
     "metadata": {},
     "output_type": "execute_result"
    }
   ],
   "source": [
    "sol0.destats"
   ]
  },
  {
   "cell_type": "code",
   "execution_count": 7,
   "metadata": {},
   "outputs": [
    {
     "data": {
      "image/svg+xml": [
       "<?xml version=\"1.0\" encoding=\"utf-8\"?>\n",
       "<svg xmlns=\"http://www.w3.org/2000/svg\" xmlns:xlink=\"http://www.w3.org/1999/xlink\" width=\"600\" height=\"400\" viewBox=\"0 0 2400 1600\">\n",
       "<defs>\n",
       "  <clipPath id=\"clip0100\">\n",
       "    <rect x=\"0\" y=\"0\" width=\"2400\" height=\"1600\"/>\n",
       "  </clipPath>\n",
       "</defs>\n",
       "<path clip-path=\"url(#clip0100)\" d=\"\n",
       "M0 1600 L2400 1600 L2400 0 L0 0  Z\n",
       "  \" fill=\"#ffffff\" fill-rule=\"evenodd\" fill-opacity=\"1\"/>\n",
       "<defs>\n",
       "  <clipPath id=\"clip0101\">\n",
       "    <rect x=\"480\" y=\"0\" width=\"1681\" height=\"1600\"/>\n",
       "  </clipPath>\n",
       "</defs>\n",
       "<path clip-path=\"url(#clip0100)\" d=\"\n",
       "M182.008 1487.47 L2352.76 1487.47 L2352.76 47.2441 L182.008 47.2441  Z\n",
       "  \" fill=\"#ffffff\" fill-rule=\"evenodd\" fill-opacity=\"1\"/>\n",
       "<defs>\n",
       "  <clipPath id=\"clip0102\">\n",
       "    <rect x=\"182\" y=\"47\" width=\"2172\" height=\"1441\"/>\n",
       "  </clipPath>\n",
       "</defs>\n",
       "<polyline clip-path=\"url(#clip0102)\" style=\"stroke:#000000; stroke-width:2; stroke-opacity:0.1; fill:none\" points=\"\n",
       "  507.305,1487.47 507.305,47.2441 \n",
       "  \"/>\n",
       "<polyline clip-path=\"url(#clip0102)\" style=\"stroke:#000000; stroke-width:2; stroke-opacity:0.1; fill:none\" points=\"\n",
       "  948.083,1487.47 948.083,47.2441 \n",
       "  \"/>\n",
       "<polyline clip-path=\"url(#clip0102)\" style=\"stroke:#000000; stroke-width:2; stroke-opacity:0.1; fill:none\" points=\"\n",
       "  1388.86,1487.47 1388.86,47.2441 \n",
       "  \"/>\n",
       "<polyline clip-path=\"url(#clip0102)\" style=\"stroke:#000000; stroke-width:2; stroke-opacity:0.1; fill:none\" points=\"\n",
       "  1829.64,1487.47 1829.64,47.2441 \n",
       "  \"/>\n",
       "<polyline clip-path=\"url(#clip0102)\" style=\"stroke:#000000; stroke-width:2; stroke-opacity:0.1; fill:none\" points=\"\n",
       "  2270.42,1487.47 2270.42,47.2441 \n",
       "  \"/>\n",
       "<polyline clip-path=\"url(#clip0102)\" style=\"stroke:#000000; stroke-width:2; stroke-opacity:0.1; fill:none\" points=\"\n",
       "  182.008,1367.68 2352.76,1367.68 \n",
       "  \"/>\n",
       "<polyline clip-path=\"url(#clip0102)\" style=\"stroke:#000000; stroke-width:2; stroke-opacity:0.1; fill:none\" points=\"\n",
       "  182.008,1068.82 2352.76,1068.82 \n",
       "  \"/>\n",
       "<polyline clip-path=\"url(#clip0102)\" style=\"stroke:#000000; stroke-width:2; stroke-opacity:0.1; fill:none\" points=\"\n",
       "  182.008,769.963 2352.76,769.963 \n",
       "  \"/>\n",
       "<polyline clip-path=\"url(#clip0102)\" style=\"stroke:#000000; stroke-width:2; stroke-opacity:0.1; fill:none\" points=\"\n",
       "  182.008,471.105 2352.76,471.105 \n",
       "  \"/>\n",
       "<polyline clip-path=\"url(#clip0102)\" style=\"stroke:#000000; stroke-width:2; stroke-opacity:0.1; fill:none\" points=\"\n",
       "  182.008,172.247 2352.76,172.247 \n",
       "  \"/>\n",
       "<polyline clip-path=\"url(#clip0100)\" style=\"stroke:#000000; stroke-width:4; stroke-opacity:1; fill:none\" points=\"\n",
       "  182.008,1487.47 2352.76,1487.47 \n",
       "  \"/>\n",
       "<polyline clip-path=\"url(#clip0100)\" style=\"stroke:#000000; stroke-width:4; stroke-opacity:1; fill:none\" points=\"\n",
       "  182.008,1487.47 182.008,47.2441 \n",
       "  \"/>\n",
       "<polyline clip-path=\"url(#clip0100)\" style=\"stroke:#000000; stroke-width:4; stroke-opacity:1; fill:none\" points=\"\n",
       "  507.305,1487.47 507.305,1470.19 \n",
       "  \"/>\n",
       "<polyline clip-path=\"url(#clip0100)\" style=\"stroke:#000000; stroke-width:4; stroke-opacity:1; fill:none\" points=\"\n",
       "  948.083,1487.47 948.083,1470.19 \n",
       "  \"/>\n",
       "<polyline clip-path=\"url(#clip0100)\" style=\"stroke:#000000; stroke-width:4; stroke-opacity:1; fill:none\" points=\"\n",
       "  1388.86,1487.47 1388.86,1470.19 \n",
       "  \"/>\n",
       "<polyline clip-path=\"url(#clip0100)\" style=\"stroke:#000000; stroke-width:4; stroke-opacity:1; fill:none\" points=\"\n",
       "  1829.64,1487.47 1829.64,1470.19 \n",
       "  \"/>\n",
       "<polyline clip-path=\"url(#clip0100)\" style=\"stroke:#000000; stroke-width:4; stroke-opacity:1; fill:none\" points=\"\n",
       "  2270.42,1487.47 2270.42,1470.19 \n",
       "  \"/>\n",
       "<polyline clip-path=\"url(#clip0100)\" style=\"stroke:#000000; stroke-width:4; stroke-opacity:1; fill:none\" points=\"\n",
       "  182.008,1367.68 208.057,1367.68 \n",
       "  \"/>\n",
       "<polyline clip-path=\"url(#clip0100)\" style=\"stroke:#000000; stroke-width:4; stroke-opacity:1; fill:none\" points=\"\n",
       "  182.008,1068.82 208.057,1068.82 \n",
       "  \"/>\n",
       "<polyline clip-path=\"url(#clip0100)\" style=\"stroke:#000000; stroke-width:4; stroke-opacity:1; fill:none\" points=\"\n",
       "  182.008,769.963 208.057,769.963 \n",
       "  \"/>\n",
       "<polyline clip-path=\"url(#clip0100)\" style=\"stroke:#000000; stroke-width:4; stroke-opacity:1; fill:none\" points=\"\n",
       "  182.008,471.105 208.057,471.105 \n",
       "  \"/>\n",
       "<polyline clip-path=\"url(#clip0100)\" style=\"stroke:#000000; stroke-width:4; stroke-opacity:1; fill:none\" points=\"\n",
       "  182.008,172.247 208.057,172.247 \n",
       "  \"/>\n",
       "<g clip-path=\"url(#clip0100)\">\n",
       "<text style=\"fill:#000000; fill-opacity:1; font-family:Arial,Helvetica Neue,Helvetica,sans-serif; font-size:48px; text-anchor:middle;\" transform=\"rotate(0, 507.305, 1541.47)\" x=\"507.305\" y=\"1541.47\">-1.0</text>\n",
       "</g>\n",
       "<g clip-path=\"url(#clip0100)\">\n",
       "<text style=\"fill:#000000; fill-opacity:1; font-family:Arial,Helvetica Neue,Helvetica,sans-serif; font-size:48px; text-anchor:middle;\" transform=\"rotate(0, 948.083, 1541.47)\" x=\"948.083\" y=\"1541.47\">-0.5</text>\n",
       "</g>\n",
       "<g clip-path=\"url(#clip0100)\">\n",
       "<text style=\"fill:#000000; fill-opacity:1; font-family:Arial,Helvetica Neue,Helvetica,sans-serif; font-size:48px; text-anchor:middle;\" transform=\"rotate(0, 1388.86, 1541.47)\" x=\"1388.86\" y=\"1541.47\">0.0</text>\n",
       "</g>\n",
       "<g clip-path=\"url(#clip0100)\">\n",
       "<text style=\"fill:#000000; fill-opacity:1; font-family:Arial,Helvetica Neue,Helvetica,sans-serif; font-size:48px; text-anchor:middle;\" transform=\"rotate(0, 1829.64, 1541.47)\" x=\"1829.64\" y=\"1541.47\">0.5</text>\n",
       "</g>\n",
       "<g clip-path=\"url(#clip0100)\">\n",
       "<text style=\"fill:#000000; fill-opacity:1; font-family:Arial,Helvetica Neue,Helvetica,sans-serif; font-size:48px; text-anchor:middle;\" transform=\"rotate(0, 2270.42, 1541.47)\" x=\"2270.42\" y=\"1541.47\">1.0</text>\n",
       "</g>\n",
       "<g clip-path=\"url(#clip0100)\">\n",
       "<text style=\"fill:#000000; fill-opacity:1; font-family:Arial,Helvetica Neue,Helvetica,sans-serif; font-size:48px; text-anchor:end;\" transform=\"rotate(0, 158.008, 1385.18)\" x=\"158.008\" y=\"1385.18\">-1.0</text>\n",
       "</g>\n",
       "<g clip-path=\"url(#clip0100)\">\n",
       "<text style=\"fill:#000000; fill-opacity:1; font-family:Arial,Helvetica Neue,Helvetica,sans-serif; font-size:48px; text-anchor:end;\" transform=\"rotate(0, 158.008, 1086.32)\" x=\"158.008\" y=\"1086.32\">-0.5</text>\n",
       "</g>\n",
       "<g clip-path=\"url(#clip0100)\">\n",
       "<text style=\"fill:#000000; fill-opacity:1; font-family:Arial,Helvetica Neue,Helvetica,sans-serif; font-size:48px; text-anchor:end;\" transform=\"rotate(0, 158.008, 787.463)\" x=\"158.008\" y=\"787.463\">0.0</text>\n",
       "</g>\n",
       "<g clip-path=\"url(#clip0100)\">\n",
       "<text style=\"fill:#000000; fill-opacity:1; font-family:Arial,Helvetica Neue,Helvetica,sans-serif; font-size:48px; text-anchor:end;\" transform=\"rotate(0, 158.008, 488.605)\" x=\"158.008\" y=\"488.605\">0.5</text>\n",
       "</g>\n",
       "<g clip-path=\"url(#clip0100)\">\n",
       "<text style=\"fill:#000000; fill-opacity:1; font-family:Arial,Helvetica Neue,Helvetica,sans-serif; font-size:48px; text-anchor:end;\" transform=\"rotate(0, 158.008, 189.747)\" x=\"158.008\" y=\"189.747\">1.0</text>\n",
       "</g>\n",
       "<polyline clip-path=\"url(#clip0102)\" style=\"stroke:#009af9; stroke-width:4; stroke-opacity:1; fill:none\" points=\"\n",
       "  2265.13,769.963 1998.71,747.701 1665.04,561.953 1173.47,453.071 877.667,405.907 781.366,307.635 840.229,191.214 1007.78,107.445 1214.02,89.9785 1374.61,144.423 \n",
       "  1408.86,252.018 1256.52,398.275 971.379,636.13 807.698,900.662 669.705,1030.14 499.346,1031.82 353.426,934.9 291.722,780.758 339.631,622.944 477.443,515.886 \n",
       "  648.524,502.885 791.749,614.196 940.931,865.123 1222.29,1117.83 1400.45,1271.19 1387.81,1383.92 1239.39,1446.71 1034.22,1438.94 857.18,1362.45 781.034,1247.59 \n",
       "  855.012,1144.05 1121.14,1091.43 1602.82,1003.07 1965.1,810.068 2218.67,748.856 2031.16,762.849 1722.48,588.956 1230.25,458.362 903.639,414.902 784.351,322.614 \n",
       "  825.165,205.538 982.017,115.07 1187.87,88.0053 1359.24,133.751 1414.02,235.851 1287.78,376.029 1005.31,598.201 823.653,873.023 690.208,1021.07 521.673,1037.9 \n",
       "  368.706,951.825 293.653,802.284 327.42,641.742 456.121,525.287 626.77,498.099 775.468,591.682 914.109,826.548 1185.55,1092.14 1388.68,1253.92 1398.68,1371.5 \n",
       "  1263.79,1442.24 1061.15,1444.18 875.886,1375.51 783.276,1263.08 835.557,1155.08 1073.26,1095.89 1536.86,1025.18 1929.78,830.5 2181.58,745.048 2265.13,769.963 \n",
       "  \n",
       "  \"/>\n",
       "<path clip-path=\"url(#clip0100)\" d=\"\n",
       "M1888.27 251.724 L2280.76 251.724 L2280.76 130.764 L1888.27 130.764  Z\n",
       "  \" fill=\"#ffffff\" fill-rule=\"evenodd\" fill-opacity=\"1\"/>\n",
       "<polyline clip-path=\"url(#clip0100)\" style=\"stroke:#000000; stroke-width:4; stroke-opacity:1; fill:none\" points=\"\n",
       "  1888.27,251.724 2280.76,251.724 2280.76,130.764 1888.27,130.764 1888.27,251.724 \n",
       "  \"/>\n",
       "<polyline clip-path=\"url(#clip0100)\" style=\"stroke:#009af9; stroke-width:4; stroke-opacity:1; fill:none\" points=\"\n",
       "  1912.27,191.244 2056.27,191.244 \n",
       "  \"/>\n",
       "<g clip-path=\"url(#clip0100)\">\n",
       "<text style=\"fill:#000000; fill-opacity:1; font-family:Arial,Helvetica Neue,Helvetica,sans-serif; font-size:48px; text-anchor:start;\" transform=\"rotate(0, 2080.27, 208.744)\" x=\"2080.27\" y=\"208.744\">(u1,u2)</text>\n",
       "</g>\n",
       "</svg>\n"
      ]
     },
     "execution_count": 7,
     "metadata": {},
     "output_type": "execute_result"
    }
   ],
   "source": [
    "plot(sol0,vars=(1,2))"
   ]
  },
  {
   "cell_type": "markdown",
   "metadata": {},
   "source": [
    "## Integration with IRKGL16 (Adaptive-step)\n"
   ]
  },
  {
   "cell_type": "code",
   "execution_count": 8,
   "metadata": {},
   "outputs": [
    {
     "name": "stdout",
     "output_type": "stream",
     "text": [
      " 12.056488 seconds (23.65 M allocations: 1.081 GiB, 4.38% gc time)\n"
     ]
    }
   ],
   "source": [
    "(sol1,iters1,steps1)=@time(solve(prob128,IRKGL16(),reltol=1e-13, abstol=1e-13,myoutputs=true));"
   ]
  },
  {
   "cell_type": "code",
   "execution_count": 9,
   "metadata": {},
   "outputs": [
    {
     "data": {
      "text/plain": [
       "12.082191780821917"
      ]
     },
     "execution_count": 9,
     "metadata": {},
     "output_type": "execute_result"
    }
   ],
   "source": [
    "sum(iters1)/sol1.destats.naccept"
   ]
  },
  {
   "cell_type": "code",
   "execution_count": 10,
   "metadata": {},
   "outputs": [
    {
     "data": {
      "text/plain": [
       "DiffEqBase.DEStats\n",
       "Number of function 1 evaluations:                  16320\n",
       "Number of function 2 evaluations:                  0\n",
       "Number of W matrix evaluations:                    0\n",
       "Number of linear solves:                           0\n",
       "Number of Jacobians created:                       0\n",
       "Number of nonlinear solver iterations:             0\n",
       "Number of nonlinear solver convergence failures:   0\n",
       "Number of rootfind condition calls:                0\n",
       "Number of accepted steps:                          146\n",
       "Number of rejected steps:                          21"
      ]
     },
     "execution_count": 10,
     "metadata": {},
     "output_type": "execute_result"
    }
   ],
   "source": [
    "sol1.destats"
   ]
  },
  {
   "cell_type": "code",
   "execution_count": 11,
   "metadata": {},
   "outputs": [
    {
     "data": {
      "text/plain": [
       "2.79066680740140681096988508395163e-15"
      ]
     },
     "execution_count": 11,
     "metadata": {},
     "output_type": "execute_result"
    }
   ],
   "source": [
    "T128 = parse(BigFloat,\"17.0652165601579625588917206249\")\n",
    "sol1.t[end]-2*T128"
   ]
  },
  {
   "cell_type": "markdown",
   "metadata": {},
   "source": [
    "## Integration with IRKGL162 (Adaptive-step)"
   ]
  },
  {
   "cell_type": "code",
   "execution_count": 12,
   "metadata": {},
   "outputs": [
    {
     "name": "stdout",
     "output_type": "stream",
     "text": [
      "  3.309844 seconds (10.31 M allocations: 465.141 MiB, 3.87% gc time)\n"
     ]
    }
   ],
   "source": [
    "(sol2,iters2,steps2)=@time(solve(prob128,IRKGL162(),reltol=1e-13, abstol=1e-13,myoutputs=true));"
   ]
  },
  {
   "cell_type": "code",
   "execution_count": 13,
   "metadata": {},
   "outputs": [
    {
     "data": {
      "text/plain": [
       "24.69178082191781"
      ]
     },
     "execution_count": 13,
     "metadata": {},
     "output_type": "execute_result"
    }
   ],
   "source": [
    "sum(iters2)/sol2.destats.naccept"
   ]
  },
  {
   "cell_type": "code",
   "execution_count": 14,
   "metadata": {},
   "outputs": [
    {
     "data": {
      "text/plain": [
       "DiffEqBase.DEStats\n",
       "Number of function 1 evaluations:                  31390\n",
       "Number of function 2 evaluations:                  0\n",
       "Number of W matrix evaluations:                    0\n",
       "Number of linear solves:                           0\n",
       "Number of Jacobians created:                       0\n",
       "Number of nonlinear solver iterations:             0\n",
       "Number of nonlinear solver convergence failures:   0\n",
       "Number of rootfind condition calls:                0\n",
       "Number of accepted steps:                          146\n",
       "Number of rejected steps:                          21"
      ]
     },
     "execution_count": 14,
     "metadata": {},
     "output_type": "execute_result"
    }
   ],
   "source": [
    "sol2.destats"
   ]
  },
  {
   "cell_type": "markdown",
   "metadata": {},
   "source": [
    "### Plots IRKGL16"
   ]
  },
  {
   "cell_type": "code",
   "execution_count": 15,
   "metadata": {},
   "outputs": [
    {
     "data": {
      "image/svg+xml": [
       "<?xml version=\"1.0\" encoding=\"utf-8\"?>\n",
       "<svg xmlns=\"http://www.w3.org/2000/svg\" xmlns:xlink=\"http://www.w3.org/1999/xlink\" width=\"600\" height=\"400\" viewBox=\"0 0 2400 1600\">\n",
       "<defs>\n",
       "  <clipPath id=\"clip0500\">\n",
       "    <rect x=\"0\" y=\"0\" width=\"2400\" height=\"1600\"/>\n",
       "  </clipPath>\n",
       "</defs>\n",
       "<path clip-path=\"url(#clip0500)\" d=\"\n",
       "M0 1600 L2400 1600 L2400 0 L0 0  Z\n",
       "  \" fill=\"#ffffff\" fill-rule=\"evenodd\" fill-opacity=\"1\"/>\n",
       "<defs>\n",
       "  <clipPath id=\"clip0501\">\n",
       "    <rect x=\"480\" y=\"0\" width=\"1681\" height=\"1600\"/>\n",
       "  </clipPath>\n",
       "</defs>\n",
       "<path clip-path=\"url(#clip0500)\" d=\"\n",
       "M140.517 1487.47 L2352.76 1487.47 L2352.76 121.675 L140.517 121.675  Z\n",
       "  \" fill=\"#ffffff\" fill-rule=\"evenodd\" fill-opacity=\"1\"/>\n",
       "<defs>\n",
       "  <clipPath id=\"clip0502\">\n",
       "    <rect x=\"140\" y=\"121\" width=\"2213\" height=\"1367\"/>\n",
       "  </clipPath>\n",
       "</defs>\n",
       "<polyline clip-path=\"url(#clip0502)\" style=\"stroke:#000000; stroke-width:2; stroke-opacity:0.1; fill:none\" points=\"\n",
       "  203.028,1487.47 203.028,121.675 \n",
       "  \"/>\n",
       "<polyline clip-path=\"url(#clip0502)\" style=\"stroke:#000000; stroke-width:2; stroke-opacity:0.1; fill:none\" points=\"\n",
       "  814.54,1487.47 814.54,121.675 \n",
       "  \"/>\n",
       "<polyline clip-path=\"url(#clip0502)\" style=\"stroke:#000000; stroke-width:2; stroke-opacity:0.1; fill:none\" points=\"\n",
       "  1426.05,1487.47 1426.05,121.675 \n",
       "  \"/>\n",
       "<polyline clip-path=\"url(#clip0502)\" style=\"stroke:#000000; stroke-width:2; stroke-opacity:0.1; fill:none\" points=\"\n",
       "  2037.56,1487.47 2037.56,121.675 \n",
       "  \"/>\n",
       "<polyline clip-path=\"url(#clip0502)\" style=\"stroke:#000000; stroke-width:2; stroke-opacity:0.1; fill:none\" points=\"\n",
       "  140.517,1264.75 2352.76,1264.75 \n",
       "  \"/>\n",
       "<polyline clip-path=\"url(#clip0502)\" style=\"stroke:#000000; stroke-width:2; stroke-opacity:0.1; fill:none\" points=\"\n",
       "  140.517,957.967 2352.76,957.967 \n",
       "  \"/>\n",
       "<polyline clip-path=\"url(#clip0502)\" style=\"stroke:#000000; stroke-width:2; stroke-opacity:0.1; fill:none\" points=\"\n",
       "  140.517,651.183 2352.76,651.183 \n",
       "  \"/>\n",
       "<polyline clip-path=\"url(#clip0502)\" style=\"stroke:#000000; stroke-width:2; stroke-opacity:0.1; fill:none\" points=\"\n",
       "  140.517,344.4 2352.76,344.4 \n",
       "  \"/>\n",
       "<polyline clip-path=\"url(#clip0500)\" style=\"stroke:#000000; stroke-width:4; stroke-opacity:1; fill:none\" points=\"\n",
       "  140.517,1487.47 2352.76,1487.47 \n",
       "  \"/>\n",
       "<polyline clip-path=\"url(#clip0500)\" style=\"stroke:#000000; stroke-width:4; stroke-opacity:1; fill:none\" points=\"\n",
       "  140.517,1487.47 140.517,121.675 \n",
       "  \"/>\n",
       "<polyline clip-path=\"url(#clip0500)\" style=\"stroke:#000000; stroke-width:4; stroke-opacity:1; fill:none\" points=\"\n",
       "  203.028,1487.47 203.028,1471.09 \n",
       "  \"/>\n",
       "<polyline clip-path=\"url(#clip0500)\" style=\"stroke:#000000; stroke-width:4; stroke-opacity:1; fill:none\" points=\"\n",
       "  814.54,1487.47 814.54,1471.09 \n",
       "  \"/>\n",
       "<polyline clip-path=\"url(#clip0500)\" style=\"stroke:#000000; stroke-width:4; stroke-opacity:1; fill:none\" points=\"\n",
       "  1426.05,1487.47 1426.05,1471.09 \n",
       "  \"/>\n",
       "<polyline clip-path=\"url(#clip0500)\" style=\"stroke:#000000; stroke-width:4; stroke-opacity:1; fill:none\" points=\"\n",
       "  2037.56,1487.47 2037.56,1471.09 \n",
       "  \"/>\n",
       "<polyline clip-path=\"url(#clip0500)\" style=\"stroke:#000000; stroke-width:4; stroke-opacity:1; fill:none\" points=\"\n",
       "  140.517,1264.75 167.064,1264.75 \n",
       "  \"/>\n",
       "<polyline clip-path=\"url(#clip0500)\" style=\"stroke:#000000; stroke-width:4; stroke-opacity:1; fill:none\" points=\"\n",
       "  140.517,957.967 167.064,957.967 \n",
       "  \"/>\n",
       "<polyline clip-path=\"url(#clip0500)\" style=\"stroke:#000000; stroke-width:4; stroke-opacity:1; fill:none\" points=\"\n",
       "  140.517,651.183 167.064,651.183 \n",
       "  \"/>\n",
       "<polyline clip-path=\"url(#clip0500)\" style=\"stroke:#000000; stroke-width:4; stroke-opacity:1; fill:none\" points=\"\n",
       "  140.517,344.4 167.064,344.4 \n",
       "  \"/>\n",
       "<g clip-path=\"url(#clip0500)\">\n",
       "<text style=\"fill:#000000; fill-opacity:1; font-family:Arial,Helvetica Neue,Helvetica,sans-serif; font-size:48px; text-anchor:middle;\" transform=\"rotate(0, 203.028, 1541.47)\" x=\"203.028\" y=\"1541.47\">0</text>\n",
       "</g>\n",
       "<g clip-path=\"url(#clip0500)\">\n",
       "<text style=\"fill:#000000; fill-opacity:1; font-family:Arial,Helvetica Neue,Helvetica,sans-serif; font-size:48px; text-anchor:middle;\" transform=\"rotate(0, 814.54, 1541.47)\" x=\"814.54\" y=\"1541.47\">10</text>\n",
       "</g>\n",
       "<g clip-path=\"url(#clip0500)\">\n",
       "<text style=\"fill:#000000; fill-opacity:1; font-family:Arial,Helvetica Neue,Helvetica,sans-serif; font-size:48px; text-anchor:middle;\" transform=\"rotate(0, 1426.05, 1541.47)\" x=\"1426.05\" y=\"1541.47\">20</text>\n",
       "</g>\n",
       "<g clip-path=\"url(#clip0500)\">\n",
       "<text style=\"fill:#000000; fill-opacity:1; font-family:Arial,Helvetica Neue,Helvetica,sans-serif; font-size:48px; text-anchor:middle;\" transform=\"rotate(0, 2037.56, 1541.47)\" x=\"2037.56\" y=\"1541.47\">30</text>\n",
       "</g>\n",
       "<g clip-path=\"url(#clip0500)\">\n",
       "<text style=\"fill:#000000; fill-opacity:1; font-family:Arial,Helvetica Neue,Helvetica,sans-serif; font-size:48px; text-anchor:end;\" transform=\"rotate(0, 116.517, 1282.25)\" x=\"116.517\" y=\"1282.25\">15</text>\n",
       "</g>\n",
       "<g clip-path=\"url(#clip0500)\">\n",
       "<text style=\"fill:#000000; fill-opacity:1; font-family:Arial,Helvetica Neue,Helvetica,sans-serif; font-size:48px; text-anchor:end;\" transform=\"rotate(0, 116.517, 975.467)\" x=\"116.517\" y=\"975.467\">20</text>\n",
       "</g>\n",
       "<g clip-path=\"url(#clip0500)\">\n",
       "<text style=\"fill:#000000; fill-opacity:1; font-family:Arial,Helvetica Neue,Helvetica,sans-serif; font-size:48px; text-anchor:end;\" transform=\"rotate(0, 116.517, 668.683)\" x=\"116.517\" y=\"668.683\">25</text>\n",
       "</g>\n",
       "<g clip-path=\"url(#clip0500)\">\n",
       "<text style=\"fill:#000000; fill-opacity:1; font-family:Arial,Helvetica Neue,Helvetica,sans-serif; font-size:48px; text-anchor:end;\" transform=\"rotate(0, 116.517, 361.9)\" x=\"116.517\" y=\"361.9\">30</text>\n",
       "</g>\n",
       "<g clip-path=\"url(#clip0500)\">\n",
       "<text style=\"fill:#000000; fill-opacity:1; font-family:Arial,Helvetica Neue,Helvetica,sans-serif; font-size:84px; text-anchor:middle;\" transform=\"rotate(0, 1246.64, 73.2)\" x=\"1246.64\" y=\"73.2\">Iteration numbers</text>\n",
       "</g>\n",
       "<polyline clip-path=\"url(#clip0502)\" style=\"stroke:#009af9; stroke-width:4; stroke-opacity:1; fill:none\" points=\"\n",
       "  203.127,712.54 203.225,1448.82 203.354,1448.82 203.532,1448.82 203.788,1448.82 204.171,1448.82 204.778,1448.82 205.698,1448.82 207.17,1448.82 209.582,1448.82 \n",
       "  213.588,1448.82 220.33,1448.82 231.818,1448.82 246.986,1448.82 258.363,1448.82 267.54,1448.82 276.523,1448.82 286.096,1448.82 297.4,1448.82 311.515,1448.82 \n",
       "  332.429,1448.82 363.336,1448.82 409.12,1448.82 459.939,1448.82 490.769,1448.82 517.274,1448.82 535.73,1448.82 549.975,1448.82 561.297,1448.82 571.94,1448.82 \n",
       "  583.033,1448.82 596.001,1448.82 612.544,1448.82 636.973,1448.82 671.433,1448.82 724.98,1448.82 772.277,1448.82 806.98,1448.82 833.665,1448.82 852.27,1448.82 \n",
       "  865.624,1448.82 876.703,1448.82 887.533,1448.82 898.777,1448.82 912.067,1448.82 929.44,1448.82 954.533,1448.82 990.042,1448.82 1045.78,1448.82 1080.63,1448.82 \n",
       "  1112.93,1448.82 1135.76,1448.82 1151.95,1448.82 1163.2,1448.82 1172.53,1448.82 1181.85,1448.82 1191.23,1448.82 1202.2,1448.82 1216.43,1448.82 1225.76,1448.82 \n",
       "  1233.22,1448.82 1238.3,1448.82 1241.4,1448.82 1243.28,1448.82 1244.44,1448.82 1245.17,1448.82 1245.64,1448.82 1245.97,1448.82 1246.19,1448.82 1246.33,1448.82 \n",
       "  1246.45,1448.82 1246.54,1448.82 1246.63,1448.82 1246.72,1448.82 1246.83,1448.82 1246.97,1448.82 1247.18,1448.82 1247.47,1448.82 1247.93,1448.82 1248.64,1448.82 \n",
       "  1249.74,1448.82 1251.51,1448.82 1254.43,1448.82 1259.31,1448.82 1267.57,1448.82 1281.7,1448.82 1294.47,1448.82 1305.71,1448.82 1314.73,1448.82 1323.53,1448.82 \n",
       "  1333.44,1448.82 1346.17,1448.82 1363.52,1448.82 1386.74,1448.82 1424.22,1448.82 1477.12,1448.82 1514.12,1448.82 1546.73,1448.82 1570.3,1448.82 1585.93,1448.82 \n",
       "  1598.95,1448.82 1609.74,1448.82 1620.27,1448.82 1632.11,1448.82 1647.2,1448.82 1667.4,1448.82 1694.36,1448.82 1739.18,1448.82 1801.37,1448.82 1828.12,1448.82 \n",
       "  1856.33,1448.82 1881,1448.82 1897.85,1448.82 1911.47,1448.82 1922.07,1448.82 1932.64,1448.82 1944.12,1448.82 1957.98,1448.82 1976.2,1448.82 2002.5,1448.82 \n",
       "  2040.61,1448.82 2099.53,1448.82 2125.26,1448.82 2154.11,1448.82 2177.74,1448.82 2194.59,1448.82 2205.9,1448.82 2215.53,1448.82 2224.9,1448.82 2234.15,1448.82 \n",
       "  2244.94,1448.82 2258.91,1448.82 2269.12,1448.82 2276.38,1448.82 2281.59,1448.82 2284.8,1448.82 2286.74,1448.82 2287.93,1448.82 2288.69,1448.82 2289.18,1448.82 \n",
       "  2289.51,1448.82 2289.73,1448.82 2289.88,1448.82 2290,1448.82 2290.09,1448.82 2290.15,1448.82 \n",
       "  \"/>\n",
       "<polyline clip-path=\"url(#clip0502)\" style=\"stroke:#e26f46; stroke-width:4; stroke-opacity:1; fill:none\" points=\"\n",
       "  203.127,528.47 203.225,835.253 203.354,773.897 203.532,773.897 203.788,773.897 204.171,835.253 204.778,835.253 205.698,835.253 207.17,835.253 209.582,773.897 \n",
       "  213.588,835.253 220.33,773.897 231.818,651.183 246.986,528.47 258.363,651.183 267.54,589.827 276.523,589.827 286.096,651.183 297.4,589.827 311.515,651.183 \n",
       "  332.429,651.183 363.336,528.47 409.12,344.4 459.939,405.757 490.769,589.827 517.274,589.827 535.73,651.183 549.975,651.183 561.297,589.827 571.94,528.47 \n",
       "  583.033,589.827 596.001,651.183 612.544,651.183 636.973,589.827 671.433,528.47 724.98,160.33 772.277,344.4 806.98,589.827 833.665,589.827 852.27,528.47 \n",
       "  865.624,712.54 876.703,651.183 887.533,589.827 898.777,589.827 912.067,528.47 929.44,528.47 954.533,589.827 990.042,467.113 1045.78,283.043 1080.63,651.183 \n",
       "  1112.93,712.54 1135.76,651.183 1151.95,528.47 1163.2,589.827 1172.53,651.183 1181.85,589.827 1191.23,589.827 1202.2,589.827 1216.43,528.47 1225.76,957.967 \n",
       "  1233.22,896.61 1238.3,957.967 1241.4,957.967 1243.28,896.61 1244.44,896.61 1245.17,896.61 1245.64,896.61 1245.97,896.61 1246.19,773.897 1246.33,835.253 \n",
       "  1246.45,835.253 1246.54,835.253 1246.63,835.253 1246.72,773.897 1246.83,773.897 1246.97,773.897 1247.18,773.897 1247.47,773.897 1247.93,773.897 1248.64,773.897 \n",
       "  1249.74,835.253 1251.51,835.253 1254.43,835.253 1259.31,835.253 1267.57,773.897 1281.7,589.827 1294.47,651.183 1305.71,528.47 1314.73,589.827 1323.53,589.827 \n",
       "  1333.44,651.183 1346.17,589.827 1363.52,589.827 1386.74,651.183 1424.22,467.113 1477.12,221.687 1514.12,651.183 1546.73,589.827 1570.3,651.183 1585.93,712.54 \n",
       "  1598.95,528.47 1609.74,651.183 1620.27,528.47 1632.11,589.827 1647.2,589.827 1667.4,651.183 1694.36,528.47 1739.18,467.113 1801.37,221.687 1828.12,589.827 \n",
       "  1856.33,773.897 1881,712.54 1897.85,651.183 1911.47,589.827 1922.07,589.827 1932.64,589.827 1944.12,589.827 1957.98,651.183 1976.2,589.827 2002.5,589.827 \n",
       "  2040.61,528.47 2099.53,283.043 2125.26,773.897 2154.11,651.183 2177.74,589.827 2194.59,589.827 2205.9,651.183 2215.53,651.183 2224.9,589.827 2234.15,651.183 \n",
       "  2244.94,589.827 2258.91,528.47 2269.12,896.61 2276.38,957.967 2281.59,835.253 2284.8,957.967 2286.74,896.61 2287.93,896.61 2288.69,835.253 2289.18,896.61 \n",
       "  2289.51,957.967 2289.73,835.253 2289.88,835.253 2290,773.897 2290.09,773.897 2290.15,1019.32 \n",
       "  \"/>\n",
       "<path clip-path=\"url(#clip0500)\" d=\"\n",
       "M1816.02 386.635 L2280.76 386.635 L2280.76 205.195 L1816.02 205.195  Z\n",
       "  \" fill=\"#ffffff\" fill-rule=\"evenodd\" fill-opacity=\"1\"/>\n",
       "<polyline clip-path=\"url(#clip0500)\" style=\"stroke:#000000; stroke-width:4; stroke-opacity:1; fill:none\" points=\"\n",
       "  1816.02,386.635 2280.76,386.635 2280.76,205.195 1816.02,205.195 1816.02,386.635 \n",
       "  \"/>\n",
       "<polyline clip-path=\"url(#clip0500)\" style=\"stroke:#009af9; stroke-width:4; stroke-opacity:1; fill:none\" points=\"\n",
       "  1840.02,265.675 1984.02,265.675 \n",
       "  \"/>\n",
       "<g clip-path=\"url(#clip0500)\">\n",
       "<text style=\"fill:#000000; fill-opacity:1; font-family:Arial,Helvetica Neue,Helvetica,sans-serif; font-size:48px; text-anchor:start;\" transform=\"rotate(0, 2008.02, 283.175)\" x=\"2008.02\" y=\"283.175\">IRKGL16</text>\n",
       "</g>\n",
       "<polyline clip-path=\"url(#clip0500)\" style=\"stroke:#e26f46; stroke-width:4; stroke-opacity:1; fill:none\" points=\"\n",
       "  1840.02,326.155 1984.02,326.155 \n",
       "  \"/>\n",
       "<g clip-path=\"url(#clip0500)\">\n",
       "<text style=\"fill:#000000; fill-opacity:1; font-family:Arial,Helvetica Neue,Helvetica,sans-serif; font-size:48px; text-anchor:start;\" transform=\"rotate(0, 2008.02, 343.655)\" x=\"2008.02\" y=\"343.655\">IRKGL162</text>\n",
       "</g>\n",
       "</svg>\n"
      ]
     },
     "execution_count": 15,
     "metadata": {},
     "output_type": "execute_result"
    }
   ],
   "source": [
    "plot(sol1.t[2:end],iters1[2:end], title=\"Iteration numbers\", label=\"IRKGL16\")\n",
    "plot!(sol2.t[2:end],iters2[2:end],label=\"IRKGL162\")"
   ]
  },
  {
   "cell_type": "code",
   "execution_count": 16,
   "metadata": {},
   "outputs": [
    {
     "data": {
      "image/svg+xml": [
       "<?xml version=\"1.0\" encoding=\"utf-8\"?>\n",
       "<svg xmlns=\"http://www.w3.org/2000/svg\" xmlns:xlink=\"http://www.w3.org/1999/xlink\" width=\"600\" height=\"400\" viewBox=\"0 0 2400 1600\">\n",
       "<defs>\n",
       "  <clipPath id=\"clip0900\">\n",
       "    <rect x=\"0\" y=\"0\" width=\"2400\" height=\"1600\"/>\n",
       "  </clipPath>\n",
       "</defs>\n",
       "<path clip-path=\"url(#clip0900)\" d=\"\n",
       "M0 1600 L2400 1600 L2400 0 L0 0  Z\n",
       "  \" fill=\"#ffffff\" fill-rule=\"evenodd\" fill-opacity=\"1\"/>\n",
       "<defs>\n",
       "  <clipPath id=\"clip0901\">\n",
       "    <rect x=\"480\" y=\"0\" width=\"1681\" height=\"1600\"/>\n",
       "  </clipPath>\n",
       "</defs>\n",
       "<path clip-path=\"url(#clip0900)\" d=\"\n",
       "M180.66 1487.47 L2352.76 1487.47 L2352.76 121.675 L180.66 121.675  Z\n",
       "  \" fill=\"#ffffff\" fill-rule=\"evenodd\" fill-opacity=\"1\"/>\n",
       "<defs>\n",
       "  <clipPath id=\"clip0902\">\n",
       "    <rect x=\"180\" y=\"121\" width=\"2173\" height=\"1367\"/>\n",
       "  </clipPath>\n",
       "</defs>\n",
       "<polyline clip-path=\"url(#clip0902)\" style=\"stroke:#000000; stroke-width:2; stroke-opacity:0.1; fill:none\" points=\"\n",
       "  242.135,1487.47 242.135,121.675 \n",
       "  \"/>\n",
       "<polyline clip-path=\"url(#clip0902)\" style=\"stroke:#000000; stroke-width:2; stroke-opacity:0.1; fill:none\" points=\"\n",
       "  842.522,1487.47 842.522,121.675 \n",
       "  \"/>\n",
       "<polyline clip-path=\"url(#clip0902)\" style=\"stroke:#000000; stroke-width:2; stroke-opacity:0.1; fill:none\" points=\"\n",
       "  1442.91,1487.47 1442.91,121.675 \n",
       "  \"/>\n",
       "<polyline clip-path=\"url(#clip0902)\" style=\"stroke:#000000; stroke-width:2; stroke-opacity:0.1; fill:none\" points=\"\n",
       "  2043.3,1487.47 2043.3,121.675 \n",
       "  \"/>\n",
       "<polyline clip-path=\"url(#clip0902)\" style=\"stroke:#000000; stroke-width:2; stroke-opacity:0.1; fill:none\" points=\"\n",
       "  180.66,1448.82 2352.76,1448.82 \n",
       "  \"/>\n",
       "<polyline clip-path=\"url(#clip0902)\" style=\"stroke:#000000; stroke-width:2; stroke-opacity:0.1; fill:none\" points=\"\n",
       "  180.66,1132.06 2352.76,1132.06 \n",
       "  \"/>\n",
       "<polyline clip-path=\"url(#clip0902)\" style=\"stroke:#000000; stroke-width:2; stroke-opacity:0.1; fill:none\" points=\"\n",
       "  180.66,815.29 2352.76,815.29 \n",
       "  \"/>\n",
       "<polyline clip-path=\"url(#clip0902)\" style=\"stroke:#000000; stroke-width:2; stroke-opacity:0.1; fill:none\" points=\"\n",
       "  180.66,498.525 2352.76,498.525 \n",
       "  \"/>\n",
       "<polyline clip-path=\"url(#clip0902)\" style=\"stroke:#000000; stroke-width:2; stroke-opacity:0.1; fill:none\" points=\"\n",
       "  180.66,181.761 2352.76,181.761 \n",
       "  \"/>\n",
       "<polyline clip-path=\"url(#clip0900)\" style=\"stroke:#000000; stroke-width:4; stroke-opacity:1; fill:none\" points=\"\n",
       "  180.66,1487.47 2352.76,1487.47 \n",
       "  \"/>\n",
       "<polyline clip-path=\"url(#clip0900)\" style=\"stroke:#000000; stroke-width:4; stroke-opacity:1; fill:none\" points=\"\n",
       "  180.66,1487.47 180.66,121.675 \n",
       "  \"/>\n",
       "<polyline clip-path=\"url(#clip0900)\" style=\"stroke:#000000; stroke-width:4; stroke-opacity:1; fill:none\" points=\"\n",
       "  242.135,1487.47 242.135,1471.09 \n",
       "  \"/>\n",
       "<polyline clip-path=\"url(#clip0900)\" style=\"stroke:#000000; stroke-width:4; stroke-opacity:1; fill:none\" points=\"\n",
       "  842.522,1487.47 842.522,1471.09 \n",
       "  \"/>\n",
       "<polyline clip-path=\"url(#clip0900)\" style=\"stroke:#000000; stroke-width:4; stroke-opacity:1; fill:none\" points=\"\n",
       "  1442.91,1487.47 1442.91,1471.09 \n",
       "  \"/>\n",
       "<polyline clip-path=\"url(#clip0900)\" style=\"stroke:#000000; stroke-width:4; stroke-opacity:1; fill:none\" points=\"\n",
       "  2043.3,1487.47 2043.3,1471.09 \n",
       "  \"/>\n",
       "<polyline clip-path=\"url(#clip0900)\" style=\"stroke:#000000; stroke-width:4; stroke-opacity:1; fill:none\" points=\"\n",
       "  180.66,1448.82 206.725,1448.82 \n",
       "  \"/>\n",
       "<polyline clip-path=\"url(#clip0900)\" style=\"stroke:#000000; stroke-width:4; stroke-opacity:1; fill:none\" points=\"\n",
       "  180.66,1132.06 206.725,1132.06 \n",
       "  \"/>\n",
       "<polyline clip-path=\"url(#clip0900)\" style=\"stroke:#000000; stroke-width:4; stroke-opacity:1; fill:none\" points=\"\n",
       "  180.66,815.29 206.725,815.29 \n",
       "  \"/>\n",
       "<polyline clip-path=\"url(#clip0900)\" style=\"stroke:#000000; stroke-width:4; stroke-opacity:1; fill:none\" points=\"\n",
       "  180.66,498.525 206.725,498.525 \n",
       "  \"/>\n",
       "<polyline clip-path=\"url(#clip0900)\" style=\"stroke:#000000; stroke-width:4; stroke-opacity:1; fill:none\" points=\"\n",
       "  180.66,181.761 206.725,181.761 \n",
       "  \"/>\n",
       "<g clip-path=\"url(#clip0900)\">\n",
       "<text style=\"fill:#000000; fill-opacity:1; font-family:Arial,Helvetica Neue,Helvetica,sans-serif; font-size:48px; text-anchor:middle;\" transform=\"rotate(0, 242.135, 1541.47)\" x=\"242.135\" y=\"1541.47\">0</text>\n",
       "</g>\n",
       "<g clip-path=\"url(#clip0900)\">\n",
       "<text style=\"fill:#000000; fill-opacity:1; font-family:Arial,Helvetica Neue,Helvetica,sans-serif; font-size:48px; text-anchor:middle;\" transform=\"rotate(0, 842.522, 1541.47)\" x=\"842.522\" y=\"1541.47\">10</text>\n",
       "</g>\n",
       "<g clip-path=\"url(#clip0900)\">\n",
       "<text style=\"fill:#000000; fill-opacity:1; font-family:Arial,Helvetica Neue,Helvetica,sans-serif; font-size:48px; text-anchor:middle;\" transform=\"rotate(0, 1442.91, 1541.47)\" x=\"1442.91\" y=\"1541.47\">20</text>\n",
       "</g>\n",
       "<g clip-path=\"url(#clip0900)\">\n",
       "<text style=\"fill:#000000; fill-opacity:1; font-family:Arial,Helvetica Neue,Helvetica,sans-serif; font-size:48px; text-anchor:middle;\" transform=\"rotate(0, 2043.3, 1541.47)\" x=\"2043.3\" y=\"1541.47\">30</text>\n",
       "</g>\n",
       "<g clip-path=\"url(#clip0900)\">\n",
       "<text style=\"fill:#000000; fill-opacity:1; font-family:Arial,Helvetica Neue,Helvetica,sans-serif; font-size:48px; text-anchor:end;\" transform=\"rotate(0, 156.66, 1466.32)\" x=\"156.66\" y=\"1466.32\">0.00</text>\n",
       "</g>\n",
       "<g clip-path=\"url(#clip0900)\">\n",
       "<text style=\"fill:#000000; fill-opacity:1; font-family:Arial,Helvetica Neue,Helvetica,sans-serif; font-size:48px; text-anchor:end;\" transform=\"rotate(0, 156.66, 1149.56)\" x=\"156.66\" y=\"1149.56\">0.25</text>\n",
       "</g>\n",
       "<g clip-path=\"url(#clip0900)\">\n",
       "<text style=\"fill:#000000; fill-opacity:1; font-family:Arial,Helvetica Neue,Helvetica,sans-serif; font-size:48px; text-anchor:end;\" transform=\"rotate(0, 156.66, 832.79)\" x=\"156.66\" y=\"832.79\">0.50</text>\n",
       "</g>\n",
       "<g clip-path=\"url(#clip0900)\">\n",
       "<text style=\"fill:#000000; fill-opacity:1; font-family:Arial,Helvetica Neue,Helvetica,sans-serif; font-size:48px; text-anchor:end;\" transform=\"rotate(0, 156.66, 516.025)\" x=\"156.66\" y=\"516.025\">0.75</text>\n",
       "</g>\n",
       "<g clip-path=\"url(#clip0900)\">\n",
       "<text style=\"fill:#000000; fill-opacity:1; font-family:Arial,Helvetica Neue,Helvetica,sans-serif; font-size:48px; text-anchor:end;\" transform=\"rotate(0, 156.66, 199.261)\" x=\"156.66\" y=\"199.261\">1.00</text>\n",
       "</g>\n",
       "<g clip-path=\"url(#clip0900)\">\n",
       "<text style=\"fill:#000000; fill-opacity:1; font-family:Arial,Helvetica Neue,Helvetica,sans-serif; font-size:84px; text-anchor:middle;\" transform=\"rotate(0, 1266.71, 73.2)\" x=\"1266.71\" y=\"73.2\">step sizes in the integration</text>\n",
       "</g>\n",
       "<polyline clip-path=\"url(#clip0902)\" style=\"stroke:#009af9; stroke-width:4; stroke-opacity:1; fill:none\" points=\"\n",
       "  242.135,1448.82 242.232,1446.76 242.328,1446.8 242.454,1446.15 242.629,1445.13 242.881,1443.51 243.257,1440.88 243.852,1436.26 244.756,1429.75 246.201,1418.32 \n",
       "  248.569,1398.85 252.503,1365.8 259.122,1309.14 270.401,1210.78 285.293,1134.55 296.463,1213.09 305.473,1258.67 314.293,1262.68 323.691,1250.48 334.79,1214.59 \n",
       "  348.648,1156.37 369.182,1015.47 399.527,808.417 444.477,500.176 494.372,395.846 524.641,810.017 550.663,899.645 568.784,1066.39 582.77,1153.67 593.886,1214.23 \n",
       "  604.335,1228.3 615.226,1218.98 627.959,1180.11 644.201,1106.04 668.185,942.648 702.019,734.804 754.59,339.339 801.028,468.803 835.099,729.776 861.299,895.905 \n",
       "  879.565,1063.32 892.677,1172.12 903.554,1219.26 914.187,1224.43 925.226,1215.85 938.274,1173.44 955.331,1088.86 979.968,928.887 1014.83,713.058 1069.55,294.032 \n",
       "  1103.77,726.69 1135.48,779.516 1157.9,975.765 1173.8,1113.3 1184.84,1215.84 1194,1255.48 1203.15,1255.66 1212.36,1254.37 1223.13,1221.64 1237.1,1153.98 \n",
       "  1246.26,1255.5 1253.58,1294.3 1258.57,1343.44 1261.62,1384.63 1263.46,1409.94 1264.6,1424.8 1265.31,1433.66 1265.78,1438.96 1266.1,1442.14 1266.32,1444.24 \n",
       "  1266.46,1445.84 1266.57,1446.35 1266.66,1446.91 1266.75,1447.03 1266.84,1446.93 1266.95,1446.56 1267.09,1445.84 1267.29,1444.54 1267.57,1442.81 1268.03,1439.19 \n",
       "  1268.72,1434.19 1269.8,1426.1 1271.54,1412.06 1274.41,1388.25 1279.2,1347.69 1287.31,1277.87 1301.19,1155.86 1313.72,1184.23 1324.76,1216 1333.61,1261.99 \n",
       "  1342.25,1266.5 1351.98,1243.46 1364.48,1185.03 1381.51,1089.31 1404.32,967.625 1441.11,672.325 1493.05,352.612 1529.38,682.192 1561.4,773.128 1584.53,960.516 \n",
       "  1599.87,1125.09 1612.67,1178.86 1623.25,1225.42 1633.59,1230.66 1645.22,1203.44 1660.04,1136.06 1679.86,1030.39 1706.34,890.126 1750.34,520.125 1811.4,160.33 \n",
       "  1837.66,894.59 1865.36,864.136 1889.58,937.816 1906.12,1099.71 1919.49,1166.6 1929.9,1229.1 1940.28,1229.89 1951.55,1210.91 1965.16,1161.63 1983.05,1071.23 \n",
       "  2008.87,903.947 2046.29,659.067 2104.13,228.153 2129.39,915.687 2157.72,850.931 2180.93,959.135 2197.46,1099.87 2208.57,1214.36 2218.03,1249.25 2227.22,1254.78 \n",
       "  2236.3,1257.1 2246.9,1225.28 2260.61,1159.43 2270.63,1237.26 2277.77,1298.22 2282.88,1341.02 2286.03,1382.31 2287.93,1408.62 2289.11,1424.04 2289.85,1433.2 \n",
       "  2290.33,1438.69 2290.65,1441.97 2290.88,1444.11 2291.02,1445.78 2291.14,1446.3 2291.23,1446.89 2291.28,1447.78 \n",
       "  \"/>\n",
       "<polyline clip-path=\"url(#clip0902)\" style=\"stroke:#e26f46; stroke-width:4; stroke-opacity:1; fill:none\" points=\"\n",
       "  242.135,1448.82 242.232,1446.76 242.328,1446.8 242.454,1446.15 242.629,1445.13 242.881,1443.51 243.257,1440.88 243.852,1436.26 244.756,1429.75 246.201,1418.32 \n",
       "  248.569,1398.85 252.503,1365.8 259.122,1309.14 270.401,1210.78 285.293,1134.55 296.463,1213.09 305.473,1258.67 314.293,1262.68 323.691,1250.48 334.79,1214.59 \n",
       "  348.648,1156.37 369.182,1015.47 399.527,808.417 444.477,500.176 494.372,395.846 524.641,810.017 550.663,899.645 568.784,1066.39 582.77,1153.67 593.886,1214.23 \n",
       "  604.335,1228.3 615.226,1218.98 627.959,1180.11 644.201,1106.04 668.185,942.648 702.019,734.804 754.59,339.339 801.028,468.803 835.099,729.776 861.299,895.905 \n",
       "  879.565,1063.32 892.677,1172.12 903.554,1219.26 914.187,1224.43 925.226,1215.85 938.274,1173.44 955.331,1088.86 979.968,928.887 1014.83,713.058 1069.55,294.032 \n",
       "  1103.77,726.69 1135.48,779.516 1157.9,975.765 1173.8,1113.3 1184.84,1215.84 1194,1255.48 1203.15,1255.66 1212.36,1254.37 1223.13,1221.64 1237.1,1153.98 \n",
       "  1246.26,1255.5 1253.58,1294.3 1258.57,1343.44 1261.62,1384.63 1263.46,1409.94 1264.6,1424.8 1265.31,1433.66 1265.78,1438.96 1266.1,1442.14 1266.32,1444.24 \n",
       "  1266.46,1445.84 1266.57,1446.35 1266.66,1446.91 1266.75,1447.03 1266.84,1446.93 1266.95,1446.56 1267.09,1445.84 1267.29,1444.54 1267.57,1442.81 1268.03,1439.19 \n",
       "  1268.72,1434.19 1269.8,1426.1 1271.54,1412.06 1274.41,1388.25 1279.2,1347.69 1287.31,1277.87 1301.19,1155.86 1313.72,1184.23 1324.76,1216 1333.61,1261.99 \n",
       "  1342.25,1266.5 1351.98,1243.46 1364.48,1185.03 1381.51,1089.31 1404.32,967.625 1441.11,672.325 1493.05,352.612 1529.38,682.192 1561.4,773.128 1584.53,960.516 \n",
       "  1599.87,1125.09 1612.67,1178.86 1623.25,1225.42 1633.59,1230.66 1645.22,1203.44 1660.04,1136.06 1679.86,1030.39 1706.34,890.126 1750.34,520.125 1811.4,160.33 \n",
       "  1837.66,894.59 1865.36,864.136 1889.58,937.816 1906.12,1099.71 1919.49,1166.6 1929.9,1229.1 1940.28,1229.89 1951.55,1210.91 1965.16,1161.63 1983.05,1071.23 \n",
       "  2008.87,903.947 2046.29,659.067 2104.13,228.153 2129.39,915.687 2157.72,850.931 2180.93,959.135 2197.46,1099.87 2208.57,1214.36 2218.03,1249.25 2227.22,1254.78 \n",
       "  2236.3,1257.1 2246.9,1225.28 2260.61,1159.43 2270.63,1237.26 2277.77,1298.22 2282.88,1341.02 2286.03,1382.31 2287.93,1408.62 2289.11,1424.04 2289.85,1433.2 \n",
       "  2290.33,1438.69 2290.65,1441.97 2290.88,1444.11 2291.02,1445.78 2291.14,1446.3 2291.23,1446.89 2291.28,1447.78 \n",
       "  \"/>\n",
       "<path clip-path=\"url(#clip0900)\" d=\"\n",
       "M1816.02 386.635 L2280.76 386.635 L2280.76 205.195 L1816.02 205.195  Z\n",
       "  \" fill=\"#ffffff\" fill-rule=\"evenodd\" fill-opacity=\"1\"/>\n",
       "<polyline clip-path=\"url(#clip0900)\" style=\"stroke:#000000; stroke-width:4; stroke-opacity:1; fill:none\" points=\"\n",
       "  1816.02,386.635 2280.76,386.635 2280.76,205.195 1816.02,205.195 1816.02,386.635 \n",
       "  \"/>\n",
       "<polyline clip-path=\"url(#clip0900)\" style=\"stroke:#009af9; stroke-width:4; stroke-opacity:1; fill:none\" points=\"\n",
       "  1840.02,265.675 1984.02,265.675 \n",
       "  \"/>\n",
       "<g clip-path=\"url(#clip0900)\">\n",
       "<text style=\"fill:#000000; fill-opacity:1; font-family:Arial,Helvetica Neue,Helvetica,sans-serif; font-size:48px; text-anchor:start;\" transform=\"rotate(0, 2008.02, 283.175)\" x=\"2008.02\" y=\"283.175\">IRKGL16</text>\n",
       "</g>\n",
       "<polyline clip-path=\"url(#clip0900)\" style=\"stroke:#e26f46; stroke-width:4; stroke-opacity:1; fill:none\" points=\"\n",
       "  1840.02,326.155 1984.02,326.155 \n",
       "  \"/>\n",
       "<g clip-path=\"url(#clip0900)\">\n",
       "<text style=\"fill:#000000; fill-opacity:1; font-family:Arial,Helvetica Neue,Helvetica,sans-serif; font-size:48px; text-anchor:start;\" transform=\"rotate(0, 2008.02, 343.655)\" x=\"2008.02\" y=\"343.655\">IRKGL162</text>\n",
       "</g>\n",
       "</svg>\n"
      ]
     },
     "execution_count": 16,
     "metadata": {},
     "output_type": "execute_result"
    }
   ],
   "source": [
    "plot(sol1.t,steps1, title=\"step sizes in the integration\", label=\"IRKGL16\")\n",
    "plot!(sol2.t,steps2,label=\"IRKGL162\")"
   ]
  },
  {
   "cell_type": "code",
   "execution_count": 17,
   "metadata": {},
   "outputs": [
    {
     "data": {
      "image/svg+xml": [
       "<?xml version=\"1.0\" encoding=\"utf-8\"?>\n",
       "<svg xmlns=\"http://www.w3.org/2000/svg\" xmlns:xlink=\"http://www.w3.org/1999/xlink\" width=\"600\" height=\"400\" viewBox=\"0 0 2400 1600\">\n",
       "<defs>\n",
       "  <clipPath id=\"clip1300\">\n",
       "    <rect x=\"0\" y=\"0\" width=\"2400\" height=\"1600\"/>\n",
       "  </clipPath>\n",
       "</defs>\n",
       "<path clip-path=\"url(#clip1300)\" d=\"\n",
       "M0 1600 L2400 1600 L2400 0 L0 0  Z\n",
       "  \" fill=\"#ffffff\" fill-rule=\"evenodd\" fill-opacity=\"1\"/>\n",
       "<defs>\n",
       "  <clipPath id=\"clip1301\">\n",
       "    <rect x=\"480\" y=\"0\" width=\"1681\" height=\"1600\"/>\n",
       "  </clipPath>\n",
       "</defs>\n",
       "<path clip-path=\"url(#clip1300)\" d=\"\n",
       "M182.008 1487.47 L2352.76 1487.47 L2352.76 47.2441 L182.008 47.2441  Z\n",
       "  \" fill=\"#ffffff\" fill-rule=\"evenodd\" fill-opacity=\"1\"/>\n",
       "<defs>\n",
       "  <clipPath id=\"clip1302\">\n",
       "    <rect x=\"182\" y=\"47\" width=\"2172\" height=\"1441\"/>\n",
       "  </clipPath>\n",
       "</defs>\n",
       "<polyline clip-path=\"url(#clip1302)\" style=\"stroke:#000000; stroke-width:2; stroke-opacity:0.1; fill:none\" points=\"\n",
       "  507.529,1487.47 507.529,47.2441 \n",
       "  \"/>\n",
       "<polyline clip-path=\"url(#clip1302)\" style=\"stroke:#000000; stroke-width:2; stroke-opacity:0.1; fill:none\" points=\"\n",
       "  948.254,1487.47 948.254,47.2441 \n",
       "  \"/>\n",
       "<polyline clip-path=\"url(#clip1302)\" style=\"stroke:#000000; stroke-width:2; stroke-opacity:0.1; fill:none\" points=\"\n",
       "  1388.98,1487.47 1388.98,47.2441 \n",
       "  \"/>\n",
       "<polyline clip-path=\"url(#clip1302)\" style=\"stroke:#000000; stroke-width:2; stroke-opacity:0.1; fill:none\" points=\"\n",
       "  1829.7,1487.47 1829.7,47.2441 \n",
       "  \"/>\n",
       "<polyline clip-path=\"url(#clip1302)\" style=\"stroke:#000000; stroke-width:2; stroke-opacity:0.1; fill:none\" points=\"\n",
       "  2270.43,1487.47 2270.43,47.2441 \n",
       "  \"/>\n",
       "<polyline clip-path=\"url(#clip1302)\" style=\"stroke:#000000; stroke-width:2; stroke-opacity:0.1; fill:none\" points=\"\n",
       "  182.008,1368.53 2352.76,1368.53 \n",
       "  \"/>\n",
       "<polyline clip-path=\"url(#clip1302)\" style=\"stroke:#000000; stroke-width:2; stroke-opacity:0.1; fill:none\" points=\"\n",
       "  182.008,1069.3 2352.76,1069.3 \n",
       "  \"/>\n",
       "<polyline clip-path=\"url(#clip1302)\" style=\"stroke:#000000; stroke-width:2; stroke-opacity:0.1; fill:none\" points=\"\n",
       "  182.008,770.074 2352.76,770.074 \n",
       "  \"/>\n",
       "<polyline clip-path=\"url(#clip1302)\" style=\"stroke:#000000; stroke-width:2; stroke-opacity:0.1; fill:none\" points=\"\n",
       "  182.008,470.848 2352.76,470.848 \n",
       "  \"/>\n",
       "<polyline clip-path=\"url(#clip1302)\" style=\"stroke:#000000; stroke-width:2; stroke-opacity:0.1; fill:none\" points=\"\n",
       "  182.008,171.622 2352.76,171.622 \n",
       "  \"/>\n",
       "<polyline clip-path=\"url(#clip1300)\" style=\"stroke:#000000; stroke-width:4; stroke-opacity:1; fill:none\" points=\"\n",
       "  182.008,1487.47 2352.76,1487.47 \n",
       "  \"/>\n",
       "<polyline clip-path=\"url(#clip1300)\" style=\"stroke:#000000; stroke-width:4; stroke-opacity:1; fill:none\" points=\"\n",
       "  182.008,1487.47 182.008,47.2441 \n",
       "  \"/>\n",
       "<polyline clip-path=\"url(#clip1300)\" style=\"stroke:#000000; stroke-width:4; stroke-opacity:1; fill:none\" points=\"\n",
       "  507.529,1487.47 507.529,1470.19 \n",
       "  \"/>\n",
       "<polyline clip-path=\"url(#clip1300)\" style=\"stroke:#000000; stroke-width:4; stroke-opacity:1; fill:none\" points=\"\n",
       "  948.254,1487.47 948.254,1470.19 \n",
       "  \"/>\n",
       "<polyline clip-path=\"url(#clip1300)\" style=\"stroke:#000000; stroke-width:4; stroke-opacity:1; fill:none\" points=\"\n",
       "  1388.98,1487.47 1388.98,1470.19 \n",
       "  \"/>\n",
       "<polyline clip-path=\"url(#clip1300)\" style=\"stroke:#000000; stroke-width:4; stroke-opacity:1; fill:none\" points=\"\n",
       "  1829.7,1487.47 1829.7,1470.19 \n",
       "  \"/>\n",
       "<polyline clip-path=\"url(#clip1300)\" style=\"stroke:#000000; stroke-width:4; stroke-opacity:1; fill:none\" points=\"\n",
       "  2270.43,1487.47 2270.43,1470.19 \n",
       "  \"/>\n",
       "<polyline clip-path=\"url(#clip1300)\" style=\"stroke:#000000; stroke-width:4; stroke-opacity:1; fill:none\" points=\"\n",
       "  182.008,1368.53 208.057,1368.53 \n",
       "  \"/>\n",
       "<polyline clip-path=\"url(#clip1300)\" style=\"stroke:#000000; stroke-width:4; stroke-opacity:1; fill:none\" points=\"\n",
       "  182.008,1069.3 208.057,1069.3 \n",
       "  \"/>\n",
       "<polyline clip-path=\"url(#clip1300)\" style=\"stroke:#000000; stroke-width:4; stroke-opacity:1; fill:none\" points=\"\n",
       "  182.008,770.074 208.057,770.074 \n",
       "  \"/>\n",
       "<polyline clip-path=\"url(#clip1300)\" style=\"stroke:#000000; stroke-width:4; stroke-opacity:1; fill:none\" points=\"\n",
       "  182.008,470.848 208.057,470.848 \n",
       "  \"/>\n",
       "<polyline clip-path=\"url(#clip1300)\" style=\"stroke:#000000; stroke-width:4; stroke-opacity:1; fill:none\" points=\"\n",
       "  182.008,171.622 208.057,171.622 \n",
       "  \"/>\n",
       "<g clip-path=\"url(#clip1300)\">\n",
       "<text style=\"fill:#000000; fill-opacity:1; font-family:Arial,Helvetica Neue,Helvetica,sans-serif; font-size:48px; text-anchor:middle;\" transform=\"rotate(0, 507.529, 1541.47)\" x=\"507.529\" y=\"1541.47\">-1.0</text>\n",
       "</g>\n",
       "<g clip-path=\"url(#clip1300)\">\n",
       "<text style=\"fill:#000000; fill-opacity:1; font-family:Arial,Helvetica Neue,Helvetica,sans-serif; font-size:48px; text-anchor:middle;\" transform=\"rotate(0, 948.254, 1541.47)\" x=\"948.254\" y=\"1541.47\">-0.5</text>\n",
       "</g>\n",
       "<g clip-path=\"url(#clip1300)\">\n",
       "<text style=\"fill:#000000; fill-opacity:1; font-family:Arial,Helvetica Neue,Helvetica,sans-serif; font-size:48px; text-anchor:middle;\" transform=\"rotate(0, 1388.98, 1541.47)\" x=\"1388.98\" y=\"1541.47\">0.0</text>\n",
       "</g>\n",
       "<g clip-path=\"url(#clip1300)\">\n",
       "<text style=\"fill:#000000; fill-opacity:1; font-family:Arial,Helvetica Neue,Helvetica,sans-serif; font-size:48px; text-anchor:middle;\" transform=\"rotate(0, 1829.7, 1541.47)\" x=\"1829.7\" y=\"1541.47\">0.5</text>\n",
       "</g>\n",
       "<g clip-path=\"url(#clip1300)\">\n",
       "<text style=\"fill:#000000; fill-opacity:1; font-family:Arial,Helvetica Neue,Helvetica,sans-serif; font-size:48px; text-anchor:middle;\" transform=\"rotate(0, 2270.43, 1541.47)\" x=\"2270.43\" y=\"1541.47\">1.0</text>\n",
       "</g>\n",
       "<g clip-path=\"url(#clip1300)\">\n",
       "<text style=\"fill:#000000; fill-opacity:1; font-family:Arial,Helvetica Neue,Helvetica,sans-serif; font-size:48px; text-anchor:end;\" transform=\"rotate(0, 158.008, 1386.03)\" x=\"158.008\" y=\"1386.03\">-1.0</text>\n",
       "</g>\n",
       "<g clip-path=\"url(#clip1300)\">\n",
       "<text style=\"fill:#000000; fill-opacity:1; font-family:Arial,Helvetica Neue,Helvetica,sans-serif; font-size:48px; text-anchor:end;\" transform=\"rotate(0, 158.008, 1086.8)\" x=\"158.008\" y=\"1086.8\">-0.5</text>\n",
       "</g>\n",
       "<g clip-path=\"url(#clip1300)\">\n",
       "<text style=\"fill:#000000; fill-opacity:1; font-family:Arial,Helvetica Neue,Helvetica,sans-serif; font-size:48px; text-anchor:end;\" transform=\"rotate(0, 158.008, 787.574)\" x=\"158.008\" y=\"787.574\">0.0</text>\n",
       "</g>\n",
       "<g clip-path=\"url(#clip1300)\">\n",
       "<text style=\"fill:#000000; fill-opacity:1; font-family:Arial,Helvetica Neue,Helvetica,sans-serif; font-size:48px; text-anchor:end;\" transform=\"rotate(0, 158.008, 488.348)\" x=\"158.008\" y=\"488.348\">0.5</text>\n",
       "</g>\n",
       "<g clip-path=\"url(#clip1300)\">\n",
       "<text style=\"fill:#000000; fill-opacity:1; font-family:Arial,Helvetica Neue,Helvetica,sans-serif; font-size:48px; text-anchor:end;\" transform=\"rotate(0, 158.008, 189.122)\" x=\"158.008\" y=\"189.122\">1.0</text>\n",
       "</g>\n",
       "<polyline clip-path=\"url(#clip1302)\" style=\"stroke:#009af9; stroke-width:4; stroke-opacity:1; fill:none\" points=\"\n",
       "  2265.14,770.074 2264.79,771.979 2263.9,773.658 2262.27,775.522 2259.75,777.553 2256.08,779.786 2250.83,782.278 2243.15,785.15 2232.53,788.229 2217.15,791.479 \n",
       "  2194.28,794.323 2159.52,794.853 2104.87,787.387 2013.39,754.913 1878.11,677.928 1747.17,601.549 1612.99,540.46 1462.39,494.56 1302.23,466.198 1138.41,449.713 \n",
       "  982.88,432.337 839.753,386.991 783.011,278.477 957.524,123.038 1289.08,103.189 1408.19,183.065 1387.03,287.79 1285.22,377.602 1160.31,465.708 1048.64,555.781 \n",
       "  955.789,655.5 884.71,761.617 825.948,869.452 758.511,968.93 638.439,1040.02 446.986,1010.31 291.733,769.14 417.409,547.557 607.114,495.334 743.543,556.1 \n",
       "  820.531,660.975 879.705,769.795 948.482,875.2 1041.14,977.415 1151.87,1068.27 1271.24,1152.52 1375.99,1239.35 1413.81,1341.86 1287.01,1437.54 926.156,1403.91 \n",
       "  789.962,1283.75 821.686,1165.76 962.018,1111.49 1135.03,1090.73 1297.09,1074.6 1452.72,1047.82 1609.38,1001.05 1746.94,938.724 1873.75,864.902 2002.19,790.651 \n",
       "  2076.96,760.206 2136.38,747.264 2178.91,745.056 2206.97,747.137 2225.64,750.312 2238.38,753.513 2247.24,756.441 2253.51,759.072 2258.05,761.488 2261.23,763.708 \n",
       "  2263.18,765.576 2264.49,767.491 2265.07,769.205 2265.08,770.892 2264.53,772.593 2263.36,774.365 2261.43,776.274 2258.47,778.404 2254.36,780.669 2248.16,783.356 \n",
       "  2239.52,786.296 2227.34,789.465 2209.48,792.674 2182.73,794.982 2141.61,793.486 2075.77,779.574 1960.35,727.229 1836.78,652.667 1694.95,575.386 1553.53,519.689 \n",
       "  1403.48,482.085 1243.6,459.436 1074.79,443.886 913.602,417.447 800.704,353.308 819.096,211.712 1119.74,88.0053 1343.5,124.139 1415.33,228.888 1344.14,331.578 \n",
       "  1231.1,415.747 1106.69,506.361 1003.43,600.258 922.013,701.812 857.677,810.4 795.377,920.866 706.605,1012.4 560.885,1044.64 341.86,920.045 355.253,603.05 \n",
       "  480.892,514.422 639.169,500.288 760.092,572.955 828.683,675.674 891.888,790.778 962.251,892.766 1055.97,991.015 1169.22,1080.89 1289.21,1165.44 1388.07,1253.69 \n",
       "  1408.03,1357.4 1245.37,1446.71 872.133,1373.78 788.271,1279.57 813.102,1173.22 948.72,1114.15 1123.24,1091.77 1283.62,1076.25 1443.22,1049.95 1601.15,1004.12 \n",
       "  1738.4,943.2 1865.36,870.06 1993.25,795.155 2075.37,760.7 2133.21,747.672 2176.54,745.014 2205.43,746.944 2224.62,750.094 2237.68,753.308 2246.74,756.256 \n",
       "  2253.16,758.905 2257.79,761.333 2261.07,763.573 2263.07,765.447 2264.43,767.374 2265.05,769.093 2265.14,770.074 \n",
       "  \"/>\n",
       "<path clip-path=\"url(#clip1300)\" d=\"\n",
       "M1888.27 251.724 L2280.76 251.724 L2280.76 130.764 L1888.27 130.764  Z\n",
       "  \" fill=\"#ffffff\" fill-rule=\"evenodd\" fill-opacity=\"1\"/>\n",
       "<polyline clip-path=\"url(#clip1300)\" style=\"stroke:#000000; stroke-width:4; stroke-opacity:1; fill:none\" points=\"\n",
       "  1888.27,251.724 2280.76,251.724 2280.76,130.764 1888.27,130.764 1888.27,251.724 \n",
       "  \"/>\n",
       "<polyline clip-path=\"url(#clip1300)\" style=\"stroke:#009af9; stroke-width:4; stroke-opacity:1; fill:none\" points=\"\n",
       "  1912.27,191.244 2056.27,191.244 \n",
       "  \"/>\n",
       "<g clip-path=\"url(#clip1300)\">\n",
       "<text style=\"fill:#000000; fill-opacity:1; font-family:Arial,Helvetica Neue,Helvetica,sans-serif; font-size:48px; text-anchor:start;\" transform=\"rotate(0, 2080.27, 208.744)\" x=\"2080.27\" y=\"208.744\">(u1,u2)</text>\n",
       "</g>\n",
       "</svg>\n"
      ]
     },
     "execution_count": 17,
     "metadata": {},
     "output_type": "execute_result"
    }
   ],
   "source": [
    "plot(sol1,vars=(1,2))"
   ]
  },
  {
   "cell_type": "markdown",
   "metadata": {},
   "source": [
    "<a href=\"#top\">Back to the top</a>"
   ]
  },
  {
   "cell_type": "markdown",
   "metadata": {},
   "source": [
    "## Error in energy"
   ]
  },
  {
   "cell_type": "code",
   "execution_count": 18,
   "metadata": {},
   "outputs": [
    {
     "data": {
      "text/plain": [
       "Array{BigFloat,1}"
      ]
     },
     "execution_count": 18,
     "metadata": {},
     "output_type": "execute_result"
    }
   ],
   "source": [
    "setprecision(BigFloat, 256)\n",
    "u0128=[0.994,0.0,0.0, py0]\n",
    "μ128 = parse(BigFloat,\"0.012277471\")\n",
    "(typeof(u0128))"
   ]
  },
  {
   "cell_type": "code",
   "execution_count": 19,
   "metadata": {},
   "outputs": [
    {
     "data": {
      "text/plain": [
       "NbodyEnergy (generic function with 1 method)"
      ]
     },
     "execution_count": 19,
     "metadata": {},
     "output_type": "execute_result"
    }
   ],
   "source": [
    "function NbodyEnergy(u, mu)\n",
    "\"\"\"    \n",
    "     3RT-Nbody problem      \n",
    "\"\"\"    \n",
    "    \n",
    "    # Implementation\n",
    "\n",
    " @inbounds begin\n",
    "    x = u[1]   # x\n",
    "    y = u[2]   # y\n",
    "    px = u[3]  # px\n",
    "    py = u[4]  # py\n",
    "        \n",
    "    umu=1-mu    \n",
    " \n",
    "    r1 = ((x+mu)^2 + y^2)^(1/2)\n",
    "    r2 = ((x-umu)^2 + y^2)^(1/2)\n",
    "        \n",
    "    Energy=(px*px+py*py)/2+px*y-py*x-umu/r1-mu/r2-mu*umu/2    \n",
    "\n",
    "    \n",
    "    return(Energy)\n",
    "    end\n",
    "        \n",
    "end"
   ]
  },
  {
   "cell_type": "code",
   "execution_count": 25,
   "metadata": {},
   "outputs": [
    {
     "data": {
      "image/svg+xml": [
       "<?xml version=\"1.0\" encoding=\"utf-8\"?>\n",
       "<svg xmlns=\"http://www.w3.org/2000/svg\" xmlns:xlink=\"http://www.w3.org/1999/xlink\" width=\"600\" height=\"400\" viewBox=\"0 0 2400 1600\">\n",
       "<defs>\n",
       "  <clipPath id=\"clip1700\">\n",
       "    <rect x=\"0\" y=\"0\" width=\"2400\" height=\"1600\"/>\n",
       "  </clipPath>\n",
       "</defs>\n",
       "<path clip-path=\"url(#clip1700)\" d=\"\n",
       "M0 1600 L2400 1600 L2400 0 L0 0  Z\n",
       "  \" fill=\"#ffffff\" fill-rule=\"evenodd\" fill-opacity=\"1\"/>\n",
       "<defs>\n",
       "  <clipPath id=\"clip1701\">\n",
       "    <rect x=\"480\" y=\"0\" width=\"1681\" height=\"1600\"/>\n",
       "  </clipPath>\n",
       "</defs>\n",
       "<path clip-path=\"url(#clip1700)\" d=\"\n",
       "M168.627 1425.62 L1152.76 1425.62 L1152.76 121.675 L168.627 121.675  Z\n",
       "  \" fill=\"#ffffff\" fill-rule=\"evenodd\" fill-opacity=\"1\"/>\n",
       "<defs>\n",
       "  <clipPath id=\"clip1702\">\n",
       "    <rect x=\"168\" y=\"121\" width=\"985\" height=\"1305\"/>\n",
       "  </clipPath>\n",
       "</defs>\n",
       "<polyline clip-path=\"url(#clip1702)\" style=\"stroke:#000000; stroke-width:2; stroke-opacity:0.1; fill:none\" points=\"\n",
       "  196.48,1425.62 196.48,121.675 \n",
       "  \"/>\n",
       "<polyline clip-path=\"url(#clip1702)\" style=\"stroke:#000000; stroke-width:2; stroke-opacity:0.1; fill:none\" points=\"\n",
       "  468.502,1425.62 468.502,121.675 \n",
       "  \"/>\n",
       "<polyline clip-path=\"url(#clip1702)\" style=\"stroke:#000000; stroke-width:2; stroke-opacity:0.1; fill:none\" points=\"\n",
       "  740.524,1425.62 740.524,121.675 \n",
       "  \"/>\n",
       "<polyline clip-path=\"url(#clip1702)\" style=\"stroke:#000000; stroke-width:2; stroke-opacity:0.1; fill:none\" points=\"\n",
       "  1012.55,1425.62 1012.55,121.675 \n",
       "  \"/>\n",
       "<polyline clip-path=\"url(#clip1702)\" style=\"stroke:#000000; stroke-width:2; stroke-opacity:0.1; fill:none\" points=\"\n",
       "  168.627,1425.62 1152.76,1425.62 \n",
       "  \"/>\n",
       "<polyline clip-path=\"url(#clip1702)\" style=\"stroke:#000000; stroke-width:2; stroke-opacity:0.1; fill:none\" points=\"\n",
       "  168.627,1164.83 1152.76,1164.83 \n",
       "  \"/>\n",
       "<polyline clip-path=\"url(#clip1702)\" style=\"stroke:#000000; stroke-width:2; stroke-opacity:0.1; fill:none\" points=\"\n",
       "  168.627,904.041 1152.76,904.041 \n",
       "  \"/>\n",
       "<polyline clip-path=\"url(#clip1702)\" style=\"stroke:#000000; stroke-width:2; stroke-opacity:0.1; fill:none\" points=\"\n",
       "  168.627,643.253 1152.76,643.253 \n",
       "  \"/>\n",
       "<polyline clip-path=\"url(#clip1702)\" style=\"stroke:#000000; stroke-width:2; stroke-opacity:0.1; fill:none\" points=\"\n",
       "  168.627,382.464 1152.76,382.464 \n",
       "  \"/>\n",
       "<polyline clip-path=\"url(#clip1702)\" style=\"stroke:#000000; stroke-width:2; stroke-opacity:0.1; fill:none\" points=\"\n",
       "  168.627,121.675 1152.76,121.675 \n",
       "  \"/>\n",
       "<polyline clip-path=\"url(#clip1700)\" style=\"stroke:#000000; stroke-width:4; stroke-opacity:1; fill:none\" points=\"\n",
       "  168.627,1425.62 1152.76,1425.62 \n",
       "  \"/>\n",
       "<polyline clip-path=\"url(#clip1700)\" style=\"stroke:#000000; stroke-width:4; stroke-opacity:1; fill:none\" points=\"\n",
       "  168.627,1425.62 168.627,121.675 \n",
       "  \"/>\n",
       "<polyline clip-path=\"url(#clip1700)\" style=\"stroke:#000000; stroke-width:4; stroke-opacity:1; fill:none\" points=\"\n",
       "  196.48,1425.62 196.48,1409.97 \n",
       "  \"/>\n",
       "<polyline clip-path=\"url(#clip1700)\" style=\"stroke:#000000; stroke-width:4; stroke-opacity:1; fill:none\" points=\"\n",
       "  468.502,1425.62 468.502,1409.97 \n",
       "  \"/>\n",
       "<polyline clip-path=\"url(#clip1700)\" style=\"stroke:#000000; stroke-width:4; stroke-opacity:1; fill:none\" points=\"\n",
       "  740.524,1425.62 740.524,1409.97 \n",
       "  \"/>\n",
       "<polyline clip-path=\"url(#clip1700)\" style=\"stroke:#000000; stroke-width:4; stroke-opacity:1; fill:none\" points=\"\n",
       "  1012.55,1425.62 1012.55,1409.97 \n",
       "  \"/>\n",
       "<polyline clip-path=\"url(#clip1700)\" style=\"stroke:#000000; stroke-width:4; stroke-opacity:1; fill:none\" points=\"\n",
       "  168.627,1425.62 180.436,1425.62 \n",
       "  \"/>\n",
       "<polyline clip-path=\"url(#clip1700)\" style=\"stroke:#000000; stroke-width:4; stroke-opacity:1; fill:none\" points=\"\n",
       "  168.627,1164.83 180.436,1164.83 \n",
       "  \"/>\n",
       "<polyline clip-path=\"url(#clip1700)\" style=\"stroke:#000000; stroke-width:4; stroke-opacity:1; fill:none\" points=\"\n",
       "  168.627,904.041 180.436,904.041 \n",
       "  \"/>\n",
       "<polyline clip-path=\"url(#clip1700)\" style=\"stroke:#000000; stroke-width:4; stroke-opacity:1; fill:none\" points=\"\n",
       "  168.627,643.253 180.436,643.253 \n",
       "  \"/>\n",
       "<polyline clip-path=\"url(#clip1700)\" style=\"stroke:#000000; stroke-width:4; stroke-opacity:1; fill:none\" points=\"\n",
       "  168.627,382.464 180.436,382.464 \n",
       "  \"/>\n",
       "<polyline clip-path=\"url(#clip1700)\" style=\"stroke:#000000; stroke-width:4; stroke-opacity:1; fill:none\" points=\"\n",
       "  168.627,121.675 180.436,121.675 \n",
       "  \"/>\n",
       "<g clip-path=\"url(#clip1700)\">\n",
       "<text style=\"fill:#000000; fill-opacity:1; font-family:Arial,Helvetica Neue,Helvetica,sans-serif; font-size:48px; text-anchor:middle;\" transform=\"rotate(0, 196.48, 1479.62)\" x=\"196.48\" y=\"1479.62\">0</text>\n",
       "</g>\n",
       "<g clip-path=\"url(#clip1700)\">\n",
       "<text style=\"fill:#000000; fill-opacity:1; font-family:Arial,Helvetica Neue,Helvetica,sans-serif; font-size:48px; text-anchor:middle;\" transform=\"rotate(0, 468.502, 1479.62)\" x=\"468.502\" y=\"1479.62\">10</text>\n",
       "</g>\n",
       "<g clip-path=\"url(#clip1700)\">\n",
       "<text style=\"fill:#000000; fill-opacity:1; font-family:Arial,Helvetica Neue,Helvetica,sans-serif; font-size:48px; text-anchor:middle;\" transform=\"rotate(0, 740.524, 1479.62)\" x=\"740.524\" y=\"1479.62\">20</text>\n",
       "</g>\n",
       "<g clip-path=\"url(#clip1700)\">\n",
       "<text style=\"fill:#000000; fill-opacity:1; font-family:Arial,Helvetica Neue,Helvetica,sans-serif; font-size:48px; text-anchor:middle;\" transform=\"rotate(0, 1012.55, 1479.62)\" x=\"1012.55\" y=\"1479.62\">30</text>\n",
       "</g>\n",
       "<g clip-path=\"url(#clip1700)\">\n",
       "<text style=\"fill:#000000; fill-opacity:1; font-family:Arial,Helvetica Neue,Helvetica,sans-serif; font-size:48px; text-anchor:end;\" transform=\"rotate(0, 144.627, 1443.12)\" x=\"144.627\" y=\"1443.12\">-18</text>\n",
       "</g>\n",
       "<g clip-path=\"url(#clip1700)\">\n",
       "<text style=\"fill:#000000; fill-opacity:1; font-family:Arial,Helvetica Neue,Helvetica,sans-serif; font-size:48px; text-anchor:end;\" transform=\"rotate(0, 144.627, 1182.33)\" x=\"144.627\" y=\"1182.33\">-16</text>\n",
       "</g>\n",
       "<g clip-path=\"url(#clip1700)\">\n",
       "<text style=\"fill:#000000; fill-opacity:1; font-family:Arial,Helvetica Neue,Helvetica,sans-serif; font-size:48px; text-anchor:end;\" transform=\"rotate(0, 144.627, 921.541)\" x=\"144.627\" y=\"921.541\">-14</text>\n",
       "</g>\n",
       "<g clip-path=\"url(#clip1700)\">\n",
       "<text style=\"fill:#000000; fill-opacity:1; font-family:Arial,Helvetica Neue,Helvetica,sans-serif; font-size:48px; text-anchor:end;\" transform=\"rotate(0, 144.627, 660.753)\" x=\"144.627\" y=\"660.753\">-12</text>\n",
       "</g>\n",
       "<g clip-path=\"url(#clip1700)\">\n",
       "<text style=\"fill:#000000; fill-opacity:1; font-family:Arial,Helvetica Neue,Helvetica,sans-serif; font-size:48px; text-anchor:end;\" transform=\"rotate(0, 144.627, 399.964)\" x=\"144.627\" y=\"399.964\">-10</text>\n",
       "</g>\n",
       "<g clip-path=\"url(#clip1700)\">\n",
       "<text style=\"fill:#000000; fill-opacity:1; font-family:Arial,Helvetica Neue,Helvetica,sans-serif; font-size:48px; text-anchor:end;\" transform=\"rotate(0, 144.627, 139.175)\" x=\"144.627\" y=\"139.175\">-8</text>\n",
       "</g>\n",
       "<g clip-path=\"url(#clip1700)\">\n",
       "<text style=\"fill:#000000; fill-opacity:1; font-family:Arial,Helvetica Neue,Helvetica,sans-serif; font-size:84px; text-anchor:middle;\" transform=\"rotate(0, 660.691, 73.2)\" x=\"660.691\" y=\"73.2\">Error in energy</text>\n",
       "</g>\n",
       "<g clip-path=\"url(#clip1700)\">\n",
       "<text style=\"fill:#000000; fill-opacity:1; font-family:Arial,Helvetica Neue,Helvetica,sans-serif; font-size:66px; text-anchor:middle;\" transform=\"rotate(0, 660.691, 1559.48)\" x=\"660.691\" y=\"1559.48\">t</text>\n",
       "</g>\n",
       "<polyline clip-path=\"url(#clip1702)\" style=\"stroke:#009af9; stroke-width:4; stroke-opacity:1; fill:none\" points=\"\n",
       "  196.48,3254.7 210.081,1007.01 223.682,988.661 237.283,973.841 250.884,974.476 264.485,975.34 278.086,975.609 291.687,975.073 305.288,974.632 318.89,975.123 \n",
       "  332.491,984.152 346.092,1002.11 359.693,960.74 373.294,954.32 386.895,954.341 400.496,954.577 414.097,954.393 427.698,954.027 441.3,953.839 454.901,954.031 \n",
       "  468.502,955.891 482.103,968.517 495.704,949.491 509.305,941.071 522.906,941.738 536.507,941.927 550.108,941.861 563.71,941.59 577.311,941.368 590.912,941.65 \n",
       "  604.513,948.717 618.114,974.535 631.715,946.246 645.316,941.07 658.917,841.624 672.518,896.001 686.12,893.358 699.721,889.544 713.322,889.785 726.923,889.986 \n",
       "  740.524,890.049 754.125,889.946 767.726,889.831 781.327,889.898 794.928,891.427 808.53,895.083 822.131,887.402 835.732,885.114 849.333,885.139 862.934,885.222 \n",
       "  876.535,885.171 890.136,885.063 903.737,884.996 917.338,885.041 930.94,885.387 944.541,888.284 958.142,884.996 971.743,881.369 985.344,881.642 998.945,881.704 \n",
       "  1012.55,881.708 1026.15,881.626 1039.75,881.523 1053.35,881.602 1066.95,883.231 1080.55,891.266 1094.15,885.278 1107.75,882.794 1121.36,845.458 1124.9,852.766 \n",
       "  \n",
       "  \"/>\n",
       "<path clip-path=\"url(#clip1700)\" d=\"\n",
       "M712.335 326.155 L1080.76 326.155 L1080.76 205.195 L712.335 205.195  Z\n",
       "  \" fill=\"#ffffff\" fill-rule=\"evenodd\" fill-opacity=\"1\"/>\n",
       "<polyline clip-path=\"url(#clip1700)\" style=\"stroke:#000000; stroke-width:4; stroke-opacity:1; fill:none\" points=\"\n",
       "  712.335,326.155 1080.76,326.155 1080.76,205.195 712.335,205.195 712.335,326.155 \n",
       "  \"/>\n",
       "<polyline clip-path=\"url(#clip1700)\" style=\"stroke:#009af9; stroke-width:4; stroke-opacity:1; fill:none\" points=\"\n",
       "  736.335,265.675 880.335,265.675 \n",
       "  \"/>\n",
       "<g clip-path=\"url(#clip1700)\">\n",
       "<text style=\"fill:#000000; fill-opacity:1; font-family:Arial,Helvetica Neue,Helvetica,sans-serif; font-size:48px; text-anchor:start;\" transform=\"rotate(0, 904.335, 283.175)\" x=\"904.335\" y=\"283.175\">Vern9</text>\n",
       "</g>\n",
       "<path clip-path=\"url(#clip1700)\" d=\"\n",
       "M1368.63 1425.62 L2352.76 1425.62 L2352.76 121.675 L1368.63 121.675  Z\n",
       "  \" fill=\"#ffffff\" fill-rule=\"evenodd\" fill-opacity=\"1\"/>\n",
       "<defs>\n",
       "  <clipPath id=\"clip1703\">\n",
       "    <rect x=\"1368\" y=\"121\" width=\"985\" height=\"1305\"/>\n",
       "  </clipPath>\n",
       "</defs>\n",
       "<polyline clip-path=\"url(#clip1703)\" style=\"stroke:#000000; stroke-width:2; stroke-opacity:0.1; fill:none\" points=\"\n",
       "  1396.48,1425.62 1396.48,121.675 \n",
       "  \"/>\n",
       "<polyline clip-path=\"url(#clip1703)\" style=\"stroke:#000000; stroke-width:2; stroke-opacity:0.1; fill:none\" points=\"\n",
       "  1668.5,1425.62 1668.5,121.675 \n",
       "  \"/>\n",
       "<polyline clip-path=\"url(#clip1703)\" style=\"stroke:#000000; stroke-width:2; stroke-opacity:0.1; fill:none\" points=\"\n",
       "  1940.52,1425.62 1940.52,121.675 \n",
       "  \"/>\n",
       "<polyline clip-path=\"url(#clip1703)\" style=\"stroke:#000000; stroke-width:2; stroke-opacity:0.1; fill:none\" points=\"\n",
       "  2212.55,1425.62 2212.55,121.675 \n",
       "  \"/>\n",
       "<polyline clip-path=\"url(#clip1703)\" style=\"stroke:#000000; stroke-width:2; stroke-opacity:0.1; fill:none\" points=\"\n",
       "  1368.63,1425.62 2352.76,1425.62 \n",
       "  \"/>\n",
       "<polyline clip-path=\"url(#clip1703)\" style=\"stroke:#000000; stroke-width:2; stroke-opacity:0.1; fill:none\" points=\"\n",
       "  1368.63,1164.83 2352.76,1164.83 \n",
       "  \"/>\n",
       "<polyline clip-path=\"url(#clip1703)\" style=\"stroke:#000000; stroke-width:2; stroke-opacity:0.1; fill:none\" points=\"\n",
       "  1368.63,904.041 2352.76,904.041 \n",
       "  \"/>\n",
       "<polyline clip-path=\"url(#clip1703)\" style=\"stroke:#000000; stroke-width:2; stroke-opacity:0.1; fill:none\" points=\"\n",
       "  1368.63,643.253 2352.76,643.253 \n",
       "  \"/>\n",
       "<polyline clip-path=\"url(#clip1703)\" style=\"stroke:#000000; stroke-width:2; stroke-opacity:0.1; fill:none\" points=\"\n",
       "  1368.63,382.464 2352.76,382.464 \n",
       "  \"/>\n",
       "<polyline clip-path=\"url(#clip1703)\" style=\"stroke:#000000; stroke-width:2; stroke-opacity:0.1; fill:none\" points=\"\n",
       "  1368.63,121.675 2352.76,121.675 \n",
       "  \"/>\n",
       "<polyline clip-path=\"url(#clip1700)\" style=\"stroke:#000000; stroke-width:4; stroke-opacity:1; fill:none\" points=\"\n",
       "  1368.63,1425.62 2352.76,1425.62 \n",
       "  \"/>\n",
       "<polyline clip-path=\"url(#clip1700)\" style=\"stroke:#000000; stroke-width:4; stroke-opacity:1; fill:none\" points=\"\n",
       "  1368.63,1425.62 1368.63,121.675 \n",
       "  \"/>\n",
       "<polyline clip-path=\"url(#clip1700)\" style=\"stroke:#000000; stroke-width:4; stroke-opacity:1; fill:none\" points=\"\n",
       "  1396.48,1425.62 1396.48,1409.97 \n",
       "  \"/>\n",
       "<polyline clip-path=\"url(#clip1700)\" style=\"stroke:#000000; stroke-width:4; stroke-opacity:1; fill:none\" points=\"\n",
       "  1668.5,1425.62 1668.5,1409.97 \n",
       "  \"/>\n",
       "<polyline clip-path=\"url(#clip1700)\" style=\"stroke:#000000; stroke-width:4; stroke-opacity:1; fill:none\" points=\"\n",
       "  1940.52,1425.62 1940.52,1409.97 \n",
       "  \"/>\n",
       "<polyline clip-path=\"url(#clip1700)\" style=\"stroke:#000000; stroke-width:4; stroke-opacity:1; fill:none\" points=\"\n",
       "  2212.55,1425.62 2212.55,1409.97 \n",
       "  \"/>\n",
       "<polyline clip-path=\"url(#clip1700)\" style=\"stroke:#000000; stroke-width:4; stroke-opacity:1; fill:none\" points=\"\n",
       "  1368.63,1425.62 1380.44,1425.62 \n",
       "  \"/>\n",
       "<polyline clip-path=\"url(#clip1700)\" style=\"stroke:#000000; stroke-width:4; stroke-opacity:1; fill:none\" points=\"\n",
       "  1368.63,1164.83 1380.44,1164.83 \n",
       "  \"/>\n",
       "<polyline clip-path=\"url(#clip1700)\" style=\"stroke:#000000; stroke-width:4; stroke-opacity:1; fill:none\" points=\"\n",
       "  1368.63,904.041 1380.44,904.041 \n",
       "  \"/>\n",
       "<polyline clip-path=\"url(#clip1700)\" style=\"stroke:#000000; stroke-width:4; stroke-opacity:1; fill:none\" points=\"\n",
       "  1368.63,643.253 1380.44,643.253 \n",
       "  \"/>\n",
       "<polyline clip-path=\"url(#clip1700)\" style=\"stroke:#000000; stroke-width:4; stroke-opacity:1; fill:none\" points=\"\n",
       "  1368.63,382.464 1380.44,382.464 \n",
       "  \"/>\n",
       "<polyline clip-path=\"url(#clip1700)\" style=\"stroke:#000000; stroke-width:4; stroke-opacity:1; fill:none\" points=\"\n",
       "  1368.63,121.675 1380.44,121.675 \n",
       "  \"/>\n",
       "<g clip-path=\"url(#clip1700)\">\n",
       "<text style=\"fill:#000000; fill-opacity:1; font-family:Arial,Helvetica Neue,Helvetica,sans-serif; font-size:48px; text-anchor:middle;\" transform=\"rotate(0, 1396.48, 1479.62)\" x=\"1396.48\" y=\"1479.62\">0</text>\n",
       "</g>\n",
       "<g clip-path=\"url(#clip1700)\">\n",
       "<text style=\"fill:#000000; fill-opacity:1; font-family:Arial,Helvetica Neue,Helvetica,sans-serif; font-size:48px; text-anchor:middle;\" transform=\"rotate(0, 1668.5, 1479.62)\" x=\"1668.5\" y=\"1479.62\">10</text>\n",
       "</g>\n",
       "<g clip-path=\"url(#clip1700)\">\n",
       "<text style=\"fill:#000000; fill-opacity:1; font-family:Arial,Helvetica Neue,Helvetica,sans-serif; font-size:48px; text-anchor:middle;\" transform=\"rotate(0, 1940.52, 1479.62)\" x=\"1940.52\" y=\"1479.62\">20</text>\n",
       "</g>\n",
       "<g clip-path=\"url(#clip1700)\">\n",
       "<text style=\"fill:#000000; fill-opacity:1; font-family:Arial,Helvetica Neue,Helvetica,sans-serif; font-size:48px; text-anchor:middle;\" transform=\"rotate(0, 2212.55, 1479.62)\" x=\"2212.55\" y=\"1479.62\">30</text>\n",
       "</g>\n",
       "<g clip-path=\"url(#clip1700)\">\n",
       "<text style=\"fill:#000000; fill-opacity:1; font-family:Arial,Helvetica Neue,Helvetica,sans-serif; font-size:48px; text-anchor:end;\" transform=\"rotate(0, 1344.63, 1443.12)\" x=\"1344.63\" y=\"1443.12\">-18</text>\n",
       "</g>\n",
       "<g clip-path=\"url(#clip1700)\">\n",
       "<text style=\"fill:#000000; fill-opacity:1; font-family:Arial,Helvetica Neue,Helvetica,sans-serif; font-size:48px; text-anchor:end;\" transform=\"rotate(0, 1344.63, 1182.33)\" x=\"1344.63\" y=\"1182.33\">-16</text>\n",
       "</g>\n",
       "<g clip-path=\"url(#clip1700)\">\n",
       "<text style=\"fill:#000000; fill-opacity:1; font-family:Arial,Helvetica Neue,Helvetica,sans-serif; font-size:48px; text-anchor:end;\" transform=\"rotate(0, 1344.63, 921.541)\" x=\"1344.63\" y=\"921.541\">-14</text>\n",
       "</g>\n",
       "<g clip-path=\"url(#clip1700)\">\n",
       "<text style=\"fill:#000000; fill-opacity:1; font-family:Arial,Helvetica Neue,Helvetica,sans-serif; font-size:48px; text-anchor:end;\" transform=\"rotate(0, 1344.63, 660.753)\" x=\"1344.63\" y=\"660.753\">-12</text>\n",
       "</g>\n",
       "<g clip-path=\"url(#clip1700)\">\n",
       "<text style=\"fill:#000000; fill-opacity:1; font-family:Arial,Helvetica Neue,Helvetica,sans-serif; font-size:48px; text-anchor:end;\" transform=\"rotate(0, 1344.63, 399.964)\" x=\"1344.63\" y=\"399.964\">-10</text>\n",
       "</g>\n",
       "<g clip-path=\"url(#clip1700)\">\n",
       "<text style=\"fill:#000000; fill-opacity:1; font-family:Arial,Helvetica Neue,Helvetica,sans-serif; font-size:48px; text-anchor:end;\" transform=\"rotate(0, 1344.63, 139.175)\" x=\"1344.63\" y=\"139.175\">-8</text>\n",
       "</g>\n",
       "<polyline clip-path=\"url(#clip1703)\" style=\"stroke:#009af9; stroke-width:4; stroke-opacity:1; fill:none\" points=\"\n",
       "  1396.48,3254.7 1396.52,1237.65 1396.57,1238.7 1396.62,1284.6 1396.7,1184.1 1396.82,1225.87 1396.99,1144.33 1397.26,1081.39 1397.67,1072.85 1398.32,1082.5 \n",
       "  1399.39,1138.31 1401.18,1104.9 1404.18,1042.01 1409.29,1009.09 1416.03,1008.07 1421.09,1006.88 1425.18,1006.53 1429.17,1006.33 1433.43,1006.5 1438.46,1007.15 \n",
       "  1444.74,1007.26 1454.04,1008.22 1467.79,1008.44 1488.16,1015.36 1510.76,1012.45 1524.48,1012.44 1536.27,1012.05 1544.48,1011.28 1550.81,1009.48 1555.85,1009.23 \n",
       "  1560.58,1009.36 1565.52,1009.75 1571.29,1010.35 1578.65,1010.29 1589.51,1011.89 1604.84,1011.64 1628.66,1026.71 1649.7,1025.76 1665.14,1025.59 1677.01,1024.57 \n",
       "  1685.29,1023.66 1691.23,1022.74 1696.15,1022.52 1700.97,1022.73 1705.97,1023.29 1711.89,1024.35 1719.61,1024.44 1730.78,1026.02 1746.57,1026.02 1771.36,1053.94 \n",
       "  1786.87,1053.83 1801.24,1051.82 1811.39,1050.69 1818.59,1047.61 1823.6,1046.54 1827.75,1046.47 1831.89,1047.63 1836.07,1048.73 1840.95,1050.13 1847.28,1050.31 \n",
       "  1851.43,1050.53 1854.74,1057.08 1857.01,1110.91 1858.38,1162.74 1859.22,1107.62 1859.73,1107.94 1860.06,1143.13 1860.27,1274.78 1860.41,1215.35 1860.51,1204.82 \n",
       "  1860.58,1196.06 1860.63,1147.32 1860.67,1143.74 1860.71,1144.21 1860.75,1148.36 1860.8,1159.06 1860.86,1160.12 1860.96,1173.69 1861.08,1171.67 1861.29,1127.15 \n",
       "  1861.6,1089.77 1862.09,1087.17 1862.88,1114.06 1864.18,1167.44 1866.35,1063.21 1870.02,1022.68 1876.31,996.251 1881.99,996.397 1886.99,996.867 1891,996.858 \n",
       "  1894.92,996.789 1899.33,996.594 1904.99,996.628 1912.71,998.427 1923.04,998.192 1939.71,1002.63 1963.24,1009.57 1979.7,1009.48 1994.21,1010.49 2004.69,1004.89 \n",
       "  2011.64,1005.23 2017.44,1005.24 2022.23,1005.05 2026.92,1004.85 2032.18,1004.52 2038.9,1004.57 2047.88,1006.17 2059.88,1005.92 2079.82,1012.14 2107.48,1016.89 \n",
       "  2119.38,1016.89 2131.93,1016.92 2142.9,1014.66 2150.39,1014.84 2156.45,1013.18 2161.17,1012.88 2165.87,1012.57 2170.98,1012.61 2177.14,1013.51 2185.25,1014.18 \n",
       "  2196.95,1014.46 2213.9,1015.25 2240.11,1038.27 2251.55,1038.27 2264.39,1038.04 2274.9,1038.24 2282.39,1033.51 2287.43,1032.91 2291.71,1033.07 2295.88,1034.37 \n",
       "  2299.99,1035.19 2304.79,1036.07 2311.01,1035.82 2315.55,1036.34 2318.78,1038.64 2321.1,1065.85 2322.52,1128.04 2323.39,1316.6 2323.92,1384.77 2324.25,1155.31 \n",
       "  2324.47,1106.33 2324.62,1098.31 2324.72,1100.57 2324.79,1098.28 2324.84,1086.66 2324.88,1086.16 2324.9,1086.16 \n",
       "  \"/>\n",
       "<polyline clip-path=\"url(#clip1703)\" style=\"stroke:#e26f46; stroke-width:4; stroke-opacity:1; fill:none\" points=\"\n",
       "  1396.48,3254.7 1396.52,1237.65 1396.57,1238.69 1396.62,1284.6 1396.7,1184.1 1396.82,1225.86 1396.99,1144.33 1397.26,1081.39 1397.67,1072.85 1398.32,1082.5 \n",
       "  1399.39,1138.31 1401.18,1104.9 1404.18,1042.01 1409.29,1009.09 1416.03,1008.1 1421.09,1006.9 1425.18,1006.56 1429.17,1006.35 1433.43,1006.52 1438.46,1007.18 \n",
       "  1444.74,1007.29 1454.04,1008.25 1467.79,1008.47 1488.16,1014.56 1510.76,1011.87 1524.48,1011.85 1536.27,1011.47 1544.48,1010.71 1550.81,1008.92 1555.85,1008.68 \n",
       "  1560.58,1008.8 1565.52,1009.19 1571.29,1009.78 1578.65,1009.73 1589.51,1011.31 1604.84,1011.06 1628.66,1019.28 1649.7,1018.54 1665.14,1018.38 1677.01,1017.49 \n",
       "  1685.29,1016.68 1691.23,1015.86 1696.15,1015.67 1700.97,1015.86 1705.97,1016.35 1711.89,1017.29 1719.61,1017.37 1730.78,1018.76 1746.57,1018.76 1771.36,1030 \n",
       "  1786.87,1029.92 1801.24,1028.6 1811.39,1027.85 1818.59,1025.78 1823.6,1025.04 1827.75,1025 1831.89,1025.79 1836.07,1026.53 1840.95,1027.48 1847.28,1027.6 \n",
       "  1851.43,1027.74 1854.74,1032.04 1857.01,1060.42 1858.38,1108.78 1859.22,1165.84 1859.73,1164.98 1860.06,1118.62 1860.27,1088.17 1860.41,1084.4 1860.51,1083.27 \n",
       "  1860.58,1082.17 1860.63,1072.67 1860.67,1071.69 1860.71,1071.82 1860.75,1072.95 1860.8,1075.58 1860.86,1075.82 1860.96,1078.61 1861.08,1078.23 1861.29,1132.08 \n",
       "  1861.6,1353.57 1862.09,1252.55 1862.88,1150.96 1864.18,1077.39 1866.35,1035.9 1870.02,1007.69 1876.31,986.406 1881.99,986.53 1886.99,986.918 1891,986.914 \n",
       "  1894.92,986.854 1899.33,986.693 1904.99,986.718 1912.71,988.226 1923.04,988.029 1939.71,991.706 1963.24,994.771 1979.7,994.705 1994.21,995.483 2004.69,991.138 \n",
       "  2011.64,991.401 2017.44,991.407 2022.23,991.264 2026.92,991.102 2032.18,990.849 2038.9,990.886 2047.88,992.134 2059.88,991.941 2079.82,996.541 2107.48,994.987 \n",
       "  2119.38,994.986 2131.93,995.007 2142.9,993.462 2150.39,993.585 2156.45,992.435 2161.17,992.225 2165.87,992.013 2170.98,992.043 2177.14,992.662 2185.25,993.124 \n",
       "  2196.95,993.318 2213.9,993.859 2240.11,997.797 2251.55,997.796 2264.39,997.685 2274.9,997.782 2282.39,995.423 2287.43,995.114 2291.71,995.196 2295.88,995.858 \n",
       "  2299.99,996.276 2304.79,996.712 2311.01,996.59 2315.55,996.849 2318.78,997.982 2321.1,1009.64 2322.52,1025.71 2323.39,1035.46 2323.92,1035.98 2324.25,1029.38 \n",
       "  2324.47,1021.52 2324.62,1019.63 2324.72,1020.18 2324.79,1019.62 2324.84,1016.49 2324.88,1016.35 2324.9,1016.35 \n",
       "  \"/>\n",
       "<path clip-path=\"url(#clip1700)\" d=\"\n",
       "M1832.1 386.635 L2280.76 386.635 L2280.76 205.195 L1832.1 205.195  Z\n",
       "  \" fill=\"#ffffff\" fill-rule=\"evenodd\" fill-opacity=\"1\"/>\n",
       "<polyline clip-path=\"url(#clip1700)\" style=\"stroke:#000000; stroke-width:4; stroke-opacity:1; fill:none\" points=\"\n",
       "  1832.1,386.635 2280.76,386.635 2280.76,205.195 1832.1,205.195 1832.1,386.635 \n",
       "  \"/>\n",
       "<polyline clip-path=\"url(#clip1700)\" style=\"stroke:#009af9; stroke-width:4; stroke-opacity:1; fill:none\" points=\"\n",
       "  1856.1,265.675 2000.1,265.675 \n",
       "  \"/>\n",
       "<g clip-path=\"url(#clip1700)\">\n",
       "<text style=\"fill:#000000; fill-opacity:1; font-family:Arial,Helvetica Neue,Helvetica,sans-serif; font-size:48px; text-anchor:start;\" transform=\"rotate(0, 2024.1, 283.175)\" x=\"2024.1\" y=\"283.175\">IRKGL16</text>\n",
       "</g>\n",
       "<polyline clip-path=\"url(#clip1700)\" style=\"stroke:#e26f46; stroke-width:4; stroke-opacity:1; fill:none\" points=\"\n",
       "  1856.1,326.155 2000.1,326.155 \n",
       "  \"/>\n",
       "<g clip-path=\"url(#clip1700)\">\n",
       "<text style=\"fill:#000000; fill-opacity:1; font-family:Arial,Helvetica Neue,Helvetica,sans-serif; font-size:48px; text-anchor:start;\" transform=\"rotate(0, 2024.1, 343.655)\" x=\"2024.1\" y=\"343.655\">IRKGl162</text>\n",
       "</g>\n",
       "</svg>\n"
      ]
     },
     "execution_count": 25,
     "metadata": {},
     "output_type": "execute_result"
    }
   ],
   "source": [
    "E0=NbodyEnergy(u0128,μ128)\n",
    "end1=length(steps1)\n",
    "\n",
    "ulist = sol0.u\n",
    "tlist = sol0.t\n",
    "EnergyErrors=[NbodyEnergy(BigFloat.(sol0.u[j]),μ128)/E0-1 for j in 1:length(tlist)]\n",
    "\n",
    "ulist1 = sol1.u[1:end]\n",
    "tlist1 = sol1.t[1:end]\n",
    "EnergyErrors1=[NbodyEnergy(BigFloat.(sol1.u[j]),μ128)/E0-1 for j in 1:length(tlist1)]\n",
    "\n",
    "ulist2 = sol2.u[1:end]\n",
    "tlist2 = sol2.t[1:end]\n",
    "EnergyErrors2=[NbodyEnergy(BigFloat.(sol2.u[j]),μ128)/E0-1 for j in 1:length(tlist2)]\n",
    "\n",
    "ylimit1=-18\n",
    "ylimit2=-8\n",
    "\n",
    "p1=plot(tlist[1:end],log10.(abs.(EnergyErrors)),\n",
    "    ylims=(ylimit1,ylimit2),\n",
    "   xlabel=\"t\", title=\"Error in energy\", label=\"Vern9\")\n",
    "p2=plot(tlist1[1:end],log10.(abs.(EnergyErrors1)),\n",
    "        ylims=(ylimit1,ylimit2),\n",
    "    label=\"IRKGL16\")\n",
    "p2=plot!(tlist2[1:end],log10.(abs.(EnergyErrors2)),\n",
    "        ylims=(ylimit1,ylimit2),\n",
    "        label=\"IRKGl162\")\n",
    "plot(p1,p2,layout=2)"
   ]
  },
  {
   "cell_type": "code",
   "execution_count": 26,
   "metadata": {},
   "outputs": [
    {
     "data": {
      "text/plain": [
       "(3.01081f-14, 1.962621f-15, 2.3353094f-15)"
      ]
     },
     "execution_count": 26,
     "metadata": {},
     "output_type": "execute_result"
    }
   ],
   "source": [
    "(Float32(maximum(abs.(EnergyErrors))),Float32(maximum(abs.(EnergyErrors1))),Float32(maximum(abs.(EnergyErrors2))))"
   ]
  },
  {
   "cell_type": "markdown",
   "metadata": {},
   "source": [
    "## Global error"
   ]
  },
  {
   "cell_type": "code",
   "execution_count": 27,
   "metadata": {},
   "outputs": [],
   "source": [
    "tspan128=[BigFloat(0.0),2*parse(BigFloat,\"17.0652165601579625588917206249\")]\n",
    "test_sol = TestSolution(tspan128,[u0128]);"
   ]
  },
  {
   "cell_type": "code",
   "execution_count": 28,
   "metadata": {},
   "outputs": [
    {
     "name": "stdout",
     "output_type": "stream",
     "text": [
      "apr.errors = Dict(:final => 7.243614383994209395836220006695957266820204412573153371071300494501151059668795e-10)\n"
     ]
    }
   ],
   "source": [
    "# Vern9\n",
    "apr = appxtrue(sol0,test_sol)\n",
    "#@show sol0[end]\n",
    "#@show apr.u[end]\n",
    "@show apr.errors;"
   ]
  },
  {
   "cell_type": "code",
   "execution_count": 29,
   "metadata": {},
   "outputs": [
    {
     "name": "stdout",
     "output_type": "stream",
     "text": [
      "apr.errors = Dict(:final => 8.816092177669082335734730795663046377659852897689456366285494060741967397821567e-10)\n"
     ]
    }
   ],
   "source": [
    "# IRGL16\n",
    "apr = appxtrue(sol1,test_sol)\n",
    "#@show sol1[end]\n",
    "#@show apr.u[end]\n",
    "@show apr.errors;"
   ]
  },
  {
   "cell_type": "code",
   "execution_count": 30,
   "metadata": {},
   "outputs": [
    {
     "name": "stdout",
     "output_type": "stream",
     "text": [
      "apr.errors = Dict(:final => 7.74220988080777895966835974899913186181027402951843258623054177543476931127947e-10)\n"
     ]
    },
    {
     "data": {
      "text/plain": [
       "Dict{Symbol,BigFloat} with 1 entry:\n",
       "  :final => 7.74221e-10"
      ]
     },
     "execution_count": 30,
     "metadata": {},
     "output_type": "execute_result"
    }
   ],
   "source": [
    "# IRGL162\n",
    "apr = appxtrue(sol2,test_sol)\n",
    "#@show sol1[end]\n",
    "#@show apr.u[end]\n",
    "@show apr.errors"
   ]
  },
  {
   "cell_type": "code",
   "execution_count": 31,
   "metadata": {},
   "outputs": [
    {
     "data": {
      "text/plain": [
       "(2.7804048f-9, 2.4424065f-9)"
      ]
     },
     "execution_count": 31,
     "metadata": {},
     "output_type": "execute_result"
    }
   ],
   "source": [
    "err1=Float32(norm(sol1.u[end]-u0128))\n",
    "err2=Float32(norm(sol2.u[end]-u0128))\n",
    "(err1,err2)"
   ]
  },
  {
   "cell_type": "code",
   "execution_count": 32,
   "metadata": {},
   "outputs": [
    {
     "data": {
      "text/plain": [
       "4-element Array{BigFloat,1}:\n",
       "      5.529254209233179206575955017529882568616276078253764746470319702949422534284743e-12\n",
       " 163021.3905824474053944440209686290306644328111583749219065814078087346126047615         \n",
       "      2.643697070473240497300721789958478776583953531138217147973804186819030538911843e+07\n",
       "      8.544604097475204977639443120264291811923031647146306651804107020370521168932657e-10"
      ]
     },
     "execution_count": 32,
     "metadata": {},
     "output_type": "execute_result"
    }
   ],
   "source": [
    "a=sol1.u[end]\n",
    "b=u0128\n",
    "err = [norm(a[i] - b[i]) / (norm(b[i])+1e-16) for i in 1:4]"
   ]
  },
  {
   "cell_type": "code",
   "execution_count": 33,
   "metadata": {},
   "outputs": [
    {
     "data": {
      "text/plain": [
       "4-element Array{BigFloat,1}:\n",
       "      4.848921462698845573479688136331299724505756273825610306959489806460127893324094e-12\n",
       " 143238.4432564380111274987943208097417357663800654017944153230309177563077953295         \n",
       "      2.32273175639561374510291223741366836002973321077837931673546892576593020721998e+07 \n",
       "      7.493248152319111031226827996359859212407587675555689377301525565467147066292322e-10"
      ]
     },
     "execution_count": 33,
     "metadata": {},
     "output_type": "execute_result"
    }
   ],
   "source": [
    "a=sol2.u[end]\n",
    "b=u0128\n",
    "err = [norm(a[i] - b[i]) / norm(b[i]+1e-16) for i in 1:4]"
   ]
  },
  {
   "cell_type": "markdown",
   "metadata": {},
   "source": [
    "## Higher Order Algorithms"
   ]
  },
  {
   "cell_type": "code",
   "execution_count": 27,
   "metadata": {},
   "outputs": [],
   "source": [
    "#abstols = 1.0 ./ 10.0 .^ (8:16)\n",
    "#reltols = 1.0 ./ 10.0 .^ (8:16);"
   ]
  },
  {
   "cell_type": "code",
   "execution_count": 28,
   "metadata": {},
   "outputs": [],
   "source": [
    "#setups = [\n",
    "#    #Dict(:alg=>DP8())\n",
    "#          Dict(:alg=>Vern9())\n",
    "#          Dict(:alg=>IRKGL16())   \n",
    "#          Dict(:alg=>IRKGL162())];\n",
    "#wp = WorkPrecisionSet(prob,abstols,reltols,setups;appxsol=test_sol,save_everystep=false,numruns=100)\n",
    "#plot(wp)"
   ]
  },
  {
   "cell_type": "code",
   "execution_count": null,
   "metadata": {},
   "outputs": [],
   "source": []
  }
 ],
 "metadata": {
  "@webio": {
   "lastCommId": null,
   "lastKernelId": null
  },
  "anaconda-cloud": {},
  "kernelspec": {
   "display_name": "Julia 1.3.1",
   "language": "julia",
   "name": "julia-1.3"
  },
  "language_info": {
   "file_extension": ".jl",
   "mimetype": "application/julia",
   "name": "julia",
   "version": "1.3.1"
  }
 },
 "nbformat": 4,
 "nbformat_minor": 2
}
