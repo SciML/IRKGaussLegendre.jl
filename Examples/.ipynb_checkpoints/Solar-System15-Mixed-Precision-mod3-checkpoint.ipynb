{
 "cells": [
  {
   "cell_type": "markdown",
   "metadata": {},
   "source": [
    "# Solar-System15-Mixed-Precision"
   ]
  },
  {
   "cell_type": "markdown",
   "metadata": {},
   "source": [
    "<ul id=\"top\">\n",
    "<li><a href=\"#Load-packages\"> \n",
    "             Load Packages</a></li>\n",
    "    \n",
    "<li><a href=\"#Computer-properties\"> \n",
    "             Computer properties</a></li> \n",
    "\n",
    "<li><a href=\"#Initial-value-problem:-Solar-System15\">\n",
    "              Initial value problem: Solar-System15</a></li>\n",
    "\n",
    "<li><a href=\"#Ode-problem\">\n",
    "             Ode problem</a></li>\n",
    " \n",
    "<li><a href=\"#Error-in-energy\">\n",
    "             Error in energy</a></li> \n",
    "\n",
    "<li><a href=\"#Work-Precision-diagrams\">\n",
    "             Work-Precision diagrams</a></li> \n",
    "\n",
    "</ul>  "
   ]
  },
  {
   "cell_type": "markdown",
   "metadata": {},
   "source": [
    "## Load packages"
   ]
  },
  {
   "cell_type": "code",
   "execution_count": 1,
   "metadata": {},
   "outputs": [
    {
     "name": "stderr",
     "output_type": "stream",
     "text": [
      "┌ Info: Precompiling IRKGaussLegendre [58bc7355-f626-4c51-96f2-1f8a038f95a2]\n",
      "└ @ Base loading.jl:1273\n"
     ]
    }
   ],
   "source": [
    "using OrdinaryDiffEq,DiffEqDevTools,BenchmarkTools\n",
    "using IRKGaussLegendre\n",
    "using Plots,LinearAlgebra\n",
    "using Dates\n",
    "using RecursiveArrayTools\n",
    "using JLD2, FileIO"
   ]
  },
  {
   "cell_type": "code",
   "execution_count": 2,
   "metadata": {},
   "outputs": [],
   "source": [
    "setprecision(BigFloat, 108);"
   ]
  },
  {
   "cell_type": "code",
   "execution_count": 3,
   "metadata": {},
   "outputs": [],
   "source": [
    "#plotly()"
   ]
  },
  {
   "cell_type": "markdown",
   "metadata": {},
   "source": [
    "<a href=\"#top\">Back to the top</a>\n",
    "\n",
    "## Computer properties"
   ]
  },
  {
   "cell_type": "code",
   "execution_count": 4,
   "metadata": {},
   "outputs": [
    {
     "data": {
      "text/plain": [
       "1"
      ]
     },
     "execution_count": 4,
     "metadata": {},
     "output_type": "execute_result"
    }
   ],
   "source": [
    "#export JULIA_NUM_THREADS=2\n",
    "Threads.nthreads()"
   ]
  },
  {
   "cell_type": "code",
   "execution_count": 5,
   "metadata": {},
   "outputs": [],
   "source": [
    "#;cat /proc/cpuinfo # on Linux machines"
   ]
  },
  {
   "cell_type": "code",
   "execution_count": 6,
   "metadata": {},
   "outputs": [
    {
     "data": {
      "text/plain": [
       "2"
      ]
     },
     "execution_count": 6,
     "metadata": {},
     "output_type": "execute_result"
    }
   ],
   "source": [
    "using Hwloc\n",
    "Hwloc.num_physical_cores()"
   ]
  },
  {
   "cell_type": "markdown",
   "metadata": {},
   "source": [
    "<a href=\"#top\">Back to the top</a>\n",
    "\n",
    "## Initial value problem: Solar-System15"
   ]
  },
  {
   "cell_type": "code",
   "execution_count": 7,
   "metadata": {},
   "outputs": [],
   "source": [
    "include(\"../examples/Nbody.jl\")\n",
    "include(\"../examples/InitialNBody15.jl\")\n",
    "u0128, Gm128 =InitialNBody15(BigFloat)\n",
    "\n",
    "q0128=u0128[2,:,:]\n",
    "v0128=u0128[1,:,:]\n",
    "\n",
    "dt=5\n",
    "t0=0.0\n",
    "t1=20*dt    #1000.\n",
    "mysaveat=1  #10\n",
    "\n",
    "tspan128=(BigFloat(t0),BigFloat(t1))\n",
    "prob128=ODEProblem(NbodyODE!,u0128,tspan128,Gm128);"
   ]
  },
  {
   "cell_type": "code",
   "execution_count": 8,
   "metadata": {},
   "outputs": [],
   "source": [
    "u064, Gm64 =InitialNBody15(Float64)\n",
    "lpp=Gm64;"
   ]
  },
  {
   "cell_type": "code",
   "execution_count": 9,
   "metadata": {},
   "outputs": [
    {
     "data": {
      "text/plain": [
       "(0.0, 100.0)"
      ]
     },
     "execution_count": 9,
     "metadata": {},
     "output_type": "execute_result"
    }
   ],
   "source": [
    "tspan128"
   ]
  },
  {
   "cell_type": "markdown",
   "metadata": {},
   "source": [
    "<a href=\"#top\">Back to the top</a>\n",
    "\n",
    "## Ode problem"
   ]
  },
  {
   "cell_type": "markdown",
   "metadata": {},
   "source": [
    "### Test solution"
   ]
  },
  {
   "cell_type": "code",
   "execution_count": 10,
   "metadata": {},
   "outputs": [],
   "source": [
    "prob128 = ODEProblem(NbodyODE!,u0128,tspan128,Gm128,;lpp=lpp);\n",
    "#sol =solve(prob128,Vern9(),saveat=mysaveat,abstol=1e-24,reltol=1e-24,maxiters=100000);\n",
    "#@save \"./Data/solarsystem15small_test_solF128.jld2\" sol\n",
    "@load \"./Data/solarsystem15small_test_solF128.jld2\" sol\n",
    "test_sol = TestSolution(sol);"
   ]
  },
  {
   "cell_type": "markdown",
   "metadata": {},
   "source": [
    "### IRKGL16 (Fixed-Step)"
   ]
  },
  {
   "cell_type": "code",
   "execution_count": 11,
   "metadata": {},
   "outputs": [
    {
     "data": {
      "text/plain": [
       "DiffEqBase.DEStats\n",
       "Number of function 1 evaluations:                  3411\n",
       "Number of function 2 evaluations:                  0\n",
       "Number of W matrix evaluations:                    0\n",
       "Number of linear solves:                           0\n",
       "Number of Jacobians created:                       0\n",
       "Number of nonlinear solver iterations:             0\n",
       "Number of nonlinear solver convergence failures:   0\n",
       "Number of rootfind condition calls:                0\n",
       "Number of accepted steps:                          20\n",
       "Number of rejected steps:                          0"
      ]
     },
     "execution_count": 11,
     "metadata": {},
     "output_type": "execute_result"
    }
   ],
   "source": [
    "sol1 =solve(prob128,IRKGL16(),dt=dt,saveat=mysaveat,adaptive=false,mixed_precision=false);\n",
    "sol1.destats"
   ]
  },
  {
   "cell_type": "code",
   "execution_count": 12,
   "metadata": {},
   "outputs": [
    {
     "data": {
      "text/plain": [
       "DiffEqBase.DEStats\n",
       "Number of function 1 evaluations:                  2343\n",
       "Number of function 2 evaluations:                  1806\n",
       "Number of W matrix evaluations:                    0\n",
       "Number of linear solves:                           0\n",
       "Number of Jacobians created:                       0\n",
       "Number of nonlinear solver iterations:             0\n",
       "Number of nonlinear solver convergence failures:   0\n",
       "Number of rootfind condition calls:                0\n",
       "Number of accepted steps:                          20\n",
       "Number of rejected steps:                          0"
      ]
     },
     "execution_count": 12,
     "metadata": {},
     "output_type": "execute_result"
    }
   ],
   "source": [
    "sol2 = solve(prob128,IRKGL16(),dt=dt,saveat=mysaveat,adaptive=false,\n",
    "                             mixed_precision=true, low_prec_type=Float64);\n",
    "sol2.destats"
   ]
  },
  {
   "cell_type": "markdown",
   "metadata": {},
   "source": [
    "<a href=\"#top\">Back to the top</a>\n",
    "\n",
    "## Error in energy"
   ]
  },
  {
   "cell_type": "code",
   "execution_count": 13,
   "metadata": {},
   "outputs": [
    {
     "data": {
      "text/plain": [
       "(1.2841041f-27, 2.5345949f-21, 2.5345949f-21)"
      ]
     },
     "execution_count": 13,
     "metadata": {},
     "output_type": "execute_result"
    }
   ],
   "source": [
    "setprecision(BigFloat, 256)\n",
    "u0128, Gm128 =InitialNBody15(BigFloat)\n",
    "E0=NbodyEnergy(u0128,Gm128)\n",
    "\n",
    "ΔE = map(x->NbodyEnergy(BigFloat.(x),Gm128), sol.u)./E0.-1\n",
    "ΔE1 = map(x->NbodyEnergy(BigFloat.(x),Gm128), sol1.u)./E0.-1\n",
    "ΔE2 = map(x->NbodyEnergy(BigFloat.(x),Gm128), sol2.u)./E0.-1\n",
    "\n",
    "(Float32(maximum(abs.(ΔE))),Float32(maximum(abs.(ΔE1))),Float32(maximum(abs.(ΔE2))))"
   ]
  },
  {
   "cell_type": "code",
   "execution_count": 14,
   "metadata": {},
   "outputs": [
    {
     "data": {
      "image/svg+xml": [
       "<?xml version=\"1.0\" encoding=\"utf-8\"?>\n",
       "<svg xmlns=\"http://www.w3.org/2000/svg\" xmlns:xlink=\"http://www.w3.org/1999/xlink\" width=\"600\" height=\"400\" viewBox=\"0 0 2400 1600\">\n",
       "<defs>\n",
       "  <clipPath id=\"clip1200\">\n",
       "    <rect x=\"0\" y=\"0\" width=\"2400\" height=\"1600\"/>\n",
       "  </clipPath>\n",
       "</defs>\n",
       "<path clip-path=\"url(#clip1200)\" d=\"\n",
       "M0 1600 L2400 1600 L2400 0 L0 0  Z\n",
       "  \" fill=\"#ffffff\" fill-rule=\"evenodd\" fill-opacity=\"1\"/>\n",
       "<defs>\n",
       "  <clipPath id=\"clip1201\">\n",
       "    <rect x=\"480\" y=\"0\" width=\"1681\" height=\"1600\"/>\n",
       "  </clipPath>\n",
       "</defs>\n",
       "<path clip-path=\"url(#clip1200)\" d=\"\n",
       "M168.627 1487.47 L2352.76 1487.47 L2352.76 47.2441 L168.627 47.2441  Z\n",
       "  \" fill=\"#ffffff\" fill-rule=\"evenodd\" fill-opacity=\"1\"/>\n",
       "<defs>\n",
       "  <clipPath id=\"clip1202\">\n",
       "    <rect x=\"168\" y=\"47\" width=\"2185\" height=\"1441\"/>\n",
       "  </clipPath>\n",
       "</defs>\n",
       "<polyline clip-path=\"url(#clip1202)\" style=\"stroke:#000000; stroke-width:2; stroke-opacity:0.1; fill:none\" points=\"\n",
       "  230.442,1487.47 230.442,47.2441 \n",
       "  \"/>\n",
       "<polyline clip-path=\"url(#clip1202)\" style=\"stroke:#000000; stroke-width:2; stroke-opacity:0.1; fill:none\" points=\"\n",
       "  745.567,1487.47 745.567,47.2441 \n",
       "  \"/>\n",
       "<polyline clip-path=\"url(#clip1202)\" style=\"stroke:#000000; stroke-width:2; stroke-opacity:0.1; fill:none\" points=\"\n",
       "  1260.69,1487.47 1260.69,47.2441 \n",
       "  \"/>\n",
       "<polyline clip-path=\"url(#clip1202)\" style=\"stroke:#000000; stroke-width:2; stroke-opacity:0.1; fill:none\" points=\"\n",
       "  1775.82,1487.47 1775.82,47.2441 \n",
       "  \"/>\n",
       "<polyline clip-path=\"url(#clip1202)\" style=\"stroke:#000000; stroke-width:2; stroke-opacity:0.1; fill:none\" points=\"\n",
       "  2290.94,1487.47 2290.94,47.2441 \n",
       "  \"/>\n",
       "<polyline clip-path=\"url(#clip1202)\" style=\"stroke:#000000; stroke-width:2; stroke-opacity:0.1; fill:none\" points=\"\n",
       "  168.627,1487.47 2352.76,1487.47 \n",
       "  \"/>\n",
       "<polyline clip-path=\"url(#clip1202)\" style=\"stroke:#000000; stroke-width:2; stroke-opacity:0.1; fill:none\" points=\"\n",
       "  168.627,1247.44 2352.76,1247.44 \n",
       "  \"/>\n",
       "<polyline clip-path=\"url(#clip1202)\" style=\"stroke:#000000; stroke-width:2; stroke-opacity:0.1; fill:none\" points=\"\n",
       "  168.627,1007.4 2352.76,1007.4 \n",
       "  \"/>\n",
       "<polyline clip-path=\"url(#clip1202)\" style=\"stroke:#000000; stroke-width:2; stroke-opacity:0.1; fill:none\" points=\"\n",
       "  168.627,767.359 2352.76,767.359 \n",
       "  \"/>\n",
       "<polyline clip-path=\"url(#clip1202)\" style=\"stroke:#000000; stroke-width:2; stroke-opacity:0.1; fill:none\" points=\"\n",
       "  168.627,527.321 2352.76,527.321 \n",
       "  \"/>\n",
       "<polyline clip-path=\"url(#clip1202)\" style=\"stroke:#000000; stroke-width:2; stroke-opacity:0.1; fill:none\" points=\"\n",
       "  168.627,287.283 2352.76,287.283 \n",
       "  \"/>\n",
       "<polyline clip-path=\"url(#clip1202)\" style=\"stroke:#000000; stroke-width:2; stroke-opacity:0.1; fill:none\" points=\"\n",
       "  168.627,47.2441 2352.76,47.2441 \n",
       "  \"/>\n",
       "<polyline clip-path=\"url(#clip1200)\" style=\"stroke:#000000; stroke-width:4; stroke-opacity:1; fill:none\" points=\"\n",
       "  168.627,1487.47 2352.76,1487.47 \n",
       "  \"/>\n",
       "<polyline clip-path=\"url(#clip1200)\" style=\"stroke:#000000; stroke-width:4; stroke-opacity:1; fill:none\" points=\"\n",
       "  168.627,1487.47 168.627,47.2441 \n",
       "  \"/>\n",
       "<polyline clip-path=\"url(#clip1200)\" style=\"stroke:#000000; stroke-width:4; stroke-opacity:1; fill:none\" points=\"\n",
       "  230.442,1487.47 230.442,1470.19 \n",
       "  \"/>\n",
       "<polyline clip-path=\"url(#clip1200)\" style=\"stroke:#000000; stroke-width:4; stroke-opacity:1; fill:none\" points=\"\n",
       "  745.567,1487.47 745.567,1470.19 \n",
       "  \"/>\n",
       "<polyline clip-path=\"url(#clip1200)\" style=\"stroke:#000000; stroke-width:4; stroke-opacity:1; fill:none\" points=\"\n",
       "  1260.69,1487.47 1260.69,1470.19 \n",
       "  \"/>\n",
       "<polyline clip-path=\"url(#clip1200)\" style=\"stroke:#000000; stroke-width:4; stroke-opacity:1; fill:none\" points=\"\n",
       "  1775.82,1487.47 1775.82,1470.19 \n",
       "  \"/>\n",
       "<polyline clip-path=\"url(#clip1200)\" style=\"stroke:#000000; stroke-width:4; stroke-opacity:1; fill:none\" points=\"\n",
       "  2290.94,1487.47 2290.94,1470.19 \n",
       "  \"/>\n",
       "<polyline clip-path=\"url(#clip1200)\" style=\"stroke:#000000; stroke-width:4; stroke-opacity:1; fill:none\" points=\"\n",
       "  168.627,1487.47 194.836,1487.47 \n",
       "  \"/>\n",
       "<polyline clip-path=\"url(#clip1200)\" style=\"stroke:#000000; stroke-width:4; stroke-opacity:1; fill:none\" points=\"\n",
       "  168.627,1247.44 194.836,1247.44 \n",
       "  \"/>\n",
       "<polyline clip-path=\"url(#clip1200)\" style=\"stroke:#000000; stroke-width:4; stroke-opacity:1; fill:none\" points=\"\n",
       "  168.627,1007.4 194.836,1007.4 \n",
       "  \"/>\n",
       "<polyline clip-path=\"url(#clip1200)\" style=\"stroke:#000000; stroke-width:4; stroke-opacity:1; fill:none\" points=\"\n",
       "  168.627,767.359 194.836,767.359 \n",
       "  \"/>\n",
       "<polyline clip-path=\"url(#clip1200)\" style=\"stroke:#000000; stroke-width:4; stroke-opacity:1; fill:none\" points=\"\n",
       "  168.627,527.321 194.836,527.321 \n",
       "  \"/>\n",
       "<polyline clip-path=\"url(#clip1200)\" style=\"stroke:#000000; stroke-width:4; stroke-opacity:1; fill:none\" points=\"\n",
       "  168.627,287.283 194.836,287.283 \n",
       "  \"/>\n",
       "<polyline clip-path=\"url(#clip1200)\" style=\"stroke:#000000; stroke-width:4; stroke-opacity:1; fill:none\" points=\"\n",
       "  168.627,47.2441 194.836,47.2441 \n",
       "  \"/>\n",
       "<g clip-path=\"url(#clip1200)\">\n",
       "<text style=\"fill:#000000; fill-opacity:1; font-family:Arial,Helvetica Neue,Helvetica,sans-serif; font-size:48px; text-anchor:middle;\" transform=\"rotate(0, 230.442, 1541.47)\" x=\"230.442\" y=\"1541.47\">0</text>\n",
       "</g>\n",
       "<g clip-path=\"url(#clip1200)\">\n",
       "<text style=\"fill:#000000; fill-opacity:1; font-family:Arial,Helvetica Neue,Helvetica,sans-serif; font-size:48px; text-anchor:middle;\" transform=\"rotate(0, 745.567, 1541.47)\" x=\"745.567\" y=\"1541.47\">25</text>\n",
       "</g>\n",
       "<g clip-path=\"url(#clip1200)\">\n",
       "<text style=\"fill:#000000; fill-opacity:1; font-family:Arial,Helvetica Neue,Helvetica,sans-serif; font-size:48px; text-anchor:middle;\" transform=\"rotate(0, 1260.69, 1541.47)\" x=\"1260.69\" y=\"1541.47\">50</text>\n",
       "</g>\n",
       "<g clip-path=\"url(#clip1200)\">\n",
       "<text style=\"fill:#000000; fill-opacity:1; font-family:Arial,Helvetica Neue,Helvetica,sans-serif; font-size:48px; text-anchor:middle;\" transform=\"rotate(0, 1775.82, 1541.47)\" x=\"1775.82\" y=\"1541.47\">75</text>\n",
       "</g>\n",
       "<g clip-path=\"url(#clip1200)\">\n",
       "<text style=\"fill:#000000; fill-opacity:1; font-family:Arial,Helvetica Neue,Helvetica,sans-serif; font-size:48px; text-anchor:middle;\" transform=\"rotate(0, 2290.94, 1541.47)\" x=\"2290.94\" y=\"1541.47\">100</text>\n",
       "</g>\n",
       "<g clip-path=\"url(#clip1200)\">\n",
       "<text style=\"fill:#000000; fill-opacity:1; font-family:Arial,Helvetica Neue,Helvetica,sans-serif; font-size:48px; text-anchor:end;\" transform=\"rotate(0, 144.627, 1504.97)\" x=\"144.627\" y=\"1504.97\">-30</text>\n",
       "</g>\n",
       "<g clip-path=\"url(#clip1200)\">\n",
       "<text style=\"fill:#000000; fill-opacity:1; font-family:Arial,Helvetica Neue,Helvetica,sans-serif; font-size:48px; text-anchor:end;\" transform=\"rotate(0, 144.627, 1264.94)\" x=\"144.627\" y=\"1264.94\">-28</text>\n",
       "</g>\n",
       "<g clip-path=\"url(#clip1200)\">\n",
       "<text style=\"fill:#000000; fill-opacity:1; font-family:Arial,Helvetica Neue,Helvetica,sans-serif; font-size:48px; text-anchor:end;\" transform=\"rotate(0, 144.627, 1024.9)\" x=\"144.627\" y=\"1024.9\">-26</text>\n",
       "</g>\n",
       "<g clip-path=\"url(#clip1200)\">\n",
       "<text style=\"fill:#000000; fill-opacity:1; font-family:Arial,Helvetica Neue,Helvetica,sans-serif; font-size:48px; text-anchor:end;\" transform=\"rotate(0, 144.627, 784.859)\" x=\"144.627\" y=\"784.859\">-24</text>\n",
       "</g>\n",
       "<g clip-path=\"url(#clip1200)\">\n",
       "<text style=\"fill:#000000; fill-opacity:1; font-family:Arial,Helvetica Neue,Helvetica,sans-serif; font-size:48px; text-anchor:end;\" transform=\"rotate(0, 144.627, 544.821)\" x=\"144.627\" y=\"544.821\">-22</text>\n",
       "</g>\n",
       "<g clip-path=\"url(#clip1200)\">\n",
       "<text style=\"fill:#000000; fill-opacity:1; font-family:Arial,Helvetica Neue,Helvetica,sans-serif; font-size:48px; text-anchor:end;\" transform=\"rotate(0, 144.627, 304.783)\" x=\"144.627\" y=\"304.783\">-20</text>\n",
       "</g>\n",
       "<g clip-path=\"url(#clip1200)\">\n",
       "<text style=\"fill:#000000; fill-opacity:1; font-family:Arial,Helvetica Neue,Helvetica,sans-serif; font-size:48px; text-anchor:end;\" transform=\"rotate(0, 144.627, 64.7441)\" x=\"144.627\" y=\"64.7441\">-18</text>\n",
       "</g>\n",
       "<polyline clip-path=\"url(#clip1202)\" style=\"stroke:#009af9; stroke-width:4; stroke-opacity:1; fill:none\" points=\"\n",
       "  230.442,1847.29 251.047,1394.84 271.652,1325.15 292.257,1277.71 312.862,1255.05 333.467,1232.65 354.072,1215.07 374.677,1208.29 395.282,1201.1 415.887,1195.92 \n",
       "  436.492,1191.62 457.097,1189.16 477.702,1184.81 498.307,1183.01 518.912,1180.68 539.517,1177.82 560.122,1174.64 580.727,1172.36 601.332,1170.76 621.937,1168.86 \n",
       "  642.542,1166.64 663.147,1165.85 683.752,1165.36 704.357,1164.51 724.962,1163.25 745.567,1163.23 766.172,1162.16 786.777,1161.36 807.382,1159.88 827.987,1157.63 \n",
       "  848.592,1154.33 869.197,1151.5 889.802,1146.03 910.407,1143.97 931.012,1143.19 951.617,1142.73 972.222,1142.51 992.827,1141.98 1013.43,1141.65 1034.04,1141.73 \n",
       "  1054.64,1141.26 1075.25,1141.24 1095.85,1141.11 1116.46,1140.99 1137.06,1140.79 1157.67,1140.84 1178.27,1140.68 1198.88,1140.77 1219.48,1140.5 1240.09,1140.26 \n",
       "  1260.69,1140.19 1281.3,1140.36 1301.9,1140.51 1322.51,1140.06 1343.11,1140.19 1363.72,1139.9 1384.32,1140.34 1404.93,1139.8 1425.53,1139.5 1446.14,1139.66 \n",
       "  1466.74,1139.91 1487.35,1139.93 1507.95,1139.51 1528.56,1139.11 1549.16,1138.7 1569.77,1138.84 1590.37,1139.08 1610.98,1138.67 1631.58,1138.15 1652.19,1138.47 \n",
       "  1672.79,1137.59 1693.4,1137.92 1714,1137.18 1734.61,1137.14 1755.21,1137.03 1775.82,1136.69 1796.42,1136.36 1817.03,1136.01 1837.63,1135.43 1858.24,1135.11 \n",
       "  1878.84,1134.83 1899.45,1134.48 1920.05,1133.98 1940.66,1133.56 1961.26,1133.11 1981.87,1132.81 2002.47,1131.98 2023.08,1131.66 2043.68,1130.68 2064.29,1129.6 \n",
       "  2084.89,1128.74 2105.5,1127.38 2126.1,1124.95 2146.71,1122.58 2167.31,1120.88 2187.92,1119.13 2208.52,1118.13 2229.13,1116.58 2249.73,1115.65 2270.34,1114.97 \n",
       "  2290.94,1114.38 \n",
       "  \"/>\n",
       "<polyline clip-path=\"url(#clip1202)\" style=\"stroke:#e26f46; stroke-width:4; stroke-opacity:1; fill:none\" points=\"\n",
       "  230.442,1848.53 333.467,551.142 436.492,453.08 539.517,358.825 642.542,361.7 745.567,490.224 848.592,504.239 951.617,483.77 1054.64,482.655 1157.67,482.491 \n",
       "  1260.69,482.472 1363.72,482.471 1466.74,482.47 1569.77,482.47 1672.79,482.471 1775.82,482.475 1878.84,482.516 1981.87,482.837 2084.89,485.404 2187.92,566.168 \n",
       "  2290.94,446.18 \n",
       "  \"/>\n",
       "<polyline clip-path=\"url(#clip1202)\" style=\"stroke:#3da44d; stroke-width:4; stroke-opacity:1; fill:none\" points=\"\n",
       "  230.442,1848.53 333.467,551.142 436.492,453.08 539.517,358.825 642.542,361.7 745.567,490.224 848.592,504.239 951.617,483.77 1054.64,482.655 1157.67,482.491 \n",
       "  1260.69,482.472 1363.72,482.471 1466.74,482.47 1569.77,482.47 1672.79,482.471 1775.82,482.475 1878.84,482.516 1981.87,482.837 2084.89,485.404 2187.92,566.168 \n",
       "  2290.94,446.18 \n",
       "  \"/>\n",
       "<path clip-path=\"url(#clip1200)\" d=\"\n",
       "M1087.03 372.684 L2280.76 372.684 L2280.76 130.764 L1087.03 130.764  Z\n",
       "  \" fill=\"#ffffff\" fill-rule=\"evenodd\" fill-opacity=\"1\"/>\n",
       "<polyline clip-path=\"url(#clip1200)\" style=\"stroke:#000000; stroke-width:4; stroke-opacity:1; fill:none\" points=\"\n",
       "  1087.03,372.684 2280.76,372.684 2280.76,130.764 1087.03,130.764 1087.03,372.684 \n",
       "  \"/>\n",
       "<polyline clip-path=\"url(#clip1200)\" style=\"stroke:#009af9; stroke-width:4; stroke-opacity:1; fill:none\" points=\"\n",
       "  1111.03,191.244 1255.03,191.244 \n",
       "  \"/>\n",
       "<g clip-path=\"url(#clip1200)\">\n",
       "<text style=\"fill:#000000; fill-opacity:1; font-family:Arial,Helvetica Neue,Helvetica,sans-serif; font-size:48px; text-anchor:start;\" transform=\"rotate(0, 1279.03, 208.744)\" x=\"1279.03\" y=\"208.744\">Test solution</text>\n",
       "</g>\n",
       "<polyline clip-path=\"url(#clip1200)\" style=\"stroke:#e26f46; stroke-width:4; stroke-opacity:1; fill:none\" points=\"\n",
       "  1111.03,251.724 1255.03,251.724 \n",
       "  \"/>\n",
       "<g clip-path=\"url(#clip1200)\">\n",
       "<text style=\"fill:#000000; fill-opacity:1; font-family:Arial,Helvetica Neue,Helvetica,sans-serif; font-size:48px; text-anchor:start;\" transform=\"rotate(0, 1279.03, 269.224)\" x=\"1279.03\" y=\"269.224\">IRKGL16-Float128</text>\n",
       "</g>\n",
       "<polyline clip-path=\"url(#clip1200)\" style=\"stroke:#3da44d; stroke-width:4; stroke-opacity:1; fill:none\" points=\"\n",
       "  1111.03,312.204 1255.03,312.204 \n",
       "  \"/>\n",
       "<g clip-path=\"url(#clip1200)\">\n",
       "<text style=\"fill:#000000; fill-opacity:1; font-family:Arial,Helvetica Neue,Helvetica,sans-serif; font-size:48px; text-anchor:start;\" transform=\"rotate(0, 1279.03, 329.704)\" x=\"1279.03\" y=\"329.704\">IRKGL16-Mixed Precision: Float128/Float64</text>\n",
       "</g>\n",
       "</svg>\n"
      ]
     },
     "execution_count": 14,
     "metadata": {},
     "output_type": "execute_result"
    }
   ],
   "source": [
    "ylimit1=-30\n",
    "ylimit2=-18\n",
    "plot(sol.t,log10.(abs.(ΔE)), label=\"Test solution\",\n",
    "    ylims=(ylimit1,ylimit2),)\n",
    "plot!(sol1.t,log10.(abs.(ΔE1)), label=\"IRKGL16-Float128\",\n",
    "     ylims=(ylimit1,ylimit2),)\n",
    "plot!(sol2.t,log10.(abs.(ΔE2)), label=\"IRKGL16-Mixed Precision: Float128/Float64\",\n",
    "     ylims=(ylimit1,ylimit2),)"
   ]
  },
  {
   "cell_type": "markdown",
   "metadata": {},
   "source": [
    "<a href=\"#top\">Back to the top</a>\n",
    "\n",
    "## Work-Precision diagrams"
   ]
  },
  {
   "cell_type": "code",
   "execution_count": 15,
   "metadata": {},
   "outputs": [
    {
     "data": {
      "text/plain": [
       "1"
      ]
     },
     "execution_count": 15,
     "metadata": {},
     "output_type": "execute_result"
    }
   ],
   "source": [
    "Threads.nthreads()"
   ]
  },
  {
   "cell_type": "code",
   "execution_count": 16,
   "metadata": {},
   "outputs": [],
   "source": [
    "abstols = 1.0 ./ 10.0 .^ (8:18)\n",
    "reltols = 1.0 ./ 10.0 .^ (8:18)\n",
    "dts=16*0.866.^(0:length(reltols)-1);"
   ]
  },
  {
   "cell_type": "code",
   "execution_count": 17,
   "metadata": {},
   "outputs": [
    {
     "data": {
      "image/svg+xml": [
       "<?xml version=\"1.0\" encoding=\"utf-8\"?>\n",
       "<svg xmlns=\"http://www.w3.org/2000/svg\" xmlns:xlink=\"http://www.w3.org/1999/xlink\" width=\"600\" height=\"400\" viewBox=\"0 0 2400 1600\">\n",
       "<defs>\n",
       "  <clipPath id=\"clip1600\">\n",
       "    <rect x=\"0\" y=\"0\" width=\"2400\" height=\"1600\"/>\n",
       "  </clipPath>\n",
       "</defs>\n",
       "<path clip-path=\"url(#clip1600)\" d=\"\n",
       "M0 1600 L2400 1600 L2400 0 L0 0  Z\n",
       "  \" fill=\"#ffffff\" fill-rule=\"evenodd\" fill-opacity=\"1\"/>\n",
       "<defs>\n",
       "  <clipPath id=\"clip1601\">\n",
       "    <rect x=\"480\" y=\"0\" width=\"1681\" height=\"1600\"/>\n",
       "  </clipPath>\n",
       "</defs>\n",
       "<path clip-path=\"url(#clip1600)\" d=\"\n",
       "M291.853 1425.62 L2352.76 1425.62 L2352.76 47.2441 L291.853 47.2441  Z\n",
       "  \" fill=\"#ffffff\" fill-rule=\"evenodd\" fill-opacity=\"1\"/>\n",
       "<defs>\n",
       "  <clipPath id=\"clip1602\">\n",
       "    <rect x=\"291\" y=\"47\" width=\"2062\" height=\"1379\"/>\n",
       "  </clipPath>\n",
       "</defs>\n",
       "<polyline clip-path=\"url(#clip1602)\" style=\"stroke:#000000; stroke-width:2; stroke-opacity:0.1; fill:none\" points=\"\n",
       "  534.44,1425.62 534.44,47.2441 \n",
       "  \"/>\n",
       "<polyline clip-path=\"url(#clip1602)\" style=\"stroke:#000000; stroke-width:2; stroke-opacity:0.1; fill:none\" points=\"\n",
       "  924.999,1425.62 924.999,47.2441 \n",
       "  \"/>\n",
       "<polyline clip-path=\"url(#clip1602)\" style=\"stroke:#000000; stroke-width:2; stroke-opacity:0.1; fill:none\" points=\"\n",
       "  1315.56,1425.62 1315.56,47.2441 \n",
       "  \"/>\n",
       "<polyline clip-path=\"url(#clip1602)\" style=\"stroke:#000000; stroke-width:2; stroke-opacity:0.1; fill:none\" points=\"\n",
       "  1706.12,1425.62 1706.12,47.2441 \n",
       "  \"/>\n",
       "<polyline clip-path=\"url(#clip1602)\" style=\"stroke:#000000; stroke-width:2; stroke-opacity:0.1; fill:none\" points=\"\n",
       "  2096.68,1425.62 2096.68,47.2441 \n",
       "  \"/>\n",
       "<polyline clip-path=\"url(#clip1602)\" style=\"stroke:#000000; stroke-width:2; stroke-opacity:0.1; fill:none\" points=\"\n",
       "  291.853,1180.6 2352.76,1180.6 \n",
       "  \"/>\n",
       "<polyline clip-path=\"url(#clip1602)\" style=\"stroke:#000000; stroke-width:2; stroke-opacity:0.1; fill:none\" points=\"\n",
       "  291.853,926.077 2352.76,926.077 \n",
       "  \"/>\n",
       "<polyline clip-path=\"url(#clip1602)\" style=\"stroke:#000000; stroke-width:2; stroke-opacity:0.1; fill:none\" points=\"\n",
       "  291.853,671.551 2352.76,671.551 \n",
       "  \"/>\n",
       "<polyline clip-path=\"url(#clip1602)\" style=\"stroke:#000000; stroke-width:2; stroke-opacity:0.1; fill:none\" points=\"\n",
       "  291.853,417.025 2352.76,417.025 \n",
       "  \"/>\n",
       "<polyline clip-path=\"url(#clip1602)\" style=\"stroke:#000000; stroke-width:2; stroke-opacity:0.1; fill:none\" points=\"\n",
       "  291.853,162.499 2352.76,162.499 \n",
       "  \"/>\n",
       "<polyline clip-path=\"url(#clip1600)\" style=\"stroke:#000000; stroke-width:4; stroke-opacity:1; fill:none\" points=\"\n",
       "  291.853,1425.62 2352.76,1425.62 \n",
       "  \"/>\n",
       "<polyline clip-path=\"url(#clip1600)\" style=\"stroke:#000000; stroke-width:4; stroke-opacity:1; fill:none\" points=\"\n",
       "  291.853,1425.62 291.853,47.2441 \n",
       "  \"/>\n",
       "<polyline clip-path=\"url(#clip1600)\" style=\"stroke:#000000; stroke-width:4; stroke-opacity:1; fill:none\" points=\"\n",
       "  534.44,1425.62 534.44,1409.08 \n",
       "  \"/>\n",
       "<polyline clip-path=\"url(#clip1600)\" style=\"stroke:#000000; stroke-width:4; stroke-opacity:1; fill:none\" points=\"\n",
       "  924.999,1425.62 924.999,1409.08 \n",
       "  \"/>\n",
       "<polyline clip-path=\"url(#clip1600)\" style=\"stroke:#000000; stroke-width:4; stroke-opacity:1; fill:none\" points=\"\n",
       "  1315.56,1425.62 1315.56,1409.08 \n",
       "  \"/>\n",
       "<polyline clip-path=\"url(#clip1600)\" style=\"stroke:#000000; stroke-width:4; stroke-opacity:1; fill:none\" points=\"\n",
       "  1706.12,1425.62 1706.12,1409.08 \n",
       "  \"/>\n",
       "<polyline clip-path=\"url(#clip1600)\" style=\"stroke:#000000; stroke-width:4; stroke-opacity:1; fill:none\" points=\"\n",
       "  2096.68,1425.62 2096.68,1409.08 \n",
       "  \"/>\n",
       "<polyline clip-path=\"url(#clip1600)\" style=\"stroke:#000000; stroke-width:4; stroke-opacity:1; fill:none\" points=\"\n",
       "  291.853,1180.6 316.584,1180.6 \n",
       "  \"/>\n",
       "<polyline clip-path=\"url(#clip1600)\" style=\"stroke:#000000; stroke-width:4; stroke-opacity:1; fill:none\" points=\"\n",
       "  291.853,926.077 316.584,926.077 \n",
       "  \"/>\n",
       "<polyline clip-path=\"url(#clip1600)\" style=\"stroke:#000000; stroke-width:4; stroke-opacity:1; fill:none\" points=\"\n",
       "  291.853,671.551 316.584,671.551 \n",
       "  \"/>\n",
       "<polyline clip-path=\"url(#clip1600)\" style=\"stroke:#000000; stroke-width:4; stroke-opacity:1; fill:none\" points=\"\n",
       "  291.853,417.025 316.584,417.025 \n",
       "  \"/>\n",
       "<polyline clip-path=\"url(#clip1600)\" style=\"stroke:#000000; stroke-width:4; stroke-opacity:1; fill:none\" points=\"\n",
       "  291.853,162.499 316.584,162.499 \n",
       "  \"/>\n",
       "<g clip-path=\"url(#clip1600)\">\n",
       "<text style=\"fill:#000000; fill-opacity:1; font-family:Arial,Helvetica Neue,Helvetica,sans-serif; font-size:48px; text-anchor:start;\" transform=\"rotate(0, 469.078, 1500.63)\" x=\"469.078\" y=\"1500.63\">10</text>\n",
       "</g>\n",
       "<g clip-path=\"url(#clip1600)\">\n",
       "<text style=\"fill:#000000; fill-opacity:1; font-family:Arial,Helvetica Neue,Helvetica,sans-serif; font-size:38px; text-anchor:start;\" transform=\"rotate(0, 522.602, 1473.22)\" x=\"522.602\" y=\"1473.22\">-</text>\n",
       "</g>\n",
       "<g clip-path=\"url(#clip1600)\">\n",
       "<text style=\"fill:#000000; fill-opacity:1; font-family:Arial,Helvetica Neue,Helvetica,sans-serif; font-size:38px; text-anchor:start;\" transform=\"rotate(0, 545.442, 1473.22)\" x=\"545.442\" y=\"1473.22\">20 </text>\n",
       "</g>\n",
       "<g clip-path=\"url(#clip1600)\">\n",
       "<text style=\"fill:#000000; fill-opacity:1; font-family:Arial,Helvetica Neue,Helvetica,sans-serif; font-size:48px; text-anchor:start;\" transform=\"rotate(0, 859.637, 1500.63)\" x=\"859.637\" y=\"1500.63\">10</text>\n",
       "</g>\n",
       "<g clip-path=\"url(#clip1600)\">\n",
       "<text style=\"fill:#000000; fill-opacity:1; font-family:Arial,Helvetica Neue,Helvetica,sans-serif; font-size:38px; text-anchor:start;\" transform=\"rotate(0, 913.161, 1473.22)\" x=\"913.161\" y=\"1473.22\">-</text>\n",
       "</g>\n",
       "<g clip-path=\"url(#clip1600)\">\n",
       "<text style=\"fill:#000000; fill-opacity:1; font-family:Arial,Helvetica Neue,Helvetica,sans-serif; font-size:38px; text-anchor:start;\" transform=\"rotate(0, 936.001, 1473.22)\" x=\"936.001\" y=\"1473.22\">18 </text>\n",
       "</g>\n",
       "<g clip-path=\"url(#clip1600)\">\n",
       "<text style=\"fill:#000000; fill-opacity:1; font-family:Arial,Helvetica Neue,Helvetica,sans-serif; font-size:48px; text-anchor:start;\" transform=\"rotate(0, 1250.2, 1500.63)\" x=\"1250.2\" y=\"1500.63\">10</text>\n",
       "</g>\n",
       "<g clip-path=\"url(#clip1600)\">\n",
       "<text style=\"fill:#000000; fill-opacity:1; font-family:Arial,Helvetica Neue,Helvetica,sans-serif; font-size:38px; text-anchor:start;\" transform=\"rotate(0, 1303.72, 1473.22)\" x=\"1303.72\" y=\"1473.22\">-</text>\n",
       "</g>\n",
       "<g clip-path=\"url(#clip1600)\">\n",
       "<text style=\"fill:#000000; fill-opacity:1; font-family:Arial,Helvetica Neue,Helvetica,sans-serif; font-size:38px; text-anchor:start;\" transform=\"rotate(0, 1326.56, 1473.22)\" x=\"1326.56\" y=\"1473.22\">16 </text>\n",
       "</g>\n",
       "<g clip-path=\"url(#clip1600)\">\n",
       "<text style=\"fill:#000000; fill-opacity:1; font-family:Arial,Helvetica Neue,Helvetica,sans-serif; font-size:48px; text-anchor:start;\" transform=\"rotate(0, 1640.75, 1500.63)\" x=\"1640.75\" y=\"1500.63\">10</text>\n",
       "</g>\n",
       "<g clip-path=\"url(#clip1600)\">\n",
       "<text style=\"fill:#000000; fill-opacity:1; font-family:Arial,Helvetica Neue,Helvetica,sans-serif; font-size:38px; text-anchor:start;\" transform=\"rotate(0, 1694.28, 1473.22)\" x=\"1694.28\" y=\"1473.22\">-</text>\n",
       "</g>\n",
       "<g clip-path=\"url(#clip1600)\">\n",
       "<text style=\"fill:#000000; fill-opacity:1; font-family:Arial,Helvetica Neue,Helvetica,sans-serif; font-size:38px; text-anchor:start;\" transform=\"rotate(0, 1717.12, 1473.22)\" x=\"1717.12\" y=\"1473.22\">14 </text>\n",
       "</g>\n",
       "<g clip-path=\"url(#clip1600)\">\n",
       "<text style=\"fill:#000000; fill-opacity:1; font-family:Arial,Helvetica Neue,Helvetica,sans-serif; font-size:48px; text-anchor:start;\" transform=\"rotate(0, 2031.31, 1500.63)\" x=\"2031.31\" y=\"1500.63\">10</text>\n",
       "</g>\n",
       "<g clip-path=\"url(#clip1600)\">\n",
       "<text style=\"fill:#000000; fill-opacity:1; font-family:Arial,Helvetica Neue,Helvetica,sans-serif; font-size:38px; text-anchor:start;\" transform=\"rotate(0, 2084.84, 1473.22)\" x=\"2084.84\" y=\"1473.22\">-</text>\n",
       "</g>\n",
       "<g clip-path=\"url(#clip1600)\">\n",
       "<text style=\"fill:#000000; fill-opacity:1; font-family:Arial,Helvetica Neue,Helvetica,sans-serif; font-size:38px; text-anchor:start;\" transform=\"rotate(0, 2107.68, 1473.22)\" x=\"2107.68\" y=\"1473.22\">12 </text>\n",
       "</g>\n",
       "<g clip-path=\"url(#clip1600)\">\n",
       "<text style=\"fill:#000000; fill-opacity:1; font-family:Arial,Helvetica Neue,Helvetica,sans-serif; font-size:48px; text-anchor:start;\" transform=\"rotate(0, 149.096, 1204.33)\" x=\"149.096\" y=\"1204.33\">10</text>\n",
       "</g>\n",
       "<g clip-path=\"url(#clip1600)\">\n",
       "<text style=\"fill:#000000; fill-opacity:1; font-family:Arial,Helvetica Neue,Helvetica,sans-serif; font-size:38px; text-anchor:start;\" transform=\"rotate(0, 202.62, 1176.92)\" x=\"202.62\" y=\"1176.92\">0.6 </text>\n",
       "</g>\n",
       "<g clip-path=\"url(#clip1600)\">\n",
       "<text style=\"fill:#000000; fill-opacity:1; font-family:Arial,Helvetica Neue,Helvetica,sans-serif; font-size:48px; text-anchor:start;\" transform=\"rotate(0, 149.096, 949.805)\" x=\"149.096\" y=\"949.805\">10</text>\n",
       "</g>\n",
       "<g clip-path=\"url(#clip1600)\">\n",
       "<text style=\"fill:#000000; fill-opacity:1; font-family:Arial,Helvetica Neue,Helvetica,sans-serif; font-size:38px; text-anchor:start;\" transform=\"rotate(0, 202.62, 922.394)\" x=\"202.62\" y=\"922.394\">0.8 </text>\n",
       "</g>\n",
       "<g clip-path=\"url(#clip1600)\">\n",
       "<text style=\"fill:#000000; fill-opacity:1; font-family:Arial,Helvetica Neue,Helvetica,sans-serif; font-size:48px; text-anchor:start;\" transform=\"rotate(0, 149.096, 695.279)\" x=\"149.096\" y=\"695.279\">10</text>\n",
       "</g>\n",
       "<g clip-path=\"url(#clip1600)\">\n",
       "<text style=\"fill:#000000; fill-opacity:1; font-family:Arial,Helvetica Neue,Helvetica,sans-serif; font-size:38px; text-anchor:start;\" transform=\"rotate(0, 202.62, 667.868)\" x=\"202.62\" y=\"667.868\">1.0 </text>\n",
       "</g>\n",
       "<g clip-path=\"url(#clip1600)\">\n",
       "<text style=\"fill:#000000; fill-opacity:1; font-family:Arial,Helvetica Neue,Helvetica,sans-serif; font-size:48px; text-anchor:start;\" transform=\"rotate(0, 149.096, 440.753)\" x=\"149.096\" y=\"440.753\">10</text>\n",
       "</g>\n",
       "<g clip-path=\"url(#clip1600)\">\n",
       "<text style=\"fill:#000000; fill-opacity:1; font-family:Arial,Helvetica Neue,Helvetica,sans-serif; font-size:38px; text-anchor:start;\" transform=\"rotate(0, 202.62, 413.342)\" x=\"202.62\" y=\"413.342\">1.2 </text>\n",
       "</g>\n",
       "<g clip-path=\"url(#clip1600)\">\n",
       "<text style=\"fill:#000000; fill-opacity:1; font-family:Arial,Helvetica Neue,Helvetica,sans-serif; font-size:48px; text-anchor:start;\" transform=\"rotate(0, 149.096, 186.226)\" x=\"149.096\" y=\"186.226\">10</text>\n",
       "</g>\n",
       "<g clip-path=\"url(#clip1600)\">\n",
       "<text style=\"fill:#000000; fill-opacity:1; font-family:Arial,Helvetica Neue,Helvetica,sans-serif; font-size:38px; text-anchor:start;\" transform=\"rotate(0, 202.62, 158.816)\" x=\"202.62\" y=\"158.816\">1.4 </text>\n",
       "</g>\n",
       "<g clip-path=\"url(#clip1600)\">\n",
       "<text style=\"fill:#000000; fill-opacity:1; font-family:Arial,Helvetica Neue,Helvetica,sans-serif; font-size:66px; text-anchor:middle;\" transform=\"rotate(0, 1322.3, 1559.48)\" x=\"1322.3\" y=\"1559.48\">Error</text>\n",
       "</g>\n",
       "<g clip-path=\"url(#clip1600)\">\n",
       "<text style=\"fill:#000000; fill-opacity:1; font-family:Arial,Helvetica Neue,Helvetica,sans-serif; font-size:66px; text-anchor:middle;\" transform=\"rotate(-90, 89.2861, 736.431)\" x=\"89.2861\" y=\"736.431\">Time (s)</text>\n",
       "</g>\n",
       "<polyline clip-path=\"url(#clip1602)\" style=\"stroke:#009af9; stroke-width:12; stroke-opacity:1; fill:none\" points=\"\n",
       "  2294.43,578.413 2054.3,526.786 1902.65,487.712 1679.29,477.339 1503.62,398.064 1397.19,374.556 1112.73,336.547 959.368,256.434 734.117,198.158 549.852,171.236 \n",
       "  350.181,86.2547 \n",
       "  \"/>\n",
       "<circle clip-path=\"url(#clip1602)\" style=\"fill:#000000; stroke:none; fill-opacity:1\" cx=\"2294.43\" cy=\"578.413\" r=\"18\"/>\n",
       "<circle clip-path=\"url(#clip1602)\" style=\"fill:#009af9; stroke:none; fill-opacity:1\" cx=\"2294.43\" cy=\"578.413\" r=\"14\"/>\n",
       "<circle clip-path=\"url(#clip1602)\" style=\"fill:#000000; stroke:none; fill-opacity:1\" cx=\"2054.3\" cy=\"526.786\" r=\"18\"/>\n",
       "<circle clip-path=\"url(#clip1602)\" style=\"fill:#009af9; stroke:none; fill-opacity:1\" cx=\"2054.3\" cy=\"526.786\" r=\"14\"/>\n",
       "<circle clip-path=\"url(#clip1602)\" style=\"fill:#000000; stroke:none; fill-opacity:1\" cx=\"1902.65\" cy=\"487.712\" r=\"18\"/>\n",
       "<circle clip-path=\"url(#clip1602)\" style=\"fill:#009af9; stroke:none; fill-opacity:1\" cx=\"1902.65\" cy=\"487.712\" r=\"14\"/>\n",
       "<circle clip-path=\"url(#clip1602)\" style=\"fill:#000000; stroke:none; fill-opacity:1\" cx=\"1679.29\" cy=\"477.339\" r=\"18\"/>\n",
       "<circle clip-path=\"url(#clip1602)\" style=\"fill:#009af9; stroke:none; fill-opacity:1\" cx=\"1679.29\" cy=\"477.339\" r=\"14\"/>\n",
       "<circle clip-path=\"url(#clip1602)\" style=\"fill:#000000; stroke:none; fill-opacity:1\" cx=\"1503.62\" cy=\"398.064\" r=\"18\"/>\n",
       "<circle clip-path=\"url(#clip1602)\" style=\"fill:#009af9; stroke:none; fill-opacity:1\" cx=\"1503.62\" cy=\"398.064\" r=\"14\"/>\n",
       "<circle clip-path=\"url(#clip1602)\" style=\"fill:#000000; stroke:none; fill-opacity:1\" cx=\"1397.19\" cy=\"374.556\" r=\"18\"/>\n",
       "<circle clip-path=\"url(#clip1602)\" style=\"fill:#009af9; stroke:none; fill-opacity:1\" cx=\"1397.19\" cy=\"374.556\" r=\"14\"/>\n",
       "<circle clip-path=\"url(#clip1602)\" style=\"fill:#000000; stroke:none; fill-opacity:1\" cx=\"1112.73\" cy=\"336.547\" r=\"18\"/>\n",
       "<circle clip-path=\"url(#clip1602)\" style=\"fill:#009af9; stroke:none; fill-opacity:1\" cx=\"1112.73\" cy=\"336.547\" r=\"14\"/>\n",
       "<circle clip-path=\"url(#clip1602)\" style=\"fill:#000000; stroke:none; fill-opacity:1\" cx=\"959.368\" cy=\"256.434\" r=\"18\"/>\n",
       "<circle clip-path=\"url(#clip1602)\" style=\"fill:#009af9; stroke:none; fill-opacity:1\" cx=\"959.368\" cy=\"256.434\" r=\"14\"/>\n",
       "<circle clip-path=\"url(#clip1602)\" style=\"fill:#000000; stroke:none; fill-opacity:1\" cx=\"734.117\" cy=\"198.158\" r=\"18\"/>\n",
       "<circle clip-path=\"url(#clip1602)\" style=\"fill:#009af9; stroke:none; fill-opacity:1\" cx=\"734.117\" cy=\"198.158\" r=\"14\"/>\n",
       "<circle clip-path=\"url(#clip1602)\" style=\"fill:#000000; stroke:none; fill-opacity:1\" cx=\"549.852\" cy=\"171.236\" r=\"18\"/>\n",
       "<circle clip-path=\"url(#clip1602)\" style=\"fill:#009af9; stroke:none; fill-opacity:1\" cx=\"549.852\" cy=\"171.236\" r=\"14\"/>\n",
       "<circle clip-path=\"url(#clip1602)\" style=\"fill:#000000; stroke:none; fill-opacity:1\" cx=\"350.181\" cy=\"86.2547\" r=\"18\"/>\n",
       "<circle clip-path=\"url(#clip1602)\" style=\"fill:#009af9; stroke:none; fill-opacity:1\" cx=\"350.181\" cy=\"86.2547\" r=\"14\"/>\n",
       "<polyline clip-path=\"url(#clip1602)\" style=\"stroke:#e26f46; stroke-width:12; stroke-opacity:1; fill:none\" points=\"\n",
       "  2294.43,1386.61 2054.3,1381.85 1902.65,1290.04 1679.29,1297.78 1503.62,1239.75 1397.19,1162.04 1112.73,1166.8 959.368,1063.5 734.117,1035.55 549.852,1010.71 \n",
       "  350.181,970.077 \n",
       "  \"/>\n",
       "<polygon clip-path=\"url(#clip1602)\" style=\"fill:#000000; fill-opacity:1\" points=\"\n",
       "  2274.43,1366.61 2274.43,1406.61 2314.43,1406.61 2314.43,1366.61 2274.43,1366.61 \n",
       "  \"/>\n",
       "<polygon clip-path=\"url(#clip1602)\" style=\"fill:#e26f46; fill-opacity:1\" points=\"\n",
       "  2278.43,1370.61 2278.43,1402.61 2310.43,1402.61 2310.43,1370.61 2278.43,1370.61 \n",
       "  \"/>\n",
       "<polygon clip-path=\"url(#clip1602)\" style=\"fill:#000000; fill-opacity:1\" points=\"\n",
       "  2034.3,1361.85 2034.3,1401.85 2074.3,1401.85 2074.3,1361.85 2034.3,1361.85 \n",
       "  \"/>\n",
       "<polygon clip-path=\"url(#clip1602)\" style=\"fill:#e26f46; fill-opacity:1\" points=\"\n",
       "  2038.3,1365.85 2038.3,1397.85 2070.3,1397.85 2070.3,1365.85 2038.3,1365.85 \n",
       "  \"/>\n",
       "<polygon clip-path=\"url(#clip1602)\" style=\"fill:#000000; fill-opacity:1\" points=\"\n",
       "  1882.65,1270.04 1882.65,1310.04 1922.65,1310.04 1922.65,1270.04 1882.65,1270.04 \n",
       "  \"/>\n",
       "<polygon clip-path=\"url(#clip1602)\" style=\"fill:#e26f46; fill-opacity:1\" points=\"\n",
       "  1886.65,1274.04 1886.65,1306.04 1918.65,1306.04 1918.65,1274.04 1886.65,1274.04 \n",
       "  \"/>\n",
       "<polygon clip-path=\"url(#clip1602)\" style=\"fill:#000000; fill-opacity:1\" points=\"\n",
       "  1659.29,1277.78 1659.29,1317.78 1699.29,1317.78 1699.29,1277.78 1659.29,1277.78 \n",
       "  \"/>\n",
       "<polygon clip-path=\"url(#clip1602)\" style=\"fill:#e26f46; fill-opacity:1\" points=\"\n",
       "  1663.29,1281.78 1663.29,1313.78 1695.29,1313.78 1695.29,1281.78 1663.29,1281.78 \n",
       "  \"/>\n",
       "<polygon clip-path=\"url(#clip1602)\" style=\"fill:#000000; fill-opacity:1\" points=\"\n",
       "  1483.62,1219.75 1483.62,1259.75 1523.62,1259.75 1523.62,1219.75 1483.62,1219.75 \n",
       "  \"/>\n",
       "<polygon clip-path=\"url(#clip1602)\" style=\"fill:#e26f46; fill-opacity:1\" points=\"\n",
       "  1487.62,1223.75 1487.62,1255.75 1519.62,1255.75 1519.62,1223.75 1487.62,1223.75 \n",
       "  \"/>\n",
       "<polygon clip-path=\"url(#clip1602)\" style=\"fill:#000000; fill-opacity:1\" points=\"\n",
       "  1377.19,1142.04 1377.19,1182.04 1417.19,1182.04 1417.19,1142.04 1377.19,1142.04 \n",
       "  \"/>\n",
       "<polygon clip-path=\"url(#clip1602)\" style=\"fill:#e26f46; fill-opacity:1\" points=\"\n",
       "  1381.19,1146.04 1381.19,1178.04 1413.19,1178.04 1413.19,1146.04 1381.19,1146.04 \n",
       "  \"/>\n",
       "<polygon clip-path=\"url(#clip1602)\" style=\"fill:#000000; fill-opacity:1\" points=\"\n",
       "  1092.73,1146.8 1092.73,1186.8 1132.73,1186.8 1132.73,1146.8 1092.73,1146.8 \n",
       "  \"/>\n",
       "<polygon clip-path=\"url(#clip1602)\" style=\"fill:#e26f46; fill-opacity:1\" points=\"\n",
       "  1096.73,1150.8 1096.73,1182.8 1128.73,1182.8 1128.73,1150.8 1096.73,1150.8 \n",
       "  \"/>\n",
       "<polygon clip-path=\"url(#clip1602)\" style=\"fill:#000000; fill-opacity:1\" points=\"\n",
       "  939.368,1043.5 939.368,1083.5 979.368,1083.5 979.368,1043.5 939.368,1043.5 \n",
       "  \"/>\n",
       "<polygon clip-path=\"url(#clip1602)\" style=\"fill:#e26f46; fill-opacity:1\" points=\"\n",
       "  943.368,1047.5 943.368,1079.5 975.368,1079.5 975.368,1047.5 943.368,1047.5 \n",
       "  \"/>\n",
       "<polygon clip-path=\"url(#clip1602)\" style=\"fill:#000000; fill-opacity:1\" points=\"\n",
       "  714.117,1015.55 714.117,1055.55 754.117,1055.55 754.117,1015.55 714.117,1015.55 \n",
       "  \"/>\n",
       "<polygon clip-path=\"url(#clip1602)\" style=\"fill:#e26f46; fill-opacity:1\" points=\"\n",
       "  718.117,1019.55 718.117,1051.55 750.117,1051.55 750.117,1019.55 718.117,1019.55 \n",
       "  \"/>\n",
       "<polygon clip-path=\"url(#clip1602)\" style=\"fill:#000000; fill-opacity:1\" points=\"\n",
       "  529.852,990.706 529.852,1030.71 569.852,1030.71 569.852,990.706 529.852,990.706 \n",
       "  \"/>\n",
       "<polygon clip-path=\"url(#clip1602)\" style=\"fill:#e26f46; fill-opacity:1\" points=\"\n",
       "  533.852,994.706 533.852,1026.71 565.852,1026.71 565.852,994.706 533.852,994.706 \n",
       "  \"/>\n",
       "<polygon clip-path=\"url(#clip1602)\" style=\"fill:#000000; fill-opacity:1\" points=\"\n",
       "  330.181,950.077 330.181,990.077 370.181,990.077 370.181,950.077 330.181,950.077 \n",
       "  \"/>\n",
       "<polygon clip-path=\"url(#clip1602)\" style=\"fill:#e26f46; fill-opacity:1\" points=\"\n",
       "  334.181,954.077 334.181,986.077 366.181,986.077 366.181,954.077 334.181,954.077 \n",
       "  \"/>\n",
       "<path clip-path=\"url(#clip1600)\" d=\"\n",
       "M1842.78 312.204 L2280.76 312.204 L2280.76 130.764 L1842.78 130.764  Z\n",
       "  \" fill=\"#ffffff\" fill-rule=\"evenodd\" fill-opacity=\"1\"/>\n",
       "<polyline clip-path=\"url(#clip1600)\" style=\"stroke:#000000; stroke-width:4; stroke-opacity:1; fill:none\" points=\"\n",
       "  1842.78,312.204 2280.76,312.204 2280.76,130.764 1842.78,130.764 1842.78,312.204 \n",
       "  \"/>\n",
       "<polyline clip-path=\"url(#clip1600)\" style=\"stroke:#009af9; stroke-width:12; stroke-opacity:1; fill:none\" points=\"\n",
       "  1866.78,191.244 2010.78,191.244 \n",
       "  \"/>\n",
       "<circle clip-path=\"url(#clip1600)\" style=\"fill:#000000; stroke:none; fill-opacity:1\" cx=\"1950.78\" cy=\"191.244\" r=\"25\"/>\n",
       "<circle clip-path=\"url(#clip1600)\" style=\"fill:#009af9; stroke:none; fill-opacity:1\" cx=\"1950.78\" cy=\"191.244\" r=\"21\"/>\n",
       "<g clip-path=\"url(#clip1600)\">\n",
       "<text style=\"fill:#000000; fill-opacity:1; font-family:Arial,Helvetica Neue,Helvetica,sans-serif; font-size:48px; text-anchor:start;\" transform=\"rotate(0, 2034.78, 208.744)\" x=\"2034.78\" y=\"208.744\">IRKGL16</text>\n",
       "</g>\n",
       "<polyline clip-path=\"url(#clip1600)\" style=\"stroke:#e26f46; stroke-width:12; stroke-opacity:1; fill:none\" points=\"\n",
       "  1866.78,251.724 2010.78,251.724 \n",
       "  \"/>\n",
       "<polygon clip-path=\"url(#clip1600)\" style=\"fill:#000000; fill-opacity:1\" points=\"\n",
       "  1922.78,223.724 1922.78,279.724 1978.78,279.724 1978.78,223.724 1922.78,223.724 \n",
       "  \"/>\n",
       "<polygon clip-path=\"url(#clip1600)\" style=\"fill:#e26f46; fill-opacity:1\" points=\"\n",
       "  1926.78,227.724 1926.78,275.724 1974.78,275.724 1974.78,227.724 1926.78,227.724 \n",
       "  \"/>\n",
       "<g clip-path=\"url(#clip1600)\">\n",
       "<text style=\"fill:#000000; fill-opacity:1; font-family:Arial,Helvetica Neue,Helvetica,sans-serif; font-size:48px; text-anchor:start;\" transform=\"rotate(0, 2034.78, 269.224)\" x=\"2034.78\" y=\"269.224\">IRKGL16</text>\n",
       "</g>\n",
       "</svg>\n"
      ]
     },
     "execution_count": 17,
     "metadata": {},
     "output_type": "execute_result"
    }
   ],
   "source": [
    "setups = [ Dict(:alg=>IRKGL16(),:adaptive=>false,:dts=>dts,:mixed_precision=>false) \n",
    "           Dict(:alg=>IRKGL16(),:adaptive=>false,:dts=>dts,:mixed_precision=>true,:low_prec_type=>Float64)\n",
    "]\n",
    "wp1 = WorkPrecisionSet(prob128,abstols,reltols,setups;appxsol=test_sol,save_everystep=false,numruns=1,maxiters=1000000)\n",
    "plot(wp1)"
   ]
  },
  {
   "cell_type": "markdown",
   "metadata": {},
   "source": [
    "<a href=\"#top\">Back to the top</a>"
   ]
  }
 ],
 "metadata": {
  "kernelspec": {
   "display_name": "Julia 1.3.1",
   "language": "julia",
   "name": "julia-1.3"
  },
  "language_info": {
   "file_extension": ".jl",
   "mimetype": "application/julia",
   "name": "julia",
   "version": "1.3.1"
  }
 },
 "nbformat": 4,
 "nbformat_minor": 2
}
