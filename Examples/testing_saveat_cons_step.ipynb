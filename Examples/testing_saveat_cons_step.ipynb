{
 "cells": [
  {
   "cell_type": "markdown",
   "metadata": {},
   "source": [
    "\n",
    "## testing_saveat_cons_step"
   ]
  },
  {
   "cell_type": "code",
   "execution_count": 1,
   "metadata": {},
   "outputs": [],
   "source": [
    "using LinearAlgebra\n",
    "using IRKGaussLegendre\n",
    "#include(\"../src/IRKGaussLegendre.jl\")\n",
    "#using .IRKGaussLegendre\n",
    "using OrdinaryDiffEq"
   ]
  },
  {
   "cell_type": "markdown",
   "metadata": {},
   "source": [
    "## Problem"
   ]
  },
  {
   "cell_type": "code",
   "execution_count": 2,
   "metadata": {},
   "outputs": [
    {
     "data": {
      "text/plain": [
       "fode! (generic function with 1 method)"
      ]
     },
     "execution_count": 2,
     "metadata": {},
     "output_type": "execute_result"
    }
   ],
   "source": [
    "function fode!(du,u,p,t)\n",
    "      du[1] = -u[1]\n",
    "    return\n",
    "end"
   ]
  },
  {
   "cell_type": "markdown",
   "metadata": {},
   "source": [
    "## Test saveat = 1  / dt = 2"
   ]
  },
  {
   "cell_type": "markdown",
   "metadata": {},
   "source": [
    "### Forward integration"
   ]
  },
  {
   "cell_type": "code",
   "execution_count": 3,
   "metadata": {},
   "outputs": [
    {
     "data": {
      "text/plain": [
       "11×2 Matrix{Any}:\n",
       "  0.0  [1.0]\n",
       "  1.0  [0.367879]\n",
       "  2.0  [0.135335]\n",
       "  3.0  [0.0497871]\n",
       "  4.0  [0.0183156]\n",
       "  5.0  [0.00673795]\n",
       "  6.0  [0.00247875]\n",
       "  7.0  [0.000911882]\n",
       "  8.0  [0.000335463]\n",
       "  9.0  [0.00012341]\n",
       " 10.0  [4.53999e-5]"
      ]
     },
     "execution_count": 3,
     "metadata": {},
     "output_type": "execute_result"
    }
   ],
   "source": [
    "t0= 0.\n",
    "tf = 10.\n",
    "tspan=(t0,tf)\n",
    "u0 = [1.0];\n",
    "saveat = 1. #1.\n",
    "dt= 2.\n",
    "prob = ODEProblem(fode!,u0,tspan)\n",
    "res = solve(prob,IRKGL16(), dt=dt, saveat=saveat, adaptive=false)\n",
    "[res.t res.u]"
   ]
  },
  {
   "cell_type": "code",
   "execution_count": 4,
   "metadata": {},
   "outputs": [
    {
     "data": {
      "text/plain": [
       "11×2 Matrix{Any}:\n",
       "  0.0  [1.0]\n",
       "  1.0  [0.36788]\n",
       "  2.0  [0.135345]\n",
       "  3.0  [0.0497906]\n",
       "  4.0  [0.0183181]\n",
       "  5.0  [0.00673888]\n",
       "  6.0  [0.00247926]\n",
       "  7.0  [0.00091207]\n",
       "  8.0  [0.000335554]\n",
       "  9.0  [0.000123444]\n",
       " 10.0  [4.54154e-5]"
      ]
     },
     "execution_count": 4,
     "metadata": {},
     "output_type": "execute_result"
    }
   ],
   "source": [
    "#res2 = solve(prob, Vern9(), dt=dt,  adaptive=false)\n",
    "res2 = solve(prob, Vern9(), dt=dt,  saveat=saveat, adaptive=false)\n",
    "[res2.t res2.u]"
   ]
  },
  {
   "cell_type": "code",
   "execution_count": 5,
   "metadata": {},
   "outputs": [
    {
     "data": {
      "text/plain": [
       "11×6 Matrix{Float64}:\n",
       "  0.0  1.0          1.0          1.0          -Inf       -Inf\n",
       "  1.0  0.367879     0.36788      0.367879      -8.70779   -5.75183\n",
       "  2.0  0.135335     0.135345     0.135335     -13.5062    -4.16575\n",
       "  3.0  0.0497871    0.0497906    0.0497871     -8.70778   -4.15463\n",
       "  4.0  0.0183156    0.0183181    0.0183156    -13.2067    -3.86471\n",
       "  5.0  0.00673795   0.00673888   0.00673795    -8.70778   -3.85911\n",
       "  6.0  0.00247875   0.00247926   0.00247875   -13.0328    -3.6886\n",
       "  7.0  0.000911882  0.00091207   0.000911882   -8.70777   -3.68486\n",
       "  8.0  0.000335463  0.000335554  0.000335463  -12.9136    -3.56365\n",
       "  9.0  0.00012341   0.000123444  0.00012341    -8.70776   -3.56084\n",
       " 10.0  4.53999e-5   4.54154e-5   4.53999e-5   -12.817     -3.46672"
      ]
     },
     "execution_count": 5,
     "metadata": {},
     "output_type": "execute_result"
    }
   ],
   "source": [
    "tt=res.t\n",
    "y_approx=[u[1] for u in res.u]\n",
    "y_approx2=[u[1] for u in res2.u]\n",
    "y_exac=exp.(-tt)\n",
    "error=log10.(abs.((y_exac-y_approx)./y_exac))\n",
    "error2=log10.(abs.((y_exac-y_approx2)./y_exac))\n",
    "[tt y_approx y_approx2 y_exac error error2]"
   ]
  },
  {
   "cell_type": "markdown",
   "metadata": {},
   "source": [
    "### Backward integration"
   ]
  },
  {
   "cell_type": "code",
   "execution_count": 6,
   "metadata": {},
   "outputs": [
    {
     "data": {
      "text/plain": [
       "11-element Vector{Float64}:\n",
       " 10.0\n",
       "  9.0\n",
       "  8.0\n",
       "  7.0\n",
       "  6.0\n",
       "  5.0\n",
       "  4.0\n",
       "  3.0\n",
       "  2.0\n",
       "  1.0\n",
       "  0.0"
      ]
     },
     "execution_count": 6,
     "metadata": {},
     "output_type": "execute_result"
    }
   ],
   "source": [
    "t0= 10. # 0.\n",
    "tf = 0.\n",
    "tspan=(t0,tf)\n",
    "u0 = [1.0];\n",
    "saveat = 1. #1.\n",
    "dt= 2.\n",
    "prob = ODEProblem(fode!,u0,tspan)\n",
    "res = solve(prob,IRKGL16(), dt=dt, saveat=saveat, adaptive=false)\n",
    "res.t"
   ]
  },
  {
   "cell_type": "code",
   "execution_count": 7,
   "metadata": {},
   "outputs": [
    {
     "data": {
      "text/plain": [
       "11×4 Matrix{Float64}:\n",
       " 10.0      1.0          1.0      -Inf\n",
       "  9.0      2.71828      2.71828   -8.7078\n",
       "  8.0      7.38906      7.38906  -13.517\n",
       "  7.0     20.0855      20.0855    -8.70781\n",
       "  6.0     54.5982      54.5982   -13.2172\n",
       "  5.0    148.413      148.413     -8.70781\n",
       "  4.0    403.429      403.429    -13.0429\n",
       "  3.0   1096.63      1096.63      -8.70782\n",
       "  2.0   2980.96      2980.96     -12.9162\n",
       "  1.0   8103.08      8103.08      -8.70783\n",
       "  0.0  22026.5      22026.5      -12.8197"
      ]
     },
     "execution_count": 7,
     "metadata": {},
     "output_type": "execute_result"
    }
   ],
   "source": [
    "tt=res.t\n",
    "y_approx=[u[1] for u in res.u]\n",
    "y_exac=exp.(-tt)/exp(-t0)\n",
    "error=log10.(abs.((y_exac-y_approx)./y_exac))\n",
    "[tt y_approx  y_exac error]"
   ]
  },
  {
   "cell_type": "markdown",
   "metadata": {},
   "source": [
    "## Test saveat = 1  / dt = 1.3"
   ]
  },
  {
   "cell_type": "markdown",
   "metadata": {},
   "source": [
    "### Forward integration"
   ]
  },
  {
   "cell_type": "code",
   "execution_count": 8,
   "metadata": {},
   "outputs": [
    {
     "data": {
      "text/plain": [
       "11×2 Matrix{Any}:\n",
       "  0.0  [1.0]\n",
       "  1.0  [0.367879]\n",
       "  2.0  [0.135335]\n",
       "  3.0  [0.0497871]\n",
       "  4.0  [0.0183156]\n",
       "  5.0  [0.00673795]\n",
       "  6.0  [0.00247875]\n",
       "  7.0  [0.000911882]\n",
       "  8.0  [0.000335463]\n",
       "  9.0  [0.00012341]\n",
       " 10.0  [4.53999e-5]"
      ]
     },
     "execution_count": 8,
     "metadata": {},
     "output_type": "execute_result"
    }
   ],
   "source": [
    "t0= 0.\n",
    "tf = 10.\n",
    "tspan=(t0,tf)\n",
    "u0 = [1.0];\n",
    "saveat = 1.\n",
    "dt=1.3\n",
    "prob = ODEProblem(fode!,u0,tspan)\n",
    "res = solve(prob,IRKGL16(),dt=dt, saveat=saveat, adaptive=false)\n",
    "[res.t res.u]"
   ]
  },
  {
   "cell_type": "code",
   "execution_count": 9,
   "metadata": {},
   "outputs": [
    {
     "data": {
      "text/plain": [
       "11×4 Matrix{Float64}:\n",
       "  0.0  1.0          1.0          -Inf\n",
       "  1.0  0.367879     0.367879      -9.36286\n",
       "  2.0  0.135335     0.135335      -9.63101\n",
       "  3.0  0.0497871    0.0497871    -10.5108\n",
       "  4.0  0.0183156    0.0183156     -9.93975\n",
       "  5.0  0.00673795   0.00673795    -9.98409\n",
       "  6.0  0.00247875   0.00247875    -9.46646\n",
       "  7.0  0.000911882  0.000911882   -9.57156\n",
       "  8.0  0.000335463  0.000335463  -10.6693\n",
       "  9.0  0.00012341   0.00012341    -9.47918\n",
       " 10.0  4.53999e-5   4.53999e-5   -15.8261"
      ]
     },
     "execution_count": 9,
     "metadata": {},
     "output_type": "execute_result"
    }
   ],
   "source": [
    "tt=res.t\n",
    "y_approx=[u[1] for u in res.u]\n",
    "y_exac=exp.(-tt)\n",
    "error=log10.(abs.((y_exac-y_approx)./y_exac))\n",
    "[tt y_approx y_exac error]"
   ]
  },
  {
   "cell_type": "markdown",
   "metadata": {},
   "source": [
    "### Backward integration"
   ]
  },
  {
   "cell_type": "code",
   "execution_count": 10,
   "metadata": {},
   "outputs": [
    {
     "data": {
      "text/plain": [
       "11×2 Matrix{Any}:\n",
       " 10.0  [1.0]\n",
       "  9.0  [2.71828]\n",
       "  8.0  [7.38906]\n",
       "  7.0  [20.0855]\n",
       "  6.0  [54.5982]\n",
       "  5.0  [148.413]\n",
       "  4.0  [403.429]\n",
       "  3.0  [1096.63]\n",
       "  2.0  [2980.96]\n",
       "  1.0  [8103.08]\n",
       "  0.0  [22026.5]"
      ]
     },
     "execution_count": 10,
     "metadata": {},
     "output_type": "execute_result"
    }
   ],
   "source": [
    "t0= 10.\n",
    "tf = 0.\n",
    "tspan=(t0,tf)\n",
    "u0 = [1.0];\n",
    "saveat = 1.\n",
    "dt=1.3\n",
    "prob = ODEProblem(fode!,u0,tspan)\n",
    "res = solve(prob,IRKGL16(),dt=dt, saveat=saveat, adaptive=false)\n",
    "[res.t res.u]"
   ]
  },
  {
   "cell_type": "code",
   "execution_count": 11,
   "metadata": {},
   "outputs": [
    {
     "data": {
      "text/plain": [
       "11×4 Matrix{Float64}:\n",
       " 10.0      1.0          1.0      -Inf\n",
       "  9.0      2.71828      2.71828   -9.66794\n",
       "  8.0      7.38906      7.38906   -9.76483\n",
       "  7.0     20.0855      20.0855    -9.95815\n",
       "  6.0     54.5982      54.5982    -9.47918\n",
       "  5.0    148.413      148.413    -10.6693\n",
       "  4.0    403.429      403.429     -9.57156\n",
       "  3.0   1096.63      1096.63      -9.46646\n",
       "  2.0   2980.96      2980.96      -9.98409\n",
       "  1.0   8103.08      8103.08      -9.93975\n",
       "  0.0  22026.5      22026.5      -15.7821"
      ]
     },
     "execution_count": 11,
     "metadata": {},
     "output_type": "execute_result"
    }
   ],
   "source": [
    "tt=res.t\n",
    "y_approx=[u[1] for u in res.u]\n",
    "y_exac=exp.(-tt)/exp(-t0)\n",
    "error=log10.(abs.((y_exac-y_approx)./y_exac))\n",
    "[tt y_approx y_exac error]"
   ]
  },
  {
   "cell_type": "markdown",
   "metadata": {},
   "source": [
    "## Test saveat = 3 / dt = 1"
   ]
  },
  {
   "cell_type": "markdown",
   "metadata": {},
   "source": [
    "### Forward integration"
   ]
  },
  {
   "cell_type": "code",
   "execution_count": 12,
   "metadata": {},
   "outputs": [
    {
     "data": {
      "text/plain": [
       "5×2 Matrix{Any}:\n",
       "  0.0  [1.0]\n",
       "  3.0  [0.0497871]\n",
       "  6.0  [0.00247875]\n",
       "  9.0  [0.00012341]\n",
       " 10.0  [4.53999e-5]"
      ]
     },
     "execution_count": 12,
     "metadata": {},
     "output_type": "execute_result"
    }
   ],
   "source": [
    "t0= 0.\n",
    "tf = 10.\n",
    "tspan=(t0,tf)\n",
    "u0 = [1.0];\n",
    "saveat = 3\n",
    "dt=1\n",
    "prob = ODEProblem(fode!,u0,tspan)\n",
    "res = solve(prob,IRKGL16(),dt=dt, saveat=saveat, adaptive=false)\n",
    "[res.t res.u]"
   ]
  },
  {
   "cell_type": "code",
   "execution_count": 13,
   "metadata": {},
   "outputs": [
    {
     "data": {
      "text/plain": [
       "5×4 Matrix{Float64}:\n",
       "  0.0  1.0         1.0         -Inf\n",
       "  3.0  0.0497871   0.0497871   -15.8558\n",
       "  6.0  0.00247875  0.00247875  -15.456\n",
       "  9.0  0.00012341  0.00012341  -Inf\n",
       " 10.0  4.53999e-5  4.53999e-5  -15.8261"
      ]
     },
     "execution_count": 13,
     "metadata": {},
     "output_type": "execute_result"
    }
   ],
   "source": [
    "tt=res.t\n",
    "y_approx=[u[1] for u in res.u]\n",
    "y_exac=exp.(-tt)\n",
    "error=log10.(abs.((y_exac-y_approx)./y_exac))\n",
    "[tt y_approx y_exac error]"
   ]
  },
  {
   "cell_type": "markdown",
   "metadata": {},
   "source": [
    "### Backward integration"
   ]
  },
  {
   "cell_type": "code",
   "execution_count": 14,
   "metadata": {},
   "outputs": [
    {
     "data": {
      "text/plain": [
       "5×2 Matrix{Any}:\n",
       " 10.0  [1.0]\n",
       "  9.0  [2.71828]\n",
       "  6.0  [54.5982]\n",
       "  3.0  [1096.63]\n",
       "  0.0  [22026.5]"
      ]
     },
     "execution_count": 14,
     "metadata": {},
     "output_type": "execute_result"
    }
   ],
   "source": [
    "t0= 10.\n",
    "tf = 0.\n",
    "tspan=(t0,tf)\n",
    "u0 = [1.0];\n",
    "saveat = 3\n",
    "dt=1\n",
    "prob = ODEProblem(fode!,u0,tspan)\n",
    "res = solve(prob,IRKGL16(),dt=dt, saveat=saveat, adaptive=false)\n",
    "[res.t res.u]"
   ]
  },
  {
   "cell_type": "code",
   "execution_count": 15,
   "metadata": {},
   "outputs": [
    {
     "data": {
      "text/plain": [
       "5×4 Matrix{Float64}:\n",
       " 10.0      1.0          1.0      -Inf\n",
       "  9.0      2.71828      2.71828  -15.7868\n",
       "  6.0     54.5982      54.5982   -Inf\n",
       "  3.0   1096.63      1096.63     -15.6833\n",
       "  0.0  22026.5      22026.5      -15.7821"
      ]
     },
     "execution_count": 15,
     "metadata": {},
     "output_type": "execute_result"
    }
   ],
   "source": [
    "tt=res.t\n",
    "y_approx=[u[1] for u in res.u]\n",
    "y_exac=exp.(-tt)/exp(-t0)\n",
    "error=log10.(abs.((y_exac-y_approx)./y_exac))\n",
    "[tt y_approx y_exac error]"
   ]
  },
  {
   "cell_type": "markdown",
   "metadata": {},
   "source": [
    "## Test saveat = pi / dt = 1"
   ]
  },
  {
   "cell_type": "markdown",
   "metadata": {},
   "source": [
    "### Forward integration"
   ]
  },
  {
   "cell_type": "code",
   "execution_count": 16,
   "metadata": {},
   "outputs": [
    {
     "data": {
      "text/plain": [
       "5×2 Matrix{Any}:\n",
       "  0.0      [1.0]\n",
       "  3.14159  [0.0432139]\n",
       "  6.28319  [0.00186744]\n",
       "  9.42478  [8.06995e-5]\n",
       " 10.0      [4.53999e-5]"
      ]
     },
     "execution_count": 16,
     "metadata": {},
     "output_type": "execute_result"
    }
   ],
   "source": [
    "t0= 0.\n",
    "tf = 10.\n",
    "tspan=(t0,tf)\n",
    "u0 = [1.0];\n",
    "saveat = pi\n",
    "dt=1\n",
    "prob = ODEProblem(fode!,u0,tspan)\n",
    "res = solve(prob,IRKGL16(),dt=dt, saveat=saveat, adaptive=false)\n",
    "[res.t res.u]"
   ]
  },
  {
   "cell_type": "code",
   "execution_count": 17,
   "metadata": {},
   "outputs": [
    {
     "data": {
      "text/plain": [
       "5×4 Matrix{Float64}:\n",
       "  0.0      1.0         1.0         -Inf\n",
       "  3.14159  0.0432139   0.0432139   -11.125\n",
       "  6.28319  0.00186744  0.00186744  -10.8729\n",
       "  9.42478  8.06995e-5  8.06995e-5  -10.5672\n",
       " 10.0      4.53999e-5  4.53999e-5  -15.8261"
      ]
     },
     "execution_count": 17,
     "metadata": {},
     "output_type": "execute_result"
    }
   ],
   "source": [
    "tt=res.t\n",
    "y_approx=[u[1] for u in res.u]\n",
    "y_exac=exp.(-tt)\n",
    "error=log10.(abs.((y_exac-y_approx)./y_exac))\n",
    "[tt y_approx y_exac error]"
   ]
  },
  {
   "cell_type": "markdown",
   "metadata": {},
   "source": [
    "### Backward integration"
   ]
  },
  {
   "cell_type": "code",
   "execution_count": 18,
   "metadata": {},
   "outputs": [
    {
     "data": {
      "text/plain": [
       "5×2 Matrix{Any}:\n",
       " 10.0      [1.0]\n",
       "  9.42478  [1.77753]\n",
       "  6.28319  [41.1332]\n",
       "  3.14159  [951.85]\n",
       "  0.0      [22026.5]"
      ]
     },
     "execution_count": 18,
     "metadata": {},
     "output_type": "execute_result"
    }
   ],
   "source": [
    "t0= 10.\n",
    "tf = 0.\n",
    "tspan=(t0,tf)\n",
    "u0 = [1.0];\n",
    "saveat = pi\n",
    "dt=1\n",
    "prob = ODEProblem(fode!,u0,tspan)\n",
    "res = solve(prob,IRKGL16(),dt=dt, saveat=saveat, adaptive=false)\n",
    "[res.t res.u]"
   ]
  },
  {
   "cell_type": "code",
   "execution_count": 19,
   "metadata": {},
   "outputs": [
    {
     "data": {
      "text/plain": [
       "5×4 Matrix{Float64}:\n",
       " 10.0          1.0          1.0      -Inf\n",
       "  9.42478      1.77753      1.77753  -10.5672\n",
       "  6.28319     41.1332      41.1332   -10.8729\n",
       "  3.14159    951.85       951.85     -11.125\n",
       "  0.0      22026.5      22026.5      -15.7821"
      ]
     },
     "execution_count": 19,
     "metadata": {},
     "output_type": "execute_result"
    }
   ],
   "source": [
    "tt=res.t\n",
    "y_approx=[u[1] for u in res.u]\n",
    "y_exac=exp.(-tt)/exp(-t0)\n",
    "error=log10.(abs.((y_exac-y_approx)./y_exac))\n",
    "[tt y_approx y_exac error]"
   ]
  },
  {
   "cell_type": "markdown",
   "metadata": {},
   "source": [
    "## Test saveat = [1.5,2.5,4.5] / dt = 1"
   ]
  },
  {
   "cell_type": "markdown",
   "metadata": {},
   "source": [
    "### Forward integration"
   ]
  },
  {
   "cell_type": "code",
   "execution_count": 20,
   "metadata": {},
   "outputs": [
    {
     "data": {
      "text/plain": [
       "5×2 Matrix{Any}:\n",
       "  0.0  [1.0]\n",
       "  1.5  [0.22313]\n",
       "  2.5  [0.082085]\n",
       "  4.5  [0.011109]\n",
       " 10.0  [4.53999e-5]"
      ]
     },
     "execution_count": 20,
     "metadata": {},
     "output_type": "execute_result"
    }
   ],
   "source": [
    "t0= 0.\n",
    "tf = 10.\n",
    "tspan=(t0,tf)\n",
    "u0 = [1.0];\n",
    "saveat = [1.5,2.5,4.50]\n",
    "dt=1\n",
    "prob = ODEProblem(fode!,u0,tspan)\n",
    "res = solve(prob,IRKGL16(),dt=dt, saveat=saveat, adaptive=false)\n",
    "[res.t res.u]"
   ]
  },
  {
   "cell_type": "code",
   "execution_count": 21,
   "metadata": {},
   "outputs": [
    {
     "data": {
      "text/plain": [
       "5×4 Matrix{Float64}:\n",
       "  0.0  1.0         1.0         -Inf\n",
       "  1.5  0.22313     0.22313     -11.7236\n",
       "  2.5  0.082085    0.082085    -11.7236\n",
       "  4.5  0.011109    0.011109    -11.7236\n",
       " 10.0  4.53999e-5  4.53999e-5  -15.8261"
      ]
     },
     "execution_count": 21,
     "metadata": {},
     "output_type": "execute_result"
    }
   ],
   "source": [
    "tt=res.t\n",
    "y_approx=[u[1] for u in res.u]\n",
    "y_exac=exp.(-tt)\n",
    "error=log10.(abs.((y_exac-y_approx)./y_exac))\n",
    "[tt y_approx y_exac error]"
   ]
  },
  {
   "cell_type": "markdown",
   "metadata": {},
   "source": [
    "### Backward integration"
   ]
  },
  {
   "cell_type": "code",
   "execution_count": 22,
   "metadata": {},
   "outputs": [
    {
     "data": {
      "text/plain": [
       "5×2 Matrix{Any}:\n",
       " 10.0  [1.0]\n",
       "  4.5  [244.692]\n",
       "  2.5  [1808.04]\n",
       "  1.5  [4914.77]\n",
       "  0.0  [22026.5]"
      ]
     },
     "execution_count": 22,
     "metadata": {},
     "output_type": "execute_result"
    }
   ],
   "source": [
    "t0= 10.\n",
    "tf = 0.\n",
    "tspan=(t0,tf)\n",
    "u0 = [1.0];\n",
    "saveat = [1.5,2.5,4.50]\n",
    "dt=1\n",
    "prob = ODEProblem(fode!,u0,tspan)\n",
    "res = solve(prob,IRKGL16(),dt=dt, saveat=saveat, adaptive=false)\n",
    "[res.t res.u]"
   ]
  },
  {
   "cell_type": "code",
   "execution_count": 23,
   "metadata": {},
   "outputs": [
    {
     "data": {
      "text/plain": [
       "5×4 Matrix{Float64}:\n",
       " 10.0      1.0        1.0    -Inf\n",
       "  4.5    244.692    244.692  -11.7236\n",
       "  2.5   1808.04    1808.04   -11.7236\n",
       "  1.5   4914.77    4914.77   -11.7235\n",
       "  0.0  22026.5    22026.5    -15.7821"
      ]
     },
     "execution_count": 23,
     "metadata": {},
     "output_type": "execute_result"
    }
   ],
   "source": [
    "tt=res.t\n",
    "y_approx=[u[1] for u in res.u]\n",
    "y_exac=exp.(-tt)/exp(-t0)\n",
    "error=log10.(abs.((y_exac-y_approx)./y_exac))\n",
    "[tt y_approx y_exac error]"
   ]
  },
  {
   "cell_type": "markdown",
   "metadata": {},
   "source": [
    "## save_everystep=true"
   ]
  },
  {
   "cell_type": "markdown",
   "metadata": {},
   "source": [
    "### Forward integration"
   ]
  },
  {
   "cell_type": "code",
   "execution_count": 24,
   "metadata": {},
   "outputs": [
    {
     "data": {
      "text/plain": [
       "11×2 Matrix{Any}:\n",
       "  0.0  [1.0]\n",
       "  1.0  [0.367879]\n",
       "  2.0  [0.135335]\n",
       "  3.0  [0.0497871]\n",
       "  4.0  [0.0183156]\n",
       "  5.0  [0.00673795]\n",
       "  6.0  [0.00247875]\n",
       "  7.0  [0.000911882]\n",
       "  8.0  [0.000335463]\n",
       "  9.0  [0.00012341]\n",
       " 10.0  [4.53999e-5]"
      ]
     },
     "execution_count": 24,
     "metadata": {},
     "output_type": "execute_result"
    }
   ],
   "source": [
    "t0= 0.\n",
    "tf = 10.\n",
    "tspan=(t0,tf)\n",
    "u0 = [1.0];\n",
    "save_everystep=true\n",
    "dt=1\n",
    "prob = ODEProblem(fode!,u0,tspan)\n",
    "res = solve(prob,IRKGL16(),dt=dt, adaptive=false)\n",
    "[res.t res.u]"
   ]
  },
  {
   "cell_type": "code",
   "execution_count": 25,
   "metadata": {},
   "outputs": [
    {
     "data": {
      "text/plain": [
       "11×4 Matrix{Float64}:\n",
       "  0.0  1.0          1.0          -Inf\n",
       "  1.0  0.367879     0.367879     -15.5203\n",
       "  2.0  0.135335     0.135335     -15.387\n",
       "  3.0  0.0497871    0.0497871    -15.8558\n",
       "  4.0  0.0183156    0.0183156    -Inf\n",
       "  5.0  0.00673795   0.00673795   -15.5893\n",
       "  6.0  0.00247875   0.00247875   -15.456\n",
       "  7.0  0.000911882  0.000911882  -15.4477\n",
       "  8.0  0.000335463  0.000335463  -15.7916\n",
       "  9.0  0.00012341   0.00012341   -Inf\n",
       " 10.0  4.53999e-5   4.53999e-5   -15.8261"
      ]
     },
     "execution_count": 25,
     "metadata": {},
     "output_type": "execute_result"
    }
   ],
   "source": [
    "tt=res.t\n",
    "y_approx=[u[1] for u in res.u]\n",
    "y_exac=exp.(-tt)\n",
    "error=log10.(abs.((y_exac-y_approx)./y_exac))\n",
    "[tt y_approx y_exac error]"
   ]
  },
  {
   "cell_type": "markdown",
   "metadata": {},
   "source": [
    "### Backward integration"
   ]
  },
  {
   "cell_type": "code",
   "execution_count": 26,
   "metadata": {},
   "outputs": [
    {
     "data": {
      "text/plain": [
       "11×2 Matrix{Any}:\n",
       " 10.0  [1.0]\n",
       "  9.0  [2.71828]\n",
       "  8.0  [7.38906]\n",
       "  7.0  [20.0855]\n",
       "  6.0  [54.5982]\n",
       "  5.0  [148.413]\n",
       "  4.0  [403.429]\n",
       "  3.0  [1096.63]\n",
       "  2.0  [2980.96]\n",
       "  1.0  [8103.08]\n",
       "  0.0  [22026.5]"
      ]
     },
     "execution_count": 26,
     "metadata": {},
     "output_type": "execute_result"
    }
   ],
   "source": [
    "t0= 10.\n",
    "tf = 0.\n",
    "tspan=(t0,tf)\n",
    "u0 = [1.0];\n",
    "save_everystep=true\n",
    "dt=1\n",
    "prob = ODEProblem(fode!,u0,tspan)\n",
    "res = solve(prob,IRKGL16(),dt=dt, adaptive=false)\n",
    "[res.t res.u]"
   ]
  },
  {
   "cell_type": "code",
   "execution_count": 27,
   "metadata": {},
   "outputs": [
    {
     "data": {
      "text/plain": [
       "11×4 Matrix{Float64}:\n",
       " 10.0      1.0          1.0      -Inf\n",
       "  9.0      2.71828      2.71828  -15.7868\n",
       "  8.0      7.38906      7.38906  -Inf\n",
       "  7.0     20.0855      20.0855   -Inf\n",
       "  6.0     54.5982      54.5982   -Inf\n",
       "  5.0    148.413      148.413    -Inf\n",
       "  4.0    403.429      403.429    -15.8511\n",
       "  3.0   1096.63      1096.63     -15.6833\n",
       "  2.0   2980.96      2980.96     -15.8166\n",
       "  1.0   8103.08      8103.08     -15.9499\n",
       "  0.0  22026.5      22026.5      -15.7821"
      ]
     },
     "execution_count": 27,
     "metadata": {},
     "output_type": "execute_result"
    }
   ],
   "source": [
    "tt=res.t\n",
    "y_approx=[u[1] for u in res.u]\n",
    "y_exac=exp.(-tt)/exp(-t0)\n",
    "error=log10.(abs.((y_exac-y_approx)./y_exac))\n",
    "[tt y_approx y_exac error]"
   ]
  },
  {
   "cell_type": "markdown",
   "metadata": {},
   "source": [
    "## save_everystep=false"
   ]
  },
  {
   "cell_type": "markdown",
   "metadata": {},
   "source": [
    "### Forward integration"
   ]
  },
  {
   "cell_type": "code",
   "execution_count": 28,
   "metadata": {},
   "outputs": [
    {
     "data": {
      "text/plain": [
       "2×2 Matrix{Any}:\n",
       "  0.0  [1.0]\n",
       " 10.0  [4.53999e-5]"
      ]
     },
     "execution_count": 28,
     "metadata": {},
     "output_type": "execute_result"
    }
   ],
   "source": [
    "t0= 0.\n",
    "tf = 10.\n",
    "tspan=(t0,tf)\n",
    "u0 = [1.0];\n",
    "save_everystep=true\n",
    "dt=1\n",
    "prob = ODEProblem(fode!,u0,tspan)\n",
    "res = solve(prob,IRKGL16(),dt=dt, save_everystep=false, adaptive=false)\n",
    "[res.t res.u]"
   ]
  },
  {
   "cell_type": "code",
   "execution_count": 29,
   "metadata": {},
   "outputs": [
    {
     "data": {
      "text/plain": [
       "2×4 Matrix{Float64}:\n",
       "  0.0  1.0         1.0         -Inf\n",
       " 10.0  4.53999e-5  4.53999e-5  -15.8261"
      ]
     },
     "execution_count": 29,
     "metadata": {},
     "output_type": "execute_result"
    }
   ],
   "source": [
    "tt=res.t\n",
    "y_approx=[u[1] for u in res.u]\n",
    "y_exac=exp.(-tt)\n",
    "error=log10.(abs.((y_exac-y_approx)./y_exac))\n",
    "[tt y_approx y_exac error]"
   ]
  },
  {
   "cell_type": "markdown",
   "metadata": {},
   "source": [
    "### Backward integration"
   ]
  },
  {
   "cell_type": "code",
   "execution_count": 30,
   "metadata": {},
   "outputs": [
    {
     "data": {
      "text/plain": [
       "2×2 Matrix{Any}:\n",
       " 10.0  [1.0]\n",
       "  0.0  [22026.5]"
      ]
     },
     "execution_count": 30,
     "metadata": {},
     "output_type": "execute_result"
    }
   ],
   "source": [
    "t0= 10.\n",
    "tf = 0.\n",
    "tspan=(t0,tf)\n",
    "u0 = [1.0];\n",
    "save_everystep=true\n",
    "dt=1\n",
    "prob = ODEProblem(fode!,u0,tspan)\n",
    "res = solve(prob,IRKGL16(),dt=dt, save_everystep=false, adaptive=false)\n",
    "[res.t res.u]"
   ]
  },
  {
   "cell_type": "code",
   "execution_count": 31,
   "metadata": {},
   "outputs": [
    {
     "data": {
      "text/plain": [
       "2×4 Matrix{Float64}:\n",
       " 10.0      1.0      1.0  -Inf\n",
       "  0.0  22026.5  22026.5  -15.7821"
      ]
     },
     "execution_count": 31,
     "metadata": {},
     "output_type": "execute_result"
    }
   ],
   "source": [
    "tt=res.t\n",
    "y_approx=[u[1] for u in res.u]\n",
    "y_exac=exp.(-tt)/exp(-t0)\n",
    "error=log10.(abs.((y_exac-y_approx)./y_exac))\n",
    "[tt y_approx y_exac error]"
   ]
  },
  {
   "cell_type": "code",
   "execution_count": null,
   "metadata": {},
   "outputs": [],
   "source": []
  }
 ],
 "metadata": {
  "kernelspec": {
   "display_name": "Julia 1.11.6",
   "language": "julia",
   "name": "julia-1.11"
  },
  "language_info": {
   "file_extension": ".jl",
   "mimetype": "application/julia",
   "name": "julia",
   "version": "1.11.6"
  }
 },
 "nbformat": 4,
 "nbformat_minor": 4
}
