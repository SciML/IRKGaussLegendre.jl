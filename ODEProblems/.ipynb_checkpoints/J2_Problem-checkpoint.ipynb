{
 "cells": [
  {
   "cell_type": "markdown",
   "metadata": {},
   "source": [
    "\n",
    "\n",
    "## Definition of the J2-problem\n",
    "\n",
    "\\begin{equation}\n",
    "\\begin{split}\n",
    "\\frac{d}{dt} q &= v, \\quad q(0) = q_0,\\\\\n",
    "\\frac{d}{dt} v &= -\\frac{\\mu}{r^3} q -  \\nabla V(q), \\quad v(0)=v_0\n",
    "\\end{split}\n",
    "\\tag{1}\n",
    "\\end{equation}\n",
    "\n",
    "where \n",
    "\n",
    "\\begin{equation}\n",
    "q = \\left(\n",
    "\\begin{matrix}\n",
    "x\\\\\n",
    "y\\\\\n",
    "z\n",
    "\\end{matrix}\n",
    "\\right), \\quad \n",
    "v = \\left(\n",
    "\\begin{matrix}\n",
    "\\dot x\\\\\n",
    "\\dot y\\\\\n",
    "\\dot z\n",
    "\\end{matrix}\n",
    "\\right), \\quad r=\\|q\\|, \n",
    "\\end{equation}\n",
    "\n",
    "and\n",
    "\n",
    "\\begin{equation}\n",
    "V(q) =  \\frac{C}{2\\, r^3} \\,\\left(3\\, \\sin^2\\theta -1 \\right), \\quad \\sin\\theta = \\frac{z}{r}, \\quad C=J_2\\, \\mu\\, R_e^2.\n",
    "\\end{equation}"
   ]
  },
  {
   "cell_type": "markdown",
   "metadata": {},
   "source": [
    "The state vector of the system is \n",
    "\n",
    "$$u=(x,y,z,\\dot x, \\dot y, \\dot z).$$\n",
    "\n",
    "The energy \n",
    "\n",
    "$$\n",
    "E(u) = \\frac12\\, \\|v\\|^2 - \\frac{\\mu}{r} \\left( 1 + \\frac{\\epsilon}{2} \\frac{R^2}{r^2} \\left(  1 - 3\\, \\frac{z^2}{r^2}  \\right)\\right)\n",
    "$$\n",
    "\n",
    "is a conserved quantity."
   ]
  },
  {
   "cell_type": "code",
   "execution_count": 1,
   "metadata": {},
   "outputs": [
    {
     "data": {
      "text/plain": [
       "J2ODE! (generic function with 1 method)"
      ]
     },
     "execution_count": 1,
     "metadata": {},
     "output_type": "execute_result"
    }
   ],
   "source": [
    "function Energy(u,p)\n",
    "    μ = p[1]\n",
    "    R = p[2]\n",
    "    ϵ = p[3]\n",
    "    q = u[1:3]\n",
    "    v = u[4:6]\n",
    "    r = norm(q)\n",
    "    v2 = dot(v,v)\n",
    "    sinth2 = (u[3]/r)^2\n",
    "    aux = (R/r)^2\n",
    "    return 0.5*v2 - μ/r * (1 + 0.5*ϵ*aux * (1 - 3*sinth2))\n",
    "end\n",
    "\n",
    "function J2ODE!(du,u,p,t)\n",
    "    μ = p[1]\n",
    "    R = p[2]\n",
    "    ϵ = p[3]\n",
    "    x = u[1]\n",
    "    y = u[2]\n",
    "    z = u[3]\n",
    "    du[1] = u[4]\n",
    "    du[2] = u[5]\n",
    "    du[3] = u[6]\n",
    "    r2 = x^2+y^2+z^2\n",
    "    r = sqrt(r2)\n",
    "    aux1 = -μ/(r*r2)\n",
    "    F = 1.5 - 7.5*(z/r)^2\n",
    "    G =  3 + F\n",
    "    aux2 = ϵ*(R/r)^2\n",
    "    aux3 = aux1*(1+aux2*F)\n",
    "    aux4 = aux1*(1+aux2*G)\n",
    "    du[4]=aux3*x\n",
    "    du[5]=aux3*y\n",
    "    du[6]=aux4*z\n",
    "    return nothing\n",
    "end\n"
   ]
  },
  {
   "cell_type": "code",
   "execution_count": null,
   "metadata": {},
   "outputs": [],
   "source": []
  }
 ],
 "metadata": {
  "@webio": {
   "lastCommId": null,
   "lastKernelId": null
  },
  "kernelspec": {
   "display_name": "Julia 1.6.6",
   "language": "julia",
   "name": "julia-1.6"
  },
  "language_info": {
   "file_extension": ".jl",
   "mimetype": "application/julia",
   "name": "julia",
   "version": "1.6.6"
  }
 },
 "nbformat": 4,
 "nbformat_minor": 2
}
