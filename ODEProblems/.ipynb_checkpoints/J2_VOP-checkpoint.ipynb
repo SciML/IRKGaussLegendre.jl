{
 "cells": [
  {
   "cell_type": "markdown",
   "metadata": {},
   "source": [
    "# Initial value problem: VOP formulation of $J_2$-KS equation\n"
   ]
  },
  {
   "cell_type": "markdown",
   "metadata": {},
   "source": [
    "\n",
    "\\begin{equation}\n",
    "\\begin{split}\n",
    "\\frac{d}{d\\tau} q &= r \\, v, \\quad q(0) = q_0,\\\\\n",
    "\\frac{d}{d\\tau} v &= -\\frac{\\mu}{r^2} q -  r\\, \\nabla V(q), \\quad v(0)=v_0\n",
    "\\end{split}\n",
    "\\tag{1}\n",
    "\\end{equation}\n",
    "\n",
    "where \n",
    "\n",
    "\\begin{equation}\n",
    "q_0 = \\left(\n",
    "\\begin{matrix}\n",
    "x_0\\\\\n",
    "y_0\\\\\n",
    "z_0\n",
    "\\end{matrix}\n",
    "\\right), \\quad \n",
    "v_0 = \\left(\n",
    "\\begin{matrix}\n",
    "\\dot x_0\\\\\n",
    "\\dot y_0\\\\\n",
    "\\dot z_0\n",
    "\\end{matrix}\n",
    "\\right), \\quad r=\\|q\\|, \n",
    "\\end{equation}\n",
    "\n",
    "and\n",
    "\n",
    "\\begin{equation}\n",
    "V(q) =  \\frac{C}{2\\, r^3} \\,\\left(3\\, \\sin^2\\theta -1 \\right), \\quad \\sin\\theta = \\frac{z}{r}, \\quad C=J_2\\, \\mu\\, R_e^2.\n",
    "\\end{equation}"
   ]
  },
  {
   "cell_type": "markdown",
   "metadata": {},
   "source": [
    "We have that\n",
    "\\begin{equation*}\n",
    "\\nabla V(x,y,z) = \\frac{3\\, C}{2\\, r^5} \n",
    "\\left(\n",
    "\\begin{matrix}\n",
    "(1 - 5\\, \\sin^2\\theta)\\, x\\\\\n",
    "(1 - 5\\, \\sin^2\\theta)\\, y \\\\\n",
    "(3 - 5\\, \\sin^2\\theta)\\, z\n",
    "\\end{matrix}\n",
    "\\right).\n",
    "\\end{equation*}\n",
    "\n",
    "The energy $\\frac12 \\, \\langle v, v \\rangle - \\frac{\\mu}{r} + V(q)$ is an invariant of the equations of motion. \n",
    "In addition, the $z$-component of the angular momentum\n",
    "\\begin{equation*}\n",
    "x\\, \\dot y - \\dot x\\, y\n",
    "\\end{equation*}\n",
    "is also a first integral."
   ]
  },
  {
   "cell_type": "markdown",
   "metadata": {},
   "source": [
    "We will rewrite the equations by making use of Kustaanheimo-Stiefel (KS) transformation: the new variables $u=(u_1, u_2, u_3,u_4) \\in \\mathbb{R}^4$ are related to the position variables $q = (x,y,z) \\in \\mathbb{R}$ by\n",
    "\\begin{equation*}\n",
    "q = L(u) u,\n",
    "\\end{equation*}\n",
    "where \n",
    "\n",
    "\\begin{equation*}\n",
    "L(u) = \n",
    "\\left(\n",
    "\\begin{matrix}\n",
    "u_1 & -u_2 & -u_3 & u_4 \\\\\n",
    "u_2 & u_1 & -u_4 & -u_3 \\\\\n",
    "u_3 & u_4 & u_1 & u_2 \\\\\n",
    "u_4 & -u_3 & u_2 & -u_1\n",
    "\\end{matrix}\n",
    "\\right).\n",
    "\\end{equation*}\n",
    "It holds that $\\|u\\|^2 = r$."
   ]
  },
  {
   "cell_type": "code",
   "execution_count": 3,
   "metadata": {},
   "outputs": [
    {
     "data": {
      "text/plain": [
       "gradV (generic function with 1 method)"
      ]
     },
     "execution_count": 3,
     "metadata": {},
     "output_type": "execute_result"
    }
   ],
   "source": [
    "function V(q)\n",
    "#   C = μ * J_2 * R_e^2   \n",
    "    C = 1.7554962315534863e10\n",
    "    z = q[3]\n",
    "    r = sqrt(q[1]^2 + q[2]^2 + q[3]^2)    \n",
    "    sinth = z/r\n",
    "    return C*(3*sinth^2-1)/(2*r^3)\n",
    "end\n",
    "\n",
    "function gradV(q)\n",
    "#   C = μ * J_2 * R_e^2   \n",
    "    C = 1.7554962315534863e10\n",
    "    x = q[1]\n",
    "    y = q[2]\n",
    "    z = q[3]\n",
    "    r2 = x^2 + y^2 + z^2\n",
    "    r = sqrt(r2)\n",
    "    sinth = z/r\n",
    "    aux1 = 1.5*C/(r*r2^2)\n",
    "    aux2 = 5*sinth^2\n",
    "    aux3 = aux1*(1 - aux2)\n",
    "    return [aux3*x, aux3*y, aux1*(3-aux2)*z]\n",
    "end"
   ]
  },
  {
   "cell_type": "code",
   "execution_count": 4,
   "metadata": {},
   "outputs": [
    {
     "data": {
      "text/plain": [
       "L (generic function with 1 method)"
      ]
     },
     "execution_count": 4,
     "metadata": {},
     "output_type": "execute_result"
    }
   ],
   "source": [
    "L(u) = [u[1] -u[2] -u[3]  u[4]\n",
    "     u[2]  u[1] -u[4] -u[3]\n",
    "     u[3]  u[4]  u[1]  u[2]\n",
    "     u[4] -u[3]  u[2] -u[1] ]"
   ]
  },
  {
   "cell_type": "markdown",
   "metadata": {},
   "source": [
    "Following~\\cite{Stiefel-Scheifele}, the solution curve $q(\\tau)$ of the initial value problem (1) can be parametrized as $q = L(u(\\tau)) u(\\tau)$,  where $(u(\\tau),w(\\tau))$ is the solution of the initial value problem\n",
    "\n",
    "\\begin{equation}\n",
    "\\begin{split}\n",
    "\\frac{d}{d\\tau} u &= w, \\quad u(0)=u_0,\\\\\n",
    "\\frac{d}{d\\tau} w &= -\\frac{h}{2} u -  \\nabla R(u), \\quad w(0)=w_0,\n",
    "\\end{split}\n",
    "\\tag{2}\n",
    "\\end{equation}\n",
    "\n",
    "\n",
    "where\n",
    "\n",
    "- $\\displaystyle h= \\frac{\\mu}{\\|q_0\\|} - \\frac12\\, \\langle \\dot q_0, \\dot q_0 \\rangle -  V(q_0)$,\n",
    "\n",
    "\n",
    "- $R(u) = \\frac14\\,  \\|u\\|^2\\, V(L(u) u)$, that is,\n",
    "\n",
    "\\begin{equation*}\n",
    "R(u) = \\frac{1}{8\\, r^2} \\,\\left(3\\, \\sin^2\\theta -1 \\right),\n",
    "\\end{equation*}\n",
    "\n",
    "where  $r = u_1^2+u_2^2+u_3^2+u_4^2$ and\n",
    "$\\sin\\theta = 2\\,(u_1 u_3 + u_2 u_4)/r$,"
   ]
  },
  {
   "cell_type": "code",
   "execution_count": 5,
   "metadata": {},
   "outputs": [
    {
     "data": {
      "text/plain": [
       "gradR (generic function with 1 method)"
      ]
     },
     "execution_count": 5,
     "metadata": {},
     "output_type": "execute_result"
    }
   ],
   "source": [
    "function R(u)\n",
    "#   C = μ * J_2 * R_e^2   \n",
    "    C = 1.7554962315534863e10\n",
    "    z = 2*(u[1]*u[3] + u[2]*u[4])\n",
    "    r = u[1]^2 + u[2]^2 + u[3]^2 + u[4]^2\n",
    "    sinth = z/r\n",
    "    return C*(3*sinth^2-1)/(8*r^2)\n",
    "end\n",
    "\n",
    "\n",
    "function gradR(u)\n",
    "#   C = μ * J_2 * R_e^2   \n",
    "    C = 1.7554962315534863e10\n",
    "    z = 2*(u[1]*u[3] + u[2]*u[4])\n",
    "    r = u[1]^2 + u[2]^2 + u[3]^2 + u[4]^2\n",
    "    w = 1/r^3\n",
    "    sinth = z/r\n",
    "    A = 0.5*C*w*(1 - 6*sinth^2)\n",
    "    B = 1.5*C*w*sinth\n",
    "    return [A*u[1]+B*u[3],A*u[2]+B*u[4],A*u[3]+B*u[1],A*u[4]+B*u[2]]\n",
    "end"
   ]
  },
  {
   "cell_type": "markdown",
   "metadata": {},
   "source": [
    "#### Determination of initial values\n",
    "\n",
    "- $u_0 \\in \\mathbb{R}^4$ is chosen in such a way that \n",
    "\\begin{equation*}\n",
    "\\left(\n",
    "\\begin{matrix}\n",
    "x_0\\\\\n",
    "y_0\\\\\n",
    "z_0\\\\\n",
    "0\n",
    "\\end{matrix}\n",
    "\\right)\n",
    " = L(u_0) u_0, \n",
    "\\end{equation*}\n",
    "\n",
    "- $w_0\\in \\mathbb{R}^4$ is determined as \n",
    "\\begin{equation*}\n",
    "w_0 = \\frac12\\, L(u_0)^T \n",
    "\\left(\n",
    "\\begin{matrix}\n",
    "\\dot x_0\\\\\n",
    "\\dot y_0\\\\\n",
    "\\dot z_0\\\\\n",
    " 0\n",
    " \\end{matrix}\n",
    "\\right).\n",
    "\\end{equation*}\n",
    "\n",
    "\n",
    "There are infinitely many choices of $u_0 \\in \\mathbb{R}^4$ for given $q_0 = (x_0,y_0,z_0)$. Among them, we will uniquely determine $u_0 =(u_{1,0}, u_{2,0}, u_{3,0}, u_{4,0})$ by imposing the following conditions:\n",
    "\n",
    "- if $x_0\\geq 0$, \n",
    "\\begin{equation*}\n",
    "u_{1,0} = u_{4,0}, \\quad u_{1,0}, u_{4,0} \\geq 0,\n",
    "\\end{equation*}\n",
    "- if $x_0<0$, \n",
    "\\begin{equation*}\n",
    "u_{2,0} = u_{3,0}, \\quad u_{2,0}, u_{3,0} \\geq 0.\n",
    "\\end{equation*}\n",
    "\n",
    "\n",
    "\n",
    "This uniquely determines a map $\\chi:\\mathbb{R}^3 \\to \\mathbb{R}^4$ such that $u_0 = \\chi(q_0)$.\n",
    " More precisely, given $q = (x,y,z)$ and $r = \\sqrt{x^2+y^2+z^2}$,  \n",
    " $u=(u_1,u_2,u_3,u_4) = \\chi(q)$ is determined as follows:\n",
    "\n",
    "- if $x\\geq 0$, then\n",
    "\\begin{equation*}\n",
    "u_1 = u_4 = \\frac12\\, \\sqrt{r + x}, \\quad \n",
    "u_2 = \\frac{y u_1 + z u_4}{r + x}, \\quad u_3 = \\frac{z u_1 - y u_4}{r + x}, \n",
    "\\end{equation*}\n",
    "- if $x<0$, then \n",
    "\\begin{equation*}\n",
    "u_2 = u_3 = \\frac12\\, \\sqrt{r - x}, \\quad \n",
    "u_1 = \\frac{y u_2 + z u_3}{r - x}, \\quad u_4 = \\frac{z u_2 - y u_3}{r - x}.\n",
    "\\end{equation*}"
   ]
  },
  {
   "cell_type": "code",
   "execution_count": 6,
   "metadata": {},
   "outputs": [
    {
     "data": {
      "text/plain": [
       "χ (generic function with 1 method)"
      ]
     },
     "execution_count": 6,
     "metadata": {},
     "output_type": "execute_result"
    }
   ],
   "source": [
    "function χ(q)\n",
    "    x = q[1]\n",
    "    y = q[2]\n",
    "    z = q[3]\n",
    "    r = sqrt(x^2+y^2+z^2)\n",
    "    if x >= 0\n",
    "        aux = r + x\n",
    "        u1 = 0.5*sqrt(aux)\n",
    "        u4 = u1\n",
    "        u2 = (y*u1 + z*u4)/aux\n",
    "        u3 = (z*u1 - y*u4)/aux\n",
    "    else\n",
    "        aux = r - x\n",
    "        u2 = 0.5*sqrt(aux)\n",
    "        u3 = u2\n",
    "        u1 = (y*u2 + z*u3)/aux\n",
    "        u4 = (z*u2 - y*u3)/aux\n",
    "    end\n",
    "    return [u1, u2, u3, u4]\n",
    "end"
   ]
  },
  {
   "cell_type": "markdown",
   "metadata": {},
   "source": [
    "Hau VOP ekuazio diferentzialen inbariantea da"
   ]
  },
  {
   "cell_type": "code",
   "execution_count": 7,
   "metadata": {},
   "outputs": [
    {
     "data": {
      "text/plain": [
       "Ifcn (generic function with 2 methods)"
      ]
     },
     "execution_count": 7,
     "metadata": {},
     "output_type": "execute_result"
    }
   ],
   "source": [
    "Ifcn(u,w) = u[4]*w[1]-u[3]*w[2]+u[2]*w[3]-u[1]*w[4]\n",
    "Ifcn(U) = Ifcn(U[1:4],U[5:8])"
   ]
  },
  {
   "cell_type": "code",
   "execution_count": 1,
   "metadata": {},
   "outputs": [],
   "source": [
    "#q0 = [0., 37947.73745727695, 0.]\n",
    "#v0 = [3.297676220718193,0., 0.8244190551795483]\n",
    "#μ = 398600.8\n",
    "#h = μ/norm(q0) - 0.5*dot(v0,v0) -  V(q0) \n",
    "#ω = sqrt(h/2)\n",
    "\n",
    "#u0 = χ(q0)\n",
    "#V0 = vcat(v0,[0.])\n",
    "#w0 = 0.5*L(u0)' * V0\n",
    "#r0 = norm(q0)\n",
    "\n",
    "# Konprobazioa:\n",
    "#(norm(L(u0)*u0 - vcat(q0,[0.])), norm(r0*V0 - 2* L(u0) * w0))"
   ]
  },
  {
   "cell_type": "markdown",
   "metadata": {},
   "source": [
    "### VOP formulazioa\n",
    "\n",
    "\n",
    "\n",
    "From now on, we assume that $h>0$, and denote $\\omega=\\sqrt{h/2}$.  The solution $(u(\\tau), w(\\tau))$ of the initial value problem (2) can be written as\n",
    "\n",
    "\\begin{align*}\n",
    "u(\\tau) &= \\cos(\\omega \\tau) \\alpha(\\tau)+ \\omega^{-1} \\sin(\\omega \\tau) \\beta(\\tau),\\\\\n",
    "w(\\tau) &= -\\omega\\, \\sin(\\omega \\tau) \\alpha(\\tau) + \\cos(\\omega \\tau) \\beta(\\tau),\n",
    "\\end{align*}\n",
    "\n",
    "where $\\alpha(\\tau)$ and $\\beta(\\tau)$ are the solutions of the 8-dimensional ODE system\n",
    "\n",
    "\\begin{equation}\n",
    "\\label{eq:odealphabeta}\n",
    "\\begin{split}\n",
    "\\alpha' &=  \\omega^{-1} \\sin(\\omega \\tau) \\nabla R( \\cos(\\omega \\tau) \\alpha+ \\omega^{-1} \\sin(\\omega \\tau) \\beta), \\\\\n",
    "\\beta' &= -\\cos(\\omega \\tau)  \\nabla R( \\cos(\\omega \\tau) \\alpha+ \\omega^{-1} \\sin(\\omega \\tau) \\beta),\n",
    "\\end{split}\n",
    "\\end{equation}\n",
    "\n",
    "supplemented with the initial conditions\n",
    "\n",
    "\\begin{equation*}\n",
    "\\alpha(0) = u_0,  \\quad\n",
    "\\beta(0) = u'_0.\n",
    "\\end{equation*}\n",
    "\n"
   ]
  },
  {
   "cell_type": "code",
   "execution_count": 2,
   "metadata": {},
   "outputs": [],
   "source": [
    "#α0 = u0\n",
    "#β0 = w0\n",
    "#U0 = vcat(α0, β0)\n",
    "#μ = 398600.8\n",
    "#h = μ/norm(q0) - 0.5*dot(v0,v0) -  V(q0)\n",
    "#ω = sqrt(h/2)\n",
    "#C = 1.7554962315534863e10\n",
    "#p = [C, ω, μ];"
   ]
  },
  {
   "cell_type": "code",
   "execution_count": 11,
   "metadata": {},
   "outputs": [
    {
     "data": {
      "text/plain": [
       "J2VOPEnergy (generic function with 1 method)"
      ]
     },
     "execution_count": 11,
     "metadata": {},
     "output_type": "execute_result"
    }
   ],
   "source": [
    "function J2VOPODE!(dU, U, p, τ)  \n",
    "    C = p[1]\n",
    "    ω = p[2]\n",
    "    θ = ω*τ\n",
    "    α1 = U[1]\n",
    "    α2 = U[2]\n",
    "    α3 = U[3]\n",
    "    α4 = U[4]\n",
    "    β1 = U[5]\n",
    "    β2 = U[6]\n",
    "    β3 = U[7]\n",
    "    β4 = U[8]\n",
    "    c = cos(θ)\n",
    "    s = sin(θ)/ω\n",
    "    u1 = c * α1 + s * β1\n",
    "    u2 = c * α2 + s * β2\n",
    "    u3 = c * α3 + s * β3\n",
    "    u3 = c * α3 + s * β3\n",
    "    u4 = c * α4 + s * β4\n",
    "    z = 2*(u1*u3 + u2*u4)\n",
    "    r = u1^2 + u2^2 + u3^2 + u4^2\n",
    "    w = 1/r^3\n",
    "    sinth = z/r\n",
    "    A = 0.5*C*w*(1 - 6*sinth^2)\n",
    "    B = 1.5*C*w*sinth\n",
    "    gradU1 = A*u1+B*u3\n",
    "    gradU2 = A*u2+B*u4\n",
    "    gradU3 = A*u3+B*u1\n",
    "    gradU4 = A*u4+B*u2\n",
    "    dU[1] = s*gradU1\n",
    "    dU[2] = s*gradU2\n",
    "    dU[3] = s*gradU3\n",
    "    dU[4] = s*gradU4\n",
    "    dU[5] = -c*gradU1\n",
    "    dU[6] = -c*gradU2\n",
    "    dU[7] = -c*gradU3\n",
    "    dU[8] = -c*gradU4\n",
    "    return nothing\n",
    "end\n",
    "\n",
    "\n",
    "function J2VOPEnergy(U,p,τ)\n",
    "    C = p[1]\n",
    "    ω = p[2]\n",
    "    μ = p[3]\n",
    "    θ = ω*τ\n",
    "    α1 = U[1]\n",
    "    α2 = U[2]\n",
    "    α3 = U[3]\n",
    "    α4 = U[4]\n",
    "    β1 = U[5]\n",
    "    β2 = U[6]\n",
    "    β3 = U[7]\n",
    "    β4 = U[8]\n",
    "    c = cos(θ)\n",
    "    s = sin(θ)/ω\n",
    "    s_ = -ω^2 * s \n",
    "    u1 = c * α1 + s * β1\n",
    "    u2 = c * α2 + s * β2\n",
    "    u3 = c * α3 + s * β3\n",
    "    u4 = c * α4 + s * β4\n",
    "    w1 = s_ * α1 + c * β1\n",
    "    w2 = s_ * α2 + c * β2\n",
    "    w3 = s_ * α3 + c * β3\n",
    "    w4 = s_ * α4 + c * β4\n",
    "    z = 2*(u1*u3 + u2*u4)\n",
    "    r = u1^2 + u2^2 + u3^2 + u4^2\n",
    "    ww = w1^2 + w2^2 + w3^2 + w4^2\n",
    "    u = [u1,u2,u3,u4]\n",
    "    q = L(u)*u\n",
    "    return 0.5 * (ww + ω^2 * r) + R(u)\n",
    "#    return -μ/r + 2*ww/r +  V(q) \n",
    "end"
   ]
  },
  {
   "cell_type": "code",
   "execution_count": null,
   "metadata": {},
   "outputs": [],
   "source": []
  }
 ],
 "metadata": {
  "@webio": {
   "lastCommId": null,
   "lastKernelId": null
  },
  "kernelspec": {
   "display_name": "Julia 1.6.6",
   "language": "julia",
   "name": "julia-1.6"
  },
  "language_info": {
   "file_extension": ".jl",
   "mimetype": "application/julia",
   "name": "julia",
   "version": "1.6.6"
  }
 },
 "nbformat": 4,
 "nbformat_minor": 2
}
