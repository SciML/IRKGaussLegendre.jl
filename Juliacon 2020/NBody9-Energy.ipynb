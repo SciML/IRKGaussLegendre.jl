{
 "cells": [
  {
   "cell_type": "markdown",
   "metadata": {},
   "source": [
    "# NBody9  Energy conservation"
   ]
  },
  {
   "cell_type": "markdown",
   "metadata": {},
   "source": [
    "<ul id=\"top\">\n",
    "<li><a href=\"#Loading-packages\"> \n",
    "             Loading Packages</a></li>\n",
    "    \n",
    "<li><a href=\"#Computer-properties\"> \n",
    "             Computer properties</a></li>  \n",
    "\n",
    "<li><a href=\"#Initial-value-problem:-NBody9\">\n",
    "             Initial value problem: NBody9</a></li>\n",
    "\n",
    "<li><a href=\"#Test-solution\">\n",
    "             Test solution</a></li>\n",
    "             \n",
    "<li><a href=\"#Work-Precision-diagrams\">\n",
    "             Work-Precision diagrams</a></li> \n",
    "             \n",
    "<li><a href=\"#Save-Data\">\n",
    "            Save Data</a></li>  \n",
    "\n",
    "</ul>  "
   ]
  },
  {
   "cell_type": "markdown",
   "metadata": {},
   "source": [
    "## Loading packages"
   ]
  },
  {
   "cell_type": "code",
   "execution_count": 1,
   "metadata": {},
   "outputs": [],
   "source": [
    "using OrdinaryDiffEq\n",
    "using DiffEqDevTools,BenchmarkTools\n",
    "using IRKGaussLegendre\n",
    "using Plots,LinearAlgebra\n",
    "using Dates,LaTeXStrings\n",
    "using JLD2, FileIO\n",
    "#using RecursiveArrayTools"
   ]
  },
  {
   "cell_type": "code",
   "execution_count": 2,
   "metadata": {},
   "outputs": [],
   "source": [
    "#plotly()"
   ]
  },
  {
   "cell_type": "markdown",
   "metadata": {},
   "source": [
    "<a href=\"#top\">Back to the top</a>\n",
    "\n",
    "## Computer properties"
   ]
  },
  {
   "cell_type": "code",
   "execution_count": 2,
   "metadata": {},
   "outputs": [
    {
     "data": {
      "text/plain": [
       "1"
      ]
     },
     "execution_count": 2,
     "metadata": {},
     "output_type": "execute_result"
    }
   ],
   "source": [
    "#export JULIA_NUM_THREADS=2\n",
    "Threads.nthreads()"
   ]
  },
  {
   "cell_type": "code",
   "execution_count": 4,
   "metadata": {},
   "outputs": [],
   "source": [
    "#;cat /proc/cpuinfo # on Linux machines"
   ]
  },
  {
   "cell_type": "code",
   "execution_count": 3,
   "metadata": {},
   "outputs": [
    {
     "data": {
      "text/plain": [
       "2"
      ]
     },
     "execution_count": 3,
     "metadata": {},
     "output_type": "execute_result"
    }
   ],
   "source": [
    "using Hwloc\n",
    "Hwloc.num_physical_cores()"
   ]
  },
  {
   "cell_type": "markdown",
   "metadata": {},
   "source": [
    "<a href=\"#top\">Back to the top</a>\n",
    "\n",
    "## Initial value problem: NBody-9"
   ]
  },
  {
   "cell_type": "code",
   "execution_count": 4,
   "metadata": {},
   "outputs": [
    {
     "data": {
      "text/plain": [
       "(Array{Float64,3}, Array{Float64,1}, Tuple{Float64,Int64}, Array{BigFloat,3}, Array{BigFloat,1}, Tuple{BigFloat,BigFloat})"
      ]
     },
     "execution_count": 4,
     "metadata": {},
     "output_type": "execute_result"
    }
   ],
   "source": [
    "setprecision(BigFloat, 108);\n",
    "include(\"../examples/Nbody.jl\")\n",
    "include(\"../examples/InitialNBody9.jl\")\n",
    "\n",
    "dt=5\n",
    "t0=0.0\n",
    "t1=10^6\n",
    "\n",
    "\n",
    "u064,Gm64 =InitialNBody9(Float64)\n",
    "lpp=Gm64\n",
    "tspan64=(t0,t1)\n",
    "prob64 = ODEProblem(NbodyODE!,u064,tspan64,Gm64);\n",
    "\n",
    "u0128,Gm128=InitialNBody9(BigFloat)\n",
    "tspan128=(BigFloat(t0),BigFloat(t1))\n",
    "prob128 = ODEProblem(NbodyODE!,u0128,tspan128,Gm128,;lpp=lpp)\n",
    "\n",
    "q064=u064[2,:,:]\n",
    "v064=u064[1,:,:]\n",
    "probdyn64 = DynamicalODEProblem(NbodyODEq!,NbodyODEv!,q064,v064,tspan64,Gm64);\n",
    "prob2nd64 = SecondOrderODEProblem(NbodyODE2nd!,v064,q064,tspan64,Gm64);\n",
    "\n",
    "\n",
    "q0128=u0128[2,:,:]\n",
    "v0128=u0128[1,:,:]\n",
    "probdyn128 = DynamicalODEProblem(NbodyODEq!,NbodyODEv!,q0128,v0128,tspan128,Gm128);\n",
    "prob2nd128 = SecondOrderODEProblem(NbodyODE2nd!,v0128,q0128,tspan128,Gm128);\n",
    "\n",
    "\n",
    "mysaveat=1000\n",
    "vsaveat=100.;\n",
    "\n",
    "(typeof(u064),typeof(Gm64),typeof(tspan64),typeof(u0128),typeof(Gm128),typeof(tspan128))"
   ]
  },
  {
   "cell_type": "markdown",
   "metadata": {},
   "source": [
    "<a href=\"#top\">Back to the top</a>\n",
    "\n",
    "## Initial energy"
   ]
  },
  {
   "cell_type": "code",
   "execution_count": 4,
   "metadata": {},
   "outputs": [
    {
     "data": {
      "text/plain": [
       "-9.831951850714509861613682908577622008275351805284600444356653442764997668898217e-12"
      ]
     },
     "execution_count": 4,
     "metadata": {},
     "output_type": "execute_result"
    }
   ],
   "source": [
    "setprecision(BigFloat, 256)\n",
    "\n",
    "u0256,Gm256=InitialNBody9(BigFloat)\n",
    "\n",
    "E0=NbodyEnergy(u0256,Gm256)\n"
   ]
  },
  {
   "cell_type": "markdown",
   "metadata": {},
   "source": [
    "<a href=\"#top\">Back to the top</a>\n",
    "\n",
    "## Energy errors"
   ]
  },
  {
   "cell_type": "code",
   "execution_count": 5,
   "metadata": {},
   "outputs": [
    {
     "data": {
      "text/plain": [
       "DiffEqBase.DEStats\n",
       "Number of function 1 evaluations:                  8774711\n",
       "Number of function 2 evaluations:                  0\n",
       "Number of W matrix evaluations:                    0\n",
       "Number of linear solves:                           0\n",
       "Number of Jacobians created:                       0\n",
       "Number of nonlinear solver iterations:             0\n",
       "Number of nonlinear solver convergence failures:   0\n",
       "Number of rootfind condition calls:                0\n",
       "Number of accepted steps:                          200000\n",
       "Number of rejected steps:                          0"
      ]
     },
     "execution_count": 5,
     "metadata": {},
     "output_type": "execute_result"
    }
   ],
   "source": [
    "sol1= solve(probdyn64,IRKGL16(),adaptive=false, mixed_precision=false, dt=5,saveat=mysaveat)\n",
    "sol1.destats"
   ]
  },
  {
   "cell_type": "code",
   "execution_count": 6,
   "metadata": {},
   "outputs": [
    {
     "data": {
      "text/plain": [
       "DiffEqBase.DEStats\n",
       "Number of function 1 evaluations:                  907\n",
       "Number of function 2 evaluations:                  0\n",
       "Number of W matrix evaluations:                    0\n",
       "Number of linear solves:                           0\n",
       "Number of Jacobians created:                       0\n",
       "Number of nonlinear solver iterations:             0\n",
       "Number of nonlinear solver convergence failures:   0\n",
       "Number of rootfind condition calls:                0\n",
       "Number of accepted steps:                          20\n",
       "Number of rejected steps:                          0"
      ]
     },
     "execution_count": 6,
     "metadata": {},
     "output_type": "execute_result"
    }
   ],
   "source": [
    "sol2= solve(probdyn64,IRKGL16(),adaptive=false, mixed_precision=true, dt=5, saveat=mysaveat)\n",
    "sol2.destats"
   ]
  },
  {
   "cell_type": "code",
   "execution_count": 7,
   "metadata": {},
   "outputs": [
    {
     "data": {
      "text/plain": [
       "DiffEqBase.DEStats\n",
       "Number of function 1 evaluations:                  2034\n",
       "Number of function 2 evaluations:                  0\n",
       "Number of W matrix evaluations:                    0\n",
       "Number of linear solves:                           0\n",
       "Number of Jacobians created:                       0\n",
       "Number of nonlinear solver iterations:             0\n",
       "Number of nonlinear solver convergence failures:   0\n",
       "Number of rootfind condition calls:                0\n",
       "Number of accepted steps:                          118\n",
       "Number of rejected steps:                          9"
      ]
     },
     "execution_count": 7,
     "metadata": {},
     "output_type": "execute_result"
    }
   ],
   "source": [
    "sol11 =solve(probdyn64,Vern9(), abstol=1e-16,reltol=1e-16) #saveat=vsaveat)\n",
    "sol11.destats"
   ]
  },
  {
   "cell_type": "code",
   "execution_count": 8,
   "metadata": {},
   "outputs": [
    {
     "data": {
      "text/plain": [
       "DiffEqBase.DEStats\n",
       "Number of function 1 evaluations:                  819\n",
       "Number of function 2 evaluations:                  49\n",
       "Number of W matrix evaluations:                    0\n",
       "Number of linear solves:                           0\n",
       "Number of Jacobians created:                       0\n",
       "Number of nonlinear solver iterations:             0\n",
       "Number of nonlinear solver convergence failures:   0\n",
       "Number of rootfind condition calls:                0\n",
       "Number of accepted steps:                          47\n",
       "Number of rejected steps:                          1"
      ]
     },
     "execution_count": 8,
     "metadata": {},
     "output_type": "execute_result"
    }
   ],
   "source": [
    "sol21= solve(prob2nd64,DPRKN12(),abstol=1e-16,reltol=1e-16) #saveat=vsaveat)\n",
    "sol21.destats"
   ]
  },
  {
   "cell_type": "code",
   "execution_count": 9,
   "metadata": {},
   "outputs": [
    {
     "data": {
      "text/plain": [
       "(2.3898193f-16, 2.3898193f-16, 5.5293517f-16, 7.621934f-16)"
      ]
     },
     "execution_count": 9,
     "metadata": {},
     "output_type": "execute_result"
    }
   ],
   "source": [
    "k=1000\n",
    "ΔE1 = map(x->NbodyEnergy2(BigFloat.(x),Gm256), sol1.u)./E0.-1\n",
    "ΔE2 = map(x->NbodyEnergy2(BigFloat.(x),Gm256), sol2.u)./E0.-1\n",
    "ΔE11 = map(x->NbodyEnergy2(BigFloat.(x),Gm256), sol11.u[1:k:end])./E0.-1\n",
    "ΔE21 = map(x->NbodyEnergy(BigFloat.(x),Gm256), sol21.u[1:k:end])./E0.-1\n",
    "(Float32(maximum(abs.(ΔE1))),Float32(maximum(abs.(ΔE1))),Float32(maximum(abs.(ΔE11))), Float32(maximum(abs.(ΔE21))))"
   ]
  },
  {
   "cell_type": "code",
   "execution_count": 10,
   "metadata": {},
   "outputs": [
    {
     "data": {
      "image/svg+xml": [
       "<?xml version=\"1.0\" encoding=\"utf-8\"?>\n",
       "<svg xmlns=\"http://www.w3.org/2000/svg\" xmlns:xlink=\"http://www.w3.org/1999/xlink\" width=\"600\" height=\"400\" viewBox=\"0 0 2400 1600\">\n",
       "<defs>\n",
       "  <clipPath id=\"clip9400\">\n",
       "    <rect x=\"0\" y=\"0\" width=\"2400\" height=\"1600\"/>\n",
       "  </clipPath>\n",
       "</defs>\n",
       "<path clip-path=\"url(#clip9400)\" d=\"\n",
       "M0 1600 L2400 1600 L2400 0 L0 0  Z\n",
       "  \" fill=\"#ffffff\" fill-rule=\"evenodd\" fill-opacity=\"1\"/>\n",
       "<defs>\n",
       "  <clipPath id=\"clip9401\">\n",
       "    <rect x=\"480\" y=\"0\" width=\"1681\" height=\"1600\"/>\n",
       "  </clipPath>\n",
       "</defs>\n",
       "<path clip-path=\"url(#clip9400)\" d=\"\n",
       "M270.627 1425.62 L2352.76 1425.62 L2352.76 121.675 L270.627 121.675  Z\n",
       "  \" fill=\"#ffffff\" fill-rule=\"evenodd\" fill-opacity=\"1\"/>\n",
       "<defs>\n",
       "  <clipPath id=\"clip9402\">\n",
       "    <rect x=\"270\" y=\"121\" width=\"2083\" height=\"1305\"/>\n",
       "  </clipPath>\n",
       "</defs>\n",
       "<polyline clip-path=\"url(#clip9402)\" style=\"stroke:#000000; stroke-width:2; stroke-opacity:0.1; fill:none\" points=\"\n",
       "  329.555,1425.62 329.555,121.675 \n",
       "  \"/>\n",
       "<polyline clip-path=\"url(#clip9402)\" style=\"stroke:#000000; stroke-width:2; stroke-opacity:0.1; fill:none\" points=\"\n",
       "  820.623,1425.62 820.623,121.675 \n",
       "  \"/>\n",
       "<polyline clip-path=\"url(#clip9402)\" style=\"stroke:#000000; stroke-width:2; stroke-opacity:0.1; fill:none\" points=\"\n",
       "  1311.69,1425.62 1311.69,121.675 \n",
       "  \"/>\n",
       "<polyline clip-path=\"url(#clip9402)\" style=\"stroke:#000000; stroke-width:2; stroke-opacity:0.1; fill:none\" points=\"\n",
       "  1802.76,1425.62 1802.76,121.675 \n",
       "  \"/>\n",
       "<polyline clip-path=\"url(#clip9402)\" style=\"stroke:#000000; stroke-width:2; stroke-opacity:0.1; fill:none\" points=\"\n",
       "  2293.83,1425.62 2293.83,121.675 \n",
       "  \"/>\n",
       "<polyline clip-path=\"url(#clip9402)\" style=\"stroke:#000000; stroke-width:2; stroke-opacity:0.1; fill:none\" points=\"\n",
       "  270.627,1251.89 2352.76,1251.89 \n",
       "  \"/>\n",
       "<polyline clip-path=\"url(#clip9402)\" style=\"stroke:#000000; stroke-width:2; stroke-opacity:0.1; fill:none\" points=\"\n",
       "  270.627,1022.4 2352.76,1022.4 \n",
       "  \"/>\n",
       "<polyline clip-path=\"url(#clip9402)\" style=\"stroke:#000000; stroke-width:2; stroke-opacity:0.1; fill:none\" points=\"\n",
       "  270.627,792.911 2352.76,792.911 \n",
       "  \"/>\n",
       "<polyline clip-path=\"url(#clip9402)\" style=\"stroke:#000000; stroke-width:2; stroke-opacity:0.1; fill:none\" points=\"\n",
       "  270.627,563.424 2352.76,563.424 \n",
       "  \"/>\n",
       "<polyline clip-path=\"url(#clip9402)\" style=\"stroke:#000000; stroke-width:2; stroke-opacity:0.1; fill:none\" points=\"\n",
       "  270.627,333.937 2352.76,333.937 \n",
       "  \"/>\n",
       "<polyline clip-path=\"url(#clip9400)\" style=\"stroke:#000000; stroke-width:4; stroke-opacity:1; fill:none\" points=\"\n",
       "  270.627,1425.62 2352.76,1425.62 \n",
       "  \"/>\n",
       "<polyline clip-path=\"url(#clip9400)\" style=\"stroke:#000000; stroke-width:4; stroke-opacity:1; fill:none\" points=\"\n",
       "  270.627,1425.62 270.627,121.675 \n",
       "  \"/>\n",
       "<polyline clip-path=\"url(#clip9400)\" style=\"stroke:#000000; stroke-width:4; stroke-opacity:1; fill:none\" points=\"\n",
       "  329.555,1425.62 329.555,1409.97 \n",
       "  \"/>\n",
       "<polyline clip-path=\"url(#clip9400)\" style=\"stroke:#000000; stroke-width:4; stroke-opacity:1; fill:none\" points=\"\n",
       "  820.623,1425.62 820.623,1409.97 \n",
       "  \"/>\n",
       "<polyline clip-path=\"url(#clip9400)\" style=\"stroke:#000000; stroke-width:4; stroke-opacity:1; fill:none\" points=\"\n",
       "  1311.69,1425.62 1311.69,1409.97 \n",
       "  \"/>\n",
       "<polyline clip-path=\"url(#clip9400)\" style=\"stroke:#000000; stroke-width:4; stroke-opacity:1; fill:none\" points=\"\n",
       "  1802.76,1425.62 1802.76,1409.97 \n",
       "  \"/>\n",
       "<polyline clip-path=\"url(#clip9400)\" style=\"stroke:#000000; stroke-width:4; stroke-opacity:1; fill:none\" points=\"\n",
       "  2293.83,1425.62 2293.83,1409.97 \n",
       "  \"/>\n",
       "<polyline clip-path=\"url(#clip9400)\" style=\"stroke:#000000; stroke-width:4; stroke-opacity:1; fill:none\" points=\"\n",
       "  270.627,1251.89 295.612,1251.89 \n",
       "  \"/>\n",
       "<polyline clip-path=\"url(#clip9400)\" style=\"stroke:#000000; stroke-width:4; stroke-opacity:1; fill:none\" points=\"\n",
       "  270.627,1022.4 295.612,1022.4 \n",
       "  \"/>\n",
       "<polyline clip-path=\"url(#clip9400)\" style=\"stroke:#000000; stroke-width:4; stroke-opacity:1; fill:none\" points=\"\n",
       "  270.627,792.911 295.612,792.911 \n",
       "  \"/>\n",
       "<polyline clip-path=\"url(#clip9400)\" style=\"stroke:#000000; stroke-width:4; stroke-opacity:1; fill:none\" points=\"\n",
       "  270.627,563.424 295.612,563.424 \n",
       "  \"/>\n",
       "<polyline clip-path=\"url(#clip9400)\" style=\"stroke:#000000; stroke-width:4; stroke-opacity:1; fill:none\" points=\"\n",
       "  270.627,333.937 295.612,333.937 \n",
       "  \"/>\n",
       "<g clip-path=\"url(#clip9400)\">\n",
       "<text style=\"fill:#000000; fill-opacity:1; font-family:Arial,Helvetica Neue,Helvetica,sans-serif; font-size:48px; text-anchor:middle;\" transform=\"rotate(0, 329.555, 1479.62)\" x=\"329.555\" y=\"1479.62\">0</text>\n",
       "</g>\n",
       "<g clip-path=\"url(#clip9400)\">\n",
       "<text style=\"fill:#000000; fill-opacity:1; font-family:Arial,Helvetica Neue,Helvetica,sans-serif; font-size:48px; text-anchor:middle;\" transform=\"rotate(0, 820.623, 1479.62)\" x=\"820.623\" y=\"1479.62\">25</text>\n",
       "</g>\n",
       "<g clip-path=\"url(#clip9400)\">\n",
       "<text style=\"fill:#000000; fill-opacity:1; font-family:Arial,Helvetica Neue,Helvetica,sans-serif; font-size:48px; text-anchor:middle;\" transform=\"rotate(0, 1311.69, 1479.62)\" x=\"1311.69\" y=\"1479.62\">50</text>\n",
       "</g>\n",
       "<g clip-path=\"url(#clip9400)\">\n",
       "<text style=\"fill:#000000; fill-opacity:1; font-family:Arial,Helvetica Neue,Helvetica,sans-serif; font-size:48px; text-anchor:middle;\" transform=\"rotate(0, 1802.76, 1479.62)\" x=\"1802.76\" y=\"1479.62\">75</text>\n",
       "</g>\n",
       "<g clip-path=\"url(#clip9400)\">\n",
       "<text style=\"fill:#000000; fill-opacity:1; font-family:Arial,Helvetica Neue,Helvetica,sans-serif; font-size:48px; text-anchor:middle;\" transform=\"rotate(0, 2293.83, 1479.62)\" x=\"2293.83\" y=\"1479.62\">100</text>\n",
       "</g>\n",
       "<g clip-path=\"url(#clip9400)\">\n",
       "<text style=\"fill:#000000; fill-opacity:1; font-family:Arial,Helvetica Neue,Helvetica,sans-serif; font-size:48px; text-anchor:end;\" transform=\"rotate(0, 246.627, 1269.39)\" x=\"246.627\" y=\"1269.39\">-17.5</text>\n",
       "</g>\n",
       "<g clip-path=\"url(#clip9400)\">\n",
       "<text style=\"fill:#000000; fill-opacity:1; font-family:Arial,Helvetica Neue,Helvetica,sans-serif; font-size:48px; text-anchor:end;\" transform=\"rotate(0, 246.627, 1039.9)\" x=\"246.627\" y=\"1039.9\">-17.0</text>\n",
       "</g>\n",
       "<g clip-path=\"url(#clip9400)\">\n",
       "<text style=\"fill:#000000; fill-opacity:1; font-family:Arial,Helvetica Neue,Helvetica,sans-serif; font-size:48px; text-anchor:end;\" transform=\"rotate(0, 246.627, 810.411)\" x=\"246.627\" y=\"810.411\">-16.5</text>\n",
       "</g>\n",
       "<g clip-path=\"url(#clip9400)\">\n",
       "<text style=\"fill:#000000; fill-opacity:1; font-family:Arial,Helvetica Neue,Helvetica,sans-serif; font-size:48px; text-anchor:end;\" transform=\"rotate(0, 246.627, 580.924)\" x=\"246.627\" y=\"580.924\">-16.0</text>\n",
       "</g>\n",
       "<g clip-path=\"url(#clip9400)\">\n",
       "<text style=\"fill:#000000; fill-opacity:1; font-family:Arial,Helvetica Neue,Helvetica,sans-serif; font-size:48px; text-anchor:end;\" transform=\"rotate(0, 246.627, 351.437)\" x=\"246.627\" y=\"351.437\">-15.5</text>\n",
       "</g>\n",
       "<g clip-path=\"url(#clip9400)\">\n",
       "<text style=\"fill:#000000; fill-opacity:1; font-family:Arial,Helvetica Neue,Helvetica,sans-serif; font-size:84px; text-anchor:middle;\" transform=\"rotate(0, 1311.69, 73.2)\" x=\"1311.69\" y=\"73.2\">Energy conservation</text>\n",
       "</g>\n",
       "<g clip-path=\"url(#clip9400)\">\n",
       "<text style=\"fill:#000000; fill-opacity:1; font-family:Arial,Helvetica Neue,Helvetica,sans-serif; font-size:66px; text-anchor:middle;\" transform=\"rotate(0, 1311.69, 1559.48)\" x=\"1311.69\" y=\"1559.48\">t</text>\n",
       "</g>\n",
       "<g clip-path=\"url(#clip9400)\">\n",
       "<text style=\"fill:#000000; fill-opacity:1; font-family:Arial,Helvetica Neue,Helvetica,sans-serif; font-size:66px; text-anchor:middle;\" transform=\"rotate(-90, 89.2861, 773.647)\" x=\"89.2861\" y=\"773.647\">?E</text>\n",
       "</g>\n",
       "<polyline clip-path=\"url(#clip9402)\" style=\"stroke:#ff0000; stroke-width:4; stroke-opacity:1; fill:none\" points=\"\n",
       "  329.555,626.135 427.768,587.245 525.982,901.153 624.196,487.699 722.409,653.937 820.623,589.581 918.837,669.147 1017.05,576.765 1115.26,544.63 1213.48,495.224 \n",
       "  1311.69,850.406 1409.9,617.186 1508.12,424.093 1606.33,485.541 1704.55,543.586 1802.76,389.764 1900.97,838.456 1999.19,612.328 2097.4,545.003 2195.61,619.207 \n",
       "  2293.83,481.373 \n",
       "  \"/>\n",
       "<polyline clip-path=\"url(#clip9402)\" style=\"stroke:#000000; stroke-width:4; stroke-opacity:1; fill:none\" points=\"\n",
       "  329.555,626.135 427.768,587.245 525.982,901.153 624.196,487.699 722.409,653.937 820.623,589.581 918.837,669.147 1017.05,576.765 1115.26,544.63 1213.48,495.224 \n",
       "  1311.69,850.406 1409.9,617.186 1508.12,424.093 1606.33,485.541 1704.55,543.586 1802.76,389.764 1900.97,838.456 1999.19,612.328 2097.4,545.003 2195.61,619.207 \n",
       "  2293.83,481.373 \n",
       "  \"/>\n",
       "<polyline clip-path=\"url(#clip9402)\" style=\"stroke:#0000ff; stroke-width:4; stroke-opacity:1; fill:none\" points=\"\n",
       "  329.555,626.135 329.563,848.743 329.59,493.212 329.659,574.291 329.819,801.859 330.154,562.375 330.785,649.038 331.883,1028.85 333.573,1385.15 335.881,789.952 \n",
       "  338.916,891.399 342.723,783.208 347.847,997.997 353.812,794.71 360.469,494.061 369.378,466.531 378.429,460.233 388.958,342.374 401.352,339.006 416.112,408.582 \n",
       "  430.935,357.586 446.281,403.132 461.901,351.985 476.895,353.834 493.156,303.468 507.706,285.064 523.823,295.156 537.885,368.29 554.056,410.79 567.276,348.724 \n",
       "  582.316,386.957 594.792,534.252 610.612,568.806 622.599,471.333 638.421,480.966 650.24,410.522 665.489,329.5 677.848,406.786 693.526,315.81 705.699,314.523 \n",
       "  721.372,287.323 733.574,296.295 750.035,406.561 762.327,494.128 778.048,448.054 790.302,433.655 806.862,355.238 819.63,447.959 837.613,653.841 850.371,559.738 \n",
       "  868.855,426.476 882.222,438.399 899.969,379.423 913.9,438.829 933.099,619.366 947.412,549.537 967.957,504.973 982.044,658.149 1001.32,447.761 1016.32,526.554 \n",
       "  1035.45,524.267 1051.82,508.621 1073.63,617.985 1089.62,583.198 1110.88,626.242 1127.27,490.53 1149.42,551.024 1167.5,568.037 1191.07,424.367 1210.21,329.638 \n",
       "  1236.31,315.977 1255.48,255.94 1283.25,222.556 1303.01,263.857 1331.83,294.836 1352.42,294.891 1383.29,352.718 1404.07,346.34 1435.75,460.445 1457.38,546.765 \n",
       "  1488.41,667.11 1511.64,442.826 1543.19,704.722 1567.02,695.85 1599.03,735.864 1622.93,1054.04 1652.67,530.544 1676.74,560.36 1706.64,461.923 1730.31,481.779 \n",
       "  1760.48,568.562 1782.81,646.772 1808.8,733.578 1830.52,1072.58 1855.71,1388.71 1877.99,663.89 1903.04,503.869 1924.18,377.866 1948.7,340.161 1968.83,439.415 \n",
       "  1992.56,446.424 2011.61,367.531 2034.89,317.328 2052.54,314.959 2072.61,275.926 2089.87,319.69 2110.23,416.83 2126.34,597.774 2146.14,525.2 2161.34,1031.3 \n",
       "  2178.45,793.464 2193.16,588.896 2210.39,765.191 2224.58,463.876 2241.38,800.936 2255.15,612.251 2271.52,581.516 2284.94,461.122 2293.83,442.506 \n",
       "  \"/>\n",
       "<polyline clip-path=\"url(#clip9402)\" style=\"stroke:#008000; stroke-width:4; stroke-opacity:1; fill:none\" points=\"\n",
       "  329.555,626.135 329.614,619.14 329.798,521.411 330.298,497.011 331.353,716.613 333.479,755.733 337.766,493.521 346.426,450.499 362.226,525.939 387.848,1054.43 \n",
       "  423.744,822.963 461.331,625.238 499.285,412.686 538.982,385.211 578.557,284.578 613.625,269.623 650.33,233.989 684.856,279.426 724.475,229.574 757.814,218.171 \n",
       "  795.486,224.726 829.208,214.654 870.257,244.384 908.93,200.043 950.888,200.967 991.153,216.298 1036.28,265.7 1080.61,289.427 1132.09,286.135 1185.19,335.63 \n",
       "  1246.15,287.768 1305.38,294.733 1372.75,246.928 1438.97,281.104 1514.79,212.314 1587.08,163.432 1666.78,166.999 1737.71,203.006 1813.67,200.789 1879.65,207.116 \n",
       "  1949.68,243.563 2011.37,211.612 2065.43,180.35 2116.24,186.002 2162.37,194.291 2207.41,205.487 2250.36,183.388 2293.83,158.579 \n",
       "  \"/>\n",
       "<path clip-path=\"url(#clip9400)\" d=\"\n",
       "M1729.09 507.595 L2280.76 507.595 L2280.76 205.195 L1729.09 205.195  Z\n",
       "  \" fill=\"#ffffff\" fill-rule=\"evenodd\" fill-opacity=\"1\"/>\n",
       "<polyline clip-path=\"url(#clip9400)\" style=\"stroke:#000000; stroke-width:4; stroke-opacity:1; fill:none\" points=\"\n",
       "  1729.09,507.595 2280.76,507.595 2280.76,205.195 1729.09,205.195 1729.09,507.595 \n",
       "  \"/>\n",
       "<polyline clip-path=\"url(#clip9400)\" style=\"stroke:#ff0000; stroke-width:4; stroke-opacity:1; fill:none\" points=\"\n",
       "  1753.09,265.675 1897.09,265.675 \n",
       "  \"/>\n",
       "<g clip-path=\"url(#clip9400)\">\n",
       "<text style=\"fill:#000000; fill-opacity:1; font-family:Arial,Helvetica Neue,Helvetica,sans-serif; font-size:48px; text-anchor:start;\" transform=\"rotate(0, 1921.09, 283.175)\" x=\"1921.09\" y=\"283.175\">IRKGL16</text>\n",
       "</g>\n",
       "<polyline clip-path=\"url(#clip9400)\" style=\"stroke:#000000; stroke-width:4; stroke-opacity:1; fill:none\" points=\"\n",
       "  1753.09,326.155 1897.09,326.155 \n",
       "  \"/>\n",
       "<g clip-path=\"url(#clip9400)\">\n",
       "<text style=\"fill:#000000; fill-opacity:1; font-family:Arial,Helvetica Neue,Helvetica,sans-serif; font-size:48px; text-anchor:start;\" transform=\"rotate(0, 1921.09, 343.655)\" x=\"1921.09\" y=\"343.655\">IRKGL16-MIX</text>\n",
       "</g>\n",
       "<polyline clip-path=\"url(#clip9400)\" style=\"stroke:#0000ff; stroke-width:4; stroke-opacity:1; fill:none\" points=\"\n",
       "  1753.09,386.635 1897.09,386.635 \n",
       "  \"/>\n",
       "<g clip-path=\"url(#clip9400)\">\n",
       "<text style=\"fill:#000000; fill-opacity:1; font-family:Arial,Helvetica Neue,Helvetica,sans-serif; font-size:48px; text-anchor:start;\" transform=\"rotate(0, 1921.09, 404.135)\" x=\"1921.09\" y=\"404.135\">Vern9</text>\n",
       "</g>\n",
       "<polyline clip-path=\"url(#clip9400)\" style=\"stroke:#008000; stroke-width:4; stroke-opacity:1; fill:none\" points=\"\n",
       "  1753.09,447.115 1897.09,447.115 \n",
       "  \"/>\n",
       "<g clip-path=\"url(#clip9400)\">\n",
       "<text style=\"fill:#000000; fill-opacity:1; font-family:Arial,Helvetica Neue,Helvetica,sans-serif; font-size:48px; text-anchor:start;\" transform=\"rotate(0, 1921.09, 464.615)\" x=\"1921.09\" y=\"464.615\">DPRKN12</text>\n",
       "</g>\n",
       "</svg>\n"
      ]
     },
     "execution_count": 10,
     "metadata": {},
     "output_type": "execute_result"
    }
   ],
   "source": [
    "plot(title=\"Energy conservation\", xlabel=\"t\", ylabel=\"ΔE\")\n",
    "plot!(sol1.t,log10.(abs.(ΔE1)), label=\"IRKGL16\", color=\"red\")\n",
    "plot!(sol2.t,log10.(abs.(ΔE2)), label=\"IRKGL16-MIX\", color=\"black\")\n",
    "plot!(sol11.t[1:k:end],log10.(abs.(ΔE11)), label=\"Vern9\", color=\"blue\")\n",
    "plot!(sol21.t[1:k:end],log10.(abs.(ΔE21)), label=\"DPRKN12\", color=\"green\")"
   ]
  },
  {
   "cell_type": "markdown",
   "metadata": {},
   "source": [
    "<a href=\"#top\">Back to the top</a>"
   ]
  },
  {
   "cell_type": "markdown",
   "metadata": {},
   "source": [
    "### CPU TIME"
   ]
  },
  {
   "cell_type": "code",
   "execution_count": 7,
   "metadata": {},
   "outputs": [
    {
     "name": "stdout",
     "output_type": "stream",
     "text": [
      "  360.880 s (3961390047 allocations: 357.04 GiB)\n"
     ]
    }
   ],
   "source": [
    "s=@btime(solve(probdyn64,IRKGL16(),adaptive=false, mixed_precision=false, dt=5,save_everystep=false));"
   ]
  },
  {
   "cell_type": "code",
   "execution_count": null,
   "metadata": {},
   "outputs": [],
   "source": [
    "s=@btime(solve(prob2nd64,DPRKN12(),abstol=1e-16,reltol=1e-16,save_everystep=false));"
   ]
  },
  {
   "cell_type": "markdown",
   "metadata": {},
   "source": [
    "## Planets orbits"
   ]
  },
  {
   "cell_type": "code",
   "execution_count": 16,
   "metadata": {},
   "outputs": [
    {
     "data": {
      "image/svg+xml": [
       "<?xml version=\"1.0\" encoding=\"utf-8\"?>\n",
       "<svg xmlns=\"http://www.w3.org/2000/svg\" xmlns:xlink=\"http://www.w3.org/1999/xlink\" width=\"600\" height=\"400\" viewBox=\"0 0 2400 1600\">\n",
       "<defs>\n",
       "  <clipPath id=\"clip1300\">\n",
       "    <rect x=\"0\" y=\"0\" width=\"2400\" height=\"1600\"/>\n",
       "  </clipPath>\n",
       "</defs>\n",
       "<path clip-path=\"url(#clip1300)\" d=\"\n",
       "M0 1600 L2400 1600 L2400 0 L0 0  Z\n",
       "  \" fill=\"#ffffff\" fill-rule=\"evenodd\" fill-opacity=\"1\"/>\n",
       "<defs>\n",
       "  <clipPath id=\"clip1301\">\n",
       "    <rect x=\"480\" y=\"0\" width=\"1681\" height=\"1600\"/>\n",
       "  </clipPath>\n",
       "</defs>\n",
       "<path clip-path=\"url(#clip1300)\" d=\"\n",
       "M208.77 1487.47 L2352.76 1487.47 L2352.76 121.675 L208.77 121.675  Z\n",
       "  \" fill=\"#ffffff\" fill-rule=\"evenodd\" fill-opacity=\"1\"/>\n",
       "<defs>\n",
       "  <clipPath id=\"clip1302\">\n",
       "    <rect x=\"208\" y=\"121\" width=\"2145\" height=\"1367\"/>\n",
       "  </clipPath>\n",
       "</defs>\n",
       "<polyline clip-path=\"url(#clip1302)\" style=\"stroke:#000000; stroke-width:2; stroke-opacity:0.1; fill:none\" points=\"\n",
       "  393.661,1487.47 393.661,121.675 \n",
       "  \"/>\n",
       "<polyline clip-path=\"url(#clip1302)\" style=\"stroke:#000000; stroke-width:2; stroke-opacity:0.1; fill:none\" points=\"\n",
       "  910.479,1487.47 910.479,121.675 \n",
       "  \"/>\n",
       "<polyline clip-path=\"url(#clip1302)\" style=\"stroke:#000000; stroke-width:2; stroke-opacity:0.1; fill:none\" points=\"\n",
       "  1427.3,1487.47 1427.3,121.675 \n",
       "  \"/>\n",
       "<polyline clip-path=\"url(#clip1302)\" style=\"stroke:#000000; stroke-width:2; stroke-opacity:0.1; fill:none\" points=\"\n",
       "  1944.12,1487.47 1944.12,121.675 \n",
       "  \"/>\n",
       "<polyline clip-path=\"url(#clip1302)\" style=\"stroke:#000000; stroke-width:2; stroke-opacity:0.1; fill:none\" points=\"\n",
       "  208.77,1342.24 2352.76,1342.24 \n",
       "  \"/>\n",
       "<polyline clip-path=\"url(#clip1302)\" style=\"stroke:#000000; stroke-width:2; stroke-opacity:0.1; fill:none\" points=\"\n",
       "  208.77,1083.83 2352.76,1083.83 \n",
       "  \"/>\n",
       "<polyline clip-path=\"url(#clip1302)\" style=\"stroke:#000000; stroke-width:2; stroke-opacity:0.1; fill:none\" points=\"\n",
       "  208.77,825.417 2352.76,825.417 \n",
       "  \"/>\n",
       "<polyline clip-path=\"url(#clip1302)\" style=\"stroke:#000000; stroke-width:2; stroke-opacity:0.1; fill:none\" points=\"\n",
       "  208.77,567.008 2352.76,567.008 \n",
       "  \"/>\n",
       "<polyline clip-path=\"url(#clip1302)\" style=\"stroke:#000000; stroke-width:2; stroke-opacity:0.1; fill:none\" points=\"\n",
       "  208.77,308.598 2352.76,308.598 \n",
       "  \"/>\n",
       "<polyline clip-path=\"url(#clip1300)\" style=\"stroke:#000000; stroke-width:4; stroke-opacity:1; fill:none\" points=\"\n",
       "  208.77,1487.47 2352.76,1487.47 \n",
       "  \"/>\n",
       "<polyline clip-path=\"url(#clip1300)\" style=\"stroke:#000000; stroke-width:4; stroke-opacity:1; fill:none\" points=\"\n",
       "  208.77,1487.47 208.77,121.675 \n",
       "  \"/>\n",
       "<polyline clip-path=\"url(#clip1300)\" style=\"stroke:#000000; stroke-width:4; stroke-opacity:1; fill:none\" points=\"\n",
       "  393.661,1487.47 393.661,1471.09 \n",
       "  \"/>\n",
       "<polyline clip-path=\"url(#clip1300)\" style=\"stroke:#000000; stroke-width:4; stroke-opacity:1; fill:none\" points=\"\n",
       "  910.479,1487.47 910.479,1471.09 \n",
       "  \"/>\n",
       "<polyline clip-path=\"url(#clip1300)\" style=\"stroke:#000000; stroke-width:4; stroke-opacity:1; fill:none\" points=\"\n",
       "  1427.3,1487.47 1427.3,1471.09 \n",
       "  \"/>\n",
       "<polyline clip-path=\"url(#clip1300)\" style=\"stroke:#000000; stroke-width:4; stroke-opacity:1; fill:none\" points=\"\n",
       "  1944.12,1487.47 1944.12,1471.09 \n",
       "  \"/>\n",
       "<polyline clip-path=\"url(#clip1300)\" style=\"stroke:#000000; stroke-width:4; stroke-opacity:1; fill:none\" points=\"\n",
       "  208.77,1342.24 234.498,1342.24 \n",
       "  \"/>\n",
       "<polyline clip-path=\"url(#clip1300)\" style=\"stroke:#000000; stroke-width:4; stroke-opacity:1; fill:none\" points=\"\n",
       "  208.77,1083.83 234.498,1083.83 \n",
       "  \"/>\n",
       "<polyline clip-path=\"url(#clip1300)\" style=\"stroke:#000000; stroke-width:4; stroke-opacity:1; fill:none\" points=\"\n",
       "  208.77,825.417 234.498,825.417 \n",
       "  \"/>\n",
       "<polyline clip-path=\"url(#clip1300)\" style=\"stroke:#000000; stroke-width:4; stroke-opacity:1; fill:none\" points=\"\n",
       "  208.77,567.008 234.498,567.008 \n",
       "  \"/>\n",
       "<polyline clip-path=\"url(#clip1300)\" style=\"stroke:#000000; stroke-width:4; stroke-opacity:1; fill:none\" points=\"\n",
       "  208.77,308.598 234.498,308.598 \n",
       "  \"/>\n",
       "<g clip-path=\"url(#clip1300)\">\n",
       "<text style=\"fill:#000000; fill-opacity:1; font-family:Arial,Helvetica Neue,Helvetica,sans-serif; font-size:48px; text-anchor:middle;\" transform=\"rotate(0, 393.661, 1541.47)\" x=\"393.661\" y=\"1541.47\">-0.04</text>\n",
       "</g>\n",
       "<g clip-path=\"url(#clip1300)\">\n",
       "<text style=\"fill:#000000; fill-opacity:1; font-family:Arial,Helvetica Neue,Helvetica,sans-serif; font-size:48px; text-anchor:middle;\" transform=\"rotate(0, 910.479, 1541.47)\" x=\"910.479\" y=\"1541.47\">-0.02</text>\n",
       "</g>\n",
       "<g clip-path=\"url(#clip1300)\">\n",
       "<text style=\"fill:#000000; fill-opacity:1; font-family:Arial,Helvetica Neue,Helvetica,sans-serif; font-size:48px; text-anchor:middle;\" transform=\"rotate(0, 1427.3, 1541.47)\" x=\"1427.3\" y=\"1541.47\">0.00</text>\n",
       "</g>\n",
       "<g clip-path=\"url(#clip1300)\">\n",
       "<text style=\"fill:#000000; fill-opacity:1; font-family:Arial,Helvetica Neue,Helvetica,sans-serif; font-size:48px; text-anchor:middle;\" transform=\"rotate(0, 1944.12, 1541.47)\" x=\"1944.12\" y=\"1541.47\">0.02</text>\n",
       "</g>\n",
       "<g clip-path=\"url(#clip1300)\">\n",
       "<text style=\"fill:#000000; fill-opacity:1; font-family:Arial,Helvetica Neue,Helvetica,sans-serif; font-size:48px; text-anchor:end;\" transform=\"rotate(0, 184.77, 1359.74)\" x=\"184.77\" y=\"1359.74\">-0.02</text>\n",
       "</g>\n",
       "<g clip-path=\"url(#clip1300)\">\n",
       "<text style=\"fill:#000000; fill-opacity:1; font-family:Arial,Helvetica Neue,Helvetica,sans-serif; font-size:48px; text-anchor:end;\" transform=\"rotate(0, 184.77, 1101.33)\" x=\"184.77\" y=\"1101.33\">-0.01</text>\n",
       "</g>\n",
       "<g clip-path=\"url(#clip1300)\">\n",
       "<text style=\"fill:#000000; fill-opacity:1; font-family:Arial,Helvetica Neue,Helvetica,sans-serif; font-size:48px; text-anchor:end;\" transform=\"rotate(0, 184.77, 842.917)\" x=\"184.77\" y=\"842.917\">0.00</text>\n",
       "</g>\n",
       "<g clip-path=\"url(#clip1300)\">\n",
       "<text style=\"fill:#000000; fill-opacity:1; font-family:Arial,Helvetica Neue,Helvetica,sans-serif; font-size:48px; text-anchor:end;\" transform=\"rotate(0, 184.77, 584.508)\" x=\"184.77\" y=\"584.508\">0.01</text>\n",
       "</g>\n",
       "<g clip-path=\"url(#clip1300)\">\n",
       "<text style=\"fill:#000000; fill-opacity:1; font-family:Arial,Helvetica Neue,Helvetica,sans-serif; font-size:48px; text-anchor:end;\" transform=\"rotate(0, 184.77, 326.098)\" x=\"184.77\" y=\"326.098\">0.02</text>\n",
       "</g>\n",
       "<g clip-path=\"url(#clip1300)\">\n",
       "<text style=\"fill:#000000; fill-opacity:1; font-family:Arial,Helvetica Neue,Helvetica,sans-serif; font-size:84px; text-anchor:middle;\" transform=\"rotate(0, 1280.76, 73.2)\" x=\"1280.76\" y=\"73.2\">Inner planet orbits (proj onto the ecliptic plane)</text>\n",
       "</g>\n",
       "<polyline clip-path=\"url(#clip1302)\" style=\"stroke:#009af9; stroke-width:4; stroke-opacity:1; fill:none\" points=\"\n",
       "  1427.29,825.283 1427.11,825.305 1427.13,825.537 1427.27,825.564 1427.44,825.567 1427.5,825.329 1427.33,825.286 1427.23,825.255 1427.08,825.433 1427.23,825.555 \n",
       "  1427.34,825.579 1427.53,825.446 1427.39,825.279 1427.29,825.279 1427.1,825.316 1427.14,825.54 1427.27,825.568 1427.46,825.563 1427.49,825.32 1427.33,825.291 \n",
       "  1427.22,825.252 1427.09,825.443 1427.23,825.543 1427.34,825.586 1427.53,825.433 1427.38,825.287 1427.3,825.273 1427.1,825.33 1427.16,825.539 1427.27,825.569 \n",
       "  1427.47,825.555 1427.47,825.316 1427.34,825.295 1427.2,825.25 1427.09,825.45 1427.22,825.536 1427.35,825.592 1427.52,825.42 1427.37,825.296 1427.3,825.268 \n",
       "  1427.1,825.344 1427.18,825.533 1427.26,825.569 1427.48,825.547 1427.46,825.318 1427.34,825.295 1427.19,825.249 1427.1,825.459 1427.22,825.532 1427.35,825.596 \n",
       "  1427.52,825.41 1427.37,825.308 1427.3,825.262 1427.1,825.353 1427.18,825.521 1427.26,825.574 1427.49,825.539 1427.45,825.32 1427.35,825.293 1427.18,825.253 \n",
       "  1427.11,825.464 1427.21,825.528 1427.36,825.603 1427.51,825.405 1427.38,825.318 1427.3,825.249 1427.1,825.359 1427.18,825.509 1427.26,825.582 1427.5,825.53 \n",
       "  1427.44,825.325 1427.36,825.289 1427.17,825.258 1427.12,825.464 1427.19,825.529 1427.37,825.612 1427.5,825.402 1427.39,825.322 1427.3,825.235 1427.1,825.367 \n",
       "  1427.18,825.498 1427.25,825.591 1427.5,825.519 1427.43,825.334 1427.37,825.282 1427.16,825.262 1427.13,825.464 1427.18,825.538 1427.39,825.617 1427.5,825.396 \n",
       "  1427.4,825.323 1427.29,825.226 1427.11,825.375 1427.18,825.488 1427.26,825.602 1427.5,825.509 1427.43,825.34 1427.37,825.269 1427.14,825.271 1427.13,825.468 \n",
       "  \n",
       "  \"/>\n",
       "<polyline clip-path=\"url(#clip1302)\" style=\"stroke:#e26f46; stroke-width:4; stroke-opacity:1; fill:none\" points=\"\n",
       "  1514.32,182.119 1957.72,537.025 1969.79,979.817 1638.79,1348.04 959.627,1393.9 592.806,626.17 1380.98,160.334 1916.18,461.323 1992.76,904.251 1722.44,1295.79 \n",
       "  1095.54,1433.45 555.503,800.912 1233.1,162.352 1860.69,388.886 2005.49,827.174 1794.82,1236.78 1228.08,1447.64 571.686,973.356 1075.9,194.267 1790.18,321.395 \n",
       "  2007.78,749.17 1856.23,1172.48 1353.16,1441.04 635.86,1127.66 917.913,261.376 1703.61,261.209 1999.11,670.908 1907.07,1103.99 1468.09,1417.85 736.649,1253.74 \n",
       "  772.015,366.029 1600.19,211.452 1978.93,592.944 1947.56,1032.36 1571.87,1381.43 860.41,1347.09 653.597,505.559 1479.56,176.194 1946.54,516.155 1977.77,958.286 \n",
       "  1664.06,1334.77 995.177,1408.39 577.677,670.566 1342.54,160.33 1901.13,441.604 1997.67,882.391 1744.83,1280.08 1131.39,1440.77 553.744,846.281 1192.06,169.58 \n",
       "  1841.63,370.801 2007.19,805.147 1814.28,1219.3 1263.08,1448.82 582.904,1015.52 1034.05,209.86 1766.88,305.541 2006.14,727.218 1872.73,1153.6 1386.19,1437.12 \n",
       "  657.886,1163.82 878.293,285.976 1675.87,248.268 1994.04,649.211 1920.45,1084.13 1498.83,1409.77 766.286,1281.98 738.177,399.444 1567.99,202.216 1970.27,571.877 \n",
       "  1957.8,1011.65 1599.81,1370.17 894.733,1367.14 629.372,546.093 1443.28,171.665 1934.03,495.95 1984.82,937.036 1689.06,1320.91 1031.43,1420.63 565.875,715.21 \n",
       "  1303,161.785 1884.58,422.587 2001.51,860.78 1766.64,1264.19 1167.81,1446.33 555.615,890.863 1150.57,178.403 1820.9,353.31 2007.65,783.489 1832.96,1201.65 \n",
       "  1298.06,1448.73 597.557,1056.33 992.689,227.25 1742.03,290.204 2003.07,705.53 1888.2,1134.7 1419.03,1432.33 682.699,1198.03 840.033,312.513 1646.86,235.895 \n",
       "  \n",
       "  \"/>\n",
       "<polyline clip-path=\"url(#clip1302)\" style=\"stroke:#3da44d; stroke-width:4; stroke-opacity:1; fill:none\" points=\"\n",
       "  1710.31,421.842 987.22,577.683 1152.19,1240.82 1875.21,1057.47 1690.5,411.249 975.049,596.602 1173.24,1251.05 1886.62,1038 1669.7,401.121 963.162,616.148 \n",
       "  1194.63,1260.98 1897.48,1018.59 1649,391.835 952.542,635.71 1216.24,1269.38 1906.61,998.706 1627.47,383.882 942.998,656.198 1238.88,1277.13 1915.36,978.098 \n",
       "  1605.53,376.18 933.955,676.701 1261.32,1284.11 1922.9,957.789 1583.64,369.92 926.613,697.43 1284.41,1289.66 1929.21,936.649 1560.67,364.529 919.917,718.919 \n",
       "  1307.87,1294.75 1935.05,915.597 1538.04,359.711 914.285,740.03 1331.03,1298.49 1939.25,894.505 1514.92,356.374 910.165,761.849 1355.02,1301.14 1942.7,872.89 \n",
       "  1491.41,353.45 906.441,783.698 1378.81,1303.27 1945.26,851.693 1468.3,351.748 904.358,805.339 1402.67,1303.75 1946.13,830.144 1444.58,351.24 903.167,827.555 \n",
       "  1426.95,1303.74 1946.61,808.464 1421.04,351.198 902.862,849.259 1450.6,1302.64 1945.64,787.303 1397.65,352.687 904.246,871.07 1474.7,1300.23 1943.68,765.613 \n",
       "  1373.69,354.833 906.174,893.087 1498.46,1297.36 1941.05,744.585 1350.56,357.836 909.49,914.463 1521.82,1292.96 1936.69,723.604 1327.08,362.228 914.053,936.214 \n",
       "  1545.52,1287.76 1931.83,702.596 1303.88,366.964 919.094,957.385 1568.47,1281.87 1925.77,682.312 1281.29,373.184 925.901,978.209 1591.36,1274.52 1918.42,661.847 \n",
       "  1258.41,380.233 933.31,999.128 1614.02,1266.85 1910.64,641.863 1236.28,387.911 941.859,1019.09 1635.67,1257.88 1901.32,622.548 1214.41,397.032 951.826,1039.07 \n",
       "  1657.57,1247.95 1891.39,603.085 1192.62,406.526 962.188,1058.59 1678.52,1237.57 1880.64,584.731 1171.97,417.044 974.015,1077.32 1698.96,1225.76 1868.32,566.494 \n",
       "  \n",
       "  \"/>\n",
       "<polyline clip-path=\"url(#clip1302)\" style=\"stroke:#c271d2; stroke-width:4; stroke-opacity:1; fill:none\" points=\"\n",
       "  1861.72,780.239 1312.99,1222.75 1074.69,570.014 1805.38,623.66 1500.73,1228.26 989.472,726.116 1685.38,499.485 1671.49,1163.18 982.882,902.175 1519.82,429.583 \n",
       "  1797.83,1042.35 1058.64,1064.23 1335.5,426.365 1859.95,886.096 1200.05,1181.47 1163.31,494.014 1849.47,721.421 1380.82,1233.53 1035.85,622.039 1768.59,573.459 \n",
       "  1565.87,1212.27 977.241,789.236 1629.38,467.21 1723.7,1125.34 1001.59,964.044 1453.82,420.048 1828.42,988.403 1102.99,1113.09 1269.96,443.103 1864.69,826.308 \n",
       "  1262.8,1208.77 1110.87,534.039 1827.97,664.315 1448.75,1234.13 1005.47,679.548 1723.87,529.212 1627.75,1188.17 976.75,853.236 1568.76,442.324 1768.75,1080.26 \n",
       "  1029.71,1022.48 1386.44,420.3 1849.99,931.579 1155.72,1155.17 1208.17,468.421 1859.85,766.02 1328.49,1226.33 1064.96,581.602 1797.33,611.166 1516.11,1225.9 \n",
       "  985.986,740.64 1672.61,490.939 1684.47,1155.25 986.297,916.642 1504.25,426.483 1805.94,1030.28 1068.16,1076.3 1320.01,429.45 1862.21,871.993 1214.06,1188.73 \n",
       "  1150.49,502.68 1845.2,707.515 1396.49,1235.03 1028.27,635.078 1758.7,562.209 1580.77,1207.76 976.241,803.979 1615.25,460.448 1735.03,1115.68 1007.34,978.06 \n",
       "  1438.02,419.216 1834.61,975.347 1114.46,1123.51 1255.05,448.24 1864.5,811.959 1277.62,1214.13 1099.76,544.615 1821.61,651.16 1464.57,1233.36 1000.17,693.389 \n",
       "  1712.16,519.357 1641.5,1181.66 978.211,868.152 1553.81,437.645 1778.49,1069.16 1037.77,1035.34 1370.57,421.588 1853.83,917.746 1168.57,1164.03 1194.41,475.784 \n",
       "  1857.48,751.873 1344.1,1229.46 1055.73,593.506 1788.82,598.933 1531.35,1222.98 983.076,755.275 1659.54,482.845 1697.09,1146.92 990.279,930.997 1488.6,423.842 \n",
       "  \n",
       "  \"/>\n",
       "<polyline clip-path=\"url(#clip1302)\" style=\"stroke:#ac8d18; stroke-width:4; stroke-opacity:1; fill:none\" points=\"\n",
       "  1801.52,819.152 1299.76,495.869 1134.27,974.843 1605.92,1088.23 1710.31,575.16 1108.63,671.336 1295.73,1099.58 1770.59,928.391 1435.4,468.499 1092.33,888.778 \n",
       "  1507.48,1119.73 1781.4,682.765 1175.56,576.179 1211.47,1053.47 1706.26,1017.13 1575.72,490.886 1079.15,790.559 1406.99,1124.8 1802.24,801.277 1280.74,503.465 \n",
       "  1143.22,987.064 1620.43,1080.13 1695.21,561.231 1100.92,687.27 1310.77,1105.01 1777.39,912.538 1414.16,469.012 1096.68,903.334 1523.27,1116.01 1773.22,665.673 \n",
       "  1162.11,589.647 1224.24,1062.42 1717.69,1004.54 1555.53,483.905 1078.24,806.454 1422.83,1125.38 1801.43,783.663 1262.36,512.18 1152.85,999.19 1634.89,1071.41 \n",
       "  1679.29,548.072 1094.17,703.078 1325.59,1109.83 1783.28,896.507 1392.9,470.951 1102.31,917.873 1539.16,1111.43 1764.05,648.603 1149.23,603.396 1237.18,1071.05 \n",
       "  1728.55,991.543 1534.97,478.267 1078.7,822.336 1438.87,1125.11 1799.65,765.597 1244.17,521.636 1162.98,1010.96 1648.85,1062.27 1663.07,535.772 1088.48,718.885 \n",
       "  1340.75,1113.68 1787.84,879.907 1371.68,474.134 1108.44,932.094 1554.88,1106.5 1754.26,632.01 1137.32,617.4 1250.48,1078.72 1738.2,978.042 1513.89,473.998 \n",
       "  1079.91,838.247 1455.22,1124.29 1796.85,747.527 1226.78,531.711 1173.35,1022.13 1662.26,1052.71 1645.57,524.388 1084.06,735.262 1356.5,1116.8 1791.69,862.873 \n",
       "  1350.58,478.048 1115.02,946.227 1570.5,1101.05 1743.21,615.833 1126.66,632.208 1264.4,1085.67 1747.33,963.74 1492.24,470.479 1081.82,854.306 1471.49,1122.94 \n",
       "  1793.32,729.625 1210.16,542.545 1184.48,1032.63 1675.01,1042.06 1627.19,514.087 1080.38,751.751 1372.3,1119.56 1794.93,845.657 1329.78,482.844 1122.42,959.663 \n",
       "  \n",
       "  \"/>\n",
       "</svg>\n"
      ]
     },
     "execution_count": 16,
     "metadata": {},
     "output_type": "execute_result"
    }
   ],
   "source": [
    "ulist0 = sol1.u\n",
    "tlist0 = sol1.t\n",
    "\n",
    "pl = plot(title=\"Inner planet orbits (proj onto the ecliptic plane)\", \n",
    "          aspect_ratio=1)\n",
    "\n",
    "for j = 1:5\n",
    " xlist  = map(u->u[2,1,j], ulist0[1:100])\n",
    " ylist  = map(u->u[2,2,j], ulist0[1:100])\n",
    " pl = plot!(xlist,ylist, label=\"\") # label = bodylist[j])   \n",
    "end    \n",
    "\n",
    "\n",
    "plot(pl)"
   ]
  },
  {
   "cell_type": "markdown",
   "metadata": {},
   "source": [
    "## Save Output Data"
   ]
  },
  {
   "cell_type": "code",
   "execution_count": 42,
   "metadata": {},
   "outputs": [],
   "source": [
    "save(\"./Data/output/OutN9BodyEnergy.jld2\", \"ΔE1\", ΔE1, \"ΔE2\", ΔE2, \"ΔE11\", ΔE11, \"ΔE21\", ΔE21,     \n",
    "                                     \"sol1t\", sol1.t, \"sol2t\", sol2.t,\n",
    "                                      \"sol11t\", sol11.t[1:k:end], \"sol21t\", sol21.t[1:k:end])"
   ]
  },
  {
   "cell_type": "markdown",
   "metadata": {},
   "source": [
    "## Plot for Juliacon2020"
   ]
  },
  {
   "cell_type": "code",
   "execution_count": 2,
   "metadata": {},
   "outputs": [],
   "source": [
    "sol1t=load(\"./Data/output/OutN9BodyEnergy.jld2\", \"sol1t\")\n",
    "ΔE1=load(\"./Data/output/OutN9BodyEnergy.jld2\", \"ΔE1\")\n",
    "sol21t=load(\"./Data/output/OutN9BodyEnergy.jld2\", \"sol21t\")\n",
    "ΔE21=load(\"./Data/output/OutN9BodyEnergy.jld2\", \"ΔE21\");"
   ]
  },
  {
   "cell_type": "code",
   "execution_count": 15,
   "metadata": {},
   "outputs": [
    {
     "data": {
      "image/svg+xml": [
       "<?xml version=\"1.0\" encoding=\"utf-8\"?>\n",
       "<svg xmlns=\"http://www.w3.org/2000/svg\" xmlns:xlink=\"http://www.w3.org/1999/xlink\" width=\"600\" height=\"400\" viewBox=\"0 0 2400 1600\">\n",
       "<defs>\n",
       "  <clipPath id=\"clip4000\">\n",
       "    <rect x=\"0\" y=\"0\" width=\"2400\" height=\"1600\"/>\n",
       "  </clipPath>\n",
       "</defs>\n",
       "<path clip-path=\"url(#clip4000)\" d=\"\n",
       "M0 1600 L2400 1600 L2400 0 L0 0  Z\n",
       "  \" fill=\"#ffffff\" fill-rule=\"evenodd\" fill-opacity=\"1\"/>\n",
       "<defs>\n",
       "  <clipPath id=\"clip4001\">\n",
       "    <rect x=\"480\" y=\"0\" width=\"1681\" height=\"1600\"/>\n",
       "  </clipPath>\n",
       "</defs>\n",
       "<path clip-path=\"url(#clip4000)\" d=\"\n",
       "M215.708 1425.62 L2352.76 1425.62 L2352.76 121.675 L215.708 121.675  Z\n",
       "  \" fill=\"#ffffff\" fill-rule=\"evenodd\" fill-opacity=\"1\"/>\n",
       "<defs>\n",
       "  <clipPath id=\"clip4002\">\n",
       "    <rect x=\"215\" y=\"121\" width=\"2138\" height=\"1305\"/>\n",
       "  </clipPath>\n",
       "</defs>\n",
       "<polyline clip-path=\"url(#clip4002)\" style=\"stroke:#000000; stroke-width:2; stroke-opacity:0.1; fill:none\" points=\"\n",
       "  276.191,1425.62 276.191,121.675 \n",
       "  \"/>\n",
       "<polyline clip-path=\"url(#clip4002)\" style=\"stroke:#000000; stroke-width:2; stroke-opacity:0.1; fill:none\" points=\"\n",
       "  780.211,1425.62 780.211,121.675 \n",
       "  \"/>\n",
       "<polyline clip-path=\"url(#clip4002)\" style=\"stroke:#000000; stroke-width:2; stroke-opacity:0.1; fill:none\" points=\"\n",
       "  1284.23,1425.62 1284.23,121.675 \n",
       "  \"/>\n",
       "<polyline clip-path=\"url(#clip4002)\" style=\"stroke:#000000; stroke-width:2; stroke-opacity:0.1; fill:none\" points=\"\n",
       "  1788.25,1425.62 1788.25,121.675 \n",
       "  \"/>\n",
       "<polyline clip-path=\"url(#clip4002)\" style=\"stroke:#000000; stroke-width:2; stroke-opacity:0.1; fill:none\" points=\"\n",
       "  2292.27,1425.62 2292.27,121.675 \n",
       "  \"/>\n",
       "<polyline clip-path=\"url(#clip4002)\" style=\"stroke:#000000; stroke-width:2; stroke-opacity:0.1; fill:none\" points=\"\n",
       "  215.708,1163.67 2352.76,1163.67 \n",
       "  \"/>\n",
       "<polyline clip-path=\"url(#clip4002)\" style=\"stroke:#000000; stroke-width:2; stroke-opacity:0.1; fill:none\" points=\"\n",
       "  215.708,895.364 2352.76,895.364 \n",
       "  \"/>\n",
       "<polyline clip-path=\"url(#clip4002)\" style=\"stroke:#000000; stroke-width:2; stroke-opacity:0.1; fill:none\" points=\"\n",
       "  215.708,627.06 2352.76,627.06 \n",
       "  \"/>\n",
       "<polyline clip-path=\"url(#clip4002)\" style=\"stroke:#000000; stroke-width:2; stroke-opacity:0.1; fill:none\" points=\"\n",
       "  215.708,358.756 2352.76,358.756 \n",
       "  \"/>\n",
       "<polyline clip-path=\"url(#clip4000)\" style=\"stroke:#000000; stroke-width:4; stroke-opacity:1; fill:none\" points=\"\n",
       "  215.708,1425.62 2352.76,1425.62 \n",
       "  \"/>\n",
       "<polyline clip-path=\"url(#clip4000)\" style=\"stroke:#000000; stroke-width:4; stroke-opacity:1; fill:none\" points=\"\n",
       "  215.708,1425.62 215.708,121.675 \n",
       "  \"/>\n",
       "<polyline clip-path=\"url(#clip4000)\" style=\"stroke:#000000; stroke-width:4; stroke-opacity:1; fill:none\" points=\"\n",
       "  276.191,1425.62 276.191,1409.97 \n",
       "  \"/>\n",
       "<polyline clip-path=\"url(#clip4000)\" style=\"stroke:#000000; stroke-width:4; stroke-opacity:1; fill:none\" points=\"\n",
       "  780.211,1425.62 780.211,1409.97 \n",
       "  \"/>\n",
       "<polyline clip-path=\"url(#clip4000)\" style=\"stroke:#000000; stroke-width:4; stroke-opacity:1; fill:none\" points=\"\n",
       "  1284.23,1425.62 1284.23,1409.97 \n",
       "  \"/>\n",
       "<polyline clip-path=\"url(#clip4000)\" style=\"stroke:#000000; stroke-width:4; stroke-opacity:1; fill:none\" points=\"\n",
       "  1788.25,1425.62 1788.25,1409.97 \n",
       "  \"/>\n",
       "<polyline clip-path=\"url(#clip4000)\" style=\"stroke:#000000; stroke-width:4; stroke-opacity:1; fill:none\" points=\"\n",
       "  2292.27,1425.62 2292.27,1409.97 \n",
       "  \"/>\n",
       "<polyline clip-path=\"url(#clip4000)\" style=\"stroke:#000000; stroke-width:4; stroke-opacity:1; fill:none\" points=\"\n",
       "  215.708,1163.67 241.353,1163.67 \n",
       "  \"/>\n",
       "<polyline clip-path=\"url(#clip4000)\" style=\"stroke:#000000; stroke-width:4; stroke-opacity:1; fill:none\" points=\"\n",
       "  215.708,895.364 241.353,895.364 \n",
       "  \"/>\n",
       "<polyline clip-path=\"url(#clip4000)\" style=\"stroke:#000000; stroke-width:4; stroke-opacity:1; fill:none\" points=\"\n",
       "  215.708,627.06 241.353,627.06 \n",
       "  \"/>\n",
       "<polyline clip-path=\"url(#clip4000)\" style=\"stroke:#000000; stroke-width:4; stroke-opacity:1; fill:none\" points=\"\n",
       "  215.708,358.756 241.353,358.756 \n",
       "  \"/>\n",
       "<g clip-path=\"url(#clip4000)\">\n",
       "<text style=\"fill:#000000; fill-opacity:1; font-family:Arial,Helvetica Neue,Helvetica,sans-serif; font-size:48px; text-anchor:middle;\" transform=\"rotate(0, 276.191, 1479.62)\" x=\"276.191\" y=\"1479.62\">0</text>\n",
       "</g>\n",
       "<g clip-path=\"url(#clip4000)\">\n",
       "<text style=\"fill:#000000; fill-opacity:1; font-family:Arial,Helvetica Neue,Helvetica,sans-serif; font-size:48px; text-anchor:start;\" transform=\"rotate(0, 695.069, 1500.63)\" x=\"695.069\" y=\"1500.63\">2.5×10</text>\n",
       "</g>\n",
       "<g clip-path=\"url(#clip4000)\">\n",
       "<text style=\"fill:#000000; fill-opacity:1; font-family:Arial,Helvetica Neue,Helvetica,sans-serif; font-size:38px; text-anchor:start;\" transform=\"rotate(0, 843.61, 1473.22)\" x=\"843.61\" y=\"1473.22\">5</text>\n",
       "</g>\n",
       "<g clip-path=\"url(#clip4000)\">\n",
       "<text style=\"fill:#000000; fill-opacity:1; font-family:Arial,Helvetica Neue,Helvetica,sans-serif; font-size:48px; text-anchor:start;\" transform=\"rotate(0, 1199.09, 1500.63)\" x=\"1199.09\" y=\"1500.63\">5.0×10</text>\n",
       "</g>\n",
       "<g clip-path=\"url(#clip4000)\">\n",
       "<text style=\"fill:#000000; fill-opacity:1; font-family:Arial,Helvetica Neue,Helvetica,sans-serif; font-size:38px; text-anchor:start;\" transform=\"rotate(0, 1347.63, 1473.22)\" x=\"1347.63\" y=\"1473.22\">5</text>\n",
       "</g>\n",
       "<g clip-path=\"url(#clip4000)\">\n",
       "<text style=\"fill:#000000; fill-opacity:1; font-family:Arial,Helvetica Neue,Helvetica,sans-serif; font-size:48px; text-anchor:start;\" transform=\"rotate(0, 1703.11, 1500.63)\" x=\"1703.11\" y=\"1500.63\">7.5×10</text>\n",
       "</g>\n",
       "<g clip-path=\"url(#clip4000)\">\n",
       "<text style=\"fill:#000000; fill-opacity:1; font-family:Arial,Helvetica Neue,Helvetica,sans-serif; font-size:38px; text-anchor:start;\" transform=\"rotate(0, 1851.65, 1473.22)\" x=\"1851.65\" y=\"1473.22\">5</text>\n",
       "</g>\n",
       "<g clip-path=\"url(#clip4000)\">\n",
       "<text style=\"fill:#000000; fill-opacity:1; font-family:Arial,Helvetica Neue,Helvetica,sans-serif; font-size:48px; text-anchor:start;\" transform=\"rotate(0, 2207.13, 1500.63)\" x=\"2207.13\" y=\"1500.63\">1.0×10</text>\n",
       "</g>\n",
       "<g clip-path=\"url(#clip4000)\">\n",
       "<text style=\"fill:#000000; fill-opacity:1; font-family:Arial,Helvetica Neue,Helvetica,sans-serif; font-size:38px; text-anchor:start;\" transform=\"rotate(0, 2355.67, 1473.22)\" x=\"2355.67\" y=\"1473.22\">6</text>\n",
       "</g>\n",
       "<g clip-path=\"url(#clip4000)\">\n",
       "<text style=\"fill:#000000; fill-opacity:1; font-family:Arial,Helvetica Neue,Helvetica,sans-serif; font-size:48px; text-anchor:end;\" transform=\"rotate(0, 191.708, 1181.17)\" x=\"191.708\" y=\"1181.17\">-17</text>\n",
       "</g>\n",
       "<g clip-path=\"url(#clip4000)\">\n",
       "<text style=\"fill:#000000; fill-opacity:1; font-family:Arial,Helvetica Neue,Helvetica,sans-serif; font-size:48px; text-anchor:end;\" transform=\"rotate(0, 191.708, 912.864)\" x=\"191.708\" y=\"912.864\">-16</text>\n",
       "</g>\n",
       "<g clip-path=\"url(#clip4000)\">\n",
       "<text style=\"fill:#000000; fill-opacity:1; font-family:Arial,Helvetica Neue,Helvetica,sans-serif; font-size:48px; text-anchor:end;\" transform=\"rotate(0, 191.708, 644.56)\" x=\"191.708\" y=\"644.56\">-15</text>\n",
       "</g>\n",
       "<g clip-path=\"url(#clip4000)\">\n",
       "<text style=\"fill:#000000; fill-opacity:1; font-family:Arial,Helvetica Neue,Helvetica,sans-serif; font-size:48px; text-anchor:end;\" transform=\"rotate(0, 191.708, 376.256)\" x=\"191.708\" y=\"376.256\">-14</text>\n",
       "</g>\n",
       "<g clip-path=\"url(#clip4000)\">\n",
       "<text style=\"fill:#000000; fill-opacity:1; font-family:Arial,Helvetica Neue,Helvetica,sans-serif; font-size:84px; text-anchor:middle;\" transform=\"rotate(0, 1284.23, 73.2)\" x=\"1284.23\" y=\"73.2\">Energy conservation (Float64)</text>\n",
       "</g>\n",
       "<g clip-path=\"url(#clip4000)\">\n",
       "<text style=\"fill:#000000; fill-opacity:1; font-family:Arial,Helvetica Neue,Helvetica,sans-serif; font-size:66px; text-anchor:middle;\" transform=\"rotate(0, 1284.23, 1559.48)\" x=\"1284.23\" y=\"1559.48\">t (days)</text>\n",
       "</g>\n",
       "<g clip-path=\"url(#clip4000)\">\n",
       "<image width=\"47\" height=\"101\" xlink:href=\"data:image/png;base64,\n",
       "iVBORw0KGgoAAAANSUhEUgAAAC8AAABlCAYAAADd5LqmAAAEZElEQVR4nO2b7XGjMBCG1zdXAKEE\n",
       "uQPFJSgdKClBSQWuQemAtEAJmBKIK1AoQaSDvR8JBPMVEJIQM7czO2NnHOl5V4u8WsMBEQEA4O3t\n",
       "Da/XKxBCGo+iCI7H4wECtUMNfzgccOxDURTdiGr7puIQEb4FoImnaYr1GL7975QwxhhwzuF0OkEU\n",
       "RRDHMZRlCVpr+Pz8BK01MMYWB6yqKizLEu7v79et2ljksyxzFtEkSRAAkBCCUkrUWhvNNQifJInz\n",
       "VEiSBAkhzZyccyyKYtG8PXhCiNcczrIMKaXYnn9u8HrwQgiv8LUXRYGc85vUFUJMrkYP3kfKTLlS\n",
       "ChljNyIopYNcPXiXF+rSdIqiqLc1CyFQKYWD8EsvGpeutb65HroievC1qpC8ey003oU33XNde3tb\n",
       "HYWfO1i9O0gpvaSaUsoufDcajDGUUjq76HvpYwrfFiGEGNwZKKV4Pp8xyzIr6VgUhV34tkspJytQ\n",
       "QggKITBNU2MxN6ttEx4RIU3T2eU053zxfEKI5v8nS2ITe3x8PDDGMM/z5m9SSuCcNyV1URRwvV6N\n",
       "xqeU/ryxHXnEn5IXDKM7N+//GId4wk6nU/NaCGF17CiKmtdO4NsTxHFsdez2eE7g2xMQQqyOfXd3\n",
       "1xwde90DrfXNB0ytHg8RrXcX6rF7kU/T1PZc7qy728D3DrHmi8T27jU29q9NJ0IIMMYan5tSPtJm\n",
       "VsesbXPFBAnftTExPuAHc36N18UXhJDza629MpRSK43Z0chLKRHx6+SSJAlyzgdrdVOPogg555gk\n",
       "ifF5GcYir5QajM7HxwfmeQ7X6xXyPIeyLNcGEAC+SonT6dSszpzm62jk5+7tWmtM0xSFEL3j4Fpv\n",
       "n8CG5oWxyJvuDlVVYZ7nULutlQH4quHr1dFaw8vLyxezLfiuVVWFRVE0YkwPH5NWLwfnHCmlTra2\n",
       "2rMsw/P5PNoFW+pN5Lewy+WCa1ZmU/iuvb+/31w3v1lQ8F37VYzLHLft7YM9tPs2e/Hz+ey2e+DS\n",
       "np6emte7g28f6HcH37agd5sxG+0e7MHqptYuI3+5XLAsy33C17bLtKntP/xW9h/ep1VVhc/Pz3g8\n",
       "HrcvtOa61vqmmQV7qCoHoUOHn4QOFX4WdGjwi6BDgTeC3hp+FfRW8CbQo73Q0KHre5UH2+yhQ9fu\n",
       "Fd4WtFd429Be4JVSTqCdwruGdgLvC9oqvG9oK/BbQa+C3xraCN4EmlLq7OmdWfChQc+CV0r1HnuY\n",
       "A+3rYYFReJNI+37CYRC+9ztPYNBT8H/n3PdIKQUpJTw8PIT1kCPi7Y9UEEik50T+DwDA6+vrQWvd\n",
       "u3U2jmPrd6Rata7CoZKWMbb5UzyLvqRCE2FUHoQiYlVhprXG7oXtU4SVkngrEVYPI75FODkG+hLh\n",
       "9ADuWoS31kdXhMkj0pvAuxKxWbvPhohN4G2J2BR+rYgg4E1FBAW/VESQ8HNFBA3/m4geeIjwUyJ2\n",
       "Az9LxNZwa0Ts7h6zqqpQSgl5nsM/f5wg1/SDPpkAAAAASUVORK5CYII=\n",
       "\" transform=\"translate(37, 723)\"/>\n",
       "</g>\n",
       "<polyline clip-path=\"url(#clip4002)\" style=\"stroke:#ff0000; stroke-width:4; stroke-opacity:1; fill:none\" points=\"\n",
       "  276.191,932.023 286.271,908.076 296.352,862.872 306.432,822.496 316.512,1170 326.593,877.941 336.673,1042.25 346.754,936.705 356.834,1217.8 366.914,1116.76 \n",
       "  376.995,872.739 387.075,915.877 397.156,876.683 407.236,882.495 417.317,889.663 427.397,1091.28 437.477,815.659 447.558,795.053 457.638,954.641 467.719,897.842 \n",
       "  477.799,1113.37 487.879,860.31 497.96,851.73 508.04,1023.86 518.121,816.243 528.201,826.427 538.281,885.533 548.362,983.866 558.442,898.82 568.523,986.188 \n",
       "  578.603,1052.72 588.684,922.575 598.764,837.754 608.844,1045.75 618.925,920.291 629.005,959.49 639.086,965.874 649.166,1034.81 659.246,928.973 669.327,942.915 \n",
       "  679.407,951.264 689.488,862.418 699.568,984.731 709.649,1002.31 719.729,897.019 729.809,854.794 739.89,793.499 749.97,888.911 760.051,910.752 770.131,880.847 \n",
       "  780.211,812.705 790.292,800.223 800.372,795.041 810.453,1018.63 820.533,854.44 830.613,875.452 840.694,827.847 850.774,1197.38 860.855,1306.26 870.935,911.082 \n",
       "  881.016,887.754 891.096,829.073 901.176,874.988 911.257,831.391 921.337,857.146 931.418,978.044 941.498,804.982 951.578,767.139 961.659,816.324 971.739,791.695 \n",
       "  981.82,808.599 991.9,818.427 1001.98,979.076 1012.06,754.202 1022.14,784.937 1032.22,850.597 1042.3,805.283 1052.38,748.114 1062.46,771.902 1072.54,812.934 \n",
       "  1082.62,735.16 1092.7,867.15 1102.78,948.703 1112.87,833.463 1122.95,759.287 1133.03,804.24 1143.11,744.982 1153.19,775.091 1163.27,850.026 1173.35,799.831 \n",
       "  1183.43,770.536 1193.51,809.467 1203.59,846.684 1213.67,781.275 1223.75,810.579 1233.83,909.52 1243.91,844.941 1253.99,769.823 1264.07,805.565 1274.15,769.095 \n",
       "  1284.23,780.617 1294.31,775.624 1304.39,840.623 1314.47,736.478 1324.55,852.454 1334.63,723.587 1344.71,801.654 1354.79,806.575 1364.88,832.476 1374.96,806.263 \n",
       "  1385.04,854.129 1395.12,796.057 1405.2,802.72 1415.28,793.562 1425.36,863.882 1435.44,777.818 1445.52,850.131 1455.6,785.308 1465.68,737.537 1475.76,846.111 \n",
       "  1485.84,1010.22 1495.92,768.619 1506,778.736 1516.08,736.847 1526.16,742.819 1536.24,813.562 1546.32,800.036 1556.4,789.291 1566.48,752.319 1576.56,785.915 \n",
       "  1586.64,759.538 1596.72,780.623 1606.81,921.049 1616.89,763.935 1626.97,958.194 1637.05,774.409 1647.13,903.764 1657.21,917.512 1667.29,854.592 1677.37,862.294 \n",
       "  1687.45,807.154 1697.53,1018.09 1707.61,1360.76 1717.69,820.084 1727.77,1243.66 1737.85,843.218 1747.93,931.104 1758.01,936.736 1768.09,884.553 1778.17,1001.63 \n",
       "  1788.25,1388.71 1798.33,832.408 1808.41,924.984 1818.49,860.997 1828.57,880.826 1838.65,923.686 1848.74,803.741 1858.82,785.309 1868.9,933.287 1878.98,888.471 \n",
       "  1889.06,836.973 1899.14,813.673 1909.22,796.746 1919.3,912.983 1929.38,1009.04 1939.46,783.775 1949.54,784.968 1959.62,861.934 1969.7,871.405 1979.78,823.07 \n",
       "  1989.86,1102.05 1999.94,938.342 2010.02,785.603 2020.1,888.462 2030.18,881.896 2040.26,766.446 2050.34,854.016 2060.42,763.281 2070.5,765.957 2080.58,814.825 \n",
       "  2090.67,1007.26 2100.75,890.469 2110.83,814.867 2120.91,841.304 2130.99,751.951 2141.07,732.28 2151.15,812.324 2161.23,798.576 2171.31,787.327 2181.39,758.577 \n",
       "  2191.47,837.511 2201.55,735.263 2211.63,765.093 2221.71,776.406 2231.79,810.259 2241.87,753.973 2251.95,807.77 2262.03,799.633 2272.11,783.805 2282.19,827.82 \n",
       "  2292.27,743.487 \n",
       "  \"/>\n",
       "<polyline clip-path=\"url(#clip4002)\" style=\"stroke:#008000; stroke-width:4; stroke-opacity:1; fill:none\" points=\"\n",
       "  276.191,932.023 281.526,732.782 286.89,500.844 292.272,421.299 297.666,400.651 303.031,467.878 308.406,704.88 313.796,716.979 319.157,521.216 324.525,390.006 \n",
       "  329.926,366.999 335.29,308.329 340.657,301.36 346.059,275.961 351.432,282.547 356.797,280.549 362.196,284.064 367.571,253.682 372.939,244.421 378.34,231.146 \n",
       "  383.707,228.536 389.068,245.241 394.458,220.912 399.836,230.485 405.204,219.045 410.591,231.853 415.974,236.375 421.338,234.705 426.729,258.267 432.111,272.677 \n",
       "  437.477,247.654 442.863,249.871 448.248,240.204 453.607,249.099 459,240.784 464.386,257.865 469.75,246.896 475.139,243.04 480.526,248.348 485.89,249.271 \n",
       "  491.28,243.621 496.66,260.558 502.025,264.009 507.41,257.383 512.795,272.464 518.155,266.589 523.534,273.907 528.925,298.411 534.29,330.863 539.672,335.666 \n",
       "  545.069,298.53 550.434,298.999 555.807,310.771 561.198,313.13 566.562,324.46 571.932,365.426 577.33,388.847 582.697,337.448 588.064,341.469 593.456,370.286 \n",
       "  598.83,423.316 604.198,511.838 609.604,924.629 614.975,523.591 620.338,645.736 625.727,573.889 631.104,456.21 636.469,784.795 641.859,764.651 647.246,507.252 \n",
       "  652.607,472.972 657.99,426.71 663.379,441.736 668.742,424.521 674.123,362.107 679.507,419.708 684.877,417.195 690.253,372.926 695.647,359.942 701.011,333.399 \n",
       "  706.393,326.007 711.781,350.546 717.142,411.233 722.517,414.007 727.92,342.383 733.282,319.26 738.653,326.486 744.043,382.154 749.414,357.456 754.783,335.295 \n",
       "  760.18,307.469 765.549,294.511 770.916,297.104 776.316,279.085 781.687,265.929 787.05,278.76 792.447,248.206 797.823,240.051 803.191,243.01 808.581,239.895 \n",
       "  813.96,231.117 819.323,241.335 824.719,245.609 830.097,236.933 835.457,247.935 840.851,264.549 846.23,259.231 851.592,242.4 856.981,249.394 862.368,263.55 \n",
       "  867.731,252.359 873.123,248.999 878.506,239.953 883.866,236.006 889.246,220.134 894.634,213.314 899.997,208.951 905.369,202.797 910.762,210.005 916.126,204.871 \n",
       "  921.493,196.614 926.889,192.962 932.26,185.255 937.624,184.27 943.023,192.214 948.394,181.958 953.757,182.252 959.144,190.98 964.523,181.09 969.883,179.282 \n",
       "  975.26,177.093 980.654,181.762 986.019,183.997 991.394,194.227 996.788,202.042 1002.15,192.223 1007.53,199.092 1012.92,206.129 1018.28,203.379 1023.66,197.897 \n",
       "  1029.06,187.759 1034.43,186.721 1039.81,188.004 1045.19,181.773 1050.56,179.881 1055.93,186.556 1061.32,177.057 1066.69,176.32 1072.05,179.105 1077.45,171.874 \n",
       "  1082.82,173.94 1088.18,174.169 1093.57,183.349 1098.96,180.401 1104.32,179.038 1109.71,184.835 1115.09,198.34 1120.46,185.98 1125.84,185.643 1131.22,177.199 \n",
       "  1136.58,174.262 1141.95,174.879 1147.35,158.579 1152.71,164.584 1158.08,163.141 1163.47,172.029 1168.85,172.794 1174.21,184.328 1179.61,183.933 1184.98,194.062 \n",
       "  1190.34,200.845 1195.73,201.2 1201.11,188.767 1206.47,194.351 1211.85,201.624 1217.24,198.91 1222.6,195.375 1227.98,195.642 1233.37,185.51 1238.74,189.26 \n",
       "  1244.1,175.455 1249.5,166.081 1254.87,171.071 1260.23,174.402 1265.62,172.441 1271,178.328 1276.36,178.145 1281.75,184.488 1287.13,172.026 1292.49,178.829 \n",
       "  1297.87,182.406 1303.26,183.147 1308.62,189.549 1313.99,187.027 1319.38,179.471 1324.75,171.258 1330.12,177.204 1335.52,187.574 1340.89,183.571 1346.26,188.68 \n",
       "  1351.65,196.983 1357.02,199.585 1362.38,202.075 1367.77,203.045 1373.15,193.406 1378.51,209.121 1383.88,201.104 1389.27,213.265 1394.63,217.6 1400,215.242 \n",
       "  1405.4,218.777 1410.76,213.855 1416.12,211.168 1421.51,215.358 1426.89,230.405 1432.25,230.701 1437.63,226.319 1443.01,237.582 1448.37,229.964 1453.75,217.727 \n",
       "  1459.14,214.384 1464.51,225.288 1469.87,231.646 1475.26,235.966 1480.64,241.292 1486,233.383 1491.4,241.007 1496.77,258.513 1502.13,248.804 1507.52,258.799 \n",
       "  1512.9,238.029 1518.26,234.101 1523.64,233.301 1529.03,224.331 1534.39,236.953 1539.76,232.836 1545.15,221.942 1550.52,212.778 1555.88,201.194 1561.28,198.384 \n",
       "  1566.65,207.808 1572.01,216.242 1577.39,196.291 1582.77,196.581 1588.13,209.836 1593.51,223.504 1598.9,237.46 1604.27,223.577 1609.63,229.743 1615.03,234.976 \n",
       "  1620.39,221.454 1625.75,231.097 1631.14,226.994 1636.52,213.198 1641.88,217.695 1647.26,215.143 1652.65,205.669 1658.01,188.934 1663.38,185.487 1668.77,194.919 \n",
       "  1674.14,184.172 1679.5,186.878 1684.9,173.153 1690.27,186.529 1695.63,187.784 1701.01,190.087 1706.39,175.95 1711.75,180.959 1717.13,173.145 1722.52,177.476 \n",
       "  1727.88,174.7 1733.25,168.569 1738.64,168.636 1744.01,166.122 1749.37,171.844 1754.76,181.882 1760.14,184.804 1765.5,187.599 1770.88,186.173 1776.26,180.975 \n",
       "  1781.62,193.508 1786.99,208.233 1792.38,210.604 1797.75,215.36 1803.11,205.315 1808.51,205.288 1813.88,213.347 1819.24,218.991 1824.62,230.457 1830,222.976 \n",
       "  1835.36,223.777 1840.74,238.675 1846.13,242.439 1851.5,240.622 1856.87,226.029 1862.26,213.774 1867.63,219.485 1872.99,218.399 1878.38,230.259 1883.76,219.16 \n",
       "  1889.11,213.392 1894.5,214.619 1899.88,217.071 1905.24,210.288 1910.62,212.161 1916.01,202.435 1921.37,211.362 1926.74,217.948 1932.13,210.094 1937.5,214.314 \n",
       "  1942.86,204.991 1948.25,225.053 1953.63,220.25 1958.99,229.484 1964.37,221.421 1969.75,205.566 1975.12,209.257 1980.49,215.089 1985.88,217.327 1991.24,212.455 \n",
       "  1996.61,207.453 2002,212.304 2007.37,193.342 2012.73,206.364 2018.12,215.1 2023.51,206.824 2028.87,210.37 2034.24,207.119 2039.64,214.007 2044.99,210.318 \n",
       "  2050.37,213.225 2055.76,229.676 2061.12,221.895 2066.49,241.719 2071.88,223.184 2077.25,220.503 2082.61,221.951 2088,213.613 2093.38,224.004 2098.74,216.16 \n",
       "  2104.12,215.019 2109.51,212.759 2114.86,213.351 2120.23,206.029 2125.63,214.905 2130.99,214.746 2136.36,219.185 2141.75,232.434 2147.12,235.39 2152.48,250.259 \n",
       "  2157.86,262.71 2163.25,259.086 2168.61,255.596 2173.98,267.125 2179.37,276.635 2184.73,261.176 2190.1,304.743 2195.49,362.33 2200.87,340.526 2206.23,378.731 \n",
       "  2211.62,376.595 2216.99,364.256 2222.35,402.003 2227.73,337.389 2233.12,300.806 2238.48,355.78 2243.85,398.908 2249.24,364.454 2254.61,385.852 2259.97,440.338 \n",
       "  2265.36,381.281 2270.73,358.111 2276.1,300.738 2281.48,305.125 2286.86,337.165 2292.22,306.364 \n",
       "  \"/>\n",
       "<path clip-path=\"url(#clip4000)\" d=\"\n",
       "M1818.76 1281.62 L2280.76 1281.62 L2280.76 1100.18 L1818.76 1100.18  Z\n",
       "  \" fill=\"#ffffff\" fill-rule=\"evenodd\" fill-opacity=\"1\"/>\n",
       "<polyline clip-path=\"url(#clip4000)\" style=\"stroke:#000000; stroke-width:4; stroke-opacity:1; fill:none\" points=\"\n",
       "  1818.76,1281.62 2280.76,1281.62 2280.76,1100.18 1818.76,1100.18 1818.76,1281.62 \n",
       "  \"/>\n",
       "<polyline clip-path=\"url(#clip4000)\" style=\"stroke:#ff0000; stroke-width:4; stroke-opacity:1; fill:none\" points=\"\n",
       "  1842.76,1160.66 1986.76,1160.66 \n",
       "  \"/>\n",
       "<g clip-path=\"url(#clip4000)\">\n",
       "<text style=\"fill:#000000; fill-opacity:1; font-family:Arial,Helvetica Neue,Helvetica,sans-serif; font-size:48px; text-anchor:start;\" transform=\"rotate(0, 2010.76, 1178.16)\" x=\"2010.76\" y=\"1178.16\">IRKGL16</text>\n",
       "</g>\n",
       "<polyline clip-path=\"url(#clip4000)\" style=\"stroke:#008000; stroke-width:4; stroke-opacity:1; fill:none\" points=\"\n",
       "  1842.76,1221.14 1986.76,1221.14 \n",
       "  \"/>\n",
       "<g clip-path=\"url(#clip4000)\">\n",
       "<text style=\"fill:#000000; fill-opacity:1; font-family:Arial,Helvetica Neue,Helvetica,sans-serif; font-size:48px; text-anchor:start;\" transform=\"rotate(0, 2010.76, 1238.64)\" x=\"2010.76\" y=\"1238.64\">DPRKN12</text>\n",
       "</g>\n",
       "</svg>\n"
      ]
     },
     "execution_count": 15,
     "metadata": {},
     "output_type": "execute_result"
    }
   ],
   "source": [
    "plot(title=\"Energy conservation (Float64)\", xlabel=\"t (days)\", ylabel=L\"\\Delta E\")    \n",
    "plot!(sol1t,log10.(abs.(ΔE1)), label=\"IRKGL16\", color=\"red\",legend=:bottomright)\n",
    "plot!(sol21t,log10.(abs.(ΔE21)), label=\"DPRKN12\", color=\"green\")"
   ]
  },
  {
   "cell_type": "code",
   "execution_count": 14,
   "metadata": {},
   "outputs": [
    {
     "data": {
      "text/plain": [
       "2020-06-30T17:43:22.108"
      ]
     },
     "execution_count": 14,
     "metadata": {},
     "output_type": "execute_result"
    }
   ],
   "source": [
    "now()"
   ]
  }
 ],
 "metadata": {
  "kernelspec": {
   "display_name": "Julia 1.4.2",
   "language": "julia",
   "name": "julia-1.4"
  },
  "language_info": {
   "file_extension": ".jl",
   "mimetype": "application/julia",
   "name": "julia",
   "version": "1.4.2"
  }
 },
 "nbformat": 4,
 "nbformat_minor": 2
}
