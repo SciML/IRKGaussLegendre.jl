{
 "cells": [
  {
   "cell_type": "markdown",
   "metadata": {},
   "source": [
    "# RTBP Problem  experiments"
   ]
  },
  {
   "cell_type": "markdown",
   "metadata": {},
   "source": [
    "<ul id=\"top\">\n",
    "<li><a href=\"#Loading-packages\"> \n",
    "             Loading Packages</a></li>\n",
    "    \n",
    "<li><a href=\"#Computer-properties\"> \n",
    "             Computer properties</a></li>  \n",
    "\n",
    "<li><a href=\"#Initial-value-problem:-RTBP\">\n",
    "             Initial value problem: RTBP</a></li>\n",
    "\n",
    "<li><a href=\"#Ode-problem\">\n",
    "             Ode problem</a></li>\n",
    "\n",
    "<li><a href=\"#Error-in-energy\">\n",
    "             Error in energy</a></li> \n",
    "\n",
    "<li><a href=\"#Work-Precision-diagrams\">\n",
    "             Work-Precision diagrams</a></li> \n",
    "\n",
    "</ul>  "
   ]
  },
  {
   "cell_type": "markdown",
   "metadata": {},
   "source": [
    "## Loading packages"
   ]
  },
  {
   "cell_type": "code",
   "execution_count": 2,
   "metadata": {},
   "outputs": [],
   "source": [
    "using OrdinaryDiffEq,DiffEqDevTools,BenchmarkTools\n",
    "using IRKGaussLegendre\n",
    "using Plots,LinearAlgebra\n",
    "using Dates\n",
    "using JLD2, FileIO"
   ]
  },
  {
   "cell_type": "code",
   "execution_count": 3,
   "metadata": {},
   "outputs": [],
   "source": [
    "#plotly()"
   ]
  },
  {
   "cell_type": "markdown",
   "metadata": {},
   "source": [
    "<a href=\"#top\">Back to the top</a>\n",
    "\n",
    "## Computer properties"
   ]
  },
  {
   "cell_type": "code",
   "execution_count": 4,
   "metadata": {},
   "outputs": [
    {
     "data": {
      "text/plain": [
       "1"
      ]
     },
     "execution_count": 4,
     "metadata": {},
     "output_type": "execute_result"
    }
   ],
   "source": [
    "#export JULIA_NUM_THREADS=2\n",
    "Threads.nthreads()"
   ]
  },
  {
   "cell_type": "code",
   "execution_count": 5,
   "metadata": {},
   "outputs": [],
   "source": [
    "#;cat /proc/cpuinfo # on Linux machines"
   ]
  },
  {
   "cell_type": "code",
   "execution_count": 6,
   "metadata": {},
   "outputs": [
    {
     "data": {
      "text/plain": [
       "2"
      ]
     },
     "execution_count": 6,
     "metadata": {},
     "output_type": "execute_result"
    }
   ],
   "source": [
    "using Hwloc\n",
    "Hwloc.num_physical_cores()"
   ]
  },
  {
   "cell_type": "markdown",
   "metadata": {},
   "source": [
    "<a href=\"#top\">Back to the top</a>\n",
    "\n",
    "## Initial value problem:  RTBP"
   ]
  },
  {
   "cell_type": "code",
   "execution_count": 7,
   "metadata": {},
   "outputs": [
    {
     "data": {
      "text/plain": [
       "(Array{Float64,1}, Float64, Tuple{Float64,Float64}, Array{BigFloat,1}, BigFloat, Tuple{BigFloat,BigFloat})"
      ]
     },
     "execution_count": 7,
     "metadata": {},
     "output_type": "execute_result"
    }
   ],
   "source": [
    "setprecision(BigFloat, 108);\n",
    "include(\"../examples/RTBP.jl\")\n",
    "include(\"../examples/InitialRTBP.jl\")\n",
    "\n",
    "\n",
    "# Periodo bat!! !!!\n",
    "\n",
    "t0=0.0\n",
    "t1=parse(Float64,\"17.0652165601579625588917206249\")\n",
    "\n",
    "u064,μ64 =InitialRTBP(Float64)\n",
    "lpp=[μ64]\n",
    "tspan64=(t0,2*t1)\n",
    "prob64 = ODEProblem(f,u064,tspan64,[μ64]);\n",
    "\n",
    "u0128,μ128=InitialRTBP(BigFloat)\n",
    "tspan128=(BigFloat(t0),2*parse(BigFloat,\"17.0652165601579625588917206249\"))\n",
    "prob128 = ODEProblem(f,u0128,tspan128,μ128,;lpp=lpp);\n",
    "(typeof(u064),typeof(μ64),typeof(tspan64),typeof(u0128),typeof(μ128),typeof(tspan128))"
   ]
  },
  {
   "cell_type": "markdown",
   "metadata": {},
   "source": [
    "<a href=\"#top\">Back to the top</a>\n",
    "\n",
    "## Test solution"
   ]
  },
  {
   "cell_type": "code",
   "execution_count": 8,
   "metadata": {},
   "outputs": [],
   "source": [
    "#test_sol = TestSolution(tspan128,[u0128]);"
   ]
  },
  {
   "cell_type": "code",
   "execution_count": 9,
   "metadata": {},
   "outputs": [
    {
     "data": {
      "text/plain": [
       "DiffEqBase.DEStats\n",
       "Number of function 1 evaluations:                  1484322\n",
       "Number of function 2 evaluations:                  0\n",
       "Number of W matrix evaluations:                    0\n",
       "Number of linear solves:                           0\n",
       "Number of Jacobians created:                       0\n",
       "Number of nonlinear solver iterations:             0\n",
       "Number of nonlinear solver convergence failures:   0\n",
       "Number of rootfind condition calls:                0\n",
       "Number of accepted steps:                          92767\n",
       "Number of rejected steps:                          3"
      ]
     },
     "execution_count": 9,
     "metadata": {},
     "output_type": "execute_result"
    }
   ],
   "source": [
    "setprecision(BigFloat, 256)\n",
    "#sol =solve(prob128,Vern9(),save_everystep=false,abstol=1e-32,reltol=1e-32);\n",
    "#@save \"./Data/RTBP_test_solF128END.jld2\" sol\n",
    "\n",
    "@load \"./Data/RTBP_test_solF128END.jld2\" sol\n",
    "test_sol = TestSolution(sol);\n",
    "sol.destats"
   ]
  },
  {
   "cell_type": "markdown",
   "metadata": {},
   "source": [
    "<a href=\"#top\">Back to the top</a>\n",
    "\n",
    "## Float64 Computations (OdeProblem)"
   ]
  },
  {
   "cell_type": "markdown",
   "metadata": {},
   "source": [
    "### Vern9 "
   ]
  },
  {
   "cell_type": "code",
   "execution_count": 10,
   "metadata": {},
   "outputs": [
    {
     "data": {
      "text/plain": [
       "DiffEqBase.DEStats\n",
       "Number of function 1 evaluations:                  9138\n",
       "Number of function 2 evaluations:                  0\n",
       "Number of W matrix evaluations:                    0\n",
       "Number of linear solves:                           0\n",
       "Number of Jacobians created:                       0\n",
       "Number of nonlinear solver iterations:             0\n",
       "Number of nonlinear solver convergence failures:   0\n",
       "Number of rootfind condition calls:                0\n",
       "Number of accepted steps:                          534\n",
       "Number of rejected steps:                          37"
      ]
     },
     "execution_count": 10,
     "metadata": {},
     "output_type": "execute_result"
    }
   ],
   "source": [
    "sol9 =solve(prob64,Vern9(),abstol=1e-12,reltol=1e-12);\n",
    "sol9.destats"
   ]
  },
  {
   "cell_type": "markdown",
   "metadata": {},
   "source": [
    "### IRKGL16 "
   ]
  },
  {
   "cell_type": "code",
   "execution_count": 11,
   "metadata": {},
   "outputs": [
    {
     "data": {
      "text/plain": [
       "DiffEqBase.DEStats\n",
       "Number of function 1 evaluations:                  15582\n",
       "Number of function 2 evaluations:                  0\n",
       "Number of W matrix evaluations:                    0\n",
       "Number of linear solves:                           0\n",
       "Number of Jacobians created:                       0\n",
       "Number of nonlinear solver iterations:             0\n",
       "Number of nonlinear solver convergence failures:   0\n",
       "Number of rootfind condition calls:                0\n",
       "Number of accepted steps:                          137\n",
       "Number of rejected steps:                          25"
      ]
     },
     "execution_count": 11,
     "metadata": {},
     "output_type": "execute_result"
    }
   ],
   "source": [
    "(sol1,iters1,steps1) = solve(prob64,IRKGL16(), reltol=1e-12, abstol=1e-12, adaptive=true,myoutputs=true,\n",
    "                             mixed_precision=false)\n",
    "sol1.destats"
   ]
  },
  {
   "cell_type": "code",
   "execution_count": 12,
   "metadata": {},
   "outputs": [
    {
     "data": {
      "image/svg+xml": [
       "<?xml version=\"1.0\" encoding=\"utf-8\"?>\n",
       "<svg xmlns=\"http://www.w3.org/2000/svg\" xmlns:xlink=\"http://www.w3.org/1999/xlink\" width=\"600\" height=\"400\" viewBox=\"0 0 2400 1600\">\n",
       "<defs>\n",
       "  <clipPath id=\"clip8900\">\n",
       "    <rect x=\"0\" y=\"0\" width=\"2400\" height=\"1600\"/>\n",
       "  </clipPath>\n",
       "</defs>\n",
       "<path clip-path=\"url(#clip8900)\" d=\"\n",
       "M0 1600 L2400 1600 L2400 0 L0 0  Z\n",
       "  \" fill=\"#ffffff\" fill-rule=\"evenodd\" fill-opacity=\"1\"/>\n",
       "<defs>\n",
       "  <clipPath id=\"clip8901\">\n",
       "    <rect x=\"480\" y=\"0\" width=\"1681\" height=\"1600\"/>\n",
       "  </clipPath>\n",
       "</defs>\n",
       "<path clip-path=\"url(#clip8900)\" d=\"\n",
       "M180.66 1487.47 L2352.76 1487.47 L2352.76 47.2441 L180.66 47.2441  Z\n",
       "  \" fill=\"#ffffff\" fill-rule=\"evenodd\" fill-opacity=\"1\"/>\n",
       "<defs>\n",
       "  <clipPath id=\"clip8902\">\n",
       "    <rect x=\"180\" y=\"47\" width=\"2173\" height=\"1441\"/>\n",
       "  </clipPath>\n",
       "</defs>\n",
       "<polyline clip-path=\"url(#clip8902)\" style=\"stroke:#000000; stroke-width:2; stroke-opacity:0.1; fill:none\" points=\"\n",
       "  242.135,1487.47 242.135,47.2441 \n",
       "  \"/>\n",
       "<polyline clip-path=\"url(#clip8902)\" style=\"stroke:#000000; stroke-width:2; stroke-opacity:0.1; fill:none\" points=\"\n",
       "  842.522,1487.47 842.522,47.2441 \n",
       "  \"/>\n",
       "<polyline clip-path=\"url(#clip8902)\" style=\"stroke:#000000; stroke-width:2; stroke-opacity:0.1; fill:none\" points=\"\n",
       "  1442.91,1487.47 1442.91,47.2441 \n",
       "  \"/>\n",
       "<polyline clip-path=\"url(#clip8902)\" style=\"stroke:#000000; stroke-width:2; stroke-opacity:0.1; fill:none\" points=\"\n",
       "  2043.3,1487.47 2043.3,47.2441 \n",
       "  \"/>\n",
       "<polyline clip-path=\"url(#clip8902)\" style=\"stroke:#000000; stroke-width:2; stroke-opacity:0.1; fill:none\" points=\"\n",
       "  180.66,1446.71 2352.76,1446.71 \n",
       "  \"/>\n",
       "<polyline clip-path=\"url(#clip8902)\" style=\"stroke:#000000; stroke-width:2; stroke-opacity:0.1; fill:none\" points=\"\n",
       "  180.66,1104.04 2352.76,1104.04 \n",
       "  \"/>\n",
       "<polyline clip-path=\"url(#clip8902)\" style=\"stroke:#000000; stroke-width:2; stroke-opacity:0.1; fill:none\" points=\"\n",
       "  180.66,761.368 2352.76,761.368 \n",
       "  \"/>\n",
       "<polyline clip-path=\"url(#clip8902)\" style=\"stroke:#000000; stroke-width:2; stroke-opacity:0.1; fill:none\" points=\"\n",
       "  180.66,418.696 2352.76,418.696 \n",
       "  \"/>\n",
       "<polyline clip-path=\"url(#clip8902)\" style=\"stroke:#000000; stroke-width:2; stroke-opacity:0.1; fill:none\" points=\"\n",
       "  180.66,76.0234 2352.76,76.0234 \n",
       "  \"/>\n",
       "<polyline clip-path=\"url(#clip8900)\" style=\"stroke:#000000; stroke-width:4; stroke-opacity:1; fill:none\" points=\"\n",
       "  180.66,1487.47 2352.76,1487.47 \n",
       "  \"/>\n",
       "<polyline clip-path=\"url(#clip8900)\" style=\"stroke:#000000; stroke-width:4; stroke-opacity:1; fill:none\" points=\"\n",
       "  180.66,1487.47 180.66,47.2441 \n",
       "  \"/>\n",
       "<polyline clip-path=\"url(#clip8900)\" style=\"stroke:#000000; stroke-width:4; stroke-opacity:1; fill:none\" points=\"\n",
       "  242.135,1487.47 242.135,1470.19 \n",
       "  \"/>\n",
       "<polyline clip-path=\"url(#clip8900)\" style=\"stroke:#000000; stroke-width:4; stroke-opacity:1; fill:none\" points=\"\n",
       "  842.522,1487.47 842.522,1470.19 \n",
       "  \"/>\n",
       "<polyline clip-path=\"url(#clip8900)\" style=\"stroke:#000000; stroke-width:4; stroke-opacity:1; fill:none\" points=\"\n",
       "  1442.91,1487.47 1442.91,1470.19 \n",
       "  \"/>\n",
       "<polyline clip-path=\"url(#clip8900)\" style=\"stroke:#000000; stroke-width:4; stroke-opacity:1; fill:none\" points=\"\n",
       "  2043.3,1487.47 2043.3,1470.19 \n",
       "  \"/>\n",
       "<polyline clip-path=\"url(#clip8900)\" style=\"stroke:#000000; stroke-width:4; stroke-opacity:1; fill:none\" points=\"\n",
       "  180.66,1446.71 206.725,1446.71 \n",
       "  \"/>\n",
       "<polyline clip-path=\"url(#clip8900)\" style=\"stroke:#000000; stroke-width:4; stroke-opacity:1; fill:none\" points=\"\n",
       "  180.66,1104.04 206.725,1104.04 \n",
       "  \"/>\n",
       "<polyline clip-path=\"url(#clip8900)\" style=\"stroke:#000000; stroke-width:4; stroke-opacity:1; fill:none\" points=\"\n",
       "  180.66,761.368 206.725,761.368 \n",
       "  \"/>\n",
       "<polyline clip-path=\"url(#clip8900)\" style=\"stroke:#000000; stroke-width:4; stroke-opacity:1; fill:none\" points=\"\n",
       "  180.66,418.696 206.725,418.696 \n",
       "  \"/>\n",
       "<polyline clip-path=\"url(#clip8900)\" style=\"stroke:#000000; stroke-width:4; stroke-opacity:1; fill:none\" points=\"\n",
       "  180.66,76.0234 206.725,76.0234 \n",
       "  \"/>\n",
       "<g clip-path=\"url(#clip8900)\">\n",
       "<text style=\"fill:#000000; fill-opacity:1; font-family:Arial,Helvetica Neue,Helvetica,sans-serif; font-size:48px; text-anchor:middle;\" transform=\"rotate(0, 242.135, 1541.47)\" x=\"242.135\" y=\"1541.47\">0</text>\n",
       "</g>\n",
       "<g clip-path=\"url(#clip8900)\">\n",
       "<text style=\"fill:#000000; fill-opacity:1; font-family:Arial,Helvetica Neue,Helvetica,sans-serif; font-size:48px; text-anchor:middle;\" transform=\"rotate(0, 842.522, 1541.47)\" x=\"842.522\" y=\"1541.47\">10</text>\n",
       "</g>\n",
       "<g clip-path=\"url(#clip8900)\">\n",
       "<text style=\"fill:#000000; fill-opacity:1; font-family:Arial,Helvetica Neue,Helvetica,sans-serif; font-size:48px; text-anchor:middle;\" transform=\"rotate(0, 1442.91, 1541.47)\" x=\"1442.91\" y=\"1541.47\">20</text>\n",
       "</g>\n",
       "<g clip-path=\"url(#clip8900)\">\n",
       "<text style=\"fill:#000000; fill-opacity:1; font-family:Arial,Helvetica Neue,Helvetica,sans-serif; font-size:48px; text-anchor:middle;\" transform=\"rotate(0, 2043.3, 1541.47)\" x=\"2043.3\" y=\"1541.47\">30</text>\n",
       "</g>\n",
       "<g clip-path=\"url(#clip8900)\">\n",
       "<text style=\"fill:#000000; fill-opacity:1; font-family:Arial,Helvetica Neue,Helvetica,sans-serif; font-size:48px; text-anchor:end;\" transform=\"rotate(0, 156.66, 1464.21)\" x=\"156.66\" y=\"1464.21\">0.00</text>\n",
       "</g>\n",
       "<g clip-path=\"url(#clip8900)\">\n",
       "<text style=\"fill:#000000; fill-opacity:1; font-family:Arial,Helvetica Neue,Helvetica,sans-serif; font-size:48px; text-anchor:end;\" transform=\"rotate(0, 156.66, 1121.54)\" x=\"156.66\" y=\"1121.54\">0.25</text>\n",
       "</g>\n",
       "<g clip-path=\"url(#clip8900)\">\n",
       "<text style=\"fill:#000000; fill-opacity:1; font-family:Arial,Helvetica Neue,Helvetica,sans-serif; font-size:48px; text-anchor:end;\" transform=\"rotate(0, 156.66, 778.868)\" x=\"156.66\" y=\"778.868\">0.50</text>\n",
       "</g>\n",
       "<g clip-path=\"url(#clip8900)\">\n",
       "<text style=\"fill:#000000; fill-opacity:1; font-family:Arial,Helvetica Neue,Helvetica,sans-serif; font-size:48px; text-anchor:end;\" transform=\"rotate(0, 156.66, 436.196)\" x=\"156.66\" y=\"436.196\">0.75</text>\n",
       "</g>\n",
       "<g clip-path=\"url(#clip8900)\">\n",
       "<text style=\"fill:#000000; fill-opacity:1; font-family:Arial,Helvetica Neue,Helvetica,sans-serif; font-size:48px; text-anchor:end;\" transform=\"rotate(0, 156.66, 93.5234)\" x=\"156.66\" y=\"93.5234\">1.00</text>\n",
       "</g>\n",
       "<polyline clip-path=\"url(#clip8902)\" style=\"stroke:#009af9; stroke-width:4; stroke-opacity:1; fill:none\" points=\"\n",
       "  242.176,1445.77 242.201,1446.14 242.232,1446.01 242.259,1446.1 242.288,1446.05 242.317,1446.04 242.35,1445.97 242.383,1445.95 242.417,1445.95 242.452,1445.91 \n",
       "  242.489,1445.87 242.528,1445.82 242.57,1445.75 242.616,1445.67 242.666,1445.56 242.724,1445.39 242.793,1445.14 242.861,1445.15 242.937,1444.98 243.018,1444.87 \n",
       "  243.106,1444.71 243.201,1444.54 243.304,1444.36 243.416,1444.15 243.539,1443.92 243.672,1443.67 243.818,1443.38 243.978,1443.07 244.153,1442.71 244.346,1442.31 \n",
       "  244.558,1441.88 244.791,1441.38 245.048,1440.85 245.332,1440.23 245.646,1439.55 245.992,1438.8 246.376,1437.95 246.801,1437.01 247.272,1435.97 247.794,1434.8 \n",
       "  248.372,1433.51 249.014,1432.05 249.727,1430.44 250.517,1428.67 251.395,1426.68 252.369,1424.48 253.45,1422.03 254.649,1419.33 255.981,1416.32 257.458,1412.98 \n",
       "  259.097,1409.3 260.916,1405.19 262.932,1400.69 265.166,1395.7 267.644,1390.15 270.385,1384.14 273.404,1377.8 276.594,1373.88 279.822,1373.02 283.059,1372.81 \n",
       "  286.27,1373.4 289.459,1373.92 292.663,1373.56 296.065,1369.05 299.036,1378.88 301.927,1380.72 304.655,1384.42 307.327,1385.71 309.957,1386.67 312.597,1386.45 \n",
       "  315.23,1386.6 317.816,1387.67 320.37,1388.4 322.931,1388.25 325.544,1387.06 328.265,1384.6 331.15,1380.85 334.129,1378.69 337.188,1376.88 340.373,1374.01 \n",
       "  343.704,1370.66 347.219,1366.47 350.95,1361.54 354.941,1355.58 359.24,1348.57 363.908,1340.15 369.009,1330.25 374.601,1319.05 380.674,1308.08 387.238,1296.86 \n",
       "  394.365,1283.99 402.23,1267.17 411.32,1239.19 419.915,1250.48 429.164,1235.57 438.364,1236.67 447.88,1229.48 457.438,1228.49 467.109,1225.93 476.761,1226.35 \n",
       "  486.368,1227.4 495.846,1230.32 505.147,1234.38 514.205,1239.92 522.964,1246.73 531.366,1254.9 539.347,1264.51 546.803,1276.5 553.635,1290.72 559.842,1305.02 \n",
       "  565.476,1318.08 570.619,1329.31 575.368,1338.3 579.847,1344.44 584.291,1345.27 588.323,1354.66 591.99,1363 595.472,1367.22 598.816,1370.36 602.109,1371.55 \n",
       "  605.376,1372.12 608.589,1373.36 611.73,1375.01 614.854,1375.39 618.017,1374.49 621.293,1371.94 624.745,1367.9 628.289,1365.79 631.909,1364.08 635.656,1361.16 \n",
       "  639.564,1357.49 643.68,1352.75 648.05,1346.95 652.723,1340.01 657.755,1331.84 663.206,1322.26 669.133,1311.41 675.589,1299.31 682.622,1286.16 690.324,1270.87 \n",
       "  698.69,1255.71 707.388,1248.14 716.393,1241.12 725.644,1235.52 735.118,1230.43 744.763,1226.51 754.533,1223.66 764.364,1222.26 774.216,1221.79 784.023,1222.82 \n",
       "  793.718,1225.39 803.24,1229.33 812.539,1234.41 821.57,1240.54 830.291,1247.62 838.663,1255.57 846.641,1264.57 854.155,1275.17 861.105,1288.06 867.437,1302.15 \n",
       "  873.175,1315.71 878.377,1327.95 883.15,1337.74 887.59,1345.34 891.859,1349.27 896.223,1347.07 899.812,1364.79 903.335,1366.27 906.639,1371.29 909.933,1371.52 \n",
       "  913.201,1372.1 916.467,1372.13 919.672,1373.56 922.846,1374.24 926.044,1373.7 929.329,1371.72 932.754,1368.53 936.264,1366.57 939.833,1365.22 943.509,1362.81 \n",
       "  947.319,1359.73 951.305,1355.71 955.51,1350.72 959.98,1344.66 964.763,1337.5 969.912,1329.18 975.475,1319.69 981.493,1309.33 988.015,1297.83 995.109,1284.76 \n",
       "  1002.91,1268.53 1011.53,1250.02 1020.21,1248.46 1029.27,1239.96 1038.47,1236.59 1047.89,1231.62 1057.42,1229.15 1067.04,1227.26 1076.65,1227.31 1086.19,1228.74 \n",
       "  1095.61,1231.86 1104.82,1236.46 1113.76,1242.5 1122.39,1249.79 1130.65,1258.13 1138.51,1267.19 1145.95,1276.95 1152.87,1288.53 1159.17,1302.88 1164.84,1317.33 \n",
       "  1169.93,1330.56 1174.51,1342.12 1178.67,1351.67 1182.53,1358.62 1186.32,1360.2 1189.67,1370.36 1192.71,1377.28 1195.58,1381.12 1198.36,1383.31 1201.12,1383.7 \n",
       "  1203.89,1383.46 1206.64,1384 1209.33,1385.21 1212.02,1385.35 1214.74,1384.48 1217.56,1382.36 1220.5,1379.69 1223.49,1378.5 1226.54,1376.94 1229.7,1374.72 \n",
       "  1232.98,1371.73 1236.44,1367.74 1240.12,1362.7 1243.8,1362.71 1247.27,1367.53 1250.49,1373.06 1253.4,1380.42 1255.64,1395.48 1257.5,1404.3 1259.02,1411.91 \n",
       "  1260.28,1418 1261.32,1423.03 1262.17,1427.15 1262.88,1430.53 1263.47,1433.29 1263.96,1435.54 1264.37,1437.38 1264.71,1438.89 1265.03,1439.42 1265.27,1441.19 \n",
       "  1265.48,1442.02 1265.67,1442.35 1265.82,1443.33 1265.95,1443.79 1266.07,1443.99 1266.17,1444.3 1266.27,1444.5 1266.34,1445.16 1266.39,1445.44 1266.45,1445.51 \n",
       "  1266.49,1445.64 1266.54,1445.71 1266.58,1445.74 1266.62,1445.86 1266.65,1445.93 1266.68,1445.98 1266.72,1445.98 1266.75,1446 1266.78,1445.98 1266.81,1446.04 \n",
       "  1266.84,1446.05 1266.87,1446.04 1266.9,1446.01 1266.93,1445.93 1266.97,1445.95 1267,1445.92 1267.04,1445.9 1267.07,1445.85 1267.11,1445.8 1267.16,1445.73 \n",
       "  1267.2,1445.64 1267.26,1445.52 1267.32,1445.32 1267.39,1445.14 1267.46,1445.11 1267.53,1444.95 1267.62,1444.83 1267.71,1444.66 1267.8,1444.49 1267.91,1444.3 \n",
       "  1268.02,1444.09 1268.15,1443.84 1268.29,1443.59 1268.44,1443.28 1268.6,1442.96 1268.78,1442.59 1268.98,1442.19 1269.2,1441.73 1269.44,1441.23 1269.7,1440.66 \n",
       "  1270,1440.04 1270.32,1439.34 1270.68,1438.55 1271.07,1437.68 1271.51,1436.71 1271.99,1435.63 1272.53,1434.44 1273.13,1433.08 1273.79,1431.61 1274.53,1429.93 \n",
       "  1275.34,1428.09 1276.25,1426.05 1277.25,1423.78 1278.37,1421.25 1279.61,1418.45 1280.98,1415.36 1282.5,1411.94 1284.19,1408.11 1286.07,1403.93 1288.15,1399.23 \n",
       "  1290.45,1394.11 1293,1388.42 1295.83,1382.26 1298.92,1376.2 1302.12,1373.55 1305.36,1372.86 1308.59,1372.95 1311.79,1373.58 1314.98,1373.98 1318.21,1372.94 \n",
       "  1321.57,1369.87 1324.47,1380.55 1327.33,1381.36 1330.03,1385.13 1332.69,1385.95 1335.32,1386.71 1337.97,1386.34 1340.59,1386.85 1343.16,1387.97 1345.71,1388.43 \n",
       "  1348.28,1388.01 1350.92,1386.46 1353.69,1383.56 1356.62,1379.8 1359.61,1378.38 1362.71,1375.99 1365.93,1373.13 1369.32,1369.46 1372.89,1365.09 1376.7,1359.81 \n",
       "  1380.78,1353.61 1385.18,1346.19 1389.97,1337.3 1395.22,1326.94 1400.96,1315.66 1407.18,1304.77 1413.9,1293.25 1421.22,1279.48 1429.39,1260.33 1438.46,1239.69 \n",
       "  1447.16,1247.92 1456.44,1234.9 1465.71,1235.04 1475.26,1228.8 1484.85,1227.77 1494.52,1225.84 1504.17,1226.56 1513.74,1228.1 1523.17,1231.38 1532.41,1235.87 \n",
       "  1541.39,1241.78 1550.05,1249 1558.33,1257.54 1566.17,1267.75 1573.45,1280.52 1580.1,1295 1586.13,1309.01 1591.61,1321.59 1596.62,1332.2 1601.28,1340.44 \n",
       "  1605.71,1345.48 1610.23,1343.6 1614.05,1359.45 1617.71,1363.3 1621.12,1368.71 1624.46,1370.5 1627.74,1371.76 1631.01,1372.2 1634.2,1373.93 1637.33,1375.19 \n",
       "  1640.46,1375.21 1643.65,1373.8 1646.99,1370.68 1650.49,1366.75 1654.05,1365.46 1657.71,1363.11 1661.5,1360.07 1665.48,1356.02 1669.67,1350.98 1674.13,1344.79 \n",
       "  1678.92,1337.45 1684.08,1328.8 1689.69,1318.82 1695.78,1307.52 1702.42,1295.11 1709.67,1281.29 1717.61,1265.36 1726.13,1252.34 1734.92,1246.01 1744.02,1238.96 \n",
       "  1753.34,1233.85 1762.88,1228.92 1772.57,1225.44 1782.37,1223.02 1792.21,1222.1 1802.06,1221.86 1811.83,1223.55 1821.48,1226.54 1830.93,1230.9 1840.15,1236.33 \n",
       "  1849.08,1242.79 1857.69,1250.16 1865.94,1258.44 1873.77,1267.86 1881.11,1279.2 1887.85,1292.71 1893.98,1306.76 1899.53,1319.97 1904.58,1331.44 1909.23,1340.56 \n",
       "  1913.59,1347.15 1917.87,1349.08 1921.9,1354.68 1925.46,1365.57 1928.88,1368.52 1932.17,1371.72 1935.44,1372 1938.7,1372.2 1941.95,1372.61 1945.13,1374.02 \n",
       "  1948.3,1374.3 1951.52,1373.39 1954.83,1370.98 1958.29,1367.77 1961.81,1366.37 1965.41,1364.63 1969.11,1362.09 1972.97,1358.73 1977.01,1354.44 1981.28,1349.16 \n",
       "  1985.83,1342.86 1990.71,1335.32 1995.97,1326.67 2001.65,1316.93 2007.8,1306.33 2014.47,1294.47 2021.74,1280.7 2029.78,1263.17 2038.46,1248.56 2047.22,1246.64 \n",
       "  2056.34,1238.71 2065.6,1235.3 2075.05,1230.76 2084.61,1228.55 2094.23,1227.11 2103.83,1227.54 2113.35,1229.43 2122.71,1232.97 2131.85,1237.96 2140.72,1244.37 \n",
       "  2149.25,1251.97 2157.4,1260.53 2165.15,1269.76 2172.46,1279.83 2179.23,1292.24 2185.35,1306.91 2190.86,1321.06 2195.8,1333.89 2200.26,1344.93 2204.32,1353.86 \n",
       "  2208.13,1359.86 2211.58,1367.8 2214.65,1376.83 2217.53,1380.89 2220.27,1384.18 2222.95,1385.4 2225.64,1385.48 2228.34,1384.88 2231.04,1385.16 2233.7,1386.1 \n",
       "  2236.35,1386.13 2239.04,1385.22 2241.83,1383.12 2244.74,1380.33 2247.7,1378.93 2250.74,1377.44 2253.87,1375.24 2257.13,1372.31 2260.56,1368.46 2264.2,1363.48 \n",
       "  2267.9,1362.19 2271.39,1367.07 2274.66,1372.19 2277.6,1379.47 2279.91,1394.14 2281.81,1403.13 2283.38,1410.9 2284.68,1417.16 2285.75,1422.33 2286.63,1426.58 \n",
       "  2287.36,1430.06 2287.96,1432.9 2288.47,1435.23 2288.89,1437.13 2289.24,1438.68 2289.57,1439.23 2289.81,1441.05 2290.02,1441.9 2290.22,1442.24 2290.37,1443.25 \n",
       "  2290.5,1443.73 2290.62,1443.93 2290.73,1444.25 2290.83,1444.47 2290.9,1445.1 2290.96,1445.41 2291.01,1445.49 2291.06,1445.63 2291.1,1445.7 2291.15,1445.73 \n",
       "  2291.19,1445.83 2291.22,1445.93 2291.25,1445.97 2291.28,1446.06 \n",
       "  \"/>\n",
       "<polyline clip-path=\"url(#clip8902)\" style=\"stroke:#e26f46; stroke-width:4; stroke-opacity:1; fill:none\" points=\"\n",
       "  242.135,1446.71 242.24,1444.32 242.342,1444.38 242.482,1443.5 242.684,1442.12 242.976,1440.04 243.453,1435.81 244.206,1429.52 245.401,1419.45 247.413,1400.78 \n",
       "  250.861,1367.99 256.853,1309.91 267.402,1205.88 285.047,1043.88 297.115,1171.21 306.348,1235.92 315.908,1228.46 326.43,1206.49 339.752,1142.59 357.552,1040.33 \n",
       "  381.914,890.522 422.005,531.442 479.726,128.939 507.11,821.536 539.4,709.515 563.084,906.006 578.284,1099.69 591.26,1150.47 602.504,1190.01 613.676,1191.66 \n",
       "  626.599,1151.69 643.501,1060.83 670.053,840.529 707.167,599.393 766.681,88.0053 808.282,496.969 843.906,633.415 868.407,887.345 884.524,1078.76 899.139,1113.05 \n",
       "  909.777,1203.86 920.946,1191.71 933.925,1150.4 950.907,1059.02 975.448,886.437 1009.71,664.609 1067.23,133.437 1104.14,603.95 1136.88,699.318 1159.96,919.743 \n",
       "  1176.19,1076.29 1187.59,1186.4 1196.57,1241.73 1205.82,1235.45 1216.24,1208.94 1229.18,1151.31 1245.44,1075.48 1249.53,1353.35 1256.27,1292.84 1260.38,1352.87 \n",
       "  1262.82,1390.89 1264.27,1413.62 1265.15,1426.7 1265.7,1434.19 1266.06,1438.46 1266.31,1441.1 1266.45,1443.31 1266.58,1443.83 1266.67,1444.57 1266.76,1444.68 \n",
       "  1266.86,1444.5 1266.98,1443.92 1267.15,1442.95 1267.4,1440.97 1267.76,1438.44 1268.38,1432.55 1269.32,1425.2 1270.89,1411.03 1273.54,1386.05 1278.13,1341.94 \n",
       "  1286.16,1263.46 1300.4,1121.59 1314.06,1134.94 1325.87,1177.13 1335.21,1233.33 1344.39,1237.13 1354.81,1208.81 1368.51,1133.92 1390.32,948.985 1418.97,792.5 \n",
       "  1466.03,372.465 1519.96,215.426 1549.72,767.286 1577.48,813.011 1595.52,1034.83 1610.31,1108.96 1621.67,1187.38 1632.88,1190.7 1645.41,1160.85 1661.52,1078.75 \n",
       "  1683.78,938.554 1713.77,762.114 1763.77,305.048 1821.57,127.287 1854.23,701 1882.85,793.384 1903.89,966.257 1917.29,1140.89 1928.73,1185.5 1940.12,1186.68 \n",
       "  1952.2,1171 1966.98,1109.29 1986.79,994.376 2016.11,777.324 2061.17,418.058 2116.35,186.993 2146.21,764.937 2172.5,846.552 2191.89,1003.88 2204.7,1154.39 \n",
       "  2216.81,1170.13 2225.93,1238.61 2235.51,1227.9 2246.76,1189.93 2261.51,1109.91 2270.8,1234.63 2278.33,1274.92 2283.48,1329.01 2286.53,1377.23 2288.33,1405.6 \n",
       "  2289.41,1422.09 2290.07,1431.56 2290.5,1436.96 2290.79,1440.08 2290.97,1442.56 2291.11,1443.65 2291.21,1444.36 2291.28,1445.04 \n",
       "  \"/>\n",
       "<path clip-path=\"url(#clip8900)\" d=\"\n",
       "M1842.78 312.204 L2280.76 312.204 L2280.76 130.764 L1842.78 130.764  Z\n",
       "  \" fill=\"#ffffff\" fill-rule=\"evenodd\" fill-opacity=\"1\"/>\n",
       "<polyline clip-path=\"url(#clip8900)\" style=\"stroke:#000000; stroke-width:4; stroke-opacity:1; fill:none\" points=\"\n",
       "  1842.78,312.204 2280.76,312.204 2280.76,130.764 1842.78,130.764 1842.78,312.204 \n",
       "  \"/>\n",
       "<polyline clip-path=\"url(#clip8900)\" style=\"stroke:#009af9; stroke-width:4; stroke-opacity:1; fill:none\" points=\"\n",
       "  1866.78,191.244 2010.78,191.244 \n",
       "  \"/>\n",
       "<g clip-path=\"url(#clip8900)\">\n",
       "<text style=\"fill:#000000; fill-opacity:1; font-family:Arial,Helvetica Neue,Helvetica,sans-serif; font-size:48px; text-anchor:start;\" transform=\"rotate(0, 2034.78, 208.744)\" x=\"2034.78\" y=\"208.744\">Vern9</text>\n",
       "</g>\n",
       "<polyline clip-path=\"url(#clip8900)\" style=\"stroke:#e26f46; stroke-width:4; stroke-opacity:1; fill:none\" points=\"\n",
       "  1866.78,251.724 2010.78,251.724 \n",
       "  \"/>\n",
       "<g clip-path=\"url(#clip8900)\">\n",
       "<text style=\"fill:#000000; fill-opacity:1; font-family:Arial,Helvetica Neue,Helvetica,sans-serif; font-size:48px; text-anchor:start;\" transform=\"rotate(0, 2034.78, 269.224)\" x=\"2034.78\" y=\"269.224\">IRKGL16</text>\n",
       "</g>\n",
       "</svg>\n"
      ]
     },
     "execution_count": 12,
     "metadata": {},
     "output_type": "execute_result"
    }
   ],
   "source": [
    "steps9 =sol9.t[2:end]-sol9.t[1:end-1]\n",
    "plot(sol9.t[2:end],steps9, label=\"Vern9\")\n",
    "plot!(sol1.t,steps1, label=\"IRKGL16\")"
   ]
  },
  {
   "cell_type": "code",
   "execution_count": 13,
   "metadata": {},
   "outputs": [
    {
     "data": {
      "image/svg+xml": [
       "<?xml version=\"1.0\" encoding=\"utf-8\"?>\n",
       "<svg xmlns=\"http://www.w3.org/2000/svg\" xmlns:xlink=\"http://www.w3.org/1999/xlink\" width=\"600\" height=\"400\" viewBox=\"0 0 2400 1600\">\n",
       "<defs>\n",
       "  <clipPath id=\"clip9300\">\n",
       "    <rect x=\"0\" y=\"0\" width=\"2400\" height=\"1600\"/>\n",
       "  </clipPath>\n",
       "</defs>\n",
       "<path clip-path=\"url(#clip9300)\" d=\"\n",
       "M0 1600 L2400 1600 L2400 0 L0 0  Z\n",
       "  \" fill=\"#ffffff\" fill-rule=\"evenodd\" fill-opacity=\"1\"/>\n",
       "<defs>\n",
       "  <clipPath id=\"clip9301\">\n",
       "    <rect x=\"480\" y=\"0\" width=\"1681\" height=\"1600\"/>\n",
       "  </clipPath>\n",
       "</defs>\n",
       "<path clip-path=\"url(#clip9300)\" d=\"\n",
       "M182.008 1487.47 L2352.76 1487.47 L2352.76 47.2441 L182.008 47.2441  Z\n",
       "  \" fill=\"#ffffff\" fill-rule=\"evenodd\" fill-opacity=\"1\"/>\n",
       "<defs>\n",
       "  <clipPath id=\"clip9302\">\n",
       "    <rect x=\"182\" y=\"47\" width=\"2172\" height=\"1441\"/>\n",
       "  </clipPath>\n",
       "</defs>\n",
       "<polyline clip-path=\"url(#clip9302)\" style=\"stroke:#000000; stroke-width:2; stroke-opacity:0.1; fill:none\" points=\"\n",
       "  498.678,1487.47 498.678,47.2441 \n",
       "  \"/>\n",
       "<polyline clip-path=\"url(#clip9302)\" style=\"stroke:#000000; stroke-width:2; stroke-opacity:0.1; fill:none\" points=\"\n",
       "  941.517,1487.47 941.517,47.2441 \n",
       "  \"/>\n",
       "<polyline clip-path=\"url(#clip9302)\" style=\"stroke:#000000; stroke-width:2; stroke-opacity:0.1; fill:none\" points=\"\n",
       "  1384.36,1487.47 1384.36,47.2441 \n",
       "  \"/>\n",
       "<polyline clip-path=\"url(#clip9302)\" style=\"stroke:#000000; stroke-width:2; stroke-opacity:0.1; fill:none\" points=\"\n",
       "  1827.19,1487.47 1827.19,47.2441 \n",
       "  \"/>\n",
       "<polyline clip-path=\"url(#clip9302)\" style=\"stroke:#000000; stroke-width:2; stroke-opacity:0.1; fill:none\" points=\"\n",
       "  2270.03,1487.47 2270.03,47.2441 \n",
       "  \"/>\n",
       "<polyline clip-path=\"url(#clip9302)\" style=\"stroke:#000000; stroke-width:2; stroke-opacity:0.1; fill:none\" points=\"\n",
       "  182.008,1362.28 2352.76,1362.28 \n",
       "  \"/>\n",
       "<polyline clip-path=\"url(#clip9302)\" style=\"stroke:#000000; stroke-width:2; stroke-opacity:0.1; fill:none\" points=\"\n",
       "  182.008,1064.55 2352.76,1064.55 \n",
       "  \"/>\n",
       "<polyline clip-path=\"url(#clip9302)\" style=\"stroke:#000000; stroke-width:2; stroke-opacity:0.1; fill:none\" points=\"\n",
       "  182.008,766.833 2352.76,766.833 \n",
       "  \"/>\n",
       "<polyline clip-path=\"url(#clip9302)\" style=\"stroke:#000000; stroke-width:2; stroke-opacity:0.1; fill:none\" points=\"\n",
       "  182.008,469.112 2352.76,469.112 \n",
       "  \"/>\n",
       "<polyline clip-path=\"url(#clip9302)\" style=\"stroke:#000000; stroke-width:2; stroke-opacity:0.1; fill:none\" points=\"\n",
       "  182.008,171.391 2352.76,171.391 \n",
       "  \"/>\n",
       "<polyline clip-path=\"url(#clip9300)\" style=\"stroke:#000000; stroke-width:4; stroke-opacity:1; fill:none\" points=\"\n",
       "  182.008,1487.47 2352.76,1487.47 \n",
       "  \"/>\n",
       "<polyline clip-path=\"url(#clip9300)\" style=\"stroke:#000000; stroke-width:4; stroke-opacity:1; fill:none\" points=\"\n",
       "  182.008,1487.47 182.008,47.2441 \n",
       "  \"/>\n",
       "<polyline clip-path=\"url(#clip9300)\" style=\"stroke:#000000; stroke-width:4; stroke-opacity:1; fill:none\" points=\"\n",
       "  498.678,1487.47 498.678,1470.19 \n",
       "  \"/>\n",
       "<polyline clip-path=\"url(#clip9300)\" style=\"stroke:#000000; stroke-width:4; stroke-opacity:1; fill:none\" points=\"\n",
       "  941.517,1487.47 941.517,1470.19 \n",
       "  \"/>\n",
       "<polyline clip-path=\"url(#clip9300)\" style=\"stroke:#000000; stroke-width:4; stroke-opacity:1; fill:none\" points=\"\n",
       "  1384.36,1487.47 1384.36,1470.19 \n",
       "  \"/>\n",
       "<polyline clip-path=\"url(#clip9300)\" style=\"stroke:#000000; stroke-width:4; stroke-opacity:1; fill:none\" points=\"\n",
       "  1827.19,1487.47 1827.19,1470.19 \n",
       "  \"/>\n",
       "<polyline clip-path=\"url(#clip9300)\" style=\"stroke:#000000; stroke-width:4; stroke-opacity:1; fill:none\" points=\"\n",
       "  2270.03,1487.47 2270.03,1470.19 \n",
       "  \"/>\n",
       "<polyline clip-path=\"url(#clip9300)\" style=\"stroke:#000000; stroke-width:4; stroke-opacity:1; fill:none\" points=\"\n",
       "  182.008,1362.28 208.057,1362.28 \n",
       "  \"/>\n",
       "<polyline clip-path=\"url(#clip9300)\" style=\"stroke:#000000; stroke-width:4; stroke-opacity:1; fill:none\" points=\"\n",
       "  182.008,1064.55 208.057,1064.55 \n",
       "  \"/>\n",
       "<polyline clip-path=\"url(#clip9300)\" style=\"stroke:#000000; stroke-width:4; stroke-opacity:1; fill:none\" points=\"\n",
       "  182.008,766.833 208.057,766.833 \n",
       "  \"/>\n",
       "<polyline clip-path=\"url(#clip9300)\" style=\"stroke:#000000; stroke-width:4; stroke-opacity:1; fill:none\" points=\"\n",
       "  182.008,469.112 208.057,469.112 \n",
       "  \"/>\n",
       "<polyline clip-path=\"url(#clip9300)\" style=\"stroke:#000000; stroke-width:4; stroke-opacity:1; fill:none\" points=\"\n",
       "  182.008,171.391 208.057,171.391 \n",
       "  \"/>\n",
       "<g clip-path=\"url(#clip9300)\">\n",
       "<text style=\"fill:#000000; fill-opacity:1; font-family:Arial,Helvetica Neue,Helvetica,sans-serif; font-size:48px; text-anchor:middle;\" transform=\"rotate(0, 498.678, 1541.47)\" x=\"498.678\" y=\"1541.47\">-1.0</text>\n",
       "</g>\n",
       "<g clip-path=\"url(#clip9300)\">\n",
       "<text style=\"fill:#000000; fill-opacity:1; font-family:Arial,Helvetica Neue,Helvetica,sans-serif; font-size:48px; text-anchor:middle;\" transform=\"rotate(0, 941.517, 1541.47)\" x=\"941.517\" y=\"1541.47\">-0.5</text>\n",
       "</g>\n",
       "<g clip-path=\"url(#clip9300)\">\n",
       "<text style=\"fill:#000000; fill-opacity:1; font-family:Arial,Helvetica Neue,Helvetica,sans-serif; font-size:48px; text-anchor:middle;\" transform=\"rotate(0, 1384.36, 1541.47)\" x=\"1384.36\" y=\"1541.47\">0.0</text>\n",
       "</g>\n",
       "<g clip-path=\"url(#clip9300)\">\n",
       "<text style=\"fill:#000000; fill-opacity:1; font-family:Arial,Helvetica Neue,Helvetica,sans-serif; font-size:48px; text-anchor:middle;\" transform=\"rotate(0, 1827.19, 1541.47)\" x=\"1827.19\" y=\"1541.47\">0.5</text>\n",
       "</g>\n",
       "<g clip-path=\"url(#clip9300)\">\n",
       "<text style=\"fill:#000000; fill-opacity:1; font-family:Arial,Helvetica Neue,Helvetica,sans-serif; font-size:48px; text-anchor:middle;\" transform=\"rotate(0, 2270.03, 1541.47)\" x=\"2270.03\" y=\"1541.47\">1.0</text>\n",
       "</g>\n",
       "<g clip-path=\"url(#clip9300)\">\n",
       "<text style=\"fill:#000000; fill-opacity:1; font-family:Arial,Helvetica Neue,Helvetica,sans-serif; font-size:48px; text-anchor:end;\" transform=\"rotate(0, 158.008, 1379.78)\" x=\"158.008\" y=\"1379.78\">-1.0</text>\n",
       "</g>\n",
       "<g clip-path=\"url(#clip9300)\">\n",
       "<text style=\"fill:#000000; fill-opacity:1; font-family:Arial,Helvetica Neue,Helvetica,sans-serif; font-size:48px; text-anchor:end;\" transform=\"rotate(0, 158.008, 1082.05)\" x=\"158.008\" y=\"1082.05\">-0.5</text>\n",
       "</g>\n",
       "<g clip-path=\"url(#clip9300)\">\n",
       "<text style=\"fill:#000000; fill-opacity:1; font-family:Arial,Helvetica Neue,Helvetica,sans-serif; font-size:48px; text-anchor:end;\" transform=\"rotate(0, 158.008, 784.333)\" x=\"158.008\" y=\"784.333\">0.0</text>\n",
       "</g>\n",
       "<g clip-path=\"url(#clip9300)\">\n",
       "<text style=\"fill:#000000; fill-opacity:1; font-family:Arial,Helvetica Neue,Helvetica,sans-serif; font-size:48px; text-anchor:end;\" transform=\"rotate(0, 158.008, 486.612)\" x=\"158.008\" y=\"486.612\">0.5</text>\n",
       "</g>\n",
       "<g clip-path=\"url(#clip9300)\">\n",
       "<text style=\"fill:#000000; fill-opacity:1; font-family:Arial,Helvetica Neue,Helvetica,sans-serif; font-size:48px; text-anchor:end;\" transform=\"rotate(0, 158.008, 188.891)\" x=\"158.008\" y=\"188.891\">1.0</text>\n",
       "</g>\n",
       "<polyline clip-path=\"url(#clip9302)\" style=\"stroke:#009af9; stroke-width:4; stroke-opacity:1; fill:none\" points=\"\n",
       "  2264.72,766.833 2264.31,768.864 2263.31,770.622 2261.45,772.615 2258.5,774.812 2254.25,777.196 2247.72,780.027 2238.32,783.17 2224.87,786.531 2204.47,789.878 \n",
       "  2172.84,791.791 2122.2,787.643 2036.51,762.614 1878.36,676.69 1735.41,594.554 1595.03,533.052 1429.78,486.427 1253.41,459.355 1070.48,442.464 902.214,414.708 \n",
       "  787.859,344.582 832.151,191.166 1191.57,88.0053 1349.08,129.764 1408.63,238.763 1320.35,346.161 1198.23,433.248 1068.55,530.686 963.786,634.853 886.297,743.88 \n",
       "  824.299,855.439 753.941,961.317 619.737,1037.49 411.343,990.355 291.312,700.125 445.614,523.883 648.15,502.957 767.166,588.052 834.019,696.127 910.589,828.018 \n",
       "  993.446,932.091 1102.7,1030.79 1229.13,1121.73 1350.38,1212.95 1411.68,1318.73 1310.37,1421.81 933.171,1403.58 781.837,1276.44 820.029,1156.22 974.133,1103.23 \n",
       "  1161.53,1083.08 1337.65,1063.63 1493.56,1032.18 1648.7,979.656 1793.82,907.349 1930.78,825.385 2069,759.102 2102.11,749.96 2157.97,742.208 2194.49,742.783 \n",
       "  2218.36,745.863 2234.07,749.313 2244.62,752.508 2251.88,755.355 2257.04,757.959 2260.65,760.385 2262.73,762.325 2264.13,764.388 2264.68,766.169 2264.6,767.929 \n",
       "  2263.9,769.725 2262.45,771.644 2260.11,773.698 2256.41,776.064 2251.27,778.576 2243.16,781.653 2232.01,784.883 2215.34,788.324 2189.8,791.224 2149.6,790.942 \n",
       "  2083.7,779.019 1965.41,728.053 1830.55,647.773 1675.25,565.542 1522.05,509.352 1361.96,473.822 1195.86,453.644 1023.48,437.386 850.108,395.195 773.511,297.864 \n",
       "  932.19,130.502 1289.76,104.98 1404.5,184.536 1373.83,297.118 1263.02,388.446 1124.69,485.996 1011.53,582.969 919.927,692.005 849.622,808.585 781.777,925.892 \n",
       "  678.715,1018.8 509.165,1032.82 296.39,849.214 388.744,559.483 567.294,492.712 721.721,541.835 812.174,656.518 872.847,766.917 946.366,877.38 1048.21,985.293 \n",
       "  1169.94,1080.63 1297.54,1170.04 1394.99,1264.5 1386.56,1375.12 1140.2,1446.71 813.56,1324.39 778.363,1208.33 879.014,1126.43 1050.02,1093.28 1218.37,1077.9 \n",
       "  1417.62,1049.74 1576.01,1007.31 1724.51,944.659 1861.58,867.194 1999.18,787.959 2075.41,757.084 2136.79,743.963 2181.09,742.023 2209.6,744.459 2228.27,747.884 \n",
       "  2240.69,751.216 2249.15,754.203 2255.08,756.89 2259.34,759.411 2261.97,761.531 2263.65,763.541 2264.52,765.393 2264.72,766.833 \n",
       "  \"/>\n",
       "<path clip-path=\"url(#clip9300)\" d=\"\n",
       "M1888.27 251.724 L2280.76 251.724 L2280.76 130.764 L1888.27 130.764  Z\n",
       "  \" fill=\"#ffffff\" fill-rule=\"evenodd\" fill-opacity=\"1\"/>\n",
       "<polyline clip-path=\"url(#clip9300)\" style=\"stroke:#000000; stroke-width:4; stroke-opacity:1; fill:none\" points=\"\n",
       "  1888.27,251.724 2280.76,251.724 2280.76,130.764 1888.27,130.764 1888.27,251.724 \n",
       "  \"/>\n",
       "<polyline clip-path=\"url(#clip9300)\" style=\"stroke:#009af9; stroke-width:4; stroke-opacity:1; fill:none\" points=\"\n",
       "  1912.27,191.244 2056.27,191.244 \n",
       "  \"/>\n",
       "<g clip-path=\"url(#clip9300)\">\n",
       "<text style=\"fill:#000000; fill-opacity:1; font-family:Arial,Helvetica Neue,Helvetica,sans-serif; font-size:48px; text-anchor:start;\" transform=\"rotate(0, 2080.27, 208.744)\" x=\"2080.27\" y=\"208.744\">(u1,u2)</text>\n",
       "</g>\n",
       "</svg>\n"
      ]
     },
     "execution_count": 13,
     "metadata": {},
     "output_type": "execute_result"
    }
   ],
   "source": [
    "plot(sol1,vars=(1,2))"
   ]
  },
  {
   "cell_type": "markdown",
   "metadata": {},
   "source": [
    "<a href=\"#top\">Back to the top</a>\n",
    "\n",
    "## Float128 Computations (OdeProblem)"
   ]
  },
  {
   "cell_type": "code",
   "execution_count": 14,
   "metadata": {},
   "outputs": [],
   "source": [
    "setprecision(BigFloat, 108);"
   ]
  },
  {
   "cell_type": "markdown",
   "metadata": {},
   "source": [
    "### Vern9"
   ]
  },
  {
   "cell_type": "code",
   "execution_count": 15,
   "metadata": {},
   "outputs": [
    {
     "data": {
      "text/plain": [
       "DiffEqBase.DEStats\n",
       "Number of function 1 evaluations:                  65442\n",
       "Number of function 2 evaluations:                  0\n",
       "Number of W matrix evaluations:                    0\n",
       "Number of linear solves:                           0\n",
       "Number of Jacobians created:                       0\n",
       "Number of nonlinear solver iterations:             0\n",
       "Number of nonlinear solver convergence failures:   0\n",
       "Number of rootfind condition calls:                0\n",
       "Number of accepted steps:                          4087\n",
       "Number of rejected steps:                          3"
      ]
     },
     "execution_count": 15,
     "metadata": {},
     "output_type": "execute_result"
    }
   ],
   "source": [
    "sol19 =solve(prob128,Vern9(),abstol=1e-20,reltol=1e-20);\n",
    "sol19.destats"
   ]
  },
  {
   "cell_type": "code",
   "execution_count": 16,
   "metadata": {},
   "outputs": [
    {
     "data": {
      "text/plain": [
       "DiffEqBase.DEStats\n",
       "Number of function 1 evaluations:                  303826\n",
       "Number of function 2 evaluations:                  0\n",
       "Number of W matrix evaluations:                    0\n",
       "Number of linear solves:                           0\n",
       "Number of Jacobians created:                       0\n",
       "Number of nonlinear solver iterations:             0\n",
       "Number of nonlinear solver convergence failures:   0\n",
       "Number of rootfind condition calls:                0\n",
       "Number of accepted steps:                          18986\n",
       "Number of rejected steps:                          3"
      ]
     },
     "execution_count": 16,
     "metadata": {},
     "output_type": "execute_result"
    }
   ],
   "source": [
    "sol101 =solve(prob128,Vern9(),abstol=1e-26,reltol=1e-26);\n",
    "sol101.destats"
   ]
  },
  {
   "cell_type": "markdown",
   "metadata": {},
   "source": [
    "### IRKGL16 "
   ]
  },
  {
   "cell_type": "code",
   "execution_count": null,
   "metadata": {},
   "outputs": [],
   "source": [
    "(sol11,iters11,steps11) = solve(prob128,IRKGL16(), reltol=1e-20, abstol=1e-20, adaptive=true,myoutputs=true,\n",
    "                             mixed_precision=false)\n",
    "sol11.destats"
   ]
  },
  {
   "cell_type": "code",
   "execution_count": null,
   "metadata": {},
   "outputs": [],
   "source": [
    "(sol102,iters102,steps102) = solve(prob128,IRKGL16(), reltol=1e-26, abstol=1e-26, adaptive=true,myoutputs=true,\n",
    "                             mixed_precision=false)\n",
    "sol102.destats"
   ]
  },
  {
   "cell_type": "markdown",
   "metadata": {},
   "source": [
    "### IRKGL16 (Mixed-Precision)"
   ]
  },
  {
   "cell_type": "code",
   "execution_count": null,
   "metadata": {},
   "outputs": [],
   "source": [
    "(sol12,iters12,steps12) = solve(prob128,IRKGL16(),reltol=1e-12, abstol=1e-12,adaptive=true,myoutputs=true,\n",
    "                              mixed_precision=true,low_prec_type=Float64)\n",
    "sol12.destats"
   ]
  },
  {
   "cell_type": "markdown",
   "metadata": {},
   "source": [
    "<a href=\"#top\">Back to the top</a>\n",
    "\n",
    "## Error in energy"
   ]
  },
  {
   "cell_type": "code",
   "execution_count": null,
   "metadata": {},
   "outputs": [],
   "source": [
    "setprecision(BigFloat, 256)\n",
    "u0256, μ256 =InitialRTBP(BigFloat)\n",
    "\n",
    "E0=RTBPEnergy(u0256,μ256)\n",
    "\n",
    "#ΔE = map(x->RTBPEnergy(BigFloat.(x),μ256), sol.u)./E0.-1\n",
    "ΔE1 = map(x->RTBPEnergy(BigFloat.(x),μ256), sol1.u)./E0.-1\n",
    "ΔE9 = map(x->RTBPEnergy(BigFloat.(x),μ256), sol9.u)./E0.-1\n",
    "ΔE11 = map(x->RTBPEnergy(BigFloat.(x),μ256), sol11.u)./E0.-1\n",
    "ΔE12 = map(x->RTBPEnergy(BigFloat.(x),μ256), sol12.u)./E0.-1\n",
    "ΔE19 = map(x->RTBPEnergy(BigFloat.(x),μ256), sol19.u)./E0.-1\n",
    "ΔE101 = map(x->RTBPEnergy(BigFloat.(x),μ256), sol101.u)./E0.-1\n",
    "ΔE102 = map(x->RTBPEnergy(BigFloat.(x),μ256), sol102.u)./E0.-1\n",
    "(Float32(maximum(abs.(ΔE1))),Float32(maximum(abs.(ΔE9))) ,Float32(maximum(abs.(ΔE11))),Float32(maximum(abs.(ΔE12))) ,Float32(maximum(abs.(ΔE19))))"
   ]
  },
  {
   "cell_type": "code",
   "execution_count": null,
   "metadata": {},
   "outputs": [],
   "source": [
    "ylimit1=-28\n",
    "ylimit2=-12\n",
    "plot(sol1.t,log10.(abs.(ΔE1)), label=\"IRKGL16-F64\",title=\"Float64\",\n",
    "     ylims=(ylimit1,ylimit2),)\n",
    "plot!(sol9.t,log10.(abs.(ΔE9)), label=\"Vern9\",\n",
    "     ylims=(ylimit1,ylimit2),)"
   ]
  },
  {
   "cell_type": "code",
   "execution_count": null,
   "metadata": {},
   "outputs": [],
   "source": [
    "ylimit1=-28\n",
    "ylimit2=-12\n",
    "plot(sol11.t,log10.(abs.(ΔE11)), label=\"IRKGL16-F128\",title=\"Float128\",\n",
    "     ylims=(ylimit1,ylimit2),)\n",
    "plot!(sol12.t,log10.(abs.(ΔE12)), label=\"IRKGL16-Mixed: F128/F64\",\n",
    "     ylims=(ylimit1,ylimit2),)\n",
    "plot!(sol19.t,log10.(abs.(ΔE19)), label=\"Vern9-F128\",\n",
    "     ylims=(ylimit1,ylimit2),)"
   ]
  },
  {
   "cell_type": "code",
   "execution_count": null,
   "metadata": {},
   "outputs": [],
   "source": [
    "# tol=1e-26\n",
    "#@show (Float32(maximum(abs.(ΔE101))),Float32(maximum(abs.(ΔE102))))\n",
    "#apr101=appxtrue(sol101,test_sol)\n",
    "#apr102=appxtrue(sol102,test_sol)\n",
    "#@show (apr101.errors, apr102.errors);"
   ]
  },
  {
   "cell_type": "code",
   "execution_count": null,
   "metadata": {},
   "outputs": [],
   "source": [
    "ylimit1=-34\n",
    "ylimit2=-25\n",
    "plot(sol101.t,log10.(abs.(ΔE101)), label=\"Vern9\",title=\"tol=1e-26\",\n",
    "     ylims=(ylimit1,ylimit2),)\n",
    "plot!(sol102.t,log10.(abs.(ΔE102)), label=\"IRKGL16\",\n",
    "     ylims=(ylimit1,ylimit2),)"
   ]
  },
  {
   "cell_type": "markdown",
   "metadata": {},
   "source": [
    "<a href=\"#top\">Back to the top</a>\n",
    "\n",
    "## Work-Precision diagrams (Float64)"
   ]
  },
  {
   "cell_type": "code",
   "execution_count": null,
   "metadata": {},
   "outputs": [],
   "source": [
    "Threads.nthreads()"
   ]
  },
  {
   "cell_type": "code",
   "execution_count": null,
   "metadata": {},
   "outputs": [],
   "source": [
    "abstols = 1.0 ./ 10.0 .^ (10:17)\n",
    "reltols = 1.0 ./ 10.0 .^ (10:17);"
   ]
  },
  {
   "cell_type": "markdown",
   "metadata": {},
   "source": [
    "### Float64 (OdeProblem)"
   ]
  },
  {
   "cell_type": "code",
   "execution_count": null,
   "metadata": {},
   "outputs": [],
   "source": [
    "setups = [\n",
    "           Dict(:alg=>Vern9())\n",
    "           Dict(:alg=>IRKGL16(),:adaptive=>true,:mixed_precision=>false) \n",
    "]\n",
    "wp1 = WorkPrecisionSet(prob64,abstols,reltols,setups;appxsol=test_sol,save_everystep=false,numruns=1,maxiters=10000000)\n",
    "plot(wp1)"
   ]
  },
  {
   "cell_type": "markdown",
   "metadata": {},
   "source": [
    "<a href=\"#top\">Back to the top</a>\n",
    "\n",
    "## Work-Precision diagrams (Float128)"
   ]
  },
  {
   "cell_type": "code",
   "execution_count": null,
   "metadata": {},
   "outputs": [],
   "source": [
    "setprecision(BigFloat, 108)\n",
    "abstols = 1.0 ./ 10.0 .^ (12:30)\n",
    "reltols = 1.0 ./ 10.0 .^ (12:30);"
   ]
  },
  {
   "cell_type": "markdown",
   "metadata": {},
   "source": [
    "### Float128 (OdeProblem)"
   ]
  },
  {
   "cell_type": "code",
   "execution_count": null,
   "metadata": {},
   "outputs": [],
   "source": [
    "setups = [ Dict(:alg=>Vern9())\n",
    "           Dict(:alg=>IRKGL16(),:adaptive=>true,:mixed_precision=>false) \n",
    "           Dict(:alg=>IRKGL16(),:adaptive=>true,:mixed_precision=>true,:low_prec_type=>Float64)\n",
    "]\n",
    "wp11 = WorkPrecisionSet(prob128,abstols,reltols,setups;appxsol=test_sol,save_everystep=false,numruns=1,maxiters=100000)\n",
    "plot(wp11)"
   ]
  },
  {
   "cell_type": "markdown",
   "metadata": {},
   "source": [
    "<a href=\"#top\">Back to the top</a>"
   ]
  }
 ],
 "metadata": {
  "kernelspec": {
   "display_name": "Julia 1.4.2",
   "language": "julia",
   "name": "julia-1.4"
  },
  "language_info": {
   "file_extension": ".jl",
   "mimetype": "application/julia",
   "name": "julia",
   "version": "1.4.2"
  }
 },
 "nbformat": 4,
 "nbformat_minor": 2
}
