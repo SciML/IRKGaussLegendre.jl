{
 "cells": [
  {
   "cell_type": "code",
   "execution_count": 1,
   "metadata": {},
   "outputs": [],
   "source": [
    "using IRKGaussLegendre"
   ]
  },
  {
   "cell_type": "code",
   "execution_count": 2,
   "metadata": {},
   "outputs": [
    {
     "data": {
      "text/plain": [
       "EstimateCoeffs! (generic function with 3 methods)"
      ]
     },
     "execution_count": 2,
     "metadata": {},
     "output_type": "execute_result"
    }
   ],
   "source": [
    "include(\"../src/IRKCoefficients.jl\")"
   ]
  },
  {
   "cell_type": "markdown",
   "metadata": {},
   "source": [
    "## MuCoefficients"
   ]
  },
  {
   "cell_type": "code",
   "execution_count": 9,
   "metadata": {},
   "outputs": [
    {
     "data": {
      "text/plain": [
       "(Array{Float64,2}, Array{BigFloat,2})"
      ]
     },
     "execution_count": 9,
     "metadata": {},
     "output_type": "execute_result"
    }
   ],
   "source": [
    "mu64=zeros(Float64,8,8)\n",
    "MuCoefficients!(mu64,Float64)\n",
    "\n",
    "mu128=zeros(BigFloat,8,8)\n",
    "MuCoefficients!(mu128,BigFloat)\n",
    "\n",
    "(typeof(mu64),typeof(mu128))"
   ]
  },
  {
   "cell_type": "code",
   "execution_count": 10,
   "metadata": {},
   "outputs": [
    {
     "data": {
      "text/plain": [
       "8×8 Array{BigFloat,2}:\n",
       "  0.0          -7.73543e-17  -2.19298e-18  …   3.86943e-17   1.56959e-17\n",
       "  7.73543e-17   0.0          -9.37454e-17      1.59868e-17   3.86943e-17\n",
       "  2.19298e-18   9.37454e-17   0.0             -1.77691e-17  -1.08535e-16\n",
       "  8.51312e-17   1.20442e-17   6.39804e-17     -2.8114e-17   -3.51566e-17\n",
       "  3.51566e-17   2.8114e-17   -3.9475e-17      -1.20442e-17  -8.51312e-17\n",
       "  1.08535e-16   1.77691e-17   2.27544e-17  …  -9.37454e-17  -2.19298e-18\n",
       " -3.86943e-17  -1.59868e-17   1.77691e-17      0.0          -7.73543e-17\n",
       " -1.56959e-17  -3.86943e-17   1.08535e-16      7.73543e-17   0.0        "
      ]
     },
     "execution_count": 10,
     "metadata": {},
     "output_type": "execute_result"
    }
   ],
   "source": [
    "mu128-mu64"
   ]
  },
  {
   "cell_type": "markdown",
   "metadata": {},
   "source": [
    "## HCoefficients!"
   ]
  },
  {
   "cell_type": "code",
   "execution_count": 14,
   "metadata": {},
   "outputs": [
    {
     "data": {
      "text/plain": [
       "(Array{Float64,1}, Array{Float64,1}, Array{Float64,2}, Float64, Float64)"
      ]
     },
     "execution_count": 14,
     "metadata": {},
     "output_type": "execute_result"
    }
   ],
   "source": [
    "#function HCoefficients!(mu,hc,hb,nu,h,hprev,T::Type{<:CompiledFloats})\n",
    "\n",
    "mu64=zeros(Float64,8,8)\n",
    "MuCoefficients!(mu64,Float64)\n",
    "hc64=zeros(Float64,8)\n",
    "hb64=zeros(Float64,8)\n",
    "nu64=zeros(Float64,8,8)\n",
    "h64=Float64(0.1)\n",
    "hprev64=Float64(0.1)\n",
    "\n",
    "HCoefficients!(mu64,hc64,hb64,nu64,h64,hprev64,Float64)\n",
    "(typeof(hc64),typeof(hb64),typeof(nu64),typeof(h64),typeof(hprev64),)"
   ]
  },
  {
   "cell_type": "code",
   "execution_count": 16,
   "metadata": {},
   "outputs": [
    {
     "data": {
      "text/plain": [
       "(Array{BigFloat,1}, Array{BigFloat,1}, Array{BigFloat,2}, BigFloat, BigFloat)"
      ]
     },
     "execution_count": 16,
     "metadata": {},
     "output_type": "execute_result"
    }
   ],
   "source": [
    "mu128=zeros(BigFloat,8,8)\n",
    "MuCoefficients!(mu128,BigFloat)\n",
    "hc128=zeros(BigFloat,8)\n",
    "hb128=zeros(BigFloat,8)\n",
    "nu128=zeros(BigFloat,8,8)\n",
    "h128=BigFloat(0.1)\n",
    "hprev128=BigFloat(0.1)\n",
    "\n",
    "HCoefficients!(mu128,hc128,hb128,nu128,h128,hprev128,BigFloat)\n",
    "(typeof(hc128),typeof(hb128),typeof(nu128),typeof(h128),typeof(hprev128))"
   ]
  },
  {
   "cell_type": "code",
   "execution_count": 17,
   "metadata": {},
   "outputs": [
    {
     "data": {
      "text/plain": [
       "8-element Array{BigFloat,1}:\n",
       " -6.43867805494209862726940600515944390647149475626065395772457096088310855779895e-20 \n",
       " -1.057756180939743204095696495801570691241977328900247812271118144048276847404383e-18\n",
       "  1.791287054806045586616578674569572049435350891144480556249618743333845611201617e-19\n",
       "  1.023483782099354412634803049032549415731097042225883342325687556394372110182428e-18\n",
       " -1.023483782099354408634803049032549193686492117194575257599354293359612202133621e-18\n",
       " -7.118022609387832929309355793024583769490476470309658907353877584501485335229172e-18\n",
       "  2.792479656916550300507620977193477540545529791415901854634285315326191494831575e-18\n",
       "  2.666471994514631631390580782139454740775619256965001113712788023199947790211856e-18"
      ]
     },
     "execution_count": 17,
     "metadata": {},
     "output_type": "execute_result"
    }
   ],
   "source": [
    "hc128-hc64"
   ]
  },
  {
   "cell_type": "code",
   "execution_count": 18,
   "metadata": {},
   "outputs": [
    {
     "data": {
      "text/plain": [
       "8-element Array{BigFloat,1}:\n",
       " -1.082494440102430661933359433807133875848904835947905667126179053868857380376421e-18\n",
       " -6.520231001268455900315758338442836961057480493764160200953483057237506502385809e-19\n",
       "  1.784140874968457789820902343066621742462274369245278649032115944951765556818453e-18\n",
       " -4.962333473918153785596707541520417050762148392095696181058872029929119955414792e-20\n",
       " -4.962333473918153785596707541520417050762148392095696181058872029929119955414792e-20\n",
       "  1.784140874968457789820902343066621742462274369245278649032115944951765556818453e-18\n",
       " -6.520231001268455900315758338442836961057480493764160200953483057237506502385809e-19\n",
       " -1.082494440102430661933359433807133875848904835947905667126179053868857380376421e-18"
      ]
     },
     "execution_count": 18,
     "metadata": {},
     "output_type": "execute_result"
    }
   ],
   "source": [
    "hb128-hb64"
   ]
  },
  {
   "cell_type": "code",
   "execution_count": 19,
   "metadata": {},
   "outputs": [
    {
     "data": {
      "text/plain": [
       "8×8 Array{BigFloat,2}:\n",
       "  2.40495e-18  7.87867e-17  -2.61223e-16  …  -1.26034e-16   2.26911e-16\n",
       " -7.46645e-16  1.58727e-15  -5.14316e-15     -3.99535e-15  -2.42528e-15\n",
       " -1.95084e-14  1.59647e-14  -7.35994e-14     -7.19239e-14   6.33806e-14\n",
       " -1.91856e-13  1.63703e-13  -5.535e-13       -6.00305e-15   8.43236e-13\n",
       " -7.97676e-13  4.42957e-13  -2.46956e-12      2.8428e-12    3.77266e-12\n",
       " -4.69449e-12  3.31715e-12  -1.21227e-11  …  -6.39699e-12  -3.94399e-12\n",
       " -1.28425e-11  7.7635e-12   -3.57907e-11     -2.14954e-11   5.24149e-12\n",
       " -2.26242e-11  1.66084e-11  -5.46589e-11     -9.75011e-11  -6.4797e-11 "
      ]
     },
     "execution_count": 19,
     "metadata": {},
     "output_type": "execute_result"
    }
   ],
   "source": [
    "nu128-nu64"
   ]
  },
  {
   "cell_type": "markdown",
   "metadata": {},
   "source": [
    "## EstimateCoeffs"
   ]
  },
  {
   "cell_type": "code",
   "execution_count": 21,
   "metadata": {},
   "outputs": [
    {
     "data": {
      "text/plain": [
       "(Array{Float64,2}, Array{BigFloat,2})"
      ]
     },
     "execution_count": 21,
     "metadata": {},
     "output_type": "execute_result"
    }
   ],
   "source": [
    "#function EstimateCoeffs!(beta2, T::Type{<:CompiledFloats})\n",
    "alpha64=zeros(Float64,8,8)\n",
    "alpha128=zeros(BigFloat,8,8)\n",
    "\n",
    "EstimateCoeffs!(alpha64, Float64)\n",
    "EstimateCoeffs!(alpha128, BigFloat)\n",
    "\n",
    "(typeof(alpha64), typeof(alpha128))"
   ]
  },
  {
   "cell_type": "code",
   "execution_count": 22,
   "metadata": {},
   "outputs": [
    {
     "data": {
      "text/plain": [
       "8×8 Array{BigFloat,2}:\n",
       " -1.33598e-11  -1.33598e-11  -1.33598e-11  …  -1.33598e-11  -1.33598e-11\n",
       "  3.88267e-11   3.88267e-11   3.88267e-11      3.88267e-11   3.88267e-11\n",
       " -4.75256e-11  -4.75256e-11  -4.75256e-11     -4.75256e-11  -4.75256e-11\n",
       "  2.91105e-11   2.91105e-11   2.91105e-11      2.91105e-11   2.91105e-11\n",
       " -1.37089e-12  -1.37089e-12  -1.37089e-12     -1.37089e-12  -1.37089e-12\n",
       " -1.65938e-11  -1.65938e-11  -1.65938e-11  …  -1.65938e-11  -1.65938e-11\n",
       "  1.93809e-11   1.93809e-11   1.93809e-11      1.93809e-11   1.93809e-11\n",
       " -8.41121e-12  -8.41121e-12  -8.41121e-12     -8.41121e-12  -8.41121e-12"
      ]
     },
     "execution_count": 22,
     "metadata": {},
     "output_type": "execute_result"
    }
   ],
   "source": [
    "alpha128-alpha64"
   ]
  },
  {
   "cell_type": "markdown",
   "metadata": {},
   "source": [
    "## Mutable Struct"
   ]
  },
  {
   "cell_type": "code",
   "execution_count": 2,
   "metadata": {},
   "outputs": [],
   "source": [
    "mutable struct tcoeffs{T}\n",
    "       mu::Array{T,2}\n",
    "       hc::Array{T,1}\n",
    "\t   hb::Array{T,1}\n",
    "\t   nu::Array{T,2}\n",
    "\t   alpha::Array{T,2}\n",
    "end"
   ]
  },
  {
   "cell_type": "code",
   "execution_count": 4,
   "metadata": {},
   "outputs": [
    {
     "data": {
      "text/plain": [
       "tcoeffs{BigFloat}(BigFloat[0.0 0.0 … 0.0 0.0; 0.0 0.0 … 0.0 0.0; … ; 0.0 0.0 … 0.0 0.0; 0.0 0.0 … 0.0 0.0], BigFloat[0.0, 0.0, 0.0, 0.0, 0.0, 0.0, 0.0, 0.0], BigFloat[0.0, 0.0, 0.0, 0.0, 0.0, 0.0, 0.0, 0.0], BigFloat[0.0 0.0 … 0.0 0.0; 0.0 0.0 … 0.0 0.0; … ; 0.0 0.0 … 0.0 0.0; 0.0 0.0 … 0.0 0.0], BigFloat[0.0 0.0 … 0.0 0.0; 0.0 0.0 … 0.0 0.0; … ; 0.0 0.0 … 0.0 0.0; 0.0 0.0 … 0.0 0.0])"
      ]
     },
     "execution_count": 4,
     "metadata": {},
     "output_type": "execute_result"
    }
   ],
   "source": [
    "s=8\n",
    "coeffs=tcoeffs{BigFloat}(zeros(s,s),zeros(s),zeros(s),\n",
    "              zeros(s,s),zeros(s,s))"
   ]
  },
  {
   "cell_type": "code",
   "execution_count": null,
   "metadata": {},
   "outputs": [],
   "source": []
  }
 ],
 "metadata": {
  "kernelspec": {
   "display_name": "Julia 1.3.1",
   "language": "julia",
   "name": "julia-1.3"
  },
  "language_info": {
   "file_extension": ".jl",
   "mimetype": "application/julia",
   "name": "julia",
   "version": "1.3.1"
  }
 },
 "nbformat": 4,
 "nbformat_minor": 2
}
