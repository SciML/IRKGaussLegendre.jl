{
 "cells": [
  {
   "cell_type": "markdown",
   "metadata": {},
   "source": [
    "# Mixed-Precision previous test"
   ]
  },
  {
   "cell_type": "markdown",
   "metadata": {},
   "source": [
    "## Loading packages"
   ]
  },
  {
   "cell_type": "code",
   "execution_count": 4,
   "metadata": {},
   "outputs": [],
   "source": [
    "using BenchmarkTools, LinearAlgebra\n",
    "#using OrdinaryDiffEq,DiffEqDevTools,BenchmarkTools\n",
    "#using IRKGaussLegendre\n",
    "#using Plots,LinearAlgebra\n",
    "#using Dates\n",
    "#using JLD2, FileIO"
   ]
  },
  {
   "cell_type": "code",
   "execution_count": 5,
   "metadata": {},
   "outputs": [],
   "source": [
    "setprecision(BigFloat, 108);"
   ]
  },
  {
   "cell_type": "markdown",
   "metadata": {},
   "source": [
    "## Pleiades"
   ]
  },
  {
   "cell_type": "code",
   "execution_count": 6,
   "metadata": {},
   "outputs": [],
   "source": [
    "u0=[3.0,3.0,-1.0,-3.0,2.0,-2.0,2.0,\n",
    "    3.0,-3.0,2.0,0,0,-4.0,4.0,    \n",
    "    0,0,0,0,0,1.75,-1.5,\n",
    "    0,0,0,-1.25,1,0,0]\n",
    "\n",
    "q0=u0[1:14]\n",
    "v0=u0[15:28]\n",
    "\n",
    "t0=0.0\n",
    "t1=3.0\n",
    "\n",
    "tspan=(t0,t1);"
   ]
  },
  {
   "cell_type": "code",
   "execution_count": 13,
   "metadata": {},
   "outputs": [],
   "source": [
    "u0128=BigFloat.(u0)\n",
    "\n",
    "q0128=u0128[1:14]\n",
    "v0128=u0128[15:28]\n",
    "\n",
    "Gm128=BigFloat.([1,2,3,4,5,6,7])\n",
    "tspan128=(BigFloat(t0),BigFloat(t1));"
   ]
  },
  {
   "cell_type": "markdown",
   "metadata": {},
   "source": [
    "### OdeProblem"
   ]
  },
  {
   "cell_type": "code",
   "execution_count": 8,
   "metadata": {},
   "outputs": [
    {
     "data": {
      "text/plain": [
       "f (generic function with 1 method)"
      ]
     },
     "execution_count": 8,
     "metadata": {},
     "output_type": "execute_result"
    }
   ],
   "source": [
    "\"\"\"\n",
    "2020-05-18: previous version\n",
    "\n",
    "function f(du,u,p,t)\n",
    "  @inbounds begin\n",
    "  x = view(u,1:7)   # x\n",
    "  y = view(u,8:14)  # y\n",
    "  v = view(u,15:21) # x′\n",
    "  w = view(u,22:28) # y′\n",
    "  du[1:7] .= v\n",
    "  du[8:14].= w\n",
    "  for i in 15:28\n",
    "    du[i] = zero(u[1])\n",
    "  end\n",
    "  for i=1:7,j=1:7\n",
    "    if i != j\n",
    "      r = ((x[i]-x[j])^2 + (y[i] - y[j])^2)^(3/2)\n",
    "      du[14+i] += j*(x[j] - x[i])/r\n",
    "      du[21+i] += j*(y[j] - y[i])/r\n",
    "    end\n",
    "  end\n",
    "  end\n",
    "end\n",
    "\"\"\"\n",
    "\n",
    "\n",
    "function f(du,u,p,t) \n",
    "  @inbounds begin\n",
    "  x = view(u,1:7)   # x\n",
    "  y = view(u,8:14)  # y\n",
    "  v = view(u,15:21) # x′\n",
    "  w = view(u,22:28) # y′\n",
    "        \n",
    "  du[1:7] .= v\n",
    "  du[8:14].= w\n",
    "\n",
    "  for i=1:7\n",
    "     dux=zero(u[1])\n",
    "     duy=zero(u[1])       \n",
    "     for j=1:7 \n",
    "         if i != j\n",
    "            r = ((x[i]-x[j])^2 + (y[i] - y[j])^2)^(3/2)\n",
    "            dux += j*(x[j] - x[i])/r\n",
    "            duy += j*(y[j] - y[i])/r\n",
    "         end\n",
    "     end\n",
    "     du[14+i]=dux\n",
    "     du[21+i]=duy    \n",
    "  end\n",
    "  end\n",
    "end"
   ]
  },
  {
   "cell_type": "code",
   "execution_count": 9,
   "metadata": {},
   "outputs": [
    {
     "name": "stdout",
     "output_type": "stream",
     "text": [
      "  3.160 μs (5 allocations: 272 bytes)\n"
     ]
    },
    {
     "data": {
      "text/plain": [
       "(Array{Float64,1}, 4.789470152814112)"
      ]
     },
     "execution_count": 9,
     "metadata": {},
     "output_type": "execute_result"
    }
   ],
   "source": [
    "# Float64\n",
    "du=similar(u0);\n",
    "@btime f(du,u0,[],0)\n",
    "(typeof(du),norm(du))"
   ]
  },
  {
   "cell_type": "code",
   "execution_count": 10,
   "metadata": {},
   "outputs": [
    {
     "name": "stdout",
     "output_type": "stream",
     "text": [
      "  5.700 μs (61 allocations: 2.89 KiB)\n"
     ]
    },
    {
     "data": {
      "text/plain": [
       "(Array{BigFloat,1}, 4.789470152814112238100211024662361, 0.0)"
      ]
     },
     "execution_count": 10,
     "metadata": {},
     "output_type": "execute_result"
    }
   ],
   "source": [
    "# Mixed\n",
    "du2=similar(u0128);\n",
    "@btime f(du2,u0,[],0)\n",
    "(typeof(du2),norm(du2), norm(du2-du))"
   ]
  },
  {
   "cell_type": "code",
   "execution_count": 11,
   "metadata": {},
   "outputs": [
    {
     "name": "stdout",
     "output_type": "stream",
     "text": [
      "  420.090 μs (1495 allocations: 63.72 KiB)\n"
     ]
    },
    {
     "data": {
      "text/plain": [
       "(Array{BigFloat,1}, 4.789470152814112217518597296716781, 2.583789645557009655922732089601723e-16)"
      ]
     },
     "execution_count": 11,
     "metadata": {},
     "output_type": "execute_result"
    }
   ],
   "source": [
    "# Float128\n",
    "du3=similar(u0128);\n",
    "@btime f(du3,u0128,[],0)\n",
    "(typeof(du3),norm(du3), norm(du3-du2))"
   ]
  },
  {
   "cell_type": "markdown",
   "metadata": {},
   "source": [
    "### DynamicalODEProblem"
   ]
  },
  {
   "cell_type": "code",
   "execution_count": 12,
   "metadata": {},
   "outputs": [
    {
     "data": {
      "text/plain": [
       "dotq (generic function with 1 method)"
      ]
     },
     "execution_count": 12,
     "metadata": {},
     "output_type": "execute_result"
    }
   ],
   "source": [
    "\"\"\"\n",
    "2020-05-18: previous version\n",
    "\n",
    "function dotv(dv,q,v,par,t)    \n",
    "@inbounds begin\n",
    "  x = view(q,1:7)   # x\n",
    "  y = view(q,8:14)  # y\n",
    "  vx = view(v,1:7)   # x′\n",
    "  vy = view(v,8:14)  # y′\n",
    "  for i in 1:14\n",
    "    dv[i] = zero(x[1])\n",
    "  end\n",
    "  for i=1:7,j=1:7\n",
    "    if i != j\n",
    "      r = ((x[i]-x[j])^2 + (y[i] - y[j])^2)^(3/2)\n",
    "      dv[i] += j*(x[j] - x[i])/r\n",
    "      dv[7+i] += j*(y[j] - y[i])/r\n",
    "    end\n",
    "  end\n",
    "  end\n",
    "end\n",
    "\n",
    "\"\"\"\n",
    "\n",
    "\n",
    "function dotv(dv,q,v,par,t)    \n",
    "@inbounds begin\n",
    "  x = view(q,1:7)   # x\n",
    "  y = view(q,8:14)  # y\n",
    "  vx = view(v,1:7)   # x′\n",
    "  vy = view(v,8:14)  # y′\n",
    "          \n",
    "  for i=1:7\n",
    "      dux=zero(q[1])\n",
    "      duy=zero(q[1])       \n",
    "      for j=1:7 \n",
    "          if i != j\n",
    "             r = ((x[i]-x[j])^2 + (y[i] - y[j])^2)^(3/2)\n",
    "             dux += j*(x[j] - x[i])/r\n",
    "             duy += j*(y[j] - y[i])/r\n",
    "          end\n",
    "      end\n",
    "      dv[i]=dux\n",
    "      dv[7+i]=duy    \n",
    "  end\n",
    "  end    \n",
    "    \n",
    "    \n",
    "end\n",
    "\n",
    "function dotq(dq,q,v,par,t)\n",
    "@inbounds begin\n",
    "  x = view(q,1:7)   # x\n",
    "  y = view(q,8:14)  # y\n",
    "  vx = view(v,1:7)   # x′\n",
    "  vy = view(v,8:14)  # y′\n",
    "  dq[1:7] .= vx\n",
    "  dq[8:14].= vy\n",
    "  end\n",
    "end"
   ]
  },
  {
   "cell_type": "markdown",
   "metadata": {},
   "source": [
    "## Solar-System15"
   ]
  },
  {
   "cell_type": "code",
   "execution_count": 67,
   "metadata": {},
   "outputs": [],
   "source": [
    "include(\"../examples/Nbody.jl\")\n",
    "include(\"../examples/InitialNBody15.jl\")\n",
    "u0, Gm =InitialNBody15();\n",
    "\n",
    "q0=u0[2,:,:]\n",
    "v0=u0[1,:,:]\n",
    "\n",
    "u0128, Gm128 =InitialNBody15(BigFloat)\n",
    "q0128=BigFloat.(q0);\n",
    "v0128=BigFloat.(v0);"
   ]
  },
  {
   "cell_type": "markdown",
   "metadata": {},
   "source": [
    "### OdeProblem"
   ]
  },
  {
   "cell_type": "code",
   "execution_count": 52,
   "metadata": {},
   "outputs": [
    {
     "name": "stdout",
     "output_type": "stream",
     "text": [
      "  49.204 μs (870 allocations: 95.16 KiB)\n"
     ]
    },
    {
     "data": {
      "text/plain": [
       "(Array{Float64,3}, 0.04942436160049991)"
      ]
     },
     "execution_count": 52,
     "metadata": {},
     "output_type": "execute_result"
    }
   ],
   "source": [
    "# Float64\n",
    "du=similar(u0);\n",
    "@btime NbodyODE!(du,u0,Gm,0)\n",
    "(typeof(du),norm(du))"
   ]
  },
  {
   "cell_type": "code",
   "execution_count": 53,
   "metadata": {},
   "outputs": [
    {
     "name": "stdout",
     "output_type": "stream",
     "text": [
      "  191.342 μs (2223 allocations: 158.59 KiB)\n"
     ]
    },
    {
     "data": {
      "text/plain": [
       "(Array{BigFloat,3}, 0.04942436160049990536386912016743064, 1.819272995907816976057676039969377e-19)"
      ]
     },
     "execution_count": 53,
     "metadata": {},
     "output_type": "execute_result"
    }
   ],
   "source": [
    "# Mixed\n",
    "du2=similar(u0128);\n",
    "@btime NbodyODE!(du2,u0,Gm,0)\n",
    "(typeof(du2),norm(du2), norm(du2-du))"
   ]
  },
  {
   "cell_type": "code",
   "execution_count": 54,
   "metadata": {},
   "outputs": [
    {
     "name": "stdout",
     "output_type": "stream",
     "text": [
      "  1.373 ms (6123 allocations: 327.46 KiB)\n"
     ]
    },
    {
     "data": {
      "text/plain": [
       "(Array{BigFloat,3}, 0.04942436160049990537815934018101122, 3.726459101490871039196983151773192e-19)"
      ]
     },
     "execution_count": 54,
     "metadata": {},
     "output_type": "execute_result"
    }
   ],
   "source": [
    "# Float128\n",
    "du3=similar(u0128);\n",
    "@btime NbodyODE!(du3,u0128,Gm128,0)\n",
    "(typeof(du3),norm(du3), norm(du3-du2))"
   ]
  },
  {
   "cell_type": "markdown",
   "metadata": {},
   "source": [
    "### DynamicalProblem"
   ]
  },
  {
   "cell_type": "code",
   "execution_count": 61,
   "metadata": {},
   "outputs": [
    {
     "name": "stdout",
     "output_type": "stream",
     "text": [
      "  49.772 μs (887 allocations: 96.73 KiB)\n"
     ]
    },
    {
     "data": {
      "text/plain": [
       "(Array{Float64,2}, 0.0021643403857486325)"
      ]
     },
     "execution_count": 61,
     "metadata": {},
     "output_type": "execute_result"
    }
   ],
   "source": [
    "# Float64\n",
    "dv=similar(v0);\n",
    "@btime NbodyODEv!(dv,q0,v0,Gm,0)\n",
    "(typeof(dv),norm(dv))"
   ]
  },
  {
   "cell_type": "code",
   "execution_count": 66,
   "metadata": {},
   "outputs": [
    {
     "name": "stdout",
     "output_type": "stream",
     "text": [
      "  55.343 μs (977 allocations: 100.95 KiB)\n"
     ]
    },
    {
     "data": {
      "text/plain": [
       "(Array{BigFloat,2}, 0.002164340385748632396109009707985969, 0.0)"
      ]
     },
     "execution_count": 66,
     "metadata": {},
     "output_type": "execute_result"
    }
   ],
   "source": [
    "# Mixed\n",
    "dv2=similar(v0128);\n",
    "@btime NbodyODEv!(dv2,q0,v0,Gm,0)\n",
    "(typeof(dv2),norm(dv2),norm(dv2-dv))"
   ]
  },
  {
   "cell_type": "code",
   "execution_count": 69,
   "metadata": {},
   "outputs": [
    {
     "name": "stdout",
     "output_type": "stream",
     "text": [
      "  1.371 ms (6139 allocations: 328.98 KiB)\n"
     ]
    },
    {
     "data": {
      "text/plain": [
       "(Array{BigFloat,2}, 0.002164340385748632850331545593712752, 4.931028882348586308186798773234828e-19)"
      ]
     },
     "execution_count": 69,
     "metadata": {},
     "output_type": "execute_result"
    }
   ],
   "source": [
    "# Float128\n",
    "dv3=similar(v0128);\n",
    "@btime NbodyODEv!(dv3,q0128,v0128,Gm128,0)\n",
    "(typeof(dv3),norm(dv3),norm(dv3-dv2))"
   ]
  },
  {
   "cell_type": "code",
   "execution_count": null,
   "metadata": {},
   "outputs": [],
   "source": []
  }
 ],
 "metadata": {
  "kernelspec": {
   "display_name": "Julia 1.3.1",
   "language": "julia",
   "name": "julia-1.3"
  },
  "language_info": {
   "file_extension": ".jl",
   "mimetype": "application/julia",
   "name": "julia",
   "version": "1.3.1"
  }
 },
 "nbformat": 4,
 "nbformat_minor": 2
}
