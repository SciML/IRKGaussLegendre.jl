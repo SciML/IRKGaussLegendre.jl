{
 "cells": [
  {
   "cell_type": "markdown",
   "metadata": {},
   "source": [
    "# Compensated summation"
   ]
  },
  {
   "cell_type": "markdown",
   "metadata": {},
   "source": [
    "## Accuracy and Stability of Numerical Algorithms\n",
    "N.Higham (pages 86-87) \n"
   ]
  },
  {
   "cell_type": "markdown",
   "metadata": {},
   "source": [
    "A good illustration of the benefits of compensated summation is provided by Euler's method for the ordinary differential equation initial value problem $\\dot{y}=f(x,y), \\ y(a)$ given , which generates an approximate solution according to $y_{k+1}=y_k+hf_k, \\ y_0=y(a)$, We solved the equation $\\dot{y}=-y$ with $y(0)=1$ over $[0,1]$ using $n$ steps of Euler's method ($nh=1$), with $n$ ranging from $10$ to $10^8$. \n",
    "\n",
    "Figure 4.2 shows the errors $e_n = |y(1) - \\hat{y}_n|$ , where $\\hat{y}_n$ is the computed approximation to $y(l)$. The computations were done in Fortran 90 in single precision arithmetic on a Sun SPARCstation ($ u \\approx 6 x 10^{-8}$). Since Euler's method has global error of order $h$, the error curve on the plot should be approximately a straight line. For the standard implementation of Euler's method the errors $e_n$ start to increase steadily beyond $n = 20000$ because of the influence of rounding errors."
   ]
  },
  {
   "cell_type": "markdown",
   "metadata": {},
   "source": [
    "<img src=\"Figure42.png\" alt=\"\" width=\"600\"/>"
   ]
  },
  {
   "cell_type": "markdown",
   "metadata": {},
   "source": [
    "## Experiment"
   ]
  },
  {
   "cell_type": "code",
   "execution_count": null,
   "metadata": {},
   "outputs": [],
   "source": [
    "using Pkg\n",
    "using OrdinaryDiffEq,DiffEqDevTools \n",
    "using IRKGaussLegendre,LinearAlgebra,Plots\n",
    "#using DoubleFloats"
   ]
  },
  {
   "cell_type": "code",
   "execution_count": null,
   "metadata": {},
   "outputs": [],
   "source": [
    "f=(du,u,p,t)->begin\n",
    "    du[1]=-u[1]\n",
    "end"
   ]
  },
  {
   "cell_type": "code",
   "execution_count": null,
   "metadata": {},
   "outputs": [],
   "source": [
    "T= Float32(1.0)\n",
    "tspan=(Float32(0.0),T)\n",
    "u0=[Float32(1.0)];\n",
    "prob=ODEProblem(f,u0,tspan);"
   ]
  },
  {
   "cell_type": "code",
   "execution_count": null,
   "metadata": {},
   "outputs": [],
   "source": [
    "n=8\n",
    "out1=[]\n",
    "out2=[]\n",
    "out3=[]\n",
    "out4=[]\n",
    "for k in 1:n\n",
    "   h=Float32(1/10^k)\n",
    "   if (k<8)   # k=8 fail\n",
    "     sol1=solve(prob,Euler(),dt=h,save_everystep=false)\n",
    "     u1=sol1.u[end]\n",
    "     push!(out1,u1[1])\n",
    "   end\n",
    "   sol2=solve(prob,IRKGL16(),adaptive=false, dt=Float32(h^(1/16)), save_everystep=false)\n",
    "   sol3=solve(prob,Vern9(),adaptive=false, dt=Float32(h^(1/9)), save_everystep=false)\n",
    "   sol4=solve(prob,RK4(),adaptive=false, dt=Float32((h)^(1/4)), save_everystep=false) \n",
    "   u2=sol2.u[end]\n",
    "   push!(out2,u2[1])\n",
    "   u3=sol3.u[end]\n",
    "   push!(out3,u3[1]) \n",
    "   u4=sol4.u[end]\n",
    "   push!(out4,u4[1])\n",
    "end"
   ]
  },
  {
   "cell_type": "code",
   "execution_count": null,
   "metadata": {},
   "outputs": [],
   "source": [
    "err1=norm.(out1.-exp(-1))\n",
    "err2=norm.(out2.-exp(-1))\n",
    "err3=norm.(out3.-exp(-1))\n",
    "err4=norm.(out4.-exp(-1));"
   ]
  },
  {
   "cell_type": "code",
   "execution_count": null,
   "metadata": {},
   "outputs": [],
   "source": [
    "hh=[10, 10^(-2),10^(-3),10^(-4), 10^(-5), 10^(-6) ]\n",
    "\n",
    "ylimit1=-10\n",
    "ylimit2=0\n",
    "pl1=plot(log10.(abs.(err1)),ylims=(ylimit1,ylimit2), seriestype=:scatter, title=\"Euler\", label=\"\")\n",
    "pl2=plot(log10.(abs.(err2)),ylims=(ylimit1,ylimit2), seriestype=:scatter, title=\"IRKGL16\", label=\"\")\n",
    "pl3=plot(log10.(abs.(err3)),ylims=(ylimit1,ylimit2), seriestype=:scatter, title=\"Vern9\", label=\"\")\n",
    "pl4=plot(log10.(abs.(err4)),ylims=(ylimit1,ylimit2), seriestype=:scatter, title=\"RK4\", label=\"\")\n",
    "\n",
    "plot(pl1,pl4,pl3,pl2, layout=(2,2)) "
   ]
  },
  {
   "cell_type": "code",
   "execution_count": null,
   "metadata": {},
   "outputs": [],
   "source": []
  }
 ],
 "metadata": {
  "@webio": {
   "lastCommId": null,
   "lastKernelId": null
  },
  "kernelspec": {
   "display_name": "Julia 1.4.2",
   "language": "julia",
   "name": "julia-1.4"
  },
  "language_info": {
   "file_extension": ".jl",
   "mimetype": "application/julia",
   "name": "julia",
   "version": "1.4.2"
  }
 },
 "nbformat": 4,
 "nbformat_minor": 2
}
