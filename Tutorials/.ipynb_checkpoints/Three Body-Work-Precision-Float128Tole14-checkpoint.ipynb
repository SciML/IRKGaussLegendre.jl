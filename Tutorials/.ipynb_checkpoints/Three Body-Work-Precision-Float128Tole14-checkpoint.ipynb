{
 "cells": [
  {
   "cell_type": "markdown",
   "metadata": {},
   "source": [
    "# Bechmark: Vern9 vs IRKGL16 (Float128) \n",
    "\n",
    "<ul id=\"top\">\n",
    "    <li><a href=\"#Loading-packages\"> \n",
    "             Loading Packages</a></li>\n",
    "\n",
    "<li><a href=\"#Initial-value-problem:-Burrau-problem\">\n",
    "             Initial value problem: Burrau problem</a></li>\n",
    "\n",
    "<li><a href=\"#Integration-with-Vern9\">\n",
    "             Integration with Vern9</a></li>\n",
    "             \n",
    "<li><a href=\"#Integration-with-IRKGL16-(Adaptive-step)\">\n",
    "             Integration with IRKGL16 (Adaptive-step)</a></li>\n",
    "\n",
    "<li><a href=\"#Error-in-energy\">\n",
    "             Error in energy</a></li> \n",
    "\n",
    "</ul>  \n"
   ]
  },
  {
   "cell_type": "markdown",
   "metadata": {},
   "source": [
    "2020-04-18 Exekuzio berezia\n",
    "\n",
    "- Maixter=12\n",
    "- tol=1e-14"
   ]
  },
  {
   "cell_type": "markdown",
   "metadata": {},
   "source": [
    "## Loading packages"
   ]
  },
  {
   "cell_type": "code",
   "execution_count": 1,
   "metadata": {},
   "outputs": [],
   "source": [
    "using Pkg\n",
    "using IRKGaussLegendre,LinearAlgebra,Plots,Statistics\n",
    "using OrdinaryDiffEq\n",
    "using DiffEqDevTools,BenchmarkTools\n",
    "using Dates"
   ]
  },
  {
   "cell_type": "code",
   "execution_count": 2,
   "metadata": {},
   "outputs": [
    {
     "data": {
      "text/plain": [
       "10"
      ]
     },
     "execution_count": 2,
     "metadata": {},
     "output_type": "execute_result"
    }
   ],
   "source": [
    "BenchmarkTools.DEFAULT_PARAMETERS.samples=10"
   ]
  },
  {
   "cell_type": "markdown",
   "metadata": {},
   "source": [
    "<a href=\"#top\">Back to the top</a>\n",
    "\n",
    "## Initial value problem: ThreeBody problem"
   ]
  },
  {
   "cell_type": "code",
   "execution_count": 3,
   "metadata": {},
   "outputs": [
    {
     "data": {
      "text/plain": [
       "\u001b[36mODEProblem\u001b[0m with uType \u001b[36mArray{Float64,1}\u001b[0m and tType \u001b[36mFloat64\u001b[0m. In-place: \u001b[36mtrue\u001b[0m\n",
       "timespan: (0.0, 34.13043312031593)\n",
       "u0: [0.994, 0.0, 0.0, -1.0075851063790826]"
      ]
     },
     "execution_count": 3,
     "metadata": {},
     "output_type": "execute_result"
    }
   ],
   "source": [
    "const μ = parse(Float64,\"0.012277471\")\n",
    "#const uμ = 1 - μ\n",
    "\n",
    "f = (du,u,p,t) -> begin\n",
    "  \n",
    "  μ=p[1]\n",
    "  uμ=1-μ\n",
    "  @inbounds begin\n",
    "  # 1 = y₁\n",
    "  # 2 = y₂\n",
    "  # 3 = y₁'\n",
    "  # 4 = y₂'\n",
    "  D₁ = ((u[1]+μ)^2 + u[2]^2)^(3/2)\n",
    "  D₂ = ((u[1]-uμ)^2 + u[2]^2)^(3/2)\n",
    "  du[1] = u[3]+u[2]\n",
    "  du[2] = u[4]-u[1]\n",
    "  du[3] = u[4] - uμ*(u[1]+μ)/D₁ - μ*(u[1]-uμ)/D₂\n",
    "  du[4] = -u[3] - uμ*u[2]/D₁ - μ*u[2]/D₂\n",
    "  end\n",
    "end\n",
    "\n",
    "\n",
    "t₀ = 0.0;\n",
    "T = parse(Float64,\"17.0652165601579625588917206249\")\n",
    "tspan = (t₀,2T)\n",
    "\n",
    "py0=parse(BigFloat,\"-2.00158510637908252240537862224\")+0.994\n",
    "u0=[0.994,0.0,0.0, Float64(py0)]\n",
    "prob = ODEProblem(f,u0,tspan,[μ])\n"
   ]
  },
  {
   "cell_type": "code",
   "execution_count": 4,
   "metadata": {},
   "outputs": [],
   "source": [
    "setprecision(BigFloat, 106)\n",
    "u0128=BigFloat.([0.994,0.0,0.0, py0])\n",
    "μ128 = parse(BigFloat,\"0.012277471\")\n",
    "tspan128=(BigFloat(t₀),BigFloat(2T))\n",
    "prob128=ODEProblem(f,u0128,tspan128,[μ128]);"
   ]
  },
  {
   "cell_type": "markdown",
   "metadata": {},
   "source": [
    "<a href=\"#top\">Back to the top</a>\n",
    "\n",
    "\n",
    "## Integration with Vern9"
   ]
  },
  {
   "cell_type": "markdown",
   "metadata": {},
   "source": [
    "Recommend methods: Non-Stiff Problems\n",
    "\n",
    "- For high accuracy non-stiff solving ( BigFloat and tolerances like <1e-12 ), JuliaDiffeq recommend\n",
    "the Vern9 method\n"
   ]
  },
  {
   "cell_type": "code",
   "execution_count": 5,
   "metadata": {},
   "outputs": [
    {
     "name": "stdout",
     "output_type": "stream",
     "text": [
      " 33.265249 seconds (68.77 M allocations: 3.101 GiB, 5.72% gc time)\n"
     ]
    }
   ],
   "source": [
    "sol0 = @time(solve(prob128,Vern9(),saveat=0.5, abstol=1e-14,reltol=1e-14));"
   ]
  },
  {
   "cell_type": "code",
   "execution_count": 6,
   "metadata": {},
   "outputs": [
    {
     "data": {
      "text/plain": [
       "DiffEqBase.DEStats\n",
       "Number of function 1 evaluations:                  14210\n",
       "Number of function 2 evaluations:                  0\n",
       "Number of W matrix evaluations:                    0\n",
       "Number of linear solves:                           0\n",
       "Number of Jacobians created:                       0\n",
       "Number of nonlinear solver iterations:             0\n",
       "Number of nonlinear solver convergence failures:   0\n",
       "Number of rootfind condition calls:                0\n",
       "Number of accepted steps:                          875\n",
       "Number of rejected steps:                          13"
      ]
     },
     "execution_count": 6,
     "metadata": {},
     "output_type": "execute_result"
    }
   ],
   "source": [
    "sol0.destats"
   ]
  },
  {
   "cell_type": "code",
   "execution_count": 7,
   "metadata": {},
   "outputs": [
    {
     "data": {
      "image/svg+xml": [
       "<?xml version=\"1.0\" encoding=\"utf-8\"?>\n",
       "<svg xmlns=\"http://www.w3.org/2000/svg\" xmlns:xlink=\"http://www.w3.org/1999/xlink\" width=\"600\" height=\"400\" viewBox=\"0 0 2400 1600\">\n",
       "<defs>\n",
       "  <clipPath id=\"clip5300\">\n",
       "    <rect x=\"0\" y=\"0\" width=\"2400\" height=\"1600\"/>\n",
       "  </clipPath>\n",
       "</defs>\n",
       "<path clip-path=\"url(#clip5300)\" d=\"\n",
       "M0 1600 L2400 1600 L2400 0 L0 0  Z\n",
       "  \" fill=\"#ffffff\" fill-rule=\"evenodd\" fill-opacity=\"1\"/>\n",
       "<defs>\n",
       "  <clipPath id=\"clip5301\">\n",
       "    <rect x=\"480\" y=\"0\" width=\"1681\" height=\"1600\"/>\n",
       "  </clipPath>\n",
       "</defs>\n",
       "<path clip-path=\"url(#clip5300)\" d=\"\n",
       "M182.008 1487.47 L2352.76 1487.47 L2352.76 47.2441 L182.008 47.2441  Z\n",
       "  \" fill=\"#ffffff\" fill-rule=\"evenodd\" fill-opacity=\"1\"/>\n",
       "<defs>\n",
       "  <clipPath id=\"clip5302\">\n",
       "    <rect x=\"182\" y=\"47\" width=\"2172\" height=\"1441\"/>\n",
       "  </clipPath>\n",
       "</defs>\n",
       "<polyline clip-path=\"url(#clip5302)\" style=\"stroke:#000000; stroke-width:2; stroke-opacity:0.1; fill:none\" points=\"\n",
       "  507.305,1487.47 507.305,47.2441 \n",
       "  \"/>\n",
       "<polyline clip-path=\"url(#clip5302)\" style=\"stroke:#000000; stroke-width:2; stroke-opacity:0.1; fill:none\" points=\"\n",
       "  948.083,1487.47 948.083,47.2441 \n",
       "  \"/>\n",
       "<polyline clip-path=\"url(#clip5302)\" style=\"stroke:#000000; stroke-width:2; stroke-opacity:0.1; fill:none\" points=\"\n",
       "  1388.86,1487.47 1388.86,47.2441 \n",
       "  \"/>\n",
       "<polyline clip-path=\"url(#clip5302)\" style=\"stroke:#000000; stroke-width:2; stroke-opacity:0.1; fill:none\" points=\"\n",
       "  1829.64,1487.47 1829.64,47.2441 \n",
       "  \"/>\n",
       "<polyline clip-path=\"url(#clip5302)\" style=\"stroke:#000000; stroke-width:2; stroke-opacity:0.1; fill:none\" points=\"\n",
       "  2270.42,1487.47 2270.42,47.2441 \n",
       "  \"/>\n",
       "<polyline clip-path=\"url(#clip5302)\" style=\"stroke:#000000; stroke-width:2; stroke-opacity:0.1; fill:none\" points=\"\n",
       "  182.008,1367.68 2352.76,1367.68 \n",
       "  \"/>\n",
       "<polyline clip-path=\"url(#clip5302)\" style=\"stroke:#000000; stroke-width:2; stroke-opacity:0.1; fill:none\" points=\"\n",
       "  182.008,1068.82 2352.76,1068.82 \n",
       "  \"/>\n",
       "<polyline clip-path=\"url(#clip5302)\" style=\"stroke:#000000; stroke-width:2; stroke-opacity:0.1; fill:none\" points=\"\n",
       "  182.008,769.963 2352.76,769.963 \n",
       "  \"/>\n",
       "<polyline clip-path=\"url(#clip5302)\" style=\"stroke:#000000; stroke-width:2; stroke-opacity:0.1; fill:none\" points=\"\n",
       "  182.008,471.105 2352.76,471.105 \n",
       "  \"/>\n",
       "<polyline clip-path=\"url(#clip5302)\" style=\"stroke:#000000; stroke-width:2; stroke-opacity:0.1; fill:none\" points=\"\n",
       "  182.008,172.247 2352.76,172.247 \n",
       "  \"/>\n",
       "<polyline clip-path=\"url(#clip5300)\" style=\"stroke:#000000; stroke-width:4; stroke-opacity:1; fill:none\" points=\"\n",
       "  182.008,1487.47 2352.76,1487.47 \n",
       "  \"/>\n",
       "<polyline clip-path=\"url(#clip5300)\" style=\"stroke:#000000; stroke-width:4; stroke-opacity:1; fill:none\" points=\"\n",
       "  182.008,1487.47 182.008,47.2441 \n",
       "  \"/>\n",
       "<polyline clip-path=\"url(#clip5300)\" style=\"stroke:#000000; stroke-width:4; stroke-opacity:1; fill:none\" points=\"\n",
       "  507.305,1487.47 507.305,1470.19 \n",
       "  \"/>\n",
       "<polyline clip-path=\"url(#clip5300)\" style=\"stroke:#000000; stroke-width:4; stroke-opacity:1; fill:none\" points=\"\n",
       "  948.083,1487.47 948.083,1470.19 \n",
       "  \"/>\n",
       "<polyline clip-path=\"url(#clip5300)\" style=\"stroke:#000000; stroke-width:4; stroke-opacity:1; fill:none\" points=\"\n",
       "  1388.86,1487.47 1388.86,1470.19 \n",
       "  \"/>\n",
       "<polyline clip-path=\"url(#clip5300)\" style=\"stroke:#000000; stroke-width:4; stroke-opacity:1; fill:none\" points=\"\n",
       "  1829.64,1487.47 1829.64,1470.19 \n",
       "  \"/>\n",
       "<polyline clip-path=\"url(#clip5300)\" style=\"stroke:#000000; stroke-width:4; stroke-opacity:1; fill:none\" points=\"\n",
       "  2270.42,1487.47 2270.42,1470.19 \n",
       "  \"/>\n",
       "<polyline clip-path=\"url(#clip5300)\" style=\"stroke:#000000; stroke-width:4; stroke-opacity:1; fill:none\" points=\"\n",
       "  182.008,1367.68 208.057,1367.68 \n",
       "  \"/>\n",
       "<polyline clip-path=\"url(#clip5300)\" style=\"stroke:#000000; stroke-width:4; stroke-opacity:1; fill:none\" points=\"\n",
       "  182.008,1068.82 208.057,1068.82 \n",
       "  \"/>\n",
       "<polyline clip-path=\"url(#clip5300)\" style=\"stroke:#000000; stroke-width:4; stroke-opacity:1; fill:none\" points=\"\n",
       "  182.008,769.963 208.057,769.963 \n",
       "  \"/>\n",
       "<polyline clip-path=\"url(#clip5300)\" style=\"stroke:#000000; stroke-width:4; stroke-opacity:1; fill:none\" points=\"\n",
       "  182.008,471.105 208.057,471.105 \n",
       "  \"/>\n",
       "<polyline clip-path=\"url(#clip5300)\" style=\"stroke:#000000; stroke-width:4; stroke-opacity:1; fill:none\" points=\"\n",
       "  182.008,172.247 208.057,172.247 \n",
       "  \"/>\n",
       "<g clip-path=\"url(#clip5300)\">\n",
       "<text style=\"fill:#000000; fill-opacity:1; font-family:Arial,Helvetica Neue,Helvetica,sans-serif; font-size:48px; text-anchor:middle;\" transform=\"rotate(0, 507.305, 1541.47)\" x=\"507.305\" y=\"1541.47\">-1.0</text>\n",
       "</g>\n",
       "<g clip-path=\"url(#clip5300)\">\n",
       "<text style=\"fill:#000000; fill-opacity:1; font-family:Arial,Helvetica Neue,Helvetica,sans-serif; font-size:48px; text-anchor:middle;\" transform=\"rotate(0, 948.083, 1541.47)\" x=\"948.083\" y=\"1541.47\">-0.5</text>\n",
       "</g>\n",
       "<g clip-path=\"url(#clip5300)\">\n",
       "<text style=\"fill:#000000; fill-opacity:1; font-family:Arial,Helvetica Neue,Helvetica,sans-serif; font-size:48px; text-anchor:middle;\" transform=\"rotate(0, 1388.86, 1541.47)\" x=\"1388.86\" y=\"1541.47\">0.0</text>\n",
       "</g>\n",
       "<g clip-path=\"url(#clip5300)\">\n",
       "<text style=\"fill:#000000; fill-opacity:1; font-family:Arial,Helvetica Neue,Helvetica,sans-serif; font-size:48px; text-anchor:middle;\" transform=\"rotate(0, 1829.64, 1541.47)\" x=\"1829.64\" y=\"1541.47\">0.5</text>\n",
       "</g>\n",
       "<g clip-path=\"url(#clip5300)\">\n",
       "<text style=\"fill:#000000; fill-opacity:1; font-family:Arial,Helvetica Neue,Helvetica,sans-serif; font-size:48px; text-anchor:middle;\" transform=\"rotate(0, 2270.42, 1541.47)\" x=\"2270.42\" y=\"1541.47\">1.0</text>\n",
       "</g>\n",
       "<g clip-path=\"url(#clip5300)\">\n",
       "<text style=\"fill:#000000; fill-opacity:1; font-family:Arial,Helvetica Neue,Helvetica,sans-serif; font-size:48px; text-anchor:end;\" transform=\"rotate(0, 158.008, 1385.18)\" x=\"158.008\" y=\"1385.18\">-1.0</text>\n",
       "</g>\n",
       "<g clip-path=\"url(#clip5300)\">\n",
       "<text style=\"fill:#000000; fill-opacity:1; font-family:Arial,Helvetica Neue,Helvetica,sans-serif; font-size:48px; text-anchor:end;\" transform=\"rotate(0, 158.008, 1086.32)\" x=\"158.008\" y=\"1086.32\">-0.5</text>\n",
       "</g>\n",
       "<g clip-path=\"url(#clip5300)\">\n",
       "<text style=\"fill:#000000; fill-opacity:1; font-family:Arial,Helvetica Neue,Helvetica,sans-serif; font-size:48px; text-anchor:end;\" transform=\"rotate(0, 158.008, 787.463)\" x=\"158.008\" y=\"787.463\">0.0</text>\n",
       "</g>\n",
       "<g clip-path=\"url(#clip5300)\">\n",
       "<text style=\"fill:#000000; fill-opacity:1; font-family:Arial,Helvetica Neue,Helvetica,sans-serif; font-size:48px; text-anchor:end;\" transform=\"rotate(0, 158.008, 488.605)\" x=\"158.008\" y=\"488.605\">0.5</text>\n",
       "</g>\n",
       "<g clip-path=\"url(#clip5300)\">\n",
       "<text style=\"fill:#000000; fill-opacity:1; font-family:Arial,Helvetica Neue,Helvetica,sans-serif; font-size:48px; text-anchor:end;\" transform=\"rotate(0, 158.008, 189.747)\" x=\"158.008\" y=\"189.747\">1.0</text>\n",
       "</g>\n",
       "<polyline clip-path=\"url(#clip5302)\" style=\"stroke:#009af9; stroke-width:4; stroke-opacity:1; fill:none\" points=\"\n",
       "  2265.13,769.963 1998.71,747.701 1665.04,561.953 1173.47,453.071 877.667,405.907 781.366,307.635 840.229,191.214 1007.78,107.445 1214.02,89.9785 1374.61,144.423 \n",
       "  1408.86,252.018 1256.52,398.275 971.379,636.13 807.698,900.662 669.705,1030.14 499.346,1031.82 353.426,934.9 291.722,780.758 339.631,622.944 477.443,515.886 \n",
       "  648.524,502.885 791.749,614.196 940.931,865.123 1222.29,1117.83 1400.45,1271.19 1387.81,1383.92 1239.39,1446.71 1034.22,1438.94 857.18,1362.45 781.034,1247.59 \n",
       "  855.012,1144.05 1121.14,1091.43 1602.82,1003.07 1965.1,810.068 2218.67,748.856 2031.16,762.849 1722.48,588.956 1230.25,458.362 903.639,414.902 784.351,322.614 \n",
       "  825.165,205.538 982.017,115.07 1187.87,88.0053 1359.24,133.751 1414.02,235.851 1287.78,376.029 1005.31,598.201 823.653,873.023 690.208,1021.07 521.673,1037.9 \n",
       "  368.706,951.825 293.653,802.284 327.42,641.742 456.121,525.287 626.77,498.099 775.468,591.682 914.109,826.548 1185.55,1092.14 1388.68,1253.92 1398.68,1371.5 \n",
       "  1263.79,1442.24 1061.15,1444.18 875.886,1375.51 783.276,1263.08 835.557,1155.08 1073.26,1095.89 1536.86,1025.18 1929.78,830.5 2181.58,745.048 2265.13,769.963 \n",
       "  \n",
       "  \"/>\n",
       "<path clip-path=\"url(#clip5300)\" d=\"\n",
       "M1888.27 251.724 L2280.76 251.724 L2280.76 130.764 L1888.27 130.764  Z\n",
       "  \" fill=\"#ffffff\" fill-rule=\"evenodd\" fill-opacity=\"1\"/>\n",
       "<polyline clip-path=\"url(#clip5300)\" style=\"stroke:#000000; stroke-width:4; stroke-opacity:1; fill:none\" points=\"\n",
       "  1888.27,251.724 2280.76,251.724 2280.76,130.764 1888.27,130.764 1888.27,251.724 \n",
       "  \"/>\n",
       "<polyline clip-path=\"url(#clip5300)\" style=\"stroke:#009af9; stroke-width:4; stroke-opacity:1; fill:none\" points=\"\n",
       "  1912.27,191.244 2056.27,191.244 \n",
       "  \"/>\n",
       "<g clip-path=\"url(#clip5300)\">\n",
       "<text style=\"fill:#000000; fill-opacity:1; font-family:Arial,Helvetica Neue,Helvetica,sans-serif; font-size:48px; text-anchor:start;\" transform=\"rotate(0, 2080.27, 208.744)\" x=\"2080.27\" y=\"208.744\">(u1,u2)</text>\n",
       "</g>\n",
       "</svg>\n"
      ]
     },
     "execution_count": 7,
     "metadata": {},
     "output_type": "execute_result"
    }
   ],
   "source": [
    "plot(sol0,vars=(1,2))"
   ]
  },
  {
   "cell_type": "markdown",
   "metadata": {},
   "source": [
    "## Integration with IRKGL16 (Adaptive-step)\n"
   ]
  },
  {
   "cell_type": "code",
   "execution_count": 8,
   "metadata": {},
   "outputs": [
    {
     "name": "stdout",
     "output_type": "stream",
     "text": [
      " 11.650308 seconds (23.91 M allocations: 1.092 GiB, 6.45% gc time)\n"
     ]
    }
   ],
   "source": [
    "(sol1,iters1,steps1)=@time(solve(prob128,IRKGL16(),reltol=1e-14, abstol=1e-14,myoutputs=true));"
   ]
  },
  {
   "cell_type": "code",
   "execution_count": 9,
   "metadata": {},
   "outputs": [
    {
     "data": {
      "text/plain": [
       "12.07741935483871"
      ]
     },
     "execution_count": 9,
     "metadata": {},
     "output_type": "execute_result"
    }
   ],
   "source": [
    "sum(iters1)/sol1.destats.naccept"
   ]
  },
  {
   "cell_type": "code",
   "execution_count": 10,
   "metadata": {},
   "outputs": [
    {
     "data": {
      "text/plain": [
       "DiffEqBase.DEStats\n",
       "Number of function 1 evaluations:                  17184\n",
       "Number of function 2 evaluations:                  0\n",
       "Number of W matrix evaluations:                    0\n",
       "Number of linear solves:                           0\n",
       "Number of Jacobians created:                       0\n",
       "Number of nonlinear solver iterations:             0\n",
       "Number of nonlinear solver convergence failures:   0\n",
       "Number of rootfind condition calls:                0\n",
       "Number of accepted steps:                          155\n",
       "Number of rejected steps:                          21"
      ]
     },
     "execution_count": 10,
     "metadata": {},
     "output_type": "execute_result"
    }
   ],
   "source": [
    "sol1.destats"
   ]
  },
  {
   "cell_type": "code",
   "execution_count": 11,
   "metadata": {},
   "outputs": [
    {
     "data": {
      "text/plain": [
       "2.79066680740140681096988508395163e-15"
      ]
     },
     "execution_count": 11,
     "metadata": {},
     "output_type": "execute_result"
    }
   ],
   "source": [
    "T128 = parse(BigFloat,\"17.0652165601579625588917206249\")\n",
    "sol1.t[end]-2*T128"
   ]
  },
  {
   "cell_type": "markdown",
   "metadata": {},
   "source": [
    "## Integration with IRKGL162 (Adaptive-step)"
   ]
  },
  {
   "cell_type": "code",
   "execution_count": 12,
   "metadata": {},
   "outputs": [
    {
     "name": "stdout",
     "output_type": "stream",
     "text": [
      "  2.956255 seconds (10.54 M allocations: 475.393 MiB, 4.77% gc time)\n"
     ]
    }
   ],
   "source": [
    "(sol2,iters2,steps2)=@time(solve(prob128,IRKGL162(),reltol=1e-14, abstol=1e-14,myoutputs=true));"
   ]
  },
  {
   "cell_type": "code",
   "execution_count": 13,
   "metadata": {},
   "outputs": [
    {
     "data": {
      "text/plain": [
       "24.174193548387098"
      ]
     },
     "execution_count": 13,
     "metadata": {},
     "output_type": "execute_result"
    }
   ],
   "source": [
    "sum(iters2)/sol2.destats.naccept"
   ]
  },
  {
   "cell_type": "code",
   "execution_count": 14,
   "metadata": {},
   "outputs": [
    {
     "data": {
      "text/plain": [
       "DiffEqBase.DEStats\n",
       "Number of function 1 evaluations:                  31986\n",
       "Number of function 2 evaluations:                  0\n",
       "Number of W matrix evaluations:                    0\n",
       "Number of linear solves:                           0\n",
       "Number of Jacobians created:                       0\n",
       "Number of nonlinear solver iterations:             0\n",
       "Number of nonlinear solver convergence failures:   0\n",
       "Number of rootfind condition calls:                0\n",
       "Number of accepted steps:                          155\n",
       "Number of rejected steps:                          21"
      ]
     },
     "execution_count": 14,
     "metadata": {},
     "output_type": "execute_result"
    }
   ],
   "source": [
    "sol2.destats"
   ]
  },
  {
   "cell_type": "markdown",
   "metadata": {},
   "source": [
    "### Plots IRKGL16"
   ]
  },
  {
   "cell_type": "code",
   "execution_count": 15,
   "metadata": {},
   "outputs": [
    {
     "data": {
      "image/svg+xml": [
       "<?xml version=\"1.0\" encoding=\"utf-8\"?>\n",
       "<svg xmlns=\"http://www.w3.org/2000/svg\" xmlns:xlink=\"http://www.w3.org/1999/xlink\" width=\"600\" height=\"400\" viewBox=\"0 0 2400 1600\">\n",
       "<defs>\n",
       "  <clipPath id=\"clip5700\">\n",
       "    <rect x=\"0\" y=\"0\" width=\"2400\" height=\"1600\"/>\n",
       "  </clipPath>\n",
       "</defs>\n",
       "<path clip-path=\"url(#clip5700)\" d=\"\n",
       "M0 1600 L2400 1600 L2400 0 L0 0  Z\n",
       "  \" fill=\"#ffffff\" fill-rule=\"evenodd\" fill-opacity=\"1\"/>\n",
       "<defs>\n",
       "  <clipPath id=\"clip5701\">\n",
       "    <rect x=\"480\" y=\"0\" width=\"1681\" height=\"1600\"/>\n",
       "  </clipPath>\n",
       "</defs>\n",
       "<path clip-path=\"url(#clip5700)\" d=\"\n",
       "M140.517 1487.47 L2352.76 1487.47 L2352.76 121.675 L140.517 121.675  Z\n",
       "  \" fill=\"#ffffff\" fill-rule=\"evenodd\" fill-opacity=\"1\"/>\n",
       "<defs>\n",
       "  <clipPath id=\"clip5702\">\n",
       "    <rect x=\"140\" y=\"121\" width=\"2213\" height=\"1367\"/>\n",
       "  </clipPath>\n",
       "</defs>\n",
       "<polyline clip-path=\"url(#clip5702)\" style=\"stroke:#000000; stroke-width:2; stroke-opacity:0.1; fill:none\" points=\"\n",
       "  203.036,1487.47 203.036,121.675 \n",
       "  \"/>\n",
       "<polyline clip-path=\"url(#clip5702)\" style=\"stroke:#000000; stroke-width:2; stroke-opacity:0.1; fill:none\" points=\"\n",
       "  814.546,1487.47 814.546,121.675 \n",
       "  \"/>\n",
       "<polyline clip-path=\"url(#clip5702)\" style=\"stroke:#000000; stroke-width:2; stroke-opacity:0.1; fill:none\" points=\"\n",
       "  1426.06,1487.47 1426.06,121.675 \n",
       "  \"/>\n",
       "<polyline clip-path=\"url(#clip5702)\" style=\"stroke:#000000; stroke-width:2; stroke-opacity:0.1; fill:none\" points=\"\n",
       "  2037.57,1487.47 2037.57,121.675 \n",
       "  \"/>\n",
       "<polyline clip-path=\"url(#clip5702)\" style=\"stroke:#000000; stroke-width:2; stroke-opacity:0.1; fill:none\" points=\"\n",
       "  140.517,1255.55 2352.76,1255.55 \n",
       "  \"/>\n",
       "<polyline clip-path=\"url(#clip5702)\" style=\"stroke:#000000; stroke-width:2; stroke-opacity:0.1; fill:none\" points=\"\n",
       "  140.517,933.424 2352.76,933.424 \n",
       "  \"/>\n",
       "<polyline clip-path=\"url(#clip5702)\" style=\"stroke:#000000; stroke-width:2; stroke-opacity:0.1; fill:none\" points=\"\n",
       "  140.517,611.301 2352.76,611.301 \n",
       "  \"/>\n",
       "<polyline clip-path=\"url(#clip5702)\" style=\"stroke:#000000; stroke-width:2; stroke-opacity:0.1; fill:none\" points=\"\n",
       "  140.517,289.179 2352.76,289.179 \n",
       "  \"/>\n",
       "<polyline clip-path=\"url(#clip5700)\" style=\"stroke:#000000; stroke-width:4; stroke-opacity:1; fill:none\" points=\"\n",
       "  140.517,1487.47 2352.76,1487.47 \n",
       "  \"/>\n",
       "<polyline clip-path=\"url(#clip5700)\" style=\"stroke:#000000; stroke-width:4; stroke-opacity:1; fill:none\" points=\"\n",
       "  140.517,1487.47 140.517,121.675 \n",
       "  \"/>\n",
       "<polyline clip-path=\"url(#clip5700)\" style=\"stroke:#000000; stroke-width:4; stroke-opacity:1; fill:none\" points=\"\n",
       "  203.036,1487.47 203.036,1471.09 \n",
       "  \"/>\n",
       "<polyline clip-path=\"url(#clip5700)\" style=\"stroke:#000000; stroke-width:4; stroke-opacity:1; fill:none\" points=\"\n",
       "  814.546,1487.47 814.546,1471.09 \n",
       "  \"/>\n",
       "<polyline clip-path=\"url(#clip5700)\" style=\"stroke:#000000; stroke-width:4; stroke-opacity:1; fill:none\" points=\"\n",
       "  1426.06,1487.47 1426.06,1471.09 \n",
       "  \"/>\n",
       "<polyline clip-path=\"url(#clip5700)\" style=\"stroke:#000000; stroke-width:4; stroke-opacity:1; fill:none\" points=\"\n",
       "  2037.57,1487.47 2037.57,1471.09 \n",
       "  \"/>\n",
       "<polyline clip-path=\"url(#clip5700)\" style=\"stroke:#000000; stroke-width:4; stroke-opacity:1; fill:none\" points=\"\n",
       "  140.517,1255.55 167.064,1255.55 \n",
       "  \"/>\n",
       "<polyline clip-path=\"url(#clip5700)\" style=\"stroke:#000000; stroke-width:4; stroke-opacity:1; fill:none\" points=\"\n",
       "  140.517,933.424 167.064,933.424 \n",
       "  \"/>\n",
       "<polyline clip-path=\"url(#clip5700)\" style=\"stroke:#000000; stroke-width:4; stroke-opacity:1; fill:none\" points=\"\n",
       "  140.517,611.301 167.064,611.301 \n",
       "  \"/>\n",
       "<polyline clip-path=\"url(#clip5700)\" style=\"stroke:#000000; stroke-width:4; stroke-opacity:1; fill:none\" points=\"\n",
       "  140.517,289.179 167.064,289.179 \n",
       "  \"/>\n",
       "<g clip-path=\"url(#clip5700)\">\n",
       "<text style=\"fill:#000000; fill-opacity:1; font-family:Arial,Helvetica Neue,Helvetica,sans-serif; font-size:48px; text-anchor:middle;\" transform=\"rotate(0, 203.036, 1541.47)\" x=\"203.036\" y=\"1541.47\">0</text>\n",
       "</g>\n",
       "<g clip-path=\"url(#clip5700)\">\n",
       "<text style=\"fill:#000000; fill-opacity:1; font-family:Arial,Helvetica Neue,Helvetica,sans-serif; font-size:48px; text-anchor:middle;\" transform=\"rotate(0, 814.546, 1541.47)\" x=\"814.546\" y=\"1541.47\">10</text>\n",
       "</g>\n",
       "<g clip-path=\"url(#clip5700)\">\n",
       "<text style=\"fill:#000000; fill-opacity:1; font-family:Arial,Helvetica Neue,Helvetica,sans-serif; font-size:48px; text-anchor:middle;\" transform=\"rotate(0, 1426.06, 1541.47)\" x=\"1426.06\" y=\"1541.47\">20</text>\n",
       "</g>\n",
       "<g clip-path=\"url(#clip5700)\">\n",
       "<text style=\"fill:#000000; fill-opacity:1; font-family:Arial,Helvetica Neue,Helvetica,sans-serif; font-size:48px; text-anchor:middle;\" transform=\"rotate(0, 2037.57, 1541.47)\" x=\"2037.57\" y=\"1541.47\">30</text>\n",
       "</g>\n",
       "<g clip-path=\"url(#clip5700)\">\n",
       "<text style=\"fill:#000000; fill-opacity:1; font-family:Arial,Helvetica Neue,Helvetica,sans-serif; font-size:48px; text-anchor:end;\" transform=\"rotate(0, 116.517, 1273.05)\" x=\"116.517\" y=\"1273.05\">15</text>\n",
       "</g>\n",
       "<g clip-path=\"url(#clip5700)\">\n",
       "<text style=\"fill:#000000; fill-opacity:1; font-family:Arial,Helvetica Neue,Helvetica,sans-serif; font-size:48px; text-anchor:end;\" transform=\"rotate(0, 116.517, 950.924)\" x=\"116.517\" y=\"950.924\">20</text>\n",
       "</g>\n",
       "<g clip-path=\"url(#clip5700)\">\n",
       "<text style=\"fill:#000000; fill-opacity:1; font-family:Arial,Helvetica Neue,Helvetica,sans-serif; font-size:48px; text-anchor:end;\" transform=\"rotate(0, 116.517, 628.801)\" x=\"116.517\" y=\"628.801\">25</text>\n",
       "</g>\n",
       "<g clip-path=\"url(#clip5700)\">\n",
       "<text style=\"fill:#000000; fill-opacity:1; font-family:Arial,Helvetica Neue,Helvetica,sans-serif; font-size:48px; text-anchor:end;\" transform=\"rotate(0, 116.517, 306.679)\" x=\"116.517\" y=\"306.679\">30</text>\n",
       "</g>\n",
       "<g clip-path=\"url(#clip5700)\">\n",
       "<text style=\"fill:#000000; fill-opacity:1; font-family:Arial,Helvetica Neue,Helvetica,sans-serif; font-size:84px; text-anchor:middle;\" transform=\"rotate(0, 1246.64, 73.2)\" x=\"1246.64\" y=\"73.2\">Iteration numbers</text>\n",
       "</g>\n",
       "<polyline clip-path=\"url(#clip5702)\" style=\"stroke:#009af9; stroke-width:4; stroke-opacity:1; fill:none\" points=\"\n",
       "  203.127,675.726 203.217,1448.82 203.334,1448.82 203.488,1448.82 203.706,1448.82 204.007,1448.82 204.483,1448.82 205.175,1448.82 206.228,1448.82 207.877,1448.82 \n",
       "  210.5,1448.82 214.72,1448.82 221.584,1448.82 232.878,1448.82 246.822,1448.82 257.583,1448.82 266.375,1448.82 274.856,1448.82 283.511,1448.82 293.197,1448.82 \n",
       "  305.239,1448.82 323.184,1448.82 346.006,1448.82 381.573,1448.82 430.494,1448.82 467.974,1448.82 499.393,1448.82 522.698,1448.82 538.427,1448.82 551.544,1448.82 \n",
       "  562,1448.82 572.006,1448.82 582.472,1448.82 594.422,1448.82 609.371,1448.82 631.304,1448.82 659.552,1448.82 704.506,1448.82 762.093,1448.82 793.296,1448.82 \n",
       "  820.119,1448.82 841.021,1448.82 855.454,1448.82 868.633,1448.82 878.473,1448.82 888.358,1448.82 899.096,1448.82 911.671,1448.82 927.687,1448.82 950.238,1448.82 \n",
       "  980.916,1448.82 1027.99,1448.82 1071.17,1448.82 1101.96,1448.82 1125.85,1448.82 1144.22,1448.82 1156.4,1448.82 1167.15,1448.82 1175.22,1448.82 1183.48,1448.82 \n",
       "  1192.61,1448.82 1203.33,1448.82 1216.91,1448.82 1225.71,1448.82 1233.01,1448.82 1237.92,1448.82 1240.99,1448.82 1242.92,1448.82 1244.14,1448.82 1244.94,1448.82 \n",
       "  1245.46,1448.82 1245.82,1448.82 1246.08,1448.82 1246.25,1448.82 1246.37,1448.82 1246.48,1448.82 1246.56,1448.82 1246.64,1448.82 1246.73,1448.82 1246.83,1448.82 \n",
       "  1246.97,1448.82 1247.15,1448.82 1247.41,1448.82 1247.8,1448.82 1248.38,1448.82 1249.24,1448.82 1250.58,1448.82 1252.7,1448.82 1256.1,1448.82 1261.58,1448.82 \n",
       "  1270.57,1448.82 1285.47,1448.82 1296.42,1448.82 1305.71,1448.82 1314.31,1448.82 1322.62,1448.82 1331.86,1448.82 1343.44,1448.82 1357.8,1448.82 1377.47,1448.82 \n",
       "  1407.13,1448.82 1449.08,1448.82 1499.81,1448.82 1529.57,1448.82 1555.39,1448.82 1574.55,1448.82 1588.67,1448.82 1600.29,1448.82 1610.45,1448.82 1620.35,1448.82 \n",
       "  1631.44,1448.82 1645.4,1448.82 1663.16,1448.82 1686.72,1448.82 1723.51,1448.82 1775.02,1448.82 1817.02,1448.82 1850.66,1448.82 1875.98,1448.82 1893.9,1448.82 \n",
       "  1906.66,1448.82 1917.74,1448.82 1928.21,1448.82 1938.32,1448.82 1949.8,1448.82 1964.31,1448.82 1983.86,1448.82 2010.54,1448.82 2050.45,1448.82 2108.29,1448.82 \n",
       "  2135.25,1448.82 2159.69,1448.82 2180.58,1448.82 2195.33,1448.82 2206.07,1448.82 2215.02,1448.82 2223.92,1448.82 2232.47,1448.82 2242.16,1448.82 2254.37,1448.82 \n",
       "  2267.57,1448.82 2273.82,1448.82 2279.44,1448.82 2283.3,1448.82 2285.69,1448.82 2287.2,1448.82 2288.17,1448.82 2288.8,1448.82 2289.23,1448.82 2289.53,1448.82 \n",
       "  2289.73,1448.82 2289.87,1448.82 2289.99,1448.82 2290.08,1448.82 2290.15,1448.82 \n",
       "  \"/>\n",
       "<polyline clip-path=\"url(#clip5702)\" style=\"stroke:#e26f46; stroke-width:4; stroke-opacity:1; fill:none\" points=\"\n",
       "  203.127,482.452 203.217,868.999 203.334,740.15 203.488,804.575 203.706,740.15 204.007,804.575 204.483,740.15 205.175,804.575 206.228,868.999 207.877,804.575 \n",
       "  210.5,804.575 214.72,740.15 221.584,804.575 232.878,675.726 246.822,611.301 257.583,546.877 266.375,611.301 274.856,611.301 283.511,611.301 293.197,675.726 \n",
       "  305.239,675.726 323.184,611.301 346.006,611.301 381.573,482.452 430.494,224.754 467.974,611.301 499.393,546.877 522.698,611.301 538.427,675.726 551.544,611.301 \n",
       "  562,611.301 572.006,611.301 582.472,611.301 594.422,611.301 609.371,611.301 631.304,611.301 659.552,546.877 704.506,160.33 762.093,160.33 793.296,740.15 \n",
       "  820.119,675.726 841.021,611.301 855.454,675.726 868.633,611.301 878.473,611.301 888.358,482.452 899.096,611.301 911.671,611.301 927.687,611.301 950.238,546.877 \n",
       "  980.916,675.726 1027.99,224.754 1071.17,482.452 1101.96,611.301 1125.85,611.301 1144.22,611.301 1156.4,611.301 1167.15,611.301 1175.22,675.726 1183.48,611.301 \n",
       "  1192.61,611.301 1203.33,611.301 1216.91,546.877 1225.71,804.575 1233.01,933.424 1237.92,868.999 1240.99,933.424 1242.92,933.424 1244.14,933.424 1244.94,868.999 \n",
       "  1245.46,868.999 1245.82,868.999 1246.08,868.999 1246.25,868.999 1246.37,804.575 1246.48,804.575 1246.56,868.999 1246.64,804.575 1246.73,804.575 1246.83,740.15 \n",
       "  1246.97,740.15 1247.15,740.15 1247.41,804.575 1247.8,740.15 1248.38,804.575 1249.24,868.999 1250.58,868.999 1252.7,804.575 1256.1,868.999 1261.58,868.999 \n",
       "  1270.57,740.15 1285.47,482.452 1296.42,675.726 1305.71,675.726 1314.31,546.877 1322.62,675.726 1331.86,611.301 1343.44,546.877 1357.8,675.726 1377.47,675.726 \n",
       "  1407.13,546.877 1449.08,353.603 1499.81,353.603 1529.57,675.726 1555.39,675.726 1574.55,675.726 1588.67,611.301 1600.29,482.452 1610.45,546.877 1620.35,611.301 \n",
       "  1631.44,546.877 1645.4,611.301 1663.16,611.301 1686.72,482.452 1723.51,418.028 1775.02,160.33 1817.02,353.603 1850.66,611.301 1875.98,611.301 1893.9,675.726 \n",
       "  1906.66,611.301 1917.74,611.301 1928.21,546.877 1938.32,482.452 1949.8,611.301 1964.31,611.301 1983.86,611.301 2010.54,546.877 2050.45,482.452 2108.29,224.754 \n",
       "  2135.25,611.301 2159.69,740.15 2180.58,611.301 2195.33,546.877 2206.07,675.726 2215.02,546.877 2223.92,546.877 2232.47,611.301 2242.16,611.301 2254.37,546.877 \n",
       "  2267.57,675.726 2273.82,997.848 2279.44,933.424 2283.3,868.999 2285.69,933.424 2287.2,933.424 2288.17,933.424 2288.8,868.999 2289.23,868.999 2289.53,868.999 \n",
       "  2289.73,868.999 2289.87,868.999 2289.99,868.999 2290.08,804.575 2290.15,868.999 \n",
       "  \"/>\n",
       "<path clip-path=\"url(#clip5700)\" d=\"\n",
       "M1816.02 386.635 L2280.76 386.635 L2280.76 205.195 L1816.02 205.195  Z\n",
       "  \" fill=\"#ffffff\" fill-rule=\"evenodd\" fill-opacity=\"1\"/>\n",
       "<polyline clip-path=\"url(#clip5700)\" style=\"stroke:#000000; stroke-width:4; stroke-opacity:1; fill:none\" points=\"\n",
       "  1816.02,386.635 2280.76,386.635 2280.76,205.195 1816.02,205.195 1816.02,386.635 \n",
       "  \"/>\n",
       "<polyline clip-path=\"url(#clip5700)\" style=\"stroke:#009af9; stroke-width:4; stroke-opacity:1; fill:none\" points=\"\n",
       "  1840.02,265.675 1984.02,265.675 \n",
       "  \"/>\n",
       "<g clip-path=\"url(#clip5700)\">\n",
       "<text style=\"fill:#000000; fill-opacity:1; font-family:Arial,Helvetica Neue,Helvetica,sans-serif; font-size:48px; text-anchor:start;\" transform=\"rotate(0, 2008.02, 283.175)\" x=\"2008.02\" y=\"283.175\">IRKGL16</text>\n",
       "</g>\n",
       "<polyline clip-path=\"url(#clip5700)\" style=\"stroke:#e26f46; stroke-width:4; stroke-opacity:1; fill:none\" points=\"\n",
       "  1840.02,326.155 1984.02,326.155 \n",
       "  \"/>\n",
       "<g clip-path=\"url(#clip5700)\">\n",
       "<text style=\"fill:#000000; fill-opacity:1; font-family:Arial,Helvetica Neue,Helvetica,sans-serif; font-size:48px; text-anchor:start;\" transform=\"rotate(0, 2008.02, 343.655)\" x=\"2008.02\" y=\"343.655\">IRKGL162</text>\n",
       "</g>\n",
       "</svg>\n"
      ]
     },
     "execution_count": 15,
     "metadata": {},
     "output_type": "execute_result"
    }
   ],
   "source": [
    "plot(sol1.t[2:end],iters1[2:end], title=\"Iteration numbers\", label=\"IRKGL16\")\n",
    "plot!(sol2.t[2:end],iters2[2:end],label=\"IRKGL162\")"
   ]
  },
  {
   "cell_type": "code",
   "execution_count": 16,
   "metadata": {},
   "outputs": [
    {
     "data": {
      "image/svg+xml": [
       "<?xml version=\"1.0\" encoding=\"utf-8\"?>\n",
       "<svg xmlns=\"http://www.w3.org/2000/svg\" xmlns:xlink=\"http://www.w3.org/1999/xlink\" width=\"600\" height=\"400\" viewBox=\"0 0 2400 1600\">\n",
       "<defs>\n",
       "  <clipPath id=\"clip6100\">\n",
       "    <rect x=\"0\" y=\"0\" width=\"2400\" height=\"1600\"/>\n",
       "  </clipPath>\n",
       "</defs>\n",
       "<path clip-path=\"url(#clip6100)\" d=\"\n",
       "M0 1600 L2400 1600 L2400 0 L0 0  Z\n",
       "  \" fill=\"#ffffff\" fill-rule=\"evenodd\" fill-opacity=\"1\"/>\n",
       "<defs>\n",
       "  <clipPath id=\"clip6101\">\n",
       "    <rect x=\"480\" y=\"0\" width=\"1681\" height=\"1600\"/>\n",
       "  </clipPath>\n",
       "</defs>\n",
       "<path clip-path=\"url(#clip6100)\" d=\"\n",
       "M153.898 1487.47 L2352.76 1487.47 L2352.76 121.675 L153.898 121.675  Z\n",
       "  \" fill=\"#ffffff\" fill-rule=\"evenodd\" fill-opacity=\"1\"/>\n",
       "<defs>\n",
       "  <clipPath id=\"clip6102\">\n",
       "    <rect x=\"153\" y=\"121\" width=\"2200\" height=\"1367\"/>\n",
       "  </clipPath>\n",
       "</defs>\n",
       "<polyline clip-path=\"url(#clip6102)\" style=\"stroke:#000000; stroke-width:2; stroke-opacity:0.1; fill:none\" points=\"\n",
       "  216.13,1487.47 216.13,121.675 \n",
       "  \"/>\n",
       "<polyline clip-path=\"url(#clip6102)\" style=\"stroke:#000000; stroke-width:2; stroke-opacity:0.1; fill:none\" points=\"\n",
       "  823.914,1487.47 823.914,121.675 \n",
       "  \"/>\n",
       "<polyline clip-path=\"url(#clip6102)\" style=\"stroke:#000000; stroke-width:2; stroke-opacity:0.1; fill:none\" points=\"\n",
       "  1431.7,1487.47 1431.7,121.675 \n",
       "  \"/>\n",
       "<polyline clip-path=\"url(#clip6102)\" style=\"stroke:#000000; stroke-width:2; stroke-opacity:0.1; fill:none\" points=\"\n",
       "  2039.48,1487.47 2039.48,121.675 \n",
       "  \"/>\n",
       "<polyline clip-path=\"url(#clip6102)\" style=\"stroke:#000000; stroke-width:2; stroke-opacity:0.1; fill:none\" points=\"\n",
       "  153.898,1448.82 2352.76,1448.82 \n",
       "  \"/>\n",
       "<polyline clip-path=\"url(#clip6102)\" style=\"stroke:#000000; stroke-width:2; stroke-opacity:0.1; fill:none\" points=\"\n",
       "  153.898,1176.39 2352.76,1176.39 \n",
       "  \"/>\n",
       "<polyline clip-path=\"url(#clip6102)\" style=\"stroke:#000000; stroke-width:2; stroke-opacity:0.1; fill:none\" points=\"\n",
       "  153.898,903.961 2352.76,903.961 \n",
       "  \"/>\n",
       "<polyline clip-path=\"url(#clip6102)\" style=\"stroke:#000000; stroke-width:2; stroke-opacity:0.1; fill:none\" points=\"\n",
       "  153.898,631.532 2352.76,631.532 \n",
       "  \"/>\n",
       "<polyline clip-path=\"url(#clip6102)\" style=\"stroke:#000000; stroke-width:2; stroke-opacity:0.1; fill:none\" points=\"\n",
       "  153.898,359.103 2352.76,359.103 \n",
       "  \"/>\n",
       "<polyline clip-path=\"url(#clip6100)\" style=\"stroke:#000000; stroke-width:4; stroke-opacity:1; fill:none\" points=\"\n",
       "  153.898,1487.47 2352.76,1487.47 \n",
       "  \"/>\n",
       "<polyline clip-path=\"url(#clip6100)\" style=\"stroke:#000000; stroke-width:4; stroke-opacity:1; fill:none\" points=\"\n",
       "  153.898,1487.47 153.898,121.675 \n",
       "  \"/>\n",
       "<polyline clip-path=\"url(#clip6100)\" style=\"stroke:#000000; stroke-width:4; stroke-opacity:1; fill:none\" points=\"\n",
       "  216.13,1487.47 216.13,1471.09 \n",
       "  \"/>\n",
       "<polyline clip-path=\"url(#clip6100)\" style=\"stroke:#000000; stroke-width:4; stroke-opacity:1; fill:none\" points=\"\n",
       "  823.914,1487.47 823.914,1471.09 \n",
       "  \"/>\n",
       "<polyline clip-path=\"url(#clip6100)\" style=\"stroke:#000000; stroke-width:4; stroke-opacity:1; fill:none\" points=\"\n",
       "  1431.7,1487.47 1431.7,1471.09 \n",
       "  \"/>\n",
       "<polyline clip-path=\"url(#clip6100)\" style=\"stroke:#000000; stroke-width:4; stroke-opacity:1; fill:none\" points=\"\n",
       "  2039.48,1487.47 2039.48,1471.09 \n",
       "  \"/>\n",
       "<polyline clip-path=\"url(#clip6100)\" style=\"stroke:#000000; stroke-width:4; stroke-opacity:1; fill:none\" points=\"\n",
       "  153.898,1448.82 180.284,1448.82 \n",
       "  \"/>\n",
       "<polyline clip-path=\"url(#clip6100)\" style=\"stroke:#000000; stroke-width:4; stroke-opacity:1; fill:none\" points=\"\n",
       "  153.898,1176.39 180.284,1176.39 \n",
       "  \"/>\n",
       "<polyline clip-path=\"url(#clip6100)\" style=\"stroke:#000000; stroke-width:4; stroke-opacity:1; fill:none\" points=\"\n",
       "  153.898,903.961 180.284,903.961 \n",
       "  \"/>\n",
       "<polyline clip-path=\"url(#clip6100)\" style=\"stroke:#000000; stroke-width:4; stroke-opacity:1; fill:none\" points=\"\n",
       "  153.898,631.532 180.284,631.532 \n",
       "  \"/>\n",
       "<polyline clip-path=\"url(#clip6100)\" style=\"stroke:#000000; stroke-width:4; stroke-opacity:1; fill:none\" points=\"\n",
       "  153.898,359.103 180.284,359.103 \n",
       "  \"/>\n",
       "<g clip-path=\"url(#clip6100)\">\n",
       "<text style=\"fill:#000000; fill-opacity:1; font-family:Arial,Helvetica Neue,Helvetica,sans-serif; font-size:48px; text-anchor:middle;\" transform=\"rotate(0, 216.13, 1541.47)\" x=\"216.13\" y=\"1541.47\">0</text>\n",
       "</g>\n",
       "<g clip-path=\"url(#clip6100)\">\n",
       "<text style=\"fill:#000000; fill-opacity:1; font-family:Arial,Helvetica Neue,Helvetica,sans-serif; font-size:48px; text-anchor:middle;\" transform=\"rotate(0, 823.914, 1541.47)\" x=\"823.914\" y=\"1541.47\">10</text>\n",
       "</g>\n",
       "<g clip-path=\"url(#clip6100)\">\n",
       "<text style=\"fill:#000000; fill-opacity:1; font-family:Arial,Helvetica Neue,Helvetica,sans-serif; font-size:48px; text-anchor:middle;\" transform=\"rotate(0, 1431.7, 1541.47)\" x=\"1431.7\" y=\"1541.47\">20</text>\n",
       "</g>\n",
       "<g clip-path=\"url(#clip6100)\">\n",
       "<text style=\"fill:#000000; fill-opacity:1; font-family:Arial,Helvetica Neue,Helvetica,sans-serif; font-size:48px; text-anchor:middle;\" transform=\"rotate(0, 2039.48, 1541.47)\" x=\"2039.48\" y=\"1541.47\">30</text>\n",
       "</g>\n",
       "<g clip-path=\"url(#clip6100)\">\n",
       "<text style=\"fill:#000000; fill-opacity:1; font-family:Arial,Helvetica Neue,Helvetica,sans-serif; font-size:48px; text-anchor:end;\" transform=\"rotate(0, 129.898, 1466.32)\" x=\"129.898\" y=\"1466.32\">0.0</text>\n",
       "</g>\n",
       "<g clip-path=\"url(#clip6100)\">\n",
       "<text style=\"fill:#000000; fill-opacity:1; font-family:Arial,Helvetica Neue,Helvetica,sans-serif; font-size:48px; text-anchor:end;\" transform=\"rotate(0, 129.898, 1193.89)\" x=\"129.898\" y=\"1193.89\">0.2</text>\n",
       "</g>\n",
       "<g clip-path=\"url(#clip6100)\">\n",
       "<text style=\"fill:#000000; fill-opacity:1; font-family:Arial,Helvetica Neue,Helvetica,sans-serif; font-size:48px; text-anchor:end;\" transform=\"rotate(0, 129.898, 921.461)\" x=\"129.898\" y=\"921.461\">0.4</text>\n",
       "</g>\n",
       "<g clip-path=\"url(#clip6100)\">\n",
       "<text style=\"fill:#000000; fill-opacity:1; font-family:Arial,Helvetica Neue,Helvetica,sans-serif; font-size:48px; text-anchor:end;\" transform=\"rotate(0, 129.898, 649.032)\" x=\"129.898\" y=\"649.032\">0.6</text>\n",
       "</g>\n",
       "<g clip-path=\"url(#clip6100)\">\n",
       "<text style=\"fill:#000000; fill-opacity:1; font-family:Arial,Helvetica Neue,Helvetica,sans-serif; font-size:48px; text-anchor:end;\" transform=\"rotate(0, 129.898, 376.603)\" x=\"129.898\" y=\"376.603\">0.8</text>\n",
       "</g>\n",
       "<g clip-path=\"url(#clip6100)\">\n",
       "<text style=\"fill:#000000; fill-opacity:1; font-family:Arial,Helvetica Neue,Helvetica,sans-serif; font-size:84px; text-anchor:middle;\" transform=\"rotate(0, 1253.33, 73.2)\" x=\"1253.33\" y=\"73.2\">step sizes in the integration</text>\n",
       "</g>\n",
       "<polyline clip-path=\"url(#clip6102)\" style=\"stroke:#009af9; stroke-width:4; stroke-opacity:1; fill:none\" points=\"\n",
       "  216.13,1448.82 216.221,1446.78 216.31,1446.81 216.426,1446.23 216.579,1445.39 216.796,1443.96 217.095,1442.11 217.568,1438.22 218.257,1433.39 219.302,1425.38 \n",
       "  220.942,1412.08 223.549,1390.39 227.743,1354.82 234.565,1295.92 245.79,1197.25 259.65,1138.21 270.345,1209.12 279.084,1252.97 287.513,1259.9 296.115,1256.03 \n",
       "  305.741,1233.08 317.71,1180.58 335.547,1049.07 358.229,940.474 393.579,656.551 442.203,359.093 479.454,613.964 510.682,748.938 533.845,929.7 549.477,1098.47 \n",
       "  562.515,1156.63 572.907,1215.91 582.852,1225.94 593.254,1215.69 605.131,1182.63 619.99,1115.82 641.789,960.263 669.865,819.597 714.545,447.461 771.781,166.062 \n",
       "  802.794,753.761 829.454,851.336 850.228,983.233 864.573,1127.32 877.672,1155.26 887.452,1229.63 897.277,1228.63 907.95,1209.63 920.448,1168.71 936.366,1092.07 \n",
       "  958.78,946.477 989.271,765.477 1036.06,400.262 1078.97,487.018 1109.57,762.982 1133.33,916.498 1151.58,1039.69 1163.69,1177.52 1174.37,1209.31 1182.39,1269.21 \n",
       "  1190.6,1264.68 1199.67,1245.55 1210.33,1210.09 1223.83,1146.21 1232.57,1252.87 1239.83,1286.07 1244.71,1339.56 1247.76,1380.37 1249.68,1405.9 1250.9,1421.51 \n",
       "  1251.68,1431.14 1252.21,1437.12 1252.56,1440.82 1252.82,1443.16 1252.99,1445.03 1253.11,1445.98 1253.21,1446.55 1253.3,1446.93 1253.38,1447.04 1253.46,1446.88 \n",
       "  1253.57,1446.5 1253.7,1445.85 1253.89,1444.67 1254.14,1443.14 1254.53,1440.13 1255.11,1435.84 1255.96,1429.57 1257.3,1418.97 1259.4,1401.62 1262.77,1373.27 \n",
       "  1268.23,1326.55 1277.16,1248.71 1291.97,1116.85 1302.85,1204.89 1312.09,1241.86 1320.64,1257.22 1328.89,1263.89 1338.08,1242.94 1349.59,1190.8 1363.86,1129.06 \n",
       "  1383.41,1010.55 1412.89,788.133 1454.58,514.521 1505,318.713 1534.58,785.973 1560.25,873.577 1579.29,1022.1 1593.32,1134.38 1604.87,1190 1614.97,1222.31 \n",
       "  1624.81,1228.29 1635.84,1201.8 1649.71,1137.86 1667.36,1053.22 1690.78,924.03 1727.34,629.303 1778.54,301.493 1820.28,513.244 1853.72,699.459 1878.88,884.915 \n",
       "  1896.69,1049.66 1909.37,1164.54 1920.38,1202.08 1930.79,1215.51 1940.84,1223.58 1952.25,1193.24 1966.67,1125.58 1986.11,1013.17 2012.63,854.521 2052.28,560.027 \n",
       "  2109.78,160.33 2136.58,848.212 2160.86,904.565 2181.63,983.354 2196.28,1120.43 2206.96,1209.45 2215.85,1249.53 2224.7,1250.49 2233.2,1258.35 2242.83,1233.06 \n",
       "  2254.97,1176.8 2268.09,1154.74 2274.3,1309.66 2279.89,1323.52 2283.72,1362.95 2286.1,1395.49 2287.6,1415.24 2288.56,1427.27 2289.19,1434.71 2289.61,1439.33 \n",
       "  2289.91,1442.19 2290.11,1444.19 2290.25,1445.73 2290.37,1446.22 2290.46,1446.82 2290.52,1447.33 \n",
       "  \"/>\n",
       "<polyline clip-path=\"url(#clip6102)\" style=\"stroke:#e26f46; stroke-width:4; stroke-opacity:1; fill:none\" points=\"\n",
       "  216.13,1448.82 216.221,1446.78 216.31,1446.81 216.426,1446.23 216.579,1445.39 216.796,1443.96 217.095,1442.11 217.568,1438.22 218.257,1433.39 219.302,1425.38 \n",
       "  220.942,1412.08 223.549,1390.39 227.743,1354.82 234.565,1295.92 245.79,1197.25 259.65,1138.21 270.345,1209.12 279.084,1252.97 287.513,1259.9 296.115,1256.03 \n",
       "  305.741,1233.08 317.71,1180.58 335.547,1049.07 358.229,940.474 393.579,656.551 442.203,359.093 479.454,613.964 510.682,748.938 533.845,929.7 549.477,1098.47 \n",
       "  562.515,1156.63 572.907,1215.91 582.852,1225.94 593.254,1215.69 605.131,1182.63 619.99,1115.82 641.789,960.263 669.865,819.597 714.545,447.461 771.781,166.062 \n",
       "  802.794,753.761 829.454,851.336 850.228,983.233 864.573,1127.32 877.672,1155.26 887.452,1229.63 897.277,1228.63 907.95,1209.63 920.448,1168.71 936.366,1092.07 \n",
       "  958.78,946.477 989.271,765.477 1036.06,400.262 1078.97,487.018 1109.57,762.982 1133.33,916.498 1151.58,1039.69 1163.69,1177.52 1174.37,1209.31 1182.39,1269.21 \n",
       "  1190.6,1264.68 1199.67,1245.55 1210.33,1210.09 1223.83,1146.21 1232.57,1252.87 1239.83,1286.07 1244.71,1339.56 1247.76,1380.37 1249.68,1405.9 1250.9,1421.51 \n",
       "  1251.68,1431.14 1252.21,1437.12 1252.56,1440.82 1252.82,1443.16 1252.99,1445.03 1253.11,1445.98 1253.21,1446.55 1253.3,1446.93 1253.38,1447.04 1253.46,1446.88 \n",
       "  1253.57,1446.5 1253.7,1445.85 1253.89,1444.67 1254.14,1443.14 1254.53,1440.13 1255.11,1435.84 1255.96,1429.57 1257.3,1418.97 1259.4,1401.62 1262.77,1373.27 \n",
       "  1268.23,1326.55 1277.16,1248.71 1291.97,1116.85 1302.85,1204.89 1312.09,1241.86 1320.64,1257.22 1328.89,1263.89 1338.08,1242.94 1349.59,1190.8 1363.86,1129.06 \n",
       "  1383.41,1010.55 1412.89,788.133 1454.58,514.521 1505,318.713 1534.58,785.973 1560.25,873.577 1579.29,1022.1 1593.32,1134.38 1604.87,1190 1614.97,1222.31 \n",
       "  1624.81,1228.29 1635.84,1201.8 1649.71,1137.86 1667.36,1053.22 1690.78,924.03 1727.34,629.303 1778.54,301.493 1820.28,513.244 1853.72,699.459 1878.88,884.915 \n",
       "  1896.69,1049.66 1909.37,1164.54 1920.38,1202.08 1930.79,1215.51 1940.84,1223.58 1952.25,1193.24 1966.67,1125.58 1986.11,1013.17 2012.63,854.521 2052.28,560.027 \n",
       "  2109.78,160.33 2136.58,848.212 2160.86,904.565 2181.63,983.354 2196.28,1120.43 2206.96,1209.45 2215.85,1249.53 2224.7,1250.49 2233.2,1258.35 2242.83,1233.06 \n",
       "  2254.97,1176.8 2268.09,1154.74 2274.3,1309.66 2279.89,1323.52 2283.72,1362.95 2286.1,1395.49 2287.6,1415.24 2288.56,1427.27 2289.19,1434.71 2289.61,1439.33 \n",
       "  2289.91,1442.19 2290.11,1444.19 2290.25,1445.73 2290.37,1446.22 2290.46,1446.82 2290.52,1447.33 \n",
       "  \"/>\n",
       "<path clip-path=\"url(#clip6100)\" d=\"\n",
       "M1816.02 386.635 L2280.76 386.635 L2280.76 205.195 L1816.02 205.195  Z\n",
       "  \" fill=\"#ffffff\" fill-rule=\"evenodd\" fill-opacity=\"1\"/>\n",
       "<polyline clip-path=\"url(#clip6100)\" style=\"stroke:#000000; stroke-width:4; stroke-opacity:1; fill:none\" points=\"\n",
       "  1816.02,386.635 2280.76,386.635 2280.76,205.195 1816.02,205.195 1816.02,386.635 \n",
       "  \"/>\n",
       "<polyline clip-path=\"url(#clip6100)\" style=\"stroke:#009af9; stroke-width:4; stroke-opacity:1; fill:none\" points=\"\n",
       "  1840.02,265.675 1984.02,265.675 \n",
       "  \"/>\n",
       "<g clip-path=\"url(#clip6100)\">\n",
       "<text style=\"fill:#000000; fill-opacity:1; font-family:Arial,Helvetica Neue,Helvetica,sans-serif; font-size:48px; text-anchor:start;\" transform=\"rotate(0, 2008.02, 283.175)\" x=\"2008.02\" y=\"283.175\">IRKGL16</text>\n",
       "</g>\n",
       "<polyline clip-path=\"url(#clip6100)\" style=\"stroke:#e26f46; stroke-width:4; stroke-opacity:1; fill:none\" points=\"\n",
       "  1840.02,326.155 1984.02,326.155 \n",
       "  \"/>\n",
       "<g clip-path=\"url(#clip6100)\">\n",
       "<text style=\"fill:#000000; fill-opacity:1; font-family:Arial,Helvetica Neue,Helvetica,sans-serif; font-size:48px; text-anchor:start;\" transform=\"rotate(0, 2008.02, 343.655)\" x=\"2008.02\" y=\"343.655\">IRKGL162</text>\n",
       "</g>\n",
       "</svg>\n"
      ]
     },
     "execution_count": 16,
     "metadata": {},
     "output_type": "execute_result"
    }
   ],
   "source": [
    "plot(sol1.t,steps1, title=\"step sizes in the integration\", label=\"IRKGL16\")\n",
    "plot!(sol2.t,steps2,label=\"IRKGL162\")"
   ]
  },
  {
   "cell_type": "code",
   "execution_count": 17,
   "metadata": {},
   "outputs": [
    {
     "data": {
      "image/svg+xml": [
       "<?xml version=\"1.0\" encoding=\"utf-8\"?>\n",
       "<svg xmlns=\"http://www.w3.org/2000/svg\" xmlns:xlink=\"http://www.w3.org/1999/xlink\" width=\"600\" height=\"400\" viewBox=\"0 0 2400 1600\">\n",
       "<defs>\n",
       "  <clipPath id=\"clip6500\">\n",
       "    <rect x=\"0\" y=\"0\" width=\"2400\" height=\"1600\"/>\n",
       "  </clipPath>\n",
       "</defs>\n",
       "<path clip-path=\"url(#clip6500)\" d=\"\n",
       "M0 1600 L2400 1600 L2400 0 L0 0  Z\n",
       "  \" fill=\"#ffffff\" fill-rule=\"evenodd\" fill-opacity=\"1\"/>\n",
       "<defs>\n",
       "  <clipPath id=\"clip6501\">\n",
       "    <rect x=\"480\" y=\"0\" width=\"1681\" height=\"1600\"/>\n",
       "  </clipPath>\n",
       "</defs>\n",
       "<path clip-path=\"url(#clip6500)\" d=\"\n",
       "M182.008 1487.47 L2352.76 1487.47 L2352.76 47.2441 L182.008 47.2441  Z\n",
       "  \" fill=\"#ffffff\" fill-rule=\"evenodd\" fill-opacity=\"1\"/>\n",
       "<defs>\n",
       "  <clipPath id=\"clip6502\">\n",
       "    <rect x=\"182\" y=\"47\" width=\"2172\" height=\"1441\"/>\n",
       "  </clipPath>\n",
       "</defs>\n",
       "<polyline clip-path=\"url(#clip6502)\" style=\"stroke:#000000; stroke-width:2; stroke-opacity:0.1; fill:none\" points=\"\n",
       "  505.016,1487.47 505.016,47.2441 \n",
       "  \"/>\n",
       "<polyline clip-path=\"url(#clip6502)\" style=\"stroke:#000000; stroke-width:2; stroke-opacity:0.1; fill:none\" points=\"\n",
       "  946.341,1487.47 946.341,47.2441 \n",
       "  \"/>\n",
       "<polyline clip-path=\"url(#clip6502)\" style=\"stroke:#000000; stroke-width:2; stroke-opacity:0.1; fill:none\" points=\"\n",
       "  1387.67,1487.47 1387.67,47.2441 \n",
       "  \"/>\n",
       "<polyline clip-path=\"url(#clip6502)\" style=\"stroke:#000000; stroke-width:2; stroke-opacity:0.1; fill:none\" points=\"\n",
       "  1828.99,1487.47 1828.99,47.2441 \n",
       "  \"/>\n",
       "<polyline clip-path=\"url(#clip6502)\" style=\"stroke:#000000; stroke-width:2; stroke-opacity:0.1; fill:none\" points=\"\n",
       "  2270.32,1487.47 2270.32,47.2441 \n",
       "  \"/>\n",
       "<polyline clip-path=\"url(#clip6502)\" style=\"stroke:#000000; stroke-width:2; stroke-opacity:0.1; fill:none\" points=\"\n",
       "  182.008,1362.38 2352.76,1362.38 \n",
       "  \"/>\n",
       "<polyline clip-path=\"url(#clip6502)\" style=\"stroke:#000000; stroke-width:2; stroke-opacity:0.1; fill:none\" points=\"\n",
       "  182.008,1064.16 2352.76,1064.16 \n",
       "  \"/>\n",
       "<polyline clip-path=\"url(#clip6502)\" style=\"stroke:#000000; stroke-width:2; stroke-opacity:0.1; fill:none\" points=\"\n",
       "  182.008,765.932 2352.76,765.932 \n",
       "  \"/>\n",
       "<polyline clip-path=\"url(#clip6502)\" style=\"stroke:#000000; stroke-width:2; stroke-opacity:0.1; fill:none\" points=\"\n",
       "  182.008,467.709 2352.76,467.709 \n",
       "  \"/>\n",
       "<polyline clip-path=\"url(#clip6502)\" style=\"stroke:#000000; stroke-width:2; stroke-opacity:0.1; fill:none\" points=\"\n",
       "  182.008,169.486 2352.76,169.486 \n",
       "  \"/>\n",
       "<polyline clip-path=\"url(#clip6500)\" style=\"stroke:#000000; stroke-width:4; stroke-opacity:1; fill:none\" points=\"\n",
       "  182.008,1487.47 2352.76,1487.47 \n",
       "  \"/>\n",
       "<polyline clip-path=\"url(#clip6500)\" style=\"stroke:#000000; stroke-width:4; stroke-opacity:1; fill:none\" points=\"\n",
       "  182.008,1487.47 182.008,47.2441 \n",
       "  \"/>\n",
       "<polyline clip-path=\"url(#clip6500)\" style=\"stroke:#000000; stroke-width:4; stroke-opacity:1; fill:none\" points=\"\n",
       "  505.016,1487.47 505.016,1470.19 \n",
       "  \"/>\n",
       "<polyline clip-path=\"url(#clip6500)\" style=\"stroke:#000000; stroke-width:4; stroke-opacity:1; fill:none\" points=\"\n",
       "  946.341,1487.47 946.341,1470.19 \n",
       "  \"/>\n",
       "<polyline clip-path=\"url(#clip6500)\" style=\"stroke:#000000; stroke-width:4; stroke-opacity:1; fill:none\" points=\"\n",
       "  1387.67,1487.47 1387.67,1470.19 \n",
       "  \"/>\n",
       "<polyline clip-path=\"url(#clip6500)\" style=\"stroke:#000000; stroke-width:4; stroke-opacity:1; fill:none\" points=\"\n",
       "  1828.99,1487.47 1828.99,1470.19 \n",
       "  \"/>\n",
       "<polyline clip-path=\"url(#clip6500)\" style=\"stroke:#000000; stroke-width:4; stroke-opacity:1; fill:none\" points=\"\n",
       "  2270.32,1487.47 2270.32,1470.19 \n",
       "  \"/>\n",
       "<polyline clip-path=\"url(#clip6500)\" style=\"stroke:#000000; stroke-width:4; stroke-opacity:1; fill:none\" points=\"\n",
       "  182.008,1362.38 208.057,1362.38 \n",
       "  \"/>\n",
       "<polyline clip-path=\"url(#clip6500)\" style=\"stroke:#000000; stroke-width:4; stroke-opacity:1; fill:none\" points=\"\n",
       "  182.008,1064.16 208.057,1064.16 \n",
       "  \"/>\n",
       "<polyline clip-path=\"url(#clip6500)\" style=\"stroke:#000000; stroke-width:4; stroke-opacity:1; fill:none\" points=\"\n",
       "  182.008,765.932 208.057,765.932 \n",
       "  \"/>\n",
       "<polyline clip-path=\"url(#clip6500)\" style=\"stroke:#000000; stroke-width:4; stroke-opacity:1; fill:none\" points=\"\n",
       "  182.008,467.709 208.057,467.709 \n",
       "  \"/>\n",
       "<polyline clip-path=\"url(#clip6500)\" style=\"stroke:#000000; stroke-width:4; stroke-opacity:1; fill:none\" points=\"\n",
       "  182.008,169.486 208.057,169.486 \n",
       "  \"/>\n",
       "<g clip-path=\"url(#clip6500)\">\n",
       "<text style=\"fill:#000000; fill-opacity:1; font-family:Arial,Helvetica Neue,Helvetica,sans-serif; font-size:48px; text-anchor:middle;\" transform=\"rotate(0, 505.016, 1541.47)\" x=\"505.016\" y=\"1541.47\">-1.0</text>\n",
       "</g>\n",
       "<g clip-path=\"url(#clip6500)\">\n",
       "<text style=\"fill:#000000; fill-opacity:1; font-family:Arial,Helvetica Neue,Helvetica,sans-serif; font-size:48px; text-anchor:middle;\" transform=\"rotate(0, 946.341, 1541.47)\" x=\"946.341\" y=\"1541.47\">-0.5</text>\n",
       "</g>\n",
       "<g clip-path=\"url(#clip6500)\">\n",
       "<text style=\"fill:#000000; fill-opacity:1; font-family:Arial,Helvetica Neue,Helvetica,sans-serif; font-size:48px; text-anchor:middle;\" transform=\"rotate(0, 1387.67, 1541.47)\" x=\"1387.67\" y=\"1541.47\">0.0</text>\n",
       "</g>\n",
       "<g clip-path=\"url(#clip6500)\">\n",
       "<text style=\"fill:#000000; fill-opacity:1; font-family:Arial,Helvetica Neue,Helvetica,sans-serif; font-size:48px; text-anchor:middle;\" transform=\"rotate(0, 1828.99, 1541.47)\" x=\"1828.99\" y=\"1541.47\">0.5</text>\n",
       "</g>\n",
       "<g clip-path=\"url(#clip6500)\">\n",
       "<text style=\"fill:#000000; fill-opacity:1; font-family:Arial,Helvetica Neue,Helvetica,sans-serif; font-size:48px; text-anchor:middle;\" transform=\"rotate(0, 2270.32, 1541.47)\" x=\"2270.32\" y=\"1541.47\">1.0</text>\n",
       "</g>\n",
       "<g clip-path=\"url(#clip6500)\">\n",
       "<text style=\"fill:#000000; fill-opacity:1; font-family:Arial,Helvetica Neue,Helvetica,sans-serif; font-size:48px; text-anchor:end;\" transform=\"rotate(0, 158.008, 1379.88)\" x=\"158.008\" y=\"1379.88\">-1.0</text>\n",
       "</g>\n",
       "<g clip-path=\"url(#clip6500)\">\n",
       "<text style=\"fill:#000000; fill-opacity:1; font-family:Arial,Helvetica Neue,Helvetica,sans-serif; font-size:48px; text-anchor:end;\" transform=\"rotate(0, 158.008, 1081.66)\" x=\"158.008\" y=\"1081.66\">-0.5</text>\n",
       "</g>\n",
       "<g clip-path=\"url(#clip6500)\">\n",
       "<text style=\"fill:#000000; fill-opacity:1; font-family:Arial,Helvetica Neue,Helvetica,sans-serif; font-size:48px; text-anchor:end;\" transform=\"rotate(0, 158.008, 783.432)\" x=\"158.008\" y=\"783.432\">0.0</text>\n",
       "</g>\n",
       "<g clip-path=\"url(#clip6500)\">\n",
       "<text style=\"fill:#000000; fill-opacity:1; font-family:Arial,Helvetica Neue,Helvetica,sans-serif; font-size:48px; text-anchor:end;\" transform=\"rotate(0, 158.008, 485.209)\" x=\"158.008\" y=\"485.209\">0.5</text>\n",
       "</g>\n",
       "<g clip-path=\"url(#clip6500)\">\n",
       "<text style=\"fill:#000000; fill-opacity:1; font-family:Arial,Helvetica Neue,Helvetica,sans-serif; font-size:48px; text-anchor:end;\" transform=\"rotate(0, 158.008, 186.986)\" x=\"158.008\" y=\"186.986\">1.0</text>\n",
       "</g>\n",
       "<polyline clip-path=\"url(#clip6502)\" style=\"stroke:#009af9; stroke-width:4; stroke-opacity:1; fill:none\" points=\"\n",
       "  2265.02,765.932 2264.72,767.69 2263.94,769.264 2262.52,770.996 2260.37,772.85 2257.22,774.902 2253,777.073 2246.75,779.649 2238.36,782.398 2226.72,785.357 \n",
       "  2210.09,788.344 2185.89,790.615 2149.9,790.051 2094.63,780.827 2004.31,746.7 1879.18,675.148 1756.62,603.439 1630.54,544.308 1489.94,498.422 1342.88,468.904 \n",
       "  1193.8,451.663 1043.82,437.771 889.458,407.627 791.9,340.873 820.047,206.103 1096.9,88.0053 1329.89,116.346 1414.86,211.974 1363.57,309.754 1262.81,389.674 \n",
       "  1143.35,473.804 1040.19,558.507 953.432,652.319 885.752,752.297 830.35,853.171 769.854,948.442 666.511,1025.98 508.868,1030.67 313.639,872.873 369.166,581.513 \n",
       "  527.036,496.908 675.866,509.645 773.046,587.434 831.38,680.588 893.941,793.28 960.022,887.799 1047.21,979.817 1153.32,1065.38 1266.59,1144.85 1367.06,1225.61 \n",
       "  1414.86,1319.91 1333.43,1413.91 1036.51,1434.33 810.042,1314.19 788.609,1196.87 885.644,1125.57 1042.03,1094.3 1193.39,1080.24 1360.1,1060.29 1497.58,1031.44 \n",
       "  1634.17,986.101 1763.88,924.502 1884.39,853.522 2005.65,784.515 2076.15,756.23 2134.41,743.409 2175.32,740.945 2202.88,742.604 2221.72,745.471 2234.86,748.487 \n",
       "  2244.19,751.306 2250.9,753.86 2255.84,756.194 2259.48,758.376 2261.91,760.274 2263.55,762.053 2264.56,763.763 2264.99,765.361 2264.93,766.918 2264.36,768.525 \n",
       "  2263.24,770.205 2261.46,771.984 2258.78,773.951 2255.14,776.032 2249.85,778.445 2242.51,781.118 2232.54,783.983 2218.44,787.006 2198.09,789.754 2168.17,790.9 \n",
       "  2122.97,786.773 2051.62,767.234 1926.24,703.731 1814.2,635.908 1694.07,571.905 1559.41,518.621 1417.76,481.933 1266.21,458.935 1105.49,443.887 956.848,425.03 \n",
       "  830.994,379.877 781.065,275.068 933.962,129.854 1266.26,95.9103 1397.06,165.106 1401.55,261.784 1317.07,349.914 1204.96,429.849 1091.76,513.727 995.295,603.396 \n",
       "  919.5,698.728 858.704,800.457 800.469,904.989 724.629,993.409 601.778,1039.99 402.343,978.907 291.613,730.086 420.544,540.373 605.419,492.173 735.716,547.593 \n",
       "  810.703,643.767 865.148,743.217 928.56,846.214 1012.49,946.454 1110.41,1033.03 1220.61,1112.87 1330.4,1192.58 1406.77,1280.61 1387.91,1377.28 1180.32,1446.71 \n",
       "  832.078,1337.79 778.922,1234.96 832.866,1150.76 971.24,1104.19 1130.97,1085.72 1284.83,1070.77 1433.15,1046.77 1584.23,1004.88 1714.62,950.067 1834.99,883.604 \n",
       "  1954.08,811.881 2062.77,760.606 2112.31,747.035 2158.08,741.293 2191.42,741.57 2213.89,744.091 2229.37,747.109 2240.27,750.038 2248.07,752.713 2253.74,755.139 \n",
       "  2257.94,757.387 2260.94,759.451 2262.84,761.206 2264.19,763.018 2264.86,764.64 2265.02,765.932 \n",
       "  \"/>\n",
       "<path clip-path=\"url(#clip6500)\" d=\"\n",
       "M1888.27 251.724 L2280.76 251.724 L2280.76 130.764 L1888.27 130.764  Z\n",
       "  \" fill=\"#ffffff\" fill-rule=\"evenodd\" fill-opacity=\"1\"/>\n",
       "<polyline clip-path=\"url(#clip6500)\" style=\"stroke:#000000; stroke-width:4; stroke-opacity:1; fill:none\" points=\"\n",
       "  1888.27,251.724 2280.76,251.724 2280.76,130.764 1888.27,130.764 1888.27,251.724 \n",
       "  \"/>\n",
       "<polyline clip-path=\"url(#clip6500)\" style=\"stroke:#009af9; stroke-width:4; stroke-opacity:1; fill:none\" points=\"\n",
       "  1912.27,191.244 2056.27,191.244 \n",
       "  \"/>\n",
       "<g clip-path=\"url(#clip6500)\">\n",
       "<text style=\"fill:#000000; fill-opacity:1; font-family:Arial,Helvetica Neue,Helvetica,sans-serif; font-size:48px; text-anchor:start;\" transform=\"rotate(0, 2080.27, 208.744)\" x=\"2080.27\" y=\"208.744\">(u1,u2)</text>\n",
       "</g>\n",
       "</svg>\n"
      ]
     },
     "execution_count": 17,
     "metadata": {},
     "output_type": "execute_result"
    }
   ],
   "source": [
    "plot(sol1,vars=(1,2))"
   ]
  },
  {
   "cell_type": "markdown",
   "metadata": {},
   "source": [
    "<a href=\"#top\">Back to the top</a>"
   ]
  },
  {
   "cell_type": "markdown",
   "metadata": {},
   "source": [
    "## Error in energy"
   ]
  },
  {
   "cell_type": "code",
   "execution_count": 18,
   "metadata": {},
   "outputs": [
    {
     "data": {
      "text/plain": [
       "Array{BigFloat,1}"
      ]
     },
     "execution_count": 18,
     "metadata": {},
     "output_type": "execute_result"
    }
   ],
   "source": [
    "setprecision(BigFloat, 256)\n",
    "u0128=[0.994,0.0,0.0, py0]\n",
    "μ128 = parse(BigFloat,\"0.012277471\")\n",
    "(typeof(u0128))"
   ]
  },
  {
   "cell_type": "code",
   "execution_count": 19,
   "metadata": {},
   "outputs": [
    {
     "data": {
      "text/plain": [
       "NbodyEnergy (generic function with 1 method)"
      ]
     },
     "execution_count": 19,
     "metadata": {},
     "output_type": "execute_result"
    }
   ],
   "source": [
    "function NbodyEnergy(u, mu)\n",
    "\"\"\"    \n",
    "     3RT-Nbody problem      \n",
    "\"\"\"    \n",
    "    \n",
    "    # Implementation\n",
    "\n",
    " @inbounds begin\n",
    "    x = u[1]   # x\n",
    "    y = u[2]   # y\n",
    "    px = u[3]  # px\n",
    "    py = u[4]  # py\n",
    "        \n",
    "    umu=1-mu    \n",
    " \n",
    "    r1 = ((x+mu)^2 + y^2)^(1/2)\n",
    "    r2 = ((x-umu)^2 + y^2)^(1/2)\n",
    "        \n",
    "    Energy=(px*px+py*py)/2+px*y-py*x-umu/r1-mu/r2-mu*umu/2    \n",
    "\n",
    "    \n",
    "    return(Energy)\n",
    "    end\n",
    "        \n",
    "end"
   ]
  },
  {
   "cell_type": "code",
   "execution_count": 20,
   "metadata": {},
   "outputs": [
    {
     "data": {
      "image/svg+xml": [
       "<?xml version=\"1.0\" encoding=\"utf-8\"?>\n",
       "<svg xmlns=\"http://www.w3.org/2000/svg\" xmlns:xlink=\"http://www.w3.org/1999/xlink\" width=\"600\" height=\"400\" viewBox=\"0 0 2400 1600\">\n",
       "<defs>\n",
       "  <clipPath id=\"clip6900\">\n",
       "    <rect x=\"0\" y=\"0\" width=\"2400\" height=\"1600\"/>\n",
       "  </clipPath>\n",
       "</defs>\n",
       "<path clip-path=\"url(#clip6900)\" d=\"\n",
       "M0 1600 L2400 1600 L2400 0 L0 0  Z\n",
       "  \" fill=\"#ffffff\" fill-rule=\"evenodd\" fill-opacity=\"1\"/>\n",
       "<defs>\n",
       "  <clipPath id=\"clip6901\">\n",
       "    <rect x=\"480\" y=\"0\" width=\"1681\" height=\"1600\"/>\n",
       "  </clipPath>\n",
       "</defs>\n",
       "<path clip-path=\"url(#clip6900)\" d=\"\n",
       "M168.627 1425.62 L1152.76 1425.62 L1152.76 121.675 L168.627 121.675  Z\n",
       "  \" fill=\"#ffffff\" fill-rule=\"evenodd\" fill-opacity=\"1\"/>\n",
       "<defs>\n",
       "  <clipPath id=\"clip6902\">\n",
       "    <rect x=\"168\" y=\"121\" width=\"985\" height=\"1305\"/>\n",
       "  </clipPath>\n",
       "</defs>\n",
       "<polyline clip-path=\"url(#clip6902)\" style=\"stroke:#000000; stroke-width:2; stroke-opacity:0.1; fill:none\" points=\"\n",
       "  196.48,1425.62 196.48,121.675 \n",
       "  \"/>\n",
       "<polyline clip-path=\"url(#clip6902)\" style=\"stroke:#000000; stroke-width:2; stroke-opacity:0.1; fill:none\" points=\"\n",
       "  468.502,1425.62 468.502,121.675 \n",
       "  \"/>\n",
       "<polyline clip-path=\"url(#clip6902)\" style=\"stroke:#000000; stroke-width:2; stroke-opacity:0.1; fill:none\" points=\"\n",
       "  740.524,1425.62 740.524,121.675 \n",
       "  \"/>\n",
       "<polyline clip-path=\"url(#clip6902)\" style=\"stroke:#000000; stroke-width:2; stroke-opacity:0.1; fill:none\" points=\"\n",
       "  1012.55,1425.62 1012.55,121.675 \n",
       "  \"/>\n",
       "<polyline clip-path=\"url(#clip6902)\" style=\"stroke:#000000; stroke-width:2; stroke-opacity:0.1; fill:none\" points=\"\n",
       "  168.627,1425.62 1152.76,1425.62 \n",
       "  \"/>\n",
       "<polyline clip-path=\"url(#clip6902)\" style=\"stroke:#000000; stroke-width:2; stroke-opacity:0.1; fill:none\" points=\"\n",
       "  168.627,1164.83 1152.76,1164.83 \n",
       "  \"/>\n",
       "<polyline clip-path=\"url(#clip6902)\" style=\"stroke:#000000; stroke-width:2; stroke-opacity:0.1; fill:none\" points=\"\n",
       "  168.627,904.041 1152.76,904.041 \n",
       "  \"/>\n",
       "<polyline clip-path=\"url(#clip6902)\" style=\"stroke:#000000; stroke-width:2; stroke-opacity:0.1; fill:none\" points=\"\n",
       "  168.627,643.253 1152.76,643.253 \n",
       "  \"/>\n",
       "<polyline clip-path=\"url(#clip6902)\" style=\"stroke:#000000; stroke-width:2; stroke-opacity:0.1; fill:none\" points=\"\n",
       "  168.627,382.464 1152.76,382.464 \n",
       "  \"/>\n",
       "<polyline clip-path=\"url(#clip6902)\" style=\"stroke:#000000; stroke-width:2; stroke-opacity:0.1; fill:none\" points=\"\n",
       "  168.627,121.675 1152.76,121.675 \n",
       "  \"/>\n",
       "<polyline clip-path=\"url(#clip6900)\" style=\"stroke:#000000; stroke-width:4; stroke-opacity:1; fill:none\" points=\"\n",
       "  168.627,1425.62 1152.76,1425.62 \n",
       "  \"/>\n",
       "<polyline clip-path=\"url(#clip6900)\" style=\"stroke:#000000; stroke-width:4; stroke-opacity:1; fill:none\" points=\"\n",
       "  168.627,1425.62 168.627,121.675 \n",
       "  \"/>\n",
       "<polyline clip-path=\"url(#clip6900)\" style=\"stroke:#000000; stroke-width:4; stroke-opacity:1; fill:none\" points=\"\n",
       "  196.48,1425.62 196.48,1409.97 \n",
       "  \"/>\n",
       "<polyline clip-path=\"url(#clip6900)\" style=\"stroke:#000000; stroke-width:4; stroke-opacity:1; fill:none\" points=\"\n",
       "  468.502,1425.62 468.502,1409.97 \n",
       "  \"/>\n",
       "<polyline clip-path=\"url(#clip6900)\" style=\"stroke:#000000; stroke-width:4; stroke-opacity:1; fill:none\" points=\"\n",
       "  740.524,1425.62 740.524,1409.97 \n",
       "  \"/>\n",
       "<polyline clip-path=\"url(#clip6900)\" style=\"stroke:#000000; stroke-width:4; stroke-opacity:1; fill:none\" points=\"\n",
       "  1012.55,1425.62 1012.55,1409.97 \n",
       "  \"/>\n",
       "<polyline clip-path=\"url(#clip6900)\" style=\"stroke:#000000; stroke-width:4; stroke-opacity:1; fill:none\" points=\"\n",
       "  168.627,1425.62 180.436,1425.62 \n",
       "  \"/>\n",
       "<polyline clip-path=\"url(#clip6900)\" style=\"stroke:#000000; stroke-width:4; stroke-opacity:1; fill:none\" points=\"\n",
       "  168.627,1164.83 180.436,1164.83 \n",
       "  \"/>\n",
       "<polyline clip-path=\"url(#clip6900)\" style=\"stroke:#000000; stroke-width:4; stroke-opacity:1; fill:none\" points=\"\n",
       "  168.627,904.041 180.436,904.041 \n",
       "  \"/>\n",
       "<polyline clip-path=\"url(#clip6900)\" style=\"stroke:#000000; stroke-width:4; stroke-opacity:1; fill:none\" points=\"\n",
       "  168.627,643.253 180.436,643.253 \n",
       "  \"/>\n",
       "<polyline clip-path=\"url(#clip6900)\" style=\"stroke:#000000; stroke-width:4; stroke-opacity:1; fill:none\" points=\"\n",
       "  168.627,382.464 180.436,382.464 \n",
       "  \"/>\n",
       "<polyline clip-path=\"url(#clip6900)\" style=\"stroke:#000000; stroke-width:4; stroke-opacity:1; fill:none\" points=\"\n",
       "  168.627,121.675 180.436,121.675 \n",
       "  \"/>\n",
       "<g clip-path=\"url(#clip6900)\">\n",
       "<text style=\"fill:#000000; fill-opacity:1; font-family:Arial,Helvetica Neue,Helvetica,sans-serif; font-size:48px; text-anchor:middle;\" transform=\"rotate(0, 196.48, 1479.62)\" x=\"196.48\" y=\"1479.62\">0</text>\n",
       "</g>\n",
       "<g clip-path=\"url(#clip6900)\">\n",
       "<text style=\"fill:#000000; fill-opacity:1; font-family:Arial,Helvetica Neue,Helvetica,sans-serif; font-size:48px; text-anchor:middle;\" transform=\"rotate(0, 468.502, 1479.62)\" x=\"468.502\" y=\"1479.62\">10</text>\n",
       "</g>\n",
       "<g clip-path=\"url(#clip6900)\">\n",
       "<text style=\"fill:#000000; fill-opacity:1; font-family:Arial,Helvetica Neue,Helvetica,sans-serif; font-size:48px; text-anchor:middle;\" transform=\"rotate(0, 740.524, 1479.62)\" x=\"740.524\" y=\"1479.62\">20</text>\n",
       "</g>\n",
       "<g clip-path=\"url(#clip6900)\">\n",
       "<text style=\"fill:#000000; fill-opacity:1; font-family:Arial,Helvetica Neue,Helvetica,sans-serif; font-size:48px; text-anchor:middle;\" transform=\"rotate(0, 1012.55, 1479.62)\" x=\"1012.55\" y=\"1479.62\">30</text>\n",
       "</g>\n",
       "<g clip-path=\"url(#clip6900)\">\n",
       "<text style=\"fill:#000000; fill-opacity:1; font-family:Arial,Helvetica Neue,Helvetica,sans-serif; font-size:48px; text-anchor:end;\" transform=\"rotate(0, 144.627, 1443.12)\" x=\"144.627\" y=\"1443.12\">-18</text>\n",
       "</g>\n",
       "<g clip-path=\"url(#clip6900)\">\n",
       "<text style=\"fill:#000000; fill-opacity:1; font-family:Arial,Helvetica Neue,Helvetica,sans-serif; font-size:48px; text-anchor:end;\" transform=\"rotate(0, 144.627, 1182.33)\" x=\"144.627\" y=\"1182.33\">-16</text>\n",
       "</g>\n",
       "<g clip-path=\"url(#clip6900)\">\n",
       "<text style=\"fill:#000000; fill-opacity:1; font-family:Arial,Helvetica Neue,Helvetica,sans-serif; font-size:48px; text-anchor:end;\" transform=\"rotate(0, 144.627, 921.541)\" x=\"144.627\" y=\"921.541\">-14</text>\n",
       "</g>\n",
       "<g clip-path=\"url(#clip6900)\">\n",
       "<text style=\"fill:#000000; fill-opacity:1; font-family:Arial,Helvetica Neue,Helvetica,sans-serif; font-size:48px; text-anchor:end;\" transform=\"rotate(0, 144.627, 660.753)\" x=\"144.627\" y=\"660.753\">-12</text>\n",
       "</g>\n",
       "<g clip-path=\"url(#clip6900)\">\n",
       "<text style=\"fill:#000000; fill-opacity:1; font-family:Arial,Helvetica Neue,Helvetica,sans-serif; font-size:48px; text-anchor:end;\" transform=\"rotate(0, 144.627, 399.964)\" x=\"144.627\" y=\"399.964\">-10</text>\n",
       "</g>\n",
       "<g clip-path=\"url(#clip6900)\">\n",
       "<text style=\"fill:#000000; fill-opacity:1; font-family:Arial,Helvetica Neue,Helvetica,sans-serif; font-size:48px; text-anchor:end;\" transform=\"rotate(0, 144.627, 139.175)\" x=\"144.627\" y=\"139.175\">-8</text>\n",
       "</g>\n",
       "<g clip-path=\"url(#clip6900)\">\n",
       "<text style=\"fill:#000000; fill-opacity:1; font-family:Arial,Helvetica Neue,Helvetica,sans-serif; font-size:84px; text-anchor:middle;\" transform=\"rotate(0, 660.691, 73.2)\" x=\"660.691\" y=\"73.2\">Error in energy</text>\n",
       "</g>\n",
       "<g clip-path=\"url(#clip6900)\">\n",
       "<text style=\"fill:#000000; fill-opacity:1; font-family:Arial,Helvetica Neue,Helvetica,sans-serif; font-size:66px; text-anchor:middle;\" transform=\"rotate(0, 660.691, 1559.48)\" x=\"660.691\" y=\"1559.48\">t</text>\n",
       "</g>\n",
       "<polyline clip-path=\"url(#clip6902)\" style=\"stroke:#009af9; stroke-width:4; stroke-opacity:1; fill:none\" points=\"\n",
       "  196.48,3254.7 210.081,1174.58 223.682,1141.19 237.283,1125.13 250.884,1126.52 264.485,1128.25 278.086,1128.65 291.687,1127.71 305.288,1127.19 318.89,1127.48 \n",
       "  332.491,1139.58 346.092,1158.55 359.693,1119.4 373.294,1110.5 386.895,1110.72 400.496,1111.38 414.097,1111.07 427.698,1110.32 441.3,1109.81 454.901,1110.02 \n",
       "  468.502,1112.29 482.103,1127.02 495.704,1108.66 509.305,1098.85 522.906,1099.33 536.507,1099.75 550.108,1099.82 563.71,1099.27 577.311,1098.92 590.912,1099.1 \n",
       "  604.513,1107.7 618.114,1141.38 631.715,1114.71 645.316,1107.46 658.917,969.333 672.518,1022.08 686.12,1020.22 699.721,1016.72 713.322,1017.11 726.923,1017.38 \n",
       "  740.524,1017.44 754.125,1017.31 767.726,1017.22 781.327,1017.21 794.928,1018.46 808.53,1020.78 822.131,1016.3 835.732,1014.5 849.333,1014.56 862.934,1014.67 \n",
       "  876.535,1014.68 890.136,1014.51 903.737,1014.37 917.338,1014.4 930.94,1014.87 944.541,1017.17 958.142,1014.74 971.743,1012.06 985.344,1012.31 998.945,1012.4 \n",
       "  1012.55,1012.42 1026.15,1012.32 1039.75,1012.21 1053.35,1012.3 1066.95,1013.46 1080.55,1018.89 1094.15,1016.03 1107.75,1013.98 1121.36,974.741 1124.9,984.75 \n",
       "  \n",
       "  \"/>\n",
       "<path clip-path=\"url(#clip6900)\" d=\"\n",
       "M712.335 326.155 L1080.76 326.155 L1080.76 205.195 L712.335 205.195  Z\n",
       "  \" fill=\"#ffffff\" fill-rule=\"evenodd\" fill-opacity=\"1\"/>\n",
       "<polyline clip-path=\"url(#clip6900)\" style=\"stroke:#000000; stroke-width:4; stroke-opacity:1; fill:none\" points=\"\n",
       "  712.335,326.155 1080.76,326.155 1080.76,205.195 712.335,205.195 712.335,326.155 \n",
       "  \"/>\n",
       "<polyline clip-path=\"url(#clip6900)\" style=\"stroke:#009af9; stroke-width:4; stroke-opacity:1; fill:none\" points=\"\n",
       "  736.335,265.675 880.335,265.675 \n",
       "  \"/>\n",
       "<g clip-path=\"url(#clip6900)\">\n",
       "<text style=\"fill:#000000; fill-opacity:1; font-family:Arial,Helvetica Neue,Helvetica,sans-serif; font-size:48px; text-anchor:start;\" transform=\"rotate(0, 904.335, 283.175)\" x=\"904.335\" y=\"283.175\">Vern9</text>\n",
       "</g>\n",
       "<path clip-path=\"url(#clip6900)\" d=\"\n",
       "M1368.63 1425.62 L2352.76 1425.62 L2352.76 121.675 L1368.63 121.675  Z\n",
       "  \" fill=\"#ffffff\" fill-rule=\"evenodd\" fill-opacity=\"1\"/>\n",
       "<defs>\n",
       "  <clipPath id=\"clip6903\">\n",
       "    <rect x=\"1368\" y=\"121\" width=\"985\" height=\"1305\"/>\n",
       "  </clipPath>\n",
       "</defs>\n",
       "<polyline clip-path=\"url(#clip6903)\" style=\"stroke:#000000; stroke-width:2; stroke-opacity:0.1; fill:none\" points=\"\n",
       "  1396.48,1425.62 1396.48,121.675 \n",
       "  \"/>\n",
       "<polyline clip-path=\"url(#clip6903)\" style=\"stroke:#000000; stroke-width:2; stroke-opacity:0.1; fill:none\" points=\"\n",
       "  1668.5,1425.62 1668.5,121.675 \n",
       "  \"/>\n",
       "<polyline clip-path=\"url(#clip6903)\" style=\"stroke:#000000; stroke-width:2; stroke-opacity:0.1; fill:none\" points=\"\n",
       "  1940.52,1425.62 1940.52,121.675 \n",
       "  \"/>\n",
       "<polyline clip-path=\"url(#clip6903)\" style=\"stroke:#000000; stroke-width:2; stroke-opacity:0.1; fill:none\" points=\"\n",
       "  2212.55,1425.62 2212.55,121.675 \n",
       "  \"/>\n",
       "<polyline clip-path=\"url(#clip6903)\" style=\"stroke:#000000; stroke-width:2; stroke-opacity:0.1; fill:none\" points=\"\n",
       "  1368.63,1425.62 2352.76,1425.62 \n",
       "  \"/>\n",
       "<polyline clip-path=\"url(#clip6903)\" style=\"stroke:#000000; stroke-width:2; stroke-opacity:0.1; fill:none\" points=\"\n",
       "  1368.63,1164.83 2352.76,1164.83 \n",
       "  \"/>\n",
       "<polyline clip-path=\"url(#clip6903)\" style=\"stroke:#000000; stroke-width:2; stroke-opacity:0.1; fill:none\" points=\"\n",
       "  1368.63,904.041 2352.76,904.041 \n",
       "  \"/>\n",
       "<polyline clip-path=\"url(#clip6903)\" style=\"stroke:#000000; stroke-width:2; stroke-opacity:0.1; fill:none\" points=\"\n",
       "  1368.63,643.253 2352.76,643.253 \n",
       "  \"/>\n",
       "<polyline clip-path=\"url(#clip6903)\" style=\"stroke:#000000; stroke-width:2; stroke-opacity:0.1; fill:none\" points=\"\n",
       "  1368.63,382.464 2352.76,382.464 \n",
       "  \"/>\n",
       "<polyline clip-path=\"url(#clip6903)\" style=\"stroke:#000000; stroke-width:2; stroke-opacity:0.1; fill:none\" points=\"\n",
       "  1368.63,121.675 2352.76,121.675 \n",
       "  \"/>\n",
       "<polyline clip-path=\"url(#clip6900)\" style=\"stroke:#000000; stroke-width:4; stroke-opacity:1; fill:none\" points=\"\n",
       "  1368.63,1425.62 2352.76,1425.62 \n",
       "  \"/>\n",
       "<polyline clip-path=\"url(#clip6900)\" style=\"stroke:#000000; stroke-width:4; stroke-opacity:1; fill:none\" points=\"\n",
       "  1368.63,1425.62 1368.63,121.675 \n",
       "  \"/>\n",
       "<polyline clip-path=\"url(#clip6900)\" style=\"stroke:#000000; stroke-width:4; stroke-opacity:1; fill:none\" points=\"\n",
       "  1396.48,1425.62 1396.48,1409.97 \n",
       "  \"/>\n",
       "<polyline clip-path=\"url(#clip6900)\" style=\"stroke:#000000; stroke-width:4; stroke-opacity:1; fill:none\" points=\"\n",
       "  1668.5,1425.62 1668.5,1409.97 \n",
       "  \"/>\n",
       "<polyline clip-path=\"url(#clip6900)\" style=\"stroke:#000000; stroke-width:4; stroke-opacity:1; fill:none\" points=\"\n",
       "  1940.52,1425.62 1940.52,1409.97 \n",
       "  \"/>\n",
       "<polyline clip-path=\"url(#clip6900)\" style=\"stroke:#000000; stroke-width:4; stroke-opacity:1; fill:none\" points=\"\n",
       "  2212.55,1425.62 2212.55,1409.97 \n",
       "  \"/>\n",
       "<polyline clip-path=\"url(#clip6900)\" style=\"stroke:#000000; stroke-width:4; stroke-opacity:1; fill:none\" points=\"\n",
       "  1368.63,1425.62 1380.44,1425.62 \n",
       "  \"/>\n",
       "<polyline clip-path=\"url(#clip6900)\" style=\"stroke:#000000; stroke-width:4; stroke-opacity:1; fill:none\" points=\"\n",
       "  1368.63,1164.83 1380.44,1164.83 \n",
       "  \"/>\n",
       "<polyline clip-path=\"url(#clip6900)\" style=\"stroke:#000000; stroke-width:4; stroke-opacity:1; fill:none\" points=\"\n",
       "  1368.63,904.041 1380.44,904.041 \n",
       "  \"/>\n",
       "<polyline clip-path=\"url(#clip6900)\" style=\"stroke:#000000; stroke-width:4; stroke-opacity:1; fill:none\" points=\"\n",
       "  1368.63,643.253 1380.44,643.253 \n",
       "  \"/>\n",
       "<polyline clip-path=\"url(#clip6900)\" style=\"stroke:#000000; stroke-width:4; stroke-opacity:1; fill:none\" points=\"\n",
       "  1368.63,382.464 1380.44,382.464 \n",
       "  \"/>\n",
       "<polyline clip-path=\"url(#clip6900)\" style=\"stroke:#000000; stroke-width:4; stroke-opacity:1; fill:none\" points=\"\n",
       "  1368.63,121.675 1380.44,121.675 \n",
       "  \"/>\n",
       "<g clip-path=\"url(#clip6900)\">\n",
       "<text style=\"fill:#000000; fill-opacity:1; font-family:Arial,Helvetica Neue,Helvetica,sans-serif; font-size:48px; text-anchor:middle;\" transform=\"rotate(0, 1396.48, 1479.62)\" x=\"1396.48\" y=\"1479.62\">0</text>\n",
       "</g>\n",
       "<g clip-path=\"url(#clip6900)\">\n",
       "<text style=\"fill:#000000; fill-opacity:1; font-family:Arial,Helvetica Neue,Helvetica,sans-serif; font-size:48px; text-anchor:middle;\" transform=\"rotate(0, 1668.5, 1479.62)\" x=\"1668.5\" y=\"1479.62\">10</text>\n",
       "</g>\n",
       "<g clip-path=\"url(#clip6900)\">\n",
       "<text style=\"fill:#000000; fill-opacity:1; font-family:Arial,Helvetica Neue,Helvetica,sans-serif; font-size:48px; text-anchor:middle;\" transform=\"rotate(0, 1940.52, 1479.62)\" x=\"1940.52\" y=\"1479.62\">20</text>\n",
       "</g>\n",
       "<g clip-path=\"url(#clip6900)\">\n",
       "<text style=\"fill:#000000; fill-opacity:1; font-family:Arial,Helvetica Neue,Helvetica,sans-serif; font-size:48px; text-anchor:middle;\" transform=\"rotate(0, 2212.55, 1479.62)\" x=\"2212.55\" y=\"1479.62\">30</text>\n",
       "</g>\n",
       "<g clip-path=\"url(#clip6900)\">\n",
       "<text style=\"fill:#000000; fill-opacity:1; font-family:Arial,Helvetica Neue,Helvetica,sans-serif; font-size:48px; text-anchor:end;\" transform=\"rotate(0, 1344.63, 1443.12)\" x=\"1344.63\" y=\"1443.12\">-18</text>\n",
       "</g>\n",
       "<g clip-path=\"url(#clip6900)\">\n",
       "<text style=\"fill:#000000; fill-opacity:1; font-family:Arial,Helvetica Neue,Helvetica,sans-serif; font-size:48px; text-anchor:end;\" transform=\"rotate(0, 1344.63, 1182.33)\" x=\"1344.63\" y=\"1182.33\">-16</text>\n",
       "</g>\n",
       "<g clip-path=\"url(#clip6900)\">\n",
       "<text style=\"fill:#000000; fill-opacity:1; font-family:Arial,Helvetica Neue,Helvetica,sans-serif; font-size:48px; text-anchor:end;\" transform=\"rotate(0, 1344.63, 921.541)\" x=\"1344.63\" y=\"921.541\">-14</text>\n",
       "</g>\n",
       "<g clip-path=\"url(#clip6900)\">\n",
       "<text style=\"fill:#000000; fill-opacity:1; font-family:Arial,Helvetica Neue,Helvetica,sans-serif; font-size:48px; text-anchor:end;\" transform=\"rotate(0, 1344.63, 660.753)\" x=\"1344.63\" y=\"660.753\">-12</text>\n",
       "</g>\n",
       "<g clip-path=\"url(#clip6900)\">\n",
       "<text style=\"fill:#000000; fill-opacity:1; font-family:Arial,Helvetica Neue,Helvetica,sans-serif; font-size:48px; text-anchor:end;\" transform=\"rotate(0, 1344.63, 399.964)\" x=\"1344.63\" y=\"399.964\">-10</text>\n",
       "</g>\n",
       "<g clip-path=\"url(#clip6900)\">\n",
       "<text style=\"fill:#000000; fill-opacity:1; font-family:Arial,Helvetica Neue,Helvetica,sans-serif; font-size:48px; text-anchor:end;\" transform=\"rotate(0, 1344.63, 139.175)\" x=\"1344.63\" y=\"139.175\">-8</text>\n",
       "</g>\n",
       "<polyline clip-path=\"url(#clip6903)\" style=\"stroke:#009af9; stroke-width:4; stroke-opacity:1; fill:none\" points=\"\n",
       "  1396.48,3254.7 1396.52,1451.96 1396.56,1421.62 1396.61,1384.24 1396.68,1272.92 1396.78,1339.25 1396.91,1280.57 1397.12,1153.51 1397.43,1136.02 1397.9,1135.12 \n",
       "  1398.63,1152.92 1399.8,1244.9 1401.68,1153.76 1404.73,1101.98 1409.75,1072.23 1415.96,1071.74 1420.74,1070.43 1424.66,1070.17 1428.43,1070.44 1432.28,1070.93 \n",
       "  1436.59,1071.17 1441.94,1070.98 1449.93,1076.09 1460.08,1075.69 1475.9,1081.43 1497.66,1088.4 1514.33,1088.08 1528.31,1088.91 1538.68,1083.86 1545.67,1084.08 \n",
       "  1551.51,1081.3 1556.16,1080.76 1560.61,1080.78 1565.27,1081.37 1570.58,1081.99 1577.23,1081.71 1586.99,1086.02 1599.55,1085.51 1619.55,1096.97 1645.17,1083.82 \n",
       "  1659.05,1083.77 1670.98,1084.13 1680.28,1081.37 1686.7,1081.56 1692.56,1078.54 1696.94,1078.24 1701.34,1078.01 1706.11,1078.44 1711.71,1079.56 1718.83,1079.44 \n",
       "  1728.86,1081.67 1742.51,1081.13 1763.45,1092.56 1782.66,1091.17 1796.35,1090.5 1806.98,1091.4 1815.15,1082.87 1820.57,1083.15 1825.35,1081.77 1828.94,1081.56 \n",
       "  1832.62,1081.28 1836.68,1081.65 1841.45,1082.94 1847.49,1083.46 1851.4,1083.63 1854.65,1090.83 1856.83,1116.35 1858.2,1153.37 1859.06,1194.14 1859.6,1207.84 \n",
       "  1859.96,1180.68 1860.19,1151.52 1860.35,1136.55 1860.46,1145.67 1860.54,1139.44 1860.6,1141.92 1860.64,1138.65 1860.68,1136.51 1860.71,1135.68 1860.75,1136.36 \n",
       "  1860.8,1139.81 1860.86,1139.63 1860.94,1144.57 1861.05,1142.48 1861.23,1173.08 1861.49,1290.27 1861.87,1296.16 1862.47,1283.87 1863.41,1172.64 1864.92,1122.02 \n",
       "  1867.36,1089.28 1871.36,1065.56 1877.99,1045.67 1882.86,1045.62 1886.99,1045.74 1890.82,1045.69 1894.51,1045.54 1898.62,1045.34 1903.77,1045.87 1910.16,1046.25 \n",
       "  1918.91,1046.44 1932.11,1046.77 1950.76,1050.3 1973.33,1047.07 1986.57,1047.05 1998.06,1047.33 2006.58,1045.66 2012.86,1045.64 2018.03,1046.02 2022.55,1046.07 \n",
       "  2026.96,1045.98 2031.89,1045.74 2038.1,1046.01 2046,1046.66 2056.48,1046.66 2072.84,1047.43 2095.76,1053.99 2114.44,1053.69 2129.4,1053.53 2140.67,1053.12 \n",
       "  2148.64,1052.11 2154.31,1051.83 2159.24,1052.1 2163.9,1052.85 2168.4,1053.12 2173.5,1053.1 2179.96,1052.86 2188.66,1054.46 2200.53,1054.02 2218.28,1056.22 \n",
       "  2244.01,1048.09 2256,1048.07 2266.87,1048.08 2276.17,1047.01 2282.72,1046.43 2287.5,1046.03 2291.48,1046.11 2295.44,1046.88 2299.25,1047.16 2303.56,1047.18 \n",
       "  2308.99,1047.02 2314.86,1055.2 2317.64,1055.23 2320.14,1058.87 2321.86,1073.2 2322.92,1084.41 2323.59,1089.48 2324.02,1087.81 2324.31,1081.78 2324.5,1075.57 \n",
       "  2324.63,1074.9 2324.72,1074.93 2324.78,1074.36 2324.83,1072.29 2324.87,1072.63 2324.9,1072.65 \n",
       "  \"/>\n",
       "<polyline clip-path=\"url(#clip6903)\" style=\"stroke:#e26f46; stroke-width:4; stroke-opacity:1; fill:none\" points=\"\n",
       "  1396.48,3254.7 1396.52,1451.96 1396.56,1421.64 1396.61,1384.23 1396.68,1272.92 1396.78,1339.24 1396.91,1280.57 1397.12,1153.51 1397.43,1136.02 1397.9,1135.12 \n",
       "  1398.63,1152.92 1399.8,1244.9 1401.68,1153.76 1404.73,1101.98 1409.75,1072.23 1415.96,1071.76 1420.74,1070.44 1424.66,1070.18 1428.43,1070.45 1432.28,1070.94 \n",
       "  1436.59,1071.19 1441.94,1070.99 1449.93,1076.1 1460.08,1075.7 1475.9,1081.43 1497.66,1085.98 1514.33,1085.68 1528.31,1086.48 1538.68,1081.64 1545.67,1081.85 \n",
       "  1551.51,1079.17 1556.16,1078.64 1560.61,1078.67 1565.27,1079.23 1570.58,1079.83 1577.23,1079.56 1586.99,1083.7 1599.55,1083.21 1619.55,1093.08 1645.17,1082.35 \n",
       "  1659.05,1082.3 1670.98,1082.65 1680.28,1079.96 1686.7,1080.15 1692.56,1077.19 1696.94,1076.9 1701.34,1076.67 1706.11,1077.1 1711.71,1078.18 1718.83,1078.07 \n",
       "  1728.86,1080.25 1742.51,1079.72 1763.45,1088.77 1782.66,1087.48 1796.35,1086.86 1806.98,1087.69 1815.15,1079.67 1820.57,1079.93 1825.35,1078.62 1828.94,1078.43 \n",
       "  1832.62,1078.16 1836.68,1078.51 1841.45,1079.73 1847.49,1080.22 1851.4,1080.38 1854.65,1087.16 1856.83,1110.69 1858.2,1142.94 1859.06,1174.47 1859.6,1183.8 \n",
       "  1859.96,1164.64 1860.19,1141.4 1860.35,1128.62 1860.46,1136.47 1860.54,1131.13 1860.6,1133.27 1860.64,1130.45 1860.68,1128.59 1860.71,1127.87 1860.75,1128.46 \n",
       "  1860.8,1131.45 1860.86,1131.29 1860.94,1135.53 1861.05,1133.75 1861.23,1158.82 1861.49,1223.22 1861.87,1272.6 1862.47,1221.18 1863.41,1158.48 1864.92,1115.8 \n",
       "  1867.36,1085.7 1871.36,1063.18 1877.99,1044.01 1882.86,1043.95 1886.99,1044.08 1890.82,1044.02 1894.51,1043.88 1898.62,1043.69 1903.77,1044.19 1910.16,1044.57 \n",
       "  1918.91,1044.75 1932.11,1045.07 1950.76,1048.23 1973.33,1045.27 1986.57,1045.25 1998.06,1045.52 2006.58,1043.91 2012.86,1043.88 2018.03,1044.25 2022.55,1044.3 \n",
       "  2026.96,1044.21 2031.89,1043.98 2038.1,1044.24 2046,1044.87 2056.48,1044.87 2072.84,1045.62 2095.76,1048.64 2114.44,1048.39 2129.4,1048.24 2140.67,1047.87 \n",
       "  2148.64,1046.95 2154.31,1046.69 2159.24,1046.94 2163.9,1047.63 2168.4,1047.87 2173.5,1047.85 2179.96,1047.63 2188.66,1049.09 2200.53,1048.69 2218.28,1050.63 \n",
       "  2244.01,1038.72 2256,1038.71 2266.87,1038.72 2276.17,1037.81 2282.72,1037.32 2287.5,1036.98 2291.48,1037.04 2295.44,1037.7 2299.25,1037.93 2303.56,1037.96 \n",
       "  2308.99,1037.81 2314.86,1044.7 2317.64,1044.72 2320.14,1047.72 2321.86,1059.21 2322.92,1067.77 2323.59,1071.51 2324.02,1070.29 2324.31,1065.8 2324.5,1061.05 \n",
       "  2324.63,1060.54 2324.72,1060.56 2324.78,1060.11 2324.83,1058.5 2324.87,1058.77 2324.9,1058.78 \n",
       "  \"/>\n",
       "<path clip-path=\"url(#clip6900)\" d=\"\n",
       "M1832.1 386.635 L2280.76 386.635 L2280.76 205.195 L1832.1 205.195  Z\n",
       "  \" fill=\"#ffffff\" fill-rule=\"evenodd\" fill-opacity=\"1\"/>\n",
       "<polyline clip-path=\"url(#clip6900)\" style=\"stroke:#000000; stroke-width:4; stroke-opacity:1; fill:none\" points=\"\n",
       "  1832.1,386.635 2280.76,386.635 2280.76,205.195 1832.1,205.195 1832.1,386.635 \n",
       "  \"/>\n",
       "<polyline clip-path=\"url(#clip6900)\" style=\"stroke:#009af9; stroke-width:4; stroke-opacity:1; fill:none\" points=\"\n",
       "  1856.1,265.675 2000.1,265.675 \n",
       "  \"/>\n",
       "<g clip-path=\"url(#clip6900)\">\n",
       "<text style=\"fill:#000000; fill-opacity:1; font-family:Arial,Helvetica Neue,Helvetica,sans-serif; font-size:48px; text-anchor:start;\" transform=\"rotate(0, 2024.1, 283.175)\" x=\"2024.1\" y=\"283.175\">IRKGL16</text>\n",
       "</g>\n",
       "<polyline clip-path=\"url(#clip6900)\" style=\"stroke:#e26f46; stroke-width:4; stroke-opacity:1; fill:none\" points=\"\n",
       "  1856.1,326.155 2000.1,326.155 \n",
       "  \"/>\n",
       "<g clip-path=\"url(#clip6900)\">\n",
       "<text style=\"fill:#000000; fill-opacity:1; font-family:Arial,Helvetica Neue,Helvetica,sans-serif; font-size:48px; text-anchor:start;\" transform=\"rotate(0, 2024.1, 343.655)\" x=\"2024.1\" y=\"343.655\">IRKGl162</text>\n",
       "</g>\n",
       "</svg>\n"
      ]
     },
     "execution_count": 20,
     "metadata": {},
     "output_type": "execute_result"
    }
   ],
   "source": [
    "E0=NbodyEnergy(u0128,μ128)\n",
    "end1=length(steps1)\n",
    "\n",
    "ulist = sol0.u\n",
    "tlist = sol0.t\n",
    "EnergyErrors=[NbodyEnergy(BigFloat.(sol0.u[j]),μ128)/E0-1 for j in 1:length(tlist)]\n",
    "\n",
    "ulist1 = sol1.u[1:end]\n",
    "tlist1 = sol1.t[1:end]\n",
    "EnergyErrors1=[NbodyEnergy(BigFloat.(sol1.u[j]),μ128)/E0-1 for j in 1:length(tlist1)]\n",
    "\n",
    "ulist2 = sol2.u[1:end]\n",
    "tlist2 = sol2.t[1:end]\n",
    "EnergyErrors2=[NbodyEnergy(BigFloat.(sol2.u[j]),μ128)/E0-1 for j in 1:length(tlist2)]\n",
    "\n",
    "ylimit1=-18\n",
    "ylimit2=-8\n",
    "\n",
    "p1=plot(tlist[1:end],log10.(abs.(EnergyErrors)),\n",
    "    ylims=(ylimit1,ylimit2),\n",
    "   xlabel=\"t\", title=\"Error in energy\", label=\"Vern9\")\n",
    "p2=plot(tlist1[1:end],log10.(abs.(EnergyErrors1)),\n",
    "        ylims=(ylimit1,ylimit2),\n",
    "    label=\"IRKGL16\")\n",
    "p2=plot!(tlist2[1:end],log10.(abs.(EnergyErrors2)),\n",
    "        ylims=(ylimit1,ylimit2),\n",
    "        label=\"IRKGl162\")\n",
    "plot(p1,p2,layout=2)"
   ]
  },
  {
   "cell_type": "code",
   "execution_count": 21,
   "metadata": {},
   "outputs": [
    {
     "data": {
      "text/plain": [
       "(3.1570265f-15, 8.248498f-16, 9.56083f-16)"
      ]
     },
     "execution_count": 21,
     "metadata": {},
     "output_type": "execute_result"
    }
   ],
   "source": [
    "(Float32(maximum(abs.(EnergyErrors))),Float32(maximum(abs.(EnergyErrors1))),Float32(maximum(abs.(EnergyErrors2))))"
   ]
  },
  {
   "cell_type": "markdown",
   "metadata": {},
   "source": [
    "## Global error"
   ]
  },
  {
   "cell_type": "code",
   "execution_count": 22,
   "metadata": {},
   "outputs": [],
   "source": [
    "tspan128=[BigFloat(0.0),2*parse(BigFloat,\"17.0652165601579625588917206249\")]\n",
    "test_sol = TestSolution(tspan128,[u0128]);"
   ]
  },
  {
   "cell_type": "code",
   "execution_count": 23,
   "metadata": {},
   "outputs": [
    {
     "name": "stdout",
     "output_type": "stream",
     "text": [
      "apr.errors = Dict(:final => 9.934469219324534695851224355693293312382918241355276875297634669499309378638716e-10)\n"
     ]
    }
   ],
   "source": [
    "# Vern9\n",
    "apr = appxtrue(sol0,test_sol)\n",
    "#@show sol0[end]\n",
    "#@show apr.u[end]\n",
    "@show apr.errors;"
   ]
  },
  {
   "cell_type": "code",
   "execution_count": 24,
   "metadata": {},
   "outputs": [
    {
     "name": "stdout",
     "output_type": "stream",
     "text": [
      "apr.errors = Dict(:final => 3.069053407209668837134401951127156287651830319083659208212042641923220603651532e-10)\n"
     ]
    }
   ],
   "source": [
    "# IRGL16\n",
    "apr = appxtrue(sol1,test_sol)\n",
    "#@show sol1[end]\n",
    "#@show apr.u[end]\n",
    "@show apr.errors;"
   ]
  },
  {
   "cell_type": "code",
   "execution_count": 25,
   "metadata": {},
   "outputs": [
    {
     "name": "stdout",
     "output_type": "stream",
     "text": [
      "apr.errors = Dict(:final => 3.487926093084114911433551618899230880921183615928437990587471400156405433173765e-10)\n"
     ]
    },
    {
     "data": {
      "text/plain": [
       "Dict{Symbol,BigFloat} with 1 entry:\n",
       "  :final => 3.48793e-10"
      ]
     },
     "execution_count": 25,
     "metadata": {},
     "output_type": "execute_result"
    }
   ],
   "source": [
    "# IRGL162\n",
    "apr = appxtrue(sol2,test_sol)\n",
    "#@show sol1[end]\n",
    "#@show apr.u[end]\n",
    "@show apr.errors"
   ]
  },
  {
   "cell_type": "code",
   "execution_count": 26,
   "metadata": {},
   "outputs": [
    {
     "data": {
      "text/plain": [
       "(9.68475f-10, 1.1004571f-9)"
      ]
     },
     "execution_count": 26,
     "metadata": {},
     "output_type": "execute_result"
    }
   ],
   "source": [
    "err1=Float32(norm(sol1.u[end]-u0128))\n",
    "err2=Float32(norm(sol2.u[end]-u0128))\n",
    "(err1,err2)"
   ]
  },
  {
   "cell_type": "code",
   "execution_count": 27,
   "metadata": {},
   "outputs": [
    {
     "data": {
      "text/plain": [
       "4-element Array{BigFloat,1}:\n",
       "     1.919210940909427856393599718048891639160122487860905092579113125573114991773456e-12\n",
       " 56812.60274583071543134116088245239476084612075005432521393558299138322547523446        \n",
       "     9.211980613601425934806272655688724397489791142932960705866328396168919918941103e+06\n",
       "     2.965847189303806592143772881716023524156463783622136791966215949566247884823893e-10"
      ]
     },
     "execution_count": 27,
     "metadata": {},
     "output_type": "execute_result"
    }
   ],
   "source": [
    "a=sol1.u[end]\n",
    "b=u0128\n",
    "err = [norm(a[i] - b[i]) / (norm(b[i])+1e-16) for i in 1:4]"
   ]
  },
  {
   "cell_type": "code",
   "execution_count": 28,
   "metadata": {},
   "outputs": [
    {
     "data": {
      "text/plain": [
       "4-element Array{BigFloat,1}:\n",
       "     2.183130547497606516955942926089168926627744515496220796455113147350181386500146e-12\n",
       " 64544.86494219174721728140760972925166020609225789302761564482791269427135797759        \n",
       "     1.046617424195399232227847092078496480449971622564769233584007155283871625946476e+07\n",
       "     3.373695111486930863992098360357886983562695137346774969470154736343614359518587e-10"
      ]
     },
     "execution_count": 28,
     "metadata": {},
     "output_type": "execute_result"
    }
   ],
   "source": [
    "a=sol2.u[end]\n",
    "b=u0128\n",
    "err = [norm(a[i] - b[i]) / norm(b[i]+1e-16) for i in 1:4]"
   ]
  },
  {
   "cell_type": "markdown",
   "metadata": {},
   "source": [
    "## Higher Order Algorithms"
   ]
  },
  {
   "cell_type": "code",
   "execution_count": 29,
   "metadata": {},
   "outputs": [],
   "source": [
    "#abstols = 1.0 ./ 10.0 .^ (8:16)\n",
    "#reltols = 1.0 ./ 10.0 .^ (8:16);"
   ]
  },
  {
   "cell_type": "code",
   "execution_count": 30,
   "metadata": {},
   "outputs": [],
   "source": [
    "#setups = [\n",
    "#    #Dict(:alg=>DP8())\n",
    "#          Dict(:alg=>Vern9())\n",
    "#          Dict(:alg=>IRKGL16())   \n",
    "#          Dict(:alg=>IRKGL162())];\n",
    "#wp = WorkPrecisionSet(prob,abstols,reltols,setups;appxsol=test_sol,save_everystep=false,numruns=100)\n",
    "#plot(wp)"
   ]
  },
  {
   "cell_type": "code",
   "execution_count": null,
   "metadata": {},
   "outputs": [],
   "source": []
  }
 ],
 "metadata": {
  "@webio": {
   "lastCommId": null,
   "lastKernelId": null
  },
  "anaconda-cloud": {},
  "kernelspec": {
   "display_name": "Julia 1.3.1",
   "language": "julia",
   "name": "julia-1.3"
  },
  "language_info": {
   "file_extension": ".jl",
   "mimetype": "application/julia",
   "name": "julia",
   "version": "1.3.1"
  }
 },
 "nbformat": 4,
 "nbformat_minor": 2
}
