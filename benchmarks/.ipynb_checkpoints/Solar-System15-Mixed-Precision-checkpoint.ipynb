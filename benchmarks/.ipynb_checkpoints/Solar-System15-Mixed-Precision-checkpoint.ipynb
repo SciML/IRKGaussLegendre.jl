{
 "cells": [
  {
   "cell_type": "markdown",
   "metadata": {},
   "source": [
    "# Solar-System15-Mixed-Precision"
   ]
  },
  {
   "cell_type": "markdown",
   "metadata": {},
   "source": [
    "<ul id=\"top\">\n",
    "<li><a href=\"#Load-packages\"> \n",
    "             Load Packages</a></li>\n",
    "    \n",
    "<li><a href=\"#Computer-properties\"> \n",
    "             Computer properties</a></li> \n",
    "\n",
    "<li><a href=\"#Initial-value-problem:-Solar-System15\">\n",
    "              Initial value problem: Solar-System15</a></li>\n",
    "\n",
    "<li><a href=\"#Ode-problem\">\n",
    "             Ode problem</a></li>\n",
    " \n",
    "<li><a href=\"#Error-in-energy\">\n",
    "             Error in energy</a></li> \n",
    "\n",
    "<li><a href=\"#Work-Precision-diagrams\">\n",
    "             Work-Precision diagrams</a></li> \n",
    "\n",
    "</ul>  "
   ]
  },
  {
   "cell_type": "markdown",
   "metadata": {},
   "source": [
    "## Load packages"
   ]
  },
  {
   "cell_type": "code",
   "execution_count": 1,
   "metadata": {},
   "outputs": [],
   "source": [
    "using OrdinaryDiffEq,DiffEqDevTools,BenchmarkTools\n",
    "using IRKGaussLegendre\n",
    "using Plots,LinearAlgebra\n",
    "using Dates\n",
    "using RecursiveArrayTools\n",
    "using JLD2, FileIO"
   ]
  },
  {
   "cell_type": "code",
   "execution_count": 2,
   "metadata": {},
   "outputs": [],
   "source": [
    "setprecision(BigFloat, 108);"
   ]
  },
  {
   "cell_type": "code",
   "execution_count": 3,
   "metadata": {},
   "outputs": [],
   "source": [
    "#plotly()"
   ]
  },
  {
   "cell_type": "markdown",
   "metadata": {},
   "source": [
    "<a href=\"#top\">Back to the top</a>\n",
    "\n",
    "## Computer properties"
   ]
  },
  {
   "cell_type": "code",
   "execution_count": 3,
   "metadata": {},
   "outputs": [
    {
     "data": {
      "text/plain": [
       "1"
      ]
     },
     "execution_count": 3,
     "metadata": {},
     "output_type": "execute_result"
    }
   ],
   "source": [
    "#export JULIA_NUM_THREADS=2\n",
    "Threads.nthreads()"
   ]
  },
  {
   "cell_type": "code",
   "execution_count": 5,
   "metadata": {},
   "outputs": [],
   "source": [
    "#;cat /proc/cpuinfo # on Linux machines"
   ]
  },
  {
   "cell_type": "code",
   "execution_count": 4,
   "metadata": {},
   "outputs": [
    {
     "data": {
      "text/plain": [
       "2"
      ]
     },
     "execution_count": 4,
     "metadata": {},
     "output_type": "execute_result"
    }
   ],
   "source": [
    "using Hwloc\n",
    "Hwloc.num_physical_cores()"
   ]
  },
  {
   "cell_type": "markdown",
   "metadata": {},
   "source": [
    "<a href=\"#top\">Back to the top</a>\n",
    "\n",
    "## Initial value problem: Solar-System15"
   ]
  },
  {
   "cell_type": "code",
   "execution_count": 21,
   "metadata": {},
   "outputs": [],
   "source": [
    "include(\"../examples/Nbody.jl\")\n",
    "include(\"../examples/InitialNBody15.jl\")\n",
    "\n",
    "setprecision(BigFloat, 108)\n",
    "u0128, Gm128 =InitialNBody15(BigFloat)\n",
    "\n",
    "q0128=u0128[2,:,:]\n",
    "v0128=u0128[1,:,:]\n",
    "\n",
    "dt=5\n",
    "t0=0.0\n",
    "t1=20*dt    #20, 1000.\n",
    "mysaveat=1  #10\n",
    "\n",
    "u064, Gm64 =InitialNBody15(Float64)\n",
    "lpp=Gm64;\n",
    "\n",
    "tspan128=(BigFloat(t0),BigFloat(t1))\n",
    "prob128 = ODEProblem(NbodyODE!,u0128,tspan128,Gm128,;lpp=lpp);"
   ]
  },
  {
   "cell_type": "markdown",
   "metadata": {},
   "source": [
    "<a href=\"#top\">Back to the top</a>\n",
    "\n",
    "## Ode problem"
   ]
  },
  {
   "cell_type": "markdown",
   "metadata": {},
   "source": [
    "### Test solution"
   ]
  },
  {
   "cell_type": "code",
   "execution_count": 8,
   "metadata": {},
   "outputs": [],
   "source": [
    "#sol =solve(prob128,Vern9(),saveat=mysaveat,abstol=1e-24,reltol=1e-24,maxiters=100000);\n",
    "#@save \"./Data/solarsystem15small_test_solF128.jld2\" sol\n",
    "@load \"./Data/solarsystem15small_test_solF128.jld2\" sol\n",
    "test_sol = TestSolution(sol);"
   ]
  },
  {
   "cell_type": "markdown",
   "metadata": {},
   "source": [
    "### IRKGL16 (Fixed-Step)"
   ]
  },
  {
   "cell_type": "code",
   "execution_count": 23,
   "metadata": {},
   "outputs": [
    {
     "data": {
      "text/plain": [
       "DiffEqBase.DEStats\n",
       "Number of function 1 evaluations:                  1982\n",
       "Number of function 2 evaluations:                  0\n",
       "Number of W matrix evaluations:                    0\n",
       "Number of linear solves:                           0\n",
       "Number of Jacobians created:                       0\n",
       "Number of nonlinear solver iterations:             0\n",
       "Number of nonlinear solver convergence failures:   0\n",
       "Number of rootfind condition calls:                0\n",
       "Number of accepted steps:                          6\n",
       "Number of rejected steps:                          0"
      ]
     },
     "execution_count": 23,
     "metadata": {},
     "output_type": "execute_result"
    }
   ],
   "source": [
    "(sol1,iters1,steps1) =solve(prob128,IRKGL16(),dt=dt,saveat=mysaveat,adaptive=false,myoutputs=true,\n",
    "                             mixed_precision=false);\n",
    "sol1.destats"
   ]
  },
  {
   "cell_type": "code",
   "execution_count": 10,
   "metadata": {},
   "outputs": [
    {
     "data": {
      "text/plain": [
       "22.61904761904762"
      ]
     },
     "execution_count": 10,
     "metadata": {},
     "output_type": "execute_result"
    }
   ],
   "source": [
    "mean(iters1)"
   ]
  },
  {
   "cell_type": "code",
   "execution_count": 11,
   "metadata": {},
   "outputs": [
    {
     "data": {
      "text/plain": [
       "DiffEqBase.DEStats\n",
       "Number of function 1 evaluations:                  1005\n",
       "Number of function 2 evaluations:                  8196\n",
       "Number of W matrix evaluations:                    0\n",
       "Number of linear solves:                           0\n",
       "Number of Jacobians created:                       0\n",
       "Number of nonlinear solver iterations:             0\n",
       "Number of nonlinear solver convergence failures:   0\n",
       "Number of rootfind condition calls:                0\n",
       "Number of accepted steps:                          20\n",
       "Number of rejected steps:                          0"
      ]
     },
     "execution_count": 11,
     "metadata": {},
     "output_type": "execute_result"
    }
   ],
   "source": [
    "(sol2,iters2,steps2) = solve(prob128,IRKGL16(),dt=dt,saveat=mysaveat,adaptive=false,myoutputs=true,\n",
    "                             mixed_precision=true, low_prec_type=Float64);\n",
    "sol2.destats"
   ]
  },
  {
   "cell_type": "code",
   "execution_count": 12,
   "metadata": {},
   "outputs": [
    {
     "data": {
      "text/plain": [
       "7.523809523809524"
      ]
     },
     "execution_count": 12,
     "metadata": {},
     "output_type": "execute_result"
    }
   ],
   "source": [
    "mean(iters2)"
   ]
  },
  {
   "cell_type": "markdown",
   "metadata": {},
   "source": [
    "<a href=\"#top\">Back to the top</a>\n",
    "\n",
    "## DynamicalProblem"
   ]
  },
  {
   "cell_type": "code",
   "execution_count": 13,
   "metadata": {},
   "outputs": [],
   "source": [
    "probdyn128 = DynamicalODEProblem(NbodyODEq!,NbodyODEv!,q0128,v0128,tspan128,Gm128,;lpp=lpp);"
   ]
  },
  {
   "cell_type": "markdown",
   "metadata": {},
   "source": [
    "### IRKGL16 (Fixed-Step)"
   ]
  },
  {
   "cell_type": "code",
   "execution_count": 16,
   "metadata": {},
   "outputs": [
    {
     "data": {
      "text/plain": [
       "DiffEqBase.DEStats\n",
       "Number of function 1 evaluations:                  2296\n",
       "Number of function 2 evaluations:                  0\n",
       "Number of W matrix evaluations:                    0\n",
       "Number of linear solves:                           0\n",
       "Number of Jacobians created:                       0\n",
       "Number of nonlinear solver iterations:             0\n",
       "Number of nonlinear solver convergence failures:   0\n",
       "Number of rootfind condition calls:                0\n",
       "Number of accepted steps:                          6\n",
       "Number of rejected steps:                          0"
      ]
     },
     "execution_count": 16,
     "metadata": {},
     "output_type": "execute_result"
    }
   ],
   "source": [
    "(sol11,iters11,steps11) =solve(probdyn128,IRKGL163(),dt=dt,saveat=mysaveat,adaptive=true,myoutputs=true,\n",
    "              mixed_precision=false);\n",
    "sol11.destats"
   ]
  },
  {
   "cell_type": "markdown",
   "metadata": {},
   "source": [
    "<a href=\"#top\">Back to the top</a>\n",
    "\n",
    "## Error in energy"
   ]
  },
  {
   "cell_type": "code",
   "execution_count": 19,
   "metadata": {},
   "outputs": [
    {
     "data": {
      "text/plain": [
       "(1.2841041f-27, 2.6668344f-12, 2.5345949f-21, 2.6668344f-12)"
      ]
     },
     "execution_count": 19,
     "metadata": {},
     "output_type": "execute_result"
    }
   ],
   "source": [
    "setprecision(BigFloat, 256)\n",
    "u0256, Gm256 =InitialNBody15(BigFloat)\n",
    "E0=NbodyEnergy(u0256,Gm256)\n",
    "\n",
    "ΔE = map(x->NbodyEnergy(BigFloat.(x),Gm256), sol.u)./E0.-1\n",
    "ΔE1 = map(x->NbodyEnergy(BigFloat.(x),Gm256), sol1.u)./E0.-1\n",
    "ΔE2 = map(x->NbodyEnergy(BigFloat.(x),Gm256), sol2.u)./E0.-1\n",
    "ΔE11 = map(x->NbodyEnergy2(BigFloat.(x),Gm256), sol11.u)./E0.-1\n",
    "#ΔE12 = map(x->NbodyEnergy2(BigFloat.(x),Gm128), sol12.u)./E0.-1\n",
    "\n",
    "(Float32(maximum(abs.(ΔE))),Float32(maximum(abs.(ΔE1))),Float32(maximum(abs.(ΔE2))),Float32(maximum(abs.(ΔE11))))"
   ]
  },
  {
   "cell_type": "code",
   "execution_count": 16,
   "metadata": {},
   "outputs": [
    {
     "data": {
      "image/svg+xml": [
       "<?xml version=\"1.0\" encoding=\"utf-8\"?>\n",
       "<svg xmlns=\"http://www.w3.org/2000/svg\" xmlns:xlink=\"http://www.w3.org/1999/xlink\" width=\"600\" height=\"400\" viewBox=\"0 0 2400 1600\">\n",
       "<defs>\n",
       "  <clipPath id=\"clip6600\">\n",
       "    <rect x=\"0\" y=\"0\" width=\"2400\" height=\"1600\"/>\n",
       "  </clipPath>\n",
       "</defs>\n",
       "<path clip-path=\"url(#clip6600)\" d=\"\n",
       "M0 1600 L2400 1600 L2400 0 L0 0  Z\n",
       "  \" fill=\"#ffffff\" fill-rule=\"evenodd\" fill-opacity=\"1\"/>\n",
       "<defs>\n",
       "  <clipPath id=\"clip6601\">\n",
       "    <rect x=\"480\" y=\"0\" width=\"1681\" height=\"1600\"/>\n",
       "  </clipPath>\n",
       "</defs>\n",
       "<path clip-path=\"url(#clip6600)\" d=\"\n",
       "M168.627 1487.47 L2352.76 1487.47 L2352.76 121.675 L168.627 121.675  Z\n",
       "  \" fill=\"#ffffff\" fill-rule=\"evenodd\" fill-opacity=\"1\"/>\n",
       "<defs>\n",
       "  <clipPath id=\"clip6602\">\n",
       "    <rect x=\"168\" y=\"121\" width=\"2185\" height=\"1367\"/>\n",
       "  </clipPath>\n",
       "</defs>\n",
       "<polyline clip-path=\"url(#clip6602)\" style=\"stroke:#000000; stroke-width:2; stroke-opacity:0.1; fill:none\" points=\"\n",
       "  230.442,1487.47 230.442,121.675 \n",
       "  \"/>\n",
       "<polyline clip-path=\"url(#clip6602)\" style=\"stroke:#000000; stroke-width:2; stroke-opacity:0.1; fill:none\" points=\"\n",
       "  745.567,1487.47 745.567,121.675 \n",
       "  \"/>\n",
       "<polyline clip-path=\"url(#clip6602)\" style=\"stroke:#000000; stroke-width:2; stroke-opacity:0.1; fill:none\" points=\"\n",
       "  1260.69,1487.47 1260.69,121.675 \n",
       "  \"/>\n",
       "<polyline clip-path=\"url(#clip6602)\" style=\"stroke:#000000; stroke-width:2; stroke-opacity:0.1; fill:none\" points=\"\n",
       "  1775.82,1487.47 1775.82,121.675 \n",
       "  \"/>\n",
       "<polyline clip-path=\"url(#clip6602)\" style=\"stroke:#000000; stroke-width:2; stroke-opacity:0.1; fill:none\" points=\"\n",
       "  2290.94,1487.47 2290.94,121.675 \n",
       "  \"/>\n",
       "<polyline clip-path=\"url(#clip6602)\" style=\"stroke:#000000; stroke-width:2; stroke-opacity:0.1; fill:none\" points=\"\n",
       "  168.627,1487.47 2352.76,1487.47 \n",
       "  \"/>\n",
       "<polyline clip-path=\"url(#clip6602)\" style=\"stroke:#000000; stroke-width:2; stroke-opacity:0.1; fill:none\" points=\"\n",
       "  168.627,1259.84 2352.76,1259.84 \n",
       "  \"/>\n",
       "<polyline clip-path=\"url(#clip6602)\" style=\"stroke:#000000; stroke-width:2; stroke-opacity:0.1; fill:none\" points=\"\n",
       "  168.627,1032.21 2352.76,1032.21 \n",
       "  \"/>\n",
       "<polyline clip-path=\"url(#clip6602)\" style=\"stroke:#000000; stroke-width:2; stroke-opacity:0.1; fill:none\" points=\"\n",
       "  168.627,804.575 2352.76,804.575 \n",
       "  \"/>\n",
       "<polyline clip-path=\"url(#clip6602)\" style=\"stroke:#000000; stroke-width:2; stroke-opacity:0.1; fill:none\" points=\"\n",
       "  168.627,576.942 2352.76,576.942 \n",
       "  \"/>\n",
       "<polyline clip-path=\"url(#clip6602)\" style=\"stroke:#000000; stroke-width:2; stroke-opacity:0.1; fill:none\" points=\"\n",
       "  168.627,349.308 2352.76,349.308 \n",
       "  \"/>\n",
       "<polyline clip-path=\"url(#clip6602)\" style=\"stroke:#000000; stroke-width:2; stroke-opacity:0.1; fill:none\" points=\"\n",
       "  168.627,349.308 2352.76,349.308 \n",
       "  \"/>\n",
       "<polyline clip-path=\"url(#clip6600)\" style=\"stroke:#000000; stroke-width:4; stroke-opacity:1; fill:none\" points=\"\n",
       "  168.627,1487.47 2352.76,1487.47 \n",
       "  \"/>\n",
       "<polyline clip-path=\"url(#clip6600)\" style=\"stroke:#000000; stroke-width:4; stroke-opacity:1; fill:none\" points=\"\n",
       "  168.627,1487.47 168.627,121.675 \n",
       "  \"/>\n",
       "<polyline clip-path=\"url(#clip6600)\" style=\"stroke:#000000; stroke-width:4; stroke-opacity:1; fill:none\" points=\"\n",
       "  230.442,1487.47 230.442,1471.09 \n",
       "  \"/>\n",
       "<polyline clip-path=\"url(#clip6600)\" style=\"stroke:#000000; stroke-width:4; stroke-opacity:1; fill:none\" points=\"\n",
       "  745.567,1487.47 745.567,1471.09 \n",
       "  \"/>\n",
       "<polyline clip-path=\"url(#clip6600)\" style=\"stroke:#000000; stroke-width:4; stroke-opacity:1; fill:none\" points=\"\n",
       "  1260.69,1487.47 1260.69,1471.09 \n",
       "  \"/>\n",
       "<polyline clip-path=\"url(#clip6600)\" style=\"stroke:#000000; stroke-width:4; stroke-opacity:1; fill:none\" points=\"\n",
       "  1775.82,1487.47 1775.82,1471.09 \n",
       "  \"/>\n",
       "<polyline clip-path=\"url(#clip6600)\" style=\"stroke:#000000; stroke-width:4; stroke-opacity:1; fill:none\" points=\"\n",
       "  2290.94,1487.47 2290.94,1471.09 \n",
       "  \"/>\n",
       "<polyline clip-path=\"url(#clip6600)\" style=\"stroke:#000000; stroke-width:4; stroke-opacity:1; fill:none\" points=\"\n",
       "  168.627,1487.47 194.836,1487.47 \n",
       "  \"/>\n",
       "<polyline clip-path=\"url(#clip6600)\" style=\"stroke:#000000; stroke-width:4; stroke-opacity:1; fill:none\" points=\"\n",
       "  168.627,1259.84 194.836,1259.84 \n",
       "  \"/>\n",
       "<polyline clip-path=\"url(#clip6600)\" style=\"stroke:#000000; stroke-width:4; stroke-opacity:1; fill:none\" points=\"\n",
       "  168.627,1032.21 194.836,1032.21 \n",
       "  \"/>\n",
       "<polyline clip-path=\"url(#clip6600)\" style=\"stroke:#000000; stroke-width:4; stroke-opacity:1; fill:none\" points=\"\n",
       "  168.627,804.575 194.836,804.575 \n",
       "  \"/>\n",
       "<polyline clip-path=\"url(#clip6600)\" style=\"stroke:#000000; stroke-width:4; stroke-opacity:1; fill:none\" points=\"\n",
       "  168.627,576.942 194.836,576.942 \n",
       "  \"/>\n",
       "<polyline clip-path=\"url(#clip6600)\" style=\"stroke:#000000; stroke-width:4; stroke-opacity:1; fill:none\" points=\"\n",
       "  168.627,349.308 194.836,349.308 \n",
       "  \"/>\n",
       "<polyline clip-path=\"url(#clip6600)\" style=\"stroke:#000000; stroke-width:4; stroke-opacity:1; fill:none\" points=\"\n",
       "  168.627,349.308 194.836,349.308 \n",
       "  \"/>\n",
       "<g clip-path=\"url(#clip6600)\">\n",
       "<text style=\"fill:#000000; fill-opacity:1; font-family:Arial,Helvetica Neue,Helvetica,sans-serif; font-size:48px; text-anchor:middle;\" transform=\"rotate(0, 230.442, 1541.47)\" x=\"230.442\" y=\"1541.47\">0</text>\n",
       "</g>\n",
       "<g clip-path=\"url(#clip6600)\">\n",
       "<text style=\"fill:#000000; fill-opacity:1; font-family:Arial,Helvetica Neue,Helvetica,sans-serif; font-size:48px; text-anchor:middle;\" transform=\"rotate(0, 745.567, 1541.47)\" x=\"745.567\" y=\"1541.47\">25</text>\n",
       "</g>\n",
       "<g clip-path=\"url(#clip6600)\">\n",
       "<text style=\"fill:#000000; fill-opacity:1; font-family:Arial,Helvetica Neue,Helvetica,sans-serif; font-size:48px; text-anchor:middle;\" transform=\"rotate(0, 1260.69, 1541.47)\" x=\"1260.69\" y=\"1541.47\">50</text>\n",
       "</g>\n",
       "<g clip-path=\"url(#clip6600)\">\n",
       "<text style=\"fill:#000000; fill-opacity:1; font-family:Arial,Helvetica Neue,Helvetica,sans-serif; font-size:48px; text-anchor:middle;\" transform=\"rotate(0, 1775.82, 1541.47)\" x=\"1775.82\" y=\"1541.47\">75</text>\n",
       "</g>\n",
       "<g clip-path=\"url(#clip6600)\">\n",
       "<text style=\"fill:#000000; fill-opacity:1; font-family:Arial,Helvetica Neue,Helvetica,sans-serif; font-size:48px; text-anchor:middle;\" transform=\"rotate(0, 2290.94, 1541.47)\" x=\"2290.94\" y=\"1541.47\">100</text>\n",
       "</g>\n",
       "<g clip-path=\"url(#clip6600)\">\n",
       "<text style=\"fill:#000000; fill-opacity:1; font-family:Arial,Helvetica Neue,Helvetica,sans-serif; font-size:48px; text-anchor:end;\" transform=\"rotate(0, 144.627, 1504.97)\" x=\"144.627\" y=\"1504.97\">-30</text>\n",
       "</g>\n",
       "<g clip-path=\"url(#clip6600)\">\n",
       "<text style=\"fill:#000000; fill-opacity:1; font-family:Arial,Helvetica Neue,Helvetica,sans-serif; font-size:48px; text-anchor:end;\" transform=\"rotate(0, 144.627, 1277.34)\" x=\"144.627\" y=\"1277.34\">-28</text>\n",
       "</g>\n",
       "<g clip-path=\"url(#clip6600)\">\n",
       "<text style=\"fill:#000000; fill-opacity:1; font-family:Arial,Helvetica Neue,Helvetica,sans-serif; font-size:48px; text-anchor:end;\" transform=\"rotate(0, 144.627, 1049.71)\" x=\"144.627\" y=\"1049.71\">-26</text>\n",
       "</g>\n",
       "<g clip-path=\"url(#clip6600)\">\n",
       "<text style=\"fill:#000000; fill-opacity:1; font-family:Arial,Helvetica Neue,Helvetica,sans-serif; font-size:48px; text-anchor:end;\" transform=\"rotate(0, 144.627, 822.075)\" x=\"144.627\" y=\"822.075\">-24</text>\n",
       "</g>\n",
       "<g clip-path=\"url(#clip6600)\">\n",
       "<text style=\"fill:#000000; fill-opacity:1; font-family:Arial,Helvetica Neue,Helvetica,sans-serif; font-size:48px; text-anchor:end;\" transform=\"rotate(0, 144.627, 594.442)\" x=\"144.627\" y=\"594.442\">-22</text>\n",
       "</g>\n",
       "<g clip-path=\"url(#clip6600)\">\n",
       "<text style=\"fill:#000000; fill-opacity:1; font-family:Arial,Helvetica Neue,Helvetica,sans-serif; font-size:48px; text-anchor:end;\" transform=\"rotate(0, 144.627, 366.808)\" x=\"144.627\" y=\"366.808\">-20</text>\n",
       "</g>\n",
       "<g clip-path=\"url(#clip6600)\">\n",
       "<text style=\"fill:#000000; fill-opacity:1; font-family:Arial,Helvetica Neue,Helvetica,sans-serif; font-size:48px; text-anchor:end;\" transform=\"rotate(0, 144.627, 366.808)\" x=\"144.627\" y=\"366.808\">-20</text>\n",
       "</g>\n",
       "<g clip-path=\"url(#clip6600)\">\n",
       "<text style=\"fill:#000000; fill-opacity:1; font-family:Arial,Helvetica Neue,Helvetica,sans-serif; font-size:84px; text-anchor:middle;\" transform=\"rotate(0, 1260.69, 73.2)\" x=\"1260.69\" y=\"73.2\">ODEProblem</text>\n",
       "</g>\n",
       "<polyline clip-path=\"url(#clip6602)\" style=\"stroke:#009af9; stroke-width:4; stroke-opacity:1; fill:none\" points=\"\n",
       "  230.442,1828.7 251.047,1399.62 271.652,1333.54 292.257,1288.55 312.862,1267.06 333.467,1245.82 354.072,1229.14 374.677,1222.72 395.282,1215.9 415.887,1210.99 \n",
       "  436.492,1206.91 457.097,1204.58 477.702,1200.45 498.307,1198.75 518.912,1196.54 539.517,1193.83 560.122,1190.81 580.727,1188.64 601.332,1187.13 621.937,1185.32 \n",
       "  642.542,1183.22 663.147,1182.47 683.752,1182.01 704.357,1181.2 724.962,1180.01 745.567,1179.99 766.172,1178.97 786.777,1178.22 807.382,1176.81 827.987,1174.68 \n",
       "  848.592,1171.55 869.197,1168.87 889.802,1163.68 910.407,1161.72 931.012,1160.99 951.617,1160.55 972.222,1160.33 992.827,1159.84 1013.43,1159.52 1034.04,1159.6 \n",
       "  1054.64,1159.15 1075.25,1159.13 1095.85,1159.01 1116.46,1158.9 1137.06,1158.71 1157.67,1158.76 1178.27,1158.6 1198.88,1158.69 1219.48,1158.43 1240.09,1158.2 \n",
       "  1260.69,1158.14 1281.3,1158.3 1301.9,1158.44 1322.51,1158.02 1343.11,1158.14 1363.72,1157.87 1384.32,1158.28 1404.93,1157.76 1425.53,1157.49 1446.14,1157.63 \n",
       "  1466.74,1157.87 1487.35,1157.89 1507.95,1157.5 1528.56,1157.11 1549.16,1156.73 1569.77,1156.85 1590.37,1157.08 1610.98,1156.7 1631.58,1156.2 1652.19,1156.5 \n",
       "  1672.79,1155.67 1693.4,1155.99 1714,1155.29 1734.61,1155.25 1755.21,1155.14 1775.82,1154.82 1796.42,1154.51 1817.03,1154.18 1837.63,1153.63 1858.24,1153.32 \n",
       "  1878.84,1153.05 1899.45,1152.72 1920.05,1152.25 1940.66,1151.85 1961.26,1151.42 1981.87,1151.14 2002.47,1150.35 2023.08,1150.05 2043.68,1149.12 2064.29,1148.09 \n",
       "  2084.89,1147.28 2105.5,1145.99 2126.1,1143.68 2146.71,1141.44 2167.31,1139.82 2187.92,1138.17 2208.52,1137.22 2229.13,1135.75 2249.73,1134.87 2270.34,1134.22 \n",
       "  2290.94,1133.66 \n",
       "  \"/>\n",
       "<polyline clip-path=\"url(#clip6602)\" style=\"stroke:#e26f46; stroke-width:4; stroke-opacity:1; fill:none\" points=\"\n",
       "  230.442,1829.87 333.467,599.532 436.492,506.537 539.517,417.154 642.542,419.88 745.567,541.762 848.592,555.052 951.617,535.642 1054.64,534.584 1157.67,534.429 \n",
       "  1260.69,534.411 1363.72,534.409 1466.74,534.409 1569.77,534.409 1672.79,534.409 1775.82,534.413 1878.84,534.452 1981.87,534.756 2084.89,537.191 2187.92,613.781 \n",
       "  2290.94,499.994 \n",
       "  \"/>\n",
       "<polyline clip-path=\"url(#clip6602)\" style=\"stroke:#3da44d; stroke-width:4; stroke-opacity:1; fill:none\" points=\"\n",
       "  230.442,1829.87 333.467,599.532 436.492,506.537 539.517,417.154 642.542,419.88 745.567,541.762 848.592,555.052 951.617,535.642 1054.64,534.584 1157.67,534.429 \n",
       "  1260.69,534.411 1363.72,534.409 1466.74,534.409 1569.77,534.409 1672.79,534.409 1775.82,534.413 1878.84,534.452 1981.87,534.756 2084.89,537.191 2187.92,613.781 \n",
       "  2290.94,499.994 \n",
       "  \"/>\n",
       "<path clip-path=\"url(#clip6600)\" d=\"\n",
       "M1087.03 447.115 L2280.76 447.115 L2280.76 205.195 L1087.03 205.195  Z\n",
       "  \" fill=\"#ffffff\" fill-rule=\"evenodd\" fill-opacity=\"1\"/>\n",
       "<polyline clip-path=\"url(#clip6600)\" style=\"stroke:#000000; stroke-width:4; stroke-opacity:1; fill:none\" points=\"\n",
       "  1087.03,447.115 2280.76,447.115 2280.76,205.195 1087.03,205.195 1087.03,447.115 \n",
       "  \"/>\n",
       "<polyline clip-path=\"url(#clip6600)\" style=\"stroke:#009af9; stroke-width:4; stroke-opacity:1; fill:none\" points=\"\n",
       "  1111.03,265.675 1255.03,265.675 \n",
       "  \"/>\n",
       "<g clip-path=\"url(#clip6600)\">\n",
       "<text style=\"fill:#000000; fill-opacity:1; font-family:Arial,Helvetica Neue,Helvetica,sans-serif; font-size:48px; text-anchor:start;\" transform=\"rotate(0, 1279.03, 283.175)\" x=\"1279.03\" y=\"283.175\">Test solution</text>\n",
       "</g>\n",
       "<polyline clip-path=\"url(#clip6600)\" style=\"stroke:#e26f46; stroke-width:4; stroke-opacity:1; fill:none\" points=\"\n",
       "  1111.03,326.155 1255.03,326.155 \n",
       "  \"/>\n",
       "<g clip-path=\"url(#clip6600)\">\n",
       "<text style=\"fill:#000000; fill-opacity:1; font-family:Arial,Helvetica Neue,Helvetica,sans-serif; font-size:48px; text-anchor:start;\" transform=\"rotate(0, 1279.03, 343.655)\" x=\"1279.03\" y=\"343.655\">IRKGL16-Float128</text>\n",
       "</g>\n",
       "<polyline clip-path=\"url(#clip6600)\" style=\"stroke:#3da44d; stroke-width:4; stroke-opacity:1; fill:none\" points=\"\n",
       "  1111.03,386.635 1255.03,386.635 \n",
       "  \"/>\n",
       "<g clip-path=\"url(#clip6600)\">\n",
       "<text style=\"fill:#000000; fill-opacity:1; font-family:Arial,Helvetica Neue,Helvetica,sans-serif; font-size:48px; text-anchor:start;\" transform=\"rotate(0, 1279.03, 404.135)\" x=\"1279.03\" y=\"404.135\">IRKGL16-Mixed Precision: Float128/Float64</text>\n",
       "</g>\n",
       "</svg>\n"
      ]
     },
     "execution_count": 16,
     "metadata": {},
     "output_type": "execute_result"
    }
   ],
   "source": [
    "ylimit1=-30\n",
    "ylimit2=-18\n",
    "plot(sol.t,log10.(abs.(ΔE)), label=\"Test solution\", title=\"ODEProblem\",\n",
    "    ylims=(ylimit1,ylimit2),)\n",
    "plot!(sol1.t,log10.(abs.(ΔE1)), label=\"IRKGL16-Float128\",\n",
    "     ylims=(ylimit1,ylimit2),)\n",
    "plot!(sol2.t,log10.(abs.(ΔE2)), label=\"IRKGL16-Mixed Precision: Float128/Float64\",\n",
    "     ylims=(ylimit1,ylimit2),)"
   ]
  },
  {
   "cell_type": "code",
   "execution_count": 17,
   "metadata": {},
   "outputs": [],
   "source": [
    "#ylimit1=-30\n",
    "#ylimit2=-18\n",
    "#plot(sol.t,log10.(abs.(ΔE)), label=\"Test solution\", title=\"DynamicalProblem\",\n",
    "#    ylims=(ylimit1,ylimit2),)\n",
    "#plot!(sol1.t,log10.(abs.(ΔE11)), label=\"IRKGL16-Float128\",\n",
    "#     ylims=(ylimit1,ylimit2),)\n",
    "#plot!(sol2.t,log10.(abs.(ΔE12)), label=\"IRKGL16-Mixed Precision: Float128/Float64\",\n",
    "#     ylims=(ylimit1,ylimit2),)"
   ]
  },
  {
   "cell_type": "markdown",
   "metadata": {},
   "source": [
    "<a href=\"#top\">Back to the top</a>\n",
    "\n",
    "## Work-Precision diagrams"
   ]
  },
  {
   "cell_type": "code",
   "execution_count": null,
   "metadata": {},
   "outputs": [],
   "source": [
    "now()"
   ]
  },
  {
   "cell_type": "code",
   "execution_count": 18,
   "metadata": {},
   "outputs": [
    {
     "data": {
      "text/plain": [
       "108"
      ]
     },
     "execution_count": 18,
     "metadata": {},
     "output_type": "execute_result"
    }
   ],
   "source": [
    "setprecision(BigFloat, 108)"
   ]
  },
  {
   "cell_type": "code",
   "execution_count": 19,
   "metadata": {},
   "outputs": [
    {
     "data": {
      "text/plain": [
       "1"
      ]
     },
     "execution_count": 19,
     "metadata": {},
     "output_type": "execute_result"
    }
   ],
   "source": [
    "Threads.nthreads()"
   ]
  },
  {
   "cell_type": "code",
   "execution_count": 20,
   "metadata": {},
   "outputs": [
    {
     "data": {
      "text/plain": [
       "11-element Array{Float64,1}:\n",
       " 16.0               \n",
       " 13.856             \n",
       " 11.999296          \n",
       " 10.391390335999999 \n",
       "  8.998944030976    \n",
       "  7.793085530825215 \n",
       "  6.748812069694637 \n",
       "  5.8444712523555555\n",
       "  5.061312104539911 \n",
       "  4.383096282531563 \n",
       "  3.7957613806723334"
      ]
     },
     "execution_count": 20,
     "metadata": {},
     "output_type": "execute_result"
    }
   ],
   "source": [
    "abstols = 1.0 ./ 10.0 .^ (12:26)\n",
    "reltols = 1.0 ./ 10.0 .^ (12:26)\n",
    "dts=16*0.866.^(0:length(reltols)-1)"
   ]
  },
  {
   "cell_type": "markdown",
   "metadata": {},
   "source": [
    "### OdeProblem"
   ]
  },
  {
   "cell_type": "code",
   "execution_count": 21,
   "metadata": {},
   "outputs": [
    {
     "data": {
      "image/svg+xml": [
       "<?xml version=\"1.0\" encoding=\"utf-8\"?>\n",
       "<svg xmlns=\"http://www.w3.org/2000/svg\" xmlns:xlink=\"http://www.w3.org/1999/xlink\" width=\"600\" height=\"400\" viewBox=\"0 0 2400 1600\">\n",
       "<defs>\n",
       "  <clipPath id=\"clip7000\">\n",
       "    <rect x=\"0\" y=\"0\" width=\"2400\" height=\"1600\"/>\n",
       "  </clipPath>\n",
       "</defs>\n",
       "<path clip-path=\"url(#clip7000)\" d=\"\n",
       "M0 1600 L2400 1600 L2400 0 L0 0  Z\n",
       "  \" fill=\"#ffffff\" fill-rule=\"evenodd\" fill-opacity=\"1\"/>\n",
       "<defs>\n",
       "  <clipPath id=\"clip7001\">\n",
       "    <rect x=\"480\" y=\"0\" width=\"1681\" height=\"1600\"/>\n",
       "  </clipPath>\n",
       "</defs>\n",
       "<path clip-path=\"url(#clip7000)\" d=\"\n",
       "M291.853 1425.62 L2352.76 1425.62 L2352.76 47.2441 L291.853 47.2441  Z\n",
       "  \" fill=\"#ffffff\" fill-rule=\"evenodd\" fill-opacity=\"1\"/>\n",
       "<defs>\n",
       "  <clipPath id=\"clip7002\">\n",
       "    <rect x=\"291\" y=\"47\" width=\"2062\" height=\"1379\"/>\n",
       "  </clipPath>\n",
       "</defs>\n",
       "<polyline clip-path=\"url(#clip7002)\" style=\"stroke:#000000; stroke-width:2; stroke-opacity:0.1; fill:none\" points=\"\n",
       "  534.44,1425.62 534.44,47.2441 \n",
       "  \"/>\n",
       "<polyline clip-path=\"url(#clip7002)\" style=\"stroke:#000000; stroke-width:2; stroke-opacity:0.1; fill:none\" points=\"\n",
       "  924.999,1425.62 924.999,47.2441 \n",
       "  \"/>\n",
       "<polyline clip-path=\"url(#clip7002)\" style=\"stroke:#000000; stroke-width:2; stroke-opacity:0.1; fill:none\" points=\"\n",
       "  1315.56,1425.62 1315.56,47.2441 \n",
       "  \"/>\n",
       "<polyline clip-path=\"url(#clip7002)\" style=\"stroke:#000000; stroke-width:2; stroke-opacity:0.1; fill:none\" points=\"\n",
       "  1706.12,1425.62 1706.12,47.2441 \n",
       "  \"/>\n",
       "<polyline clip-path=\"url(#clip7002)\" style=\"stroke:#000000; stroke-width:2; stroke-opacity:0.1; fill:none\" points=\"\n",
       "  2096.68,1425.62 2096.68,47.2441 \n",
       "  \"/>\n",
       "<polyline clip-path=\"url(#clip7002)\" style=\"stroke:#000000; stroke-width:2; stroke-opacity:0.1; fill:none\" points=\"\n",
       "  291.853,1249.46 2352.76,1249.46 \n",
       "  \"/>\n",
       "<polyline clip-path=\"url(#clip7002)\" style=\"stroke:#000000; stroke-width:2; stroke-opacity:0.1; fill:none\" points=\"\n",
       "  291.853,1071.15 2352.76,1071.15 \n",
       "  \"/>\n",
       "<polyline clip-path=\"url(#clip7002)\" style=\"stroke:#000000; stroke-width:2; stroke-opacity:0.1; fill:none\" points=\"\n",
       "  291.853,892.848 2352.76,892.848 \n",
       "  \"/>\n",
       "<polyline clip-path=\"url(#clip7002)\" style=\"stroke:#000000; stroke-width:2; stroke-opacity:0.1; fill:none\" points=\"\n",
       "  291.853,714.544 2352.76,714.544 \n",
       "  \"/>\n",
       "<polyline clip-path=\"url(#clip7002)\" style=\"stroke:#000000; stroke-width:2; stroke-opacity:0.1; fill:none\" points=\"\n",
       "  291.853,536.24 2352.76,536.24 \n",
       "  \"/>\n",
       "<polyline clip-path=\"url(#clip7002)\" style=\"stroke:#000000; stroke-width:2; stroke-opacity:0.1; fill:none\" points=\"\n",
       "  291.853,357.937 2352.76,357.937 \n",
       "  \"/>\n",
       "<polyline clip-path=\"url(#clip7002)\" style=\"stroke:#000000; stroke-width:2; stroke-opacity:0.1; fill:none\" points=\"\n",
       "  291.853,179.633 2352.76,179.633 \n",
       "  \"/>\n",
       "<polyline clip-path=\"url(#clip7000)\" style=\"stroke:#000000; stroke-width:4; stroke-opacity:1; fill:none\" points=\"\n",
       "  291.853,1425.62 2352.76,1425.62 \n",
       "  \"/>\n",
       "<polyline clip-path=\"url(#clip7000)\" style=\"stroke:#000000; stroke-width:4; stroke-opacity:1; fill:none\" points=\"\n",
       "  291.853,1425.62 291.853,47.2441 \n",
       "  \"/>\n",
       "<polyline clip-path=\"url(#clip7000)\" style=\"stroke:#000000; stroke-width:4; stroke-opacity:1; fill:none\" points=\"\n",
       "  534.44,1425.62 534.44,1409.08 \n",
       "  \"/>\n",
       "<polyline clip-path=\"url(#clip7000)\" style=\"stroke:#000000; stroke-width:4; stroke-opacity:1; fill:none\" points=\"\n",
       "  924.999,1425.62 924.999,1409.08 \n",
       "  \"/>\n",
       "<polyline clip-path=\"url(#clip7000)\" style=\"stroke:#000000; stroke-width:4; stroke-opacity:1; fill:none\" points=\"\n",
       "  1315.56,1425.62 1315.56,1409.08 \n",
       "  \"/>\n",
       "<polyline clip-path=\"url(#clip7000)\" style=\"stroke:#000000; stroke-width:4; stroke-opacity:1; fill:none\" points=\"\n",
       "  1706.12,1425.62 1706.12,1409.08 \n",
       "  \"/>\n",
       "<polyline clip-path=\"url(#clip7000)\" style=\"stroke:#000000; stroke-width:4; stroke-opacity:1; fill:none\" points=\"\n",
       "  2096.68,1425.62 2096.68,1409.08 \n",
       "  \"/>\n",
       "<polyline clip-path=\"url(#clip7000)\" style=\"stroke:#000000; stroke-width:4; stroke-opacity:1; fill:none\" points=\"\n",
       "  291.853,1249.46 316.584,1249.46 \n",
       "  \"/>\n",
       "<polyline clip-path=\"url(#clip7000)\" style=\"stroke:#000000; stroke-width:4; stroke-opacity:1; fill:none\" points=\"\n",
       "  291.853,1071.15 316.584,1071.15 \n",
       "  \"/>\n",
       "<polyline clip-path=\"url(#clip7000)\" style=\"stroke:#000000; stroke-width:4; stroke-opacity:1; fill:none\" points=\"\n",
       "  291.853,892.848 316.584,892.848 \n",
       "  \"/>\n",
       "<polyline clip-path=\"url(#clip7000)\" style=\"stroke:#000000; stroke-width:4; stroke-opacity:1; fill:none\" points=\"\n",
       "  291.853,714.544 316.584,714.544 \n",
       "  \"/>\n",
       "<polyline clip-path=\"url(#clip7000)\" style=\"stroke:#000000; stroke-width:4; stroke-opacity:1; fill:none\" points=\"\n",
       "  291.853,536.24 316.584,536.24 \n",
       "  \"/>\n",
       "<polyline clip-path=\"url(#clip7000)\" style=\"stroke:#000000; stroke-width:4; stroke-opacity:1; fill:none\" points=\"\n",
       "  291.853,357.937 316.584,357.937 \n",
       "  \"/>\n",
       "<polyline clip-path=\"url(#clip7000)\" style=\"stroke:#000000; stroke-width:4; stroke-opacity:1; fill:none\" points=\"\n",
       "  291.853,179.633 316.584,179.633 \n",
       "  \"/>\n",
       "<g clip-path=\"url(#clip7000)\">\n",
       "<text style=\"fill:#000000; fill-opacity:1; font-family:Arial,Helvetica Neue,Helvetica,sans-serif; font-size:48px; text-anchor:start;\" transform=\"rotate(0, 469.078, 1500.63)\" x=\"469.078\" y=\"1500.63\">10</text>\n",
       "</g>\n",
       "<g clip-path=\"url(#clip7000)\">\n",
       "<text style=\"fill:#000000; fill-opacity:1; font-family:Arial,Helvetica Neue,Helvetica,sans-serif; font-size:38px; text-anchor:start;\" transform=\"rotate(0, 522.602, 1473.22)\" x=\"522.602\" y=\"1473.22\">-</text>\n",
       "</g>\n",
       "<g clip-path=\"url(#clip7000)\">\n",
       "<text style=\"fill:#000000; fill-opacity:1; font-family:Arial,Helvetica Neue,Helvetica,sans-serif; font-size:38px; text-anchor:start;\" transform=\"rotate(0, 545.442, 1473.22)\" x=\"545.442\" y=\"1473.22\">20 </text>\n",
       "</g>\n",
       "<g clip-path=\"url(#clip7000)\">\n",
       "<text style=\"fill:#000000; fill-opacity:1; font-family:Arial,Helvetica Neue,Helvetica,sans-serif; font-size:48px; text-anchor:start;\" transform=\"rotate(0, 859.637, 1500.63)\" x=\"859.637\" y=\"1500.63\">10</text>\n",
       "</g>\n",
       "<g clip-path=\"url(#clip7000)\">\n",
       "<text style=\"fill:#000000; fill-opacity:1; font-family:Arial,Helvetica Neue,Helvetica,sans-serif; font-size:38px; text-anchor:start;\" transform=\"rotate(0, 913.161, 1473.22)\" x=\"913.161\" y=\"1473.22\">-</text>\n",
       "</g>\n",
       "<g clip-path=\"url(#clip7000)\">\n",
       "<text style=\"fill:#000000; fill-opacity:1; font-family:Arial,Helvetica Neue,Helvetica,sans-serif; font-size:38px; text-anchor:start;\" transform=\"rotate(0, 936.001, 1473.22)\" x=\"936.001\" y=\"1473.22\">18 </text>\n",
       "</g>\n",
       "<g clip-path=\"url(#clip7000)\">\n",
       "<text style=\"fill:#000000; fill-opacity:1; font-family:Arial,Helvetica Neue,Helvetica,sans-serif; font-size:48px; text-anchor:start;\" transform=\"rotate(0, 1250.2, 1500.63)\" x=\"1250.2\" y=\"1500.63\">10</text>\n",
       "</g>\n",
       "<g clip-path=\"url(#clip7000)\">\n",
       "<text style=\"fill:#000000; fill-opacity:1; font-family:Arial,Helvetica Neue,Helvetica,sans-serif; font-size:38px; text-anchor:start;\" transform=\"rotate(0, 1303.72, 1473.22)\" x=\"1303.72\" y=\"1473.22\">-</text>\n",
       "</g>\n",
       "<g clip-path=\"url(#clip7000)\">\n",
       "<text style=\"fill:#000000; fill-opacity:1; font-family:Arial,Helvetica Neue,Helvetica,sans-serif; font-size:38px; text-anchor:start;\" transform=\"rotate(0, 1326.56, 1473.22)\" x=\"1326.56\" y=\"1473.22\">16 </text>\n",
       "</g>\n",
       "<g clip-path=\"url(#clip7000)\">\n",
       "<text style=\"fill:#000000; fill-opacity:1; font-family:Arial,Helvetica Neue,Helvetica,sans-serif; font-size:48px; text-anchor:start;\" transform=\"rotate(0, 1640.75, 1500.63)\" x=\"1640.75\" y=\"1500.63\">10</text>\n",
       "</g>\n",
       "<g clip-path=\"url(#clip7000)\">\n",
       "<text style=\"fill:#000000; fill-opacity:1; font-family:Arial,Helvetica Neue,Helvetica,sans-serif; font-size:38px; text-anchor:start;\" transform=\"rotate(0, 1694.28, 1473.22)\" x=\"1694.28\" y=\"1473.22\">-</text>\n",
       "</g>\n",
       "<g clip-path=\"url(#clip7000)\">\n",
       "<text style=\"fill:#000000; fill-opacity:1; font-family:Arial,Helvetica Neue,Helvetica,sans-serif; font-size:38px; text-anchor:start;\" transform=\"rotate(0, 1717.12, 1473.22)\" x=\"1717.12\" y=\"1473.22\">14 </text>\n",
       "</g>\n",
       "<g clip-path=\"url(#clip7000)\">\n",
       "<text style=\"fill:#000000; fill-opacity:1; font-family:Arial,Helvetica Neue,Helvetica,sans-serif; font-size:48px; text-anchor:start;\" transform=\"rotate(0, 2031.31, 1500.63)\" x=\"2031.31\" y=\"1500.63\">10</text>\n",
       "</g>\n",
       "<g clip-path=\"url(#clip7000)\">\n",
       "<text style=\"fill:#000000; fill-opacity:1; font-family:Arial,Helvetica Neue,Helvetica,sans-serif; font-size:38px; text-anchor:start;\" transform=\"rotate(0, 2084.84, 1473.22)\" x=\"2084.84\" y=\"1473.22\">-</text>\n",
       "</g>\n",
       "<g clip-path=\"url(#clip7000)\">\n",
       "<text style=\"fill:#000000; fill-opacity:1; font-family:Arial,Helvetica Neue,Helvetica,sans-serif; font-size:38px; text-anchor:start;\" transform=\"rotate(0, 2107.68, 1473.22)\" x=\"2107.68\" y=\"1473.22\">12 </text>\n",
       "</g>\n",
       "<g clip-path=\"url(#clip7000)\">\n",
       "<text style=\"fill:#000000; fill-opacity:1; font-family:Arial,Helvetica Neue,Helvetica,sans-serif; font-size:48px; text-anchor:start;\" transform=\"rotate(0, 149.096, 1273.18)\" x=\"149.096\" y=\"1273.18\">10</text>\n",
       "</g>\n",
       "<g clip-path=\"url(#clip7000)\">\n",
       "<text style=\"fill:#000000; fill-opacity:1; font-family:Arial,Helvetica Neue,Helvetica,sans-serif; font-size:38px; text-anchor:start;\" transform=\"rotate(0, 202.62, 1245.77)\" x=\"202.62\" y=\"1245.77\">0.2 </text>\n",
       "</g>\n",
       "<g clip-path=\"url(#clip7000)\">\n",
       "<text style=\"fill:#000000; fill-opacity:1; font-family:Arial,Helvetica Neue,Helvetica,sans-serif; font-size:48px; text-anchor:start;\" transform=\"rotate(0, 149.096, 1094.88)\" x=\"149.096\" y=\"1094.88\">10</text>\n",
       "</g>\n",
       "<g clip-path=\"url(#clip7000)\">\n",
       "<text style=\"fill:#000000; fill-opacity:1; font-family:Arial,Helvetica Neue,Helvetica,sans-serif; font-size:38px; text-anchor:start;\" transform=\"rotate(0, 202.62, 1067.47)\" x=\"202.62\" y=\"1067.47\">0.3 </text>\n",
       "</g>\n",
       "<g clip-path=\"url(#clip7000)\">\n",
       "<text style=\"fill:#000000; fill-opacity:1; font-family:Arial,Helvetica Neue,Helvetica,sans-serif; font-size:48px; text-anchor:start;\" transform=\"rotate(0, 149.096, 916.576)\" x=\"149.096\" y=\"916.576\">10</text>\n",
       "</g>\n",
       "<g clip-path=\"url(#clip7000)\">\n",
       "<text style=\"fill:#000000; fill-opacity:1; font-family:Arial,Helvetica Neue,Helvetica,sans-serif; font-size:38px; text-anchor:start;\" transform=\"rotate(0, 202.62, 889.165)\" x=\"202.62\" y=\"889.165\">0.4 </text>\n",
       "</g>\n",
       "<g clip-path=\"url(#clip7000)\">\n",
       "<text style=\"fill:#000000; fill-opacity:1; font-family:Arial,Helvetica Neue,Helvetica,sans-serif; font-size:48px; text-anchor:start;\" transform=\"rotate(0, 149.096, 738.272)\" x=\"149.096\" y=\"738.272\">10</text>\n",
       "</g>\n",
       "<g clip-path=\"url(#clip7000)\">\n",
       "<text style=\"fill:#000000; fill-opacity:1; font-family:Arial,Helvetica Neue,Helvetica,sans-serif; font-size:38px; text-anchor:start;\" transform=\"rotate(0, 202.62, 710.861)\" x=\"202.62\" y=\"710.861\">0.5 </text>\n",
       "</g>\n",
       "<g clip-path=\"url(#clip7000)\">\n",
       "<text style=\"fill:#000000; fill-opacity:1; font-family:Arial,Helvetica Neue,Helvetica,sans-serif; font-size:48px; text-anchor:start;\" transform=\"rotate(0, 149.096, 559.968)\" x=\"149.096\" y=\"559.968\">10</text>\n",
       "</g>\n",
       "<g clip-path=\"url(#clip7000)\">\n",
       "<text style=\"fill:#000000; fill-opacity:1; font-family:Arial,Helvetica Neue,Helvetica,sans-serif; font-size:38px; text-anchor:start;\" transform=\"rotate(0, 202.62, 532.558)\" x=\"202.62\" y=\"532.558\">0.6 </text>\n",
       "</g>\n",
       "<g clip-path=\"url(#clip7000)\">\n",
       "<text style=\"fill:#000000; fill-opacity:1; font-family:Arial,Helvetica Neue,Helvetica,sans-serif; font-size:48px; text-anchor:start;\" transform=\"rotate(0, 149.096, 381.664)\" x=\"149.096\" y=\"381.664\">10</text>\n",
       "</g>\n",
       "<g clip-path=\"url(#clip7000)\">\n",
       "<text style=\"fill:#000000; fill-opacity:1; font-family:Arial,Helvetica Neue,Helvetica,sans-serif; font-size:38px; text-anchor:start;\" transform=\"rotate(0, 202.62, 354.254)\" x=\"202.62\" y=\"354.254\">0.7 </text>\n",
       "</g>\n",
       "<g clip-path=\"url(#clip7000)\">\n",
       "<text style=\"fill:#000000; fill-opacity:1; font-family:Arial,Helvetica Neue,Helvetica,sans-serif; font-size:48px; text-anchor:start;\" transform=\"rotate(0, 149.096, 203.36)\" x=\"149.096\" y=\"203.36\">10</text>\n",
       "</g>\n",
       "<g clip-path=\"url(#clip7000)\">\n",
       "<text style=\"fill:#000000; fill-opacity:1; font-family:Arial,Helvetica Neue,Helvetica,sans-serif; font-size:38px; text-anchor:start;\" transform=\"rotate(0, 202.62, 175.95)\" x=\"202.62\" y=\"175.95\">0.8 </text>\n",
       "</g>\n",
       "<g clip-path=\"url(#clip7000)\">\n",
       "<text style=\"fill:#000000; fill-opacity:1; font-family:Arial,Helvetica Neue,Helvetica,sans-serif; font-size:66px; text-anchor:middle;\" transform=\"rotate(0, 1322.3, 1559.48)\" x=\"1322.3\" y=\"1559.48\">Error</text>\n",
       "</g>\n",
       "<g clip-path=\"url(#clip7000)\">\n",
       "<text style=\"fill:#000000; fill-opacity:1; font-family:Arial,Helvetica Neue,Helvetica,sans-serif; font-size:66px; text-anchor:middle;\" transform=\"rotate(-90, 89.2861, 736.431)\" x=\"89.2861\" y=\"736.431\">Time (s)</text>\n",
       "</g>\n",
       "<polyline clip-path=\"url(#clip7002)\" style=\"stroke:#009af9; stroke-width:12; stroke-opacity:1; fill:none\" points=\"\n",
       "  2294.43,596.23 2054.3,550.002 1902.65,526.873 1679.29,506.936 1503.62,438.519 1397.19,402.645 1112.73,334.149 959.368,152.874 734.117,185.527 549.852,177.405 \n",
       "  350.181,86.2547 \n",
       "  \"/>\n",
       "<circle clip-path=\"url(#clip7002)\" style=\"fill:#000000; stroke:none; fill-opacity:1\" cx=\"2294.43\" cy=\"596.23\" r=\"18\"/>\n",
       "<circle clip-path=\"url(#clip7002)\" style=\"fill:#009af9; stroke:none; fill-opacity:1\" cx=\"2294.43\" cy=\"596.23\" r=\"14\"/>\n",
       "<circle clip-path=\"url(#clip7002)\" style=\"fill:#000000; stroke:none; fill-opacity:1\" cx=\"2054.3\" cy=\"550.002\" r=\"18\"/>\n",
       "<circle clip-path=\"url(#clip7002)\" style=\"fill:#009af9; stroke:none; fill-opacity:1\" cx=\"2054.3\" cy=\"550.002\" r=\"14\"/>\n",
       "<circle clip-path=\"url(#clip7002)\" style=\"fill:#000000; stroke:none; fill-opacity:1\" cx=\"1902.65\" cy=\"526.873\" r=\"18\"/>\n",
       "<circle clip-path=\"url(#clip7002)\" style=\"fill:#009af9; stroke:none; fill-opacity:1\" cx=\"1902.65\" cy=\"526.873\" r=\"14\"/>\n",
       "<circle clip-path=\"url(#clip7002)\" style=\"fill:#000000; stroke:none; fill-opacity:1\" cx=\"1679.29\" cy=\"506.936\" r=\"18\"/>\n",
       "<circle clip-path=\"url(#clip7002)\" style=\"fill:#009af9; stroke:none; fill-opacity:1\" cx=\"1679.29\" cy=\"506.936\" r=\"14\"/>\n",
       "<circle clip-path=\"url(#clip7002)\" style=\"fill:#000000; stroke:none; fill-opacity:1\" cx=\"1503.62\" cy=\"438.519\" r=\"18\"/>\n",
       "<circle clip-path=\"url(#clip7002)\" style=\"fill:#009af9; stroke:none; fill-opacity:1\" cx=\"1503.62\" cy=\"438.519\" r=\"14\"/>\n",
       "<circle clip-path=\"url(#clip7002)\" style=\"fill:#000000; stroke:none; fill-opacity:1\" cx=\"1397.19\" cy=\"402.645\" r=\"18\"/>\n",
       "<circle clip-path=\"url(#clip7002)\" style=\"fill:#009af9; stroke:none; fill-opacity:1\" cx=\"1397.19\" cy=\"402.645\" r=\"14\"/>\n",
       "<circle clip-path=\"url(#clip7002)\" style=\"fill:#000000; stroke:none; fill-opacity:1\" cx=\"1112.73\" cy=\"334.149\" r=\"18\"/>\n",
       "<circle clip-path=\"url(#clip7002)\" style=\"fill:#009af9; stroke:none; fill-opacity:1\" cx=\"1112.73\" cy=\"334.149\" r=\"14\"/>\n",
       "<circle clip-path=\"url(#clip7002)\" style=\"fill:#000000; stroke:none; fill-opacity:1\" cx=\"959.368\" cy=\"152.874\" r=\"18\"/>\n",
       "<circle clip-path=\"url(#clip7002)\" style=\"fill:#009af9; stroke:none; fill-opacity:1\" cx=\"959.368\" cy=\"152.874\" r=\"14\"/>\n",
       "<circle clip-path=\"url(#clip7002)\" style=\"fill:#000000; stroke:none; fill-opacity:1\" cx=\"734.117\" cy=\"185.527\" r=\"18\"/>\n",
       "<circle clip-path=\"url(#clip7002)\" style=\"fill:#009af9; stroke:none; fill-opacity:1\" cx=\"734.117\" cy=\"185.527\" r=\"14\"/>\n",
       "<circle clip-path=\"url(#clip7002)\" style=\"fill:#000000; stroke:none; fill-opacity:1\" cx=\"549.852\" cy=\"177.405\" r=\"18\"/>\n",
       "<circle clip-path=\"url(#clip7002)\" style=\"fill:#009af9; stroke:none; fill-opacity:1\" cx=\"549.852\" cy=\"177.405\" r=\"14\"/>\n",
       "<circle clip-path=\"url(#clip7002)\" style=\"fill:#000000; stroke:none; fill-opacity:1\" cx=\"350.181\" cy=\"86.2547\" r=\"18\"/>\n",
       "<circle clip-path=\"url(#clip7002)\" style=\"fill:#009af9; stroke:none; fill-opacity:1\" cx=\"350.181\" cy=\"86.2547\" r=\"14\"/>\n",
       "<polyline clip-path=\"url(#clip7002)\" style=\"stroke:#e26f46; stroke-width:12; stroke-opacity:1; fill:none\" points=\"\n",
       "  2294.43,1386.61 2054.3,1340.96 1902.65,1257.94 1679.29,1258.68 1503.62,1157.85 1397.19,1064.15 1112.73,1024.4 959.368,906.663 734.117,819.086 549.852,718.368 \n",
       "  350.181,649.476 \n",
       "  \"/>\n",
       "<polygon clip-path=\"url(#clip7002)\" style=\"fill:#000000; fill-opacity:1\" points=\"\n",
       "  2274.43,1366.61 2274.43,1406.61 2314.43,1406.61 2314.43,1366.61 2274.43,1366.61 \n",
       "  \"/>\n",
       "<polygon clip-path=\"url(#clip7002)\" style=\"fill:#e26f46; fill-opacity:1\" points=\"\n",
       "  2278.43,1370.61 2278.43,1402.61 2310.43,1402.61 2310.43,1370.61 2278.43,1370.61 \n",
       "  \"/>\n",
       "<polygon clip-path=\"url(#clip7002)\" style=\"fill:#000000; fill-opacity:1\" points=\"\n",
       "  2034.3,1320.96 2034.3,1360.96 2074.3,1360.96 2074.3,1320.96 2034.3,1320.96 \n",
       "  \"/>\n",
       "<polygon clip-path=\"url(#clip7002)\" style=\"fill:#e26f46; fill-opacity:1\" points=\"\n",
       "  2038.3,1324.96 2038.3,1356.96 2070.3,1356.96 2070.3,1324.96 2038.3,1324.96 \n",
       "  \"/>\n",
       "<polygon clip-path=\"url(#clip7002)\" style=\"fill:#000000; fill-opacity:1\" points=\"\n",
       "  1882.65,1237.94 1882.65,1277.94 1922.65,1277.94 1922.65,1237.94 1882.65,1237.94 \n",
       "  \"/>\n",
       "<polygon clip-path=\"url(#clip7002)\" style=\"fill:#e26f46; fill-opacity:1\" points=\"\n",
       "  1886.65,1241.94 1886.65,1273.94 1918.65,1273.94 1918.65,1241.94 1886.65,1241.94 \n",
       "  \"/>\n",
       "<polygon clip-path=\"url(#clip7002)\" style=\"fill:#000000; fill-opacity:1\" points=\"\n",
       "  1659.29,1238.68 1659.29,1278.68 1699.29,1278.68 1699.29,1238.68 1659.29,1238.68 \n",
       "  \"/>\n",
       "<polygon clip-path=\"url(#clip7002)\" style=\"fill:#e26f46; fill-opacity:1\" points=\"\n",
       "  1663.29,1242.68 1663.29,1274.68 1695.29,1274.68 1695.29,1242.68 1663.29,1242.68 \n",
       "  \"/>\n",
       "<polygon clip-path=\"url(#clip7002)\" style=\"fill:#000000; fill-opacity:1\" points=\"\n",
       "  1483.62,1137.85 1483.62,1177.85 1523.62,1177.85 1523.62,1137.85 1483.62,1137.85 \n",
       "  \"/>\n",
       "<polygon clip-path=\"url(#clip7002)\" style=\"fill:#e26f46; fill-opacity:1\" points=\"\n",
       "  1487.62,1141.85 1487.62,1173.85 1519.62,1173.85 1519.62,1141.85 1487.62,1141.85 \n",
       "  \"/>\n",
       "<polygon clip-path=\"url(#clip7002)\" style=\"fill:#000000; fill-opacity:1\" points=\"\n",
       "  1377.19,1044.15 1377.19,1084.15 1417.19,1084.15 1417.19,1044.15 1377.19,1044.15 \n",
       "  \"/>\n",
       "<polygon clip-path=\"url(#clip7002)\" style=\"fill:#e26f46; fill-opacity:1\" points=\"\n",
       "  1381.19,1048.15 1381.19,1080.15 1413.19,1080.15 1413.19,1048.15 1381.19,1048.15 \n",
       "  \"/>\n",
       "<polygon clip-path=\"url(#clip7002)\" style=\"fill:#000000; fill-opacity:1\" points=\"\n",
       "  1092.73,1004.4 1092.73,1044.4 1132.73,1044.4 1132.73,1004.4 1092.73,1004.4 \n",
       "  \"/>\n",
       "<polygon clip-path=\"url(#clip7002)\" style=\"fill:#e26f46; fill-opacity:1\" points=\"\n",
       "  1096.73,1008.4 1096.73,1040.4 1128.73,1040.4 1128.73,1008.4 1096.73,1008.4 \n",
       "  \"/>\n",
       "<polygon clip-path=\"url(#clip7002)\" style=\"fill:#000000; fill-opacity:1\" points=\"\n",
       "  939.368,886.663 939.368,926.663 979.368,926.663 979.368,886.663 939.368,886.663 \n",
       "  \"/>\n",
       "<polygon clip-path=\"url(#clip7002)\" style=\"fill:#e26f46; fill-opacity:1\" points=\"\n",
       "  943.368,890.663 943.368,922.663 975.368,922.663 975.368,890.663 943.368,890.663 \n",
       "  \"/>\n",
       "<polygon clip-path=\"url(#clip7002)\" style=\"fill:#000000; fill-opacity:1\" points=\"\n",
       "  714.117,799.086 714.117,839.086 754.117,839.086 754.117,799.086 714.117,799.086 \n",
       "  \"/>\n",
       "<polygon clip-path=\"url(#clip7002)\" style=\"fill:#e26f46; fill-opacity:1\" points=\"\n",
       "  718.117,803.086 718.117,835.086 750.117,835.086 750.117,803.086 718.117,803.086 \n",
       "  \"/>\n",
       "<polygon clip-path=\"url(#clip7002)\" style=\"fill:#000000; fill-opacity:1\" points=\"\n",
       "  529.852,698.368 529.852,738.368 569.852,738.368 569.852,698.368 529.852,698.368 \n",
       "  \"/>\n",
       "<polygon clip-path=\"url(#clip7002)\" style=\"fill:#e26f46; fill-opacity:1\" points=\"\n",
       "  533.852,702.368 533.852,734.368 565.852,734.368 565.852,702.368 533.852,702.368 \n",
       "  \"/>\n",
       "<polygon clip-path=\"url(#clip7002)\" style=\"fill:#000000; fill-opacity:1\" points=\"\n",
       "  330.181,629.476 330.181,669.476 370.181,669.476 370.181,629.476 330.181,629.476 \n",
       "  \"/>\n",
       "<polygon clip-path=\"url(#clip7002)\" style=\"fill:#e26f46; fill-opacity:1\" points=\"\n",
       "  334.181,633.476 334.181,665.476 366.181,665.476 366.181,633.476 334.181,633.476 \n",
       "  \"/>\n",
       "<path clip-path=\"url(#clip7000)\" d=\"\n",
       "M1842.78 312.204 L2280.76 312.204 L2280.76 130.764 L1842.78 130.764  Z\n",
       "  \" fill=\"#ffffff\" fill-rule=\"evenodd\" fill-opacity=\"1\"/>\n",
       "<polyline clip-path=\"url(#clip7000)\" style=\"stroke:#000000; stroke-width:4; stroke-opacity:1; fill:none\" points=\"\n",
       "  1842.78,312.204 2280.76,312.204 2280.76,130.764 1842.78,130.764 1842.78,312.204 \n",
       "  \"/>\n",
       "<polyline clip-path=\"url(#clip7000)\" style=\"stroke:#009af9; stroke-width:12; stroke-opacity:1; fill:none\" points=\"\n",
       "  1866.78,191.244 2010.78,191.244 \n",
       "  \"/>\n",
       "<circle clip-path=\"url(#clip7000)\" style=\"fill:#000000; stroke:none; fill-opacity:1\" cx=\"1950.78\" cy=\"191.244\" r=\"25\"/>\n",
       "<circle clip-path=\"url(#clip7000)\" style=\"fill:#009af9; stroke:none; fill-opacity:1\" cx=\"1950.78\" cy=\"191.244\" r=\"21\"/>\n",
       "<g clip-path=\"url(#clip7000)\">\n",
       "<text style=\"fill:#000000; fill-opacity:1; font-family:Arial,Helvetica Neue,Helvetica,sans-serif; font-size:48px; text-anchor:start;\" transform=\"rotate(0, 2034.78, 208.744)\" x=\"2034.78\" y=\"208.744\">IRKGL16</text>\n",
       "</g>\n",
       "<polyline clip-path=\"url(#clip7000)\" style=\"stroke:#e26f46; stroke-width:12; stroke-opacity:1; fill:none\" points=\"\n",
       "  1866.78,251.724 2010.78,251.724 \n",
       "  \"/>\n",
       "<polygon clip-path=\"url(#clip7000)\" style=\"fill:#000000; fill-opacity:1\" points=\"\n",
       "  1922.78,223.724 1922.78,279.724 1978.78,279.724 1978.78,223.724 1922.78,223.724 \n",
       "  \"/>\n",
       "<polygon clip-path=\"url(#clip7000)\" style=\"fill:#e26f46; fill-opacity:1\" points=\"\n",
       "  1926.78,227.724 1926.78,275.724 1974.78,275.724 1974.78,227.724 1926.78,227.724 \n",
       "  \"/>\n",
       "<g clip-path=\"url(#clip7000)\">\n",
       "<text style=\"fill:#000000; fill-opacity:1; font-family:Arial,Helvetica Neue,Helvetica,sans-serif; font-size:48px; text-anchor:start;\" transform=\"rotate(0, 2034.78, 269.224)\" x=\"2034.78\" y=\"269.224\">IRKGL16</text>\n",
       "</g>\n",
       "</svg>\n"
      ]
     },
     "execution_count": 21,
     "metadata": {},
     "output_type": "execute_result"
    }
   ],
   "source": [
    "setups = [ Dict(:alg=>Vern9())\n",
    "           Dict(:alg=>IRKGL16(),:adaptive=>true, :mixed_precision=>false)\n",
    "           Dict(:alg=>IRKGL16(),:adaptive=>true, :mixed_precision=>false,:low_prec_type=>Float64))\n",
    "           Dict(:alg=>IRKGL16(),:adaptive=>false,:dts=>dts,:mixed_precision=>false) \n",
    "           Dict(:alg=>IRKGL16(),:adaptive=>false,:dts=>dts,:mixed_precision=>true,:low_prec_type=>Float64)\n",
    "]\n",
    "wp1 = WorkPrecisionSet(prob128,abstols,reltols,setups;appxsol=test_sol,save_everystep=false,numruns=1,maxiters=1000000)\n",
    "plot(wp1)"
   ]
  },
  {
   "cell_type": "code",
   "execution_count": null,
   "metadata": {},
   "outputs": [],
   "source": [
    "now()"
   ]
  },
  {
   "cell_type": "markdown",
   "metadata": {},
   "source": [
    "### Dynamical Problem"
   ]
  },
  {
   "cell_type": "code",
   "execution_count": 22,
   "metadata": {},
   "outputs": [],
   "source": [
    "ux=sol.u[end]\n",
    "solx=ArrayPartition(ux[2,:,:],ux[1,:,:])\n",
    "test_solx = TestSolution(tspan128,[solx]);"
   ]
  },
  {
   "cell_type": "code",
   "execution_count": 23,
   "metadata": {},
   "outputs": [],
   "source": [
    "setups = [ Dict(:alg=>Vern9())\n",
    "           Dict(:alg=>IRKGL163(),:adaptive=>false,:dts=>dts,:mixed_precision=>true,:low_prec_type=>Float64)\n",
    "]\n",
    "wp2 = WorkPrecisionSet(probdyn128,abstols,reltols,setups;appxsol=test_solx,save_everystep=false,numruns=1,maxiters=1000000)\n",
    "plot(wp2)"
   ]
  },
  {
   "cell_type": "markdown",
   "metadata": {},
   "source": [
    "### SeconOrderProblem"
   ]
  },
  {
   "cell_type": "code",
   "execution_count": null,
   "metadata": {},
   "outputs": [],
   "source": [
    "using RecursiveArrayTools\n",
    "prob2nd128 = SecondOrderODEProblem(NbodyODE2nd!,v0128,q0128,tspan128,Gm128);"
   ]
  },
  {
   "cell_type": "code",
   "execution_count": null,
   "metadata": {},
   "outputs": [],
   "source": [
    "solx=ArrayPartition(ux[2,:,:],ux[1,:,:])\n",
    "test_solx = TestSolution(tspan128,[solx]);"
   ]
  },
  {
   "cell_type": "code",
   "execution_count": 24,
   "metadata": {},
   "outputs": [],
   "source": [
    "setups = [\n",
    "          Dict(:alg=>DPRKN12())   \n",
    "]\n",
    "wp3 = WorkPrecisionSet(prob2nd128,abstols,reltols,setups;appxsol=test_solx,save_everystep=false,numruns=1,maxiters=100000)\n",
    "plot(wp3)\n",
    "\n"
   ]
  },
  {
   "cell_type": "markdown",
   "metadata": {},
   "source": [
    "<a href=\"#top\">Back to the top</a>"
   ]
  }
 ],
 "metadata": {
  "kernelspec": {
   "display_name": "Julia 1.3.1",
   "language": "julia",
   "name": "julia-1.3"
  },
  "language_info": {
   "file_extension": ".jl",
   "mimetype": "application/julia",
   "name": "julia",
   "version": "1.3.1"
  }
 },
 "nbformat": 4,
 "nbformat_minor": 2
}
