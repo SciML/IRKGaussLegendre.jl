{
 "cells": [
  {
   "cell_type": "markdown",
   "metadata": {},
   "source": [
    "# NLS: Non Linear Schodinger (Mixed-Precision)"
   ]
  },
  {
   "cell_type": "markdown",
   "metadata": {},
   "source": [
    "<ul id=\"top\">\n",
    "<li><a href=\"#Loading-packages\"> \n",
    "             Loading Packages</a></li>\n",
    "    \n",
    "<li><a href=\"#Computer-properties\"> \n",
    "             Computer properties</a></li>  \n",
    "\n",
    "<li><a href=\"#Initial-value-problem:-NLS\">\n",
    "             Initial value problem: NLS</a></li>\n",
    "\n",
    "<li><a href=\"#Test-solution\">\n",
    "             Test solution</a></li>\n",
    "             \n",
    "<li><a href=\"#Float64-Computations\">\n",
    "             Float64 Computations</a></li>\n",
    "\n",
    "<li><a href=\"#Float128-Computations\">\n",
    "             Float128 Computations</a></li> \n",
    "\n",
    "<li><a href=\"#Work-Precision-diagrams\">\n",
    "             Work-Precision diagrams</a></li> \n",
    "\n",
    "</ul>  "
   ]
  },
  {
   "cell_type": "markdown",
   "metadata": {},
   "source": [
    "## Loading packages"
   ]
  },
  {
   "cell_type": "code",
   "execution_count": 1,
   "metadata": {},
   "outputs": [],
   "source": [
    "using OrdinaryDiffEq,DiffEqDevTools,BenchmarkTools\n",
    "using IRKGaussLegendre\n",
    "using Plots,LinearAlgebra\n",
    "using Dates\n",
    "using JLD2, FileIO"
   ]
  },
  {
   "cell_type": "code",
   "execution_count": 2,
   "metadata": {},
   "outputs": [],
   "source": [
    "#plotly()"
   ]
  },
  {
   "cell_type": "markdown",
   "metadata": {},
   "source": [
    "<a href=\"#top\">Back to the top</a>\n",
    "\n",
    "## Computer properties"
   ]
  },
  {
   "cell_type": "code",
   "execution_count": 3,
   "metadata": {},
   "outputs": [
    {
     "data": {
      "text/plain": [
       "1"
      ]
     },
     "execution_count": 3,
     "metadata": {},
     "output_type": "execute_result"
    }
   ],
   "source": [
    "#export JULIA_NUM_THREADS=2\n",
    "Threads.nthreads()"
   ]
  },
  {
   "cell_type": "code",
   "execution_count": 4,
   "metadata": {},
   "outputs": [],
   "source": [
    "#;cat /proc/cpuinfo # on Linux machines"
   ]
  },
  {
   "cell_type": "code",
   "execution_count": 5,
   "metadata": {},
   "outputs": [
    {
     "data": {
      "text/plain": [
       "2"
      ]
     },
     "execution_count": 5,
     "metadata": {},
     "output_type": "execute_result"
    }
   ],
   "source": [
    "using Hwloc\n",
    "Hwloc.num_physical_cores()"
   ]
  },
  {
   "cell_type": "markdown",
   "metadata": {},
   "source": [
    "<a href=\"#top\">Back to the top</a>\n",
    "\n",
    "## Initial value problem: NLS"
   ]
  },
  {
   "cell_type": "code",
   "execution_count": 6,
   "metadata": {},
   "outputs": [],
   "source": [
    "include(\"../examples/NLS.jl\")\n",
    "include(\"../examples/InitialNLS.jl\")\n",
    "\n",
    "t0=0.0\n",
    "t1=3.0\n",
    "\n",
    "u064 =InitialNLS(Float64)\n",
    "tspan64=(t0,t1)\n",
    "prob64 = ODEProblem(NLSODE!,u064,tspan64)\n",
    "\n",
    "setprecision(BigFloat, 108);\n",
    "u0128 =InitialNLS(BigFloat)\n",
    "tspan128=(BigFloat(t0),BigFloat(t1))\n",
    "prob128 = ODEProblem(NLSODE!,u0128,tspan128);"
   ]
  },
  {
   "cell_type": "markdown",
   "metadata": {},
   "source": [
    "<a href=\"#top\">Back to the top</a>\n",
    "\n",
    "## Test solution"
   ]
  },
  {
   "cell_type": "code",
   "execution_count": 7,
   "metadata": {},
   "outputs": [
    {
     "ename": "InterruptException",
     "evalue": "InterruptException:",
     "output_type": "error",
     "traceback": [
      "InterruptException:",
      "",
      "Stacktrace:",
      " [1] _string_n at ./strings/string.jl:60 [inlined]",
      " [2] (::Base.MPFR.var\"#BigFloat#3#4\")(::Int64, ::Type{BigFloat}) at ./mpfr.jl:115",
      " [3] BigFloat at ./mpfr.jl:112 [inlined]",
      " [4] *(::BigFloat, ::Int64) at ./mpfr.jl:393",
      " [5] * at ./mpfr.jl:397 [inlined]",
      " [6] * at ./operators.jl:529 [inlined]",
      " [7] NLSODE!(::Array{BigFloat,1}, ::Array{BigFloat,1}, ::DiffEqBase.NullParameters, ::BigFloat) at /home/joseba/Mahaigaina/PIC/PIC-2019/ikerketak/Julia Con/Softwarea/7-IRK/IRKGaussLegendre/examples/NLS.jl:46",
      " [8] ODEFunction at /home/joseba/.julia/packages/DiffEqBase/ytZvl/src/diffeqfunction.jl:248 [inlined]",
      " [9] perform_step!(::OrdinaryDiffEq.ODEIntegrator{Vern9,true,Array{BigFloat,1},Nothing,BigFloat,DiffEqBase.NullParameters,BigFloat,BigFloat,BigFloat,Array{Array{BigFloat,1},1},ODESolution{BigFloat,2,Array{Array{BigFloat,1},1},Nothing,Nothing,Array{BigFloat,1},Array{Array{Array{BigFloat,1},1},1},ODEProblem{Array{BigFloat,1},Tuple{BigFloat,BigFloat},true,DiffEqBase.NullParameters,ODEFunction{true,typeof(NLSODE!),UniformScaling{Bool},Nothing,Nothing,Nothing,Nothing,Nothing,Nothing,Nothing,Nothing,Nothing,Nothing,Nothing},Base.Iterators.Pairs{Union{},Union{},Tuple{},NamedTuple{(),Tuple{}}},DiffEqBase.StandardODEProblem},Vern9,OrdinaryDiffEq.InterpolationData{ODEFunction{true,typeof(NLSODE!),UniformScaling{Bool},Nothing,Nothing,Nothing,Nothing,Nothing,Nothing,Nothing,Nothing,Nothing,Nothing,Nothing},Array{Array{BigFloat,1},1},Array{BigFloat,1},Array{Array{Array{BigFloat,1},1},1},OrdinaryDiffEq.Vern9Cache{Array{BigFloat,1},Array{BigFloat,1},Array{BigFloat,1},OrdinaryDiffEq.Vern9Tableau{BigFloat,BigFloat}}},DiffEqBase.DEStats},ODEFunction{true,typeof(NLSODE!),UniformScaling{Bool},Nothing,Nothing,Nothing,Nothing,Nothing,Nothing,Nothing,Nothing,Nothing,Nothing,Nothing},OrdinaryDiffEq.Vern9Cache{Array{BigFloat,1},Array{BigFloat,1},Array{BigFloat,1},OrdinaryDiffEq.Vern9Tableau{BigFloat,BigFloat}},OrdinaryDiffEq.DEOptions{Float64,Float64,BigFloat,BigFloat,typeof(DiffEqBase.ODE_DEFAULT_NORM),typeof(opnorm),CallbackSet{Tuple{},Tuple{}},typeof(DiffEqBase.ODE_DEFAULT_ISOUTOFDOMAIN),typeof(DiffEqBase.ODE_DEFAULT_PROG_MESSAGE),typeof(DiffEqBase.ODE_DEFAULT_UNSTABLE_CHECK),DataStructures.BinaryHeap{BigFloat,DataStructures.LessThan},DataStructures.BinaryHeap{BigFloat,DataStructures.LessThan},Nothing,Nothing,Int64,Array{BigFloat,1},Array{BigFloat,1},Array{BigFloat,1}},Array{BigFloat,1},BigFloat,Nothing,OrdinaryDiffEq.DefaultInit}, ::OrdinaryDiffEq.Vern9Cache{Array{BigFloat,1},Array{BigFloat,1},Array{BigFloat,1},OrdinaryDiffEq.Vern9Tableau{BigFloat,BigFloat}}, ::Bool) at /home/joseba/.julia/packages/OrdinaryDiffEq/ndQ2Z/src/perform_step/verner_rk_perform_step.jl:556",
      " [10] perform_step! at /home/joseba/.julia/packages/OrdinaryDiffEq/ndQ2Z/src/perform_step/verner_rk_perform_step.jl:531 [inlined]",
      " [11] solve!(::OrdinaryDiffEq.ODEIntegrator{Vern9,true,Array{BigFloat,1},Nothing,BigFloat,DiffEqBase.NullParameters,BigFloat,BigFloat,BigFloat,Array{Array{BigFloat,1},1},ODESolution{BigFloat,2,Array{Array{BigFloat,1},1},Nothing,Nothing,Array{BigFloat,1},Array{Array{Array{BigFloat,1},1},1},ODEProblem{Array{BigFloat,1},Tuple{BigFloat,BigFloat},true,DiffEqBase.NullParameters,ODEFunction{true,typeof(NLSODE!),UniformScaling{Bool},Nothing,Nothing,Nothing,Nothing,Nothing,Nothing,Nothing,Nothing,Nothing,Nothing,Nothing},Base.Iterators.Pairs{Union{},Union{},Tuple{},NamedTuple{(),Tuple{}}},DiffEqBase.StandardODEProblem},Vern9,OrdinaryDiffEq.InterpolationData{ODEFunction{true,typeof(NLSODE!),UniformScaling{Bool},Nothing,Nothing,Nothing,Nothing,Nothing,Nothing,Nothing,Nothing,Nothing,Nothing,Nothing},Array{Array{BigFloat,1},1},Array{BigFloat,1},Array{Array{Array{BigFloat,1},1},1},OrdinaryDiffEq.Vern9Cache{Array{BigFloat,1},Array{BigFloat,1},Array{BigFloat,1},OrdinaryDiffEq.Vern9Tableau{BigFloat,BigFloat}}},DiffEqBase.DEStats},ODEFunction{true,typeof(NLSODE!),UniformScaling{Bool},Nothing,Nothing,Nothing,Nothing,Nothing,Nothing,Nothing,Nothing,Nothing,Nothing,Nothing},OrdinaryDiffEq.Vern9Cache{Array{BigFloat,1},Array{BigFloat,1},Array{BigFloat,1},OrdinaryDiffEq.Vern9Tableau{BigFloat,BigFloat}},OrdinaryDiffEq.DEOptions{Float64,Float64,BigFloat,BigFloat,typeof(DiffEqBase.ODE_DEFAULT_NORM),typeof(opnorm),CallbackSet{Tuple{},Tuple{}},typeof(DiffEqBase.ODE_DEFAULT_ISOUTOFDOMAIN),typeof(DiffEqBase.ODE_DEFAULT_PROG_MESSAGE),typeof(DiffEqBase.ODE_DEFAULT_UNSTABLE_CHECK),DataStructures.BinaryHeap{BigFloat,DataStructures.LessThan},DataStructures.BinaryHeap{BigFloat,DataStructures.LessThan},Nothing,Nothing,Int64,Array{BigFloat,1},Array{BigFloat,1},Array{BigFloat,1}},Array{BigFloat,1},BigFloat,Nothing,OrdinaryDiffEq.DefaultInit}) at /home/joseba/.julia/packages/OrdinaryDiffEq/ndQ2Z/src/solve.jl:424",
      " [12] #__solve#359 at /home/joseba/.julia/packages/OrdinaryDiffEq/ndQ2Z/src/solve.jl:5 [inlined]",
      " [13] (::DiffEqBase.var\"#kw##__solve\")(::NamedTuple{(:abstol, :reltol),Tuple{Float64,Float64}}, ::typeof(DiffEqBase.__solve), ::ODEProblem{Array{BigFloat,1},Tuple{BigFloat,BigFloat},true,DiffEqBase.NullParameters,ODEFunction{true,typeof(NLSODE!),UniformScaling{Bool},Nothing,Nothing,Nothing,Nothing,Nothing,Nothing,Nothing,Nothing,Nothing,Nothing,Nothing},Base.Iterators.Pairs{Union{},Union{},Tuple{},NamedTuple{(),Tuple{}}},DiffEqBase.StandardODEProblem}, ::Vern9) at ./none:0",
      " [14] (::DiffEqBase.var\"#464#465\"{ODEProblem{Array{BigFloat,1},Tuple{BigFloat,BigFloat},true,DiffEqBase.NullParameters,ODEFunction{true,typeof(NLSODE!),UniformScaling{Bool},Nothing,Nothing,Nothing,Nothing,Nothing,Nothing,Nothing,Nothing,Nothing,Nothing,Nothing},Base.Iterators.Pairs{Union{},Union{},Tuple{},NamedTuple{(),Tuple{}}},DiffEqBase.StandardODEProblem},Tuple{Vern9}})() at /home/joseba/.julia/packages/DiffEqBase/ytZvl/src/solve.jl:49",
      " [15] maybe_with_logger at /home/joseba/.julia/packages/DiffEqBase/ytZvl/src/utils.jl:259 [inlined]",
      " [16] #solve_call#463(::Bool, ::Base.Iterators.Pairs{Symbol,Float64,Tuple{Symbol,Symbol},NamedTuple{(:abstol, :reltol),Tuple{Float64,Float64}}}, ::typeof(DiffEqBase.solve_call), ::ODEProblem{Array{BigFloat,1},Tuple{BigFloat,BigFloat},true,DiffEqBase.NullParameters,ODEFunction{true,typeof(NLSODE!),UniformScaling{Bool},Nothing,Nothing,Nothing,Nothing,Nothing,Nothing,Nothing,Nothing,Nothing,Nothing,Nothing},Base.Iterators.Pairs{Union{},Union{},Tuple{},NamedTuple{(),Tuple{}}},DiffEqBase.StandardODEProblem}, ::Vern9) at /home/joseba/.julia/packages/DiffEqBase/ytZvl/src/solve.jl:48",
      " [17] #solve_call at ./none:0 [inlined]",
      " [18] #solve#466 at /home/joseba/.julia/packages/DiffEqBase/ytZvl/src/solve.jl:66 [inlined]",
      " [19] (::DiffEqBase.var\"#kw##solve\")(::NamedTuple{(:abstol, :reltol),Tuple{Float64,Float64}}, ::typeof(solve), ::ODEProblem{Array{BigFloat,1},Tuple{BigFloat,BigFloat},true,DiffEqBase.NullParameters,ODEFunction{true,typeof(NLSODE!),UniformScaling{Bool},Nothing,Nothing,Nothing,Nothing,Nothing,Nothing,Nothing,Nothing,Nothing,Nothing,Nothing},Base.Iterators.Pairs{Union{},Union{},Tuple{},NamedTuple{(),Tuple{}}},DiffEqBase.StandardODEProblem}, ::Vern9) at ./none:0",
      " [20] top-level scope at In[7]:2"
     ]
    }
   ],
   "source": [
    "setprecision(BigFloat, 256)\n",
    "sol =solve(prob128,Vern9(),abstol=1e-26,reltol=1e-26);\n",
    "#@save \"./Data/plei_test_solF128.jld2\" sol\n",
    "\n",
    "#@load \"./Data/plei_test_solF128.jld2\" sol\n",
    "test_sol = TestSolution(sol);\n",
    "sol.destats"
   ]
  },
  {
   "cell_type": "markdown",
   "metadata": {},
   "source": [
    "<a href=\"#top\">Back to the top</a>\n",
    "\n",
    "## Float64 Computations"
   ]
  },
  {
   "cell_type": "markdown",
   "metadata": {},
   "source": [
    "### IRKGL16 "
   ]
  },
  {
   "cell_type": "code",
   "execution_count": 8,
   "metadata": {},
   "outputs": [
    {
     "data": {
      "text/plain": [
       "DiffEqBase.DEStats\n",
       "Number of function 1 evaluations:                  10778\n",
       "Number of function 2 evaluations:                  0\n",
       "Number of W matrix evaluations:                    0\n",
       "Number of linear solves:                           0\n",
       "Number of Jacobians created:                       0\n",
       "Number of nonlinear solver iterations:             0\n",
       "Number of nonlinear solver convergence failures:   0\n",
       "Number of rootfind condition calls:                0\n",
       "Number of accepted steps:                          71\n",
       "Number of rejected steps:                          20"
      ]
     },
     "execution_count": 8,
     "metadata": {},
     "output_type": "execute_result"
    }
   ],
   "source": [
    "(sol1,iters1,steps1) = solve(prob64,IRKGL16(),reltol=1e-12, abstol=1e-12, adaptive=true,myoutputs=true,\n",
    "                             mixed_precision=false)\n",
    "sol1.destats"
   ]
  },
  {
   "cell_type": "code",
   "execution_count": 9,
   "metadata": {},
   "outputs": [],
   "source": [
    "setprecision(BigFloat, 256)\n",
    "u0128 =InitialNLS(BigFloat)\n",
    "\n",
    "E0=NLSHam(u0128,[])\n",
    "ΔE1 = map(x->NLSHam(BigFloat.(x),[]), sol1.u)./E0.-1;"
   ]
  },
  {
   "cell_type": "code",
   "execution_count": null,
   "metadata": {},
   "outputs": [],
   "source": [
    "ylimit1=-28\n",
    "ylimit2=-12\n",
    "plot(sol1.t,log10.(abs.(ΔE1)), label=\"IRKGL16-Float64\",\n",
    "     ylims=(ylimit1,ylimit2),)"
   ]
  },
  {
   "cell_type": "markdown",
   "metadata": {},
   "source": [
    "<a href=\"#top\">Back to the top</a>\n",
    "\n",
    "## Float128 Computations"
   ]
  },
  {
   "cell_type": "code",
   "execution_count": null,
   "metadata": {},
   "outputs": [],
   "source": [
    "setprecision(BigFloat, 108);"
   ]
  },
  {
   "cell_type": "markdown",
   "metadata": {},
   "source": [
    "### IRKGL16 "
   ]
  },
  {
   "cell_type": "code",
   "execution_count": null,
   "metadata": {},
   "outputs": [],
   "source": [
    "(sol11,iters11,steps11) = solve(prob128,IRKGL16(),reltol=1e-20, abstol=1e-20, adaptive=true,myoutputs=true,\n",
    "                             mixed_precision=false)\n",
    "sol11.destats"
   ]
  },
  {
   "cell_type": "code",
   "execution_count": null,
   "metadata": {},
   "outputs": [],
   "source": [
    "pl1=plot(sol11, vars=[1,6], label=\"(q1,p1)\")\n",
    "pl2=plot(sol11, vars=[2,7], label=\"(q2,p2)\")\n",
    "pl3=plot(sol11, vars=[3,8], label=\"(q3,p3)\")\n",
    "pl4=plot(sol11, vars=[4,9], label=\"(q4,p4)\")\n",
    "pl5=plot(sol11, vars=[5,10], label=\"(q5,p5)\")\n",
    "\n",
    "plot(pl1,pl2,pl3,pl4,pl5,pl5, layout=(2,3),ylims=(-4,4))"
   ]
  },
  {
   "cell_type": "markdown",
   "metadata": {},
   "source": [
    "### IRKGL16 (Mixed-Precision)"
   ]
  },
  {
   "cell_type": "code",
   "execution_count": null,
   "metadata": {},
   "outputs": [],
   "source": [
    "(sol12,iters12,steps12) = solve(prob128,IRKGL16(),reltol=1e-20, abstol=1e-20,adaptive=true,myoutputs=true,\n",
    "                              mixed_precision=true,low_prec_type=Float64)\n",
    "sol12.destats"
   ]
  },
  {
   "cell_type": "markdown",
   "metadata": {},
   "source": [
    "<a href=\"#top\">Back to the top</a>\n",
    "\n",
    "### Error in energy"
   ]
  },
  {
   "cell_type": "code",
   "execution_count": null,
   "metadata": {},
   "outputs": [],
   "source": [
    "setprecision(BigFloat, 256)\n",
    "u0128 =InitialNLS(BigFloat)\n",
    "\n",
    "E0=NLSHam(u0128,[])\n",
    "\n",
    "ΔE = map(x->NLSHam(BigFloat.(x),[]), sol.u)./E0.-1\n",
    "ΔE11 = map(x->NLSHam(BigFloat.(x),[]), sol11.u)./E0.-1\n",
    "ΔE12 = map(x->NLSHam(BigFloat.(x),[]), sol12.u)./E0.-1\n",
    "(Float32(maximum(abs.(ΔE))),Float32(maximum(abs.(ΔE11))) ,Float32(maximum(abs.(ΔE12))))"
   ]
  },
  {
   "cell_type": "code",
   "execution_count": null,
   "metadata": {},
   "outputs": [],
   "source": [
    "ylimit1=-28\n",
    "ylimit2=-12\n",
    "plot(sol.t,log10.(abs.(ΔE)), label=\"Test solution\", title=\"ODEProblem\",\n",
    "    ylims=(ylimit1,ylimit2),)\n",
    "plot!(sol11.t,log10.(abs.(ΔE11)), label=\"IRKGL16-Float128\",\n",
    "     ylims=(ylimit1,ylimit2),)\n",
    "plot!(sol12.t,log10.(abs.(ΔE12)), label=\"IRKGL16-Mixed Precision: Float128/Float64\",\n",
    "     ylims=(ylimit1,ylimit2),)"
   ]
  },
  {
   "cell_type": "markdown",
   "metadata": {},
   "source": [
    "<a href=\"#top\">Back to the top</a>\n",
    "\n",
    "## Work-Precision diagrams"
   ]
  },
  {
   "cell_type": "code",
   "execution_count": null,
   "metadata": {},
   "outputs": [],
   "source": [
    "Threads.nthreads()"
   ]
  },
  {
   "cell_type": "markdown",
   "metadata": {},
   "source": [
    "### Float64 Computations"
   ]
  },
  {
   "cell_type": "code",
   "execution_count": null,
   "metadata": {},
   "outputs": [],
   "source": [
    "abstols = 1.0 ./ 10.0 .^ (12:19)\n",
    "reltols = 1.0 ./ 10.0 .^ (12:19);"
   ]
  },
  {
   "cell_type": "code",
   "execution_count": null,
   "metadata": {},
   "outputs": [],
   "source": [
    "setups = [ Dict(:alg=>Vern9())\n",
    "           Dict(:alg=>IRKGL16(),:adaptive=>true,:mixed_precision=>false) \n",
    "]\n",
    "wp2 = WorkPrecisionSet(prob64,abstols,reltols,setups;appxsol=test_sol,save_everystep=false,numruns=1,maxiters=100000000)\n",
    "plot(wp2)"
   ]
  },
  {
   "cell_type": "markdown",
   "metadata": {},
   "source": [
    "### Float128 Computations"
   ]
  },
  {
   "cell_type": "code",
   "execution_count": null,
   "metadata": {},
   "outputs": [],
   "source": [
    "setprecision(BigFloat, 108)\n",
    "abstols = 1.0 ./ 10.0 .^ (12:26)\n",
    "reltols = 1.0 ./ 10.0 .^ (12:26);"
   ]
  },
  {
   "cell_type": "code",
   "execution_count": null,
   "metadata": {},
   "outputs": [],
   "source": [
    "setups = [ Dict(:alg=>Vern9())\n",
    "           Dict(:alg=>IRKGL16(),:adaptive=>true,:mixed_precision=>false) \n",
    "           Dict(:alg=>IRKGL16(),:adaptive=>true,:mixed_precision=>true,:low_prec_type=>Float64)\n",
    "]\n",
    "wp2 = WorkPrecisionSet(prob128,abstols,reltols,setups;appxsol=test_sol,save_everystep=false,numruns=1,maxiters=1000000)\n",
    "plot(wp2)"
   ]
  },
  {
   "cell_type": "markdown",
   "metadata": {},
   "source": [
    "<a href=\"#top\">Back to the top</a>"
   ]
  }
 ],
 "metadata": {
  "kernelspec": {
   "display_name": "Julia 1.3.1",
   "language": "julia",
   "name": "julia-1.3"
  },
  "language_info": {
   "file_extension": ".jl",
   "mimetype": "application/julia",
   "name": "julia",
   "version": "1.3.1"
  }
 },
 "nbformat": 4,
 "nbformat_minor": 2
}
