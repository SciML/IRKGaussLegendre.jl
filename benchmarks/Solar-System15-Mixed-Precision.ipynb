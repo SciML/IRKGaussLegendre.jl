{
 "cells": [
  {
   "cell_type": "markdown",
   "metadata": {},
   "source": [
    "# Solar-System15-Mixed-Precision"
   ]
  },
  {
   "cell_type": "markdown",
   "metadata": {},
   "source": [
    "<ul id=\"top\">\n",
    "<li><a href=\"#Load-packages\"> \n",
    "             Load Packages</a></li>\n",
    "    \n",
    "<li><a href=\"#Computer-properties\"> \n",
    "             Computer properties</a></li> \n",
    "\n",
    "<li><a href=\"#Initial-value-problem:-Solar-System15\">\n",
    "              Initial value problem: Solar-System15</a></li>\n",
    "\n",
    "<li><a href=\"#Ode-problem\">\n",
    "             Ode problem</a></li>\n",
    " \n",
    "<li><a href=\"#Error-in-energy\">\n",
    "             Error in energy</a></li> \n",
    "\n",
    "<li><a href=\"#Work-Precision-diagrams\">\n",
    "             Work-Precision diagrams</a></li> \n",
    "\n",
    "</ul>  "
   ]
  },
  {
   "cell_type": "markdown",
   "metadata": {},
   "source": [
    "## Load packages"
   ]
  },
  {
   "cell_type": "code",
   "execution_count": 1,
   "metadata": {},
   "outputs": [],
   "source": [
    "using OrdinaryDiffEq,DiffEqDevTools,BenchmarkTools\n",
    "using IRKGaussLegendre\n",
    "using Plots,LinearAlgebra\n",
    "using Dates\n",
    "using RecursiveArrayTools\n",
    "using JLD2, FileIO"
   ]
  },
  {
   "cell_type": "code",
   "execution_count": 3,
   "metadata": {},
   "outputs": [],
   "source": [
    "setprecision(BigFloat, 108);"
   ]
  },
  {
   "cell_type": "code",
   "execution_count": 3,
   "metadata": {},
   "outputs": [],
   "source": [
    "#plotly()"
   ]
  },
  {
   "cell_type": "markdown",
   "metadata": {},
   "source": [
    "<a href=\"#top\">Back to the top</a>\n",
    "\n",
    "## Computer properties"
   ]
  },
  {
   "cell_type": "code",
   "execution_count": 5,
   "metadata": {},
   "outputs": [
    {
     "data": {
      "text/plain": [
       "1"
      ]
     },
     "execution_count": 5,
     "metadata": {},
     "output_type": "execute_result"
    }
   ],
   "source": [
    "#export JULIA_NUM_THREADS=2\n",
    "Threads.nthreads()"
   ]
  },
  {
   "cell_type": "code",
   "execution_count": 3,
   "metadata": {},
   "outputs": [],
   "source": [
    "#;cat /proc/cpuinfo # on Linux machines"
   ]
  },
  {
   "cell_type": "code",
   "execution_count": 6,
   "metadata": {},
   "outputs": [
    {
     "data": {
      "text/plain": [
       "2"
      ]
     },
     "execution_count": 6,
     "metadata": {},
     "output_type": "execute_result"
    }
   ],
   "source": [
    "using Hwloc\n",
    "Hwloc.num_physical_cores()"
   ]
  },
  {
   "cell_type": "markdown",
   "metadata": {},
   "source": [
    "<a href=\"#top\">Back to the top</a>\n",
    "\n",
    "## Initial value problem: Solar-System15"
   ]
  },
  {
   "cell_type": "code",
   "execution_count": 7,
   "metadata": {},
   "outputs": [],
   "source": [
    "include(\"../examples/Nbody.jl\")\n",
    "include(\"../examples/InitialNBody15.jl\")\n",
    "u0128, Gm128 =InitialNBody15(BigFloat)\n",
    "\n",
    "q0128=u0128[2,:,:]\n",
    "v0128=u0128[1,:,:]\n",
    "\n",
    "dt=1\n",
    "t0=0.0\n",
    "t1=20*dt    #1000.\n",
    "mysaveat=1  #10\n",
    "\n",
    "tspan128=(BigFloat(t0),BigFloat(t1))\n",
    "prob128=ODEProblem(NbodyODE!,u0128,tspan128,Gm128);"
   ]
  },
  {
   "cell_type": "code",
   "execution_count": 8,
   "metadata": {},
   "outputs": [],
   "source": [
    "lpp=Float64.(Gm128);"
   ]
  },
  {
   "cell_type": "code",
   "execution_count": 9,
   "metadata": {},
   "outputs": [
    {
     "data": {
      "text/plain": [
       "(0.0, 20.0)"
      ]
     },
     "execution_count": 9,
     "metadata": {},
     "output_type": "execute_result"
    }
   ],
   "source": [
    "tspan128"
   ]
  },
  {
   "cell_type": "markdown",
   "metadata": {},
   "source": [
    "<a href=\"#top\">Back to the top</a>\n",
    "\n",
    "## Ode problem"
   ]
  },
  {
   "cell_type": "markdown",
   "metadata": {},
   "source": [
    "### Test solution"
   ]
  },
  {
   "cell_type": "code",
   "execution_count": 10,
   "metadata": {},
   "outputs": [],
   "source": [
    "prob128 = ODEProblem(NbodyODE!,u0128,tspan128,Gm128,;lpp=lpp);\n",
    "sol =solve(prob128,Vern9(),saveat=mysaveat,abstol=1e-24,reltol=1e-24,maxiters=100000);\n",
    "@save \"./Data/solarsystem15small_test_solF128.jld2\" sol\n",
    "#@load \"./Data/solarsystem15small_test_solF128.jld2\" sol\n",
    "test_sol = TestSolution(sol);"
   ]
  },
  {
   "cell_type": "markdown",
   "metadata": {},
   "source": [
    "### IRKGL16 (Fixed-Step)"
   ]
  },
  {
   "cell_type": "code",
   "execution_count": 11,
   "metadata": {},
   "outputs": [
    {
     "data": {
      "text/plain": [
       "DiffEqBase.DEStats\n",
       "Number of function 1 evaluations:                  2027\n",
       "Number of function 2 evaluations:                  0\n",
       "Number of W matrix evaluations:                    0\n",
       "Number of linear solves:                           0\n",
       "Number of Jacobians created:                       0\n",
       "Number of nonlinear solver iterations:             0\n",
       "Number of nonlinear solver convergence failures:   0\n",
       "Number of rootfind condition calls:                0\n",
       "Number of accepted steps:                          20\n",
       "Number of rejected steps:                          0"
      ]
     },
     "execution_count": 11,
     "metadata": {},
     "output_type": "execute_result"
    }
   ],
   "source": [
    "sol1 =solve(prob128,IRKGL16(),dt=dt,saveat=mysaveat,adaptive=false,mixed_precision=false);\n",
    "sol1.destats"
   ]
  },
  {
   "cell_type": "code",
   "execution_count": 12,
   "metadata": {},
   "outputs": [
    {
     "data": {
      "text/plain": [
       "DiffEqBase.DEStats\n",
       "Number of function 1 evaluations:                  1666\n",
       "Number of function 2 evaluations:                  1016\n",
       "Number of W matrix evaluations:                    0\n",
       "Number of linear solves:                           0\n",
       "Number of Jacobians created:                       0\n",
       "Number of nonlinear solver iterations:             0\n",
       "Number of nonlinear solver convergence failures:   0\n",
       "Number of rootfind condition calls:                0\n",
       "Number of accepted steps:                          20\n",
       "Number of rejected steps:                          0"
      ]
     },
     "execution_count": 12,
     "metadata": {},
     "output_type": "execute_result"
    }
   ],
   "source": [
    "sol2 = solve(prob128,IRKGL16(),dt=dt,saveat=mysaveat,adaptive=false,\n",
    "                             mixed_precision=true, low_prec_type=Float64);\n",
    "sol2.destats"
   ]
  },
  {
   "cell_type": "markdown",
   "metadata": {},
   "source": [
    "<a href=\"#top\">Back to the top</a>\n",
    "\n",
    "## Error in energy"
   ]
  },
  {
   "cell_type": "code",
   "execution_count": 14,
   "metadata": {},
   "outputs": [
    {
     "data": {
      "text/plain": [
       "(4.646337f-28, 1.8013276f-20, 1.8013276f-20)"
      ]
     },
     "execution_count": 14,
     "metadata": {},
     "output_type": "execute_result"
    }
   ],
   "source": [
    "setprecision(BigFloat, 256)\n",
    "u0128, Gm128 =InitialNBody15(BigFloat)\n",
    "E0=NbodyEnergy(u0128,Gm128)\n",
    "\n",
    "ΔE = map(x->NbodyEnergy(BigFloat.(x),Gm128), sol.u)./E0.-1\n",
    "ΔE1 = map(x->NbodyEnergy(BigFloat.(x),Gm128), sol1.u)./E0.-1\n",
    "ΔE2 = map(x->NbodyEnergy(BigFloat.(x),Gm128), sol2.u)./E0.-1\n",
    "\n",
    "(Float32(maximum(abs.(ΔE))),Float32(maximum(abs.(ΔE1))),Float32(maximum(abs.(ΔE2))))"
   ]
  },
  {
   "cell_type": "code",
   "execution_count": 16,
   "metadata": {},
   "outputs": [
    {
     "data": {
      "image/svg+xml": [
       "<?xml version=\"1.0\" encoding=\"utf-8\"?>\n",
       "<svg xmlns=\"http://www.w3.org/2000/svg\" xmlns:xlink=\"http://www.w3.org/1999/xlink\" width=\"600\" height=\"400\" viewBox=\"0 0 2400 1600\">\n",
       "<defs>\n",
       "  <clipPath id=\"clip6200\">\n",
       "    <rect x=\"0\" y=\"0\" width=\"2400\" height=\"1600\"/>\n",
       "  </clipPath>\n",
       "</defs>\n",
       "<path clip-path=\"url(#clip6200)\" d=\"\n",
       "M0 1600 L2400 1600 L2400 0 L0 0  Z\n",
       "  \" fill=\"#ffffff\" fill-rule=\"evenodd\" fill-opacity=\"1\"/>\n",
       "<defs>\n",
       "  <clipPath id=\"clip6201\">\n",
       "    <rect x=\"480\" y=\"0\" width=\"1681\" height=\"1600\"/>\n",
       "  </clipPath>\n",
       "</defs>\n",
       "<path clip-path=\"url(#clip6200)\" d=\"\n",
       "M168.627 1487.47 L2352.76 1487.47 L2352.76 47.2441 L168.627 47.2441  Z\n",
       "  \" fill=\"#ffffff\" fill-rule=\"evenodd\" fill-opacity=\"1\"/>\n",
       "<defs>\n",
       "  <clipPath id=\"clip6202\">\n",
       "    <rect x=\"168\" y=\"47\" width=\"2185\" height=\"1441\"/>\n",
       "  </clipPath>\n",
       "</defs>\n",
       "<polyline clip-path=\"url(#clip6202)\" style=\"stroke:#000000; stroke-width:2; stroke-opacity:0.1; fill:none\" points=\"\n",
       "  230.442,1487.47 230.442,47.2441 \n",
       "  \"/>\n",
       "<polyline clip-path=\"url(#clip6202)\" style=\"stroke:#000000; stroke-width:2; stroke-opacity:0.1; fill:none\" points=\"\n",
       "  745.567,1487.47 745.567,47.2441 \n",
       "  \"/>\n",
       "<polyline clip-path=\"url(#clip6202)\" style=\"stroke:#000000; stroke-width:2; stroke-opacity:0.1; fill:none\" points=\"\n",
       "  1260.69,1487.47 1260.69,47.2441 \n",
       "  \"/>\n",
       "<polyline clip-path=\"url(#clip6202)\" style=\"stroke:#000000; stroke-width:2; stroke-opacity:0.1; fill:none\" points=\"\n",
       "  1775.82,1487.47 1775.82,47.2441 \n",
       "  \"/>\n",
       "<polyline clip-path=\"url(#clip6202)\" style=\"stroke:#000000; stroke-width:2; stroke-opacity:0.1; fill:none\" points=\"\n",
       "  2290.94,1487.47 2290.94,47.2441 \n",
       "  \"/>\n",
       "<polyline clip-path=\"url(#clip6202)\" style=\"stroke:#000000; stroke-width:2; stroke-opacity:0.1; fill:none\" points=\"\n",
       "  168.627,1487.47 2352.76,1487.47 \n",
       "  \"/>\n",
       "<polyline clip-path=\"url(#clip6202)\" style=\"stroke:#000000; stroke-width:2; stroke-opacity:0.1; fill:none\" points=\"\n",
       "  168.627,1247.44 2352.76,1247.44 \n",
       "  \"/>\n",
       "<polyline clip-path=\"url(#clip6202)\" style=\"stroke:#000000; stroke-width:2; stroke-opacity:0.1; fill:none\" points=\"\n",
       "  168.627,1007.4 2352.76,1007.4 \n",
       "  \"/>\n",
       "<polyline clip-path=\"url(#clip6202)\" style=\"stroke:#000000; stroke-width:2; stroke-opacity:0.1; fill:none\" points=\"\n",
       "  168.627,767.359 2352.76,767.359 \n",
       "  \"/>\n",
       "<polyline clip-path=\"url(#clip6202)\" style=\"stroke:#000000; stroke-width:2; stroke-opacity:0.1; fill:none\" points=\"\n",
       "  168.627,527.321 2352.76,527.321 \n",
       "  \"/>\n",
       "<polyline clip-path=\"url(#clip6202)\" style=\"stroke:#000000; stroke-width:2; stroke-opacity:0.1; fill:none\" points=\"\n",
       "  168.627,287.283 2352.76,287.283 \n",
       "  \"/>\n",
       "<polyline clip-path=\"url(#clip6202)\" style=\"stroke:#000000; stroke-width:2; stroke-opacity:0.1; fill:none\" points=\"\n",
       "  168.627,47.2441 2352.76,47.2441 \n",
       "  \"/>\n",
       "<polyline clip-path=\"url(#clip6200)\" style=\"stroke:#000000; stroke-width:4; stroke-opacity:1; fill:none\" points=\"\n",
       "  168.627,1487.47 2352.76,1487.47 \n",
       "  \"/>\n",
       "<polyline clip-path=\"url(#clip6200)\" style=\"stroke:#000000; stroke-width:4; stroke-opacity:1; fill:none\" points=\"\n",
       "  168.627,1487.47 168.627,47.2441 \n",
       "  \"/>\n",
       "<polyline clip-path=\"url(#clip6200)\" style=\"stroke:#000000; stroke-width:4; stroke-opacity:1; fill:none\" points=\"\n",
       "  230.442,1487.47 230.442,1470.19 \n",
       "  \"/>\n",
       "<polyline clip-path=\"url(#clip6200)\" style=\"stroke:#000000; stroke-width:4; stroke-opacity:1; fill:none\" points=\"\n",
       "  745.567,1487.47 745.567,1470.19 \n",
       "  \"/>\n",
       "<polyline clip-path=\"url(#clip6200)\" style=\"stroke:#000000; stroke-width:4; stroke-opacity:1; fill:none\" points=\"\n",
       "  1260.69,1487.47 1260.69,1470.19 \n",
       "  \"/>\n",
       "<polyline clip-path=\"url(#clip6200)\" style=\"stroke:#000000; stroke-width:4; stroke-opacity:1; fill:none\" points=\"\n",
       "  1775.82,1487.47 1775.82,1470.19 \n",
       "  \"/>\n",
       "<polyline clip-path=\"url(#clip6200)\" style=\"stroke:#000000; stroke-width:4; stroke-opacity:1; fill:none\" points=\"\n",
       "  2290.94,1487.47 2290.94,1470.19 \n",
       "  \"/>\n",
       "<polyline clip-path=\"url(#clip6200)\" style=\"stroke:#000000; stroke-width:4; stroke-opacity:1; fill:none\" points=\"\n",
       "  168.627,1487.47 194.836,1487.47 \n",
       "  \"/>\n",
       "<polyline clip-path=\"url(#clip6200)\" style=\"stroke:#000000; stroke-width:4; stroke-opacity:1; fill:none\" points=\"\n",
       "  168.627,1247.44 194.836,1247.44 \n",
       "  \"/>\n",
       "<polyline clip-path=\"url(#clip6200)\" style=\"stroke:#000000; stroke-width:4; stroke-opacity:1; fill:none\" points=\"\n",
       "  168.627,1007.4 194.836,1007.4 \n",
       "  \"/>\n",
       "<polyline clip-path=\"url(#clip6200)\" style=\"stroke:#000000; stroke-width:4; stroke-opacity:1; fill:none\" points=\"\n",
       "  168.627,767.359 194.836,767.359 \n",
       "  \"/>\n",
       "<polyline clip-path=\"url(#clip6200)\" style=\"stroke:#000000; stroke-width:4; stroke-opacity:1; fill:none\" points=\"\n",
       "  168.627,527.321 194.836,527.321 \n",
       "  \"/>\n",
       "<polyline clip-path=\"url(#clip6200)\" style=\"stroke:#000000; stroke-width:4; stroke-opacity:1; fill:none\" points=\"\n",
       "  168.627,287.283 194.836,287.283 \n",
       "  \"/>\n",
       "<polyline clip-path=\"url(#clip6200)\" style=\"stroke:#000000; stroke-width:4; stroke-opacity:1; fill:none\" points=\"\n",
       "  168.627,47.2441 194.836,47.2441 \n",
       "  \"/>\n",
       "<g clip-path=\"url(#clip6200)\">\n",
       "<text style=\"fill:#000000; fill-opacity:1; font-family:Arial,Helvetica Neue,Helvetica,sans-serif; font-size:48px; text-anchor:middle;\" transform=\"rotate(0, 230.442, 1541.47)\" x=\"230.442\" y=\"1541.47\">0</text>\n",
       "</g>\n",
       "<g clip-path=\"url(#clip6200)\">\n",
       "<text style=\"fill:#000000; fill-opacity:1; font-family:Arial,Helvetica Neue,Helvetica,sans-serif; font-size:48px; text-anchor:middle;\" transform=\"rotate(0, 745.567, 1541.47)\" x=\"745.567\" y=\"1541.47\">5</text>\n",
       "</g>\n",
       "<g clip-path=\"url(#clip6200)\">\n",
       "<text style=\"fill:#000000; fill-opacity:1; font-family:Arial,Helvetica Neue,Helvetica,sans-serif; font-size:48px; text-anchor:middle;\" transform=\"rotate(0, 1260.69, 1541.47)\" x=\"1260.69\" y=\"1541.47\">10</text>\n",
       "</g>\n",
       "<g clip-path=\"url(#clip6200)\">\n",
       "<text style=\"fill:#000000; fill-opacity:1; font-family:Arial,Helvetica Neue,Helvetica,sans-serif; font-size:48px; text-anchor:middle;\" transform=\"rotate(0, 1775.82, 1541.47)\" x=\"1775.82\" y=\"1541.47\">15</text>\n",
       "</g>\n",
       "<g clip-path=\"url(#clip6200)\">\n",
       "<text style=\"fill:#000000; fill-opacity:1; font-family:Arial,Helvetica Neue,Helvetica,sans-serif; font-size:48px; text-anchor:middle;\" transform=\"rotate(0, 2290.94, 1541.47)\" x=\"2290.94\" y=\"1541.47\">20</text>\n",
       "</g>\n",
       "<g clip-path=\"url(#clip6200)\">\n",
       "<text style=\"fill:#000000; fill-opacity:1; font-family:Arial,Helvetica Neue,Helvetica,sans-serif; font-size:48px; text-anchor:end;\" transform=\"rotate(0, 144.627, 1504.97)\" x=\"144.627\" y=\"1504.97\">-30</text>\n",
       "</g>\n",
       "<g clip-path=\"url(#clip6200)\">\n",
       "<text style=\"fill:#000000; fill-opacity:1; font-family:Arial,Helvetica Neue,Helvetica,sans-serif; font-size:48px; text-anchor:end;\" transform=\"rotate(0, 144.627, 1264.94)\" x=\"144.627\" y=\"1264.94\">-28</text>\n",
       "</g>\n",
       "<g clip-path=\"url(#clip6200)\">\n",
       "<text style=\"fill:#000000; fill-opacity:1; font-family:Arial,Helvetica Neue,Helvetica,sans-serif; font-size:48px; text-anchor:end;\" transform=\"rotate(0, 144.627, 1024.9)\" x=\"144.627\" y=\"1024.9\">-26</text>\n",
       "</g>\n",
       "<g clip-path=\"url(#clip6200)\">\n",
       "<text style=\"fill:#000000; fill-opacity:1; font-family:Arial,Helvetica Neue,Helvetica,sans-serif; font-size:48px; text-anchor:end;\" transform=\"rotate(0, 144.627, 784.859)\" x=\"144.627\" y=\"784.859\">-24</text>\n",
       "</g>\n",
       "<g clip-path=\"url(#clip6200)\">\n",
       "<text style=\"fill:#000000; fill-opacity:1; font-family:Arial,Helvetica Neue,Helvetica,sans-serif; font-size:48px; text-anchor:end;\" transform=\"rotate(0, 144.627, 544.821)\" x=\"144.627\" y=\"544.821\">-22</text>\n",
       "</g>\n",
       "<g clip-path=\"url(#clip6200)\">\n",
       "<text style=\"fill:#000000; fill-opacity:1; font-family:Arial,Helvetica Neue,Helvetica,sans-serif; font-size:48px; text-anchor:end;\" transform=\"rotate(0, 144.627, 304.783)\" x=\"144.627\" y=\"304.783\">-20</text>\n",
       "</g>\n",
       "<g clip-path=\"url(#clip6200)\">\n",
       "<text style=\"fill:#000000; fill-opacity:1; font-family:Arial,Helvetica Neue,Helvetica,sans-serif; font-size:48px; text-anchor:end;\" transform=\"rotate(0, 144.627, 64.7441)\" x=\"144.627\" y=\"64.7441\">-18</text>\n",
       "</g>\n",
       "<polyline clip-path=\"url(#clip6202)\" style=\"stroke:#009af9; stroke-width:4; stroke-opacity:1; fill:none\" points=\"\n",
       "  230.442,1848.53 333.467,1401.81 436.492,1328.47 539.517,1277.46 642.542,1254.34 745.567,1232.67 848.592,1215.6 951.617,1208.24 1054.64,1200.52 1157.67,1196.32 \n",
       "  1260.69,1191.76 1363.72,1189.44 1466.74,1184.71 1569.77,1182.99 1672.79,1180.44 1775.82,1177.82 1878.84,1174.46 1981.87,1172.39 2084.89,1171.05 2187.92,1168.84 \n",
       "  2290.94,1167.37 \n",
       "  \"/>\n",
       "<polyline clip-path=\"url(#clip6202)\" style=\"stroke:#e26f46; stroke-width:4; stroke-opacity:1; fill:none\" points=\"\n",
       "  230.442,1848.53 333.467,400.819 436.492,363.656 539.517,341.586 642.542,325.763 745.567,313.427 848.592,303.354 951.617,294.903 1054.64,287.696 1157.67,281.499 \n",
       "  1260.69,276.157 1363.72,271.569 1466.74,267.663 1569.77,264.39 1672.79,261.717 1775.82,259.618 1878.84,258.076 1981.87,257.077 2084.89,256.606 2187.92,256.654 \n",
       "  2290.94,257.208 \n",
       "  \"/>\n",
       "<polyline clip-path=\"url(#clip6202)\" style=\"stroke:#3da44d; stroke-width:4; stroke-opacity:1; fill:none\" points=\"\n",
       "  230.442,1848.53 333.467,400.819 436.492,363.656 539.517,341.586 642.542,325.763 745.567,313.427 848.592,303.354 951.617,294.903 1054.64,287.696 1157.67,281.499 \n",
       "  1260.69,276.157 1363.72,271.569 1466.74,267.663 1569.77,264.39 1672.79,261.717 1775.82,259.618 1878.84,258.076 1981.87,257.077 2084.89,256.606 2187.92,256.654 \n",
       "  2290.94,257.208 \n",
       "  \"/>\n",
       "<path clip-path=\"url(#clip6200)\" d=\"\n",
       "M1087.03 372.684 L2280.76 372.684 L2280.76 130.764 L1087.03 130.764  Z\n",
       "  \" fill=\"#ffffff\" fill-rule=\"evenodd\" fill-opacity=\"1\"/>\n",
       "<polyline clip-path=\"url(#clip6200)\" style=\"stroke:#000000; stroke-width:4; stroke-opacity:1; fill:none\" points=\"\n",
       "  1087.03,372.684 2280.76,372.684 2280.76,130.764 1087.03,130.764 1087.03,372.684 \n",
       "  \"/>\n",
       "<polyline clip-path=\"url(#clip6200)\" style=\"stroke:#009af9; stroke-width:4; stroke-opacity:1; fill:none\" points=\"\n",
       "  1111.03,191.244 1255.03,191.244 \n",
       "  \"/>\n",
       "<g clip-path=\"url(#clip6200)\">\n",
       "<text style=\"fill:#000000; fill-opacity:1; font-family:Arial,Helvetica Neue,Helvetica,sans-serif; font-size:48px; text-anchor:start;\" transform=\"rotate(0, 1279.03, 208.744)\" x=\"1279.03\" y=\"208.744\">Test solution</text>\n",
       "</g>\n",
       "<polyline clip-path=\"url(#clip6200)\" style=\"stroke:#e26f46; stroke-width:4; stroke-opacity:1; fill:none\" points=\"\n",
       "  1111.03,251.724 1255.03,251.724 \n",
       "  \"/>\n",
       "<g clip-path=\"url(#clip6200)\">\n",
       "<text style=\"fill:#000000; fill-opacity:1; font-family:Arial,Helvetica Neue,Helvetica,sans-serif; font-size:48px; text-anchor:start;\" transform=\"rotate(0, 1279.03, 269.224)\" x=\"1279.03\" y=\"269.224\">IRKGL16-Float128</text>\n",
       "</g>\n",
       "<polyline clip-path=\"url(#clip6200)\" style=\"stroke:#3da44d; stroke-width:4; stroke-opacity:1; fill:none\" points=\"\n",
       "  1111.03,312.204 1255.03,312.204 \n",
       "  \"/>\n",
       "<g clip-path=\"url(#clip6200)\">\n",
       "<text style=\"fill:#000000; fill-opacity:1; font-family:Arial,Helvetica Neue,Helvetica,sans-serif; font-size:48px; text-anchor:start;\" transform=\"rotate(0, 1279.03, 329.704)\" x=\"1279.03\" y=\"329.704\">IRKGL16-Mixed Precision: Float128/Float64</text>\n",
       "</g>\n",
       "</svg>\n"
      ]
     },
     "execution_count": 16,
     "metadata": {},
     "output_type": "execute_result"
    }
   ],
   "source": [
    "ylimit1=-30\n",
    "ylimit2=-18\n",
    "plot(sol.t,log10.(abs.(ΔE)), label=\"Test solution\",\n",
    "    ylims=(ylimit1,ylimit2),)\n",
    "plot!(sol1.t,log10.(abs.(ΔE1)), label=\"IRKGL16-Float128\",\n",
    "     ylims=(ylimit1,ylimit2),)\n",
    "plot!(sol2.t,log10.(abs.(ΔE2)), label=\"IRKGL16-Mixed Precision: Float128/Float64\",\n",
    "     ylims=(ylimit1,ylimit2),)"
   ]
  },
  {
   "cell_type": "markdown",
   "metadata": {},
   "source": [
    "<a href=\"#top\">Back to the top</a>\n",
    "\n",
    "## Work-Precision diagrams"
   ]
  },
  {
   "cell_type": "code",
   "execution_count": 25,
   "metadata": {},
   "outputs": [
    {
     "data": {
      "text/plain": [
       "1"
      ]
     },
     "execution_count": 25,
     "metadata": {},
     "output_type": "execute_result"
    }
   ],
   "source": [
    "Threads.nthreads()"
   ]
  },
  {
   "cell_type": "code",
   "execution_count": 26,
   "metadata": {},
   "outputs": [],
   "source": [
    "abstols = 1.0 ./ 10.0 .^ (8:18)\n",
    "reltols = 1.0 ./ 10.0 .^ (8:18)\n",
    "dts=16*0.866.^(0:length(reltols)-1);"
   ]
  },
  {
   "cell_type": "code",
   "execution_count": 27,
   "metadata": {},
   "outputs": [
    {
     "ename": "MethodError",
     "evalue": "MethodError: no method matching Dict(::Pair{Symbol,IRKGL16}, ::Pair{Symbol,Bool}, ::Pair{Symbol,Array{Float64,1}}; mixed_precision=false)\nClosest candidates are:\n  Dict(!Matched::Pair{K,V}...) where {K, V} at dict.jl:123 got unsupported keyword argument \"mixed_precision\"\n  Dict(::Pair...) at dict.jl:124 got unsupported keyword argument \"mixed_precision\"\n  Dict(::Any) at dict.jl:127 got unsupported keyword argument \"mixed_precision\"",
     "output_type": "error",
     "traceback": [
      "MethodError: no method matching Dict(::Pair{Symbol,IRKGL16}, ::Pair{Symbol,Bool}, ::Pair{Symbol,Array{Float64,1}}; mixed_precision=false)\nClosest candidates are:\n  Dict(!Matched::Pair{K,V}...) where {K, V} at dict.jl:123 got unsupported keyword argument \"mixed_precision\"\n  Dict(::Pair...) at dict.jl:124 got unsupported keyword argument \"mixed_precision\"\n  Dict(::Any) at dict.jl:127 got unsupported keyword argument \"mixed_precision\"",
      "",
      "Stacktrace:",
      " [1] top-level scope at In[27]:1"
     ]
    }
   ],
   "source": [
    "setups = [ Dict(:alg=>IRKGL16(),:adaptive=>false,:dts=>dts,mixed_precision=false) \n",
    "           Dict(:alg=>IRKGL16(),:adaptive=>false,:dts=>dts,mixed_precision=true,low_prec_type=Float64)\n",
    "]\n",
    "wp1 = WorkPrecisionSet(prob128,abstols,reltols,setups;appxsol=test_sol,save_everystep=false,numruns=1,maxiters=1000000)\n",
    "plot(wp1)"
   ]
  },
  {
   "cell_type": "markdown",
   "metadata": {},
   "source": [
    "<a href=\"#top\">Back to the top</a>"
   ]
  }
 ],
 "metadata": {
  "kernelspec": {
   "display_name": "Julia 1.3.1",
   "language": "julia",
   "name": "julia-1.3"
  },
  "language_info": {
   "file_extension": ".jl",
   "mimetype": "application/julia",
   "name": "julia",
   "version": "1.3.1"
  }
 },
 "nbformat": 4,
 "nbformat_minor": 2
}
