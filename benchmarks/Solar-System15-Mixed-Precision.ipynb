{
 "cells": [
  {
   "cell_type": "markdown",
   "metadata": {},
   "source": [
    "# Solar-System15-Mixed-Precision"
   ]
  },
  {
   "cell_type": "markdown",
   "metadata": {},
   "source": [
    "<ul id=\"top\">\n",
    "<li><a href=\"#Load-packages\"> \n",
    "             Load Packages</a></li>\n",
    "    \n",
    "<li><a href=\"#Computer-properties\"> \n",
    "             Computer properties</a></li> \n",
    "\n",
    "<li><a href=\"#Initial-value-problem:-Solar-System15\">\n",
    "              Initial value problem: Solar-System15</a></li>\n",
    "\n",
    "<li><a href=\"#Ode-problem\">\n",
    "             Ode problem</a></li>\n",
    " \n",
    "<li><a href=\"#Error-in-energy\">\n",
    "             Error in energy</a></li> \n",
    "\n",
    "<li><a href=\"#Work-Precision-diagrams\">\n",
    "             Work-Precision diagrams</a></li> \n",
    "\n",
    "</ul>  "
   ]
  },
  {
   "cell_type": "markdown",
   "metadata": {},
   "source": [
    "## Load packages"
   ]
  },
  {
   "cell_type": "code",
   "execution_count": 1,
   "metadata": {},
   "outputs": [
    {
     "name": "stderr",
     "output_type": "stream",
     "text": [
      "┌ Info: Precompiling IRKGaussLegendre [58bc7355-f626-4c51-96f2-1f8a038f95a2]\n",
      "└ @ Base loading.jl:1273\n"
     ]
    }
   ],
   "source": [
    "using OrdinaryDiffEq,DiffEqDevTools,BenchmarkTools\n",
    "using IRKGaussLegendre\n",
    "using Plots,LinearAlgebra\n",
    "using Dates\n",
    "using RecursiveArrayTools\n",
    "using JLD2, FileIO"
   ]
  },
  {
   "cell_type": "code",
   "execution_count": 2,
   "metadata": {},
   "outputs": [],
   "source": [
    "setprecision(BigFloat, 108);"
   ]
  },
  {
   "cell_type": "code",
   "execution_count": 3,
   "metadata": {},
   "outputs": [],
   "source": [
    "#plotly()"
   ]
  },
  {
   "cell_type": "markdown",
   "metadata": {},
   "source": [
    "<a href=\"#top\">Back to the top</a>\n",
    "\n",
    "## Computer properties"
   ]
  },
  {
   "cell_type": "code",
   "execution_count": 3,
   "metadata": {},
   "outputs": [
    {
     "data": {
      "text/plain": [
       "1"
      ]
     },
     "execution_count": 3,
     "metadata": {},
     "output_type": "execute_result"
    }
   ],
   "source": [
    "#export JULIA_NUM_THREADS=2\n",
    "Threads.nthreads()"
   ]
  },
  {
   "cell_type": "code",
   "execution_count": 5,
   "metadata": {},
   "outputs": [],
   "source": [
    "#;cat /proc/cpuinfo # on Linux machines"
   ]
  },
  {
   "cell_type": "code",
   "execution_count": 4,
   "metadata": {},
   "outputs": [
    {
     "data": {
      "text/plain": [
       "2"
      ]
     },
     "execution_count": 4,
     "metadata": {},
     "output_type": "execute_result"
    }
   ],
   "source": [
    "using Hwloc\n",
    "Hwloc.num_physical_cores()"
   ]
  },
  {
   "cell_type": "markdown",
   "metadata": {},
   "source": [
    "<a href=\"#top\">Back to the top</a>\n",
    "\n",
    "## Initial value problem: Solar-System15"
   ]
  },
  {
   "cell_type": "code",
   "execution_count": 5,
   "metadata": {},
   "outputs": [],
   "source": [
    "include(\"../examples/Nbody.jl\")\n",
    "include(\"../examples/InitialNBody15.jl\")\n",
    "u0128, Gm128 =InitialNBody15(BigFloat)\n",
    "\n",
    "q0128=u0128[2,:,:]\n",
    "v0128=u0128[1,:,:]\n",
    "\n",
    "dt=5\n",
    "t0=0.0\n",
    "t1=20*dt    #20, 1000.\n",
    "mysaveat=1  #10\n",
    "\n",
    "tspan128=(BigFloat(t0),BigFloat(t1))\n",
    "prob128=ODEProblem(NbodyODE!,u0128,tspan128,Gm128);"
   ]
  },
  {
   "cell_type": "code",
   "execution_count": 6,
   "metadata": {},
   "outputs": [
    {
     "data": {
      "text/plain": [
       "(0.0, 100.0)"
      ]
     },
     "execution_count": 6,
     "metadata": {},
     "output_type": "execute_result"
    }
   ],
   "source": [
    "u064, Gm64 =InitialNBody15(Float64)\n",
    "lpp=Gm64;\n",
    "tspan128"
   ]
  },
  {
   "cell_type": "markdown",
   "metadata": {},
   "source": [
    "<a href=\"#top\">Back to the top</a>\n",
    "\n",
    "## Ode problem"
   ]
  },
  {
   "cell_type": "markdown",
   "metadata": {},
   "source": [
    "### Test solution"
   ]
  },
  {
   "cell_type": "code",
   "execution_count": 7,
   "metadata": {},
   "outputs": [],
   "source": [
    "prob128 = ODEProblem(NbodyODE!,u0128,tspan128,Gm128,;lpp=lpp);\n",
    "#sol =solve(prob128,Vern9(),saveat=mysaveat,abstol=1e-24,reltol=1e-24,maxiters=100000);\n",
    "#@save \"./Data/solarsystem15small_test_solF128.jld2\" sol\n",
    "@load \"./Data/solarsystem15small_test_solF128.jld2\" sol\n",
    "test_sol = TestSolution(sol);"
   ]
  },
  {
   "cell_type": "markdown",
   "metadata": {},
   "source": [
    "### IRKGL16 (Fixed-Step)"
   ]
  },
  {
   "cell_type": "code",
   "execution_count": 10,
   "metadata": {},
   "outputs": [
    {
     "data": {
      "text/plain": [
       "DiffEqBase.DEStats\n",
       "Number of function 1 evaluations:                  3411\n",
       "Number of function 2 evaluations:                  0\n",
       "Number of W matrix evaluations:                    0\n",
       "Number of linear solves:                           0\n",
       "Number of Jacobians created:                       0\n",
       "Number of nonlinear solver iterations:             0\n",
       "Number of nonlinear solver convergence failures:   0\n",
       "Number of rootfind condition calls:                0\n",
       "Number of accepted steps:                          20\n",
       "Number of rejected steps:                          0"
      ]
     },
     "execution_count": 10,
     "metadata": {},
     "output_type": "execute_result"
    }
   ],
   "source": [
    "(sol1,iters1,steps1) =solve(prob128,IRKGL16(),dt=dt,saveat=mysaveat,adaptive=false,myoutputs=true,\n",
    "                             mixed_precision=false);\n",
    "sol1.destats"
   ]
  },
  {
   "cell_type": "code",
   "execution_count": 11,
   "metadata": {},
   "outputs": [
    {
     "data": {
      "text/plain": [
       "22.38095238095238"
      ]
     },
     "execution_count": 11,
     "metadata": {},
     "output_type": "execute_result"
    }
   ],
   "source": [
    "mean(iters1)"
   ]
  },
  {
   "cell_type": "code",
   "execution_count": 8,
   "metadata": {},
   "outputs": [
    {
     "name": "stdout",
     "output_type": "stream",
     "text": [
      "***************************************************\n",
      "urratsa=1\n",
      "1,high-=1,0,0.4232449465403114507272413254244516\n",
      "1,high-=2,0,0.04052449883109784508339464785465009\n",
      "1,high-=3,0,7.684085969737308131835536620698319e-05\n",
      "1,high-=4,0,6.224561316378077166175560253033133e-10\n",
      "1,high-=5,0,1.241879912443253605002943680403329e-19\n",
      "1,high-=6,620,1.202984517593276753293045523548368e-28\n",
      "1,high-=7,717,1.083335593717820167343987592704022e-34\n",
      "1,high-=8,720,0.0\n",
      "***************************************************\n",
      "urratsa=2\n",
      "2,high-=1,0,2.113629835451496983508668239522493e-06\n",
      "2,high-=2,0,5.591842993513444633825978196007547e-07\n",
      "2,high-=3,0,6.718835630756708847842418246841355e-11\n",
      "2,high-=4,0,4.134553370990203515191660760674272e-17\n",
      "2,high-=5,343,1.000986156288399520769442680308438e-26\n",
      "2,high-=6,704,1.498325860050280748597105213989255e-33\n",
      "2,high-=7,718,1.361838123766444824837096281396382e-34\n",
      "2,high-=8,719,3.851859888774471706111955885169855e-34\n",
      "2,high-=9,720,0.0\n",
      "***************************************************\n",
      "urratsa=3\n",
      "3,high-=1,0,6.420974772417550975421635483232682e-06\n",
      "3,high-=2,0,1.80721101358239285493765007515312e-06\n",
      "3,high-=3,0,1.508151743551255844765888758764756e-10\n",
      "3,high-=4,0,2.796014060420117385946876685924054e-16\n",
      "3,high-=5,207,8.954637298658806895354745272655369e-26\n",
      "3,high-=6,691,3.088454024684142846508418833527006e-33\n",
      "3,high-=7,719,7.703719777548943412223911770339709e-34\n",
      "3,high-=8,720,0.0\n",
      "***************************************************\n",
      "urratsa=4\n",
      "4,high-=1,0,1.454874968257198784073075664670722e-05\n",
      "4,high-=2,0,4.191942818158428514430559698303794e-06\n",
      "4,high-=3,0,5.935798970711847606176945650334777e-10\n",
      "4,high-=4,0,9.323105913689173227499340991620704e-16\n",
      "4,high-=5,134,2.942903113514290104610014224909199e-25\n",
      "4,high-=6,691,9.620397898566587289037477405212343e-33\n",
      "4,high-=7,716,6.018531076210112040799931070577898e-35\n",
      "4,high-=8,719,1.540743955509788682444782354067942e-33\n",
      "4,high-=9,716,7.61290654773135640597818842955492e-35\n",
      "4,high-=10,720,0.0\n",
      "***************************************************\n",
      "urratsa=5\n",
      "5,high-=1,0,2.002323540924868404425750798550799e-05\n",
      "5,high-=2,0,5.510124801387318210096620426766449e-06\n",
      "5,high-=3,0,4.252396779721061581164251073953699e-10\n",
      "5,high-=4,0,1.231461918038478273311166485231464e-15\n",
      "5,high-=5,113,3.51381123830188780142562892014955e-25\n",
      "5,high-=6,687,7.244734949307233713147840011065453e-33\n",
      "5,high-=7,718,7.707480441564755156771527521877238e-34\n",
      "5,high-=8,720,0.0\n",
      "***************************************************\n",
      "urratsa=6\n",
      "6,high-=1,0,1.473853555014903476015020864289131e-05\n",
      "6,high-=2,0,3.708178195270925648298033438059469e-06\n",
      "6,high-=3,0,3.279850090815623268968366003135229e-10\n",
      "6,high-=4,0,6.834545839627410335670355110920271e-17\n",
      "6,high-=5,320,1.279609664357432184884161974648501e-26\n",
      "6,high-=6,705,6.597200296994768094018303356183699e-33\n",
      "6,high-=7,719,7.703719777548943412223911770339709e-34\n",
      "6,high-=8,720,0.0\n",
      "***************************************************\n",
      "urratsa=7\n",
      "7,high-=1,0,6.5063664699020849845410169093483e-06\n",
      "7,high-=2,0,1.450079438490597964701054546125752e-06\n",
      "7,high-=3,0,4.458622331683377499142230700568269e-11\n",
      "7,high-=4,0,5.869252777997358889474198696871748e-17\n",
      "7,high-=5,316,8.391798319048643926454927206953754e-27\n",
      "7,high-=6,705,1.795907017550607159459131467544279e-33\n",
      "7,high-=7,720,0.0\n",
      "***************************************************\n",
      "urratsa=8\n",
      "8,high-=1,0,2.177982376146452205735422220889684e-06\n",
      "8,high-=2,0,4.30676373932871546418383831416751e-07\n",
      "8,high-=3,0,1.665539507127441947067587464786912e-11\n",
      "8,high-=4,0,1.364038615915773600957870407745916e-18\n",
      "8,high-=5,568,1.075050800745735603006604581691693e-28\n",
      "8,high-=6,706,1.772843097751897703119402138093103e-33\n",
      "8,high-=7,719,1.540743955509788682444782354067942e-33\n",
      "8,high-=8,720,0.0\n",
      "***************************************************\n",
      "urratsa=9\n",
      "9,high-=1,0,6.700160360249377148932964176150974e-07\n",
      "9,high-=2,0,1.167357196087315675385539377478232e-07\n",
      "9,high-=3,0,4.144120300278377661744391837620884e-12\n",
      "9,high-=4,0,8.850368692262438328010964882391654e-19\n",
      "9,high-=5,595,6.470047931881800654768046800418443e-29\n",
      "9,high-=6,709,1.593152468501564908860391667851714e-33\n",
      "9,high-=7,718,2.408587637988985986491102350586637e-35\n",
      "9,high-=8,720,0.0\n",
      "***************************************************\n",
      "urratsa=10\n",
      "10,high-=1,0,2.116028721213034015170108596662361e-07\n",
      "10,high-=2,0,3.263233860803733055440722814115701e-08\n",
      "10,high-=3,0,6.68832493291470374575196395282296e-13\n",
      "10,high-=4,1,1.384061360087127392663726150678466e-19\n",
      "10,high-=5,644,8.027972746142171658761089961757515e-30\n",
      "10,high-=6,717,1.723276871078503376473770291685997e-33\n",
      "10,high-=7,719,4.814824860968089632639944856462318e-35\n",
      "10,high-=8,720,0.0\n",
      "***************************************************\n",
      "urratsa=11\n",
      "11,high-=1,0,7.146381922387927085319610819537397e-08\n",
      "11,high-=2,0,9.798600974674502942296410831047263e-09\n",
      "11,high-=3,0,9.796017368388943497047633974739429e-14\n",
      "11,high-=4,4,1.881310804004603966573617665332459e-20\n",
      "11,high-=5,668,9.243469920866474281257829679811846e-31\n",
      "11,high-=6,715,1.076627568888062230193845800043997e-34\n",
      "11,high-=7,720,0.0\n",
      "***************************************************\n",
      "urratsa=12\n",
      "12,high-=1,0,2.639871977873305630312441112260902e-08\n",
      "12,high-=2,0,3.112439165423842185153916048862666e-09\n",
      "12,high-=3,0,2.635541196184288530143007236294821e-14\n",
      "12,high-=4,17,2.304028813712739235140437340131482e-21\n",
      "12,high-=5,677,9.769486576383522492901343912333828e-32\n",
      "12,high-=6,718,3.404595309416112062092740703490955e-35\n",
      "12,high-=7,720,0.0\n",
      "***************************************************\n",
      "urratsa=13\n",
      "13,high-=1,0,1.117364415232477195021733646803217e-08\n",
      "13,high-=2,0,8.906915847544262034665153687769348e-10\n",
      "13,high-=3,0,1.092138146890287228190561886636214e-14\n",
      "13,high-=4,38,2.376805431379017654128638396341431e-22\n",
      "13,high-=5,692,7.249440288932391605994542209060398e-33\n",
      "13,high-=6,713,4.814824860968089632639944856462303e-35\n",
      "13,high-=7,720,0.0\n",
      "***************************************************\n",
      "urratsa=14\n",
      "14,high-=1,0,8.020579208174771597764675816244174e-09\n",
      "14,high-=2,0,4.644526444132072141796222802862158e-10\n",
      "14,high-=3,0,1.507157847785246623759938250596242e-14\n",
      "14,high-=4,26,9.29468206531557762109314428830748e-22\n",
      "14,high-=5,676,4.608989851137310198476663738969368e-32\n",
      "14,high-=6,714,5.455409177372856804566659395857726e-34\n",
      "14,high-=7,718,2.691568922220155575484614500109991e-35\n",
      "14,high-=8,720,0.0\n",
      "***************************************************\n",
      "urratsa=15\n",
      "15,high-=1,0,1.485787573537388410538136181706012e-08\n",
      "15,high-=2,0,1.998029465714796769306080552305273e-09\n",
      "15,high-=3,0,4.752616929162872218714268027007784e-14\n",
      "15,high-=4,15,1.767246660763553325234985850493047e-21\n",
      "15,high-=5,670,9.132235279138021241518168678279422e-32\n",
      "15,high-=6,718,4.963007867655325170190320936733843e-35\n",
      "15,high-=7,720,0.0\n",
      "***************************************************\n",
      "urratsa=16\n",
      "16,high-=1,0,3.748806517999320009583718236692194e-08\n",
      "16,high-=2,0,6.301192620879790856860176629741015e-09\n",
      "16,high-=3,0,1.27906753374370092537762692107742e-13\n",
      "16,high-=4,2,3.475863576438284573177862066604763e-21\n",
      "16,high-=5,660,1.220893002047230847117060234139426e-31\n",
      "16,high-=6,719,2.407412430484044816319972428231159e-35\n",
      "16,high-=7,720,0.0\n",
      "***************************************************\n",
      "urratsa=17\n",
      "17,high-=1,0,1.055812483568167489811069541967786e-07\n",
      "17,high-=2,0,2.039939494785235575500390803968153e-08\n",
      "17,high-=3,0,3.21185157448670637271564431762259e-13\n",
      "17,high-=4,7,1.086533506326475197726833097093225e-19\n",
      "17,high-=5,618,1.017041737388372257251322202137774e-29\n",
      "17,high-=6,716,7.778602170381612466653021484146271e-34\n",
      "17,high-=7,720,0.0\n",
      "***************************************************\n",
      "urratsa=18\n",
      "18,high-=1,0,3.227901643492554560262130313948669e-07\n",
      "18,high-=2,0,7.075815329025060728480812784035713e-08\n",
      "18,high-=3,0,2.398349086078797187116411264329083e-12\n",
      "18,high-=4,0,1.653841983111215619639531677310983e-18\n",
      "18,high-=5,551,2.274886503979685436396838160636369e-28\n",
      "18,high-=6,711,1.605763942237090704524882334242292e-33\n",
      "18,high-=7,716,3.984976641415922127671387819838182e-34\n",
      "18,high-=8,719,3.851859888774471706111955885169855e-34\n",
      "18,high-=9,720,0.0\n",
      "***************************************************\n",
      "urratsa=19\n",
      "19,high-=1,0,1.043791470151231716520612895855867e-06\n",
      "19,high-=2,0,2.596626254294304307715997113206124e-07\n",
      "19,high-=3,0,2.321338259345209841195240488110513e-11\n",
      "19,high-=4,0,1.720230381578349682571246110259469e-17\n",
      "19,high-=5,420,3.460493080109854748318472984109227e-27\n"
     ]
    },
    {
     "name": "stdout",
     "output_type": "stream",
     "text": [
      "19,high-=6,705,1.615972792036766128916518899978863e-33\n",
      "19,high-=7,716,3.045162619092542562391275371821968e-34\n",
      "19,high-=8,719,1.925929944387235853055977942584927e-34\n",
      "19,high-=9,720,0.0\n",
      "***************************************************\n",
      "urratsa=20\n",
      "20,high-=1,0,3.387875836985207439430208731087923e-06\n",
      "20,high-=2,0,9.23219860637915167181033851219187e-07\n",
      "20,high-=3,0,1.130115468278951358799110660452385e-10\n",
      "20,high-=4,0,2.862324845195762074012199977615521e-17\n",
      "20,high-=5,350,6.335509258595834542332024702735825e-27\n",
      "20,high-=6,709,1.947624926041698942730742471187239e-33\n",
      "20,high-=7,717,1.887018257638204339560653512016249e-33\n",
      "20,high-=8,719,9.629649721936179265279889712924637e-35\n",
      "20,high-=9,719,7.703719777548943412223911770339709e-34\n",
      "20,high-=10,720,0.0\n"
     ]
    },
    {
     "data": {
      "text/plain": [
       "DiffEqBase.DEStats\n",
       "Number of function 1 evaluations:                  1090\n",
       "Number of function 2 evaluations:                  9240\n",
       "Number of W matrix evaluations:                    0\n",
       "Number of linear solves:                           0\n",
       "Number of Jacobians created:                       0\n",
       "Number of nonlinear solver iterations:             0\n",
       "Number of nonlinear solver convergence failures:   0\n",
       "Number of rootfind condition calls:                0\n",
       "Number of accepted steps:                          20\n",
       "Number of rejected steps:                          0"
      ]
     },
     "execution_count": 8,
     "metadata": {},
     "output_type": "execute_result"
    }
   ],
   "source": [
    "(sol2,iters2,steps2) = solve(prob128,IRKGL16(),dt=dt,saveat=mysaveat,adaptive=false,myoutputs=true,\n",
    "                             mixed_precision=true, low_prec_type=Float64);\n",
    "sol2.destats"
   ]
  },
  {
   "cell_type": "code",
   "execution_count": 9,
   "metadata": {},
   "outputs": [
    {
     "data": {
      "text/plain": [
       "8.571428571428571"
      ]
     },
     "execution_count": 9,
     "metadata": {},
     "output_type": "execute_result"
    }
   ],
   "source": [
    "mean(iters2)"
   ]
  },
  {
   "cell_type": "markdown",
   "metadata": {},
   "source": [
    "<a href=\"#top\">Back to the top</a>\n",
    "\n",
    "## DynamicalProblem"
   ]
  },
  {
   "cell_type": "code",
   "execution_count": 14,
   "metadata": {},
   "outputs": [],
   "source": [
    "probdyn128 = DynamicalODEProblem(NbodyODEq!,NbodyODEv!,q0128,v0128,tspan128,Gm128,;lpp=lpp);"
   ]
  },
  {
   "cell_type": "markdown",
   "metadata": {},
   "source": [
    "### IRKGL16 (Fixed-Step)"
   ]
  },
  {
   "cell_type": "code",
   "execution_count": 15,
   "metadata": {},
   "outputs": [],
   "source": [
    "#(sol11,iters11,steps11) =solve(probdyn128,IRKGL163(),dt=dt,saveat=mysaveat,adaptive=false,myoutputs=true,\n",
    "#              mixed_precision=false);\n",
    "#sol11.destats"
   ]
  },
  {
   "cell_type": "code",
   "execution_count": 16,
   "metadata": {},
   "outputs": [],
   "source": [
    "#mean(iters11)"
   ]
  },
  {
   "cell_type": "code",
   "execution_count": 17,
   "metadata": {},
   "outputs": [],
   "source": [
    "# barne iterazioak : lmax=min(lmax+1,4)\n",
    "#(sol12,iters12,steps12) = solve(probdyn128,IRKGL163(),dt=dt,saveat=mysaveat,adaptive=false,myoutputs=true,\n",
    "#                                mixed_precision=true, low_prec_type=Float64);\n",
    "#sol12.destats"
   ]
  },
  {
   "cell_type": "code",
   "execution_count": 18,
   "metadata": {},
   "outputs": [],
   "source": [
    "#mean(iters12)"
   ]
  },
  {
   "cell_type": "code",
   "execution_count": 19,
   "metadata": {},
   "outputs": [],
   "source": [
    "# barne iterazioak : lmax=min(lmax+1,2)\n",
    "#(sol13,iters13,steps13) = solve(probdyn128,IRKGL163(),dt=dt,saveat=mysaveat,adaptive=false,myoutputs=true,\n",
    "#                                mixed_precision=true, low_prec_type=Float64);\n",
    "#sol13.destats"
   ]
  },
  {
   "cell_type": "code",
   "execution_count": 20,
   "metadata": {},
   "outputs": [],
   "source": [
    "#mean(iters13)"
   ]
  },
  {
   "cell_type": "markdown",
   "metadata": {},
   "source": [
    "<a href=\"#top\">Back to the top</a>\n",
    "\n",
    "## Error in energy"
   ]
  },
  {
   "cell_type": "code",
   "execution_count": 21,
   "metadata": {},
   "outputs": [
    {
     "data": {
      "text/plain": [
       "(1.2841041f-27, 2.5345949f-21, 2.5345949f-21)"
      ]
     },
     "execution_count": 21,
     "metadata": {},
     "output_type": "execute_result"
    }
   ],
   "source": [
    "setprecision(BigFloat, 256)\n",
    "u0128, Gm128 =InitialNBody15(BigFloat)\n",
    "E0=NbodyEnergy(u0128,Gm128)\n",
    "\n",
    "ΔE = map(x->NbodyEnergy(BigFloat.(x),Gm128), sol.u)./E0.-1\n",
    "ΔE1 = map(x->NbodyEnergy(BigFloat.(x),Gm128), sol1.u)./E0.-1\n",
    "ΔE2 = map(x->NbodyEnergy(BigFloat.(x),Gm128), sol2.u)./E0.-1\n",
    "#ΔE11 = map(x->NbodyEnergy2(BigFloat.(x),Gm128), sol11.u)./E0.-1\n",
    "#ΔE12 = map(x->NbodyEnergy2(BigFloat.(x),Gm128), sol12.u)./E0.-1\n",
    "\n",
    "(Float32(maximum(abs.(ΔE))),Float32(maximum(abs.(ΔE1))),Float32(maximum(abs.(ΔE2))))"
   ]
  },
  {
   "cell_type": "code",
   "execution_count": 22,
   "metadata": {},
   "outputs": [
    {
     "data": {
      "image/svg+xml": [
       "<?xml version=\"1.0\" encoding=\"utf-8\"?>\n",
       "<svg xmlns=\"http://www.w3.org/2000/svg\" xmlns:xlink=\"http://www.w3.org/1999/xlink\" width=\"600\" height=\"400\" viewBox=\"0 0 2400 1600\">\n",
       "<defs>\n",
       "  <clipPath id=\"clip6600\">\n",
       "    <rect x=\"0\" y=\"0\" width=\"2400\" height=\"1600\"/>\n",
       "  </clipPath>\n",
       "</defs>\n",
       "<path clip-path=\"url(#clip6600)\" d=\"\n",
       "M0 1600 L2400 1600 L2400 0 L0 0  Z\n",
       "  \" fill=\"#ffffff\" fill-rule=\"evenodd\" fill-opacity=\"1\"/>\n",
       "<defs>\n",
       "  <clipPath id=\"clip6601\">\n",
       "    <rect x=\"480\" y=\"0\" width=\"1681\" height=\"1600\"/>\n",
       "  </clipPath>\n",
       "</defs>\n",
       "<path clip-path=\"url(#clip6600)\" d=\"\n",
       "M168.627 1487.47 L2352.76 1487.47 L2352.76 121.675 L168.627 121.675  Z\n",
       "  \" fill=\"#ffffff\" fill-rule=\"evenodd\" fill-opacity=\"1\"/>\n",
       "<defs>\n",
       "  <clipPath id=\"clip6602\">\n",
       "    <rect x=\"168\" y=\"121\" width=\"2185\" height=\"1367\"/>\n",
       "  </clipPath>\n",
       "</defs>\n",
       "<polyline clip-path=\"url(#clip6602)\" style=\"stroke:#000000; stroke-width:2; stroke-opacity:0.1; fill:none\" points=\"\n",
       "  230.442,1487.47 230.442,121.675 \n",
       "  \"/>\n",
       "<polyline clip-path=\"url(#clip6602)\" style=\"stroke:#000000; stroke-width:2; stroke-opacity:0.1; fill:none\" points=\"\n",
       "  745.567,1487.47 745.567,121.675 \n",
       "  \"/>\n",
       "<polyline clip-path=\"url(#clip6602)\" style=\"stroke:#000000; stroke-width:2; stroke-opacity:0.1; fill:none\" points=\"\n",
       "  1260.69,1487.47 1260.69,121.675 \n",
       "  \"/>\n",
       "<polyline clip-path=\"url(#clip6602)\" style=\"stroke:#000000; stroke-width:2; stroke-opacity:0.1; fill:none\" points=\"\n",
       "  1775.82,1487.47 1775.82,121.675 \n",
       "  \"/>\n",
       "<polyline clip-path=\"url(#clip6602)\" style=\"stroke:#000000; stroke-width:2; stroke-opacity:0.1; fill:none\" points=\"\n",
       "  2290.94,1487.47 2290.94,121.675 \n",
       "  \"/>\n",
       "<polyline clip-path=\"url(#clip6602)\" style=\"stroke:#000000; stroke-width:2; stroke-opacity:0.1; fill:none\" points=\"\n",
       "  168.627,1487.47 2352.76,1487.47 \n",
       "  \"/>\n",
       "<polyline clip-path=\"url(#clip6602)\" style=\"stroke:#000000; stroke-width:2; stroke-opacity:0.1; fill:none\" points=\"\n",
       "  168.627,1259.84 2352.76,1259.84 \n",
       "  \"/>\n",
       "<polyline clip-path=\"url(#clip6602)\" style=\"stroke:#000000; stroke-width:2; stroke-opacity:0.1; fill:none\" points=\"\n",
       "  168.627,1032.21 2352.76,1032.21 \n",
       "  \"/>\n",
       "<polyline clip-path=\"url(#clip6602)\" style=\"stroke:#000000; stroke-width:2; stroke-opacity:0.1; fill:none\" points=\"\n",
       "  168.627,804.575 2352.76,804.575 \n",
       "  \"/>\n",
       "<polyline clip-path=\"url(#clip6602)\" style=\"stroke:#000000; stroke-width:2; stroke-opacity:0.1; fill:none\" points=\"\n",
       "  168.627,576.942 2352.76,576.942 \n",
       "  \"/>\n",
       "<polyline clip-path=\"url(#clip6602)\" style=\"stroke:#000000; stroke-width:2; stroke-opacity:0.1; fill:none\" points=\"\n",
       "  168.627,349.308 2352.76,349.308 \n",
       "  \"/>\n",
       "<polyline clip-path=\"url(#clip6602)\" style=\"stroke:#000000; stroke-width:2; stroke-opacity:0.1; fill:none\" points=\"\n",
       "  168.627,121.675 2352.76,121.675 \n",
       "  \"/>\n",
       "<polyline clip-path=\"url(#clip6600)\" style=\"stroke:#000000; stroke-width:4; stroke-opacity:1; fill:none\" points=\"\n",
       "  168.627,1487.47 2352.76,1487.47 \n",
       "  \"/>\n",
       "<polyline clip-path=\"url(#clip6600)\" style=\"stroke:#000000; stroke-width:4; stroke-opacity:1; fill:none\" points=\"\n",
       "  168.627,1487.47 168.627,121.675 \n",
       "  \"/>\n",
       "<polyline clip-path=\"url(#clip6600)\" style=\"stroke:#000000; stroke-width:4; stroke-opacity:1; fill:none\" points=\"\n",
       "  230.442,1487.47 230.442,1471.09 \n",
       "  \"/>\n",
       "<polyline clip-path=\"url(#clip6600)\" style=\"stroke:#000000; stroke-width:4; stroke-opacity:1; fill:none\" points=\"\n",
       "  745.567,1487.47 745.567,1471.09 \n",
       "  \"/>\n",
       "<polyline clip-path=\"url(#clip6600)\" style=\"stroke:#000000; stroke-width:4; stroke-opacity:1; fill:none\" points=\"\n",
       "  1260.69,1487.47 1260.69,1471.09 \n",
       "  \"/>\n",
       "<polyline clip-path=\"url(#clip6600)\" style=\"stroke:#000000; stroke-width:4; stroke-opacity:1; fill:none\" points=\"\n",
       "  1775.82,1487.47 1775.82,1471.09 \n",
       "  \"/>\n",
       "<polyline clip-path=\"url(#clip6600)\" style=\"stroke:#000000; stroke-width:4; stroke-opacity:1; fill:none\" points=\"\n",
       "  2290.94,1487.47 2290.94,1471.09 \n",
       "  \"/>\n",
       "<polyline clip-path=\"url(#clip6600)\" style=\"stroke:#000000; stroke-width:4; stroke-opacity:1; fill:none\" points=\"\n",
       "  168.627,1487.47 194.836,1487.47 \n",
       "  \"/>\n",
       "<polyline clip-path=\"url(#clip6600)\" style=\"stroke:#000000; stroke-width:4; stroke-opacity:1; fill:none\" points=\"\n",
       "  168.627,1259.84 194.836,1259.84 \n",
       "  \"/>\n",
       "<polyline clip-path=\"url(#clip6600)\" style=\"stroke:#000000; stroke-width:4; stroke-opacity:1; fill:none\" points=\"\n",
       "  168.627,1032.21 194.836,1032.21 \n",
       "  \"/>\n",
       "<polyline clip-path=\"url(#clip6600)\" style=\"stroke:#000000; stroke-width:4; stroke-opacity:1; fill:none\" points=\"\n",
       "  168.627,804.575 194.836,804.575 \n",
       "  \"/>\n",
       "<polyline clip-path=\"url(#clip6600)\" style=\"stroke:#000000; stroke-width:4; stroke-opacity:1; fill:none\" points=\"\n",
       "  168.627,576.942 194.836,576.942 \n",
       "  \"/>\n",
       "<polyline clip-path=\"url(#clip6600)\" style=\"stroke:#000000; stroke-width:4; stroke-opacity:1; fill:none\" points=\"\n",
       "  168.627,349.308 194.836,349.308 \n",
       "  \"/>\n",
       "<polyline clip-path=\"url(#clip6600)\" style=\"stroke:#000000; stroke-width:4; stroke-opacity:1; fill:none\" points=\"\n",
       "  168.627,121.675 194.836,121.675 \n",
       "  \"/>\n",
       "<g clip-path=\"url(#clip6600)\">\n",
       "<text style=\"fill:#000000; fill-opacity:1; font-family:Arial,Helvetica Neue,Helvetica,sans-serif; font-size:48px; text-anchor:middle;\" transform=\"rotate(0, 230.442, 1541.47)\" x=\"230.442\" y=\"1541.47\">0</text>\n",
       "</g>\n",
       "<g clip-path=\"url(#clip6600)\">\n",
       "<text style=\"fill:#000000; fill-opacity:1; font-family:Arial,Helvetica Neue,Helvetica,sans-serif; font-size:48px; text-anchor:middle;\" transform=\"rotate(0, 745.567, 1541.47)\" x=\"745.567\" y=\"1541.47\">25</text>\n",
       "</g>\n",
       "<g clip-path=\"url(#clip6600)\">\n",
       "<text style=\"fill:#000000; fill-opacity:1; font-family:Arial,Helvetica Neue,Helvetica,sans-serif; font-size:48px; text-anchor:middle;\" transform=\"rotate(0, 1260.69, 1541.47)\" x=\"1260.69\" y=\"1541.47\">50</text>\n",
       "</g>\n",
       "<g clip-path=\"url(#clip6600)\">\n",
       "<text style=\"fill:#000000; fill-opacity:1; font-family:Arial,Helvetica Neue,Helvetica,sans-serif; font-size:48px; text-anchor:middle;\" transform=\"rotate(0, 1775.82, 1541.47)\" x=\"1775.82\" y=\"1541.47\">75</text>\n",
       "</g>\n",
       "<g clip-path=\"url(#clip6600)\">\n",
       "<text style=\"fill:#000000; fill-opacity:1; font-family:Arial,Helvetica Neue,Helvetica,sans-serif; font-size:48px; text-anchor:middle;\" transform=\"rotate(0, 2290.94, 1541.47)\" x=\"2290.94\" y=\"1541.47\">100</text>\n",
       "</g>\n",
       "<g clip-path=\"url(#clip6600)\">\n",
       "<text style=\"fill:#000000; fill-opacity:1; font-family:Arial,Helvetica Neue,Helvetica,sans-serif; font-size:48px; text-anchor:end;\" transform=\"rotate(0, 144.627, 1504.97)\" x=\"144.627\" y=\"1504.97\">-30</text>\n",
       "</g>\n",
       "<g clip-path=\"url(#clip6600)\">\n",
       "<text style=\"fill:#000000; fill-opacity:1; font-family:Arial,Helvetica Neue,Helvetica,sans-serif; font-size:48px; text-anchor:end;\" transform=\"rotate(0, 144.627, 1277.34)\" x=\"144.627\" y=\"1277.34\">-28</text>\n",
       "</g>\n",
       "<g clip-path=\"url(#clip6600)\">\n",
       "<text style=\"fill:#000000; fill-opacity:1; font-family:Arial,Helvetica Neue,Helvetica,sans-serif; font-size:48px; text-anchor:end;\" transform=\"rotate(0, 144.627, 1049.71)\" x=\"144.627\" y=\"1049.71\">-26</text>\n",
       "</g>\n",
       "<g clip-path=\"url(#clip6600)\">\n",
       "<text style=\"fill:#000000; fill-opacity:1; font-family:Arial,Helvetica Neue,Helvetica,sans-serif; font-size:48px; text-anchor:end;\" transform=\"rotate(0, 144.627, 822.075)\" x=\"144.627\" y=\"822.075\">-24</text>\n",
       "</g>\n",
       "<g clip-path=\"url(#clip6600)\">\n",
       "<text style=\"fill:#000000; fill-opacity:1; font-family:Arial,Helvetica Neue,Helvetica,sans-serif; font-size:48px; text-anchor:end;\" transform=\"rotate(0, 144.627, 594.442)\" x=\"144.627\" y=\"594.442\">-22</text>\n",
       "</g>\n",
       "<g clip-path=\"url(#clip6600)\">\n",
       "<text style=\"fill:#000000; fill-opacity:1; font-family:Arial,Helvetica Neue,Helvetica,sans-serif; font-size:48px; text-anchor:end;\" transform=\"rotate(0, 144.627, 366.808)\" x=\"144.627\" y=\"366.808\">-20</text>\n",
       "</g>\n",
       "<g clip-path=\"url(#clip6600)\">\n",
       "<text style=\"fill:#000000; fill-opacity:1; font-family:Arial,Helvetica Neue,Helvetica,sans-serif; font-size:48px; text-anchor:end;\" transform=\"rotate(0, 144.627, 139.175)\" x=\"144.627\" y=\"139.175\">-18</text>\n",
       "</g>\n",
       "<g clip-path=\"url(#clip6600)\">\n",
       "<text style=\"fill:#000000; fill-opacity:1; font-family:Arial,Helvetica Neue,Helvetica,sans-serif; font-size:84px; text-anchor:middle;\" transform=\"rotate(0, 1260.69, 73.2)\" x=\"1260.69\" y=\"73.2\">ODEProblem</text>\n",
       "</g>\n",
       "<polyline clip-path=\"url(#clip6602)\" style=\"stroke:#009af9; stroke-width:4; stroke-opacity:1; fill:none\" points=\"\n",
       "  230.442,1828.7 251.047,1399.62 271.652,1333.54 292.257,1288.55 312.862,1267.06 333.467,1245.82 354.072,1229.14 374.677,1222.72 395.282,1215.9 415.887,1210.99 \n",
       "  436.492,1206.91 457.097,1204.58 477.702,1200.45 498.307,1198.75 518.912,1196.54 539.517,1193.83 560.122,1190.81 580.727,1188.64 601.332,1187.13 621.937,1185.32 \n",
       "  642.542,1183.22 663.147,1182.47 683.752,1182.01 704.357,1181.2 724.962,1180.01 745.567,1179.99 766.172,1178.97 786.777,1178.22 807.382,1176.81 827.987,1174.68 \n",
       "  848.592,1171.55 869.197,1168.87 889.802,1163.68 910.407,1161.72 931.012,1160.99 951.617,1160.55 972.222,1160.33 992.827,1159.84 1013.43,1159.52 1034.04,1159.6 \n",
       "  1054.64,1159.15 1075.25,1159.13 1095.85,1159.01 1116.46,1158.9 1137.06,1158.71 1157.67,1158.76 1178.27,1158.6 1198.88,1158.69 1219.48,1158.43 1240.09,1158.2 \n",
       "  1260.69,1158.14 1281.3,1158.3 1301.9,1158.44 1322.51,1158.02 1343.11,1158.14 1363.72,1157.87 1384.32,1158.28 1404.93,1157.76 1425.53,1157.49 1446.14,1157.63 \n",
       "  1466.74,1157.87 1487.35,1157.89 1507.95,1157.5 1528.56,1157.11 1549.16,1156.73 1569.77,1156.85 1590.37,1157.08 1610.98,1156.7 1631.58,1156.2 1652.19,1156.5 \n",
       "  1672.79,1155.67 1693.4,1155.99 1714,1155.29 1734.61,1155.25 1755.21,1155.14 1775.82,1154.82 1796.42,1154.51 1817.03,1154.18 1837.63,1153.63 1858.24,1153.32 \n",
       "  1878.84,1153.05 1899.45,1152.72 1920.05,1152.25 1940.66,1151.85 1961.26,1151.42 1981.87,1151.14 2002.47,1150.35 2023.08,1150.05 2043.68,1149.12 2064.29,1148.09 \n",
       "  2084.89,1147.28 2105.5,1145.99 2126.1,1143.68 2146.71,1141.44 2167.31,1139.82 2187.92,1138.17 2208.52,1137.22 2229.13,1135.75 2249.73,1134.87 2270.34,1134.22 \n",
       "  2290.94,1133.66 \n",
       "  \"/>\n",
       "<polyline clip-path=\"url(#clip6602)\" style=\"stroke:#e26f46; stroke-width:4; stroke-opacity:1; fill:none\" points=\"\n",
       "  230.442,1829.87 333.467,599.532 436.492,506.537 539.517,417.154 642.542,419.88 745.567,541.762 848.592,555.052 951.617,535.642 1054.64,534.584 1157.67,534.429 \n",
       "  1260.69,534.411 1363.72,534.409 1466.74,534.409 1569.77,534.409 1672.79,534.409 1775.82,534.413 1878.84,534.452 1981.87,534.756 2084.89,537.191 2187.92,613.781 \n",
       "  2290.94,499.994 \n",
       "  \"/>\n",
       "<polyline clip-path=\"url(#clip6602)\" style=\"stroke:#3da44d; stroke-width:4; stroke-opacity:1; fill:none\" points=\"\n",
       "  230.442,1829.87 333.467,599.532 436.492,506.537 539.517,417.154 642.542,419.88 745.567,541.762 848.592,555.052 951.617,535.642 1054.64,534.584 1157.67,534.429 \n",
       "  1260.69,534.411 1363.72,534.409 1466.74,534.409 1569.77,534.409 1672.79,534.409 1775.82,534.413 1878.84,534.452 1981.87,534.756 2084.89,537.191 2187.92,613.781 \n",
       "  2290.94,499.994 \n",
       "  \"/>\n",
       "<path clip-path=\"url(#clip6600)\" d=\"\n",
       "M1087.03 447.115 L2280.76 447.115 L2280.76 205.195 L1087.03 205.195  Z\n",
       "  \" fill=\"#ffffff\" fill-rule=\"evenodd\" fill-opacity=\"1\"/>\n",
       "<polyline clip-path=\"url(#clip6600)\" style=\"stroke:#000000; stroke-width:4; stroke-opacity:1; fill:none\" points=\"\n",
       "  1087.03,447.115 2280.76,447.115 2280.76,205.195 1087.03,205.195 1087.03,447.115 \n",
       "  \"/>\n",
       "<polyline clip-path=\"url(#clip6600)\" style=\"stroke:#009af9; stroke-width:4; stroke-opacity:1; fill:none\" points=\"\n",
       "  1111.03,265.675 1255.03,265.675 \n",
       "  \"/>\n",
       "<g clip-path=\"url(#clip6600)\">\n",
       "<text style=\"fill:#000000; fill-opacity:1; font-family:Arial,Helvetica Neue,Helvetica,sans-serif; font-size:48px; text-anchor:start;\" transform=\"rotate(0, 1279.03, 283.175)\" x=\"1279.03\" y=\"283.175\">Test solution</text>\n",
       "</g>\n",
       "<polyline clip-path=\"url(#clip6600)\" style=\"stroke:#e26f46; stroke-width:4; stroke-opacity:1; fill:none\" points=\"\n",
       "  1111.03,326.155 1255.03,326.155 \n",
       "  \"/>\n",
       "<g clip-path=\"url(#clip6600)\">\n",
       "<text style=\"fill:#000000; fill-opacity:1; font-family:Arial,Helvetica Neue,Helvetica,sans-serif; font-size:48px; text-anchor:start;\" transform=\"rotate(0, 1279.03, 343.655)\" x=\"1279.03\" y=\"343.655\">IRKGL16-Float128</text>\n",
       "</g>\n",
       "<polyline clip-path=\"url(#clip6600)\" style=\"stroke:#3da44d; stroke-width:4; stroke-opacity:1; fill:none\" points=\"\n",
       "  1111.03,386.635 1255.03,386.635 \n",
       "  \"/>\n",
       "<g clip-path=\"url(#clip6600)\">\n",
       "<text style=\"fill:#000000; fill-opacity:1; font-family:Arial,Helvetica Neue,Helvetica,sans-serif; font-size:48px; text-anchor:start;\" transform=\"rotate(0, 1279.03, 404.135)\" x=\"1279.03\" y=\"404.135\">IRKGL16-Mixed Precision: Float128/Float64</text>\n",
       "</g>\n",
       "</svg>\n"
      ]
     },
     "execution_count": 22,
     "metadata": {},
     "output_type": "execute_result"
    }
   ],
   "source": [
    "ylimit1=-30\n",
    "ylimit2=-18\n",
    "plot(sol.t,log10.(abs.(ΔE)), label=\"Test solution\", title=\"ODEProblem\",\n",
    "    ylims=(ylimit1,ylimit2),)\n",
    "plot!(sol1.t,log10.(abs.(ΔE1)), label=\"IRKGL16-Float128\",\n",
    "     ylims=(ylimit1,ylimit2),)\n",
    "plot!(sol2.t,log10.(abs.(ΔE2)), label=\"IRKGL16-Mixed Precision: Float128/Float64\",\n",
    "     ylims=(ylimit1,ylimit2),)"
   ]
  },
  {
   "cell_type": "code",
   "execution_count": 23,
   "metadata": {},
   "outputs": [],
   "source": [
    "#ylimit1=-30\n",
    "#ylimit2=-18\n",
    "#plot(sol.t,log10.(abs.(ΔE)), label=\"Test solution\", title=\"DynamicalProblem\",\n",
    "#    ylims=(ylimit1,ylimit2),)\n",
    "#plot!(sol1.t,log10.(abs.(ΔE11)), label=\"IRKGL16-Float128\",\n",
    "#     ylims=(ylimit1,ylimit2),)\n",
    "#plot!(sol2.t,log10.(abs.(ΔE12)), label=\"IRKGL16-Mixed Precision: Float128/Float64\",\n",
    "#     ylims=(ylimit1,ylimit2),)"
   ]
  },
  {
   "cell_type": "markdown",
   "metadata": {},
   "source": [
    "<a href=\"#top\">Back to the top</a>\n",
    "\n",
    "## Work-Precision diagrams"
   ]
  },
  {
   "cell_type": "code",
   "execution_count": 24,
   "metadata": {},
   "outputs": [
    {
     "data": {
      "text/plain": [
       "108"
      ]
     },
     "execution_count": 24,
     "metadata": {},
     "output_type": "execute_result"
    }
   ],
   "source": [
    "setprecision(BigFloat, 108)"
   ]
  },
  {
   "cell_type": "code",
   "execution_count": 25,
   "metadata": {},
   "outputs": [
    {
     "data": {
      "text/plain": [
       "1"
      ]
     },
     "execution_count": 25,
     "metadata": {},
     "output_type": "execute_result"
    }
   ],
   "source": [
    "Threads.nthreads()"
   ]
  },
  {
   "cell_type": "code",
   "execution_count": 26,
   "metadata": {},
   "outputs": [
    {
     "data": {
      "text/plain": [
       "11-element Array{Float64,1}:\n",
       " 16.0               \n",
       " 13.856             \n",
       " 11.999296          \n",
       " 10.391390335999999 \n",
       "  8.998944030976    \n",
       "  7.793085530825215 \n",
       "  6.748812069694637 \n",
       "  5.8444712523555555\n",
       "  5.061312104539911 \n",
       "  4.383096282531563 \n",
       "  3.7957613806723334"
      ]
     },
     "execution_count": 26,
     "metadata": {},
     "output_type": "execute_result"
    }
   ],
   "source": [
    "abstols = 1.0 ./ 10.0 .^ (8:18)\n",
    "reltols = 1.0 ./ 10.0 .^ (8:18)\n",
    "dts=16*0.866.^(0:length(reltols)-1)"
   ]
  },
  {
   "cell_type": "markdown",
   "metadata": {},
   "source": [
    "### OdeProblem"
   ]
  },
  {
   "cell_type": "code",
   "execution_count": 27,
   "metadata": {},
   "outputs": [
    {
     "data": {
      "image/svg+xml": [
       "<?xml version=\"1.0\" encoding=\"utf-8\"?>\n",
       "<svg xmlns=\"http://www.w3.org/2000/svg\" xmlns:xlink=\"http://www.w3.org/1999/xlink\" width=\"600\" height=\"400\" viewBox=\"0 0 2400 1600\">\n",
       "<defs>\n",
       "  <clipPath id=\"clip7000\">\n",
       "    <rect x=\"0\" y=\"0\" width=\"2400\" height=\"1600\"/>\n",
       "  </clipPath>\n",
       "</defs>\n",
       "<path clip-path=\"url(#clip7000)\" d=\"\n",
       "M0 1600 L2400 1600 L2400 0 L0 0  Z\n",
       "  \" fill=\"#ffffff\" fill-rule=\"evenodd\" fill-opacity=\"1\"/>\n",
       "<defs>\n",
       "  <clipPath id=\"clip7001\">\n",
       "    <rect x=\"480\" y=\"0\" width=\"1681\" height=\"1600\"/>\n",
       "  </clipPath>\n",
       "</defs>\n",
       "<path clip-path=\"url(#clip7000)\" d=\"\n",
       "M291.853 1425.62 L2352.76 1425.62 L2352.76 47.2441 L291.853 47.2441  Z\n",
       "  \" fill=\"#ffffff\" fill-rule=\"evenodd\" fill-opacity=\"1\"/>\n",
       "<defs>\n",
       "  <clipPath id=\"clip7002\">\n",
       "    <rect x=\"291\" y=\"47\" width=\"2062\" height=\"1379\"/>\n",
       "  </clipPath>\n",
       "</defs>\n",
       "<polyline clip-path=\"url(#clip7002)\" style=\"stroke:#000000; stroke-width:2; stroke-opacity:0.1; fill:none\" points=\"\n",
       "  534.44,1425.62 534.44,47.2441 \n",
       "  \"/>\n",
       "<polyline clip-path=\"url(#clip7002)\" style=\"stroke:#000000; stroke-width:2; stroke-opacity:0.1; fill:none\" points=\"\n",
       "  924.999,1425.62 924.999,47.2441 \n",
       "  \"/>\n",
       "<polyline clip-path=\"url(#clip7002)\" style=\"stroke:#000000; stroke-width:2; stroke-opacity:0.1; fill:none\" points=\"\n",
       "  1315.56,1425.62 1315.56,47.2441 \n",
       "  \"/>\n",
       "<polyline clip-path=\"url(#clip7002)\" style=\"stroke:#000000; stroke-width:2; stroke-opacity:0.1; fill:none\" points=\"\n",
       "  1706.12,1425.62 1706.12,47.2441 \n",
       "  \"/>\n",
       "<polyline clip-path=\"url(#clip7002)\" style=\"stroke:#000000; stroke-width:2; stroke-opacity:0.1; fill:none\" points=\"\n",
       "  2096.68,1425.62 2096.68,47.2441 \n",
       "  \"/>\n",
       "<polyline clip-path=\"url(#clip7002)\" style=\"stroke:#000000; stroke-width:2; stroke-opacity:0.1; fill:none\" points=\"\n",
       "  291.853,1329.34 2352.76,1329.34 \n",
       "  \"/>\n",
       "<polyline clip-path=\"url(#clip7002)\" style=\"stroke:#000000; stroke-width:2; stroke-opacity:0.1; fill:none\" points=\"\n",
       "  291.853,1101.33 2352.76,1101.33 \n",
       "  \"/>\n",
       "<polyline clip-path=\"url(#clip7002)\" style=\"stroke:#000000; stroke-width:2; stroke-opacity:0.1; fill:none\" points=\"\n",
       "  291.853,873.318 2352.76,873.318 \n",
       "  \"/>\n",
       "<polyline clip-path=\"url(#clip7002)\" style=\"stroke:#000000; stroke-width:2; stroke-opacity:0.1; fill:none\" points=\"\n",
       "  291.853,645.308 2352.76,645.308 \n",
       "  \"/>\n",
       "<polyline clip-path=\"url(#clip7002)\" style=\"stroke:#000000; stroke-width:2; stroke-opacity:0.1; fill:none\" points=\"\n",
       "  291.853,417.297 2352.76,417.297 \n",
       "  \"/>\n",
       "<polyline clip-path=\"url(#clip7002)\" style=\"stroke:#000000; stroke-width:2; stroke-opacity:0.1; fill:none\" points=\"\n",
       "  291.853,189.286 2352.76,189.286 \n",
       "  \"/>\n",
       "<polyline clip-path=\"url(#clip7000)\" style=\"stroke:#000000; stroke-width:4; stroke-opacity:1; fill:none\" points=\"\n",
       "  291.853,1425.62 2352.76,1425.62 \n",
       "  \"/>\n",
       "<polyline clip-path=\"url(#clip7000)\" style=\"stroke:#000000; stroke-width:4; stroke-opacity:1; fill:none\" points=\"\n",
       "  291.853,1425.62 291.853,47.2441 \n",
       "  \"/>\n",
       "<polyline clip-path=\"url(#clip7000)\" style=\"stroke:#000000; stroke-width:4; stroke-opacity:1; fill:none\" points=\"\n",
       "  534.44,1425.62 534.44,1409.08 \n",
       "  \"/>\n",
       "<polyline clip-path=\"url(#clip7000)\" style=\"stroke:#000000; stroke-width:4; stroke-opacity:1; fill:none\" points=\"\n",
       "  924.999,1425.62 924.999,1409.08 \n",
       "  \"/>\n",
       "<polyline clip-path=\"url(#clip7000)\" style=\"stroke:#000000; stroke-width:4; stroke-opacity:1; fill:none\" points=\"\n",
       "  1315.56,1425.62 1315.56,1409.08 \n",
       "  \"/>\n",
       "<polyline clip-path=\"url(#clip7000)\" style=\"stroke:#000000; stroke-width:4; stroke-opacity:1; fill:none\" points=\"\n",
       "  1706.12,1425.62 1706.12,1409.08 \n",
       "  \"/>\n",
       "<polyline clip-path=\"url(#clip7000)\" style=\"stroke:#000000; stroke-width:4; stroke-opacity:1; fill:none\" points=\"\n",
       "  2096.68,1425.62 2096.68,1409.08 \n",
       "  \"/>\n",
       "<polyline clip-path=\"url(#clip7000)\" style=\"stroke:#000000; stroke-width:4; stroke-opacity:1; fill:none\" points=\"\n",
       "  291.853,1329.34 316.584,1329.34 \n",
       "  \"/>\n",
       "<polyline clip-path=\"url(#clip7000)\" style=\"stroke:#000000; stroke-width:4; stroke-opacity:1; fill:none\" points=\"\n",
       "  291.853,1101.33 316.584,1101.33 \n",
       "  \"/>\n",
       "<polyline clip-path=\"url(#clip7000)\" style=\"stroke:#000000; stroke-width:4; stroke-opacity:1; fill:none\" points=\"\n",
       "  291.853,873.318 316.584,873.318 \n",
       "  \"/>\n",
       "<polyline clip-path=\"url(#clip7000)\" style=\"stroke:#000000; stroke-width:4; stroke-opacity:1; fill:none\" points=\"\n",
       "  291.853,645.308 316.584,645.308 \n",
       "  \"/>\n",
       "<polyline clip-path=\"url(#clip7000)\" style=\"stroke:#000000; stroke-width:4; stroke-opacity:1; fill:none\" points=\"\n",
       "  291.853,417.297 316.584,417.297 \n",
       "  \"/>\n",
       "<polyline clip-path=\"url(#clip7000)\" style=\"stroke:#000000; stroke-width:4; stroke-opacity:1; fill:none\" points=\"\n",
       "  291.853,189.286 316.584,189.286 \n",
       "  \"/>\n",
       "<g clip-path=\"url(#clip7000)\">\n",
       "<text style=\"fill:#000000; fill-opacity:1; font-family:Arial,Helvetica Neue,Helvetica,sans-serif; font-size:48px; text-anchor:start;\" transform=\"rotate(0, 469.078, 1500.63)\" x=\"469.078\" y=\"1500.63\">10</text>\n",
       "</g>\n",
       "<g clip-path=\"url(#clip7000)\">\n",
       "<text style=\"fill:#000000; fill-opacity:1; font-family:Arial,Helvetica Neue,Helvetica,sans-serif; font-size:38px; text-anchor:start;\" transform=\"rotate(0, 522.602, 1473.22)\" x=\"522.602\" y=\"1473.22\">-</text>\n",
       "</g>\n",
       "<g clip-path=\"url(#clip7000)\">\n",
       "<text style=\"fill:#000000; fill-opacity:1; font-family:Arial,Helvetica Neue,Helvetica,sans-serif; font-size:38px; text-anchor:start;\" transform=\"rotate(0, 545.442, 1473.22)\" x=\"545.442\" y=\"1473.22\">20 </text>\n",
       "</g>\n",
       "<g clip-path=\"url(#clip7000)\">\n",
       "<text style=\"fill:#000000; fill-opacity:1; font-family:Arial,Helvetica Neue,Helvetica,sans-serif; font-size:48px; text-anchor:start;\" transform=\"rotate(0, 859.637, 1500.63)\" x=\"859.637\" y=\"1500.63\">10</text>\n",
       "</g>\n",
       "<g clip-path=\"url(#clip7000)\">\n",
       "<text style=\"fill:#000000; fill-opacity:1; font-family:Arial,Helvetica Neue,Helvetica,sans-serif; font-size:38px; text-anchor:start;\" transform=\"rotate(0, 913.161, 1473.22)\" x=\"913.161\" y=\"1473.22\">-</text>\n",
       "</g>\n",
       "<g clip-path=\"url(#clip7000)\">\n",
       "<text style=\"fill:#000000; fill-opacity:1; font-family:Arial,Helvetica Neue,Helvetica,sans-serif; font-size:38px; text-anchor:start;\" transform=\"rotate(0, 936.001, 1473.22)\" x=\"936.001\" y=\"1473.22\">18 </text>\n",
       "</g>\n",
       "<g clip-path=\"url(#clip7000)\">\n",
       "<text style=\"fill:#000000; fill-opacity:1; font-family:Arial,Helvetica Neue,Helvetica,sans-serif; font-size:48px; text-anchor:start;\" transform=\"rotate(0, 1250.2, 1500.63)\" x=\"1250.2\" y=\"1500.63\">10</text>\n",
       "</g>\n",
       "<g clip-path=\"url(#clip7000)\">\n",
       "<text style=\"fill:#000000; fill-opacity:1; font-family:Arial,Helvetica Neue,Helvetica,sans-serif; font-size:38px; text-anchor:start;\" transform=\"rotate(0, 1303.72, 1473.22)\" x=\"1303.72\" y=\"1473.22\">-</text>\n",
       "</g>\n",
       "<g clip-path=\"url(#clip7000)\">\n",
       "<text style=\"fill:#000000; fill-opacity:1; font-family:Arial,Helvetica Neue,Helvetica,sans-serif; font-size:38px; text-anchor:start;\" transform=\"rotate(0, 1326.56, 1473.22)\" x=\"1326.56\" y=\"1473.22\">16 </text>\n",
       "</g>\n",
       "<g clip-path=\"url(#clip7000)\">\n",
       "<text style=\"fill:#000000; fill-opacity:1; font-family:Arial,Helvetica Neue,Helvetica,sans-serif; font-size:48px; text-anchor:start;\" transform=\"rotate(0, 1640.75, 1500.63)\" x=\"1640.75\" y=\"1500.63\">10</text>\n",
       "</g>\n",
       "<g clip-path=\"url(#clip7000)\">\n",
       "<text style=\"fill:#000000; fill-opacity:1; font-family:Arial,Helvetica Neue,Helvetica,sans-serif; font-size:38px; text-anchor:start;\" transform=\"rotate(0, 1694.28, 1473.22)\" x=\"1694.28\" y=\"1473.22\">-</text>\n",
       "</g>\n",
       "<g clip-path=\"url(#clip7000)\">\n",
       "<text style=\"fill:#000000; fill-opacity:1; font-family:Arial,Helvetica Neue,Helvetica,sans-serif; font-size:38px; text-anchor:start;\" transform=\"rotate(0, 1717.12, 1473.22)\" x=\"1717.12\" y=\"1473.22\">14 </text>\n",
       "</g>\n",
       "<g clip-path=\"url(#clip7000)\">\n",
       "<text style=\"fill:#000000; fill-opacity:1; font-family:Arial,Helvetica Neue,Helvetica,sans-serif; font-size:48px; text-anchor:start;\" transform=\"rotate(0, 2031.31, 1500.63)\" x=\"2031.31\" y=\"1500.63\">10</text>\n",
       "</g>\n",
       "<g clip-path=\"url(#clip7000)\">\n",
       "<text style=\"fill:#000000; fill-opacity:1; font-family:Arial,Helvetica Neue,Helvetica,sans-serif; font-size:38px; text-anchor:start;\" transform=\"rotate(0, 2084.84, 1473.22)\" x=\"2084.84\" y=\"1473.22\">-</text>\n",
       "</g>\n",
       "<g clip-path=\"url(#clip7000)\">\n",
       "<text style=\"fill:#000000; fill-opacity:1; font-family:Arial,Helvetica Neue,Helvetica,sans-serif; font-size:38px; text-anchor:start;\" transform=\"rotate(0, 2107.68, 1473.22)\" x=\"2107.68\" y=\"1473.22\">12 </text>\n",
       "</g>\n",
       "<g clip-path=\"url(#clip7000)\">\n",
       "<text style=\"fill:#000000; fill-opacity:1; font-family:Arial,Helvetica Neue,Helvetica,sans-serif; font-size:48px; text-anchor:start;\" transform=\"rotate(0, 149.096, 1353.07)\" x=\"149.096\" y=\"1353.07\">10</text>\n",
       "</g>\n",
       "<g clip-path=\"url(#clip7000)\">\n",
       "<text style=\"fill:#000000; fill-opacity:1; font-family:Arial,Helvetica Neue,Helvetica,sans-serif; font-size:38px; text-anchor:start;\" transform=\"rotate(0, 202.62, 1325.66)\" x=\"202.62\" y=\"1325.66\">0.3 </text>\n",
       "</g>\n",
       "<g clip-path=\"url(#clip7000)\">\n",
       "<text style=\"fill:#000000; fill-opacity:1; font-family:Arial,Helvetica Neue,Helvetica,sans-serif; font-size:48px; text-anchor:start;\" transform=\"rotate(0, 149.096, 1125.06)\" x=\"149.096\" y=\"1125.06\">10</text>\n",
       "</g>\n",
       "<g clip-path=\"url(#clip7000)\">\n",
       "<text style=\"fill:#000000; fill-opacity:1; font-family:Arial,Helvetica Neue,Helvetica,sans-serif; font-size:38px; text-anchor:start;\" transform=\"rotate(0, 202.62, 1097.65)\" x=\"202.62\" y=\"1097.65\">0.4 </text>\n",
       "</g>\n",
       "<g clip-path=\"url(#clip7000)\">\n",
       "<text style=\"fill:#000000; fill-opacity:1; font-family:Arial,Helvetica Neue,Helvetica,sans-serif; font-size:48px; text-anchor:start;\" transform=\"rotate(0, 149.096, 897.046)\" x=\"149.096\" y=\"897.046\">10</text>\n",
       "</g>\n",
       "<g clip-path=\"url(#clip7000)\">\n",
       "<text style=\"fill:#000000; fill-opacity:1; font-family:Arial,Helvetica Neue,Helvetica,sans-serif; font-size:38px; text-anchor:start;\" transform=\"rotate(0, 202.62, 869.636)\" x=\"202.62\" y=\"869.636\">0.5 </text>\n",
       "</g>\n",
       "<g clip-path=\"url(#clip7000)\">\n",
       "<text style=\"fill:#000000; fill-opacity:1; font-family:Arial,Helvetica Neue,Helvetica,sans-serif; font-size:48px; text-anchor:start;\" transform=\"rotate(0, 149.096, 669.035)\" x=\"149.096\" y=\"669.035\">10</text>\n",
       "</g>\n",
       "<g clip-path=\"url(#clip7000)\">\n",
       "<text style=\"fill:#000000; fill-opacity:1; font-family:Arial,Helvetica Neue,Helvetica,sans-serif; font-size:38px; text-anchor:start;\" transform=\"rotate(0, 202.62, 641.625)\" x=\"202.62\" y=\"641.625\">0.6 </text>\n",
       "</g>\n",
       "<g clip-path=\"url(#clip7000)\">\n",
       "<text style=\"fill:#000000; fill-opacity:1; font-family:Arial,Helvetica Neue,Helvetica,sans-serif; font-size:48px; text-anchor:start;\" transform=\"rotate(0, 149.096, 441.024)\" x=\"149.096\" y=\"441.024\">10</text>\n",
       "</g>\n",
       "<g clip-path=\"url(#clip7000)\">\n",
       "<text style=\"fill:#000000; fill-opacity:1; font-family:Arial,Helvetica Neue,Helvetica,sans-serif; font-size:38px; text-anchor:start;\" transform=\"rotate(0, 202.62, 413.614)\" x=\"202.62\" y=\"413.614\">0.7 </text>\n",
       "</g>\n",
       "<g clip-path=\"url(#clip7000)\">\n",
       "<text style=\"fill:#000000; fill-opacity:1; font-family:Arial,Helvetica Neue,Helvetica,sans-serif; font-size:48px; text-anchor:start;\" transform=\"rotate(0, 149.096, 213.013)\" x=\"149.096\" y=\"213.013\">10</text>\n",
       "</g>\n",
       "<g clip-path=\"url(#clip7000)\">\n",
       "<text style=\"fill:#000000; fill-opacity:1; font-family:Arial,Helvetica Neue,Helvetica,sans-serif; font-size:38px; text-anchor:start;\" transform=\"rotate(0, 202.62, 185.603)\" x=\"202.62\" y=\"185.603\">0.8 </text>\n",
       "</g>\n",
       "<g clip-path=\"url(#clip7000)\">\n",
       "<text style=\"fill:#000000; fill-opacity:1; font-family:Arial,Helvetica Neue,Helvetica,sans-serif; font-size:66px; text-anchor:middle;\" transform=\"rotate(0, 1322.3, 1559.48)\" x=\"1322.3\" y=\"1559.48\">Error</text>\n",
       "</g>\n",
       "<g clip-path=\"url(#clip7000)\">\n",
       "<text style=\"fill:#000000; fill-opacity:1; font-family:Arial,Helvetica Neue,Helvetica,sans-serif; font-size:66px; text-anchor:middle;\" transform=\"rotate(-90, 89.2861, 736.431)\" x=\"89.2861\" y=\"736.431\">Time (s)</text>\n",
       "</g>\n",
       "<polyline clip-path=\"url(#clip7002)\" style=\"stroke:#009af9; stroke-width:12; stroke-opacity:1; fill:none\" points=\"\n",
       "  2294.43,737.468 2054.3,696.015 1902.65,612.627 1679.29,603.314 1503.62,493.456 1397.19,458.623 1112.73,297.113 959.368,294.742 734.117,129.749 549.852,168.741 \n",
       "  350.181,86.2547 \n",
       "  \"/>\n",
       "<circle clip-path=\"url(#clip7002)\" style=\"fill:#000000; stroke:none; fill-opacity:1\" cx=\"2294.43\" cy=\"737.468\" r=\"18\"/>\n",
       "<circle clip-path=\"url(#clip7002)\" style=\"fill:#009af9; stroke:none; fill-opacity:1\" cx=\"2294.43\" cy=\"737.468\" r=\"14\"/>\n",
       "<circle clip-path=\"url(#clip7002)\" style=\"fill:#000000; stroke:none; fill-opacity:1\" cx=\"2054.3\" cy=\"696.015\" r=\"18\"/>\n",
       "<circle clip-path=\"url(#clip7002)\" style=\"fill:#009af9; stroke:none; fill-opacity:1\" cx=\"2054.3\" cy=\"696.015\" r=\"14\"/>\n",
       "<circle clip-path=\"url(#clip7002)\" style=\"fill:#000000; stroke:none; fill-opacity:1\" cx=\"1902.65\" cy=\"612.627\" r=\"18\"/>\n",
       "<circle clip-path=\"url(#clip7002)\" style=\"fill:#009af9; stroke:none; fill-opacity:1\" cx=\"1902.65\" cy=\"612.627\" r=\"14\"/>\n",
       "<circle clip-path=\"url(#clip7002)\" style=\"fill:#000000; stroke:none; fill-opacity:1\" cx=\"1679.29\" cy=\"603.314\" r=\"18\"/>\n",
       "<circle clip-path=\"url(#clip7002)\" style=\"fill:#009af9; stroke:none; fill-opacity:1\" cx=\"1679.29\" cy=\"603.314\" r=\"14\"/>\n",
       "<circle clip-path=\"url(#clip7002)\" style=\"fill:#000000; stroke:none; fill-opacity:1\" cx=\"1503.62\" cy=\"493.456\" r=\"18\"/>\n",
       "<circle clip-path=\"url(#clip7002)\" style=\"fill:#009af9; stroke:none; fill-opacity:1\" cx=\"1503.62\" cy=\"493.456\" r=\"14\"/>\n",
       "<circle clip-path=\"url(#clip7002)\" style=\"fill:#000000; stroke:none; fill-opacity:1\" cx=\"1397.19\" cy=\"458.623\" r=\"18\"/>\n",
       "<circle clip-path=\"url(#clip7002)\" style=\"fill:#009af9; stroke:none; fill-opacity:1\" cx=\"1397.19\" cy=\"458.623\" r=\"14\"/>\n",
       "<circle clip-path=\"url(#clip7002)\" style=\"fill:#000000; stroke:none; fill-opacity:1\" cx=\"1112.73\" cy=\"297.113\" r=\"18\"/>\n",
       "<circle clip-path=\"url(#clip7002)\" style=\"fill:#009af9; stroke:none; fill-opacity:1\" cx=\"1112.73\" cy=\"297.113\" r=\"14\"/>\n",
       "<circle clip-path=\"url(#clip7002)\" style=\"fill:#000000; stroke:none; fill-opacity:1\" cx=\"959.368\" cy=\"294.742\" r=\"18\"/>\n",
       "<circle clip-path=\"url(#clip7002)\" style=\"fill:#009af9; stroke:none; fill-opacity:1\" cx=\"959.368\" cy=\"294.742\" r=\"14\"/>\n",
       "<circle clip-path=\"url(#clip7002)\" style=\"fill:#000000; stroke:none; fill-opacity:1\" cx=\"734.117\" cy=\"129.749\" r=\"18\"/>\n",
       "<circle clip-path=\"url(#clip7002)\" style=\"fill:#009af9; stroke:none; fill-opacity:1\" cx=\"734.117\" cy=\"129.749\" r=\"14\"/>\n",
       "<circle clip-path=\"url(#clip7002)\" style=\"fill:#000000; stroke:none; fill-opacity:1\" cx=\"549.852\" cy=\"168.741\" r=\"18\"/>\n",
       "<circle clip-path=\"url(#clip7002)\" style=\"fill:#009af9; stroke:none; fill-opacity:1\" cx=\"549.852\" cy=\"168.741\" r=\"14\"/>\n",
       "<circle clip-path=\"url(#clip7002)\" style=\"fill:#000000; stroke:none; fill-opacity:1\" cx=\"350.181\" cy=\"86.2547\" r=\"18\"/>\n",
       "<circle clip-path=\"url(#clip7002)\" style=\"fill:#009af9; stroke:none; fill-opacity:1\" cx=\"350.181\" cy=\"86.2547\" r=\"14\"/>\n",
       "<polyline clip-path=\"url(#clip7002)\" style=\"stroke:#e26f46; stroke-width:12; stroke-opacity:1; fill:none\" points=\"\n",
       "  2294.43,1308.3 2054.3,1386.61 1902.65,1273.86 1679.29,1196.94 1503.62,1126.71 1397.19,1039.06 1112.73,981.647 959.368,847.321 734.117,763.357 549.852,657.61 \n",
       "  350.181,528.231 \n",
       "  \"/>\n",
       "<polygon clip-path=\"url(#clip7002)\" style=\"fill:#000000; fill-opacity:1\" points=\"\n",
       "  2274.43,1288.3 2274.43,1328.3 2314.43,1328.3 2314.43,1288.3 2274.43,1288.3 \n",
       "  \"/>\n",
       "<polygon clip-path=\"url(#clip7002)\" style=\"fill:#e26f46; fill-opacity:1\" points=\"\n",
       "  2278.43,1292.3 2278.43,1324.3 2310.43,1324.3 2310.43,1292.3 2278.43,1292.3 \n",
       "  \"/>\n",
       "<polygon clip-path=\"url(#clip7002)\" style=\"fill:#000000; fill-opacity:1\" points=\"\n",
       "  2034.3,1366.61 2034.3,1406.61 2074.3,1406.61 2074.3,1366.61 2034.3,1366.61 \n",
       "  \"/>\n",
       "<polygon clip-path=\"url(#clip7002)\" style=\"fill:#e26f46; fill-opacity:1\" points=\"\n",
       "  2038.3,1370.61 2038.3,1402.61 2070.3,1402.61 2070.3,1370.61 2038.3,1370.61 \n",
       "  \"/>\n",
       "<polygon clip-path=\"url(#clip7002)\" style=\"fill:#000000; fill-opacity:1\" points=\"\n",
       "  1882.65,1253.86 1882.65,1293.86 1922.65,1293.86 1922.65,1253.86 1882.65,1253.86 \n",
       "  \"/>\n",
       "<polygon clip-path=\"url(#clip7002)\" style=\"fill:#e26f46; fill-opacity:1\" points=\"\n",
       "  1886.65,1257.86 1886.65,1289.86 1918.65,1289.86 1918.65,1257.86 1886.65,1257.86 \n",
       "  \"/>\n",
       "<polygon clip-path=\"url(#clip7002)\" style=\"fill:#000000; fill-opacity:1\" points=\"\n",
       "  1659.29,1176.94 1659.29,1216.94 1699.29,1216.94 1699.29,1176.94 1659.29,1176.94 \n",
       "  \"/>\n",
       "<polygon clip-path=\"url(#clip7002)\" style=\"fill:#e26f46; fill-opacity:1\" points=\"\n",
       "  1663.29,1180.94 1663.29,1212.94 1695.29,1212.94 1695.29,1180.94 1663.29,1180.94 \n",
       "  \"/>\n",
       "<polygon clip-path=\"url(#clip7002)\" style=\"fill:#000000; fill-opacity:1\" points=\"\n",
       "  1483.62,1106.71 1483.62,1146.71 1523.62,1146.71 1523.62,1106.71 1483.62,1106.71 \n",
       "  \"/>\n",
       "<polygon clip-path=\"url(#clip7002)\" style=\"fill:#e26f46; fill-opacity:1\" points=\"\n",
       "  1487.62,1110.71 1487.62,1142.71 1519.62,1142.71 1519.62,1110.71 1487.62,1110.71 \n",
       "  \"/>\n",
       "<polygon clip-path=\"url(#clip7002)\" style=\"fill:#000000; fill-opacity:1\" points=\"\n",
       "  1377.19,1019.06 1377.19,1059.06 1417.19,1059.06 1417.19,1019.06 1377.19,1019.06 \n",
       "  \"/>\n",
       "<polygon clip-path=\"url(#clip7002)\" style=\"fill:#e26f46; fill-opacity:1\" points=\"\n",
       "  1381.19,1023.06 1381.19,1055.06 1413.19,1055.06 1413.19,1023.06 1381.19,1023.06 \n",
       "  \"/>\n",
       "<polygon clip-path=\"url(#clip7002)\" style=\"fill:#000000; fill-opacity:1\" points=\"\n",
       "  1092.73,961.647 1092.73,1001.65 1132.73,1001.65 1132.73,961.647 1092.73,961.647 \n",
       "  \"/>\n",
       "<polygon clip-path=\"url(#clip7002)\" style=\"fill:#e26f46; fill-opacity:1\" points=\"\n",
       "  1096.73,965.647 1096.73,997.647 1128.73,997.647 1128.73,965.647 1096.73,965.647 \n",
       "  \"/>\n",
       "<polygon clip-path=\"url(#clip7002)\" style=\"fill:#000000; fill-opacity:1\" points=\"\n",
       "  939.368,827.321 939.368,867.321 979.368,867.321 979.368,827.321 939.368,827.321 \n",
       "  \"/>\n",
       "<polygon clip-path=\"url(#clip7002)\" style=\"fill:#e26f46; fill-opacity:1\" points=\"\n",
       "  943.368,831.321 943.368,863.321 975.368,863.321 975.368,831.321 943.368,831.321 \n",
       "  \"/>\n",
       "<polygon clip-path=\"url(#clip7002)\" style=\"fill:#000000; fill-opacity:1\" points=\"\n",
       "  714.117,743.357 714.117,783.357 754.117,783.357 754.117,743.357 714.117,743.357 \n",
       "  \"/>\n",
       "<polygon clip-path=\"url(#clip7002)\" style=\"fill:#e26f46; fill-opacity:1\" points=\"\n",
       "  718.117,747.357 718.117,779.357 750.117,779.357 750.117,747.357 718.117,747.357 \n",
       "  \"/>\n",
       "<polygon clip-path=\"url(#clip7002)\" style=\"fill:#000000; fill-opacity:1\" points=\"\n",
       "  529.852,637.61 529.852,677.61 569.852,677.61 569.852,637.61 529.852,637.61 \n",
       "  \"/>\n",
       "<polygon clip-path=\"url(#clip7002)\" style=\"fill:#e26f46; fill-opacity:1\" points=\"\n",
       "  533.852,641.61 533.852,673.61 565.852,673.61 565.852,641.61 533.852,641.61 \n",
       "  \"/>\n",
       "<polygon clip-path=\"url(#clip7002)\" style=\"fill:#000000; fill-opacity:1\" points=\"\n",
       "  330.181,508.231 330.181,548.231 370.181,548.231 370.181,508.231 330.181,508.231 \n",
       "  \"/>\n",
       "<polygon clip-path=\"url(#clip7002)\" style=\"fill:#e26f46; fill-opacity:1\" points=\"\n",
       "  334.181,512.231 334.181,544.231 366.181,544.231 366.181,512.231 334.181,512.231 \n",
       "  \"/>\n",
       "<path clip-path=\"url(#clip7000)\" d=\"\n",
       "M1842.78 312.204 L2280.76 312.204 L2280.76 130.764 L1842.78 130.764  Z\n",
       "  \" fill=\"#ffffff\" fill-rule=\"evenodd\" fill-opacity=\"1\"/>\n",
       "<polyline clip-path=\"url(#clip7000)\" style=\"stroke:#000000; stroke-width:4; stroke-opacity:1; fill:none\" points=\"\n",
       "  1842.78,312.204 2280.76,312.204 2280.76,130.764 1842.78,130.764 1842.78,312.204 \n",
       "  \"/>\n",
       "<polyline clip-path=\"url(#clip7000)\" style=\"stroke:#009af9; stroke-width:12; stroke-opacity:1; fill:none\" points=\"\n",
       "  1866.78,191.244 2010.78,191.244 \n",
       "  \"/>\n",
       "<circle clip-path=\"url(#clip7000)\" style=\"fill:#000000; stroke:none; fill-opacity:1\" cx=\"1950.78\" cy=\"191.244\" r=\"25\"/>\n",
       "<circle clip-path=\"url(#clip7000)\" style=\"fill:#009af9; stroke:none; fill-opacity:1\" cx=\"1950.78\" cy=\"191.244\" r=\"21\"/>\n",
       "<g clip-path=\"url(#clip7000)\">\n",
       "<text style=\"fill:#000000; fill-opacity:1; font-family:Arial,Helvetica Neue,Helvetica,sans-serif; font-size:48px; text-anchor:start;\" transform=\"rotate(0, 2034.78, 208.744)\" x=\"2034.78\" y=\"208.744\">IRKGL16</text>\n",
       "</g>\n",
       "<polyline clip-path=\"url(#clip7000)\" style=\"stroke:#e26f46; stroke-width:12; stroke-opacity:1; fill:none\" points=\"\n",
       "  1866.78,251.724 2010.78,251.724 \n",
       "  \"/>\n",
       "<polygon clip-path=\"url(#clip7000)\" style=\"fill:#000000; fill-opacity:1\" points=\"\n",
       "  1922.78,223.724 1922.78,279.724 1978.78,279.724 1978.78,223.724 1922.78,223.724 \n",
       "  \"/>\n",
       "<polygon clip-path=\"url(#clip7000)\" style=\"fill:#e26f46; fill-opacity:1\" points=\"\n",
       "  1926.78,227.724 1926.78,275.724 1974.78,275.724 1974.78,227.724 1926.78,227.724 \n",
       "  \"/>\n",
       "<g clip-path=\"url(#clip7000)\">\n",
       "<text style=\"fill:#000000; fill-opacity:1; font-family:Arial,Helvetica Neue,Helvetica,sans-serif; font-size:48px; text-anchor:start;\" transform=\"rotate(0, 2034.78, 269.224)\" x=\"2034.78\" y=\"269.224\">IRKGL16</text>\n",
       "</g>\n",
       "</svg>\n"
      ]
     },
     "execution_count": 27,
     "metadata": {},
     "output_type": "execute_result"
    }
   ],
   "source": [
    "setups = [ Dict(:alg=>IRKGL16(),:adaptive=>false,:dts=>dts,:mixed_precision=>false) \n",
    "           Dict(:alg=>IRKGL16(),:adaptive=>false,:dts=>dts,:mixed_precision=>true,:low_prec_type=>Float64)\n",
    "]\n",
    "wp1 = WorkPrecisionSet(prob128,abstols,reltols,setups;appxsol=test_sol,save_everystep=false,numruns=1,maxiters=1000000)\n",
    "plot(wp1)"
   ]
  },
  {
   "cell_type": "markdown",
   "metadata": {},
   "source": [
    "### Dynamical Problem"
   ]
  },
  {
   "cell_type": "code",
   "execution_count": 29,
   "metadata": {},
   "outputs": [],
   "source": [
    "#ux=sol.u[end]\n",
    "#solx=ArrayPartition(ux[2,:,:],ux[1,:,:])\n",
    "#test_solx = TestSolution(tspan128,[solx]);"
   ]
  },
  {
   "cell_type": "code",
   "execution_count": 30,
   "metadata": {},
   "outputs": [],
   "source": [
    "#setups = [ Dict(:alg=>IRKGL163(),:adaptive=>false,:dts=>dts,:mixed_precision=>false) \n",
    "#           Dict(:alg=>IRKGL163(),:adaptive=>false,:dts=>dts,:mixed_precision=>true,:low_prec_type=>Float64)\n",
    "#]\n",
    "#wp2 = WorkPrecisionSet(probdyn128,abstols,reltols,setups;appxsol=test_solx,save_everystep=false,numruns=1,maxiters=1000000)\n",
    "#plot(wp2)"
   ]
  },
  {
   "cell_type": "code",
   "execution_count": 31,
   "metadata": {},
   "outputs": [],
   "source": [
    "#setups = [ Dict(:alg=>IRKGL163(),:adaptive=>false,:dts=>dts,:mixed_precision=>false) \n",
    "#           Dict(:alg=>IRKGL163(),:adaptive=>false,:dts=>dts,:mixed_precision=>true,:low_prec_type=>Float64)\n",
    "#]\n",
    "#wp3 = WorkPrecisionSet(probdyn128,abstols,reltols,setups;appxsol=test_solx,save_everystep=false,numruns=1,maxiters=1000000)\n",
    "#plot(wp3)"
   ]
  },
  {
   "cell_type": "markdown",
   "metadata": {},
   "source": [
    "<a href=\"#top\">Back to the top</a>"
   ]
  }
 ],
 "metadata": {
  "kernelspec": {
   "display_name": "Julia 1.3.1",
   "language": "julia",
   "name": "julia-1.3"
  },
  "language_info": {
   "file_extension": ".jl",
   "mimetype": "application/julia",
   "name": "julia",
   "version": "1.3.1"
  }
 },
 "nbformat": 4,
 "nbformat_minor": 2
}
