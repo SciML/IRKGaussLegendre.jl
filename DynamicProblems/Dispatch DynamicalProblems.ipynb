{
 "cells": [
  {
   "cell_type": "markdown",
   "metadata": {},
   "source": [
    "# Dispatch DynamicalProblems"
   ]
  },
  {
   "cell_type": "code",
   "execution_count": 1,
   "metadata": {},
   "outputs": [],
   "source": [
    "using Pkg\n",
    "#Pkg.add(\"AbstractTrees\")"
   ]
  },
  {
   "cell_type": "code",
   "execution_count": 1,
   "metadata": {},
   "outputs": [],
   "source": [
    "using OrdinaryDiffEq\n",
    "using AbstractTrees"
   ]
  },
  {
   "cell_type": "code",
   "execution_count": 5,
   "metadata": {},
   "outputs": [],
   "source": [
    "include(\"../examples/Pleiades.jl\")\n",
    "include(\"../examples/InitialPleiades.jl\")\n",
    "\n",
    "t0=0.0\n",
    "t1=10*1/1000  #3.0\n",
    "t1=3.0\n",
    "\n",
    "u064 =InitialPleiades(Float64)\n",
    "tspan64=(t0,t1)\n",
    "prob64 = ODEProblem(f,u064,tspan64);\n",
    "\n",
    "\n",
    "q064=copy(u064[1:14])\n",
    "v064=copy(u064[15:28])\n",
    "probdyn64 = DiffEqBase.DynamicalODEProblem(dotq,dotv,q064,v064,tspan64)\n",
    "\n",
    "prob2nd64 = SecondOrderODEProblem(f2nd!,v064,q064,tspan64);"
   ]
  },
  {
   "cell_type": "code",
   "execution_count": 4,
   "metadata": {},
   "outputs": [
    {
     "data": {
      "text/plain": [
       "ODEProblem{Array{Float64,1},Tuple{Float64,Float64},true,DiffEqBase.NullParameters,ODEFunction{true,typeof(f),LinearAlgebra.UniformScaling{Bool},Nothing,Nothing,Nothing,Nothing,Nothing,Nothing,Nothing,Nothing,Nothing,Nothing,Nothing},Base.Iterators.Pairs{Union{},Union{},Tuple{},NamedTuple{(),Tuple{}}},DiffEqBase.StandardODEProblem}"
      ]
     },
     "execution_count": 4,
     "metadata": {},
     "output_type": "execute_result"
    }
   ],
   "source": [
    "typeof(prob64)"
   ]
  },
  {
   "cell_type": "code",
   "execution_count": 5,
   "metadata": {},
   "outputs": [
    {
     "data": {
      "text/plain": [
       "ODEProblem{RecursiveArrayTools.ArrayPartition{Float64,Tuple{Array{Float64,1},Array{Float64,1}}},Tuple{Float64,Float64},true,DiffEqBase.NullParameters,DynamicalODEFunction{true,ODEFunction{true,typeof(dotq),LinearAlgebra.UniformScaling{Bool},Nothing,Nothing,Nothing,Nothing,Nothing,Nothing,Nothing,Nothing,Nothing,Nothing,Nothing},ODEFunction{true,typeof(dotv),LinearAlgebra.UniformScaling{Bool},Nothing,Nothing,Nothing,Nothing,Nothing,Nothing,Nothing,Nothing,Nothing,Nothing,Nothing},Tuple{LinearAlgebra.UniformScaling{Bool},LinearAlgebra.UniformScaling{Bool}},Nothing,Nothing,Nothing,Nothing,Nothing,Nothing,Nothing,Nothing,Nothing,Nothing,Nothing},Base.Iterators.Pairs{Union{},Union{},Tuple{},NamedTuple{(),Tuple{}}},DiffEqBase.StandardODEProblem}"
      ]
     },
     "execution_count": 5,
     "metadata": {},
     "output_type": "execute_result"
    }
   ],
   "source": [
    "typeof(probdyn64)"
   ]
  },
  {
   "cell_type": "code",
   "execution_count": 6,
   "metadata": {},
   "outputs": [
    {
     "data": {
      "text/plain": [
       "ODEProblem{RecursiveArrayTools.ArrayPartition{Float64,Tuple{Array{Float64,1},Array{Float64,1}}},Tuple{Float64,Float64},true,DiffEqBase.NullParameters,DynamicalODEFunction{true,ODEFunction{true,typeof(f2nd!),LinearAlgebra.UniformScaling{Bool},Nothing,Nothing,Nothing,Nothing,Nothing,Nothing,Nothing,Nothing,Nothing,Nothing,Nothing},ODEFunction{true,DiffEqBase.var\"#225#227\",LinearAlgebra.UniformScaling{Bool},Nothing,Nothing,Nothing,Nothing,Nothing,Nothing,Nothing,Nothing,Nothing,Nothing,Nothing},Tuple{LinearAlgebra.UniformScaling{Bool},LinearAlgebra.UniformScaling{Bool}},Nothing,Nothing,Nothing,Nothing,Nothing,Nothing,Nothing,Nothing,Nothing,Nothing,Nothing},Base.Iterators.Pairs{Union{},Union{},Tuple{},NamedTuple{(),Tuple{}}},SecondOrderODEProblem{true}}"
      ]
     },
     "execution_count": 6,
     "metadata": {},
     "output_type": "execute_result"
    }
   ],
   "source": [
    "typeof(prob2nd64)"
   ]
  },
  {
   "cell_type": "code",
   "execution_count": 6,
   "metadata": {},
   "outputs": [
    {
     "data": {
      "text/plain": [
       "true"
      ]
     },
     "execution_count": 6,
     "metadata": {},
     "output_type": "execute_result"
    }
   ],
   "source": [
    "ODEProblem<:DiffEqBase.AbstractODEProblem\n",
    "typeof(prob64)<:DiffEqBase.AbstractODEProblem"
   ]
  },
  {
   "cell_type": "code",
   "execution_count": 7,
   "metadata": {},
   "outputs": [
    {
     "data": {
      "text/plain": [
       "false"
      ]
     },
     "execution_count": 7,
     "metadata": {},
     "output_type": "execute_result"
    }
   ],
   "source": [
    "DynamicalODEProblem<:DiffEqBase.AbstractODEProblem   # False\n",
    "typeof(probdyn64) <:DiffEqBase.AbstractODEProblem    # true\n",
    "typeof(probdyn64) <:DiffEqBase.AbstractDynamicalODEProblem"
   ]
  },
  {
   "cell_type": "code",
   "execution_count": 6,
   "metadata": {},
   "outputs": [
    {
     "data": {
      "text/plain": [
       "(true, false)"
      ]
     },
     "execution_count": 6,
     "metadata": {},
     "output_type": "execute_result"
    }
   ],
   "source": [
    "(typeof(prob64.f)<:ODEFunction, typeof(prob64.f)<:DynamicalODEFunction)"
   ]
  },
  {
   "cell_type": "code",
   "execution_count": 5,
   "metadata": {},
   "outputs": [
    {
     "data": {
      "text/plain": [
       "true"
      ]
     },
     "execution_count": 5,
     "metadata": {},
     "output_type": "execute_result"
    }
   ],
   "source": [
    "typeof(probdyn64.f) <:DynamicalODEFunction"
   ]
  },
  {
   "cell_type": "code",
   "execution_count": 7,
   "metadata": {},
   "outputs": [
    {
     "data": {
      "text/plain": [
       "true"
      ]
     },
     "execution_count": 7,
     "metadata": {},
     "output_type": "execute_result"
    }
   ],
   "source": [
    "typeof(prob2nd64.f) <:DynamicalODEFunction"
   ]
  },
  {
   "cell_type": "code",
   "execution_count": 9,
   "metadata": {},
   "outputs": [],
   "source": [
    "AbstractTrees.children(x::Type) = subtypes(x)"
   ]
  },
  {
   "cell_type": "code",
   "execution_count": 10,
   "metadata": {},
   "outputs": [
    {
     "name": "stdout",
     "output_type": "stream",
     "text": [
      "AbstractODEProblem\n",
      "├─ AbstractAnalyticalProblem\n",
      "│  └─ AnalyticalProblem\n",
      "├─ AbstractBVProblem\n",
      "│  └─ BVProblem\n",
      "├─ AbstractDiscreteProblem\n",
      "│  └─ DiscreteProblem\n",
      "├─ AbstractSecondOrderODEProblem\n",
      "└─ ODEProblem\n"
     ]
    }
   ],
   "source": [
    "print_tree(DiffEqBase.AbstractODEProblem)"
   ]
  },
  {
   "cell_type": "code",
   "execution_count": 11,
   "metadata": {},
   "outputs": [
    {
     "data": {
      "text/plain": [
       "show_supertypes (generic function with 1 method)"
      ]
     },
     "execution_count": 11,
     "metadata": {},
     "output_type": "execute_result"
    }
   ],
   "source": [
    " function show_supertypes(typ) \n",
    "     println(typ) \n",
    "     while typ != Any \n",
    "         typ = supertype(typ) \n",
    "         println(\" <: \", typ) \n",
    "     end \n",
    " end  \n"
   ]
  },
  {
   "cell_type": "code",
   "execution_count": 12,
   "metadata": {},
   "outputs": [
    {
     "name": "stdout",
     "output_type": "stream",
     "text": [
      "ODEProblem\n",
      " <: DiffEqBase.AbstractODEProblem{uType,tType,isinplace} where isinplace where tType where uType\n",
      " <: DiffEqBase.DEProblem\n",
      " <: Any\n"
     ]
    }
   ],
   "source": [
    "show_supertypes(ODEProblem)"
   ]
  },
  {
   "cell_type": "code",
   "execution_count": 13,
   "metadata": {},
   "outputs": [
    {
     "name": "stdout",
     "output_type": "stream",
     "text": [
      "DynamicalODEProblem\n",
      " <: DiffEqBase.AbstractDynamicalODEProblem\n",
      " <: Any\n"
     ]
    }
   ],
   "source": [
    "show_supertypes(DynamicalODEProblem)"
   ]
  },
  {
   "cell_type": "code",
   "execution_count": 14,
   "metadata": {},
   "outputs": [
    {
     "name": "stdout",
     "output_type": "stream",
     "text": [
      "AbstractDynamicalODEProblem\n",
      "├─ DynamicalODEProblem\n",
      "└─ SecondOrderODEProblem\n"
     ]
    }
   ],
   "source": [
    "print_tree(DiffEqBase.AbstractDynamicalODEProblem)"
   ]
  },
  {
   "cell_type": "code",
   "execution_count": null,
   "metadata": {},
   "outputs": [],
   "source": []
  }
 ],
 "metadata": {
  "kernelspec": {
   "display_name": "Julia 1.4.2",
   "language": "julia",
   "name": "julia-1.4"
  },
  "language_info": {
   "file_extension": ".jl",
   "mimetype": "application/julia",
   "name": "julia",
   "version": "1.4.2"
  }
 },
 "nbformat": 4,
 "nbformat_minor": 2
}
