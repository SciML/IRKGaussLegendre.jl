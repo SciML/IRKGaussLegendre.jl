{
 "cells": [
  {
   "cell_type": "markdown",
   "metadata": {},
   "source": [
    "# Solar-System-Problem:   Energy conservation"
   ]
  },
  {
   "cell_type": "markdown",
   "metadata": {},
   "source": [
    "<ul id=\"top\">\n",
    "<li><a href=\"#Loading-packages\"> \n",
    "             Loading Packages</a></li>\n",
    "    \n",
    "<li><a href=\"#Computer-properties\"> \n",
    "             Computer properties</a></li>  \n",
    "\n",
    "<li><a href=\"#Initial-value-problem:-Solar-System-Problem\">\n",
    "             Initial value problem: Solar-System-Problem</a></li>\n",
    "\n",
    "<li><a href=\"#Energy errors\">\n",
    "             Energy-errors</a></li>\n",
    "             \n",
    "<li><a href=\"#Save/Load Data\">\n",
    "             Save/Load-Data</a></li> \n",
    "             \n",
    "<li><a href=\"#Plot for Juliacon2020\">\n",
    "            Plot-for-Juliacon2020</a></li>  \n",
    "\n",
    "</ul>  "
   ]
  },
  {
   "cell_type": "markdown",
   "metadata": {},
   "source": [
    "In the following file, the following functions are defined: NbodyEnergy(u,Gm), NbodyODE!(du,u,Gm,t),  where\n",
    "\n",
    "$$\n",
    "u = \n",
    "\\left(\\begin{matrix}\n",
    "v_1 & \\cdots & v_N\\\\\n",
    "q_1 & \\cdots & q_N\n",
    "\\end{matrix}\n",
    "\\right) \\in \\mathbb{R}^{2 \\times 3\\times N}, \\quad\n",
    "Gm = (G\\,  m_1, \\ldots,G\\,  m_N) \\in \\mathbb{R}^N.\n",
    "$$\n"
   ]
  },
  {
   "cell_type": "markdown",
   "metadata": {},
   "source": [
    "The energy, as a function of the positions $q_1,\\ldots,q_N \\in \\mathbb{R}^3$ and the velocities $v_1,\\ldots,v_N \\in \\mathbb{R}^3$ of the $N$ bodies is:\n",
    "$$\n",
    "\\begin{split}\n",
    "\\mathrm{Energy}(q_1,\\ldots,q_N,v_1,\\ldots,v_N) = \n",
    "\\frac12 \\sum_{i=1}^{N} m_i \\, \\|v_i\\|^2\n",
    "- G \\sum_{1\\leq i < j \\leq N} \\frac{m_i m_j}{\\|q_i-q_j\\|}.\n",
    "\\end{split}\n",
    "$$\n",
    "\n",
    "\n",
    "The ODE system of the N-body problem,\n",
    "as a function of the positions $q_1,\\ldots,q_N \\in \\mathbb{R}^3$ and the velocities $v_1,\\ldots,v_N \\in \\mathbb{R}^3$ of the $N$ bodies is:\n",
    "$$\n",
    "\\begin{split}\n",
    "\\frac{d}{dt} q_i &= v_i, \\\\\n",
    "\\frac{d}{dt} v_i &= G\\, \n",
    "\\sum_{j \\neq i} \\frac{m_j}{\\|q_j-q_i\\|^3}\\,\n",
    "(q_j-q_i).\n",
    "\\end{split}\n",
    "$$\n",
    "This system of ODEs can be writen in compact form as\n",
    "$$\n",
    "\\frac{d u}{dt} = f(t,u,Gm)\n",
    "$$\n"
   ]
  },
  {
   "cell_type": "markdown",
   "metadata": {},
   "source": [
    "We consider $N=9$ bodies of solar system: the Sun, Mercury, Venus, Earth-Moon, Mars, Jupiter, Saturn, Uranus, Neptune,  Pluto.\n",
    "The initial values $u_0$ are taken from DE430, Julian day (TDB) 2440400.5 (June 28, 1969)."
   ]
  },
  {
   "cell_type": "markdown",
   "metadata": {},
   "source": [
    "## Loading packages"
   ]
  },
  {
   "cell_type": "code",
   "execution_count": 1,
   "metadata": {},
   "outputs": [],
   "source": [
    "using OrdinaryDiffEq\n",
    "using DiffEqDevTools,BenchmarkTools\n",
    "using Plots,LinearAlgebra\n",
    "using Dates,LaTeXStrings\n",
    "using JLD2, FileIO\n",
    "#using IRKGaussLegendre\n",
    "\n",
    "include(\"../../IRKGaussLegendre.jl/src/IRKGaussLegendre.jl\")\n",
    "using .IRKGaussLegendre"
   ]
  },
  {
   "cell_type": "markdown",
   "metadata": {},
   "source": [
    "<a href=\"#top\">Back to the top</a>\n",
    "\n",
    "## Computer properties"
   ]
  },
  {
   "cell_type": "code",
   "execution_count": 2,
   "metadata": {},
   "outputs": [
    {
     "data": {
      "text/plain": [
       "1"
      ]
     },
     "execution_count": 2,
     "metadata": {},
     "output_type": "execute_result"
    }
   ],
   "source": [
    "#export JULIA_NUM_THREADS=2\n",
    "Threads.nthreads()"
   ]
  },
  {
   "cell_type": "code",
   "execution_count": 3,
   "metadata": {},
   "outputs": [],
   "source": [
    "#;cat /proc/cpuinfo # on Linux machines"
   ]
  },
  {
   "cell_type": "code",
   "execution_count": 4,
   "metadata": {},
   "outputs": [
    {
     "data": {
      "text/plain": [
       "8"
      ]
     },
     "execution_count": 4,
     "metadata": {},
     "output_type": "execute_result"
    }
   ],
   "source": [
    "using Hwloc\n",
    "Hwloc.num_physical_cores()"
   ]
  },
  {
   "cell_type": "markdown",
   "metadata": {},
   "source": [
    "<a href=\"#top\">Back to the top</a>\n",
    "\n",
    "## Initial value problem: Solar-System-Problem"
   ]
  },
  {
   "cell_type": "code",
   "execution_count": 5,
   "metadata": {},
   "outputs": [
    {
     "data": {
      "text/plain": [
       "(Array{Float64, 3}, Vector{Float64}, Tuple{Float64, Int64}, Array{BigFloat, 3}, Vector{BigFloat}, Tuple{BigFloat, BigFloat})"
      ]
     },
     "execution_count": 5,
     "metadata": {},
     "output_type": "execute_result"
    }
   ],
   "source": [
    "setprecision(BigFloat, 108);\n",
    "include(\"../ODEProblems/Nbody.jl\")\n",
    "include(\"../ODEProblems/InitialNBody9.jl\")\n",
    "\n",
    "dt=6\n",
    "t0=0.0\n",
    "t1=10^6\n",
    "\n",
    "\n",
    "u064,Gm64 =InitialNBody9(Float64)\n",
    "tspan64=(t0,t1)\n",
    "prob64 = ODEProblem(NbodyODE!,u064,tspan64,Gm64);\n",
    "\n",
    "u0128,Gm128=InitialNBody9(BigFloat)\n",
    "tspan128=(BigFloat(t0),BigFloat(t1))\n",
    "prob128 = ODEProblem(NbodyODE!,u0128,tspan128,Gm128)\n",
    "\n",
    "q064=u064[2,:,:]\n",
    "v064=u064[1,:,:]\n",
    "probdyn64 = DynamicalODEProblem(NbodyODEq!,NbodyODEv!,q064,v064,tspan64,Gm64);\n",
    "prob2nd64 = SecondOrderODEProblem(NbodyODE2nd!,v064,q064,tspan64,Gm64);\n",
    "\n",
    "\n",
    "q0128=u0128[2,:,:]\n",
    "v0128=u0128[1,:,:]\n",
    "probdyn128 = DynamicalODEProblem(NbodyODEq!,NbodyODEv!,q0128,v0128,tspan128,Gm128);\n",
    "prob2nd128 = SecondOrderODEProblem(NbodyODE2nd!,v0128,q0128,tspan128,Gm128);\n",
    "\n",
    "\n",
    "mstep=1000\n",
    "vsaveat=100.\n",
    "\n",
    "(typeof(u064),typeof(Gm64),typeof(tspan64),typeof(u0128),typeof(Gm128),typeof(tspan128))"
   ]
  },
  {
   "cell_type": "markdown",
   "metadata": {},
   "source": [
    "<a href=\"#top\">Back to the top</a>\n",
    "\n",
    "## Energy errors"
   ]
  },
  {
   "cell_type": "code",
   "execution_count": 6,
   "metadata": {},
   "outputs": [
    {
     "data": {
      "text/plain": [
       "-9.831951850714509861613682908577622008275351805284600444356653442764997668898217e-12"
      ]
     },
     "execution_count": 6,
     "metadata": {},
     "output_type": "execute_result"
    }
   ],
   "source": [
    "setprecision(BigFloat, 256)\n",
    "\n",
    "u0256,Gm256=InitialNBody9(BigFloat)\n",
    "\n",
    "E0=NbodyEnergy(u0256,Gm256)\n"
   ]
  },
  {
   "cell_type": "markdown",
   "metadata": {},
   "source": [
    "### Numerical integrations"
   ]
  },
  {
   "cell_type": "code",
   "execution_count": 7,
   "metadata": {},
   "outputs": [
    {
     "data": {
      "text/plain": [
       "DiffEqBase.DEStats\n",
       "Number of function 1 evaluations:                  7977597\n",
       "Number of function 2 evaluations:                  0\n",
       "Number of W matrix evaluations:                    0\n",
       "Number of linear solves:                           0\n",
       "Number of Jacobians created:                       0\n",
       "Number of nonlinear solver iterations:             0\n",
       "Number of nonlinear solver convergence failures:   0\n",
       "Number of rootfind condition calls:                0\n",
       "Number of accepted steps:                          166667\n",
       "Number of rejected steps:                          0"
      ]
     },
     "execution_count": 7,
     "metadata": {},
     "output_type": "execute_result"
    }
   ],
   "source": [
    "sol1= solve(probdyn64,IRKGL16(mstep=mstep),adaptive=false, dt=6)\n",
    "sol1.destats"
   ]
  },
  {
   "cell_type": "code",
   "execution_count": null,
   "metadata": {},
   "outputs": [],
   "source": [
    "sol2= solve(probdyn64,IRKGL16(mstep=mstep,mixed_precision=true),adaptive=false,dt=6)\n",
    "sol2.destats"
   ]
  },
  {
   "cell_type": "code",
   "execution_count": null,
   "metadata": {},
   "outputs": [],
   "source": [
    "sol11 =solve(probdyn64,Vern9(), abstol=1e-13,reltol=1e-13) #saveat=vsaveat)\n",
    "sol11.destats"
   ]
  },
  {
   "cell_type": "code",
   "execution_count": null,
   "metadata": {},
   "outputs": [],
   "source": [
    "sol21= solve(prob2nd64,DPRKN12(),abstol=1e-13,reltol=1e-13) #saveat=vsaveat)\n",
    "sol21.destats"
   ]
  },
  {
   "cell_type": "code",
   "execution_count": null,
   "metadata": {},
   "outputs": [],
   "source": [
    "k=1000\n",
    "ΔE1 = map(x->NbodyEnergy2(BigFloat.(x),Gm256), sol1.u)./E0.-1\n",
    "ΔE2 = map(x->NbodyEnergy2(BigFloat.(x),Gm256), sol2.u)./E0.-1\n",
    "ΔE11 = map(x->NbodyEnergy2(BigFloat.(x),Gm256), sol11.u[1:k:end])./E0.-1\n",
    "ΔE21 = map(x->NbodyEnergy(BigFloat.(x),Gm256), sol21.u[1:k:end])./E0.-1\n",
    "(Float32(maximum(abs.(ΔE1))),Float32(maximum(abs.(ΔE1))),Float32(maximum(abs.(ΔE11))), Float32(maximum(abs.(ΔE21))))"
   ]
  },
  {
   "cell_type": "code",
   "execution_count": null,
   "metadata": {},
   "outputs": [],
   "source": [
    "plot(title=\"Energy conservation\", xlabel=\"t\", ylabel=\"ΔE\")\n",
    "plot!(sol1.t,log10.(abs.(ΔE1)), label=\"IRKGL16\", color=\"red\")\n",
    "plot!(sol2.t,log10.(abs.(ΔE2)), label=\"IRKGL16-MIX\", color=\"black\")\n",
    "plot!(sol11.t[1:k:end],log10.(abs.(ΔE11)), label=\"Vern9\", color=\"blue\")\n",
    "plot!(sol21.t[1:k:end],log10.(abs.(ΔE21)), label=\"DPRKN12\", color=\"green\")"
   ]
  },
  {
   "cell_type": "markdown",
   "metadata": {},
   "source": [
    "<a href=\"#top\">Back to the top</a>"
   ]
  },
  {
   "cell_type": "markdown",
   "metadata": {},
   "source": [
    "## Save/Load Data"
   ]
  },
  {
   "cell_type": "code",
   "execution_count": null,
   "metadata": {},
   "outputs": [],
   "source": [
    "#save(\"./Data/output/OutN9BodyEnergy.jld2\", \"ΔE1\", ΔE1, \"ΔE2\", ΔE2, \"ΔE11\", ΔE11, \"ΔE21\", ΔE21,     \n",
    "#                                     \"sol1t\", sol1.t, \"sol2t\", sol2.t,\n",
    "#                                      \"sol11t\", sol11.t[1:k:end], \"sol21t\", sol21.t[1:k:end])"
   ]
  },
  {
   "cell_type": "markdown",
   "metadata": {},
   "source": [
    "## Plot for Juliacon2020"
   ]
  },
  {
   "cell_type": "code",
   "execution_count": null,
   "metadata": {},
   "outputs": [],
   "source": [
    "sol1t=load(\"./Data/output/OutN9BodyEnergy.jld2\", \"sol1t\")\n",
    "ΔE1=load(\"./Data/output/OutN9BodyEnergy.jld2\", \"ΔE1\")\n",
    "sol21t=load(\"./Data/output/OutN9BodyEnergy.jld2\", \"sol21t\")\n",
    "ΔE21=load(\"./Data/output/OutN9BodyEnergy.jld2\", \"ΔE21\");"
   ]
  },
  {
   "cell_type": "code",
   "execution_count": null,
   "metadata": {},
   "outputs": [],
   "source": [
    "plot(title=\"Energy conservation (Float64)\", xlabel=\"t (days)\", ylabel=L\"\\Delta E\",size= (600,400))    \n",
    "plot!(sol1t,log10.(abs.(ΔE1)), label=\"IRKGL16\", color=\"red\",legend=:bottomright)\n",
    "plot!(sol21t,log10.(abs.(ΔE21)), label=\"DPRKN12\", color=\"green\")"
   ]
  },
  {
   "cell_type": "code",
   "execution_count": null,
   "metadata": {},
   "outputs": [],
   "source": [
    "plot(title=\"Energy conservation (Float64)\", xlabel=\"t (days)\", ylabel=L\"\\Delta E\",size= (600,200))    \n",
    "plot!(sol1t,log10.(abs.(ΔE1)), label=\"IRKGL16\", color=\"red\")\n",
    "plot!(sol21t,log10.(abs.(ΔE21)), label=\"DPRKN12\", color=\"green\")"
   ]
  },
  {
   "cell_type": "code",
   "execution_count": null,
   "metadata": {},
   "outputs": [],
   "source": []
  }
 ],
 "metadata": {
  "@webio": {
   "lastCommId": null,
   "lastKernelId": null
  },
  "kernelspec": {
   "display_name": "Julia 1.6.6",
   "language": "julia",
   "name": "julia-1.6"
  },
  "language_info": {
   "file_extension": ".jl",
   "mimetype": "application/julia",
   "name": "julia",
   "version": "1.6.6"
  }
 },
 "nbformat": 4,
 "nbformat_minor": 2
}
